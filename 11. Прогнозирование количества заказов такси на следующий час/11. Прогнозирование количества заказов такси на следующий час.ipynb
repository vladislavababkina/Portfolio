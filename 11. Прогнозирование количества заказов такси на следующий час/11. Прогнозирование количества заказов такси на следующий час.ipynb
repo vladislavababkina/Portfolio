{
 "cells": [
  {
   "cell_type": "markdown",
   "metadata": {},
   "source": [
    "<div style=\"border:solid Chocolate 2px; padding: 40px\">\n",
    " \n",
    "<b> Владислава, привет!👋</b> \n",
    "\n",
    "Меня зовут Кирилл Васильев, я буду ревьюером твоего проекта. Я предлагаю общаться на «ты», но если привычнее на «вы», просто скажи об этом! \n",
    "\n",
    "Я буду оставлять комментарии в твоем проекте. Пожалуйста, не удаляй их, они могут быть полезны в случае повторной проверки.\n",
    "\n",
    "Ты можешь реагировать на комментарии как просто написав их в Markdown-ячейках, так и выделив их цветом. Например, <font color='blue'>синим</font>. Второй способ, на мой взгляд, удобнее.\n",
    "\n",
    "Свои комментарии я буду обозначать <font color='green'>зеленым</font>, <font color='gold'>желтым</font> и <font color='red'>красным</font> цветами, например:\n",
    " \n",
    "<br/>\n",
    "\n",
    "<div class=\"alert alert-success\">\n",
    "<h2> Комментарий ревьюера <a class=\"tocSkip\"> </h2>\n",
    "\n",
    "<b>Все отлично!👍:</b> В случае, если решение на отдельном шаге является полностью правильным. Здесь же я могу давать советы и предложения.\n",
    "</div>\n",
    "\n",
    "<br/>\n",
    "\n",
    "<div class=\"alert alert-warning\">\n",
    "    <h2> Комментарий ревьюера <a class=\"tocSkip\"> </h2>\n",
    "    \n",
    "<b>Некоторые замечания и рекомендации💡:</b> В случае, когда решение на отдельном шаге станет еще лучше, если внести небольшие коррективы.\n",
    "</div>\n",
    "\n",
    "\n",
    "<br/>\n",
    "<div class=\"alert alert-block alert-danger\">\n",
    "<h2> Комментарий ревьюера <a class=\"tocSkip\"></h2>\n",
    "\n",
    "    \n",
    "<b>На доработку🤔:</b>\n",
    " В случае, когда решение на отдельном шаге требует существенной переработки и внесения правок. Напоминаю, что проект не может быть принят с первого раза, если ревью содержит комментарии, рекомендующие доработать шаги.\n",
    "</div>\n",
    "    \n",
    "Увидев у тебя неточность, в первый раз я лишь укажу на ее наличие и дам тебе возможность самому найти и исправить ее. На реальной работе твой руководитель будет поступать также. Но если ты пока не справишься с такой задачей - при следующей проверке я дам более точную подсказку! "
   ]
  },
  {
   "cell_type": "markdown",
   "metadata": {
    "toc": true
   },
   "source": [
    "<h1>Содержание<span class=\"tocSkip\"></span></h1>\n",
    "<div class=\"toc\"><ul class=\"toc-item\"><li><span><a href=\"#Подготовка\" data-toc-modified-id=\"Подготовка-1\"><span class=\"toc-item-num\">1&nbsp;&nbsp;</span>Подготовка</a></span></li><li><span><a href=\"#Анализ\" data-toc-modified-id=\"Анализ-2\"><span class=\"toc-item-num\">2&nbsp;&nbsp;</span>Анализ</a></span></li><li><span><a href=\"#Обучение\" data-toc-modified-id=\"Обучение-3\"><span class=\"toc-item-num\">3&nbsp;&nbsp;</span>Обучение</a></span><ul class=\"toc-item\"><li><span><a href=\"#Cat-Boost\" data-toc-modified-id=\"Cat-Boost-3.1\"><span class=\"toc-item-num\">3.1&nbsp;&nbsp;</span>Cat Boost</a></span></li><li><span><a href=\"#LGBMRegressor\" data-toc-modified-id=\"LGBMRegressor-3.2\"><span class=\"toc-item-num\">3.2&nbsp;&nbsp;</span>LGBMRegressor</a></span></li><li><span><a href=\"#RandomForestRegressor\" data-toc-modified-id=\"RandomForestRegressor-3.3\"><span class=\"toc-item-num\">3.3&nbsp;&nbsp;</span>RandomForestRegressor</a></span></li><li><span><a href=\"#LinearRegression\" data-toc-modified-id=\"LinearRegression-3.4\"><span class=\"toc-item-num\">3.4&nbsp;&nbsp;</span>LinearRegression</a></span></li></ul></li><li><span><a href=\"#Тестирование\" data-toc-modified-id=\"Тестирование-4\"><span class=\"toc-item-num\">4&nbsp;&nbsp;</span>Тестирование</a></span></li></ul></div>"
   ]
  },
  {
   "cell_type": "markdown",
   "metadata": {},
   "source": [
    "#  Прогнозирование заказов такси"
   ]
  },
  {
   "cell_type": "markdown",
   "metadata": {},
   "source": [
    "Компания «Чётенькое такси» собрала исторические данные о заказах такси в аэропортах. Чтобы привлекать больше водителей в период пиковой нагрузки, нужно спрогнозировать количество заказов такси на следующий час. Постройте модель для такого предсказания.\n",
    "\n",
    "Значение метрики *RMSE* на тестовой выборке должно быть не больше 48.\n",
    "\n",
    "Вам нужно:\n",
    "\n",
    "1. Загрузить данные и выполнить их ресемплирование по одному часу.\n",
    "2. Проанализировать данные.\n",
    "3. Обучить разные модели с различными гиперпараметрами. Сделать тестовую выборку размером 10% от исходных данных.\n",
    "4. Проверить данные на тестовой выборке и сделать выводы.\n",
    "\n",
    "\n",
    "Данные лежат в файле `taxi.csv`. Количество заказов находится в столбце `num_orders` (от англ. *number of orders*, «число заказов»)."
   ]
  },
  {
   "cell_type": "markdown",
   "metadata": {},
   "source": [
    "## Подготовка"
   ]
  },
  {
   "cell_type": "code",
   "execution_count": 1,
   "metadata": {},
   "outputs": [],
   "source": [
    "import pandas as pd\n",
    "import numpy as np\n",
    "from sklearn.model_selection import train_test_split,GridSearchCV, TimeSeriesSplit, cross_val_score\n",
    "from sklearn.linear_model import LinearRegression\n",
    "from sklearn.metrics import mean_squared_error\n",
    "from statsmodels.tsa.seasonal import seasonal_decompose\n",
    "import matplotlib.pyplot as plt\n",
    "from statsmodels. tsa.stattools import adfuller\n",
    "import statsmodels.api as sm\n",
    "from statsmodels.graphics import tsaplots\n",
    "from sklearn.preprocessing import OneHotEncoder, StandardScaler, OrdinalEncoder\n",
    "import catboost as cb\n",
    "from lightgbm import LGBMRegressor\n",
    "from sklearn.ensemble import RandomForestRegressor\n",
    "from sklearn.linear_model import LinearRegression\n",
    "import warnings\n",
    "warnings.filterwarnings('ignore')"
   ]
  },
  {
   "cell_type": "code",
   "execution_count": 2,
   "metadata": {},
   "outputs": [],
   "source": [
    "try:\n",
    "    data = pd.read_csv('/datasets/taxi.csv',index_col=[0], parse_dates=[0])\n",
    "except:\n",
    "    data = pd.read_csv('https://code.s3.yandex.net/datasets/taxi.csv',index_col=[0], parse_dates=[0]) "
   ]
  },
  {
   "cell_type": "markdown",
   "metadata": {},
   "source": [
    "<div class=\"alert alert-success\">\n",
    "<h2> Комментарий ревьюера <a class=\"tocSkip\"> </h2>\n",
    "\n",
    "👍 Описание задачи есть, библиотеки загружены. Данные получены верно, даты обработаны, мы их переместили в индекс.Полет нормальный :)\n",
    "</div>\n"
   ]
  },
  {
   "cell_type": "code",
   "execution_count": 3,
   "metadata": {},
   "outputs": [],
   "source": [
    "data = data.resample('1H').sum()"
   ]
  },
  {
   "cell_type": "markdown",
   "metadata": {},
   "source": [
    "<div class=\"alert alert-success\">\n",
    "<h2> Комментарий ревьюера <a class=\"tocSkip\"> </h2>\n",
    "\n",
    "👍 Ресемплирование провели верно. Отлично, что используем суммирование. Такой вариант интуитивно понятен и удобен.\n",
    "</div>\n"
   ]
  },
  {
   "cell_type": "code",
   "execution_count": 4,
   "metadata": {},
   "outputs": [
    {
     "data": {
      "text/plain": [
       "True"
      ]
     },
     "execution_count": 4,
     "metadata": {},
     "output_type": "execute_result"
    }
   ],
   "source": [
    "data.index.is_monotonic"
   ]
  },
  {
   "cell_type": "code",
   "execution_count": 5,
   "metadata": {},
   "outputs": [
    {
     "data": {
      "text/html": [
       "<div>\n",
       "<style scoped>\n",
       "    .dataframe tbody tr th:only-of-type {\n",
       "        vertical-align: middle;\n",
       "    }\n",
       "\n",
       "    .dataframe tbody tr th {\n",
       "        vertical-align: top;\n",
       "    }\n",
       "\n",
       "    .dataframe thead th {\n",
       "        text-align: right;\n",
       "    }\n",
       "</style>\n",
       "<table border=\"1\" class=\"dataframe\">\n",
       "  <thead>\n",
       "    <tr style=\"text-align: right;\">\n",
       "      <th></th>\n",
       "      <th>num_orders</th>\n",
       "    </tr>\n",
       "    <tr>\n",
       "      <th>datetime</th>\n",
       "      <th></th>\n",
       "    </tr>\n",
       "  </thead>\n",
       "  <tbody>\n",
       "    <tr>\n",
       "      <th>2018-03-01 00:00:00</th>\n",
       "      <td>124</td>\n",
       "    </tr>\n",
       "    <tr>\n",
       "      <th>2018-03-01 01:00:00</th>\n",
       "      <td>85</td>\n",
       "    </tr>\n",
       "    <tr>\n",
       "      <th>2018-03-01 02:00:00</th>\n",
       "      <td>71</td>\n",
       "    </tr>\n",
       "    <tr>\n",
       "      <th>2018-03-01 03:00:00</th>\n",
       "      <td>66</td>\n",
       "    </tr>\n",
       "    <tr>\n",
       "      <th>2018-03-01 04:00:00</th>\n",
       "      <td>43</td>\n",
       "    </tr>\n",
       "    <tr>\n",
       "      <th>2018-03-01 05:00:00</th>\n",
       "      <td>6</td>\n",
       "    </tr>\n",
       "    <tr>\n",
       "      <th>2018-03-01 06:00:00</th>\n",
       "      <td>12</td>\n",
       "    </tr>\n",
       "    <tr>\n",
       "      <th>2018-03-01 07:00:00</th>\n",
       "      <td>15</td>\n",
       "    </tr>\n",
       "    <tr>\n",
       "      <th>2018-03-01 08:00:00</th>\n",
       "      <td>34</td>\n",
       "    </tr>\n",
       "    <tr>\n",
       "      <th>2018-03-01 09:00:00</th>\n",
       "      <td>69</td>\n",
       "    </tr>\n",
       "    <tr>\n",
       "      <th>2018-03-01 10:00:00</th>\n",
       "      <td>64</td>\n",
       "    </tr>\n",
       "    <tr>\n",
       "      <th>2018-03-01 11:00:00</th>\n",
       "      <td>96</td>\n",
       "    </tr>\n",
       "    <tr>\n",
       "      <th>2018-03-01 12:00:00</th>\n",
       "      <td>30</td>\n",
       "    </tr>\n",
       "    <tr>\n",
       "      <th>2018-03-01 13:00:00</th>\n",
       "      <td>32</td>\n",
       "    </tr>\n",
       "    <tr>\n",
       "      <th>2018-03-01 14:00:00</th>\n",
       "      <td>48</td>\n",
       "    </tr>\n",
       "    <tr>\n",
       "      <th>2018-03-01 15:00:00</th>\n",
       "      <td>66</td>\n",
       "    </tr>\n",
       "    <tr>\n",
       "      <th>2018-03-01 16:00:00</th>\n",
       "      <td>43</td>\n",
       "    </tr>\n",
       "    <tr>\n",
       "      <th>2018-03-01 17:00:00</th>\n",
       "      <td>44</td>\n",
       "    </tr>\n",
       "    <tr>\n",
       "      <th>2018-03-01 18:00:00</th>\n",
       "      <td>73</td>\n",
       "    </tr>\n",
       "    <tr>\n",
       "      <th>2018-03-01 19:00:00</th>\n",
       "      <td>45</td>\n",
       "    </tr>\n",
       "    <tr>\n",
       "      <th>2018-03-01 20:00:00</th>\n",
       "      <td>61</td>\n",
       "    </tr>\n",
       "    <tr>\n",
       "      <th>2018-03-01 21:00:00</th>\n",
       "      <td>66</td>\n",
       "    </tr>\n",
       "    <tr>\n",
       "      <th>2018-03-01 22:00:00</th>\n",
       "      <td>113</td>\n",
       "    </tr>\n",
       "    <tr>\n",
       "      <th>2018-03-01 23:00:00</th>\n",
       "      <td>58</td>\n",
       "    </tr>\n",
       "    <tr>\n",
       "      <th>2018-03-02 00:00:00</th>\n",
       "      <td>90</td>\n",
       "    </tr>\n",
       "  </tbody>\n",
       "</table>\n",
       "</div>"
      ],
      "text/plain": [
       "                     num_orders\n",
       "datetime                       \n",
       "2018-03-01 00:00:00         124\n",
       "2018-03-01 01:00:00          85\n",
       "2018-03-01 02:00:00          71\n",
       "2018-03-01 03:00:00          66\n",
       "2018-03-01 04:00:00          43\n",
       "2018-03-01 05:00:00           6\n",
       "2018-03-01 06:00:00          12\n",
       "2018-03-01 07:00:00          15\n",
       "2018-03-01 08:00:00          34\n",
       "2018-03-01 09:00:00          69\n",
       "2018-03-01 10:00:00          64\n",
       "2018-03-01 11:00:00          96\n",
       "2018-03-01 12:00:00          30\n",
       "2018-03-01 13:00:00          32\n",
       "2018-03-01 14:00:00          48\n",
       "2018-03-01 15:00:00          66\n",
       "2018-03-01 16:00:00          43\n",
       "2018-03-01 17:00:00          44\n",
       "2018-03-01 18:00:00          73\n",
       "2018-03-01 19:00:00          45\n",
       "2018-03-01 20:00:00          61\n",
       "2018-03-01 21:00:00          66\n",
       "2018-03-01 22:00:00         113\n",
       "2018-03-01 23:00:00          58\n",
       "2018-03-02 00:00:00          90"
      ]
     },
     "execution_count": 5,
     "metadata": {},
     "output_type": "execute_result"
    }
   ],
   "source": [
    "data.head(25)"
   ]
  },
  {
   "cell_type": "code",
   "execution_count": 6,
   "metadata": {},
   "outputs": [
    {
     "data": {
      "text/html": [
       "<div>\n",
       "<style scoped>\n",
       "    .dataframe tbody tr th:only-of-type {\n",
       "        vertical-align: middle;\n",
       "    }\n",
       "\n",
       "    .dataframe tbody tr th {\n",
       "        vertical-align: top;\n",
       "    }\n",
       "\n",
       "    .dataframe thead th {\n",
       "        text-align: right;\n",
       "    }\n",
       "</style>\n",
       "<table border=\"1\" class=\"dataframe\">\n",
       "  <thead>\n",
       "    <tr style=\"text-align: right;\">\n",
       "      <th></th>\n",
       "      <th>num_orders</th>\n",
       "    </tr>\n",
       "  </thead>\n",
       "  <tbody>\n",
       "    <tr>\n",
       "      <th>count</th>\n",
       "      <td>4416.000000</td>\n",
       "    </tr>\n",
       "    <tr>\n",
       "      <th>mean</th>\n",
       "      <td>84.422781</td>\n",
       "    </tr>\n",
       "    <tr>\n",
       "      <th>std</th>\n",
       "      <td>45.023853</td>\n",
       "    </tr>\n",
       "    <tr>\n",
       "      <th>min</th>\n",
       "      <td>0.000000</td>\n",
       "    </tr>\n",
       "    <tr>\n",
       "      <th>25%</th>\n",
       "      <td>54.000000</td>\n",
       "    </tr>\n",
       "    <tr>\n",
       "      <th>50%</th>\n",
       "      <td>78.000000</td>\n",
       "    </tr>\n",
       "    <tr>\n",
       "      <th>75%</th>\n",
       "      <td>107.000000</td>\n",
       "    </tr>\n",
       "    <tr>\n",
       "      <th>max</th>\n",
       "      <td>462.000000</td>\n",
       "    </tr>\n",
       "  </tbody>\n",
       "</table>\n",
       "</div>"
      ],
      "text/plain": [
       "        num_orders\n",
       "count  4416.000000\n",
       "mean     84.422781\n",
       "std      45.023853\n",
       "min       0.000000\n",
       "25%      54.000000\n",
       "50%      78.000000\n",
       "75%     107.000000\n",
       "max     462.000000"
      ]
     },
     "execution_count": 6,
     "metadata": {},
     "output_type": "execute_result"
    }
   ],
   "source": [
    "data.describe()"
   ]
  },
  {
   "cell_type": "code",
   "execution_count": 7,
   "metadata": {},
   "outputs": [
    {
     "data": {
      "text/plain": [
       "num_orders    0\n",
       "dtype: int64"
      ]
     },
     "execution_count": 7,
     "metadata": {},
     "output_type": "execute_result"
    }
   ],
   "source": [
    "data.isna().sum()"
   ]
  },
  {
   "cell_type": "code",
   "execution_count": 8,
   "metadata": {},
   "outputs": [
    {
     "name": "stdout",
     "output_type": "stream",
     "text": [
      "<class 'pandas.core.frame.DataFrame'>\n",
      "DatetimeIndex: 4416 entries, 2018-03-01 00:00:00 to 2018-08-31 23:00:00\n",
      "Freq: H\n",
      "Data columns (total 1 columns):\n",
      " #   Column      Non-Null Count  Dtype\n",
      "---  ------      --------------  -----\n",
      " 0   num_orders  4416 non-null   int64\n",
      "dtypes: int64(1)\n",
      "memory usage: 69.0 KB\n"
     ]
    }
   ],
   "source": [
    "data.info()"
   ]
  },
  {
   "cell_type": "markdown",
   "metadata": {},
   "source": [
    "Данные расположены в хронологическом порядке с 1 марта 2018 по 31 августа 2018, т.е. имеем данные за полгода."
   ]
  },
  {
   "cell_type": "markdown",
   "metadata": {},
   "source": [
    "## Анализ"
   ]
  },
  {
   "cell_type": "code",
   "execution_count": 9,
   "metadata": {},
   "outputs": [
    {
     "data": {
      "text/plain": [
       "<AxesSubplot:xlabel='datetime'>"
      ]
     },
     "execution_count": 9,
     "metadata": {},
     "output_type": "execute_result"
    },
    {
     "data": {
      "image/png": "[encoded data removed]",
      "text/plain": [
       "<Figure size 432x288 with 1 Axes>"
      ]
     },
     "metadata": {
      "needs_background": "light"
     },
     "output_type": "display_data"
    }
   ],
   "source": [
    "data.resample('1D').sum().plot()"
   ]
  },
  {
   "cell_type": "markdown",
   "metadata": {},
   "source": [
    "<div class=\"alert alert-warning\">\n",
    "<h2> Комментарий ревьюера <a class=\"tocSkip\"> </h2>\n",
    "    \n",
    "<b>Некоторые замечания и рекомендации💡:</b> \n",
    " \n",
    "Графики в проекте необходимо подписать. Для удобства их также можно несколько увеличить.\n",
    "\n",
    "</div>\n",
    "\n"
   ]
  },
  {
   "cell_type": "markdown",
   "metadata": {},
   "source": [
    "Можно отметить рост заказов с марта по август."
   ]
  },
  {
   "cell_type": "markdown",
   "metadata": {},
   "source": [
    "<div class=\"alert alert-warning\">\n",
    "<h2> Комментарий ревьюера <a class=\"tocSkip\"> </h2>\n",
    "    \n",
    "<b>Некоторые замечания и рекомендации💡:</b> \n",
    "\n",
    "А с августа?\n",
    "    \n",
    "Наблюдается ли тренд с ускорением?  \n",
    "       \n",
    "</div>"
   ]
  },
  {
   "cell_type": "markdown",
   "metadata": {},
   "source": [
    "Посмотрим на тренд и сезонность данных, сезонность в течение недели и в течении дня."
   ]
  },
  {
   "cell_type": "code",
   "execution_count": 10,
   "metadata": {},
   "outputs": [
    {
     "data": {
      "text/plain": [
       "Text(0.5, 1.0, 'Seasonality day')"
      ]
     },
     "execution_count": 10,
     "metadata": {},
     "output_type": "execute_result"
    },
    {
     "data": {
      "image/png": "[encoded data removed]",
      "text/plain": [
       "<Figure size 1152x720 with 4 Axes>"
      ]
     },
     "metadata": {
      "needs_background": "light"
     },
     "output_type": "display_data"
    }
   ],
   "source": [
    "\n",
    "decomposed = seasonal_decompose(data) \n",
    "\n",
    "plt.figure(figsize=(16,10))\n",
    "plt.subplot(411)\n",
    "decomposed.trend.plot(ax=plt.gca())\n",
    "plt.title('Trend')\n",
    "\n",
    "plt.subplot(412)\n",
    "decomposed.seasonal.plot(ax=plt.gca())\n",
    "plt.title('Seasonality')\n",
    "\n",
    "plt.subplot(413)\n",
    "decomposed.seasonal['2018-03-01':'2018-03-7'].plot(ax=plt.gca())\n",
    "plt.title('Seasonality week')\n",
    "\n",
    "plt.subplot(414)\n",
    "decomposed.seasonal['2018-03-01 00:00:00':'2018-03-01 23:00:00'].plot(ax=plt.gca())\n",
    "plt.title('Seasonality day')"
   ]
  },
  {
   "cell_type": "markdown",
   "metadata": {},
   "source": [
    "Данные имеют восходящий тренд,что говорит о нестационарности временного ряда.Так же наблюдаю сезонность в недельном интервале.\\\n",
    "Применим тест Дики-Фуллера для подтверждения нестационарности ряда.\\\n",
    "$ H_{0} $ - временной ряд является нестационарным\\\n",
    "$ H_{1} $ - временной ряд является стационарным.\\\n",
    "уровень p значимости равен 0,01."
   ]
  },
  {
   "cell_type": "code",
   "execution_count": 11,
   "metadata": {
    "scrolled": true
   },
   "outputs": [
    {
     "name": "stdout",
     "output_type": "stream",
     "text": [
      "p-value:  0.028940051402612906\n",
      "Отвергаем нулевую гипотезу\n"
     ]
    }
   ],
   "source": [
    "\n",
    "alpha = 0.05\n",
    "test_adf = adfuller(data)\n",
    "print ('p-value: ', test_adf[1])\n",
    "if test_adf[1] > alpha : \n",
    "    print ('Не можем отвергнуть нулевую гипотезу,ряд нестационарный')\n",
    "else:\n",
    "    print ('Отвергаем нулевую гипотезу')"
   ]
  },
  {
   "cell_type": "markdown",
   "metadata": {},
   "source": [
    "Несмотря на тренд и сезонность тест показал, что ряд вероятнее стационарный,предполагаю,что это связано с тем,что у нас данные за полгода,если бы данные были за пару лет, то возможно и тренд не наблюдался.Так же при alpha = 0,01 гипотеза не отвергается.\n",
    "\n",
    "Посмотрим на автокорреляцию."
   ]
  },
  {
   "cell_type": "markdown",
   "metadata": {},
   "source": [
    "<div class=\"alert alert-warning\">\n",
    "<h2> Комментарий ревьюера <a class=\"tocSkip\"> </h2>\n",
    "    \n",
    "<b>Некоторые замечания и рекомендации💡:</b> \n",
    "\n",
    "Здесь также можно посмотреть и на «остатки» - данные, которые мы не можем пока интерпретировать (объяснить трендом и сезонностью).\n",
    "    \n",
    "По стационарности ряда - в строгом смысле он нестационарный уже потому, что обладает трендом (да еще и квадратичным местами), а в слабом - стационарный, соответственно, пригодный для того, чтобы делать предсказания.\n",
    "    \n",
    "    \n",
    "       \n",
    "</div>"
   ]
  },
  {
   "cell_type": "code",
   "execution_count": 12,
   "metadata": {},
   "outputs": [
    {
     "data": {
      "image/png": "[encoded data removed]",
      "text/plain": [
       "<Figure size 432x288 with 1 Axes>"
      ]
     },
     "metadata": {
      "needs_background": "light"
     },
     "output_type": "display_data"
    }
   ],
   "source": [
    "fig = tsaplots.plot_acf(data,lags= 50)\n",
    "plt.show() "
   ]
  },
  {
   "cell_type": "markdown",
   "metadata": {},
   "source": [
    "Видим, что лаг 24 сильнее коррелирует с исходным рядом, чем соседние лаги 23 и 25. То же самое можно сказать и про лаг 48.Такая автокорреляция позволяет предположить наличие (ежедневных) сезонных колебаний."
   ]
  },
  {
   "cell_type": "markdown",
   "metadata": {},
   "source": [
    "<div class=\"alert alert-success\">\n",
    "<h2> Комментарий ревьюера <a class=\"tocSkip\"> </h2>\n",
    "\n",
    "👍 Абсолютно точно!\n",
    "</div>\n"
   ]
  },
  {
   "cell_type": "code",
   "execution_count": 13,
   "metadata": {
    "scrolled": false
   },
   "outputs": [
    {
     "data": {
      "text/html": [
       "<div>\n",
       "<style scoped>\n",
       "    .dataframe tbody tr th:only-of-type {\n",
       "        vertical-align: middle;\n",
       "    }\n",
       "\n",
       "    .dataframe tbody tr th {\n",
       "        vertical-align: top;\n",
       "    }\n",
       "\n",
       "    .dataframe thead th {\n",
       "        text-align: right;\n",
       "    }\n",
       "</style>\n",
       "<table border=\"1\" class=\"dataframe\">\n",
       "  <thead>\n",
       "    <tr style=\"text-align: right;\">\n",
       "      <th></th>\n",
       "      <th>autocorrelation</th>\n",
       "    </tr>\n",
       "  </thead>\n",
       "  <tbody>\n",
       "    <tr>\n",
       "      <th>0</th>\n",
       "      <td>1.000000</td>\n",
       "    </tr>\n",
       "    <tr>\n",
       "      <th>48</th>\n",
       "      <td>0.698465</td>\n",
       "    </tr>\n",
       "    <tr>\n",
       "      <th>24</th>\n",
       "      <td>0.680153</td>\n",
       "    </tr>\n",
       "    <tr>\n",
       "      <th>1</th>\n",
       "      <td>0.623576</td>\n",
       "    </tr>\n",
       "    <tr>\n",
       "      <th>49</th>\n",
       "      <td>0.549737</td>\n",
       "    </tr>\n",
       "    <tr>\n",
       "      <th>23</th>\n",
       "      <td>0.548974</td>\n",
       "    </tr>\n",
       "    <tr>\n",
       "      <th>47</th>\n",
       "      <td>0.548834</td>\n",
       "    </tr>\n",
       "    <tr>\n",
       "      <th>25</th>\n",
       "      <td>0.540173</td>\n",
       "    </tr>\n",
       "    <tr>\n",
       "      <th>2</th>\n",
       "      <td>0.464525</td>\n",
       "    </tr>\n",
       "    <tr>\n",
       "      <th>50</th>\n",
       "      <td>0.413873</td>\n",
       "    </tr>\n",
       "    <tr>\n",
       "      <th>46</th>\n",
       "      <td>0.407026</td>\n",
       "    </tr>\n",
       "    <tr>\n",
       "      <th>22</th>\n",
       "      <td>0.401190</td>\n",
       "    </tr>\n",
       "    <tr>\n",
       "      <th>26</th>\n",
       "      <td>0.392810</td>\n",
       "    </tr>\n",
       "    <tr>\n",
       "      <th>12</th>\n",
       "      <td>0.330070</td>\n",
       "    </tr>\n",
       "    <tr>\n",
       "      <th>3</th>\n",
       "      <td>0.320435</td>\n",
       "    </tr>\n",
       "    <tr>\n",
       "      <th>11</th>\n",
       "      <td>0.315671</td>\n",
       "    </tr>\n",
       "    <tr>\n",
       "      <th>13</th>\n",
       "      <td>0.311393</td>\n",
       "    </tr>\n",
       "    <tr>\n",
       "      <th>8</th>\n",
       "      <td>0.308083</td>\n",
       "    </tr>\n",
       "    <tr>\n",
       "      <th>7</th>\n",
       "      <td>0.290184</td>\n",
       "    </tr>\n",
       "    <tr>\n",
       "      <th>36</th>\n",
       "      <td>0.274732</td>\n",
       "    </tr>\n",
       "    <tr>\n",
       "      <th>45</th>\n",
       "      <td>0.272407</td>\n",
       "    </tr>\n",
       "    <tr>\n",
       "      <th>16</th>\n",
       "      <td>0.271196</td>\n",
       "    </tr>\n",
       "    <tr>\n",
       "      <th>9</th>\n",
       "      <td>0.268915</td>\n",
       "    </tr>\n",
       "    <tr>\n",
       "      <th>37</th>\n",
       "      <td>0.268126</td>\n",
       "    </tr>\n",
       "    <tr>\n",
       "      <th>21</th>\n",
       "      <td>0.263775</td>\n",
       "    </tr>\n",
       "  </tbody>\n",
       "</table>\n",
       "</div>"
      ],
      "text/plain": [
       "    autocorrelation\n",
       "0          1.000000\n",
       "48         0.698465\n",
       "24         0.680153\n",
       "1          0.623576\n",
       "49         0.549737\n",
       "23         0.548974\n",
       "47         0.548834\n",
       "25         0.540173\n",
       "2          0.464525\n",
       "50         0.413873\n",
       "46         0.407026\n",
       "22         0.401190\n",
       "26         0.392810\n",
       "12         0.330070\n",
       "3          0.320435\n",
       "11         0.315671\n",
       "13         0.311393\n",
       "8          0.308083\n",
       "7          0.290184\n",
       "36         0.274732\n",
       "45         0.272407\n",
       "16         0.271196\n",
       "9          0.268915\n",
       "37         0.268126\n",
       "21         0.263775"
      ]
     },
     "execution_count": 13,
     "metadata": {},
     "output_type": "execute_result"
    }
   ],
   "source": [
    "# Выведем 20 наиболее коррелируемых лагов.\n",
    "autocorr_data = pd.DataFrame(data=sm.tsa.acf(data,nlags=50), columns=['autocorrelation'])\n",
    "best_corr = autocorr_data.sort_values(by='autocorrelation', ascending=False).head(25)\n",
    "best_corr"
   ]
  },
  {
   "cell_type": "code",
   "execution_count": 14,
   "metadata": {
    "scrolled": true
   },
   "outputs": [
    {
     "data": {
      "image/png": "[encoded data removed]",
      "text/plain": [
       "<Figure size 432x288 with 1 Axes>"
      ]
     },
     "metadata": {
      "needs_background": "light"
     },
     "output_type": "display_data"
    }
   ],
   "source": [
    "fig = tsaplots.plot_acf(data.resample('1D').sum())\n",
    "plt.show() "
   ]
  },
  {
   "cell_type": "markdown",
   "metadata": {},
   "source": [
    "В данном случае лаги 7, 14 и 21 говорят о недельной сезонности.\\\n",
    "Так же видно, что первые 14 лагов имеют высокий уровень значимости.\\\n",
    "То, что корреляция постоянно положительная говорит о наличии тренда. Все это согласуется с тем, что мы узнали о данных, когда раскладывали их на компоненты."
   ]
  },
  {
   "cell_type": "code",
   "execution_count": 15,
   "metadata": {},
   "outputs": [],
   "source": [
    "data['day'] = data.index.day\n",
    "data['dayofweek'] = data.index.dayofweek\n",
    "data['hours'] = data.index.hour"
   ]
  },
  {
   "cell_type": "markdown",
   "metadata": {},
   "source": [
    "<div class=\"alert alert-success\">\n",
    "<h2> Комментарий ревьюера <a class=\"tocSkip\"> </h2>\n",
    "\n",
    "👍 Всё верно\n",
    "</div>"
   ]
  },
  {
   "cell_type": "code",
   "execution_count": 16,
   "metadata": {},
   "outputs": [],
   "source": [
    "for lag in (best_corr.index[1:]):\n",
    "    data['lag_{}'.format(lag)] = data['num_orders'].shift(lag)"
   ]
  },
  {
   "cell_type": "markdown",
   "metadata": {},
   "source": [
    "<div class=\"alert alert-success\">\n",
    "<h2> Комментарий ревьюера <a class=\"tocSkip\"> </h2>\n",
    "\n",
    "👍 Ок, утечки таргета нет, все корректно.\n",
    "</div>"
   ]
  },
  {
   "cell_type": "code",
   "execution_count": 17,
   "metadata": {},
   "outputs": [],
   "source": [
    "data['rolling_mean'] = data['num_orders'].shift().rolling(24).mean()"
   ]
  },
  {
   "cell_type": "code",
   "execution_count": 18,
   "metadata": {
    "scrolled": true
   },
   "outputs": [
    {
     "data": {
      "text/html": [
       "<div>\n",
       "<style scoped>\n",
       "    .dataframe tbody tr th:only-of-type {\n",
       "        vertical-align: middle;\n",
       "    }\n",
       "\n",
       "    .dataframe tbody tr th {\n",
       "        vertical-align: top;\n",
       "    }\n",
       "\n",
       "    .dataframe thead th {\n",
       "        text-align: right;\n",
       "    }\n",
       "</style>\n",
       "<table border=\"1\" class=\"dataframe\">\n",
       "  <thead>\n",
       "    <tr style=\"text-align: right;\">\n",
       "      <th></th>\n",
       "      <th>num_orders</th>\n",
       "      <th>day</th>\n",
       "      <th>dayofweek</th>\n",
       "      <th>hours</th>\n",
       "      <th>lag_48</th>\n",
       "      <th>lag_24</th>\n",
       "      <th>lag_1</th>\n",
       "      <th>lag_49</th>\n",
       "      <th>lag_23</th>\n",
       "      <th>lag_47</th>\n",
       "      <th>...</th>\n",
       "      <th>lag_13</th>\n",
       "      <th>lag_8</th>\n",
       "      <th>lag_7</th>\n",
       "      <th>lag_36</th>\n",
       "      <th>lag_45</th>\n",
       "      <th>lag_16</th>\n",
       "      <th>lag_9</th>\n",
       "      <th>lag_37</th>\n",
       "      <th>lag_21</th>\n",
       "      <th>rolling_mean</th>\n",
       "    </tr>\n",
       "    <tr>\n",
       "      <th>datetime</th>\n",
       "      <th></th>\n",
       "      <th></th>\n",
       "      <th></th>\n",
       "      <th></th>\n",
       "      <th></th>\n",
       "      <th></th>\n",
       "      <th></th>\n",
       "      <th></th>\n",
       "      <th></th>\n",
       "      <th></th>\n",
       "      <th></th>\n",
       "      <th></th>\n",
       "      <th></th>\n",
       "      <th></th>\n",
       "      <th></th>\n",
       "      <th></th>\n",
       "      <th></th>\n",
       "      <th></th>\n",
       "      <th></th>\n",
       "      <th></th>\n",
       "      <th></th>\n",
       "    </tr>\n",
       "  </thead>\n",
       "  <tbody>\n",
       "    <tr>\n",
       "      <th>2018-03-01 00:00:00</th>\n",
       "      <td>124</td>\n",
       "      <td>1</td>\n",
       "      <td>3</td>\n",
       "      <td>0</td>\n",
       "      <td>NaN</td>\n",
       "      <td>NaN</td>\n",
       "      <td>NaN</td>\n",
       "      <td>NaN</td>\n",
       "      <td>NaN</td>\n",
       "      <td>NaN</td>\n",
       "      <td>...</td>\n",
       "      <td>NaN</td>\n",
       "      <td>NaN</td>\n",
       "      <td>NaN</td>\n",
       "      <td>NaN</td>\n",
       "      <td>NaN</td>\n",
       "      <td>NaN</td>\n",
       "      <td>NaN</td>\n",
       "      <td>NaN</td>\n",
       "      <td>NaN</td>\n",
       "      <td>NaN</td>\n",
       "    </tr>\n",
       "    <tr>\n",
       "      <th>2018-03-01 01:00:00</th>\n",
       "      <td>85</td>\n",
       "      <td>1</td>\n",
       "      <td>3</td>\n",
       "      <td>1</td>\n",
       "      <td>NaN</td>\n",
       "      <td>NaN</td>\n",
       "      <td>124.0</td>\n",
       "      <td>NaN</td>\n",
       "      <td>NaN</td>\n",
       "      <td>NaN</td>\n",
       "      <td>...</td>\n",
       "      <td>NaN</td>\n",
       "      <td>NaN</td>\n",
       "      <td>NaN</td>\n",
       "      <td>NaN</td>\n",
       "      <td>NaN</td>\n",
       "      <td>NaN</td>\n",
       "      <td>NaN</td>\n",
       "      <td>NaN</td>\n",
       "      <td>NaN</td>\n",
       "      <td>NaN</td>\n",
       "    </tr>\n",
       "    <tr>\n",
       "      <th>2018-03-01 02:00:00</th>\n",
       "      <td>71</td>\n",
       "      <td>1</td>\n",
       "      <td>3</td>\n",
       "      <td>2</td>\n",
       "      <td>NaN</td>\n",
       "      <td>NaN</td>\n",
       "      <td>85.0</td>\n",
       "      <td>NaN</td>\n",
       "      <td>NaN</td>\n",
       "      <td>NaN</td>\n",
       "      <td>...</td>\n",
       "      <td>NaN</td>\n",
       "      <td>NaN</td>\n",
       "      <td>NaN</td>\n",
       "      <td>NaN</td>\n",
       "      <td>NaN</td>\n",
       "      <td>NaN</td>\n",
       "      <td>NaN</td>\n",
       "      <td>NaN</td>\n",
       "      <td>NaN</td>\n",
       "      <td>NaN</td>\n",
       "    </tr>\n",
       "    <tr>\n",
       "      <th>2018-03-01 03:00:00</th>\n",
       "      <td>66</td>\n",
       "      <td>1</td>\n",
       "      <td>3</td>\n",
       "      <td>3</td>\n",
       "      <td>NaN</td>\n",
       "      <td>NaN</td>\n",
       "      <td>71.0</td>\n",
       "      <td>NaN</td>\n",
       "      <td>NaN</td>\n",
       "      <td>NaN</td>\n",
       "      <td>...</td>\n",
       "      <td>NaN</td>\n",
       "      <td>NaN</td>\n",
       "      <td>NaN</td>\n",
       "      <td>NaN</td>\n",
       "      <td>NaN</td>\n",
       "      <td>NaN</td>\n",
       "      <td>NaN</td>\n",
       "      <td>NaN</td>\n",
       "      <td>NaN</td>\n",
       "      <td>NaN</td>\n",
       "    </tr>\n",
       "    <tr>\n",
       "      <th>2018-03-01 04:00:00</th>\n",
       "      <td>43</td>\n",
       "      <td>1</td>\n",
       "      <td>3</td>\n",
       "      <td>4</td>\n",
       "      <td>NaN</td>\n",
       "      <td>NaN</td>\n",
       "      <td>66.0</td>\n",
       "      <td>NaN</td>\n",
       "      <td>NaN</td>\n",
       "      <td>NaN</td>\n",
       "      <td>...</td>\n",
       "      <td>NaN</td>\n",
       "      <td>NaN</td>\n",
       "      <td>NaN</td>\n",
       "      <td>NaN</td>\n",
       "      <td>NaN</td>\n",
       "      <td>NaN</td>\n",
       "      <td>NaN</td>\n",
       "      <td>NaN</td>\n",
       "      <td>NaN</td>\n",
       "      <td>NaN</td>\n",
       "    </tr>\n",
       "  </tbody>\n",
       "</table>\n",
       "<p>5 rows × 29 columns</p>\n",
       "</div>"
      ],
      "text/plain": [
       "                     num_orders  day  dayofweek  hours  lag_48  lag_24  lag_1  \\\n",
       "datetime                                                                        \n",
       "2018-03-01 00:00:00         124    1          3      0     NaN     NaN    NaN   \n",
       "2018-03-01 01:00:00          85    1          3      1     NaN     NaN  124.0   \n",
       "2018-03-01 02:00:00          71    1          3      2     NaN     NaN   85.0   \n",
       "2018-03-01 03:00:00          66    1          3      3     NaN     NaN   71.0   \n",
       "2018-03-01 04:00:00          43    1          3      4     NaN     NaN   66.0   \n",
       "\n",
       "                     lag_49  lag_23  lag_47  ...  lag_13  lag_8  lag_7  \\\n",
       "datetime                                     ...                         \n",
       "2018-03-01 00:00:00     NaN     NaN     NaN  ...     NaN    NaN    NaN   \n",
       "2018-03-01 01:00:00     NaN     NaN     NaN  ...     NaN    NaN    NaN   \n",
       "2018-03-01 02:00:00     NaN     NaN     NaN  ...     NaN    NaN    NaN   \n",
       "2018-03-01 03:00:00     NaN     NaN     NaN  ...     NaN    NaN    NaN   \n",
       "2018-03-01 04:00:00     NaN     NaN     NaN  ...     NaN    NaN    NaN   \n",
       "\n",
       "                     lag_36  lag_45  lag_16  lag_9  lag_37  lag_21  \\\n",
       "datetime                                                             \n",
       "2018-03-01 00:00:00     NaN     NaN     NaN    NaN     NaN     NaN   \n",
       "2018-03-01 01:00:00     NaN     NaN     NaN    NaN     NaN     NaN   \n",
       "2018-03-01 02:00:00     NaN     NaN     NaN    NaN     NaN     NaN   \n",
       "2018-03-01 03:00:00     NaN     NaN     NaN    NaN     NaN     NaN   \n",
       "2018-03-01 04:00:00     NaN     NaN     NaN    NaN     NaN     NaN   \n",
       "\n",
       "                     rolling_mean  \n",
       "datetime                           \n",
       "2018-03-01 00:00:00           NaN  \n",
       "2018-03-01 01:00:00           NaN  \n",
       "2018-03-01 02:00:00           NaN  \n",
       "2018-03-01 03:00:00           NaN  \n",
       "2018-03-01 04:00:00           NaN  \n",
       "\n",
       "[5 rows x 29 columns]"
      ]
     },
     "execution_count": 18,
     "metadata": {},
     "output_type": "execute_result"
    }
   ],
   "source": [
    "data.head()"
   ]
  },
  {
   "cell_type": "markdown",
   "metadata": {},
   "source": [
    "## Обучение"
   ]
  },
  {
   "cell_type": "code",
   "execution_count": 19,
   "metadata": {},
   "outputs": [],
   "source": [
    "#Разбиваем данные на трейн и тест без перемешивания и удаляем в трейне nan\n",
    "train, test = train_test_split(data, shuffle=False, test_size=0.1)\n",
    "train = train.dropna()\n",
    "\n",
    "target_train = train['num_orders']\n",
    "features_train = train.drop(['num_orders'], axis=1)\n",
    "\n",
    "\n",
    "target_test = test['num_orders']\n",
    "features_test = test.drop(['num_orders'], axis=1)\n"
   ]
  },
  {
   "cell_type": "code",
   "execution_count": 20,
   "metadata": {},
   "outputs": [
    {
     "name": "stdout",
     "output_type": "stream",
     "text": [
      "обучающая: 0.8885869565217391\n",
      "тестовая: 0.10009057971014493\n"
     ]
    }
   ],
   "source": [
    "print('обучающая:',features_train.shape[0]/data.shape[0])\n",
    "print('тестовая:',features_test.shape[0]/data.shape[0])"
   ]
  },
  {
   "cell_type": "markdown",
   "metadata": {},
   "source": [
    "<div class=\"alert alert-success\">\n",
    "<h2> Комментарий ревьюера <a class=\"tocSkip\"> </h2>\n",
    "\n",
    "👍 Всё верно. Ничего не перемешали.\n",
    "</div>"
   ]
  },
  {
   "cell_type": "code",
   "execution_count": 21,
   "metadata": {},
   "outputs": [
    {
     "data": {
      "text/plain": [
       "['lag_48',\n",
       " 'lag_24',\n",
       " 'lag_1',\n",
       " 'lag_49',\n",
       " 'lag_23',\n",
       " 'lag_47',\n",
       " 'lag_25',\n",
       " 'lag_2',\n",
       " 'lag_50',\n",
       " 'lag_46',\n",
       " 'lag_22',\n",
       " 'lag_26',\n",
       " 'lag_12',\n",
       " 'lag_3',\n",
       " 'lag_11',\n",
       " 'lag_13',\n",
       " 'lag_8',\n",
       " 'lag_7',\n",
       " 'lag_36',\n",
       " 'lag_45',\n",
       " 'lag_16',\n",
       " 'lag_9',\n",
       " 'lag_37',\n",
       " 'lag_21',\n",
       " 'rolling_mean']"
      ]
     },
     "execution_count": 21,
     "metadata": {},
     "output_type": "execute_result"
    }
   ],
   "source": [
    "cat_columns = ['day','dayofweek','hours']\n",
    "num_columns = features_train.columns.to_list()[3:]\n",
    "num_columns"
   ]
  },
  {
   "cell_type": "markdown",
   "id": "d353fac0",
   "metadata": {},
   "source": [
    "Масштабируем числовые признаки"
   ]
  },
  {
   "cell_type": "code",
   "execution_count": 22,
   "metadata": {},
   "outputs": [],
   "source": [
    "scaler = StandardScaler()\n",
    "scaler.fit(features_train[num_columns])\n",
    "features_train[num_columns] = scaler.transform(features_train[num_columns])\n",
    "features_test[num_columns] = scaler.transform(features_test[num_columns])"
   ]
  },
  {
   "cell_type": "markdown",
   "metadata": {},
   "source": [
    "<div class=\"alert alert-warning\">\n",
    "<h2> Комментарий ревьюера <a class=\"tocSkip\"> </h2>\n",
    "    \n",
    "<b>Некоторые замечания и рекомендации💡:</b> \n",
    "\n",
    "Здесь сомнительная по эффективности затея, так как у нас изначально все признаки в одной размерности (в диапазоне заказов такси в день), остальные признаки - производные от первого.\n",
    "       \n",
    "</div>\n"
   ]
  },
  {
   "cell_type": "code",
   "execution_count": 23,
   "metadata": {},
   "outputs": [],
   "source": [
    "#копия для линейной регрессии, где лучше подходит OHE кодирование\n",
    "features_train_ohe = features_train.copy()\n",
    "\n",
    "# копия для финального тестирования\n",
    "features_final_train = features_train.copy()\n"
   ]
  },
  {
   "cell_type": "code",
   "execution_count": 24,
   "metadata": {},
   "outputs": [],
   "source": [
    "# Таблица для сбора полученных результатов\n",
    "models_scors = pd.DataFrame(columns = ['model', 'rmse_train'])"
   ]
  },
  {
   "cell_type": "markdown",
   "metadata": {},
   "source": [
    "### Cat Boost"
   ]
  },
  {
   "cell_type": "markdown",
   "id": "3231f070",
   "metadata": {},
   "source": [
    "Подберем гиперпараметры"
   ]
  },
  {
   "cell_type": "code",
   "execution_count": 25,
   "metadata": {},
   "outputs": [],
   "source": [
    "cat_model = cb.CatBoostRegressor(loss_function='RMSE',verbose=False,cat_features=cat_columns)\n",
    "\n",
    "grid = {'iterations': [100,150,200],\n",
    "        'learning_rate': [0.03,0.1],\n",
    "        'depth': [ 6, 8, 10]\n",
    "        }"
   ]
  },
  {
   "cell_type": "code",
   "execution_count": 26,
   "metadata": {},
   "outputs": [
    {
     "name": "stdout",
     "output_type": "stream",
     "text": [
      "\n",
      "bestTest = 36.42119856\n",
      "bestIteration = 99\n",
      "\n",
      "0:\tloss: 36.4211986\tbest: 36.4211986 (0)\ttotal: 1.37s\tremaining: 23.3s\n",
      "\n",
      "bestTest = 31.57650467\n",
      "bestIteration = 99\n",
      "\n",
      "1:\tloss: 31.5765047\tbest: 31.5765047 (1)\ttotal: 2.09s\tremaining: 16.7s\n",
      "\n",
      "bestTest = 33.21558752\n",
      "bestIteration = 149\n",
      "\n",
      "2:\tloss: 33.2155875\tbest: 31.5765047 (1)\ttotal: 3.18s\tremaining: 15.9s\n",
      "\n",
      "bestTest = 31.24361704\n",
      "bestIteration = 138\n",
      "\n",
      "3:\tloss: 31.2436170\tbest: 31.2436170 (3)\ttotal: 4.17s\tremaining: 14.6s\n",
      "\n",
      "bestTest = 31.68560977\n",
      "bestIteration = 199\n",
      "\n",
      "4:\tloss: 31.6856098\tbest: 31.2436170 (3)\ttotal: 6.1s\tremaining: 15.9s\n",
      "\n",
      "bestTest = 30.42094552\n",
      "bestIteration = 145\n",
      "\n",
      "5:\tloss: 30.4209455\tbest: 30.4209455 (5)\ttotal: 7.94s\tremaining: 15.9s\n",
      "\n",
      "bestTest = 38.07601631\n",
      "bestIteration = 99\n",
      "\n",
      "6:\tloss: 38.0760163\tbest: 30.4209455 (5)\ttotal: 10.8s\tremaining: 17s\n",
      "\n",
      "bestTest = 32.93503706\n",
      "bestIteration = 73\n",
      "\n",
      "7:\tloss: 32.9350371\tbest: 30.4209455 (5)\ttotal: 13.4s\tremaining: 16.8s\n",
      "\n",
      "bestTest = 34.7532585\n",
      "bestIteration = 149\n",
      "\n",
      "8:\tloss: 34.7532585\tbest: 30.4209455 (5)\ttotal: 17.6s\tremaining: 17.6s\n",
      "\n",
      "bestTest = 32.85631507\n",
      "bestIteration = 147\n",
      "\n",
      "9:\tloss: 32.8563151\tbest: 30.4209455 (5)\ttotal: 21.8s\tremaining: 17.4s\n",
      "\n",
      "bestTest = 32.59980506\n",
      "bestIteration = 199\n",
      "\n",
      "10:\tloss: 32.5998051\tbest: 30.4209455 (5)\ttotal: 28s\tremaining: 17.8s\n",
      "\n",
      "bestTest = 32.47640653\n",
      "bestIteration = 93\n",
      "\n",
      "11:\tloss: 32.4764065\tbest: 30.4209455 (5)\ttotal: 35.1s\tremaining: 17.6s\n",
      "\n",
      "bestTest = 41.30607811\n",
      "bestIteration = 99\n",
      "\n",
      "12:\tloss: 41.3060781\tbest: 30.4209455 (5)\ttotal: 41s\tremaining: 15.8s\n",
      "\n",
      "bestTest = 35.69675053\n",
      "bestIteration = 99\n",
      "\n",
      "13:\tloss: 35.6967505\tbest: 30.4209455 (5)\ttotal: 46.8s\tremaining: 13.4s\n",
      "\n",
      "bestTest = 37.79762333\n",
      "bestIteration = 149\n",
      "\n",
      "14:\tloss: 37.7976233\tbest: 30.4209455 (5)\ttotal: 55.6s\tremaining: 11.1s\n",
      "\n",
      "bestTest = 35.38634524\n",
      "bestIteration = 141\n",
      "\n",
      "15:\tloss: 35.3863452\tbest: 30.4209455 (5)\ttotal: 1m 4s\tremaining: 8.06s\n",
      "\n",
      "bestTest = 33.56996449\n",
      "bestIteration = 199\n",
      "\n",
      "16:\tloss: 33.5699645\tbest: 30.4209455 (5)\ttotal: 1m 15s\tremaining: 4.45s\n",
      "\n",
      "bestTest = 33.7354625\n",
      "bestIteration = 196\n",
      "\n",
      "17:\tloss: 33.7354625\tbest: 30.4209455 (5)\ttotal: 1m 28s\tremaining: 0us\n",
      "Estimating final quality...\n",
      "Training on fold [0/3]\n",
      "\n",
      "bestTest = 22.78583599\n",
      "bestIteration = 137\n",
      "\n",
      "Training on fold [1/3]\n",
      "\n",
      "bestTest = 22.87001326\n",
      "bestIteration = 192\n",
      "\n",
      "Training on fold [2/3]\n",
      "\n",
      "bestTest = 30.05488703\n",
      "bestIteration = 192\n",
      "\n",
      "CPU times: user 1min 25s, sys: 8.57 s, total: 1min 33s\n",
      "Wall time: 1min 37s\n"
     ]
    }
   ],
   "source": [
    "%%time\n",
    "cat_grid_result = cat_model.grid_search(grid,\n",
    "                                       X=features_train,\n",
    "                                       y=target_train,\n",
    "                                    cv=TimeSeriesSplit(n_splits=3)\n",
    "                                       )"
   ]
  },
  {
   "cell_type": "markdown",
   "metadata": {},
   "source": [
    "<div class=\"alert alert-success\">\n",
    "<h2> Комментарий ревьюера <a class=\"tocSkip\"> </h2>\n",
    "\n",
    "👍 Применили кросс-валидацию для временных рядов. Отлично.\n",
    "</div>\n",
    "\n"
   ]
  },
  {
   "cell_type": "code",
   "execution_count": 27,
   "metadata": {},
   "outputs": [
    {
     "name": "stdout",
     "output_type": "stream",
     "text": [
      "RMSE на тренировочном наборе: 16.953801074881653\n",
      "Параметры модели с наилучшим результатом: {'depth': 6, 'iterations': 200, 'learning_rate': 0.1}\n"
     ]
    }
   ],
   "source": [
    "cat_score_train = cat_model.best_score_['learn']['RMSE']\n",
    "print('RMSE на тренировочном наборе:',cat_score_train)\n",
    "print('Параметры модели с наилучшим результатом:',cat_grid_result['params'])"
   ]
  },
  {
   "cell_type": "code",
   "execution_count": 28,
   "metadata": {
    "scrolled": true
   },
   "outputs": [],
   "source": [
    "models_scors = models_scors.append({'model':'CatBoostRegressor', 'rmse_train':cat_score_train}, ignore_index=True)"
   ]
  },
  {
   "cell_type": "markdown",
   "id": "38ae19b1",
   "metadata": {},
   "source": [
    "### LGBMRegressor"
   ]
  },
  {
   "cell_type": "code",
   "execution_count": 29,
   "metadata": {},
   "outputs": [],
   "source": [
    "oe = OrdinalEncoder()\n",
    "oe.fit_transform(features_train[cat_columns])\n",
    "features_train[cat_columns] = oe.transform(features_train[cat_columns])"
   ]
  },
  {
   "cell_type": "code",
   "execution_count": 30,
   "metadata": {
    "scrolled": true
   },
   "outputs": [
    {
     "name": "stdout",
     "output_type": "stream",
     "text": [
      "Лучшая RMSE: -25.047\n",
      "Лучшие параметры:\n",
      "\tlearning_rate: 0.1\n",
      "\tmax_depth: 10\n",
      "\tnum_leaves: 10\n",
      "CPU times: user 5min 12s, sys: 2.77 s, total: 5min 15s\n",
      "Wall time: 5min 18s\n"
     ]
    }
   ],
   "source": [
    "%%time\n",
    "parameters = {'max_depth': range(10,30,5),\n",
    "              'learning_rate': [0.03,0.1],\n",
    "              'num_leaves':range(10,50,10)\n",
    "              \n",
    "              \n",
    "}\n",
    "gbm = LGBMRegressor(random_state=12345)\n",
    "\n",
    "gsearch_lgbm = GridSearchCV(gbm, param_grid=parameters, scoring='neg_root_mean_squared_error', cv=TimeSeriesSplit(n_splits=3))\n",
    "gsearch_lgbm.fit(features_train, target_train)\n",
    "\n",
    "print(\"Лучшая RMSE: %0.3f\" % gsearch_lgbm.best_score_)\n",
    "print(\"Лучшие параметры:\")\n",
    "best_parameters = gsearch_lgbm.best_estimator_.get_params()\n",
    "for param_name in sorted(parameters.keys()):\n",
    "    print(\"\\t%s: %r\" % (param_name, best_parameters[param_name]))"
   ]
  },
  {
   "cell_type": "code",
   "execution_count": 31,
   "metadata": {},
   "outputs": [],
   "source": [
    "models_scors = models_scors.append({'model': 'LGBMRegressor', 'rmse_train': abs(gsearch_lgbm.best_score_)},ignore_index=True)"
   ]
  },
  {
   "cell_type": "markdown",
   "id": "874962cf",
   "metadata": {},
   "source": [
    "### RandomForestRegressor"
   ]
  },
  {
   "cell_type": "code",
   "execution_count": 32,
   "metadata": {},
   "outputs": [
    {
     "name": "stdout",
     "output_type": "stream",
     "text": [
      "Лучшая RMSE: -25.539\n",
      "Лучшие параметры:\n",
      "\tmax_depth: 10\n",
      "\tn_estimators: 50\n",
      "CPU times: user 15.7 s, sys: 21 ms, total: 15.8 s\n",
      "Wall time: 15.8 s\n"
     ]
    }
   ],
   "source": [
    "%%time\n",
    "parameters = {'max_depth': [5,10,15],\n",
    "              'n_estimators':[5,30,50]}\n",
    "rf = RandomForestRegressor(random_state=12345)\n",
    "\n",
    "gsearch_rf = GridSearchCV(rf, param_grid=parameters, scoring='neg_root_mean_squared_error', cv=TimeSeriesSplit(n_splits=3))\n",
    "gsearch_rf.fit(features_train, target_train)\n",
    "\n",
    "print(\"Лучшая RMSE: %0.3f\" % gsearch_rf.best_score_)\n",
    "print(\"Лучшие параметры:\")\n",
    "best_parameters = gsearch_rf.best_estimator_.get_params()\n",
    "for param_name in sorted(parameters.keys()):\n",
    "    print(\"\\t%s: %r\" % (param_name, best_parameters[param_name]))"
   ]
  },
  {
   "cell_type": "code",
   "execution_count": 33,
   "metadata": {},
   "outputs": [],
   "source": [
    "models_scors = models_scors.append({'model': 'RandomForestRegressor', 'rmse_train': abs(gsearch_rf.best_score_)}, ignore_index=True)"
   ]
  },
  {
   "cell_type": "markdown",
   "id": "8d755ee2",
   "metadata": {},
   "source": [
    "### LinearRegression"
   ]
  },
  {
   "cell_type": "code",
   "execution_count": 34,
   "metadata": {},
   "outputs": [],
   "source": [
    "ohe = OneHotEncoder(sparse=False, drop='first')\n",
    "train_ohe = ohe.fit_transform(features_train_ohe[cat_columns])\n",
    "train_ohe = pd.DataFrame(train_ohe, columns=ohe.get_feature_names(cat_columns), index=features_train_ohe.index)\n",
    "features_train_ohe[ohe.get_feature_names()] = train_ohe\n",
    "features_train_ohe.drop(columns=cat_columns, inplace=True)"
   ]
  },
  {
   "cell_type": "code",
   "execution_count": 35,
   "metadata": {},
   "outputs": [
    {
     "name": "stdout",
     "output_type": "stream",
     "text": [
      "RMSE на тренировочном наборе : -27.277082623077106\n",
      "CPU times: user 255 ms, sys: 402 ms, total: 657 ms\n",
      "Wall time: 645 ms\n"
     ]
    }
   ],
   "source": [
    "%%time\n",
    "model_lin = LinearRegression()\n",
    "scores_lin = cross_val_score(model_lin, features_train_ohe, target_train, scoring='neg_root_mean_squared_error', cv=TimeSeriesSplit(n_splits=3)) \n",
    "final_score_linear = pd.Series(scores_lin).mean()\n",
    "print('RMSE на тренировочном наборе :', final_score_linear)"
   ]
  },
  {
   "cell_type": "code",
   "execution_count": 36,
   "metadata": {},
   "outputs": [],
   "source": [
    "models_scors = models_scors.append({'model': 'LinearRegression', 'rmse_train':  abs(final_score_linear)}, ignore_index=True)"
   ]
  },
  {
   "cell_type": "code",
   "execution_count": 37,
   "metadata": {},
   "outputs": [
    {
     "data": {
      "text/html": [
       "<div>\n",
       "<style scoped>\n",
       "    .dataframe tbody tr th:only-of-type {\n",
       "        vertical-align: middle;\n",
       "    }\n",
       "\n",
       "    .dataframe tbody tr th {\n",
       "        vertical-align: top;\n",
       "    }\n",
       "\n",
       "    .dataframe thead th {\n",
       "        text-align: right;\n",
       "    }\n",
       "</style>\n",
       "<table border=\"1\" class=\"dataframe\">\n",
       "  <thead>\n",
       "    <tr style=\"text-align: right;\">\n",
       "      <th></th>\n",
       "      <th>model</th>\n",
       "      <th>rmse_train</th>\n",
       "    </tr>\n",
       "  </thead>\n",
       "  <tbody>\n",
       "    <tr>\n",
       "      <th>0</th>\n",
       "      <td>CatBoostRegressor</td>\n",
       "      <td>16.953801</td>\n",
       "    </tr>\n",
       "    <tr>\n",
       "      <th>1</th>\n",
       "      <td>LGBMRegressor</td>\n",
       "      <td>25.046617</td>\n",
       "    </tr>\n",
       "    <tr>\n",
       "      <th>2</th>\n",
       "      <td>RandomForestRegressor</td>\n",
       "      <td>25.539339</td>\n",
       "    </tr>\n",
       "    <tr>\n",
       "      <th>3</th>\n",
       "      <td>LinearRegression</td>\n",
       "      <td>27.277083</td>\n",
       "    </tr>\n",
       "  </tbody>\n",
       "</table>\n",
       "</div>"
      ],
      "text/plain": [
       "                   model  rmse_train\n",
       "0      CatBoostRegressor   16.953801\n",
       "1          LGBMRegressor   25.046617\n",
       "2  RandomForestRegressor   25.539339\n",
       "3       LinearRegression   27.277083"
      ]
     },
     "execution_count": 37,
     "metadata": {},
     "output_type": "execute_result"
    }
   ],
   "source": [
    "models_scors.sort_values(by = 'rmse_train')"
   ]
  },
  {
   "cell_type": "code",
   "execution_count": 38,
   "metadata": {},
   "outputs": [
    {
     "data": {
      "image/png": "[encoded data removed]",
      "text/plain": [
       "<Figure size 432x288 with 1 Axes>"
      ]
     },
     "metadata": {
      "needs_background": "light"
     },
     "output_type": "display_data"
    }
   ],
   "source": [
    "models_scors.sort_values(by = 'rmse_train').plot(x='model',y=['rmse_train'],kind='bar')\n",
    "plt.xlabel(\"Model\")\n",
    "plt.ylabel(\"rmse\")\n",
    "plt.title('Метрика RMSE')\n",
    "plt.legend(loc = 'best')\n",
    "plt.show()"
   ]
  },
  {
   "cell_type": "markdown",
   "metadata": {},
   "source": [
    "## Тестирование"
   ]
  },
  {
   "cell_type": "markdown",
   "metadata": {},
   "source": [
    "Наименьшая RMSE у CatBoostRegressor('depth'= 6, 'iterations'= 200, 'learning_rate'= 0.1,loss_function='RMSE',verbose=False,cat_features=cat_columns)"
   ]
  },
  {
   "cell_type": "code",
   "execution_count": 39,
   "metadata": {},
   "outputs": [],
   "source": [
    "best_model = cb.CatBoostRegressor(depth=6, iterations=200,learning_rate =0.1,loss_function='RMSE',verbose=False,cat_features=cat_columns)"
   ]
  },
  {
   "cell_type": "code",
   "execution_count": 40,
   "metadata": {},
   "outputs": [
    {
     "name": "stdout",
     "output_type": "stream",
     "text": [
      "RMSE на тестовом наборе данных:37.53367681505225\n"
     ]
    }
   ],
   "source": [
    "best_model.fit(features_final_train,target_train)\n",
    "prediction = best_model.predict(features_test)\n",
    "scor = mean_squared_error(target_test, prediction,squared=False)\n",
    "print(f'RMSE на тестовом наборе данных:{scor}')"
   ]
  },
  {
   "cell_type": "markdown",
   "metadata": {},
   "source": [
    "<div class=\"alert alert-success\">\n",
    "<h2> Комментарий ревьюера <a class=\"tocSkip\"> </h2>\n",
    "\n",
    "👍 Замечательное сравнение моделей, корректное тестирование, отличный результат.\n",
    "</div>\n"
   ]
  },
  {
   "cell_type": "markdown",
   "metadata": {},
   "source": [
    "# Вывод"
   ]
  },
  {
   "cell_type": "markdown",
   "metadata": {},
   "source": [
    "1.  Ресемплировали данные по одному часу, поскольку для нас важно предсказания на следующий час.\n",
    "2. В процессе анализа установили, что ряд имеет повышающийся тренд и сезонность суточную и недельную.Но тест Дики-Фуллера показал,что ряд стационарный, несмотря на тренд, предполгаю,что это связано с тем,что данные представленны всего за пол года, где рост заказов такси в аэропорту, как раз приходится на лето, далее должен следовать спад.\n",
    "3. С помощью автокорреляции подобрала наиболее коррелирующие лаги и по ним создала новые признаки, добавив так же час, день месяца и день недели,месяц решила не добавлять поскольку,данные не за год.\n",
    "4. Провела подбор параметров на 4 моделях : Cat Boost, LGBMRegressor, RandomForestRegressor и LinearRegression, где наименьшую RMSE на тренировочном наборе показала модель **Cat Boost с параметрами 'depth'= 6, 'iterations'= 200, 'learning_rate'= 0.1.**\n",
    "5. Тестирование  Cat Boost на тренировочном наборе **дало RMSE = 37,53**"
   ]
  },
  {
   "cell_type": "markdown",
   "metadata": {},
   "source": [
    "<div class=\"alert alert-success\">\n",
    "<h2> Комментарий ревьюера <a class=\"tocSkip\"> </h2>\n",
    "\n",
    "👍 Супер.\n",
    "</div>\n"
   ]
  },
  {
   "cell_type": "markdown",
   "metadata": {},
   "source": [
    "<div style=\"border:solid Chocolate 2px; padding: 40px\">\n",
    "\n",
    "**Общий вывод по проверке**\n",
    "\n",
    "У тебя получился отличный проект проект. Многие решения оптимальны и проактивны, отличное исследование важности лагов. В работе есть один неподписанный график, но не думаю, что это повод для повторной проверки. Приму проект сейчас. Если остались какие-то вопросы по работе, можно написать мне в телеграм @kriill.\n",
    "\n",
    "\n",
    "**Желаю удачи и хорошей учебы!**😉\n",
    "\n",
    "</div>"
   ]
  },
  {
   "cell_type": "code",
   "execution_count": null,
   "metadata": {},
   "outputs": [],
   "source": []
  }
 ],
 "metadata": {
  "ExecuteTimeLog": [
   {
    "duration": 2243,
    "start_time": "2023-01-20T10:35:19.231Z"
   },
   {
    "duration": 130,
    "start_time": "2023-01-20T10:35:21.476Z"
   },
   {
    "duration": 23,
    "start_time": "2023-01-20T10:35:21.608Z"
   },
   {
    "duration": 8,
    "start_time": "2023-01-20T10:35:21.633Z"
   },
   {
    "duration": 13,
    "start_time": "2023-01-20T10:35:21.643Z"
   },
   {
    "duration": 15,
    "start_time": "2023-01-20T10:35:21.658Z"
   },
   {
    "duration": 6,
    "start_time": "2023-01-20T10:35:21.675Z"
   },
   {
    "duration": 18,
    "start_time": "2023-01-20T10:35:21.682Z"
   },
   {
    "duration": 270,
    "start_time": "2023-01-20T10:35:21.702Z"
   },
   {
    "duration": 709,
    "start_time": "2023-01-20T10:35:21.975Z"
   },
   {
    "duration": 1944,
    "start_time": "2023-01-20T10:35:22.686Z"
   },
   {
    "duration": 469,
    "start_time": "2023-01-20T10:35:24.632Z"
   },
   {
    "duration": 24,
    "start_time": "2023-01-20T10:35:25.103Z"
   },
   {
    "duration": 284,
    "start_time": "2023-01-20T10:35:25.131Z"
   },
   {
    "duration": 8,
    "start_time": "2023-01-20T10:35:25.422Z"
   },
   {
    "duration": 22,
    "start_time": "2023-01-20T10:35:25.432Z"
   },
   {
    "duration": 6,
    "start_time": "2023-01-20T10:35:25.456Z"
   },
   {
    "duration": 26,
    "start_time": "2023-01-20T10:35:25.464Z"
   },
   {
    "duration": 40,
    "start_time": "2023-01-20T10:35:25.492Z"
   },
   {
    "duration": 4,
    "start_time": "2023-01-20T10:35:25.534Z"
   },
   {
    "duration": 12,
    "start_time": "2023-01-20T10:35:25.540Z"
   },
   {
    "duration": 49,
    "start_time": "2023-01-20T10:35:25.554Z"
   },
   {
    "duration": 18,
    "start_time": "2023-01-20T10:35:25.605Z"
   },
   {
    "duration": 9,
    "start_time": "2023-01-20T10:35:25.625Z"
   },
   {
    "duration": 9,
    "start_time": "2023-01-20T10:35:25.637Z"
   },
   {
    "duration": 97957,
    "start_time": "2023-01-20T10:35:25.648Z"
   },
   {
    "duration": 4,
    "start_time": "2023-01-20T10:37:03.607Z"
   },
   {
    "duration": 13,
    "start_time": "2023-01-20T10:37:03.613Z"
   },
   {
    "duration": 13,
    "start_time": "2023-01-20T10:37:03.628Z"
   },
   {
    "duration": 318791,
    "start_time": "2023-01-20T10:37:03.643Z"
   },
   {
    "duration": 88,
    "start_time": "2023-01-20T10:42:22.436Z"
   },
   {
    "duration": 15784,
    "start_time": "2023-01-20T10:42:22.526Z"
   },
   {
    "duration": 10,
    "start_time": "2023-01-20T10:42:38.312Z"
   },
   {
    "duration": 150,
    "start_time": "2023-01-20T10:42:38.324Z"
   },
   {
    "duration": 652,
    "start_time": "2023-01-20T10:42:38.476Z"
   },
   {
    "duration": 7,
    "start_time": "2023-01-20T10:42:39.220Z"
   },
   {
    "duration": 12,
    "start_time": "2023-01-20T10:42:39.229Z"
   },
   {
    "duration": 225,
    "start_time": "2023-01-20T10:42:39.243Z"
   },
   {
    "duration": 3,
    "start_time": "2023-01-20T10:42:39.470Z"
   },
   {
    "duration": 2503,
    "start_time": "2023-01-20T10:42:39.475Z"
   },
   {
    "duration": 80,
    "start_time": "2023-01-20T10:50:18.969Z"
   }
  ],
  "hide_input": false,
  "kernelspec": {
   "display_name": "Python 3 (ipykernel)",
   "language": "python",
   "name": "python3"
  },
  "language_info": {
   "codemirror_mode": {
    "name": "ipython",
    "version": 3
   },
   "file_extension": ".py",
   "mimetype": "text/x-python",
   "name": "python",
   "nbconvert_exporter": "python",
   "pygments_lexer": "ipython3",
   "version": "3.9.5"
  },
  "toc": {
   "base_numbering": 1,
   "nav_menu": {},
   "number_sections": true,
   "sideBar": true,
   "skip_h1_title": true,
   "title_cell": "Содержание",
   "title_sidebar": "Contents",
   "toc_cell": true,
   "toc_position": {
    "height": "calc(100% - 180px)",
    "left": "10px",
    "top": "150px",
    "width": "294.237px"
   },
   "toc_section_display": true,
   "toc_window_display": false
  }
 },
 "nbformat": 4,
 "nbformat_minor": 2
}
