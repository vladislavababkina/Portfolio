{
 "cells": [
  {
   "cell_type": "markdown",
   "metadata": {},
   "source": [
    "Владислава, привет! Меня зовут Ирина Литвинова. Сегодня я проверю твой проект.<br>\n",
    "<br> Ты можешь обращаться ко мне на \"ты\"😏 Надеюсь, ты не будешь против, если и я буду обращаться к тебе на \"ты\". Но если для тебя это неприемлeмо, дай знать, пожалуйста) <br>\n",
    "<br> Мне очень важна твоя реакция на мои комментарии, особенно <font color='red'>красные</font>. Можешь реагировать, например, так ('исправлено', ...)<br>\n",
    "<br> Ты можешь реагировать на мои комментарии своими, выделяя их цветами и наиболее понравившимся тебе способом оформления, но явно  отличающимся от моих комментариев. <br>\n",
    "Это нужно, чтобы не создавалась путаница😉<br>\n",
    "Например, так:<br>\n",
    "    \n",
    "<div class=\"alert alert-block alert-info\"><b>Комментарий студента</b>\n",
    "    \n",
    "<b>Изменения:</b> Были внесены следующие изменения ...<br></div> \n",
    "\n",
    "\n",
    "<br> Пожалуйста, не удаляй мои комментарии, так как они повышают качество повторного ревью и делают его быстрее)<br>\n",
    "<br> Увидев у тебя неточность, в первый раз я лишь укажу на ее наличие и дам тебе возможность самостоятельно найти и исправить ее. На реальной работе твой руководитель будет поступать также, и я пытаюсь подготовить тебя именно к работе. Но если ты пока не справишься с такой задачей - при следующей проверке я дам более точную подсказку!🤓<br>\n",
    "\n",
    "Для твоего удобства мои комментарии будут в <font color='green'>зеленой</font>, <font color='orange'>желтой</font> или <font color='red'>красной</font> рамках:<br>\n",
    "<br>\n",
    "\n",
    "<div class=\"alert alert-block alert-danger\"><b>Комментарий ревьюера</b>\n",
    "    \n",
    "<b>Ошибка:</b><br>\n",
    "Если требуются исправления. Работа не может быть принята с красными комментариями.<br></div>\n",
    "\n",
    "<div class=\"alert alert-block alert-warning\"><b>Комментарий ревьюера</b>\n",
    "    \n",
    "<b>Совет:</b><br>\n",
    "Если можно немного улучшить.<br></div>\n",
    "\n",
    "<div class=\"alert alert-block alert-success\"><b>Комментарий ревьюера</b>\n",
    "    \n",
    "<b>Успех:</b><br>\n",
    "Если все сделано отлично.<br></div>   "
   ]
  },
  {
   "cell_type": "markdown",
   "metadata": {},
   "source": [
    "# Выбор локации для скважины"
   ]
  },
  {
   "cell_type": "markdown",
   "metadata": {},
   "source": [
    "Предоставлены пробы нефти в трёх регионах. Характеристики для каждой скважины в регионе уже известны.\\\n",
    "Нужно решить, где бурить новую скважину.\\\n",
    "Шаги для выбора локации обычно такие:\n",
    " - В избранном регионе собирают характеристики для скважин: качество нефти и объём её запасов;\n",
    " - Строят модель для предсказания объёма запасов в новых скважинах;\n",
    " - Выбирают скважины с самыми высокими оценками значений;\n",
    " - Определяют регион с максимальной суммарной прибылью отобранных скважин.\n",
    "\n",
    "**Описание данных:**\\\n",
    "id — уникальный идентификатор скважины;\\\n",
    "f0, f1, f2 — три признака точек (неважно, что они означают, но сами признаки значимы);\\\n",
    "product — объём запасов в скважине (тыс. баррелей).\n",
    "\n",
    "**Условия задачи:**\\\n",
    "Для обучения модели подходит только линейная регрессия (остальные — недостаточно предсказуемые).\n",
    "При разведке региона исследуют 500 точек, из которых с помощью машинного обучения выбирают 200 лучших для разработки.\n",
    "Бюджет на разработку скважин в регионе — 10 млрд рублей.\n",
    "При нынешних ценах один баррель сырья приносит 450 рублей дохода. Доход с каждой единицы продукта составляет 450 тыс. рублей, поскольку объём указан в тысячах баррелей.\n",
    "После оценки рисков нужно оставить лишь те регионы, в которых вероятность убытков меньше 2.5%. Среди них выбирают регион с наибольшей средней прибылью."
   ]
  },
  {
   "cell_type": "markdown",
   "metadata": {},
   "source": [
    "<div class=\"alert alert-block alert-success\"><b>Комментарий ревьюера</b>\n",
    "    \n",
    "<b>Успех:</b><br>\n",
    "👍 Есть введение в проект и описание данных. Отлично!<br>\n",
    "\n",
    "</div> "
   ]
  },
  {
   "cell_type": "markdown",
   "metadata": {},
   "source": [
    "## Загрузка и подготовка данных"
   ]
  },
  {
   "cell_type": "code",
   "execution_count": 1,
   "metadata": {},
   "outputs": [],
   "source": [
    "import pandas as pd\n",
    "import numpy as np\n",
    "\n",
    "import seaborn as sns\n",
    "import matplotlib.pyplot as plt\n",
    "\n",
    "from sklearn.model_selection import train_test_split\n",
    "from sklearn.linear_model import LinearRegression\n",
    "from sklearn.metrics import mean_squared_error, r2_score, mean_absolute_error\n",
    "from sklearn.preprocessing import StandardScaler\n",
    "\n",
    "import warnings\n",
    "warnings.filterwarnings('ignore')"
   ]
  },
  {
   "cell_type": "markdown",
   "metadata": {},
   "source": [
    "<div class=\"alert alert-block alert-success\"><b>Комментарий ревьюера </b>\n",
    "    \n",
    "<b>Успех:</b><br>\n",
    "👍 Здорово, что импортируешь необходимые библиотеки в первой ячейке. Так сразу понятно какие используются библиотеки и можно легко настроить свое окружение при необходимости. \n",
    "</div> "
   ]
  },
  {
   "cell_type": "code",
   "execution_count": 2,
   "metadata": {},
   "outputs": [],
   "source": [
    "try:\n",
    "    geo_data_0 = pd.read_csv('/datasets/geo_data_0.csv')\n",
    "    geo_data_1 = pd.read_csv('/datasets/geo_data_1.csv')\n",
    "    geo_data_2 = pd.read_csv('/datasets/geo_data_2.csv')\n",
    "except:\n",
    "    geo_data_0 = pd.read_csv('https://code.s3.yandex.net/datasets/geo_data_0.csv')\n",
    "    geo_data_1 = pd.read_csv('https://code.s3.yandex.net/datasets/geo_data_1.csv')\n",
    "    geo_data_2 = pd.read_csv('https://code.s3.yandex.net/datasets/geo_data_2.csv')\n"
   ]
  },
  {
   "cell_type": "code",
   "execution_count": 3,
   "metadata": {},
   "outputs": [],
   "source": [
    "def information (data):\n",
    "    display(data.head(10))\n",
    "    print('\\033[1m'+'Общая информация о данных:'+'\\033[0m','\\n')\n",
    "    print(data.info(),'\\n')\n",
    "    print('\\033[1m'+'Наличие пропусков в данных:'+'\\033[0m','\\n')\n",
    "    print(data.isna().sum(),'\\n')\n",
    "    print('\\033[1m'+'Наличие явных дубликатов:'+'\\033[0m','\\n')\n",
    "    print(data.duplicated().sum(),'\\n')\n",
    "    print('\\033[1m'+'Описательная статистика'+'\\033[0m','\\n')\n",
    "    display(data.describe())\n",
    "    print('\\033[1m'+'Корреляция между признаками'+'\\033[0m','\\n')\n",
    "    display(data.corr())"
   ]
  },
  {
   "cell_type": "markdown",
   "metadata": {},
   "source": [
    "<div class=\"alert alert-block alert-success\"><b>Комментарий ревьюера </b>\n",
    "    \n",
    "<b>Успех:</b><br>\n",
    "👍 👍  👍 \n",
    "</div> "
   ]
  },
  {
   "cell_type": "code",
   "execution_count": 4,
   "metadata": {},
   "outputs": [
    {
     "data": {
      "text/html": [
       "<div>\n",
       "<style scoped>\n",
       "    .dataframe tbody tr th:only-of-type {\n",
       "        vertical-align: middle;\n",
       "    }\n",
       "\n",
       "    .dataframe tbody tr th {\n",
       "        vertical-align: top;\n",
       "    }\n",
       "\n",
       "    .dataframe thead th {\n",
       "        text-align: right;\n",
       "    }\n",
       "</style>\n",
       "<table border=\"1\" class=\"dataframe\">\n",
       "  <thead>\n",
       "    <tr style=\"text-align: right;\">\n",
       "      <th></th>\n",
       "      <th>id</th>\n",
       "      <th>f0</th>\n",
       "      <th>f1</th>\n",
       "      <th>f2</th>\n",
       "      <th>product</th>\n",
       "    </tr>\n",
       "  </thead>\n",
       "  <tbody>\n",
       "    <tr>\n",
       "      <th>0</th>\n",
       "      <td>txEyH</td>\n",
       "      <td>0.705745</td>\n",
       "      <td>-0.497823</td>\n",
       "      <td>1.221170</td>\n",
       "      <td>105.280062</td>\n",
       "    </tr>\n",
       "    <tr>\n",
       "      <th>1</th>\n",
       "      <td>2acmU</td>\n",
       "      <td>1.334711</td>\n",
       "      <td>-0.340164</td>\n",
       "      <td>4.365080</td>\n",
       "      <td>73.037750</td>\n",
       "    </tr>\n",
       "    <tr>\n",
       "      <th>2</th>\n",
       "      <td>409Wp</td>\n",
       "      <td>1.022732</td>\n",
       "      <td>0.151990</td>\n",
       "      <td>1.419926</td>\n",
       "      <td>85.265647</td>\n",
       "    </tr>\n",
       "    <tr>\n",
       "      <th>3</th>\n",
       "      <td>iJLyR</td>\n",
       "      <td>-0.032172</td>\n",
       "      <td>0.139033</td>\n",
       "      <td>2.978566</td>\n",
       "      <td>168.620776</td>\n",
       "    </tr>\n",
       "    <tr>\n",
       "      <th>4</th>\n",
       "      <td>Xdl7t</td>\n",
       "      <td>1.988431</td>\n",
       "      <td>0.155413</td>\n",
       "      <td>4.751769</td>\n",
       "      <td>154.036647</td>\n",
       "    </tr>\n",
       "    <tr>\n",
       "      <th>5</th>\n",
       "      <td>wX4Hy</td>\n",
       "      <td>0.969570</td>\n",
       "      <td>0.489775</td>\n",
       "      <td>-0.735383</td>\n",
       "      <td>64.741541</td>\n",
       "    </tr>\n",
       "    <tr>\n",
       "      <th>6</th>\n",
       "      <td>tL6pL</td>\n",
       "      <td>0.645075</td>\n",
       "      <td>0.530656</td>\n",
       "      <td>1.780266</td>\n",
       "      <td>49.055285</td>\n",
       "    </tr>\n",
       "    <tr>\n",
       "      <th>7</th>\n",
       "      <td>BYPU6</td>\n",
       "      <td>-0.400648</td>\n",
       "      <td>0.808337</td>\n",
       "      <td>-5.624670</td>\n",
       "      <td>72.943292</td>\n",
       "    </tr>\n",
       "    <tr>\n",
       "      <th>8</th>\n",
       "      <td>j9Oui</td>\n",
       "      <td>0.643105</td>\n",
       "      <td>-0.551583</td>\n",
       "      <td>2.372141</td>\n",
       "      <td>113.356160</td>\n",
       "    </tr>\n",
       "    <tr>\n",
       "      <th>9</th>\n",
       "      <td>OLuZU</td>\n",
       "      <td>2.173381</td>\n",
       "      <td>0.563698</td>\n",
       "      <td>9.441852</td>\n",
       "      <td>127.910945</td>\n",
       "    </tr>\n",
       "  </tbody>\n",
       "</table>\n",
       "</div>"
      ],
      "text/plain": [
       "      id        f0        f1        f2     product\n",
       "0  txEyH  0.705745 -0.497823  1.221170  105.280062\n",
       "1  2acmU  1.334711 -0.340164  4.365080   73.037750\n",
       "2  409Wp  1.022732  0.151990  1.419926   85.265647\n",
       "3  iJLyR -0.032172  0.139033  2.978566  168.620776\n",
       "4  Xdl7t  1.988431  0.155413  4.751769  154.036647\n",
       "5  wX4Hy  0.969570  0.489775 -0.735383   64.741541\n",
       "6  tL6pL  0.645075  0.530656  1.780266   49.055285\n",
       "7  BYPU6 -0.400648  0.808337 -5.624670   72.943292\n",
       "8  j9Oui  0.643105 -0.551583  2.372141  113.356160\n",
       "9  OLuZU  2.173381  0.563698  9.441852  127.910945"
      ]
     },
     "metadata": {},
     "output_type": "display_data"
    },
    {
     "name": "stdout",
     "output_type": "stream",
     "text": [
      "\u001b[1mОбщая информация о данных:\u001b[0m \n",
      "\n",
      "<class 'pandas.core.frame.DataFrame'>\n",
      "RangeIndex: 100000 entries, 0 to 99999\n",
      "Data columns (total 5 columns):\n",
      " #   Column   Non-Null Count   Dtype  \n",
      "---  ------   --------------   -----  \n",
      " 0   id       100000 non-null  object \n",
      " 1   f0       100000 non-null  float64\n",
      " 2   f1       100000 non-null  float64\n",
      " 3   f2       100000 non-null  float64\n",
      " 4   product  100000 non-null  float64\n",
      "dtypes: float64(4), object(1)\n",
      "memory usage: 3.8+ MB\n",
      "None \n",
      "\n",
      "\u001b[1mНаличие пропусков в данных:\u001b[0m \n",
      "\n",
      "id         0\n",
      "f0         0\n",
      "f1         0\n",
      "f2         0\n",
      "product    0\n",
      "dtype: int64 \n",
      "\n",
      "\u001b[1mНаличие явных дубликатов:\u001b[0m \n",
      "\n",
      "0 \n",
      "\n",
      "\u001b[1mОписательная статистика\u001b[0m \n",
      "\n"
     ]
    },
    {
     "data": {
      "text/html": [
       "<div>\n",
       "<style scoped>\n",
       "    .dataframe tbody tr th:only-of-type {\n",
       "        vertical-align: middle;\n",
       "    }\n",
       "\n",
       "    .dataframe tbody tr th {\n",
       "        vertical-align: top;\n",
       "    }\n",
       "\n",
       "    .dataframe thead th {\n",
       "        text-align: right;\n",
       "    }\n",
       "</style>\n",
       "<table border=\"1\" class=\"dataframe\">\n",
       "  <thead>\n",
       "    <tr style=\"text-align: right;\">\n",
       "      <th></th>\n",
       "      <th>f0</th>\n",
       "      <th>f1</th>\n",
       "      <th>f2</th>\n",
       "      <th>product</th>\n",
       "    </tr>\n",
       "  </thead>\n",
       "  <tbody>\n",
       "    <tr>\n",
       "      <th>count</th>\n",
       "      <td>100000.000000</td>\n",
       "      <td>100000.000000</td>\n",
       "      <td>100000.000000</td>\n",
       "      <td>100000.000000</td>\n",
       "    </tr>\n",
       "    <tr>\n",
       "      <th>mean</th>\n",
       "      <td>0.500419</td>\n",
       "      <td>0.250143</td>\n",
       "      <td>2.502647</td>\n",
       "      <td>92.500000</td>\n",
       "    </tr>\n",
       "    <tr>\n",
       "      <th>std</th>\n",
       "      <td>0.871832</td>\n",
       "      <td>0.504433</td>\n",
       "      <td>3.248248</td>\n",
       "      <td>44.288691</td>\n",
       "    </tr>\n",
       "    <tr>\n",
       "      <th>min</th>\n",
       "      <td>-1.408605</td>\n",
       "      <td>-0.848218</td>\n",
       "      <td>-12.088328</td>\n",
       "      <td>0.000000</td>\n",
       "    </tr>\n",
       "    <tr>\n",
       "      <th>25%</th>\n",
       "      <td>-0.072580</td>\n",
       "      <td>-0.200881</td>\n",
       "      <td>0.287748</td>\n",
       "      <td>56.497507</td>\n",
       "    </tr>\n",
       "    <tr>\n",
       "      <th>50%</th>\n",
       "      <td>0.502360</td>\n",
       "      <td>0.250252</td>\n",
       "      <td>2.515969</td>\n",
       "      <td>91.849972</td>\n",
       "    </tr>\n",
       "    <tr>\n",
       "      <th>75%</th>\n",
       "      <td>1.073581</td>\n",
       "      <td>0.700646</td>\n",
       "      <td>4.715088</td>\n",
       "      <td>128.564089</td>\n",
       "    </tr>\n",
       "    <tr>\n",
       "      <th>max</th>\n",
       "      <td>2.362331</td>\n",
       "      <td>1.343769</td>\n",
       "      <td>16.003790</td>\n",
       "      <td>185.364347</td>\n",
       "    </tr>\n",
       "  </tbody>\n",
       "</table>\n",
       "</div>"
      ],
      "text/plain": [
       "                  f0             f1             f2        product\n",
       "count  100000.000000  100000.000000  100000.000000  100000.000000\n",
       "mean        0.500419       0.250143       2.502647      92.500000\n",
       "std         0.871832       0.504433       3.248248      44.288691\n",
       "min        -1.408605      -0.848218     -12.088328       0.000000\n",
       "25%        -0.072580      -0.200881       0.287748      56.497507\n",
       "50%         0.502360       0.250252       2.515969      91.849972\n",
       "75%         1.073581       0.700646       4.715088     128.564089\n",
       "max         2.362331       1.343769      16.003790     185.364347"
      ]
     },
     "metadata": {},
     "output_type": "display_data"
    },
    {
     "name": "stdout",
     "output_type": "stream",
     "text": [
      "\u001b[1mКорреляция между признаками\u001b[0m \n",
      "\n"
     ]
    },
    {
     "data": {
      "text/html": [
       "<div>\n",
       "<style scoped>\n",
       "    .dataframe tbody tr th:only-of-type {\n",
       "        vertical-align: middle;\n",
       "    }\n",
       "\n",
       "    .dataframe tbody tr th {\n",
       "        vertical-align: top;\n",
       "    }\n",
       "\n",
       "    .dataframe thead th {\n",
       "        text-align: right;\n",
       "    }\n",
       "</style>\n",
       "<table border=\"1\" class=\"dataframe\">\n",
       "  <thead>\n",
       "    <tr style=\"text-align: right;\">\n",
       "      <th></th>\n",
       "      <th>f0</th>\n",
       "      <th>f1</th>\n",
       "      <th>f2</th>\n",
       "      <th>product</th>\n",
       "    </tr>\n",
       "  </thead>\n",
       "  <tbody>\n",
       "    <tr>\n",
       "      <th>f0</th>\n",
       "      <td>1.000000</td>\n",
       "      <td>-0.440723</td>\n",
       "      <td>-0.003153</td>\n",
       "      <td>0.143536</td>\n",
       "    </tr>\n",
       "    <tr>\n",
       "      <th>f1</th>\n",
       "      <td>-0.440723</td>\n",
       "      <td>1.000000</td>\n",
       "      <td>0.001724</td>\n",
       "      <td>-0.192356</td>\n",
       "    </tr>\n",
       "    <tr>\n",
       "      <th>f2</th>\n",
       "      <td>-0.003153</td>\n",
       "      <td>0.001724</td>\n",
       "      <td>1.000000</td>\n",
       "      <td>0.483663</td>\n",
       "    </tr>\n",
       "    <tr>\n",
       "      <th>product</th>\n",
       "      <td>0.143536</td>\n",
       "      <td>-0.192356</td>\n",
       "      <td>0.483663</td>\n",
       "      <td>1.000000</td>\n",
       "    </tr>\n",
       "  </tbody>\n",
       "</table>\n",
       "</div>"
      ],
      "text/plain": [
       "               f0        f1        f2   product\n",
       "f0       1.000000 -0.440723 -0.003153  0.143536\n",
       "f1      -0.440723  1.000000  0.001724 -0.192356\n",
       "f2      -0.003153  0.001724  1.000000  0.483663\n",
       "product  0.143536 -0.192356  0.483663  1.000000"
      ]
     },
     "metadata": {},
     "output_type": "display_data"
    }
   ],
   "source": [
    "information(geo_data_0)"
   ]
  },
  {
   "cell_type": "markdown",
   "metadata": {},
   "source": [
    "**Данные региона №0** впорядке: пропуски и дубликаты отсутствуют, тип данных соответствующий, наименование столбцов правильное.\\\n",
    "Целевой признак product имеет положительную корреляцию 0,48 с признаком f2"
   ]
  },
  {
   "cell_type": "code",
   "execution_count": 5,
   "metadata": {},
   "outputs": [
    {
     "data": {
      "text/html": [
       "<div>\n",
       "<style scoped>\n",
       "    .dataframe tbody tr th:only-of-type {\n",
       "        vertical-align: middle;\n",
       "    }\n",
       "\n",
       "    .dataframe tbody tr th {\n",
       "        vertical-align: top;\n",
       "    }\n",
       "\n",
       "    .dataframe thead th {\n",
       "        text-align: right;\n",
       "    }\n",
       "</style>\n",
       "<table border=\"1\" class=\"dataframe\">\n",
       "  <thead>\n",
       "    <tr style=\"text-align: right;\">\n",
       "      <th></th>\n",
       "      <th>id</th>\n",
       "      <th>f0</th>\n",
       "      <th>f1</th>\n",
       "      <th>f2</th>\n",
       "      <th>product</th>\n",
       "    </tr>\n",
       "  </thead>\n",
       "  <tbody>\n",
       "    <tr>\n",
       "      <th>0</th>\n",
       "      <td>kBEdx</td>\n",
       "      <td>-15.001348</td>\n",
       "      <td>-8.276000</td>\n",
       "      <td>-0.005876</td>\n",
       "      <td>3.179103</td>\n",
       "    </tr>\n",
       "    <tr>\n",
       "      <th>1</th>\n",
       "      <td>62mP7</td>\n",
       "      <td>14.272088</td>\n",
       "      <td>-3.475083</td>\n",
       "      <td>0.999183</td>\n",
       "      <td>26.953261</td>\n",
       "    </tr>\n",
       "    <tr>\n",
       "      <th>2</th>\n",
       "      <td>vyE1P</td>\n",
       "      <td>6.263187</td>\n",
       "      <td>-5.948386</td>\n",
       "      <td>5.001160</td>\n",
       "      <td>134.766305</td>\n",
       "    </tr>\n",
       "    <tr>\n",
       "      <th>3</th>\n",
       "      <td>KcrkZ</td>\n",
       "      <td>-13.081196</td>\n",
       "      <td>-11.506057</td>\n",
       "      <td>4.999415</td>\n",
       "      <td>137.945408</td>\n",
       "    </tr>\n",
       "    <tr>\n",
       "      <th>4</th>\n",
       "      <td>AHL4O</td>\n",
       "      <td>12.702195</td>\n",
       "      <td>-8.147433</td>\n",
       "      <td>5.004363</td>\n",
       "      <td>134.766305</td>\n",
       "    </tr>\n",
       "    <tr>\n",
       "      <th>5</th>\n",
       "      <td>HHckp</td>\n",
       "      <td>-3.327590</td>\n",
       "      <td>-2.205276</td>\n",
       "      <td>3.003647</td>\n",
       "      <td>84.038886</td>\n",
       "    </tr>\n",
       "    <tr>\n",
       "      <th>6</th>\n",
       "      <td>h5Ujo</td>\n",
       "      <td>-11.142655</td>\n",
       "      <td>-10.133399</td>\n",
       "      <td>4.002382</td>\n",
       "      <td>110.992147</td>\n",
       "    </tr>\n",
       "    <tr>\n",
       "      <th>7</th>\n",
       "      <td>muH9x</td>\n",
       "      <td>4.234715</td>\n",
       "      <td>-0.001354</td>\n",
       "      <td>2.004588</td>\n",
       "      <td>53.906522</td>\n",
       "    </tr>\n",
       "    <tr>\n",
       "      <th>8</th>\n",
       "      <td>YiRkx</td>\n",
       "      <td>13.355129</td>\n",
       "      <td>-0.332068</td>\n",
       "      <td>4.998647</td>\n",
       "      <td>134.766305</td>\n",
       "    </tr>\n",
       "    <tr>\n",
       "      <th>9</th>\n",
       "      <td>jG6Gi</td>\n",
       "      <td>1.069227</td>\n",
       "      <td>-11.025667</td>\n",
       "      <td>4.997844</td>\n",
       "      <td>137.945408</td>\n",
       "    </tr>\n",
       "  </tbody>\n",
       "</table>\n",
       "</div>"
      ],
      "text/plain": [
       "      id         f0         f1        f2     product\n",
       "0  kBEdx -15.001348  -8.276000 -0.005876    3.179103\n",
       "1  62mP7  14.272088  -3.475083  0.999183   26.953261\n",
       "2  vyE1P   6.263187  -5.948386  5.001160  134.766305\n",
       "3  KcrkZ -13.081196 -11.506057  4.999415  137.945408\n",
       "4  AHL4O  12.702195  -8.147433  5.004363  134.766305\n",
       "5  HHckp  -3.327590  -2.205276  3.003647   84.038886\n",
       "6  h5Ujo -11.142655 -10.133399  4.002382  110.992147\n",
       "7  muH9x   4.234715  -0.001354  2.004588   53.906522\n",
       "8  YiRkx  13.355129  -0.332068  4.998647  134.766305\n",
       "9  jG6Gi   1.069227 -11.025667  4.997844  137.945408"
      ]
     },
     "metadata": {},
     "output_type": "display_data"
    },
    {
     "name": "stdout",
     "output_type": "stream",
     "text": [
      "\u001b[1mОбщая информация о данных:\u001b[0m \n",
      "\n",
      "<class 'pandas.core.frame.DataFrame'>\n",
      "RangeIndex: 100000 entries, 0 to 99999\n",
      "Data columns (total 5 columns):\n",
      " #   Column   Non-Null Count   Dtype  \n",
      "---  ------   --------------   -----  \n",
      " 0   id       100000 non-null  object \n",
      " 1   f0       100000 non-null  float64\n",
      " 2   f1       100000 non-null  float64\n",
      " 3   f2       100000 non-null  float64\n",
      " 4   product  100000 non-null  float64\n",
      "dtypes: float64(4), object(1)\n",
      "memory usage: 3.8+ MB\n",
      "None \n",
      "\n",
      "\u001b[1mНаличие пропусков в данных:\u001b[0m \n",
      "\n",
      "id         0\n",
      "f0         0\n",
      "f1         0\n",
      "f2         0\n",
      "product    0\n",
      "dtype: int64 \n",
      "\n",
      "\u001b[1mНаличие явных дубликатов:\u001b[0m \n",
      "\n",
      "0 \n",
      "\n",
      "\u001b[1mОписательная статистика\u001b[0m \n",
      "\n"
     ]
    },
    {
     "data": {
      "text/html": [
       "<div>\n",
       "<style scoped>\n",
       "    .dataframe tbody tr th:only-of-type {\n",
       "        vertical-align: middle;\n",
       "    }\n",
       "\n",
       "    .dataframe tbody tr th {\n",
       "        vertical-align: top;\n",
       "    }\n",
       "\n",
       "    .dataframe thead th {\n",
       "        text-align: right;\n",
       "    }\n",
       "</style>\n",
       "<table border=\"1\" class=\"dataframe\">\n",
       "  <thead>\n",
       "    <tr style=\"text-align: right;\">\n",
       "      <th></th>\n",
       "      <th>f0</th>\n",
       "      <th>f1</th>\n",
       "      <th>f2</th>\n",
       "      <th>product</th>\n",
       "    </tr>\n",
       "  </thead>\n",
       "  <tbody>\n",
       "    <tr>\n",
       "      <th>count</th>\n",
       "      <td>100000.000000</td>\n",
       "      <td>100000.000000</td>\n",
       "      <td>100000.000000</td>\n",
       "      <td>100000.000000</td>\n",
       "    </tr>\n",
       "    <tr>\n",
       "      <th>mean</th>\n",
       "      <td>1.141296</td>\n",
       "      <td>-4.796579</td>\n",
       "      <td>2.494541</td>\n",
       "      <td>68.825000</td>\n",
       "    </tr>\n",
       "    <tr>\n",
       "      <th>std</th>\n",
       "      <td>8.965932</td>\n",
       "      <td>5.119872</td>\n",
       "      <td>1.703572</td>\n",
       "      <td>45.944423</td>\n",
       "    </tr>\n",
       "    <tr>\n",
       "      <th>min</th>\n",
       "      <td>-31.609576</td>\n",
       "      <td>-26.358598</td>\n",
       "      <td>-0.018144</td>\n",
       "      <td>0.000000</td>\n",
       "    </tr>\n",
       "    <tr>\n",
       "      <th>25%</th>\n",
       "      <td>-6.298551</td>\n",
       "      <td>-8.267985</td>\n",
       "      <td>1.000021</td>\n",
       "      <td>26.953261</td>\n",
       "    </tr>\n",
       "    <tr>\n",
       "      <th>50%</th>\n",
       "      <td>1.153055</td>\n",
       "      <td>-4.813172</td>\n",
       "      <td>2.011479</td>\n",
       "      <td>57.085625</td>\n",
       "    </tr>\n",
       "    <tr>\n",
       "      <th>75%</th>\n",
       "      <td>8.621015</td>\n",
       "      <td>-1.332816</td>\n",
       "      <td>3.999904</td>\n",
       "      <td>107.813044</td>\n",
       "    </tr>\n",
       "    <tr>\n",
       "      <th>max</th>\n",
       "      <td>29.421755</td>\n",
       "      <td>18.734063</td>\n",
       "      <td>5.019721</td>\n",
       "      <td>137.945408</td>\n",
       "    </tr>\n",
       "  </tbody>\n",
       "</table>\n",
       "</div>"
      ],
      "text/plain": [
       "                  f0             f1             f2        product\n",
       "count  100000.000000  100000.000000  100000.000000  100000.000000\n",
       "mean        1.141296      -4.796579       2.494541      68.825000\n",
       "std         8.965932       5.119872       1.703572      45.944423\n",
       "min       -31.609576     -26.358598      -0.018144       0.000000\n",
       "25%        -6.298551      -8.267985       1.000021      26.953261\n",
       "50%         1.153055      -4.813172       2.011479      57.085625\n",
       "75%         8.621015      -1.332816       3.999904     107.813044\n",
       "max        29.421755      18.734063       5.019721     137.945408"
      ]
     },
     "metadata": {},
     "output_type": "display_data"
    },
    {
     "name": "stdout",
     "output_type": "stream",
     "text": [
      "\u001b[1mКорреляция между признаками\u001b[0m \n",
      "\n"
     ]
    },
    {
     "data": {
      "text/html": [
       "<div>\n",
       "<style scoped>\n",
       "    .dataframe tbody tr th:only-of-type {\n",
       "        vertical-align: middle;\n",
       "    }\n",
       "\n",
       "    .dataframe tbody tr th {\n",
       "        vertical-align: top;\n",
       "    }\n",
       "\n",
       "    .dataframe thead th {\n",
       "        text-align: right;\n",
       "    }\n",
       "</style>\n",
       "<table border=\"1\" class=\"dataframe\">\n",
       "  <thead>\n",
       "    <tr style=\"text-align: right;\">\n",
       "      <th></th>\n",
       "      <th>f0</th>\n",
       "      <th>f1</th>\n",
       "      <th>f2</th>\n",
       "      <th>product</th>\n",
       "    </tr>\n",
       "  </thead>\n",
       "  <tbody>\n",
       "    <tr>\n",
       "      <th>f0</th>\n",
       "      <td>1.000000</td>\n",
       "      <td>0.182287</td>\n",
       "      <td>-0.001777</td>\n",
       "      <td>-0.030491</td>\n",
       "    </tr>\n",
       "    <tr>\n",
       "      <th>f1</th>\n",
       "      <td>0.182287</td>\n",
       "      <td>1.000000</td>\n",
       "      <td>-0.002595</td>\n",
       "      <td>-0.010155</td>\n",
       "    </tr>\n",
       "    <tr>\n",
       "      <th>f2</th>\n",
       "      <td>-0.001777</td>\n",
       "      <td>-0.002595</td>\n",
       "      <td>1.000000</td>\n",
       "      <td>0.999397</td>\n",
       "    </tr>\n",
       "    <tr>\n",
       "      <th>product</th>\n",
       "      <td>-0.030491</td>\n",
       "      <td>-0.010155</td>\n",
       "      <td>0.999397</td>\n",
       "      <td>1.000000</td>\n",
       "    </tr>\n",
       "  </tbody>\n",
       "</table>\n",
       "</div>"
      ],
      "text/plain": [
       "               f0        f1        f2   product\n",
       "f0       1.000000  0.182287 -0.001777 -0.030491\n",
       "f1       0.182287  1.000000 -0.002595 -0.010155\n",
       "f2      -0.001777 -0.002595  1.000000  0.999397\n",
       "product -0.030491 -0.010155  0.999397  1.000000"
      ]
     },
     "metadata": {},
     "output_type": "display_data"
    }
   ],
   "source": [
    "information(geo_data_1)"
   ]
  },
  {
   "cell_type": "markdown",
   "metadata": {},
   "source": [
    "**Данные региона №1** впорядке: пропуски и дубликаты отсутствуют, тип данных соответствующий, наименование столбцов правильное.\\\n",
    "Целевой признак product имеет очень сильную положительную корреляцию 0,99 практически 1 с признаком f2."
   ]
  },
  {
   "cell_type": "code",
   "execution_count": 6,
   "metadata": {},
   "outputs": [
    {
     "data": {
      "text/html": [
       "<div>\n",
       "<style scoped>\n",
       "    .dataframe tbody tr th:only-of-type {\n",
       "        vertical-align: middle;\n",
       "    }\n",
       "\n",
       "    .dataframe tbody tr th {\n",
       "        vertical-align: top;\n",
       "    }\n",
       "\n",
       "    .dataframe thead th {\n",
       "        text-align: right;\n",
       "    }\n",
       "</style>\n",
       "<table border=\"1\" class=\"dataframe\">\n",
       "  <thead>\n",
       "    <tr style=\"text-align: right;\">\n",
       "      <th></th>\n",
       "      <th>id</th>\n",
       "      <th>f0</th>\n",
       "      <th>f1</th>\n",
       "      <th>f2</th>\n",
       "      <th>product</th>\n",
       "    </tr>\n",
       "  </thead>\n",
       "  <tbody>\n",
       "    <tr>\n",
       "      <th>0</th>\n",
       "      <td>fwXo0</td>\n",
       "      <td>-1.146987</td>\n",
       "      <td>0.963328</td>\n",
       "      <td>-0.828965</td>\n",
       "      <td>27.758673</td>\n",
       "    </tr>\n",
       "    <tr>\n",
       "      <th>1</th>\n",
       "      <td>WJtFt</td>\n",
       "      <td>0.262778</td>\n",
       "      <td>0.269839</td>\n",
       "      <td>-2.530187</td>\n",
       "      <td>56.069697</td>\n",
       "    </tr>\n",
       "    <tr>\n",
       "      <th>2</th>\n",
       "      <td>ovLUW</td>\n",
       "      <td>0.194587</td>\n",
       "      <td>0.289035</td>\n",
       "      <td>-5.586433</td>\n",
       "      <td>62.871910</td>\n",
       "    </tr>\n",
       "    <tr>\n",
       "      <th>3</th>\n",
       "      <td>q6cA6</td>\n",
       "      <td>2.236060</td>\n",
       "      <td>-0.553760</td>\n",
       "      <td>0.930038</td>\n",
       "      <td>114.572842</td>\n",
       "    </tr>\n",
       "    <tr>\n",
       "      <th>4</th>\n",
       "      <td>WPMUX</td>\n",
       "      <td>-0.515993</td>\n",
       "      <td>1.716266</td>\n",
       "      <td>5.899011</td>\n",
       "      <td>149.600746</td>\n",
       "    </tr>\n",
       "    <tr>\n",
       "      <th>5</th>\n",
       "      <td>LzZXx</td>\n",
       "      <td>-0.758092</td>\n",
       "      <td>0.710691</td>\n",
       "      <td>2.585887</td>\n",
       "      <td>90.222465</td>\n",
       "    </tr>\n",
       "    <tr>\n",
       "      <th>6</th>\n",
       "      <td>WBHRv</td>\n",
       "      <td>-0.574891</td>\n",
       "      <td>0.317727</td>\n",
       "      <td>1.773745</td>\n",
       "      <td>45.641478</td>\n",
       "    </tr>\n",
       "    <tr>\n",
       "      <th>7</th>\n",
       "      <td>XO8fn</td>\n",
       "      <td>-1.906649</td>\n",
       "      <td>-2.458350</td>\n",
       "      <td>-0.177097</td>\n",
       "      <td>72.480640</td>\n",
       "    </tr>\n",
       "    <tr>\n",
       "      <th>8</th>\n",
       "      <td>ybmQ5</td>\n",
       "      <td>1.776292</td>\n",
       "      <td>-0.279356</td>\n",
       "      <td>3.004156</td>\n",
       "      <td>106.616832</td>\n",
       "    </tr>\n",
       "    <tr>\n",
       "      <th>9</th>\n",
       "      <td>OilcN</td>\n",
       "      <td>-1.214452</td>\n",
       "      <td>-0.439314</td>\n",
       "      <td>5.922514</td>\n",
       "      <td>52.954532</td>\n",
       "    </tr>\n",
       "  </tbody>\n",
       "</table>\n",
       "</div>"
      ],
      "text/plain": [
       "      id        f0        f1        f2     product\n",
       "0  fwXo0 -1.146987  0.963328 -0.828965   27.758673\n",
       "1  WJtFt  0.262778  0.269839 -2.530187   56.069697\n",
       "2  ovLUW  0.194587  0.289035 -5.586433   62.871910\n",
       "3  q6cA6  2.236060 -0.553760  0.930038  114.572842\n",
       "4  WPMUX -0.515993  1.716266  5.899011  149.600746\n",
       "5  LzZXx -0.758092  0.710691  2.585887   90.222465\n",
       "6  WBHRv -0.574891  0.317727  1.773745   45.641478\n",
       "7  XO8fn -1.906649 -2.458350 -0.177097   72.480640\n",
       "8  ybmQ5  1.776292 -0.279356  3.004156  106.616832\n",
       "9  OilcN -1.214452 -0.439314  5.922514   52.954532"
      ]
     },
     "metadata": {},
     "output_type": "display_data"
    },
    {
     "name": "stdout",
     "output_type": "stream",
     "text": [
      "\u001b[1mОбщая информация о данных:\u001b[0m \n",
      "\n",
      "<class 'pandas.core.frame.DataFrame'>\n",
      "RangeIndex: 100000 entries, 0 to 99999\n",
      "Data columns (total 5 columns):\n",
      " #   Column   Non-Null Count   Dtype  \n",
      "---  ------   --------------   -----  \n",
      " 0   id       100000 non-null  object \n",
      " 1   f0       100000 non-null  float64\n",
      " 2   f1       100000 non-null  float64\n",
      " 3   f2       100000 non-null  float64\n",
      " 4   product  100000 non-null  float64\n",
      "dtypes: float64(4), object(1)\n",
      "memory usage: 3.8+ MB\n",
      "None \n",
      "\n",
      "\u001b[1mНаличие пропусков в данных:\u001b[0m \n",
      "\n",
      "id         0\n",
      "f0         0\n",
      "f1         0\n",
      "f2         0\n",
      "product    0\n",
      "dtype: int64 \n",
      "\n",
      "\u001b[1mНаличие явных дубликатов:\u001b[0m \n",
      "\n",
      "0 \n",
      "\n",
      "\u001b[1mОписательная статистика\u001b[0m \n",
      "\n"
     ]
    },
    {
     "data": {
      "text/html": [
       "<div>\n",
       "<style scoped>\n",
       "    .dataframe tbody tr th:only-of-type {\n",
       "        vertical-align: middle;\n",
       "    }\n",
       "\n",
       "    .dataframe tbody tr th {\n",
       "        vertical-align: top;\n",
       "    }\n",
       "\n",
       "    .dataframe thead th {\n",
       "        text-align: right;\n",
       "    }\n",
       "</style>\n",
       "<table border=\"1\" class=\"dataframe\">\n",
       "  <thead>\n",
       "    <tr style=\"text-align: right;\">\n",
       "      <th></th>\n",
       "      <th>f0</th>\n",
       "      <th>f1</th>\n",
       "      <th>f2</th>\n",
       "      <th>product</th>\n",
       "    </tr>\n",
       "  </thead>\n",
       "  <tbody>\n",
       "    <tr>\n",
       "      <th>count</th>\n",
       "      <td>100000.000000</td>\n",
       "      <td>100000.000000</td>\n",
       "      <td>100000.000000</td>\n",
       "      <td>100000.000000</td>\n",
       "    </tr>\n",
       "    <tr>\n",
       "      <th>mean</th>\n",
       "      <td>0.002023</td>\n",
       "      <td>-0.002081</td>\n",
       "      <td>2.495128</td>\n",
       "      <td>95.000000</td>\n",
       "    </tr>\n",
       "    <tr>\n",
       "      <th>std</th>\n",
       "      <td>1.732045</td>\n",
       "      <td>1.730417</td>\n",
       "      <td>3.473445</td>\n",
       "      <td>44.749921</td>\n",
       "    </tr>\n",
       "    <tr>\n",
       "      <th>min</th>\n",
       "      <td>-8.760004</td>\n",
       "      <td>-7.084020</td>\n",
       "      <td>-11.970335</td>\n",
       "      <td>0.000000</td>\n",
       "    </tr>\n",
       "    <tr>\n",
       "      <th>25%</th>\n",
       "      <td>-1.162288</td>\n",
       "      <td>-1.174820</td>\n",
       "      <td>0.130359</td>\n",
       "      <td>59.450441</td>\n",
       "    </tr>\n",
       "    <tr>\n",
       "      <th>50%</th>\n",
       "      <td>0.009424</td>\n",
       "      <td>-0.009482</td>\n",
       "      <td>2.484236</td>\n",
       "      <td>94.925613</td>\n",
       "    </tr>\n",
       "    <tr>\n",
       "      <th>75%</th>\n",
       "      <td>1.158535</td>\n",
       "      <td>1.163678</td>\n",
       "      <td>4.858794</td>\n",
       "      <td>130.595027</td>\n",
       "    </tr>\n",
       "    <tr>\n",
       "      <th>max</th>\n",
       "      <td>7.238262</td>\n",
       "      <td>7.844801</td>\n",
       "      <td>16.739402</td>\n",
       "      <td>190.029838</td>\n",
       "    </tr>\n",
       "  </tbody>\n",
       "</table>\n",
       "</div>"
      ],
      "text/plain": [
       "                  f0             f1             f2        product\n",
       "count  100000.000000  100000.000000  100000.000000  100000.000000\n",
       "mean        0.002023      -0.002081       2.495128      95.000000\n",
       "std         1.732045       1.730417       3.473445      44.749921\n",
       "min        -8.760004      -7.084020     -11.970335       0.000000\n",
       "25%        -1.162288      -1.174820       0.130359      59.450441\n",
       "50%         0.009424      -0.009482       2.484236      94.925613\n",
       "75%         1.158535       1.163678       4.858794     130.595027\n",
       "max         7.238262       7.844801      16.739402     190.029838"
      ]
     },
     "metadata": {},
     "output_type": "display_data"
    },
    {
     "name": "stdout",
     "output_type": "stream",
     "text": [
      "\u001b[1mКорреляция между признаками\u001b[0m \n",
      "\n"
     ]
    },
    {
     "data": {
      "text/html": [
       "<div>\n",
       "<style scoped>\n",
       "    .dataframe tbody tr th:only-of-type {\n",
       "        vertical-align: middle;\n",
       "    }\n",
       "\n",
       "    .dataframe tbody tr th {\n",
       "        vertical-align: top;\n",
       "    }\n",
       "\n",
       "    .dataframe thead th {\n",
       "        text-align: right;\n",
       "    }\n",
       "</style>\n",
       "<table border=\"1\" class=\"dataframe\">\n",
       "  <thead>\n",
       "    <tr style=\"text-align: right;\">\n",
       "      <th></th>\n",
       "      <th>f0</th>\n",
       "      <th>f1</th>\n",
       "      <th>f2</th>\n",
       "      <th>product</th>\n",
       "    </tr>\n",
       "  </thead>\n",
       "  <tbody>\n",
       "    <tr>\n",
       "      <th>f0</th>\n",
       "      <td>1.000000</td>\n",
       "      <td>0.000528</td>\n",
       "      <td>-0.000448</td>\n",
       "      <td>-0.001987</td>\n",
       "    </tr>\n",
       "    <tr>\n",
       "      <th>f1</th>\n",
       "      <td>0.000528</td>\n",
       "      <td>1.000000</td>\n",
       "      <td>0.000779</td>\n",
       "      <td>-0.001012</td>\n",
       "    </tr>\n",
       "    <tr>\n",
       "      <th>f2</th>\n",
       "      <td>-0.000448</td>\n",
       "      <td>0.000779</td>\n",
       "      <td>1.000000</td>\n",
       "      <td>0.445871</td>\n",
       "    </tr>\n",
       "    <tr>\n",
       "      <th>product</th>\n",
       "      <td>-0.001987</td>\n",
       "      <td>-0.001012</td>\n",
       "      <td>0.445871</td>\n",
       "      <td>1.000000</td>\n",
       "    </tr>\n",
       "  </tbody>\n",
       "</table>\n",
       "</div>"
      ],
      "text/plain": [
       "               f0        f1        f2   product\n",
       "f0       1.000000  0.000528 -0.000448 -0.001987\n",
       "f1       0.000528  1.000000  0.000779 -0.001012\n",
       "f2      -0.000448  0.000779  1.000000  0.445871\n",
       "product -0.001987 -0.001012  0.445871  1.000000"
      ]
     },
     "metadata": {},
     "output_type": "display_data"
    }
   ],
   "source": [
    "information(geo_data_2)"
   ]
  },
  {
   "cell_type": "markdown",
   "metadata": {},
   "source": [
    "**Данные региона №2** впорядке: пропуски и дубликаты отсутствуют, тип данных соответствующий, наименование столбцов правильное.\\\n",
    "Целевой признак product так же как и в geo_data_0 имеет положительную корреляцию 0,44 с признаком f2."
   ]
  },
  {
   "cell_type": "markdown",
   "metadata": {},
   "source": [
    "<div class=\"alert alert-block alert-success\"><b>Комментарий ревьюера </b>\n",
    "    \n",
    "<b>Успех:</b><br>\n",
    "👍 Детальное знакомство с данными. Очень хорошо, что используешь функцию для повторяющихся действий.\n",
    "</div> "
   ]
  },
  {
   "cell_type": "markdown",
   "metadata": {},
   "source": [
    "<div class=\"alert alert-block alert-warning\"><b>Комментарий ревьюера</b>\n",
    "    \n",
    "<b>Совет:</b><br>\n",
    "* Еще можно проверить дубликаты по `id`    \n",
    "* Чтобы визуализация была проще к пониманию, используются [тепловые карты для визуализации корреляционных матриц](https://datastart.ru/blog/read/seaborn-heatmaps-13-sposobov-nastroit-vizualizaciyu-matricy-korrelyacii).\n",
    "\n",
    "\n",
    "</div>"
   ]
  },
  {
   "cell_type": "markdown",
   "metadata": {},
   "source": [
    "Признак id носит уникальный характер и никак не влияет на целевой признак product, удалим его."
   ]
  },
  {
   "cell_type": "code",
   "execution_count": 7,
   "metadata": {},
   "outputs": [],
   "source": [
    "geo_data_0 = geo_data_0.drop(['id'],axis=1)\n",
    "geo_data_1 = geo_data_1.drop(['id'],axis=1)\n",
    "geo_data_2 = geo_data_2.drop(['id'],axis=1)"
   ]
  },
  {
   "cell_type": "markdown",
   "metadata": {},
   "source": [
    "<div class=\"alert alert-block alert-success\"><b>Комментарий ревьюера </b>\n",
    "    \n",
    "<b>Успех:</b><br>\n",
    "👍\n",
    "</div> "
   ]
  },
  {
   "cell_type": "markdown",
   "metadata": {},
   "source": [
    "## Обучение и проверка модели"
   ]
  },
  {
   "cell_type": "markdown",
   "metadata": {},
   "source": [
    "### Разбейте данные на обучающую и валидационную выборки в соотношении 75:25."
   ]
  },
  {
   "cell_type": "code",
   "execution_count": 8,
   "metadata": {},
   "outputs": [],
   "source": [
    "features_geo_0 = geo_data_0.drop(['product'], axis=1)\n",
    "target_geo_0 = geo_data_0['product']\n",
    "\n",
    "\n",
    "features_geo_1 = geo_data_1.drop(['product'], axis=1)\n",
    "target_geo_1 = geo_data_1['product']\n",
    "\n",
    "\n",
    "features_geo_2 = geo_data_2.drop(['product'], axis=1)\n",
    "target_geo_2 = geo_data_2['product']"
   ]
  },
  {
   "cell_type": "code",
   "execution_count": 9,
   "metadata": {},
   "outputs": [],
   "source": [
    "features_train_0, features_valid_0, target_train_0, target_valid_0 = train_test_split(features_geo_0, target_geo_0, \n",
    "                                                    test_size=0.25, \n",
    "                                                    random_state=12345\n",
    "                                                    )"
   ]
  },
  {
   "cell_type": "code",
   "execution_count": 10,
   "metadata": {},
   "outputs": [],
   "source": [
    "features_train_1, features_valid_1, target_train_1, target_valid_1 = train_test_split(features_geo_1, target_geo_1, \n",
    "                                                    test_size=0.25, \n",
    "                                                    random_state=12345\n",
    "                                                    )\n"
   ]
  },
  {
   "cell_type": "code",
   "execution_count": 11,
   "metadata": {},
   "outputs": [],
   "source": [
    "features_train_2, features_valid_2, target_train_2, target_valid_2 = train_test_split(features_geo_2, target_geo_2, \n",
    "                                                    test_size=0.25, \n",
    "                                                    random_state=12345\n",
    "                                                    )"
   ]
  },
  {
   "cell_type": "markdown",
   "metadata": {},
   "source": [
    "<div class=\"alert alert-block alert-success\"><b>Комментарий ревьюера </b>\n",
    "    \n",
    "<b>Успех:</b><br>\n",
    "👍 Данные разделены на обучающую и валидационную выборку корректно - 75:25.<br>\n",
    "Будет надежнее, если после разбиения проверять доли)    \n",
    "</div>"
   ]
  },
  {
   "cell_type": "markdown",
   "metadata": {},
   "source": [
    "### Обучите модель и сделайте предсказания на валидационной выборке."
   ]
  },
  {
   "cell_type": "code",
   "execution_count": 12,
   "metadata": {},
   "outputs": [],
   "source": [
    "model = LinearRegression()\n",
    "def predict_valid (features_train,target_train,features_valid):\n",
    "    model.fit(features_train, target_train)\n",
    "    predicted_valid = pd.Series(model.predict(features_valid),index=target_valid_0.index)\n",
    "    return predicted_valid"
   ]
  },
  {
   "cell_type": "markdown",
   "metadata": {},
   "source": [
    "<div class=\"alert alert-block alert-success\"><b>Комментарий ревьюера </b>\n",
    "    \n",
    "<b>Успех:</b><br>\n",
    "👍 Индексы учтены.   \n",
    "</div>"
   ]
  },
  {
   "cell_type": "code",
   "execution_count": 13,
   "metadata": {},
   "outputs": [],
   "source": [
    "predict_valid_0 = predict_valid(features_train_0,target_train_0,features_valid_0)\n",
    "predict_valid_1 = predict_valid(features_train_1,target_train_1,features_valid_1)\n",
    "predict_valid_2 = predict_valid(features_train_2,target_train_2,features_valid_2)"
   ]
  },
  {
   "cell_type": "code",
   "execution_count": 14,
   "metadata": {},
   "outputs": [],
   "source": [
    "predict = [predict_valid_0,predict_valid_1,predict_valid_2]\n",
    "target = [target_valid_0, target_valid_1, target_valid_2]"
   ]
  },
  {
   "cell_type": "markdown",
   "metadata": {},
   "source": [
    "### Средний запас предсказанного сырья и RMSE модели."
   ]
  },
  {
   "cell_type": "code",
   "execution_count": 15,
   "metadata": {
    "scrolled": false
   },
   "outputs": [
    {
     "name": "stdout",
     "output_type": "stream",
     "text": [
      "Регион 0\n",
      "Cредний запас предсказанного сырья 92.59256778438035\n",
      "RMSE модели 37.5794217150813 \n",
      "\n",
      "Регион 1\n",
      "Cредний запас предсказанного сырья 68.728546895446\n",
      "RMSE модели 0.893099286775617 \n",
      "\n",
      "Регион 2\n",
      "Cредний запас предсказанного сырья 94.96504596800489\n",
      "RMSE модели 40.02970873393434 \n",
      "\n"
     ]
    }
   ],
   "source": [
    "for i in range(len(predict)):\n",
    "  \n",
    "    print(f'Регион {i}')\n",
    "    print(f'Cредний запас предсказанного сырья {predict[i].mean()}')\n",
    "    rmse = mean_squared_error(target[i], predict[i],squared=False)\n",
    "    print('RMSE модели', rmse, '\\n')"
   ]
  },
  {
   "cell_type": "markdown",
   "metadata": {},
   "source": [
    "Наименьшая ошибка у модели, обученной на данных **Региона 1**, близка к нулю, ошибки на двух других регионах превышают данный показатель почти в 40 раз. Предполагаю, что такие результаты связаны с тем, что в регионе 1, наблюдалась сильная корреляция целевого признака с признаком f2(близка к 1)"
   ]
  },
  {
   "cell_type": "markdown",
   "metadata": {},
   "source": [
    "<div class=\"alert alert-block alert-success\"><b>Комментарий ревьюера</b>\n",
    "    \n",
    "<b>Успех:</b><br>\n",
    "    👍 Молодец, что обращаешь внимание на размер ошибки, в двух других регионах она катастрофически большая - почти 40% от  среднего запаса. Действительно, связь размера ошибки и корреляции очевидна.\n",
    "    \n",
    "</div>  "
   ]
  },
  {
   "cell_type": "markdown",
   "metadata": {},
   "source": [
    "## Подготовка к расчёту прибыли"
   ]
  },
  {
   "cell_type": "code",
   "execution_count": 16,
   "metadata": {},
   "outputs": [
    {
     "name": "stdout",
     "output_type": "stream",
     "text": [
      "Затраты на разработку одной скважины : 50000000.0\n",
      "Необходимый объем скважины для безубыточной разработки :  111.111 тысяч баррелей\n"
     ]
    }
   ],
   "source": [
    "total_budget = 10000000000 # общие затраты на разработку в регионе\n",
    "income_1000 = 450000 # доход с единицы продукта(1000 баррелей)\n",
    "income_1 = 450 # доход с 1 барреля\n",
    "oil_well = 200 # количество скважин\n",
    "probability_of_losses = 0.025 # вероятность убытков\n",
    "\n",
    "\n",
    "#Рассчитаем затраты на разработку одной скважины\n",
    "budget_one_oil_well = total_budget/oil_well\n",
    "#Рассчитаем необходимый объем скважины для безубыточной разработки\n",
    "oil_well_volume = budget_one_oil_well / income_1000\n",
    "print(f'Затраты на разработку одной скважины : {budget_one_oil_well }')\n",
    "print('Необходимый объем скважины для безубыточной разработки :  {:.3f} тысяч баррелей'.format(oil_well_volume))"
   ]
  },
  {
   "cell_type": "markdown",
   "metadata": {},
   "source": [
    "<div class=\"alert alert-block alert-success\"><b>Комментарий ревьюера </b>\n",
    "    \n",
    "<b>Успех:</b><br>\n",
    "👍 Достаточный объём сырья для безубыточной разработки новой скважины рассчитан верно.\n",
    "</div>"
   ]
  },
  {
   "cell_type": "markdown",
   "metadata": {},
   "source": [
    "<div class=\"alert alert-block alert-warning\"><b>Комментарий ревьюера</b>\n",
    "    \n",
    "<b>Совет:</b><br>\n",
    "Владислава,  <br>   \n",
    "* Согласно руководству по написанию кода на Python [PEP-8](https://pythonworld.ru/osnovy/pep-8-rukovodstvo-po-napisaniyu-koda-na-python.html#section-29) названия констант принято задавать заглавными буквами, например, `TOTAL_BUDGET`. А еще важно объявлять их в начале проекта после импортов, затем загрузка данных. Так проще будет их найти и изменить, если возникнет такая необходимость.\n",
    "* Для записи больших чисел и более удобного чтения, чтобы не запутаться в нулях, можно использовать такую запись: `10_000_000_000` или `10e9`, что означает 10 * 10**9.    \n",
    "</div>"
   ]
  },
  {
   "cell_type": "markdown",
   "metadata": {},
   "source": [
    "Ни один регион по предсказанному среднему запасу сырья не удовлетворяет условию для безубыточной разработки в объеме 111,111 тыс.баррелей."
   ]
  },
  {
   "cell_type": "code",
   "execution_count": 17,
   "metadata": {},
   "outputs": [
    {
     "data": {
      "text/plain": [
       "(92.50000000000001, 68.82500000000002, 95.00000000000004)"
      ]
     },
     "execution_count": 17,
     "metadata": {},
     "output_type": "execute_result"
    }
   ],
   "source": [
    "target_geo_0.mean(), target_geo_1.mean(), target_geo_2.mean()"
   ]
  },
  {
   "cell_type": "markdown",
   "metadata": {},
   "source": [
    "<div class=\"alert alert-block alert-warning\"><b>Комментарий ревьюера</b>\n",
    "    \n",
    "<b>Совет:</b> <br>\n",
    "Здесь вот на что надо обратить внимание! <br>\n",
    "В каждом регионе средний объем сырья меньше достаточного объёма для безубыточности. <br>   \n",
    "\n",
    "Средний объем предсказанного сырья рассчитан на основании 25 000 точек, из которых в результате надо выбрать 200. В результате,  среди этих скважин могут быть скважины с достаточным и недостаточным запасом сырья. <br>\n",
    "    \n",
    "Имеено техника \"Bootstrap\" позволяет оценить риск убытков при случайным отборе точек. 1000 раз отбирая случайным образом точки, считаем какой % случаев принесет убытки. \n",
    "    \n",
    "   \n",
    "</div>"
   ]
  },
  {
   "cell_type": "markdown",
   "metadata": {},
   "source": [
    "## Расчёт прибыли и рисков "
   ]
  },
  {
   "cell_type": "code",
   "execution_count": 18,
   "metadata": {},
   "outputs": [],
   "source": [
    "def revenue(target, probabilities, count):\n",
    "    probs_sorted = probabilities.sort_values(ascending=False)\n",
    "    selected = target[probs_sorted.index][:count]\n",
    "    selected_sum = selected.sum()\n",
    "    return income_1000 * selected_sum  - total_budget"
   ]
  },
  {
   "cell_type": "code",
   "execution_count": 19,
   "metadata": {},
   "outputs": [],
   "source": [
    "def risk (target_valid,predict_valid,name,color):\n",
    "    state = np.random.RandomState(12345)\n",
    "    values = [] \n",
    "    count_negative_profit = 0\n",
    "    for j in range(1000):\n",
    "        target_subsample = target_valid.sample(500,replace=True, random_state=state)\n",
    "        probs_subsample = predict_valid [target_subsample.index]  \n",
    "        revenue_2 = revenue(target_subsample,probs_subsample,oil_well)\n",
    "        values.append(revenue_2)\n",
    "        if revenue_2 < 0:\n",
    "            count_negative_profit+=1\n",
    "    values = pd.Series(values)\n",
    "    lower = values.quantile(probability_of_losses)\n",
    "    upper = values.quantile(0.975)\n",
    "\n",
    "\n",
    "    mean = values.mean()\n",
    "\n",
    "    print('\\033[94m'+'—'*80)\n",
    "    print(name)\n",
    "    print(\"Средняя выручка:\", mean)\n",
    "    print('95% доверительный интервал:({:.2f} ; {:.2f})'.format(lower, upper))\n",
    "    print('Риск убытков: {:.2%}'.format(count_negative_profit / 1000))\n",
    "    print('\\033[94m'+'—'*80)\n",
    "    \n",
    "    \n",
    "    \n",
    "    plt.figure(figsize=(13,8))\n",
    "    sns.distplot(values, color=color)\n",
    "    plt.axvline(lower, color='red')\n",
    "    plt.axvline(mean, color='black',linestyle=':')\n",
    "    plt.axvline(upper, color='red')\n",
    "    plt.title(f'Выручка {name}',fontsize=22)\n",
    "    plt.xlabel('выручка в рублях')\n",
    "    plt.ylabel('количество скважин')"
   ]
  },
  {
   "cell_type": "markdown",
   "metadata": {},
   "source": [
    "<div class=\"alert alert-block alert-success\"><b>Комментарий ревьюера</b>\n",
    "    \n",
    "<b>Успех:</b><br>\n",
    "    👍 Отлично, что при семплировании данных устанавливаешь `replace = True`, это необходимо чтобы наблюдение в выборку попало несколько раз, что позволяет добиться независимости при каждом выборе, иначе вероятность достать элемент из выборки будет с каждым разом увеличиваться. Чем больше размер подвыборки, тем выраженнее будет зависимость, поэтому без возврата не удастся получить разнообразные варианты, а подвыборку бОльшего размера вообще не получить.\n",
    "\n",
    "Почему именно так. Вспомним, что выборка - это некоторое представление о генеральной совокупности, ее часть. Значит, что где-то в регионе существуют и другие потенциальные точки добычи нефти, о которых мы можем не знать, но они являются частью этой генеральной совокупности. В этом случае повторяющиеся наблюдения можно считать разными точками добычи из всей генеральной совокупности с близкими характеристиками.\n",
    "    \n",
    "</div>  "
   ]
  },
  {
   "cell_type": "code",
   "execution_count": 20,
   "metadata": {},
   "outputs": [
    {
     "name": "stdout",
     "output_type": "stream",
     "text": [
      "\u001b[94m————————————————————————————————————————————————————————————————————————————————\n",
      "Регион 0\n",
      "Средняя выручка: 425938526.91059244\n",
      "95% доверительный интервал:(-102090094.84 ; 947976353.36)\n",
      "Риск убытков: 6.00%\n",
      "\u001b[94m————————————————————————————————————————————————————————————————————————————————\n"
     ]
    },
    {
     "data": {
      "image/png": "[encoded data removed]",
      "text/plain": [
       "<Figure size 936x576 with 1 Axes>"
      ]
     },
     "metadata": {
      "needs_background": "light"
     },
     "output_type": "display_data"
    }
   ],
   "source": [
    "risk(target_valid_0,predict_valid_0,'Регион 0','purple')"
   ]
  },
  {
   "cell_type": "code",
   "execution_count": 21,
   "metadata": {},
   "outputs": [
    {
     "name": "stdout",
     "output_type": "stream",
     "text": [
      "\u001b[94m————————————————————————————————————————————————————————————————————————————————\n",
      "Регион 1\n",
      "Средняя выручка: 515222773.4432899\n",
      "95% доверительный интервал:(68873225.37 ; 931547591.26)\n",
      "Риск убытков: 1.00%\n",
      "\u001b[94m————————————————————————————————————————————————————————————————————————————————\n"
     ]
    },
    {
     "data": {
      "image/png": "[encoded data removed]",
      "text/plain": [
       "<Figure size 936x576 with 1 Axes>"
      ]
     },
     "metadata": {
      "needs_background": "light"
     },
     "output_type": "display_data"
    }
   ],
   "source": [
    "risk(target_valid_1,predict_valid_1,'Регион 1','blue')"
   ]
  },
  {
   "cell_type": "code",
   "execution_count": 22,
   "metadata": {},
   "outputs": [
    {
     "name": "stdout",
     "output_type": "stream",
     "text": [
      "\u001b[94m————————————————————————————————————————————————————————————————————————————————\n",
      "Регион 2\n",
      "Средняя выручка: 435008362.7827556\n",
      "95% доверительный интервал:(-128880547.33 ; 969706954.18)\n",
      "Риск убытков: 6.40%\n",
      "\u001b[94m————————————————————————————————————————————————————————————————————————————————\n"
     ]
    },
    {
     "data": {
      "image/png": "[encoded data removed]",
      "text/plain": [
       "<Figure size 936x576 with 1 Axes>"
      ]
     },
     "metadata": {
      "needs_background": "light"
     },
     "output_type": "display_data"
    }
   ],
   "source": [
    "risk(target_valid_2,predict_valid_2,'Регион 2','green')"
   ]
  },
  {
   "cell_type": "markdown",
   "metadata": {},
   "source": [
    "## Вывод"
   ]
  },
  {
   "cell_type": "markdown",
   "metadata": {},
   "source": [
    "Согласно условию задачи после оценки рисков нужно оставить лишь те регионы, в которых вероятность убытков меньше 2.5% и среди них выбирать регион с наибольшей средней прибылью. Этому условию **соответствует только Регион №1**, где вероятность риска равна 1% и средняя прибыль составляет более 515 млн.рублей.\\\n",
    "Так же предсазания модели лучше всего работают на данных Региона№1, ошибка модели составляет 0,89."
   ]
  },
  {
   "cell_type": "markdown",
   "metadata": {},
   "source": [
    "<div class=\"alert alert-block alert-success\"><b>Комментарий ревьюера </b>\n",
    "    \n",
    "<b>Успех:</b><br>\n",
    "👍 Регион выбран абсолютно верно.\n",
    "</div>"
   ]
  },
  {
   "cell_type": "markdown",
   "metadata": {},
   "source": [
    "<div style=\"background: #cceeaa; padding: 5px; border: 1px solid green; border-radius: 5px;\">\n",
    "<font color='green'> \n",
    "    <b><u>Общий вывод по проекту</u></b>\n",
    "<font color='green'><br> \n",
    "\n",
    "\n",
    "Владислава, приложено много усилий, ты - молодец! Крепкий проект! Критичных ошибок нет. Есть несколько важных моментов, которые я отметила и которые можно было бы улучшить, подсказки ты найдешь в моих комментариях. \n",
    "\n",
    "**Что мне особенно понравилось в твоей работе:**:\n",
    " \n",
    "* Хорошее знакомство с данными.\n",
    "* Рассчитан средний запас предсказанного сырья для каждого региона.\n",
    "* Рассчитан достаточный объём сырья для безубыточной разработки новой скважины.    \n",
    "* Написана функция для расчёта прибыли.\n",
    "* Использованы функции для повторяющихся действий.    \n",
    "* Рассчитаны риски, прибыль и доверительный интервал для каждого региона.   \n",
    "* Есть выводы в каждом блоке.    \n",
    "* Код логичный и понятный. \n",
    "* Проект полностью соответствует плану!<br>\n",
    "\n",
    "Очень рекомендую посмотреть видео от Глеба Михайлова!)<br>\n",
    "**[Линейная Регрессия для Дата Саентиста](https://www.youtube.com/watch?v=QZJ94igWVxQ&t=19s)**     <br> \n",
    "    \n",
    "\n",
    "😊Буду рада, если смогла быть тебе полезной!)<br> \n",
    "А я, в свою очередь, с удовольствием принимаю проект!<br> \n",
    "**И желаю тебе удачи в дальнейшей учебе!**😉"
   ]
  }
 ],
 "metadata": {
  "ExecuteTimeLog": [
   {
    "duration": 1759,
    "start_time": "2022-11-22T11:43:56.580Z"
   },
   {
    "duration": 355,
    "start_time": "2022-11-22T11:43:58.341Z"
   },
   {
    "duration": 5,
    "start_time": "2022-11-22T11:43:58.697Z"
   },
   {
    "duration": 119,
    "start_time": "2022-11-22T11:43:58.704Z"
   },
   {
    "duration": 112,
    "start_time": "2022-11-22T11:43:58.825Z"
   },
   {
    "duration": 115,
    "start_time": "2022-11-22T11:43:58.939Z"
   },
   {
    "duration": 12,
    "start_time": "2022-11-22T11:43:59.056Z"
   },
   {
    "duration": 27,
    "start_time": "2022-11-22T11:43:59.070Z"
   },
   {
    "duration": 11,
    "start_time": "2022-11-22T11:43:59.099Z"
   },
   {
    "duration": 11,
    "start_time": "2022-11-22T11:43:59.112Z"
   },
   {
    "duration": 11,
    "start_time": "2022-11-22T11:43:59.125Z"
   },
   {
    "duration": 6,
    "start_time": "2022-11-22T11:43:59.137Z"
   },
   {
    "duration": 161,
    "start_time": "2022-11-22T11:43:59.144Z"
   },
   {
    "duration": 98,
    "start_time": "2022-11-22T11:43:59.307Z"
   },
   {
    "duration": 101,
    "start_time": "2022-11-22T11:43:59.407Z"
   },
   {
    "duration": 5,
    "start_time": "2022-11-22T11:43:59.509Z"
   },
   {
    "duration": 8,
    "start_time": "2022-11-22T11:43:59.515Z"
   },
   {
    "duration": 6,
    "start_time": "2022-11-22T11:43:59.525Z"
   },
   {
    "duration": 1604,
    "start_time": "2022-11-22T11:43:59.532Z"
   },
   {
    "duration": 1707,
    "start_time": "2022-11-22T11:44:01.138Z"
   },
   {
    "duration": 1633,
    "start_time": "2022-11-22T11:44:02.847Z"
   },
   {
    "duration": 6,
    "start_time": "2022-11-22T11:44:18.489Z"
   },
   {
    "duration": 5,
    "start_time": "2022-11-22T12:05:23.824Z"
   },
   {
    "duration": 1700,
    "start_time": "2022-11-22T12:05:50.094Z"
   },
   {
    "duration": 356,
    "start_time": "2022-11-22T12:05:51.796Z"
   },
   {
    "duration": 4,
    "start_time": "2022-11-22T12:05:52.153Z"
   },
   {
    "duration": 108,
    "start_time": "2022-11-22T12:05:52.159Z"
   },
   {
    "duration": 115,
    "start_time": "2022-11-22T12:05:52.269Z"
   },
   {
    "duration": 125,
    "start_time": "2022-11-22T12:05:52.385Z"
   },
   {
    "duration": 14,
    "start_time": "2022-11-22T12:05:52.512Z"
   },
   {
    "duration": 12,
    "start_time": "2022-11-22T12:05:52.527Z"
   },
   {
    "duration": 19,
    "start_time": "2022-11-22T12:05:52.540Z"
   },
   {
    "duration": 11,
    "start_time": "2022-11-22T12:05:52.561Z"
   },
   {
    "duration": 28,
    "start_time": "2022-11-22T12:05:52.574Z"
   },
   {
    "duration": 5,
    "start_time": "2022-11-22T12:05:52.604Z"
   },
   {
    "duration": 189,
    "start_time": "2022-11-22T12:05:52.610Z"
   },
   {
    "duration": 4,
    "start_time": "2022-11-22T12:05:52.802Z"
   },
   {
    "duration": 194,
    "start_time": "2022-11-22T12:05:52.808Z"
   },
   {
    "duration": 4,
    "start_time": "2022-11-22T12:05:53.004Z"
   },
   {
    "duration": 61,
    "start_time": "2022-11-22T12:05:53.009Z"
   },
   {
    "duration": 26,
    "start_time": "2022-11-22T12:05:53.072Z"
   },
   {
    "duration": 19,
    "start_time": "2022-11-22T12:05:53.100Z"
   },
   {
    "duration": 1609,
    "start_time": "2022-11-22T12:05:53.120Z"
   },
   {
    "duration": 1558,
    "start_time": "2022-11-22T12:05:54.730Z"
   },
   {
    "duration": 1513,
    "start_time": "2022-11-22T12:05:56.297Z"
   }
  ],
  "hide_input": false,
  "kernelspec": {
   "display_name": "Python 3 (ipykernel)",
   "language": "python",
   "name": "python3"
  },
  "language_info": {
   "codemirror_mode": {
    "name": "ipython",
    "version": 3
   },
   "file_extension": ".py",
   "mimetype": "text/x-python",
   "name": "python",
   "nbconvert_exporter": "python",
   "pygments_lexer": "ipython3",
   "version": "3.9.12"
  },
  "toc": {
   "base_numbering": 1,
   "nav_menu": {},
   "number_sections": true,
   "sideBar": true,
   "skip_h1_title": true,
   "title_cell": "Table of Contents",
   "title_sidebar": "Contents",
   "toc_cell": false,
   "toc_position": {},
   "toc_section_display": true,
   "toc_window_display": false
  }
 },
 "nbformat": 4,
 "nbformat_minor": 2
}
