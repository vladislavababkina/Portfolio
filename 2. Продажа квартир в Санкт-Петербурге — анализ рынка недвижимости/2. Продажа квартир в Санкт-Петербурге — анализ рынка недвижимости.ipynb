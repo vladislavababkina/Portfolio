{
 "cells": [
  {
   "cell_type": "markdown",
   "id": "7fc8e3a4",
   "metadata": {},
   "source": [
    "# <div class=\"alert alert-success\">\n",
    "<h2> Комментарий ревьюера</h2>\n",
    "    \n",
    "Привет! Меня зовут Алексей Тюрин, я буду делать ревью твоей работы. Давай будем общаться на «ты».\n",
    "\n",
    "У тебя хорошая, аккуратная работа 👍. В ней всё здорово, я её вернул, чтобы у тебя была возможность посмотреть комментарии и задать вопросы, если есть. Стоит только на желтые комментарии внимание обратить.\n",
    "\n",
    "---\n",
    "Комментарии делятся на 3 группы:\n",
    "    \n",
    "Зелёным цветом отмечены комментарии, либо подчёркивающие удачные решения, либо содержащие какую-то дополнительную информацию или советы, они формально не требуют правки, но правки приветствуются. Выделены они так:\n",
    "\n",
    "<div class=\"alert alert-success\"; style=\"border-left: 7px solid green\">\n",
    "<h3>✔ Комментарий ревьюера</h3>\n",
    "    \n",
    "Тут текст    \n",
    "</div>    \n",
    "\n",
    "Жёлтым цветом выделены правки, которые желательны:\n",
    "\n",
    "<div class=\"alert alert-warning\"; style=\"border-left: 7px solid yellow\" >\n",
    "<h3>!! Комментарий ревьюера</h3>\n",
    "    \n",
    "Тут текст    \n",
    "</div>    \n",
    "\n",
    "Красным выделены правки, которые обязательны\n",
    "    \n",
    "<div class=\"alert alert-danger\"; style=\"border-left: 7px solid red\">\n",
    "<h3>👀 Комментарий ревьюера</h3>\n",
    "    \n",
    "Тут текст    \n",
    "</div>    \n",
    "    \n",
    "Давай работать над проектом в диалоге: если ты **что-то меняешь** в проекте по моим рекомендациям — **пиши об этом**. Выбери для своих комментариев какой-то заметный цвет, так мне будет легче отследить изменения. Пожалуйста, **не перемещай, не изменяй и не удаляй мои комментарии**. Всё это поможет выполнить повторную проверку твоего проекта оперативнее. Если оставляешь комментарии на какой-то итерации ревью, пиши что-то вроде `комментарий студента V.{номер итерации}`\n",
    "</div>\n",
    "\n",
    "Цвет можно сделать, например, так\n",
    "\n",
    "<div class = \"alert alert-info\" style=\"border-left: 7px solid blue\">\n",
    "<h3>Комментарий студента</h3>\n",
    "Ревьюер душнила :)\n",
    "</div>\n",
    "\n",
    "Или так:\n",
    "    \n",
    "<div class=\"alert alert-info\" style=\"background:#ffdbf1;color:#2e00ab;border-left:7px solid #2e00ab\">\n",
    "<h3>Комментарий студента </h3>\n",
    "    ...\n",
    "</div>"
   ]
  },
  {
   "cell_type": "markdown",
   "id": "6954d61c",
   "metadata": {},
   "source": [
    "# Исследование зависимости стоимости недвижимости от различных факторов."
   ]
  },
  {
   "cell_type": "markdown",
   "id": "c5a8880a",
   "metadata": {},
   "source": [
    "<div class=\"alert alert-warning\"; style=\"border-left: 7px solid yellow\" >\n",
    "<h3>!! Комментарий ревьюера</h3>\n",
    "    \n",
    "Проект это не только код, но ещё и определенный контекст. Этот контекст: описание предметной области проекта и поставленных задач нужно в начале работы писать\n",
    "</div>  \n",
    "\n",
    "<div class = \"alert alert-info\" style=\"border-left: 7px solid blue\">\n",
    "<h3>Комментарий студента</h3>\n",
    "Добавила описание.\n",
    "</div>\n"
   ]
  },
  {
   "cell_type": "markdown",
   "id": "281d29e1",
   "metadata": {},
   "source": [
    "На основании данных сервиса Яндекс Недвижимость имеем архив объявлений за несколько лет о продаже квартир в Санкт-Петербурге и соседних населённых пунктах.\\\n",
    "О каждой квартире в базе содержится два типа данных: добавленные пользователем и картографические.\\\n",
    "**Задачи:**\n",
    " - выполнить предобработку данных\n",
    " - выявить особенности и зависимости, которые существуют на рынке недвижимости.\n",
    "\n",
    "**Описание данных**\n",
    " - airports_nearest — расстояние до ближайшего аэропорта в метрах (м)\n",
    " - balcony — число балконов\n",
    " - ceiling_height — высота потолков (м)\n",
    " - cityCenters_nearest — расстояние до центра города (м)\n",
    " - days_exposition — сколько дней было размещено объявление (от публикации до снятия)\n",
    " - first_day_exposition — дата публикации\n",
    " - floor — этаж\n",
    " - floors_total — всего этажей в доме\n",
    " - is_apartment — апартаменты (булев тип)\n",
    " - kitchen_area — площадь кухни в квадратных метрах (м²)\n",
    " - last_price — цена на момент снятия с публикации\n",
    " - living_area — жилая площадь в квадратных метрах (м²)\n",
    " - locality_name — название населённого пункта\n",
    " - open_plan — свободная планировка (булев тип)\n",
    " - parks_around3000 — число парков в радиусе 3 км\n",
    " - parks_nearest — расстояние до ближайшего парка (м)\n",
    " - ponds_around3000 — число водоёмов в радиусе 3 км\n",
    " - ponds_nearest — расстояние до ближайшего водоёма (м)\n",
    " - rooms — число комнат\n",
    " - studio — квартира-студия (булев тип)\n",
    " - total_area — общая площадь квартиры в квадратных метрах (м²)\n",
    " - total_images — число фотографий квартиры в объявлении"
   ]
  },
  {
   "cell_type": "markdown",
   "id": "ba890643",
   "metadata": {},
   "source": [
    "## 1. Общий обзор датасета"
   ]
  },
  {
   "cell_type": "code",
   "execution_count": 268,
   "id": "a2c80208",
   "metadata": {},
   "outputs": [],
   "source": [
    "import pandas as pd\n",
    "import matplotlib.pyplot as plt\n",
    "try:\n",
    "    data = pd.read_csv('/datasets/real_estate_data.csv', sep='\\t')\n",
    "except:\n",
    "    data = pd.read_csv('https://code.s3.yandex.net/datasets/real_estate_data.csv', sep='\\t')"
   ]
  },
  {
   "cell_type": "markdown",
   "id": "daafbb5c",
   "metadata": {},
   "source": [
    "<div class=\"alert alert-warning\"; style=\"border-left: 7px solid yellow\" >\n",
    "<h3>!! Комментарий ревьюера</h3>\n",
    "    \n",
    "Здорово, что делаешь проект локально, но почему у тебя по одному пути `decimal=','`, а по другому нет? Если посмотреть в датасет, то разделитель в числах это **точка**\n",
    "</div>    \n",
    "<div class = \"alert alert-info\" style=\"border-left: 7px solid blue\">\n",
    "<h3>Комментарий студента</h3>\n",
    "Потому что забыла удалить)))\n",
    "</div>"
   ]
  },
  {
   "cell_type": "code",
   "execution_count": 269,
   "id": "d9f0e1fc",
   "metadata": {
    "scrolled": true
   },
   "outputs": [
    {
     "data": {
      "text/html": [
       "<div>\n",
       "<style scoped>\n",
       "    .dataframe tbody tr th:only-of-type {\n",
       "        vertical-align: middle;\n",
       "    }\n",
       "\n",
       "    .dataframe tbody tr th {\n",
       "        vertical-align: top;\n",
       "    }\n",
       "\n",
       "    .dataframe thead th {\n",
       "        text-align: right;\n",
       "    }\n",
       "</style>\n",
       "<table border=\"1\" class=\"dataframe\">\n",
       "  <thead>\n",
       "    <tr style=\"text-align: right;\">\n",
       "      <th></th>\n",
       "      <th>total_images</th>\n",
       "      <th>last_price</th>\n",
       "      <th>total_area</th>\n",
       "      <th>first_day_exposition</th>\n",
       "      <th>rooms</th>\n",
       "      <th>ceiling_height</th>\n",
       "      <th>floors_total</th>\n",
       "      <th>living_area</th>\n",
       "      <th>floor</th>\n",
       "      <th>is_apartment</th>\n",
       "      <th>...</th>\n",
       "      <th>kitchen_area</th>\n",
       "      <th>balcony</th>\n",
       "      <th>locality_name</th>\n",
       "      <th>airports_nearest</th>\n",
       "      <th>cityCenters_nearest</th>\n",
       "      <th>parks_around3000</th>\n",
       "      <th>parks_nearest</th>\n",
       "      <th>ponds_around3000</th>\n",
       "      <th>ponds_nearest</th>\n",
       "      <th>days_exposition</th>\n",
       "    </tr>\n",
       "  </thead>\n",
       "  <tbody>\n",
       "    <tr>\n",
       "      <th>0</th>\n",
       "      <td>20</td>\n",
       "      <td>13000000.0</td>\n",
       "      <td>108.00</td>\n",
       "      <td>2019-03-07T00:00:00</td>\n",
       "      <td>3</td>\n",
       "      <td>2.70</td>\n",
       "      <td>16.0</td>\n",
       "      <td>51.00</td>\n",
       "      <td>8</td>\n",
       "      <td>NaN</td>\n",
       "      <td>...</td>\n",
       "      <td>25.00</td>\n",
       "      <td>NaN</td>\n",
       "      <td>Санкт-Петербург</td>\n",
       "      <td>18863.0</td>\n",
       "      <td>16028.0</td>\n",
       "      <td>1.0</td>\n",
       "      <td>482.0</td>\n",
       "      <td>2.0</td>\n",
       "      <td>755.0</td>\n",
       "      <td>NaN</td>\n",
       "    </tr>\n",
       "    <tr>\n",
       "      <th>1</th>\n",
       "      <td>7</td>\n",
       "      <td>3350000.0</td>\n",
       "      <td>40.40</td>\n",
       "      <td>2018-12-04T00:00:00</td>\n",
       "      <td>1</td>\n",
       "      <td>NaN</td>\n",
       "      <td>11.0</td>\n",
       "      <td>18.60</td>\n",
       "      <td>1</td>\n",
       "      <td>NaN</td>\n",
       "      <td>...</td>\n",
       "      <td>11.00</td>\n",
       "      <td>2.0</td>\n",
       "      <td>посёлок Шушары</td>\n",
       "      <td>12817.0</td>\n",
       "      <td>18603.0</td>\n",
       "      <td>0.0</td>\n",
       "      <td>NaN</td>\n",
       "      <td>0.0</td>\n",
       "      <td>NaN</td>\n",
       "      <td>81.0</td>\n",
       "    </tr>\n",
       "    <tr>\n",
       "      <th>2</th>\n",
       "      <td>10</td>\n",
       "      <td>5196000.0</td>\n",
       "      <td>56.00</td>\n",
       "      <td>2015-08-20T00:00:00</td>\n",
       "      <td>2</td>\n",
       "      <td>NaN</td>\n",
       "      <td>5.0</td>\n",
       "      <td>34.30</td>\n",
       "      <td>4</td>\n",
       "      <td>NaN</td>\n",
       "      <td>...</td>\n",
       "      <td>8.30</td>\n",
       "      <td>0.0</td>\n",
       "      <td>Санкт-Петербург</td>\n",
       "      <td>21741.0</td>\n",
       "      <td>13933.0</td>\n",
       "      <td>1.0</td>\n",
       "      <td>90.0</td>\n",
       "      <td>2.0</td>\n",
       "      <td>574.0</td>\n",
       "      <td>558.0</td>\n",
       "    </tr>\n",
       "    <tr>\n",
       "      <th>3</th>\n",
       "      <td>0</td>\n",
       "      <td>64900000.0</td>\n",
       "      <td>159.00</td>\n",
       "      <td>2015-07-24T00:00:00</td>\n",
       "      <td>3</td>\n",
       "      <td>NaN</td>\n",
       "      <td>14.0</td>\n",
       "      <td>NaN</td>\n",
       "      <td>9</td>\n",
       "      <td>NaN</td>\n",
       "      <td>...</td>\n",
       "      <td>NaN</td>\n",
       "      <td>0.0</td>\n",
       "      <td>Санкт-Петербург</td>\n",
       "      <td>28098.0</td>\n",
       "      <td>6800.0</td>\n",
       "      <td>2.0</td>\n",
       "      <td>84.0</td>\n",
       "      <td>3.0</td>\n",
       "      <td>234.0</td>\n",
       "      <td>424.0</td>\n",
       "    </tr>\n",
       "    <tr>\n",
       "      <th>4</th>\n",
       "      <td>2</td>\n",
       "      <td>10000000.0</td>\n",
       "      <td>100.00</td>\n",
       "      <td>2018-06-19T00:00:00</td>\n",
       "      <td>2</td>\n",
       "      <td>3.03</td>\n",
       "      <td>14.0</td>\n",
       "      <td>32.00</td>\n",
       "      <td>13</td>\n",
       "      <td>NaN</td>\n",
       "      <td>...</td>\n",
       "      <td>41.00</td>\n",
       "      <td>NaN</td>\n",
       "      <td>Санкт-Петербург</td>\n",
       "      <td>31856.0</td>\n",
       "      <td>8098.0</td>\n",
       "      <td>2.0</td>\n",
       "      <td>112.0</td>\n",
       "      <td>1.0</td>\n",
       "      <td>48.0</td>\n",
       "      <td>121.0</td>\n",
       "    </tr>\n",
       "    <tr>\n",
       "      <th>5</th>\n",
       "      <td>10</td>\n",
       "      <td>2890000.0</td>\n",
       "      <td>30.40</td>\n",
       "      <td>2018-09-10T00:00:00</td>\n",
       "      <td>1</td>\n",
       "      <td>NaN</td>\n",
       "      <td>12.0</td>\n",
       "      <td>14.40</td>\n",
       "      <td>5</td>\n",
       "      <td>NaN</td>\n",
       "      <td>...</td>\n",
       "      <td>9.10</td>\n",
       "      <td>NaN</td>\n",
       "      <td>городской посёлок Янино-1</td>\n",
       "      <td>NaN</td>\n",
       "      <td>NaN</td>\n",
       "      <td>NaN</td>\n",
       "      <td>NaN</td>\n",
       "      <td>NaN</td>\n",
       "      <td>NaN</td>\n",
       "      <td>55.0</td>\n",
       "    </tr>\n",
       "    <tr>\n",
       "      <th>6</th>\n",
       "      <td>6</td>\n",
       "      <td>3700000.0</td>\n",
       "      <td>37.30</td>\n",
       "      <td>2017-11-02T00:00:00</td>\n",
       "      <td>1</td>\n",
       "      <td>NaN</td>\n",
       "      <td>26.0</td>\n",
       "      <td>10.60</td>\n",
       "      <td>6</td>\n",
       "      <td>NaN</td>\n",
       "      <td>...</td>\n",
       "      <td>14.40</td>\n",
       "      <td>1.0</td>\n",
       "      <td>посёлок Парголово</td>\n",
       "      <td>52996.0</td>\n",
       "      <td>19143.0</td>\n",
       "      <td>0.0</td>\n",
       "      <td>NaN</td>\n",
       "      <td>0.0</td>\n",
       "      <td>NaN</td>\n",
       "      <td>155.0</td>\n",
       "    </tr>\n",
       "    <tr>\n",
       "      <th>7</th>\n",
       "      <td>5</td>\n",
       "      <td>7915000.0</td>\n",
       "      <td>71.60</td>\n",
       "      <td>2019-04-18T00:00:00</td>\n",
       "      <td>2</td>\n",
       "      <td>NaN</td>\n",
       "      <td>24.0</td>\n",
       "      <td>NaN</td>\n",
       "      <td>22</td>\n",
       "      <td>NaN</td>\n",
       "      <td>...</td>\n",
       "      <td>18.90</td>\n",
       "      <td>2.0</td>\n",
       "      <td>Санкт-Петербург</td>\n",
       "      <td>23982.0</td>\n",
       "      <td>11634.0</td>\n",
       "      <td>0.0</td>\n",
       "      <td>NaN</td>\n",
       "      <td>0.0</td>\n",
       "      <td>NaN</td>\n",
       "      <td>NaN</td>\n",
       "    </tr>\n",
       "    <tr>\n",
       "      <th>8</th>\n",
       "      <td>20</td>\n",
       "      <td>2900000.0</td>\n",
       "      <td>33.16</td>\n",
       "      <td>2018-05-23T00:00:00</td>\n",
       "      <td>1</td>\n",
       "      <td>NaN</td>\n",
       "      <td>27.0</td>\n",
       "      <td>15.43</td>\n",
       "      <td>26</td>\n",
       "      <td>NaN</td>\n",
       "      <td>...</td>\n",
       "      <td>8.81</td>\n",
       "      <td>NaN</td>\n",
       "      <td>посёлок Мурино</td>\n",
       "      <td>NaN</td>\n",
       "      <td>NaN</td>\n",
       "      <td>NaN</td>\n",
       "      <td>NaN</td>\n",
       "      <td>NaN</td>\n",
       "      <td>NaN</td>\n",
       "      <td>189.0</td>\n",
       "    </tr>\n",
       "    <tr>\n",
       "      <th>9</th>\n",
       "      <td>18</td>\n",
       "      <td>5400000.0</td>\n",
       "      <td>61.00</td>\n",
       "      <td>2017-02-26T00:00:00</td>\n",
       "      <td>3</td>\n",
       "      <td>2.50</td>\n",
       "      <td>9.0</td>\n",
       "      <td>43.60</td>\n",
       "      <td>7</td>\n",
       "      <td>NaN</td>\n",
       "      <td>...</td>\n",
       "      <td>6.50</td>\n",
       "      <td>2.0</td>\n",
       "      <td>Санкт-Петербург</td>\n",
       "      <td>50898.0</td>\n",
       "      <td>15008.0</td>\n",
       "      <td>0.0</td>\n",
       "      <td>NaN</td>\n",
       "      <td>0.0</td>\n",
       "      <td>NaN</td>\n",
       "      <td>289.0</td>\n",
       "    </tr>\n",
       "    <tr>\n",
       "      <th>10</th>\n",
       "      <td>5</td>\n",
       "      <td>5050000.0</td>\n",
       "      <td>39.60</td>\n",
       "      <td>2017-11-16T00:00:00</td>\n",
       "      <td>1</td>\n",
       "      <td>2.67</td>\n",
       "      <td>12.0</td>\n",
       "      <td>20.30</td>\n",
       "      <td>3</td>\n",
       "      <td>NaN</td>\n",
       "      <td>...</td>\n",
       "      <td>8.50</td>\n",
       "      <td>NaN</td>\n",
       "      <td>Санкт-Петербург</td>\n",
       "      <td>38357.0</td>\n",
       "      <td>13878.0</td>\n",
       "      <td>1.0</td>\n",
       "      <td>310.0</td>\n",
       "      <td>2.0</td>\n",
       "      <td>553.0</td>\n",
       "      <td>137.0</td>\n",
       "    </tr>\n",
       "    <tr>\n",
       "      <th>11</th>\n",
       "      <td>9</td>\n",
       "      <td>3300000.0</td>\n",
       "      <td>44.00</td>\n",
       "      <td>2018-08-27T00:00:00</td>\n",
       "      <td>2</td>\n",
       "      <td>NaN</td>\n",
       "      <td>5.0</td>\n",
       "      <td>31.00</td>\n",
       "      <td>4</td>\n",
       "      <td>False</td>\n",
       "      <td>...</td>\n",
       "      <td>6.00</td>\n",
       "      <td>1.0</td>\n",
       "      <td>Ломоносов</td>\n",
       "      <td>48252.0</td>\n",
       "      <td>51677.0</td>\n",
       "      <td>0.0</td>\n",
       "      <td>NaN</td>\n",
       "      <td>0.0</td>\n",
       "      <td>NaN</td>\n",
       "      <td>7.0</td>\n",
       "    </tr>\n",
       "    <tr>\n",
       "      <th>12</th>\n",
       "      <td>10</td>\n",
       "      <td>3890000.0</td>\n",
       "      <td>54.00</td>\n",
       "      <td>2016-06-30T00:00:00</td>\n",
       "      <td>2</td>\n",
       "      <td>NaN</td>\n",
       "      <td>5.0</td>\n",
       "      <td>30.00</td>\n",
       "      <td>5</td>\n",
       "      <td>NaN</td>\n",
       "      <td>...</td>\n",
       "      <td>9.00</td>\n",
       "      <td>0.0</td>\n",
       "      <td>Сертолово</td>\n",
       "      <td>NaN</td>\n",
       "      <td>NaN</td>\n",
       "      <td>NaN</td>\n",
       "      <td>NaN</td>\n",
       "      <td>NaN</td>\n",
       "      <td>NaN</td>\n",
       "      <td>90.0</td>\n",
       "    </tr>\n",
       "    <tr>\n",
       "      <th>13</th>\n",
       "      <td>20</td>\n",
       "      <td>3550000.0</td>\n",
       "      <td>42.80</td>\n",
       "      <td>2017-07-01T00:00:00</td>\n",
       "      <td>2</td>\n",
       "      <td>2.56</td>\n",
       "      <td>5.0</td>\n",
       "      <td>27.00</td>\n",
       "      <td>5</td>\n",
       "      <td>NaN</td>\n",
       "      <td>...</td>\n",
       "      <td>5.20</td>\n",
       "      <td>1.0</td>\n",
       "      <td>Петергоф</td>\n",
       "      <td>37868.0</td>\n",
       "      <td>33058.0</td>\n",
       "      <td>1.0</td>\n",
       "      <td>294.0</td>\n",
       "      <td>3.0</td>\n",
       "      <td>298.0</td>\n",
       "      <td>366.0</td>\n",
       "    </tr>\n",
       "    <tr>\n",
       "      <th>14</th>\n",
       "      <td>1</td>\n",
       "      <td>4400000.0</td>\n",
       "      <td>36.00</td>\n",
       "      <td>2016-06-23T00:00:00</td>\n",
       "      <td>1</td>\n",
       "      <td>NaN</td>\n",
       "      <td>6.0</td>\n",
       "      <td>17.00</td>\n",
       "      <td>1</td>\n",
       "      <td>NaN</td>\n",
       "      <td>...</td>\n",
       "      <td>8.00</td>\n",
       "      <td>0.0</td>\n",
       "      <td>Пушкин</td>\n",
       "      <td>20782.0</td>\n",
       "      <td>30759.0</td>\n",
       "      <td>0.0</td>\n",
       "      <td>NaN</td>\n",
       "      <td>1.0</td>\n",
       "      <td>96.0</td>\n",
       "      <td>203.0</td>\n",
       "    </tr>\n",
       "    <tr>\n",
       "      <th>15</th>\n",
       "      <td>16</td>\n",
       "      <td>4650000.0</td>\n",
       "      <td>39.00</td>\n",
       "      <td>2017-11-18T00:00:00</td>\n",
       "      <td>1</td>\n",
       "      <td>NaN</td>\n",
       "      <td>14.0</td>\n",
       "      <td>20.50</td>\n",
       "      <td>5</td>\n",
       "      <td>NaN</td>\n",
       "      <td>...</td>\n",
       "      <td>7.60</td>\n",
       "      <td>1.0</td>\n",
       "      <td>Санкт-Петербург</td>\n",
       "      <td>12900.0</td>\n",
       "      <td>14259.0</td>\n",
       "      <td>1.0</td>\n",
       "      <td>590.0</td>\n",
       "      <td>1.0</td>\n",
       "      <td>296.0</td>\n",
       "      <td>19.0</td>\n",
       "    </tr>\n",
       "    <tr>\n",
       "      <th>16</th>\n",
       "      <td>11</td>\n",
       "      <td>6700000.0</td>\n",
       "      <td>82.00</td>\n",
       "      <td>2017-11-23T00:00:00</td>\n",
       "      <td>3</td>\n",
       "      <td>3.05</td>\n",
       "      <td>5.0</td>\n",
       "      <td>55.60</td>\n",
       "      <td>1</td>\n",
       "      <td>NaN</td>\n",
       "      <td>...</td>\n",
       "      <td>9.00</td>\n",
       "      <td>NaN</td>\n",
       "      <td>Санкт-Петербург</td>\n",
       "      <td>22108.0</td>\n",
       "      <td>10698.0</td>\n",
       "      <td>3.0</td>\n",
       "      <td>420.0</td>\n",
       "      <td>0.0</td>\n",
       "      <td>NaN</td>\n",
       "      <td>397.0</td>\n",
       "    </tr>\n",
       "    <tr>\n",
       "      <th>17</th>\n",
       "      <td>6</td>\n",
       "      <td>4180000.0</td>\n",
       "      <td>36.00</td>\n",
       "      <td>2016-09-09T00:00:00</td>\n",
       "      <td>1</td>\n",
       "      <td>NaN</td>\n",
       "      <td>17.0</td>\n",
       "      <td>16.50</td>\n",
       "      <td>7</td>\n",
       "      <td>NaN</td>\n",
       "      <td>...</td>\n",
       "      <td>11.00</td>\n",
       "      <td>1.0</td>\n",
       "      <td>Санкт-Петербург</td>\n",
       "      <td>33564.0</td>\n",
       "      <td>14616.0</td>\n",
       "      <td>0.0</td>\n",
       "      <td>NaN</td>\n",
       "      <td>1.0</td>\n",
       "      <td>859.0</td>\n",
       "      <td>571.0</td>\n",
       "    </tr>\n",
       "    <tr>\n",
       "      <th>18</th>\n",
       "      <td>8</td>\n",
       "      <td>3250000.0</td>\n",
       "      <td>31.00</td>\n",
       "      <td>2017-01-27T00:00:00</td>\n",
       "      <td>1</td>\n",
       "      <td>2.50</td>\n",
       "      <td>5.0</td>\n",
       "      <td>19.40</td>\n",
       "      <td>2</td>\n",
       "      <td>NaN</td>\n",
       "      <td>...</td>\n",
       "      <td>5.60</td>\n",
       "      <td>1.0</td>\n",
       "      <td>Санкт-Петербург</td>\n",
       "      <td>44060.0</td>\n",
       "      <td>10842.0</td>\n",
       "      <td>1.0</td>\n",
       "      <td>759.0</td>\n",
       "      <td>0.0</td>\n",
       "      <td>NaN</td>\n",
       "      <td>168.0</td>\n",
       "    </tr>\n",
       "    <tr>\n",
       "      <th>19</th>\n",
       "      <td>16</td>\n",
       "      <td>14200000.0</td>\n",
       "      <td>121.00</td>\n",
       "      <td>2019-01-09T00:00:00</td>\n",
       "      <td>3</td>\n",
       "      <td>2.75</td>\n",
       "      <td>16.0</td>\n",
       "      <td>76.00</td>\n",
       "      <td>8</td>\n",
       "      <td>NaN</td>\n",
       "      <td>...</td>\n",
       "      <td>12.00</td>\n",
       "      <td>NaN</td>\n",
       "      <td>Санкт-Петербург</td>\n",
       "      <td>38900.0</td>\n",
       "      <td>12843.0</td>\n",
       "      <td>0.0</td>\n",
       "      <td>NaN</td>\n",
       "      <td>0.0</td>\n",
       "      <td>NaN</td>\n",
       "      <td>97.0</td>\n",
       "    </tr>\n",
       "  </tbody>\n",
       "</table>\n",
       "<p>20 rows × 22 columns</p>\n",
       "</div>"
      ],
      "text/plain": [
       "    total_images  last_price  total_area first_day_exposition  rooms  \\\n",
       "0             20  13000000.0      108.00  2019-03-07T00:00:00      3   \n",
       "1              7   3350000.0       40.40  2018-12-04T00:00:00      1   \n",
       "2             10   5196000.0       56.00  2015-08-20T00:00:00      2   \n",
       "3              0  64900000.0      159.00  2015-07-24T00:00:00      3   \n",
       "4              2  10000000.0      100.00  2018-06-19T00:00:00      2   \n",
       "5             10   2890000.0       30.40  2018-09-10T00:00:00      1   \n",
       "6              6   3700000.0       37.30  2017-11-02T00:00:00      1   \n",
       "7              5   7915000.0       71.60  2019-04-18T00:00:00      2   \n",
       "8             20   2900000.0       33.16  2018-05-23T00:00:00      1   \n",
       "9             18   5400000.0       61.00  2017-02-26T00:00:00      3   \n",
       "10             5   5050000.0       39.60  2017-11-16T00:00:00      1   \n",
       "11             9   3300000.0       44.00  2018-08-27T00:00:00      2   \n",
       "12            10   3890000.0       54.00  2016-06-30T00:00:00      2   \n",
       "13            20   3550000.0       42.80  2017-07-01T00:00:00      2   \n",
       "14             1   4400000.0       36.00  2016-06-23T00:00:00      1   \n",
       "15            16   4650000.0       39.00  2017-11-18T00:00:00      1   \n",
       "16            11   6700000.0       82.00  2017-11-23T00:00:00      3   \n",
       "17             6   4180000.0       36.00  2016-09-09T00:00:00      1   \n",
       "18             8   3250000.0       31.00  2017-01-27T00:00:00      1   \n",
       "19            16  14200000.0      121.00  2019-01-09T00:00:00      3   \n",
       "\n",
       "    ceiling_height  floors_total  living_area  floor is_apartment  ...  \\\n",
       "0             2.70          16.0        51.00      8          NaN  ...   \n",
       "1              NaN          11.0        18.60      1          NaN  ...   \n",
       "2              NaN           5.0        34.30      4          NaN  ...   \n",
       "3              NaN          14.0          NaN      9          NaN  ...   \n",
       "4             3.03          14.0        32.00     13          NaN  ...   \n",
       "5              NaN          12.0        14.40      5          NaN  ...   \n",
       "6              NaN          26.0        10.60      6          NaN  ...   \n",
       "7              NaN          24.0          NaN     22          NaN  ...   \n",
       "8              NaN          27.0        15.43     26          NaN  ...   \n",
       "9             2.50           9.0        43.60      7          NaN  ...   \n",
       "10            2.67          12.0        20.30      3          NaN  ...   \n",
       "11             NaN           5.0        31.00      4        False  ...   \n",
       "12             NaN           5.0        30.00      5          NaN  ...   \n",
       "13            2.56           5.0        27.00      5          NaN  ...   \n",
       "14             NaN           6.0        17.00      1          NaN  ...   \n",
       "15             NaN          14.0        20.50      5          NaN  ...   \n",
       "16            3.05           5.0        55.60      1          NaN  ...   \n",
       "17             NaN          17.0        16.50      7          NaN  ...   \n",
       "18            2.50           5.0        19.40      2          NaN  ...   \n",
       "19            2.75          16.0        76.00      8          NaN  ...   \n",
       "\n",
       "    kitchen_area  balcony              locality_name  airports_nearest  \\\n",
       "0          25.00      NaN            Санкт-Петербург           18863.0   \n",
       "1          11.00      2.0             посёлок Шушары           12817.0   \n",
       "2           8.30      0.0            Санкт-Петербург           21741.0   \n",
       "3            NaN      0.0            Санкт-Петербург           28098.0   \n",
       "4          41.00      NaN            Санкт-Петербург           31856.0   \n",
       "5           9.10      NaN  городской посёлок Янино-1               NaN   \n",
       "6          14.40      1.0          посёлок Парголово           52996.0   \n",
       "7          18.90      2.0            Санкт-Петербург           23982.0   \n",
       "8           8.81      NaN             посёлок Мурино               NaN   \n",
       "9           6.50      2.0            Санкт-Петербург           50898.0   \n",
       "10          8.50      NaN            Санкт-Петербург           38357.0   \n",
       "11          6.00      1.0                  Ломоносов           48252.0   \n",
       "12          9.00      0.0                  Сертолово               NaN   \n",
       "13          5.20      1.0                   Петергоф           37868.0   \n",
       "14          8.00      0.0                     Пушкин           20782.0   \n",
       "15          7.60      1.0            Санкт-Петербург           12900.0   \n",
       "16          9.00      NaN            Санкт-Петербург           22108.0   \n",
       "17         11.00      1.0            Санкт-Петербург           33564.0   \n",
       "18          5.60      1.0            Санкт-Петербург           44060.0   \n",
       "19         12.00      NaN            Санкт-Петербург           38900.0   \n",
       "\n",
       "   cityCenters_nearest  parks_around3000  parks_nearest  ponds_around3000  \\\n",
       "0              16028.0               1.0          482.0               2.0   \n",
       "1              18603.0               0.0            NaN               0.0   \n",
       "2              13933.0               1.0           90.0               2.0   \n",
       "3               6800.0               2.0           84.0               3.0   \n",
       "4               8098.0               2.0          112.0               1.0   \n",
       "5                  NaN               NaN            NaN               NaN   \n",
       "6              19143.0               0.0            NaN               0.0   \n",
       "7              11634.0               0.0            NaN               0.0   \n",
       "8                  NaN               NaN            NaN               NaN   \n",
       "9              15008.0               0.0            NaN               0.0   \n",
       "10             13878.0               1.0          310.0               2.0   \n",
       "11             51677.0               0.0            NaN               0.0   \n",
       "12                 NaN               NaN            NaN               NaN   \n",
       "13             33058.0               1.0          294.0               3.0   \n",
       "14             30759.0               0.0            NaN               1.0   \n",
       "15             14259.0               1.0          590.0               1.0   \n",
       "16             10698.0               3.0          420.0               0.0   \n",
       "17             14616.0               0.0            NaN               1.0   \n",
       "18             10842.0               1.0          759.0               0.0   \n",
       "19             12843.0               0.0            NaN               0.0   \n",
       "\n",
       "    ponds_nearest  days_exposition  \n",
       "0           755.0              NaN  \n",
       "1             NaN             81.0  \n",
       "2           574.0            558.0  \n",
       "3           234.0            424.0  \n",
       "4            48.0            121.0  \n",
       "5             NaN             55.0  \n",
       "6             NaN            155.0  \n",
       "7             NaN              NaN  \n",
       "8             NaN            189.0  \n",
       "9             NaN            289.0  \n",
       "10          553.0            137.0  \n",
       "11            NaN              7.0  \n",
       "12            NaN             90.0  \n",
       "13          298.0            366.0  \n",
       "14           96.0            203.0  \n",
       "15          296.0             19.0  \n",
       "16            NaN            397.0  \n",
       "17          859.0            571.0  \n",
       "18            NaN            168.0  \n",
       "19            NaN             97.0  \n",
       "\n",
       "[20 rows x 22 columns]"
      ]
     },
     "execution_count": 269,
     "metadata": {},
     "output_type": "execute_result"
    }
   ],
   "source": [
    "data.head(20)"
   ]
  },
  {
   "cell_type": "markdown",
   "id": "043cbc55",
   "metadata": {},
   "source": [
    "По первым 20 строчкам уже видим наличие пропусков в столбцах ceiling_height, living_area, is_apartment, balcony, airports_nearest, cityCenters_nearest, parks_around3000, parks_nearest, ponds_around3000б, ponds_nearest, days_exposition. Так же видим, что есть дни экспозиции с дробными окончаниями. В некоторых строчках полностью отсутствуют картографические данные."
   ]
  },
  {
   "cell_type": "code",
   "execution_count": 270,
   "id": "b795c70a",
   "metadata": {},
   "outputs": [
    {
     "data": {
      "text/plain": [
       "Index(['total_images', 'last_price', 'total_area', 'first_day_exposition',\n",
       "       'rooms', 'ceiling_height', 'floors_total', 'living_area', 'floor',\n",
       "       'is_apartment', 'studio', 'open_plan', 'kitchen_area', 'balcony',\n",
       "       'locality_name', 'airports_nearest', 'cityCenters_nearest',\n",
       "       'parks_around3000', 'parks_nearest', 'ponds_around3000',\n",
       "       'ponds_nearest', 'days_exposition'],\n",
       "      dtype='object')"
      ]
     },
     "execution_count": 270,
     "metadata": {},
     "output_type": "execute_result"
    }
   ],
   "source": [
    "data.columns"
   ]
  },
  {
   "cell_type": "markdown",
   "id": "1e353845",
   "metadata": {},
   "source": [
    "С названиями столбцов все в проядке."
   ]
  },
  {
   "cell_type": "code",
   "execution_count": 271,
   "id": "9f38cd18",
   "metadata": {},
   "outputs": [
    {
     "name": "stdout",
     "output_type": "stream",
     "text": [
      "Количество строк 23699\n"
     ]
    }
   ],
   "source": [
    "print('Количество строк', data.shape[0])"
   ]
  },
  {
   "cell_type": "code",
   "execution_count": 272,
   "id": "942e6626",
   "metadata": {},
   "outputs": [
    {
     "name": "stdout",
     "output_type": "stream",
     "text": [
      "<class 'pandas.core.frame.DataFrame'>\n",
      "RangeIndex: 23699 entries, 0 to 23698\n",
      "Data columns (total 22 columns):\n",
      " #   Column                Non-Null Count  Dtype  \n",
      "---  ------                --------------  -----  \n",
      " 0   total_images          23699 non-null  int64  \n",
      " 1   last_price            23699 non-null  float64\n",
      " 2   total_area            23699 non-null  float64\n",
      " 3   first_day_exposition  23699 non-null  object \n",
      " 4   rooms                 23699 non-null  int64  \n",
      " 5   ceiling_height        14504 non-null  float64\n",
      " 6   floors_total          23613 non-null  float64\n",
      " 7   living_area           21796 non-null  float64\n",
      " 8   floor                 23699 non-null  int64  \n",
      " 9   is_apartment          2775 non-null   object \n",
      " 10  studio                23699 non-null  bool   \n",
      " 11  open_plan             23699 non-null  bool   \n",
      " 12  kitchen_area          21421 non-null  float64\n",
      " 13  balcony               12180 non-null  float64\n",
      " 14  locality_name         23650 non-null  object \n",
      " 15  airports_nearest      18157 non-null  float64\n",
      " 16  cityCenters_nearest   18180 non-null  float64\n",
      " 17  parks_around3000      18181 non-null  float64\n",
      " 18  parks_nearest         8079 non-null   float64\n",
      " 19  ponds_around3000      18181 non-null  float64\n",
      " 20  ponds_nearest         9110 non-null   float64\n",
      " 21  days_exposition       20518 non-null  float64\n",
      "dtypes: bool(2), float64(14), int64(3), object(3)\n",
      "memory usage: 3.7+ MB\n"
     ]
    }
   ],
   "source": [
    "data.info()"
   ]
  },
  {
   "cell_type": "markdown",
   "id": "def6debf",
   "metadata": {},
   "source": [
    "Большое число пропусков, с которыми необходимо поработать."
   ]
  },
  {
   "cell_type": "markdown",
   "id": "06bc6703",
   "metadata": {},
   "source": [
    "Посмотрим на данные визуально."
   ]
  },
  {
   "cell_type": "code",
   "execution_count": 273,
   "id": "33c62e3d",
   "metadata": {},
   "outputs": [
    {
     "data": {
      "image/png": "[encoded data removed]",
      "text/plain": [
       "<Figure size 1080x1440 with 20 Axes>"
      ]
     },
     "metadata": {
      "needs_background": "light"
     },
     "output_type": "display_data"
    }
   ],
   "source": [
    "data.hist(bins= 30,figsize=(15, 20))\n",
    "plt.show()"
   ]
  },
  {
   "cell_type": "markdown",
   "id": "49bf148d",
   "metadata": {},
   "source": [
    "Большинство гистограмм имеют множество пиков, а так же длинные хвосты.Все это говорит о том, что в выборке присутствуют данные ,которые являются некорректными и могут повлиять на дальнейшее прогнозирование, поэтому с ними необходимо порабоать."
   ]
  },
  {
   "cell_type": "markdown",
   "id": "245ec2b9",
   "metadata": {},
   "source": [
    "<div class=\"alert alert-success\"; style=\"border-left: 7px solid green\">\n",
    "<h3>✔ Комментарий ревьюера</h3>\n",
    "    \n",
    "Не все величины распределены нормально и в этом ничего плохого нет. `days_exposition`, например, имеет экспоненциальное распределение: оно описывает время между событиями, которые происходят с какой-то интенсивностью</div>    \n"
   ]
  },
  {
   "cell_type": "markdown",
   "id": "c6bb7c6a",
   "metadata": {},
   "source": [
    "## 2. Предобработка данных"
   ]
  },
  {
   "cell_type": "markdown",
   "id": "28b9f9ad",
   "metadata": {},
   "source": [
    "### Удаление пропусков"
   ]
  },
  {
   "cell_type": "code",
   "execution_count": 274,
   "id": "3b980345",
   "metadata": {},
   "outputs": [
    {
     "data": {
      "text/plain": [
       "total_images                0\n",
       "last_price                  0\n",
       "total_area                  0\n",
       "first_day_exposition        0\n",
       "rooms                       0\n",
       "ceiling_height           9195\n",
       "floors_total               86\n",
       "living_area              1903\n",
       "floor                       0\n",
       "is_apartment            20924\n",
       "studio                      0\n",
       "open_plan                   0\n",
       "kitchen_area             2278\n",
       "balcony                 11519\n",
       "locality_name              49\n",
       "airports_nearest         5542\n",
       "cityCenters_nearest      5519\n",
       "parks_around3000         5518\n",
       "parks_nearest           15620\n",
       "ponds_around3000         5518\n",
       "ponds_nearest           14589\n",
       "days_exposition          3181\n",
       "dtype: int64"
      ]
     },
     "execution_count": 274,
     "metadata": {},
     "output_type": "execute_result"
    }
   ],
   "source": [
    "data.isna().sum()"
   ]
  },
  {
   "cell_type": "markdown",
   "id": "7c0cadbd",
   "metadata": {},
   "source": [
    "\n",
    "<div class=\"alert alert-warning\"; style=\"border-left: 7px solid yellow\" >\n",
    "<h3>!! Комментарий ревьюера</h3>\n",
    "    \n",
    "На данно этапе такая замена нормальна, но в целом такое большое количество пропусков просто медианой заменять не стоит. В предыдущем проекте, например, пропуски заменялись на медиану в зависимости от типа занятости клиента. В центре высота потолков обычно выше, а такая замена этого не учитывает. Поэтому лучше было бы либо оставить пропуски, либо при замене учитывать расстояние до центра. С `kitchen_area` в целом аналогично, при такой замене можно получть площадь кухни, которая будет больше `total_area`, например, поэтому для кухонь можно сгруппировать по числу комнат, посчитать для каждой группы отношение `kitchen_area / total_area` и заменить пропуски на произведение `total_area` и значения для соответствующей группы. Выглядело бы, например, так:\n",
    "    \n",
    "```python\n",
    "   \n",
    "gr = data.groupby('rooms')\n",
    "data['kitchen_area'] = data['kitchen_area'].fillna(data['total_area'] * gr['kitchen_area'].transform(lambda x : (x / gr.get_group(x.name)['total_area']).mean()))\n",
    " \n",
    "    \n",
    "```\n",
    "</div>  \n",
    "\n",
    "<div class = \"alert alert-info\" style=\"border-left: 7px solid blue\">\n",
    "<h3>Комментарий студента</h3>\n",
    "В кухнях воспользовалась советом, правда мы еще не изучали лямбда функции и я туго догнала код,а вот в потолках оставила как и было медианные значения, потому что оставлять пропуски, их слишком много, а по расстоянию от центра посмотрела уникальные значения в высоте до 5 км и более 5 км, в целом ничем не отличились срезы.А еще есть вопрос, не правильнее ли сначала обработать аномалии , а потом заполнять пропуски.Ведь в расчетах участвуют например высоты в 27 м или 1.\n",
    "</div>"
   ]
  },
  {
   "cell_type": "markdown",
   "id": "2bd5a062",
   "metadata": {},
   "source": [
    "Заменим пропуски в **kitchen_area** сгруппировав данные по числу комнат.\\\n",
    "Считаем для каждой группы  долю площади кухни от общей (отношение kitchen_area / total_area)\\\n",
    "Заменяем пропуски на произведение total_area и значения для соответствующей группы"
   ]
  },
  {
   "cell_type": "code",
   "execution_count": 275,
   "id": "8b8a9d4f",
   "metadata": {},
   "outputs": [],
   "source": [
    "gr = data.groupby('rooms')\n",
    "data['kitchen_area'] = (data['kitchen_area']\n",
    "                        .fillna(data['total_area'] * gr['kitchen_area']\n",
    "                        .transform(lambda x : (x / gr.get_group(x.name)['total_area']).mean())))\n"
   ]
  },
  {
   "cell_type": "code",
   "execution_count": 276,
   "id": "17a0ff53",
   "metadata": {},
   "outputs": [
    {
     "data": {
      "text/html": [
       "<div>\n",
       "<style scoped>\n",
       "    .dataframe tbody tr th:only-of-type {\n",
       "        vertical-align: middle;\n",
       "    }\n",
       "\n",
       "    .dataframe tbody tr th {\n",
       "        vertical-align: top;\n",
       "    }\n",
       "\n",
       "    .dataframe thead th {\n",
       "        text-align: right;\n",
       "    }\n",
       "</style>\n",
       "<table border=\"1\" class=\"dataframe\">\n",
       "  <thead>\n",
       "    <tr style=\"text-align: right;\">\n",
       "      <th></th>\n",
       "      <th>total_images</th>\n",
       "      <th>last_price</th>\n",
       "      <th>total_area</th>\n",
       "      <th>first_day_exposition</th>\n",
       "      <th>rooms</th>\n",
       "      <th>ceiling_height</th>\n",
       "      <th>floors_total</th>\n",
       "      <th>living_area</th>\n",
       "      <th>floor</th>\n",
       "      <th>is_apartment</th>\n",
       "      <th>...</th>\n",
       "      <th>kitchen_area</th>\n",
       "      <th>balcony</th>\n",
       "      <th>locality_name</th>\n",
       "      <th>airports_nearest</th>\n",
       "      <th>cityCenters_nearest</th>\n",
       "      <th>parks_around3000</th>\n",
       "      <th>parks_nearest</th>\n",
       "      <th>ponds_around3000</th>\n",
       "      <th>ponds_nearest</th>\n",
       "      <th>days_exposition</th>\n",
       "    </tr>\n",
       "  </thead>\n",
       "  <tbody>\n",
       "    <tr>\n",
       "      <th>144</th>\n",
       "      <td>1</td>\n",
       "      <td>2450000.0</td>\n",
       "      <td>27.00</td>\n",
       "      <td>2017-03-30T00:00:00</td>\n",
       "      <td>0</td>\n",
       "      <td>NaN</td>\n",
       "      <td>24.0</td>\n",
       "      <td>15.50</td>\n",
       "      <td>2</td>\n",
       "      <td>NaN</td>\n",
       "      <td>...</td>\n",
       "      <td>NaN</td>\n",
       "      <td>2.0</td>\n",
       "      <td>посёлок Мурино</td>\n",
       "      <td>NaN</td>\n",
       "      <td>NaN</td>\n",
       "      <td>NaN</td>\n",
       "      <td>NaN</td>\n",
       "      <td>NaN</td>\n",
       "      <td>NaN</td>\n",
       "      <td>181.0</td>\n",
       "    </tr>\n",
       "    <tr>\n",
       "      <th>349</th>\n",
       "      <td>4</td>\n",
       "      <td>2320000.0</td>\n",
       "      <td>25.00</td>\n",
       "      <td>2017-09-27T00:00:00</td>\n",
       "      <td>0</td>\n",
       "      <td>NaN</td>\n",
       "      <td>14.0</td>\n",
       "      <td>17.00</td>\n",
       "      <td>1</td>\n",
       "      <td>NaN</td>\n",
       "      <td>...</td>\n",
       "      <td>NaN</td>\n",
       "      <td>0.0</td>\n",
       "      <td>деревня Кудрово</td>\n",
       "      <td>NaN</td>\n",
       "      <td>NaN</td>\n",
       "      <td>NaN</td>\n",
       "      <td>NaN</td>\n",
       "      <td>NaN</td>\n",
       "      <td>NaN</td>\n",
       "      <td>45.0</td>\n",
       "    </tr>\n",
       "    <tr>\n",
       "      <th>440</th>\n",
       "      <td>8</td>\n",
       "      <td>2480000.0</td>\n",
       "      <td>27.11</td>\n",
       "      <td>2018-03-12T00:00:00</td>\n",
       "      <td>0</td>\n",
       "      <td>NaN</td>\n",
       "      <td>17.0</td>\n",
       "      <td>24.75</td>\n",
       "      <td>4</td>\n",
       "      <td>NaN</td>\n",
       "      <td>...</td>\n",
       "      <td>NaN</td>\n",
       "      <td>2.0</td>\n",
       "      <td>Санкт-Петербург</td>\n",
       "      <td>38171.0</td>\n",
       "      <td>15015.0</td>\n",
       "      <td>0.0</td>\n",
       "      <td>NaN</td>\n",
       "      <td>2.0</td>\n",
       "      <td>982.0</td>\n",
       "      <td>64.0</td>\n",
       "    </tr>\n",
       "    <tr>\n",
       "      <th>508</th>\n",
       "      <td>0</td>\n",
       "      <td>3375000.0</td>\n",
       "      <td>34.40</td>\n",
       "      <td>2017-03-28T00:00:00</td>\n",
       "      <td>0</td>\n",
       "      <td>NaN</td>\n",
       "      <td>26.0</td>\n",
       "      <td>24.30</td>\n",
       "      <td>19</td>\n",
       "      <td>NaN</td>\n",
       "      <td>...</td>\n",
       "      <td>NaN</td>\n",
       "      <td>1.0</td>\n",
       "      <td>посёлок Парголово</td>\n",
       "      <td>53115.0</td>\n",
       "      <td>19292.0</td>\n",
       "      <td>0.0</td>\n",
       "      <td>NaN</td>\n",
       "      <td>1.0</td>\n",
       "      <td>593.0</td>\n",
       "      <td>430.0</td>\n",
       "    </tr>\n",
       "    <tr>\n",
       "      <th>608</th>\n",
       "      <td>2</td>\n",
       "      <td>1850000.0</td>\n",
       "      <td>25.00</td>\n",
       "      <td>2019-02-20T00:00:00</td>\n",
       "      <td>0</td>\n",
       "      <td>NaN</td>\n",
       "      <td>10.0</td>\n",
       "      <td>NaN</td>\n",
       "      <td>7</td>\n",
       "      <td>NaN</td>\n",
       "      <td>...</td>\n",
       "      <td>NaN</td>\n",
       "      <td>NaN</td>\n",
       "      <td>посёлок Шушары</td>\n",
       "      <td>NaN</td>\n",
       "      <td>NaN</td>\n",
       "      <td>NaN</td>\n",
       "      <td>NaN</td>\n",
       "      <td>NaN</td>\n",
       "      <td>NaN</td>\n",
       "      <td>29.0</td>\n",
       "    </tr>\n",
       "    <tr>\n",
       "      <th>...</th>\n",
       "      <td>...</td>\n",
       "      <td>...</td>\n",
       "      <td>...</td>\n",
       "      <td>...</td>\n",
       "      <td>...</td>\n",
       "      <td>...</td>\n",
       "      <td>...</td>\n",
       "      <td>...</td>\n",
       "      <td>...</td>\n",
       "      <td>...</td>\n",
       "      <td>...</td>\n",
       "      <td>...</td>\n",
       "      <td>...</td>\n",
       "      <td>...</td>\n",
       "      <td>...</td>\n",
       "      <td>...</td>\n",
       "      <td>...</td>\n",
       "      <td>...</td>\n",
       "      <td>...</td>\n",
       "      <td>...</td>\n",
       "      <td>...</td>\n",
       "    </tr>\n",
       "    <tr>\n",
       "      <th>23210</th>\n",
       "      <td>7</td>\n",
       "      <td>3200000.0</td>\n",
       "      <td>26.00</td>\n",
       "      <td>2017-09-01T00:00:00</td>\n",
       "      <td>0</td>\n",
       "      <td>NaN</td>\n",
       "      <td>25.0</td>\n",
       "      <td>18.00</td>\n",
       "      <td>16</td>\n",
       "      <td>NaN</td>\n",
       "      <td>...</td>\n",
       "      <td>NaN</td>\n",
       "      <td>0.0</td>\n",
       "      <td>Санкт-Петербург</td>\n",
       "      <td>11405.0</td>\n",
       "      <td>13222.0</td>\n",
       "      <td>0.0</td>\n",
       "      <td>NaN</td>\n",
       "      <td>1.0</td>\n",
       "      <td>623.0</td>\n",
       "      <td>14.0</td>\n",
       "    </tr>\n",
       "    <tr>\n",
       "      <th>23442</th>\n",
       "      <td>0</td>\n",
       "      <td>2500000.0</td>\n",
       "      <td>27.70</td>\n",
       "      <td>2017-09-28T00:00:00</td>\n",
       "      <td>0</td>\n",
       "      <td>NaN</td>\n",
       "      <td>24.0</td>\n",
       "      <td>18.00</td>\n",
       "      <td>4</td>\n",
       "      <td>NaN</td>\n",
       "      <td>...</td>\n",
       "      <td>NaN</td>\n",
       "      <td>2.0</td>\n",
       "      <td>посёлок Мурино</td>\n",
       "      <td>NaN</td>\n",
       "      <td>NaN</td>\n",
       "      <td>NaN</td>\n",
       "      <td>NaN</td>\n",
       "      <td>NaN</td>\n",
       "      <td>NaN</td>\n",
       "      <td>4.0</td>\n",
       "    </tr>\n",
       "    <tr>\n",
       "      <th>23554</th>\n",
       "      <td>15</td>\n",
       "      <td>3350000.0</td>\n",
       "      <td>26.00</td>\n",
       "      <td>2018-09-07T00:00:00</td>\n",
       "      <td>0</td>\n",
       "      <td>NaN</td>\n",
       "      <td>19.0</td>\n",
       "      <td>NaN</td>\n",
       "      <td>8</td>\n",
       "      <td>NaN</td>\n",
       "      <td>...</td>\n",
       "      <td>NaN</td>\n",
       "      <td>NaN</td>\n",
       "      <td>Санкт-Петербург</td>\n",
       "      <td>18090.0</td>\n",
       "      <td>17092.0</td>\n",
       "      <td>0.0</td>\n",
       "      <td>NaN</td>\n",
       "      <td>2.0</td>\n",
       "      <td>112.0</td>\n",
       "      <td>31.0</td>\n",
       "    </tr>\n",
       "    <tr>\n",
       "      <th>23592</th>\n",
       "      <td>10</td>\n",
       "      <td>1450000.0</td>\n",
       "      <td>29.00</td>\n",
       "      <td>2017-11-11T00:00:00</td>\n",
       "      <td>0</td>\n",
       "      <td>NaN</td>\n",
       "      <td>9.0</td>\n",
       "      <td>18.00</td>\n",
       "      <td>8</td>\n",
       "      <td>NaN</td>\n",
       "      <td>...</td>\n",
       "      <td>NaN</td>\n",
       "      <td>2.0</td>\n",
       "      <td>Никольское</td>\n",
       "      <td>NaN</td>\n",
       "      <td>NaN</td>\n",
       "      <td>NaN</td>\n",
       "      <td>NaN</td>\n",
       "      <td>NaN</td>\n",
       "      <td>NaN</td>\n",
       "      <td>82.0</td>\n",
       "    </tr>\n",
       "    <tr>\n",
       "      <th>23637</th>\n",
       "      <td>8</td>\n",
       "      <td>2350000.0</td>\n",
       "      <td>26.00</td>\n",
       "      <td>2018-06-26T00:00:00</td>\n",
       "      <td>0</td>\n",
       "      <td>NaN</td>\n",
       "      <td>25.0</td>\n",
       "      <td>17.00</td>\n",
       "      <td>4</td>\n",
       "      <td>NaN</td>\n",
       "      <td>...</td>\n",
       "      <td>NaN</td>\n",
       "      <td>2.0</td>\n",
       "      <td>посёлок Бугры</td>\n",
       "      <td>NaN</td>\n",
       "      <td>NaN</td>\n",
       "      <td>NaN</td>\n",
       "      <td>NaN</td>\n",
       "      <td>NaN</td>\n",
       "      <td>NaN</td>\n",
       "      <td>207.0</td>\n",
       "    </tr>\n",
       "  </tbody>\n",
       "</table>\n",
       "<p>197 rows × 22 columns</p>\n",
       "</div>"
      ],
      "text/plain": [
       "       total_images  last_price  total_area first_day_exposition  rooms  \\\n",
       "144               1   2450000.0       27.00  2017-03-30T00:00:00      0   \n",
       "349               4   2320000.0       25.00  2017-09-27T00:00:00      0   \n",
       "440               8   2480000.0       27.11  2018-03-12T00:00:00      0   \n",
       "508               0   3375000.0       34.40  2017-03-28T00:00:00      0   \n",
       "608               2   1850000.0       25.00  2019-02-20T00:00:00      0   \n",
       "...             ...         ...         ...                  ...    ...   \n",
       "23210             7   3200000.0       26.00  2017-09-01T00:00:00      0   \n",
       "23442             0   2500000.0       27.70  2017-09-28T00:00:00      0   \n",
       "23554            15   3350000.0       26.00  2018-09-07T00:00:00      0   \n",
       "23592            10   1450000.0       29.00  2017-11-11T00:00:00      0   \n",
       "23637             8   2350000.0       26.00  2018-06-26T00:00:00      0   \n",
       "\n",
       "       ceiling_height  floors_total  living_area  floor is_apartment  ...  \\\n",
       "144               NaN          24.0        15.50      2          NaN  ...   \n",
       "349               NaN          14.0        17.00      1          NaN  ...   \n",
       "440               NaN          17.0        24.75      4          NaN  ...   \n",
       "508               NaN          26.0        24.30     19          NaN  ...   \n",
       "608               NaN          10.0          NaN      7          NaN  ...   \n",
       "...               ...           ...          ...    ...          ...  ...   \n",
       "23210             NaN          25.0        18.00     16          NaN  ...   \n",
       "23442             NaN          24.0        18.00      4          NaN  ...   \n",
       "23554             NaN          19.0          NaN      8          NaN  ...   \n",
       "23592             NaN           9.0        18.00      8          NaN  ...   \n",
       "23637             NaN          25.0        17.00      4          NaN  ...   \n",
       "\n",
       "       kitchen_area  balcony      locality_name  airports_nearest  \\\n",
       "144             NaN      2.0     посёлок Мурино               NaN   \n",
       "349             NaN      0.0    деревня Кудрово               NaN   \n",
       "440             NaN      2.0    Санкт-Петербург           38171.0   \n",
       "508             NaN      1.0  посёлок Парголово           53115.0   \n",
       "608             NaN      NaN     посёлок Шушары               NaN   \n",
       "...             ...      ...                ...               ...   \n",
       "23210           NaN      0.0    Санкт-Петербург           11405.0   \n",
       "23442           NaN      2.0     посёлок Мурино               NaN   \n",
       "23554           NaN      NaN    Санкт-Петербург           18090.0   \n",
       "23592           NaN      2.0         Никольское               NaN   \n",
       "23637           NaN      2.0      посёлок Бугры               NaN   \n",
       "\n",
       "      cityCenters_nearest  parks_around3000  parks_nearest  ponds_around3000  \\\n",
       "144                   NaN               NaN            NaN               NaN   \n",
       "349                   NaN               NaN            NaN               NaN   \n",
       "440               15015.0               0.0            NaN               2.0   \n",
       "508               19292.0               0.0            NaN               1.0   \n",
       "608                   NaN               NaN            NaN               NaN   \n",
       "...                   ...               ...            ...               ...   \n",
       "23210             13222.0               0.0            NaN               1.0   \n",
       "23442                 NaN               NaN            NaN               NaN   \n",
       "23554             17092.0               0.0            NaN               2.0   \n",
       "23592                 NaN               NaN            NaN               NaN   \n",
       "23637                 NaN               NaN            NaN               NaN   \n",
       "\n",
       "       ponds_nearest  days_exposition  \n",
       "144              NaN            181.0  \n",
       "349              NaN             45.0  \n",
       "440            982.0             64.0  \n",
       "508            593.0            430.0  \n",
       "608              NaN             29.0  \n",
       "...              ...              ...  \n",
       "23210          623.0             14.0  \n",
       "23442            NaN              4.0  \n",
       "23554          112.0             31.0  \n",
       "23592            NaN             82.0  \n",
       "23637            NaN            207.0  \n",
       "\n",
       "[197 rows x 22 columns]"
      ]
     },
     "execution_count": 276,
     "metadata": {},
     "output_type": "execute_result"
    }
   ],
   "source": [
    "data.query('kitchen_area.isna()')"
   ]
  },
  {
   "cell_type": "markdown",
   "id": "cfaa329e",
   "metadata": {},
   "source": [
    "Осталось 197 пропусков, в данных строчках количество комнат равно 0.Пока оставлю пропуски, и отработаю данную аномалию дальше"
   ]
  },
  {
   "cell_type": "markdown",
   "id": "b4289ff5",
   "metadata": {},
   "source": [
    "Заменим пропуски в **ceiling_height** медианными значениями.\n"
   ]
  },
  {
   "cell_type": "code",
   "execution_count": 277,
   "id": "3cf02ecf",
   "metadata": {},
   "outputs": [],
   "source": [
    "data['ceiling_height'].fillna(data['ceiling_height'].median(), inplace=True)"
   ]
  },
  {
   "cell_type": "markdown",
   "id": "ac650029",
   "metadata": {},
   "source": [
    "Пропуски в **floors_total** удалю, поскольку реальную высоту здания я не знаю, а для дальнейшего исследования необходимо понимать реальную высоту здания в этажах. Предполагаю,что пропуски возникли при заполнении заявлений продавцами, которые просто не указали информацию."
   ]
  },
  {
   "cell_type": "code",
   "execution_count": 278,
   "id": "315d977b",
   "metadata": {},
   "outputs": [],
   "source": [
    "data = data.dropna(subset = ['floors_total'])"
   ]
  },
  {
   "cell_type": "markdown",
   "id": "60b31a4f",
   "metadata": {},
   "source": [
    "<div class=\"alert alert-success\"; style=\"border-left: 7px solid green\">\n",
    "<h3>✔ Комментарий ревьюера</h3>\n",
    "    \n",
    "Да. пропусков немного, поэтому удалить хорошее решение</div>    \n"
   ]
  },
  {
   "cell_type": "markdown",
   "id": "cdee45c4",
   "metadata": {},
   "source": [
    "Разберемся с пропусками в **is_apartment**. "
   ]
  },
  {
   "cell_type": "code",
   "execution_count": 282,
   "id": "4239fb8b",
   "metadata": {},
   "outputs": [
    {
     "data": {
      "text/plain": [
       "array([False,  True])"
      ]
     },
     "execution_count": 282,
     "metadata": {},
     "output_type": "execute_result"
    }
   ],
   "source": [
    "data['is_apartment'].unique()"
   ]
  },
  {
   "cell_type": "markdown",
   "id": "ac88db7d",
   "metadata": {},
   "source": [
    "Если люди не указали,что недвижимость является коммерческой, значит она жилая, заменим все пропуски на **False**"
   ]
  },
  {
   "cell_type": "code",
   "execution_count": 284,
   "id": "99dbdfc3",
   "metadata": {
    "scrolled": true
   },
   "outputs": [
    {
     "name": "stderr",
     "output_type": "stream",
     "text": [
      "C:\\Users\\79879\\AppData\\Local\\Temp\\ipykernel_12552\\4221261463.py:1: SettingWithCopyWarning: \n",
      "A value is trying to be set on a copy of a slice from a DataFrame\n",
      "\n",
      "See the caveats in the documentation: https://pandas.pydata.org/pandas-docs/stable/user_guide/indexing.html#returning-a-view-versus-a-copy\n",
      "  data['is_apartment'].fillna(False, inplace=True)\n"
     ]
    }
   ],
   "source": [
    "data['is_apartment'].fillna(False, inplace=True)\n"
   ]
  },
  {
   "cell_type": "markdown",
   "id": "adb15096",
   "metadata": {},
   "source": [
    "Пропуски в **balcony** заменим на 0, поскольку,если продавец не указал число балконов, то вероятно они отсутствуют."
   ]
  },
  {
   "cell_type": "code",
   "execution_count": 285,
   "id": "1de5bd9d",
   "metadata": {},
   "outputs": [
    {
     "name": "stderr",
     "output_type": "stream",
     "text": [
      "C:\\Users\\79879\\AppData\\Local\\Temp\\ipykernel_12552\\4169825907.py:1: SettingWithCopyWarning: \n",
      "A value is trying to be set on a copy of a slice from a DataFrame\n",
      "\n",
      "See the caveats in the documentation: https://pandas.pydata.org/pandas-docs/stable/user_guide/indexing.html#returning-a-view-versus-a-copy\n",
      "  data['balcony'].fillna(0, inplace=True)\n"
     ]
    }
   ],
   "source": [
    "data['balcony'].fillna(0, inplace=True)\n"
   ]
  },
  {
   "cell_type": "markdown",
   "id": "13f3cc51",
   "metadata": {},
   "source": [
    "49 пропусков в столбце **locality_name** относительно 23699 строчек датафрейма - это 0,2% данных,смело удаляем их."
   ]
  },
  {
   "cell_type": "code",
   "execution_count": 286,
   "id": "4396e724",
   "metadata": {},
   "outputs": [
    {
     "name": "stderr",
     "output_type": "stream",
     "text": [
      "C:\\Users\\79879\\AppData\\Local\\Temp\\ipykernel_12552\\3529794061.py:1: SettingWithCopyWarning: \n",
      "A value is trying to be set on a copy of a slice from a DataFrame\n",
      "\n",
      "See the caveats in the documentation: https://pandas.pydata.org/pandas-docs/stable/user_guide/indexing.html#returning-a-view-versus-a-copy\n",
      "  data.dropna(subset=['locality_name'], inplace=True)\n"
     ]
    }
   ],
   "source": [
    "data.dropna(subset=['locality_name'], inplace=True)\n"
   ]
  },
  {
   "cell_type": "markdown",
   "id": "61575816",
   "metadata": {},
   "source": [
    "Посмотрим на дату публикаций в строках с пропущенными **days_exposition**"
   ]
  },
  {
   "cell_type": "code",
   "execution_count": 287,
   "id": "4e69ece5",
   "metadata": {},
   "outputs": [
    {
     "name": "stderr",
     "output_type": "stream",
     "text": [
      "C:\\Users\\79879\\AppData\\Local\\Temp\\ipykernel_12552\\376602042.py:1: SettingWithCopyWarning: \n",
      "A value is trying to be set on a copy of a slice from a DataFrame.\n",
      "Try using .loc[row_indexer,col_indexer] = value instead\n",
      "\n",
      "See the caveats in the documentation: https://pandas.pydata.org/pandas-docs/stable/user_guide/indexing.html#returning-a-view-versus-a-copy\n",
      "  data['first_day_exposition'] = pd.to_datetime(data['first_day_exposition'], format='%Y-%m-%dT%H:%M:%S')\n"
     ]
    },
    {
     "data": {
      "text/plain": [
       "<AxesSubplot:>"
      ]
     },
     "execution_count": 287,
     "metadata": {},
     "output_type": "execute_result"
    },
    {
     "data": {
      "image/png": "[encoded data removed]",
      "text/plain": [
       "<Figure size 576x432 with 1 Axes>"
      ]
     },
     "metadata": {
      "needs_background": "light"
     },
     "output_type": "display_data"
    }
   ],
   "source": [
    "data['first_day_exposition'] = pd.to_datetime(data['first_day_exposition'], format='%Y-%m-%dT%H:%M:%S')\n",
    "data.query('days_exposition.isna()')['first_day_exposition'].hist(bins=50,figsize=(8,6))"
   ]
  },
  {
   "cell_type": "markdown",
   "id": "d79cb666",
   "metadata": {},
   "source": [
    "Из графика видно,что большая часть объявлений опубликована в последние 3-4 месяца перед сбором данных"
   ]
  },
  {
   "cell_type": "markdown",
   "id": "50603d24",
   "metadata": {},
   "source": [
    "Посмотрим на дату публикаций в строках где **days_exposition** имеет значения."
   ]
  },
  {
   "cell_type": "code",
   "execution_count": 288,
   "id": "bba9aaa7",
   "metadata": {},
   "outputs": [
    {
     "data": {
      "text/plain": [
       "<AxesSubplot:>"
      ]
     },
     "execution_count": 288,
     "metadata": {},
     "output_type": "execute_result"
    },
    {
     "data": {
      "image/png": "[encoded data removed]",
      "text/plain": [
       "<Figure size 576x432 with 1 Axes>"
      ]
     },
     "metadata": {
      "needs_background": "light"
     },
     "output_type": "display_data"
    }
   ],
   "source": [
    "data.query('days_exposition.isna() == False')['first_day_exposition'].hist(bins=50,figsize=(8,6))\n"
   ]
  },
  {
   "cell_type": "markdown",
   "id": "9cf385c9",
   "metadata": {},
   "source": [
    "Как видим основная масса объявлений, проданных квартир, размещались с 2017 по 2018 года."
   ]
  },
  {
   "cell_type": "markdown",
   "id": "41a75525",
   "metadata": {},
   "source": [
    "Пропуски в **days_exposition** оставляю, предпологаю,что объявления еще размещены и квартиры не проданы."
   ]
  },
  {
   "cell_type": "markdown",
   "id": "bb7167e6",
   "metadata": {},
   "source": [
    "<div class=\"alert alert-warning\"; style=\"border-left: 7px solid yellow\" >\n",
    "<h3>!! Комментарий ревьюера</h3>\n",
    "    \n",
    "    \n",
    "В `days_exposition` пропусков много и так ты удаляешь вполне валидные значения в других столбцах, что может влиять на анализ соотношение между другими параметрами. Пропуски, действительно, у ещё не проданных квартир. Чтобы в этом убедиться, можно сравнить гистограммы для столбца `first_day_exposition` для двух срезов: среза по `days_exposition.isna()` и среда по `days_exposition.isna() == False`. Перед построением гистограмм нужно привести столбец `first_day_exposition` к типу `datetime`\n",
    "\n",
    "\n",
    "Т.к. в проекте исследуется только влияние параметров на цену, то в целом, удалить непроданные квартиры можно, т.к. у них может быть какое-то несправедливое отношение между параметрами. Но на ровном месте лучше не удалять, а сравнивать, например, зависимости между двумя срезами\n",
    "</div>    \n",
    "<div class = \"alert alert-info\" style=\"border-left: 7px solid blue\">\n",
    "<h3>Комментарий студента</h3>\n",
    "Спасибо за рекомндацию.\n",
    "</div>"
   ]
  },
  {
   "cell_type": "markdown",
   "id": "dfc832ea",
   "metadata": {},
   "source": [
    "<div class=\"alert alert-success\"; style=\"border-left: 7px solid green\">\n",
    "<h3>✔ Комментарий ревьюера</h3>\n",
    "    \n",
    ">  last_price -цена на момент снятия с публикации\n",
    "\n",
    "Ну имеется в виду, что это последняя цена, а не какая-то историческая\n",
    "</div>    \n"
   ]
  },
  {
   "cell_type": "markdown",
   "id": "c354a05d",
   "metadata": {},
   "source": [
    "<div class=\"alert alert-warning\"; style=\"border-left: 7px solid yellow\" >\n",
    "<h3>!! Комментарий ревьюера</h3>\n",
    "    \n",
    "Отмечу ещё один момент. У тебя локально должно стоять то же самое окружение, что и на платформе в смысле версий библиотек. Это важно, т.к. функции в разных версиях могут работать по-разному. Например, в версии на платформе `dropna` в качестве `subset` принимает коллекцию, поэтому код выше не работал (я обернул везде `subset` в список)\n",
    "    \n",
    "```python\n",
    "    \n",
    "TypeError(\"Index(...) must be called with a collection of some kind, 'days_exposition' was passed\")\n",
    "    \n",
    "```\n",
    "\n",
    "</div>    \n",
    "<div class = \"alert alert-info\" style=\"border-left: 7px solid blue\">\n",
    "<h3>Комментарий студента</h3>\n",
    "Учла, скачаю окружение.\n",
    "</div>\n"
   ]
  },
  {
   "cell_type": "code",
   "execution_count": 289,
   "id": "99899ed5",
   "metadata": {},
   "outputs": [],
   "source": [
    "try:\n",
    "    data.dropna(subset='days_exposition')\n",
    "except Exception as e:\n",
    "    print(repr(e))"
   ]
  },
  {
   "cell_type": "markdown",
   "id": "69d3c098",
   "metadata": {},
   "source": [
    "<div class=\"alert alert-success\"; style=\"border-left: 7px solid green\">\n",
    "<h3>✔ Комментарий ревьюера</h3>\n",
    "    \n",
    "В практикуме такое окружение:\n",
    "\n",
    "```python\n",
    "   \n",
    "# This file may be used to create an environment using:\n",
    "# $ conda create --name <env> --file <this file>\n",
    "# platform: linux-64\n",
    "_libgcc_mutex=0.1=conda_forge\n",
    "_openmp_mutex=4.5=1_gnu\n",
    "abseil-cpp=20210324.2=h9c3ff4c_0\n",
    "absl-py=1.2.0=pypi_0\n",
    "alembic=1.6.5=pyhd8ed1ab_0\n",
    "anyio=3.2.1=py39hf3d152e_0\n",
    "argon2-cffi=20.1.0=py39h3811e60_2\n",
    "arrow-cpp=5.0.0=py39h3d6947c_1_cpu\n",
    "astunparse=1.6.3=pypi_0\n",
    "async_generator=1.10=py_0\n",
    "attrs=20.3.0=pypi_0\n",
    "aws-c-cal=0.5.11=h95a6274_0\n",
    "aws-c-common=0.6.2=h7f98852_0\n",
    "aws-c-event-stream=0.2.7=h3541f99_13\n",
    "aws-c-io=0.10.5=hfb6a706_0\n",
    "aws-checksums=0.1.11=ha31a3da_7\n",
    "aws-sdk-cpp=1.8.186=hb4091e7_3\n",
    "babel=2.9.1=pyh44b312d_0\n",
    "backcall=0.2.0=pyh9f0ad1d_0\n",
    "backports=1.0=py_2\n",
    "backports.functools_lru_cache=1.6.4=pyhd8ed1ab_0\n",
    "beautifulsoup4=4.9.3=pypi_0\n",
    "bleach=3.3.0=pyh44b312d_0\n",
    "blinker=1.4=py_1\n",
    "blis=0.7.8=pypi_0\n",
    "branca=0.5.0=pypi_0\n",
    "brotlipy=0.7.0=py39h3811e60_1001\n",
    "bzip2=1.0.8=h7f98852_4\n",
    "c-ares=1.17.1=h7f98852_1\n",
    "ca-certificates=2022.6.15=ha878542_0\n",
    "cachetools=5.2.0=pypi_0\n",
    "catalogue=2.0.8=pypi_0\n",
    "catboost=1.0.3=pypi_0\n",
    "certifi=2021.5.30=pypi_0\n",
    "certipy=0.1.3=py_0\n",
    "cffi=1.14.5=py39he32792d_0\n",
    "chardet=4.0.0=py39hf3d152e_1\n",
    "click=8.1.3=pypi_0\n",
    "conda=4.10.2=py39hf3d152e_0\n",
    "conda-package-handling=1.7.3=py39h3811e60_0\n",
    "configurable-http-proxy=4.4.0=node15_he6ea98c_0\n",
    "convertdate=2.4.0=pypi_0\n",
    "cryptography=3.4.7=py39hbca0aa6_0\n",
    "cycler=0.11.0=pypi_0\n",
    "cymem=2.0.6=pypi_0\n",
    "dawg-python=0.7.2=pypi_0\n",
    "debugpy=1.3.0=py39he80948d_0\n",
    "decorator=5.0.9=pyhd8ed1ab_0\n",
    "defusedxml=0.7.1=pyhd8ed1ab_0\n",
    "docopt=0.6.2=pypi_0\n",
    "en-core-web-sm=3.2.0=pypi_0\n",
    "entrypoints=0.3=pyhd8ed1ab_1003\n",
    "et-xmlfile=1.1.0=pypi_0\n",
    "filelock=3.8.0=pypi_0\n",
    "findspark=1.4.2=pypi_0\n",
    "flatbuffers=2.0.7=pypi_0\n",
    "folium=0.12.1.post1=pypi_0\n",
    "fuzzywuzzy=0.18.0=pypi_0\n",
    "gast=0.4.0=pypi_0\n",
    "gensim=4.1.2=pypi_0\n",
    "gflags=2.2.2=he1b5a44_1004\n",
    "glog=0.5.0=h48cff8f_0\n",
    "google-auth=2.11.0=pypi_0\n",
    "google-auth-oauthlib=0.4.6=pypi_0\n",
    "google-pasta=0.2.0=pypi_0\n",
    "greenlet=1.1.0=py39he80948d_0\n",
    "grpc-cpp=1.39.0=h36ce80c_1\n",
    "grpcio=1.47.0=pypi_0\n",
    "gspread=5.0.0=pypi_0\n",
    "h5py=3.7.0=pypi_0\n",
    "hijri-converter=2.2.4=pypi_0\n",
    "holidays=0.11.3.1=pypi_0\n",
    "huggingface-hub=0.9.1=pypi_0\n",
    "icu=68.1=h58526e2_0\n",
    "idna=2.10=pyh9f0ad1d_0\n",
    "importlib-metadata=4.6.1=py39hf3d152e_0\n",
    "ipykernel=6.0.1=py39hef51801_0\n",
    "ipython=7.25.0=py39hef51801_1\n",
    "ipython_genutils=0.2.0=py_1\n",
    "ipywidgets=7.6.3=pypi_0\n",
    "jedi=0.18.0=py39hf3d152e_2\n",
    "jinja2=3.0.1=pyhd8ed1ab_0\n",
    "joblib=1.1.0=pypi_0\n",
    "json5=0.9.5=pyh9f0ad1d_0\n",
    "jsonschema=3.2.0=pyhd8ed1ab_3\n",
    "jupyter=1.0.0=pypi_0\n",
    "jupyter-console=6.4.2=pypi_0\n",
    "jupyter-contrib-core=0.4.0=pypi_0\n",
    "jupyter-contrib-nbextensions=0.5.1=pypi_0\n",
    "jupyter-highlight-selected-word=0.2.0=pypi_0\n",
    "jupyter-latex-envs=1.4.6=pypi_0\n",
    "jupyter-nbextensions-configurator=0.5.0=pypi_0\n",
    "jupyter_client=6.1.12=pyhd8ed1ab_0\n",
    "jupyter_core=4.7.1=py39hf3d152e_0\n",
    "jupyter_server=1.9.0=pyhd8ed1ab_0\n",
    "jupyter_telemetry=0.1.0=pyhd8ed1ab_1\n",
    "jupyterhub=1.4.2=pypi_0\n",
    "jupyterlab=3.0.16=pyhd8ed1ab_0\n",
    "jupyterlab-widgets=3.0.2=pypi_0\n",
    "jupyterlab_pygments=0.1.2=pyh9f0ad1d_0\n",
    "jupyterlab_server=2.6.0=pyhd8ed1ab_0\n",
    "keras=2.7.0=pypi_0\n",
    "keras-preprocessing=1.1.2=pypi_0\n",
    "kiwisolver=1.4.4=pypi_0\n",
    "korean-lunar-calendar=0.2.1=pypi_0\n",
    "krb5=1.19.1=hcc1bbae_0\n",
    "langcodes=3.3.0=pypi_0\n",
    "ld_impl_linux-64=2.36.1=hea4e1c9_1\n",
    "libarchive=3.5.1=hccf745f_2\n",
    "libblas=3.9.0=11_linux64_openblas\n",
    "libbrotlicommon=1.0.9=h7f98852_5\n",
    "libbrotlidec=1.0.9=h7f98852_5\n",
    "libbrotlienc=1.0.9=h7f98852_5\n",
    "libcblas=3.9.0=11_linux64_openblas\n",
    "libclang=14.0.6=pypi_0\n",
    "libcurl=7.77.0=h2574ce0_0\n",
    "libedit=3.1.20191231=he28a2e2_2\n",
    "libev=4.33=h516909a_1\n",
    "libevent=2.1.10=hcdb4288_3\n",
    "libffi=3.3=h58526e2_2\n",
    "libgcc-ng=9.3.0=h2828fa1_19\n",
    "libgfortran-ng=12.1.0=h69a702a_16\n",
    "libgfortran5=12.1.0=hdcd56e2_16\n",
    "libgomp=9.3.0=h2828fa1_19\n",
    "libiconv=1.16=h516909a_0\n",
    "liblapack=3.9.0=11_linux64_openblas\n",
    "libnghttp2=1.43.0=h812cca2_0\n",
    "libopenblas=0.3.17=pthreads_h8fe5266_1\n",
    "libprotobuf=3.16.0=h780b84a_0\n",
    "libsodium=1.0.18=h36c2ea0_1\n",
    "libsolv=0.7.19=h780b84a_4\n",
    "libssh2=1.9.0=ha56f1ee_6\n",
    "libstdcxx-ng=9.3.0=h6de172a_19\n",
    "libthrift=0.14.2=he6d91bd_1\n",
    "libutf8proc=2.6.1=h7f98852_0\n",
    "libuv=1.41.1=h7f98852_0\n",
    "libxml2=2.9.12=h72842e0_0\n",
    "lightgbm=3.3.1=pypi_0\n",
    "llvmlite=0.39.0=pypi_0\n",
    "lxml=4.6.3=pypi_0\n",
    "lz4-c=1.9.3=h9c3ff4c_0\n",
    "lzo=2.10=h516909a_1000\n",
    "mako=1.1.4=pyh44b312d_0\n",
    "mamba=0.14.1=py39h951de11_0\n",
    "markdown=3.4.1=pypi_0\n",
    "markupsafe=2.1.1=pypi_0\n",
    "matplotlib=3.3.4=pypi_0\n",
    "matplotlib-inline=0.1.2=pyhd8ed1ab_2\n",
    "mistune=0.8.4=py39h3811e60_1004\n",
    "murmurhash=1.0.8=pypi_0\n",
    "nbclassic=0.3.1=pyhd8ed1ab_1\n",
    "nbclient=0.5.3=pyhd8ed1ab_0\n",
    "nbconvert=6.0.7=pypi_0\n",
    "nbformat=5.1.3=pyhd8ed1ab_0\n",
    "nbgrader=0.6.1=pypi_0\n",
    "ncurses=6.2=h58526e2_4\n",
    "nest-asyncio=1.5.1=pyhd8ed1ab_0\n",
    "nltk=3.6.1=pypi_0\n",
    "nodejs=15.14.0=h92b4a50_0\n",
    "notebook=6.4.0=pyha770c72_0\n",
    "numba=0.56.0=pypi_0\n",
    "numpy=1.20.1=pypi_0\n",
    "oauthlib=3.1.1=pyhd8ed1ab_0\n",
    "openpyxl=3.0.9=pypi_0\n",
    "openssl=1.1.1k=h7f98852_0\n",
    "opt-einsum=3.3.0=pypi_0\n",
    "orc=1.6.9=h58a87f1_0\n",
    "packaging=21.3=pypi_0\n",
    "pamela=1.0.0=py_0\n",
    "pandas=1.2.4=pypi_0\n",
    "pandoc=2.14.0.3=h7f98852_0\n",
    "pandocfilters=1.4.2=py_1\n",
    "parquet-cpp=1.5.1=2\n",
    "parso=0.8.2=pyhd8ed1ab_0\n",
    "pathy=0.6.2=pypi_0\n",
    "patsy=0.5.2=pypi_0\n",
    "pexpect=4.8.0=pyh9f0ad1d_2\n",
    "pickleshare=0.7.5=py_1003\n",
    "pillow=8.4.0=pypi_0\n",
    "pip=21.1.3=pyhd8ed1ab_0\n",
    "plotly=5.4.0=pypi_0\n",
    "preshed=3.0.7=pypi_0\n",
    "prometheus_client=0.11.0=pyhd8ed1ab_0\n",
    "prompt-toolkit=3.0.19=pyha770c72_0\n",
    "protobuf=3.19.4=pypi_0\n",
    "psycopg2-binary=2.9.2=pypi_0\n",
    "ptyprocess=0.7.0=pyhd3deb0d_0\n",
    "py4j=0.10.9.3=pypi_0\n",
    "pyarrow=5.0.0=py39h3ebc44c_1_cpu\n",
    "pyasn1=0.4.8=pypi_0\n",
    "pyasn1-modules=0.2.8=pypi_0\n",
    "pycosat=0.6.3=py39h3811e60_1006\n",
    "pycparser=2.20=pyh9f0ad1d_2\n",
    "pycurl=7.43.0.6=py39h72e3413_1\n",
    "pydantic=1.8.2=pypi_0\n",
    "pygments=2.9.0=pyhd8ed1ab_0\n",
    "pyjwt=2.1.0=pyhd8ed1ab_0\n",
    "pymeeus=0.5.11=pypi_0\n",
    "pymorphy2=0.9.1=pypi_0\n",
    "pymorphy2-dicts-ru=2.4.417127.4579844=pypi_0\n",
    "pymystem3=0.2.0=pypi_0\n",
    "pyod=0.9.5=pypi_0\n",
    "pyopenssl=20.0.1=pyhd8ed1ab_0\n",
    "pyparsing=2.4.7=pyh9f0ad1d_0\n",
    "pyrsistent=0.17.3=py39h3811e60_2\n",
    "pysocks=1.7.1=py39hf3d152e_3\n",
    "pyspark=3.0.2=pyh44b312d_0\n",
    "python=3.9.5=h49503c6_0_cpython\n",
    "python-dateutil=2.8.1=py_0\n",
    "python-editor=1.0.4=py_0\n",
    "python-graphviz=0.20.1=pypi_0\n",
    "python-json-logger=2.0.1=pyh9f0ad1d_0\n",
    "python_abi=3.9=2_cp39\n",
    "pytz=2021.1=pyhd8ed1ab_0\n",
    "pyyaml=6.0=pypi_0\n",
    "pyzmq=22.1.0=py39h37b5a0c_0\n",
    "qtconsole=5.3.2=pypi_0\n",
    "qtpy=2.2.0=pypi_0\n",
    "re2=2021.06.01=h9c3ff4c_0\n",
    "readline=8.1=h46c0cb4_0\n",
    "regex=2022.8.17=pypi_0\n",
    "reproc=14.2.1=h36c2ea0_0\n",
    "reproc-cpp=14.2.1=h58526e2_0\n",
    "requests=2.25.1=pyhd3deb0d_0\n",
    "requests-oauthlib=1.3.1=pypi_0\n",
    "requests-unixsocket=0.2.0=py_0\n",
    "rsa=4.9=pypi_0\n",
    "ruamel.yaml=0.17.10=py39h3811e60_0\n",
    "ruamel.yaml.clib=0.2.2=py39h3811e60_2\n",
    "ruamel_yaml=0.15.80=py39h3811e60_1004\n",
    "s2n=1.0.10=h9b69904_0\n",
    "sacremoses=0.0.53=pypi_0\n",
    "scikit-learn=0.24.1=pypi_0\n",
    "scipy=1.9.1=pypi_0\n",
    "seaborn=0.11.1=pypi_0\n",
    "send2trash=1.7.1=pyhd8ed1ab_0\n",
    "setuptools=49.6.0=py39hf3d152e_3\n",
    "six=1.16.0=pyh6c4a22f_0\n",
    "smart-open=5.2.1=pypi_0\n",
    "snappy=1.1.8=he1b5a44_3\n",
    "sniffio=1.2.0=py39hf3d152e_1\n",
    "soupsieve=2.3.2.post1=pypi_0\n",
    "spacy=3.2.0=pypi_0\n",
    "spacy-legacy=3.0.10=pypi_0\n",
    "spacy-loggers=1.0.3=pypi_0\n",
    "sqlalchemy=1.4.15=pypi_0\n",
    "sqlite=3.36.0=h9cd32fc_0\n",
    "srsly=2.4.4=pypi_0\n",
    "statsmodels=0.13.2=pypi_0\n",
    "tenacity=8.0.1=pypi_0\n",
    "tensorboard=2.10.0=pypi_0\n",
    "tensorboard-data-server=0.6.1=pypi_0\n",
    "tensorboard-plugin-wit=1.8.1=pypi_0\n",
    "tensorflow-cpu=2.7.0=pypi_0\n",
    "tensorflow-estimator=2.7.0=pypi_0\n",
    "tensorflow-io-gcs-filesystem=0.26.0=pypi_0\n",
    "termcolor=1.1.0=pypi_0\n",
    "terminado=0.10.1=py39hf3d152e_0\n",
    "testpath=0.5.0=pyhd8ed1ab_0\n",
    "thinc=8.0.17=pypi_0\n",
    "threadpoolctl=3.1.0=pypi_0\n",
    "tk=8.6.10=h21135ba_1\n",
    "tokenizers=0.10.3=pypi_0\n",
    "torch=1.10.0=pypi_0\n",
    "tornado=6.1=py39h3811e60_1\n",
    "tqdm=4.61.2=pyhd8ed1ab_1\n",
    "traitlets=5.0.5=py_0\n",
    "transformers=4.12.5=pypi_0\n",
    "typer=0.4.2=pypi_0\n",
    "typing-extensions=4.3.0=pypi_0\n",
    "tzdata=2021a=he74cb21_1\n",
    "urllib3=1.26.6=pyhd8ed1ab_0\n",
    "wasabi=0.10.1=pypi_0\n",
    "wcwidth=0.2.5=pyh9f0ad1d_2\n",
    "webencodings=0.5.1=py_1\n",
    "websocket-client=0.57.0=py39hf3d152e_4\n",
    "werkzeug=2.2.2=pypi_0\n",
    "wheel=0.36.2=pyhd3deb0d_0\n",
    "widgetsnbextension=3.5.2=pypi_0\n",
    "wrapt=1.14.1=pypi_0\n",
    "xgboost=1.5.1=pypi_0\n",
    "xlrd=2.0.1=pypi_0\n",
    "xmltodict=0.12.0=pypi_0\n",
    "xz=5.2.5=h516909a_1\n",
    "yaml=0.2.5=h516909a_0\n",
    "zeromq=4.3.4=h9c3ff4c_0\n",
    "zipp=3.5.0=pyhd8ed1ab_0\n",
    "zlib=1.2.11=h516909a_1010\n",
    "zstd=1.5.0=ha95c52a_0\n",
    "    \n",
    "```\n",
    "</div>    "
   ]
  },
  {
   "cell_type": "markdown",
   "id": "43fa1f7c",
   "metadata": {},
   "source": [
    "Посчитаем корреляцию между жилой площадью и числом комнат."
   ]
  },
  {
   "cell_type": "code",
   "execution_count": 290,
   "id": "d2565a67",
   "metadata": {},
   "outputs": [
    {
     "data": {
      "text/plain": [
       "0.8461168530398939"
      ]
     },
     "execution_count": 290,
     "metadata": {},
     "output_type": "execute_result"
    }
   ],
   "source": [
    "data['living_area'].corr(data['rooms'])"
   ]
  },
  {
   "cell_type": "markdown",
   "id": "158fee15",
   "metadata": {},
   "source": [
    "Корреляция положительная и близка к 1, значит заполню пропуски в **living_area** на медианное значение жилой площади, соответсвущего числа комнат."
   ]
  },
  {
   "cell_type": "markdown",
   "id": "a80adb3f",
   "metadata": {},
   "source": [
    "Заменим пропуски в **living_area** сгруппировав данные по числу комнат.\\\n",
    "Считаем для каждой группы  долю жилой площади от общей (отношение living_area / total_area)\\\n",
    "Заменяем пропуски на произведение total_area и значения для соответствующей группы"
   ]
  },
  {
   "cell_type": "code",
   "execution_count": 291,
   "id": "438b350f",
   "metadata": {},
   "outputs": [],
   "source": [
    "gr = data.groupby('rooms')\n",
    "data['living_area'] = (data['living_area']\n",
    "                       .fillna(data['total_area'] * gr['living_area']\n",
    "                       .transform(lambda x : (x / gr.get_group(x.name)['total_area']).mean())))"
   ]
  },
  {
   "cell_type": "markdown",
   "id": "2d0e6ac6",
   "metadata": {},
   "source": [
    "<div class=\"alert alert-success\"; style=\"border-left: 7px solid green\">\n",
    "<h3>✔ Комментарий ревьюера</h3>\n",
    "    \n",
    "Тут замена уже лучше. Можно технически и логически поступить также как выше в примере с кухнями</div>    \n",
    "<div class = \"alert alert-info\" style=\"border-left: 7px solid blue\">\n",
    "<h3>Комментарий студента</h3>\n",
    "Воспользовалась советом.\n",
    "</div>\n"
   ]
  },
  {
   "cell_type": "code",
   "execution_count": 292,
   "id": "cfe59b7b",
   "metadata": {},
   "outputs": [
    {
     "data": {
      "text/plain": [
       "total_images                0\n",
       "last_price                  0\n",
       "total_area                  0\n",
       "first_day_exposition        0\n",
       "rooms                       0\n",
       "ceiling_height              0\n",
       "floors_total                0\n",
       "living_area                 0\n",
       "floor                       0\n",
       "is_apartment                0\n",
       "studio                      0\n",
       "open_plan                   0\n",
       "kitchen_area              194\n",
       "balcony                     0\n",
       "locality_name               0\n",
       "airports_nearest         5524\n",
       "cityCenters_nearest      5501\n",
       "parks_around3000         5500\n",
       "parks_nearest           15535\n",
       "ponds_around3000         5500\n",
       "ponds_nearest           14529\n",
       "days_exposition          3171\n",
       "dtype: int64"
      ]
     },
     "execution_count": 292,
     "metadata": {},
     "output_type": "execute_result"
    }
   ],
   "source": [
    "data.isna().sum()"
   ]
  },
  {
   "cell_type": "markdown",
   "id": "d01f9f58",
   "metadata": {},
   "source": [
    "Пропуски в **airports_nearest, cityCenters_nearest,parks_around3000,parks_nearest, ponds_around3000, ponds_nearest** оставляю. Предполагаю,что пропуски являются результатом слияния таблиц."
   ]
  },
  {
   "cell_type": "markdown",
   "id": "b1f7b3b5",
   "metadata": {},
   "source": [
    "<div class=\"alert alert-success\"; style=\"border-left: 7px solid green\">\n",
    "<h3>✔ Комментарий ревьюера</h3>\n",
    "    \n",
    "Такие столбцы вероятно определяются автоматически (иначе как пользователь определяет расстояние?) и видимо для некоторых населенных пунктов такая функциональность не работает. Можно посмотреть на доли пропусков в зависимости от населенного пункта:\n",
    "</div>    \n"
   ]
  },
  {
   "cell_type": "code",
   "execution_count": 293,
   "id": "43441bbe",
   "metadata": {},
   "outputs": [
    {
     "data": {
      "text/html": [
       "<div>\n",
       "<style scoped>\n",
       "    .dataframe tbody tr th:only-of-type {\n",
       "        vertical-align: middle;\n",
       "    }\n",
       "\n",
       "    .dataframe tbody tr th {\n",
       "        vertical-align: top;\n",
       "    }\n",
       "\n",
       "    .dataframe thead th {\n",
       "        text-align: right;\n",
       "    }\n",
       "</style>\n",
       "<table border=\"1\" class=\"dataframe\">\n",
       "  <thead>\n",
       "    <tr style=\"text-align: right;\">\n",
       "      <th></th>\n",
       "      <th>cityCenters_nearest</th>\n",
       "      <th>locality_name</th>\n",
       "    </tr>\n",
       "    <tr>\n",
       "      <th>locality_name</th>\n",
       "      <th></th>\n",
       "      <th></th>\n",
       "    </tr>\n",
       "  </thead>\n",
       "  <tbody>\n",
       "    <tr>\n",
       "      <th>Волхов</th>\n",
       "      <td>1.000000</td>\n",
       "      <td>111</td>\n",
       "    </tr>\n",
       "    <tr>\n",
       "      <th>Всеволожск</th>\n",
       "      <td>1.000000</td>\n",
       "      <td>398</td>\n",
       "    </tr>\n",
       "    <tr>\n",
       "      <th>Выборг</th>\n",
       "      <td>1.000000</td>\n",
       "      <td>237</td>\n",
       "    </tr>\n",
       "    <tr>\n",
       "      <th>Гатчина</th>\n",
       "      <td>1.000000</td>\n",
       "      <td>307</td>\n",
       "    </tr>\n",
       "    <tr>\n",
       "      <th>Кингисепп</th>\n",
       "      <td>1.000000</td>\n",
       "      <td>104</td>\n",
       "    </tr>\n",
       "    <tr>\n",
       "      <th>Кириши</th>\n",
       "      <td>1.000000</td>\n",
       "      <td>125</td>\n",
       "    </tr>\n",
       "    <tr>\n",
       "      <th>Колпино</th>\n",
       "      <td>0.002959</td>\n",
       "      <td>338</td>\n",
       "    </tr>\n",
       "    <tr>\n",
       "      <th>Красное Село</th>\n",
       "      <td>0.011364</td>\n",
       "      <td>176</td>\n",
       "    </tr>\n",
       "    <tr>\n",
       "      <th>Кудрово</th>\n",
       "      <td>1.000000</td>\n",
       "      <td>171</td>\n",
       "    </tr>\n",
       "    <tr>\n",
       "      <th>Ломоносов</th>\n",
       "      <td>0.007519</td>\n",
       "      <td>133</td>\n",
       "    </tr>\n",
       "    <tr>\n",
       "      <th>Петергоф</th>\n",
       "      <td>0.000000</td>\n",
       "      <td>201</td>\n",
       "    </tr>\n",
       "    <tr>\n",
       "      <th>Пушкин</th>\n",
       "      <td>0.002710</td>\n",
       "      <td>369</td>\n",
       "    </tr>\n",
       "    <tr>\n",
       "      <th>Санкт-Петербург</th>\n",
       "      <td>0.003834</td>\n",
       "      <td>15651</td>\n",
       "    </tr>\n",
       "    <tr>\n",
       "      <th>Сертолово</th>\n",
       "      <td>1.000000</td>\n",
       "      <td>142</td>\n",
       "    </tr>\n",
       "    <tr>\n",
       "      <th>Сестрорецк</th>\n",
       "      <td>0.000000</td>\n",
       "      <td>183</td>\n",
       "    </tr>\n",
       "    <tr>\n",
       "      <th>Сланцы</th>\n",
       "      <td>1.000000</td>\n",
       "      <td>112</td>\n",
       "    </tr>\n",
       "    <tr>\n",
       "      <th>Тосно</th>\n",
       "      <td>1.000000</td>\n",
       "      <td>104</td>\n",
       "    </tr>\n",
       "    <tr>\n",
       "      <th>деревня Кудрово</th>\n",
       "      <td>1.000000</td>\n",
       "      <td>299</td>\n",
       "    </tr>\n",
       "    <tr>\n",
       "      <th>деревня Новое Девяткино</th>\n",
       "      <td>1.000000</td>\n",
       "      <td>143</td>\n",
       "    </tr>\n",
       "    <tr>\n",
       "      <th>посёлок Мурино</th>\n",
       "      <td>1.000000</td>\n",
       "      <td>520</td>\n",
       "    </tr>\n",
       "    <tr>\n",
       "      <th>посёлок Парголово</th>\n",
       "      <td>0.000000</td>\n",
       "      <td>327</td>\n",
       "    </tr>\n",
       "    <tr>\n",
       "      <th>посёлок Шушары</th>\n",
       "      <td>0.006834</td>\n",
       "      <td>439</td>\n",
       "    </tr>\n",
       "  </tbody>\n",
       "</table>\n",
       "</div>"
      ],
      "text/plain": [
       "                         cityCenters_nearest  locality_name\n",
       "locality_name                                              \n",
       "Волхов                              1.000000            111\n",
       "Всеволожск                          1.000000            398\n",
       "Выборг                              1.000000            237\n",
       "Гатчина                             1.000000            307\n",
       "Кингисепп                           1.000000            104\n",
       "Кириши                              1.000000            125\n",
       "Колпино                             0.002959            338\n",
       "Красное Село                        0.011364            176\n",
       "Кудрово                             1.000000            171\n",
       "Ломоносов                           0.007519            133\n",
       "Петергоф                            0.000000            201\n",
       "Пушкин                              0.002710            369\n",
       "Санкт-Петербург                     0.003834          15651\n",
       "Сертолово                           1.000000            142\n",
       "Сестрорецк                          0.000000            183\n",
       "Сланцы                              1.000000            112\n",
       "Тосно                               1.000000            104\n",
       "деревня Кудрово                     1.000000            299\n",
       "деревня Новое Девяткино             1.000000            143\n",
       "посёлок Мурино                      1.000000            520\n",
       "посёлок Парголово                   0.000000            327\n",
       "посёлок Шушары                      0.006834            439"
      ]
     },
     "execution_count": 293,
     "metadata": {},
     "output_type": "execute_result"
    }
   ],
   "source": [
    "# Код ревьюера\n",
    "\n",
    "data.groupby('locality_name').agg({'cityCenters_nearest' : lambda x : x.isna().mean(),\n",
    "                                   'locality_name' : 'count'})[lambda x : x['locality_name'] > 100]"
   ]
  },
  {
   "cell_type": "code",
   "execution_count": 294,
   "id": "5883dd5f",
   "metadata": {},
   "outputs": [
    {
     "name": "stdout",
     "output_type": "stream",
     "text": [
      "Количество строк 23565\n"
     ]
    }
   ],
   "source": [
    "print('Количество строк', data.shape[0])"
   ]
  },
  {
   "cell_type": "markdown",
   "id": "b89e9f04",
   "metadata": {},
   "source": [
    "Итого из начальных данных потеряно 44 строки"
   ]
  },
  {
   "cell_type": "markdown",
   "id": "65d66477",
   "metadata": {},
   "source": [
    "### Изменение типов данных"
   ]
  },
  {
   "cell_type": "code",
   "execution_count": 295,
   "id": "486d0186",
   "metadata": {},
   "outputs": [
    {
     "data": {
      "text/plain": [
       "total_images                     int64\n",
       "last_price                     float64\n",
       "total_area                     float64\n",
       "first_day_exposition    datetime64[ns]\n",
       "rooms                            int64\n",
       "ceiling_height                 float64\n",
       "floors_total                   float64\n",
       "living_area                    float64\n",
       "floor                            int64\n",
       "is_apartment                      bool\n",
       "studio                            bool\n",
       "open_plan                         bool\n",
       "kitchen_area                   float64\n",
       "balcony                        float64\n",
       "locality_name                   object\n",
       "airports_nearest               float64\n",
       "cityCenters_nearest            float64\n",
       "parks_around3000               float64\n",
       "parks_nearest                  float64\n",
       "ponds_around3000               float64\n",
       "ponds_nearest                  float64\n",
       "days_exposition                float64\n",
       "dtype: object"
      ]
     },
     "execution_count": 295,
     "metadata": {},
     "output_type": "execute_result"
    }
   ],
   "source": [
    "data.dtypes"
   ]
  },
  {
   "cell_type": "code",
   "execution_count": 296,
   "id": "db5cbda9",
   "metadata": {},
   "outputs": [],
   "source": [
    "data['last_price'] = data['last_price'].astype(int)\n",
    "data['total_area'] = data['total_area'].astype(int)\n",
    "data['living_area'] = data['living_area'].astype(int)\n",
    "data['floors_total'] = data['floors_total'].astype(int)\n",
    "data['balcony'] = data['balcony'].astype(int)\n",
    "data['days_exposition'] = data['days_exposition'].round(0)"
   ]
  },
  {
   "cell_type": "markdown",
   "id": "8367802d",
   "metadata": {},
   "source": [
    "<div class=\"alert alert-success\"; style=\"border-left: 7px solid green\">\n",
    "<h3>✔ Комментарий ревьюера</h3>\n",
    "    \n",
    "Всё верно, но отмечу, что когда ты оставишь пропуски в столбце `days_exposition`, то тип `int` приводиться не будет. Достаточно будет округлить значения и оставить тип `float`\n",
    "</div>    \n"
   ]
  },
  {
   "cell_type": "markdown",
   "id": "6e5f7e37",
   "metadata": {},
   "source": [
    "В first_day_exposition ранее поменяла тип, так как это дата. В total_area, living_area и last_price на целочисленный для удобства рассчетов.В floors_total, balcony  меняем тип  на целочисленный поскольку число этажей,количество балконов не могут быть дробными. Посколько в days_exposition остались пропуски, округлила значение."
   ]
  },
  {
   "cell_type": "code",
   "execution_count": 297,
   "id": "73c3ad3d",
   "metadata": {},
   "outputs": [
    {
     "data": {
      "text/plain": [
       "total_images                     int64\n",
       "last_price                       int32\n",
       "total_area                       int32\n",
       "first_day_exposition    datetime64[ns]\n",
       "rooms                            int64\n",
       "ceiling_height                 float64\n",
       "floors_total                     int32\n",
       "living_area                      int32\n",
       "floor                            int64\n",
       "is_apartment                      bool\n",
       "studio                            bool\n",
       "open_plan                         bool\n",
       "kitchen_area                   float64\n",
       "balcony                          int32\n",
       "locality_name                   object\n",
       "airports_nearest               float64\n",
       "cityCenters_nearest            float64\n",
       "parks_around3000               float64\n",
       "parks_nearest                  float64\n",
       "ponds_around3000               float64\n",
       "ponds_nearest                  float64\n",
       "days_exposition                float64\n",
       "dtype: object"
      ]
     },
     "execution_count": 297,
     "metadata": {},
     "output_type": "execute_result"
    }
   ],
   "source": [
    "data.dtypes"
   ]
  },
  {
   "cell_type": "markdown",
   "id": "1255c1bd",
   "metadata": {},
   "source": [
    "### Обработка дубликатов"
   ]
  },
  {
   "cell_type": "code",
   "execution_count": 298,
   "id": "1958d8f2",
   "metadata": {
    "scrolled": false
   },
   "outputs": [
    {
     "data": {
      "text/plain": [
       "array(['Санкт-Петербург', 'посёлок Шушары', 'городской посёлок Янино-1',\n",
       "       'посёлок Парголово', 'посёлок Мурино', 'Ломоносов', 'Сертолово',\n",
       "       'Петергоф', 'Пушкин', 'деревня Кудрово', 'Коммунар', 'Колпино',\n",
       "       'поселок городского типа Красный Бор', 'Гатчина', 'поселок Мурино',\n",
       "       'деревня Фёдоровское', 'Выборг', 'Кронштадт', 'Кировск',\n",
       "       'деревня Новое Девяткино', 'посёлок Металлострой',\n",
       "       'посёлок городского типа Лебяжье',\n",
       "       'посёлок городского типа Сиверский', 'поселок Молодцово',\n",
       "       'поселок городского типа Кузьмоловский',\n",
       "       'садовое товарищество Новая Ропша', 'Павловск',\n",
       "       'деревня Пикколово', 'Всеволожск', 'Волхов', 'Кингисепп',\n",
       "       'Приозерск', 'Сестрорецк', 'деревня Куттузи', 'посёлок Аннино',\n",
       "       'поселок городского типа Ефимовский', 'посёлок Плодовое',\n",
       "       'деревня Заклинье', 'поселок Торковичи', 'поселок Первомайское',\n",
       "       'Красное Село', 'посёлок Понтонный', 'Сясьстрой', 'деревня Старая',\n",
       "       'деревня Лесколово', 'посёлок Новый Свет', 'Сланцы',\n",
       "       'село Путилово', 'Ивангород', 'Мурино', 'Шлиссельбург',\n",
       "       'Никольское', 'Зеленогорск', 'Сосновый Бор', 'поселок Новый Свет',\n",
       "       'деревня Оржицы', 'деревня Кальтино', 'Кудрово',\n",
       "       'поселок Романовка', 'посёлок Бугры', 'поселок Бугры',\n",
       "       'поселок городского типа Рощино', 'Кириши', 'Луга', 'Волосово',\n",
       "       'Отрадное', 'село Павлово', 'поселок Оредеж', 'село Копорье',\n",
       "       'посёлок городского типа Красный Бор', 'посёлок Молодёжное',\n",
       "       'Тихвин', 'посёлок Победа', 'деревня Нурма',\n",
       "       'поселок городского типа Синявино', 'Тосно',\n",
       "       'посёлок городского типа Кузьмоловский', 'посёлок Стрельна',\n",
       "       'Бокситогорск', 'посёлок Александровская', 'деревня Лопухинка',\n",
       "       'Пикалёво', 'поселок Терволово',\n",
       "       'поселок городского типа Советский', 'Подпорожье',\n",
       "       'посёлок Петровское', 'посёлок городского типа Токсово',\n",
       "       'поселок Сельцо', 'посёлок городского типа Вырица',\n",
       "       'деревня Кипень', 'деревня Келози', 'деревня Вартемяги',\n",
       "       'посёлок Тельмана', 'поселок Севастьяново',\n",
       "       'городской поселок Большая Ижора', 'городской посёлок Павлово',\n",
       "       'деревня Агалатово', 'посёлок Новогорелово',\n",
       "       'городской посёлок Лесогорский', 'деревня Лаголово',\n",
       "       'поселок Цвелодубово', 'поселок городского типа Рахья',\n",
       "       'поселок городского типа Вырица', 'деревня Белогорка',\n",
       "       'поселок Заводской', 'городской посёлок Новоселье',\n",
       "       'деревня Большие Колпаны', 'деревня Горбунки', 'деревня Батово',\n",
       "       'деревня Заневка', 'деревня Иссад', 'Приморск',\n",
       "       'городской посёлок Фёдоровское', 'деревня Мистолово',\n",
       "       'Новая Ладога', 'поселок Зимитицы', 'поселок Барышево',\n",
       "       'деревня Разметелево', 'поселок городского типа имени Свердлова',\n",
       "       'деревня Пеники', 'поселок Рябово', 'деревня Пудомяги',\n",
       "       'поселок станции Корнево', 'деревня Низино', 'деревня Бегуницы',\n",
       "       'посёлок Поляны', 'городской посёлок Мга', 'поселок Елизаветино',\n",
       "       'посёлок городского типа Кузнечное', 'деревня Колтуши',\n",
       "       'поселок Запорожское', 'посёлок городского типа Рощино',\n",
       "       'деревня Гостилицы', 'деревня Малое Карлино',\n",
       "       'посёлок Мичуринское', 'посёлок городского типа имени Морозова',\n",
       "       'посёлок Песочный', 'посёлок Сосново', 'деревня Аро',\n",
       "       'поселок Ильичёво', 'посёлок городского типа Тайцы',\n",
       "       'деревня Малое Верево', 'деревня Извара', 'поселок станции Вещево',\n",
       "       'село Паша', 'деревня Калитино',\n",
       "       'посёлок городского типа Ульяновка', 'деревня Чудской Бор',\n",
       "       'поселок городского типа Дубровка', 'деревня Мины',\n",
       "       'поселок Войсковицы', 'посёлок городского типа имени Свердлова',\n",
       "       'деревня Коркино', 'посёлок Ропша',\n",
       "       'поселок городского типа Приладожский', 'посёлок Щеглово',\n",
       "       'посёлок Гаврилово', 'Лодейное Поле', 'деревня Рабитицы',\n",
       "       'поселок городского типа Никольский', 'деревня Кузьмолово',\n",
       "       'деревня Малые Колпаны', 'поселок Тельмана',\n",
       "       'посёлок Петро-Славянка', 'городской посёлок Назия',\n",
       "       'посёлок Репино', 'посёлок Ильичёво', 'поселок Углово',\n",
       "       'поселок Старая Малукса', 'садовое товарищество Рахья',\n",
       "       'поселок Аннино', 'поселок Победа', 'деревня Меньково',\n",
       "       'деревня Старые Бегуницы', 'посёлок Сапёрный', 'поселок Семрино',\n",
       "       'поселок Гаврилово', 'поселок Глажево', 'поселок Кобринское',\n",
       "       'деревня Гарболово', 'деревня Юкки',\n",
       "       'поселок станции Приветнинское', 'деревня Мануйлово',\n",
       "       'деревня Пчева', 'поселок Поляны', 'поселок Цвылёво',\n",
       "       'поселок Мельниково', 'посёлок Пудость', 'посёлок Усть-Луга',\n",
       "       'Светогорск', 'Любань', 'поселок Селезнёво',\n",
       "       'поселок городского типа Рябово', 'Каменногорск', 'деревня Кривко',\n",
       "       'поселок Глебычево', 'деревня Парицы', 'поселок Жилпосёлок',\n",
       "       'посёлок городского типа Мга', 'городской поселок Янино-1',\n",
       "       'посёлок Войскорово', 'село Никольское', 'посёлок Терволово',\n",
       "       'поселок Стеклянный', 'посёлок городского типа Важины',\n",
       "       'посёлок Мыза-Ивановка', 'село Русско-Высоцкое',\n",
       "       'поселок городского типа Лебяжье',\n",
       "       'поселок городского типа Форносово', 'село Старая Ладога',\n",
       "       'поселок Житково', 'городской посёлок Виллози', 'деревня Лампово',\n",
       "       'деревня Шпаньково', 'деревня Лаврики', 'посёлок Сумино',\n",
       "       'посёлок Возрождение', 'деревня Старосиверская',\n",
       "       'посёлок Кикерино', 'поселок Возрождение',\n",
       "       'деревня Старое Хинколово', 'посёлок Пригородный',\n",
       "       'посёлок Торфяное', 'городской посёлок Будогощь',\n",
       "       'поселок Суходолье', 'поселок Красная Долина', 'деревня Хапо-Ое',\n",
       "       'поселок городского типа Дружная Горка', 'поселок Лисий Нос',\n",
       "       'деревня Яльгелево', 'посёлок Стеклянный', 'село Рождествено',\n",
       "       'деревня Старополье', 'посёлок Левашово', 'деревня Сяськелево',\n",
       "       'деревня Камышовка',\n",
       "       'садоводческое некоммерческое товарищество Лесная Поляна',\n",
       "       'деревня Хязельки', 'поселок Жилгородок',\n",
       "       'посёлок городского типа Павлово', 'деревня Ялгино',\n",
       "       'поселок Новый Учхоз', 'городской посёлок Рощино',\n",
       "       'поселок Гончарово', 'поселок Почап', 'посёлок Сапёрное',\n",
       "       'посёлок Платформа 69-й километр', 'поселок Каложицы',\n",
       "       'деревня Фалилеево', 'деревня Пельгора',\n",
       "       'поселок городского типа Лесогорский', 'деревня Торошковичи',\n",
       "       'посёлок Белоостров', 'посёлок Алексеевка', 'поселок Серебрянский',\n",
       "       'поселок Лукаши', 'поселок Петровское', 'деревня Щеглово',\n",
       "       'поселок Мичуринское', 'деревня Тарасово', 'поселок Кингисеппский',\n",
       "       'посёлок при железнодорожной станции Вещево', 'поселок Ушаки',\n",
       "       'деревня Котлы', 'деревня Сижно', 'деревня Торосово',\n",
       "       'посёлок Форт Красная Горка', 'деревня Новолисино',\n",
       "       'посёлок станции Громово', 'деревня Глинка', 'посёлок Мельниково',\n",
       "       'поселок городского типа Назия', 'деревня Старая Пустошь',\n",
       "       'поселок Коммунары', 'поселок Починок',\n",
       "       'посёлок городского типа Вознесенье', 'деревня Разбегаево',\n",
       "       'посёлок городского типа Рябово', 'поселок Гладкое',\n",
       "       'посёлок при железнодорожной станции Приветнинское',\n",
       "       'поселок Тёсово-4', 'посёлок Жилгородок', 'деревня Бор',\n",
       "       'посёлок Коробицыно', 'деревня Большая Вруда', 'деревня Курковицы',\n",
       "       'посёлок Лисий Нос', 'городской посёлок Советский',\n",
       "       'посёлок Кобралово', 'деревня Суоранда', 'поселок Кобралово',\n",
       "       'поселок городского типа Кондратьево',\n",
       "       'коттеджный поселок Счастье', 'поселок Любань', 'деревня Реброво',\n",
       "       'деревня Зимитицы', 'деревня Тойворово', 'поселок Семиозерье',\n",
       "       'поселок Лесное', 'поселок Совхозный', 'поселок Усть-Луга',\n",
       "       'посёлок Ленинское', 'посёлок Суйда',\n",
       "       'посёлок городского типа Форносово', 'деревня Нижние Осельки',\n",
       "       'посёлок станции Свирь', 'поселок Перово', 'Высоцк',\n",
       "       'поселок Гарболово', 'село Шум', 'поселок Котельский',\n",
       "       'поселок станции Лужайка', 'деревня Большая Пустомержа',\n",
       "       'поселок Красносельское', 'деревня Вахнова Кара', 'деревня Пижма',\n",
       "       'коттеджный поселок Кивеннапа Север', 'поселок Коробицыно',\n",
       "       'поселок Ромашки', 'посёлок Перово', 'деревня Каськово',\n",
       "       'деревня Куровицы', 'посёлок Плоское', 'поселок Сумино',\n",
       "       'поселок городского типа Большая Ижора', 'поселок Кирпичное',\n",
       "       'деревня Ям-Тесово', 'деревня Раздолье', 'деревня Терпилицы',\n",
       "       'поселок городского типа Токсово', 'посёлок Шугозеро',\n",
       "       'деревня Ваганово', 'поселок Пушное', 'садовое товарищество Садко',\n",
       "       'посёлок Усть-Ижора', 'деревня Выскатка',\n",
       "       'городской посёлок Свирьстрой', 'поселок Громово',\n",
       "       'деревня Кисельня', 'посёлок Старая Малукса',\n",
       "       'деревня Трубников Бор', 'поселок Калитино',\n",
       "       'посёлок Высокоключевой', 'садовое товарищество Приладожский',\n",
       "       'посёлок Пансионат Зелёный Бор', 'деревня Ненимяки',\n",
       "       'поселок Пансионат Зелёный Бор', 'деревня Снегирёвка',\n",
       "       'деревня Рапполово', 'деревня Пустынка', 'поселок Рабитицы',\n",
       "       'деревня Большой Сабск', 'деревня Русско', 'деревня Лупполово',\n",
       "       'деревня Большое Рейзино', 'деревня Малая Романовка',\n",
       "       'поселок Дружноселье', 'поселок Пчевжа', 'поселок Володарское',\n",
       "       'деревня Нижняя', 'коттеджный посёлок Лесное', 'деревня Тихковицы',\n",
       "       'деревня Борисова Грива', 'посёлок Дзержинского'], dtype=object)"
      ]
     },
     "execution_count": 298,
     "metadata": {},
     "output_type": "execute_result"
    }
   ],
   "source": [
    "data['locality_name'].unique()\n"
   ]
  },
  {
   "cell_type": "code",
   "execution_count": 299,
   "id": "f2f862f8",
   "metadata": {},
   "outputs": [
    {
     "name": "stdout",
     "output_type": "stream",
     "text": [
      "Количиество уникальных значений 364\n"
     ]
    }
   ],
   "source": [
    "print('Количиество уникальных значений', len(data['locality_name'].unique()))"
   ]
  },
  {
   "cell_type": "markdown",
   "id": "5d68f258",
   "metadata": {},
   "source": [
    "Убираем явно выдающиеся дубликаты."
   ]
  },
  {
   "cell_type": "code",
   "execution_count": 300,
   "id": "4f3def75",
   "metadata": {},
   "outputs": [],
   "source": [
    "data['locality_name'] = data['locality_name'].replace('посёлок', 'поселок', regex=True)\n",
    "data['locality_name'] = data['locality_name'].replace('городской поселок', 'поселок городского типа', regex=True)\n",
    "unique_list=data['locality_name'].unique()"
   ]
  },
  {
   "cell_type": "markdown",
   "id": "ddd59517",
   "metadata": {},
   "source": [
    "Разделим все строки списка по запятой :"
   ]
  },
  {
   "cell_type": "code",
   "execution_count": 301,
   "id": "e3e602ad",
   "metadata": {
    "scrolled": true
   },
   "outputs": [
    {
     "name": "stdout",
     "output_type": "stream",
     "text": [
      "['Санкт-Петербург', 'поселок', 'Шушары', 'поселок', 'городского', 'типа', 'Янино-1', 'поселок', 'Парголово', 'поселок', 'Мурино', 'Ломоносов', 'Сертолово', 'Петергоф', 'Пушкин', 'деревня', 'Кудрово', 'Коммунар', 'Колпино', 'поселок', 'городского', 'типа', 'Красный', 'Бор', 'Гатчина', 'деревня', 'Фёдоровское', 'Выборг', 'Кронштадт', 'Кировск', 'деревня', 'Новое', 'Девяткино', 'поселок', 'Металлострой', 'поселок', 'городского', 'типа', 'Лебяжье', 'поселок', 'городского', 'типа', 'Сиверский', 'поселок', 'Молодцово', 'поселок', 'городского', 'типа', 'Кузьмоловский', 'садовое', 'товарищество', 'Новая', 'Ропша', 'Павловск', 'деревня', 'Пикколово', 'Всеволожск', 'Волхов', 'Кингисепп', 'Приозерск', 'Сестрорецк', 'деревня', 'Куттузи', 'поселок', 'Аннино', 'поселок', 'городского', 'типа', 'Ефимовский', 'поселок', 'Плодовое', 'деревня', 'Заклинье', 'поселок', 'Торковичи', 'поселок', 'Первомайское', 'Красное', 'Село', 'поселок', 'Понтонный', 'Сясьстрой', 'деревня', 'Старая', 'деревня', 'Лесколово', 'поселок', 'Новый', 'Свет', 'Сланцы', 'село', 'Путилово', 'Ивангород', 'Мурино', 'Шлиссельбург', 'Никольское', 'Зеленогорск', 'Сосновый', 'Бор', 'деревня', 'Оржицы', 'деревня', 'Кальтино', 'Кудрово', 'поселок', 'Романовка', 'поселок', 'Бугры', 'поселок', 'городского', 'типа', 'Рощино', 'Кириши', 'Луга', 'Волосово', 'Отрадное', 'село', 'Павлово', 'поселок', 'Оредеж', 'село', 'Копорье', 'поселок', 'Молодёжное', 'Тихвин', 'поселок', 'Победа', 'деревня', 'Нурма', 'поселок', 'городского', 'типа', 'Синявино', 'Тосно', 'поселок', 'Стрельна', 'Бокситогорск', 'поселок', 'Александровская', 'деревня', 'Лопухинка', 'Пикалёво', 'поселок', 'Терволово', 'поселок', 'городского', 'типа', 'Советский', 'Подпорожье', 'поселок', 'Петровское', 'поселок', 'городского', 'типа', 'Токсово', 'поселок', 'Сельцо', 'поселок', 'городского', 'типа', 'Вырица', 'деревня', 'Кипень', 'деревня', 'Келози', 'деревня', 'Вартемяги', 'поселок', 'Тельмана', 'поселок', 'Севастьяново', 'поселок', 'городского', 'типа', 'Большая', 'Ижора', 'поселок', 'городского', 'типа', 'Павлово', 'деревня', 'Агалатово', 'поселок', 'Новогорелово', 'поселок', 'городского', 'типа', 'Лесогорский', 'деревня', 'Лаголово', 'поселок', 'Цвелодубово', 'поселок', 'городского', 'типа', 'Рахья', 'деревня', 'Белогорка', 'поселок', 'Заводской', 'поселок', 'городского', 'типа', 'Новоселье', 'деревня', 'Большие', 'Колпаны', 'деревня', 'Горбунки', 'деревня', 'Батово', 'деревня', 'Заневка', 'деревня', 'Иссад', 'Приморск', 'поселок', 'городского', 'типа', 'Фёдоровское', 'деревня', 'Мистолово', 'Новая', 'Ладога', 'поселок', 'Зимитицы', 'поселок', 'Барышево', 'деревня', 'Разметелево', 'поселок', 'городского', 'типа', 'имени', 'Свердлова', 'деревня', 'Пеники', 'поселок', 'Рябово', 'деревня', 'Пудомяги', 'поселок', 'станции', 'Корнево', 'деревня', 'Низино', 'деревня', 'Бегуницы', 'поселок', 'Поляны', 'поселок', 'городского', 'типа', 'Мга', 'поселок', 'Елизаветино', 'поселок', 'городского', 'типа', 'Кузнечное', 'деревня', 'Колтуши', 'поселок', 'Запорожское', 'деревня', 'Гостилицы', 'деревня', 'Малое', 'Карлино', 'поселок', 'Мичуринское', 'поселок', 'городского', 'типа', 'имени', 'Морозова', 'поселок', 'Песочный', 'поселок', 'Сосново', 'деревня', 'Аро', 'поселок', 'Ильичёво', 'поселок', 'городского', 'типа', 'Тайцы', 'деревня', 'Малое', 'Верево', 'деревня', 'Извара', 'поселок', 'станции', 'Вещево', 'село', 'Паша', 'деревня', 'Калитино', 'поселок', 'городского', 'типа', 'Ульяновка', 'деревня', 'Чудской', 'Бор', 'поселок', 'городского', 'типа', 'Дубровка', 'деревня', 'Мины', 'поселок', 'Войсковицы', 'деревня', 'Коркино', 'поселок', 'Ропша', 'поселок', 'городского', 'типа', 'Приладожский', 'поселок', 'Щеглово', 'поселок', 'Гаврилово', 'Лодейное', 'Поле', 'деревня', 'Рабитицы', 'поселок', 'городского', 'типа', 'Никольский', 'деревня', 'Кузьмолово', 'деревня', 'Малые', 'Колпаны', 'поселок', 'Петро-Славянка', 'поселок', 'городского', 'типа', 'Назия', 'поселок', 'Репино', 'поселок', 'Углово', 'поселок', 'Старая', 'Малукса', 'садовое', 'товарищество', 'Рахья', 'деревня', 'Меньково', 'деревня', 'Старые', 'Бегуницы', 'поселок', 'Сапёрный', 'поселок', 'Семрино', 'поселок', 'Глажево', 'поселок', 'Кобринское', 'деревня', 'Гарболово', 'деревня', 'Юкки', 'поселок', 'станции', 'Приветнинское', 'деревня', 'Мануйлово', 'деревня', 'Пчева', 'поселок', 'Цвылёво', 'поселок', 'Мельниково', 'поселок', 'Пудость', 'поселок', 'Усть-Луга', 'Светогорск', 'Любань', 'поселок', 'Селезнёво', 'поселок', 'городского', 'типа', 'Рябово', 'Каменногорск', 'деревня', 'Кривко', 'поселок', 'Глебычево', 'деревня', 'Парицы', 'поселок', 'Жилпоселок', 'поселок', 'Войскорово', 'село', 'Никольское', 'поселок', 'Стеклянный', 'поселок', 'городского', 'типа', 'Важины', 'поселок', 'Мыза-Ивановка', 'село', 'Русско-Высоцкое', 'поселок', 'городского', 'типа', 'Форносово', 'село', 'Старая', 'Ладога', 'поселок', 'Житково', 'поселок', 'городского', 'типа', 'Виллози', 'деревня', 'Лампово', 'деревня', 'Шпаньково', 'деревня', 'Лаврики', 'поселок', 'Сумино', 'поселок', 'Возрождение', 'деревня', 'Старосиверская', 'поселок', 'Кикерино', 'деревня', 'Старое', 'Хинколово', 'поселок', 'Пригородный', 'поселок', 'Торфяное', 'поселок', 'городского', 'типа', 'Будогощь', 'поселок', 'Суходолье', 'поселок', 'Красная', 'Долина', 'деревня', 'Хапо-Ое', 'поселок', 'городского', 'типа', 'Дружная', 'Горка', 'поселок', 'Лисий', 'Нос', 'деревня', 'Яльгелево', 'село', 'Рождествено', 'деревня', 'Старополье', 'поселок', 'Левашово', 'деревня', 'Сяськелево', 'деревня', 'Камышовка', 'садоводческое', 'некоммерческое', 'товарищество', 'Лесная', 'Поляна', 'деревня', 'Хязельки', 'поселок', 'Жилгородок', 'деревня', 'Ялгино', 'поселок', 'Новый', 'Учхоз', 'поселок', 'Гончарово', 'поселок', 'Почап', 'поселок', 'Сапёрное', 'поселок', 'Платформа', '69-й', 'километр', 'поселок', 'Каложицы', 'деревня', 'Фалилеево', 'деревня', 'Пельгора', 'деревня', 'Торошковичи', 'поселок', 'Белоостров', 'поселок', 'Алексеевка', 'поселок', 'Серебрянский', 'поселок', 'Лукаши', 'деревня', 'Щеглово', 'деревня', 'Тарасово', 'поселок', 'Кингисеппский', 'поселок', 'при', 'железнодорожной', 'станции', 'Вещево', 'поселок', 'Ушаки', 'деревня', 'Котлы', 'деревня', 'Сижно', 'деревня', 'Торосово', 'поселок', 'Форт', 'Красная', 'Горка', 'деревня', 'Новолисино', 'поселок', 'станции', 'Громово', 'деревня', 'Глинка', 'деревня', 'Старая', 'Пустошь', 'поселок', 'Коммунары', 'поселок', 'Починок', 'поселок', 'городского', 'типа', 'Вознесенье', 'деревня', 'Разбегаево', 'поселок', 'Гладкое', 'поселок', 'при', 'железнодорожной', 'станции', 'Приветнинское', 'поселок', 'Тёсово-4', 'деревня', 'Бор', 'поселок', 'Коробицыно', 'деревня', 'Большая', 'Вруда', 'деревня', 'Курковицы', 'поселок', 'Кобралово', 'деревня', 'Суоранда', 'поселок', 'городского', 'типа', 'Кондратьево', 'коттеджный', 'поселок', 'Счастье', 'поселок', 'Любань', 'деревня', 'Реброво', 'деревня', 'Зимитицы', 'деревня', 'Тойворово', 'поселок', 'Семиозерье', 'поселок', 'Лесное', 'поселок', 'Совхозный', 'поселок', 'Ленинское', 'поселок', 'Суйда', 'деревня', 'Нижние', 'Осельки', 'поселок', 'станции', 'Свирь', 'поселок', 'Перово', 'Высоцк', 'поселок', 'Гарболово', 'село', 'Шум', 'поселок', 'Котельский', 'поселок', 'станции', 'Лужайка', 'деревня', 'Большая', 'Пустомержа', 'поселок', 'Красносельское', 'деревня', 'Вахнова', 'Кара', 'деревня', 'Пижма', 'коттеджный', 'поселок', 'Кивеннапа', 'Север', 'поселок', 'Ромашки', 'деревня', 'Каськово', 'деревня', 'Куровицы', 'поселок', 'Плоское', 'поселок', 'Кирпичное', 'деревня', 'Ям-Тесово', 'деревня', 'Раздолье', 'деревня', 'Терпилицы', 'поселок', 'Шугозеро', 'деревня', 'Ваганово', 'поселок', 'Пушное', 'садовое', 'товарищество', 'Садко', 'поселок', 'Усть-Ижора', 'деревня', 'Выскатка', 'поселок', 'городского', 'типа', 'Свирьстрой', 'поселок', 'Громово', 'деревня', 'Кисельня', 'деревня', 'Трубников', 'Бор', 'поселок', 'Калитино', 'поселок', 'Высокоключевой', 'садовое', 'товарищество', 'Приладожский', 'поселок', 'Пансионат', 'Зелёный', 'Бор', 'деревня', 'Ненимяки', 'деревня', 'Снегирёвка', 'деревня', 'Рапполово', 'деревня', 'Пустынка', 'поселок', 'Рабитицы', 'деревня', 'Большой', 'Сабск', 'деревня', 'Русско', 'деревня', 'Лупполово', 'деревня', 'Большое', 'Рейзино', 'деревня', 'Малая', 'Романовка', 'поселок', 'Дружноселье', 'поселок', 'Пчевжа', 'поселок', 'Володарское', 'деревня', 'Нижняя', 'коттеджный', 'поселок', 'Лесное', 'деревня', 'Тихковицы', 'деревня', 'Борисова', 'Грива', 'поселок', 'Дзержинского']\n"
     ]
    }
   ],
   "source": [
    "split_list=[]\n",
    "for i in unique_list:\n",
    "    i=i.split()\n",
    "    split_list.extend(i)   \n",
    "print(split_list)    "
   ]
  },
  {
   "cell_type": "markdown",
   "id": "e3a0e0da",
   "metadata": {},
   "source": [
    "Из списка split_list отберем только строки, начинающиеся с верхнего регистра, таким образом очистим список от территориальных наименований, оставив только названия."
   ]
  },
  {
   "cell_type": "code",
   "execution_count": 302,
   "id": "370d638c",
   "metadata": {},
   "outputs": [
    {
     "name": "stdout",
     "output_type": "stream",
     "text": [
      "['Санкт-Петербург', 'Шушары', 'Янино-1', 'Парголово', 'Мурино', 'Ломоносов', 'Сертолово', 'Петергоф', 'Пушкин', 'Кудрово', 'Коммунар', 'Колпино', 'Красный', 'Бор', 'Гатчина', 'Фёдоровское', 'Выборг', 'Кронштадт', 'Кировск', 'Новое', 'Девяткино', 'Металлострой', 'Лебяжье', 'Сиверский', 'Молодцово', 'Кузьмоловский', 'Новая', 'Ропша', 'Павловск', 'Пикколово', 'Всеволожск', 'Волхов', 'Кингисепп', 'Приозерск', 'Сестрорецк', 'Куттузи', 'Аннино', 'Ефимовский', 'Плодовое', 'Заклинье', 'Торковичи', 'Первомайское', 'Красное', 'Село', 'Понтонный', 'Сясьстрой', 'Старая', 'Лесколово', 'Новый', 'Свет', 'Сланцы', 'Путилово', 'Ивангород', 'Мурино', 'Шлиссельбург', 'Никольское', 'Зеленогорск', 'Сосновый', 'Бор', 'Оржицы', 'Кальтино', 'Кудрово', 'Романовка', 'Бугры', 'Рощино', 'Кириши', 'Луга', 'Волосово', 'Отрадное', 'Павлово', 'Оредеж', 'Копорье', 'Молодёжное', 'Тихвин', 'Победа', 'Нурма', 'Синявино', 'Тосно', 'Стрельна', 'Бокситогорск', 'Александровская', 'Лопухинка', 'Пикалёво', 'Терволово', 'Советский', 'Подпорожье', 'Петровское', 'Токсово', 'Сельцо', 'Вырица', 'Кипень', 'Келози', 'Вартемяги', 'Тельмана', 'Севастьяново', 'Большая', 'Ижора', 'Павлово', 'Агалатово', 'Новогорелово', 'Лесогорский', 'Лаголово', 'Цвелодубово', 'Рахья', 'Белогорка', 'Заводской', 'Новоселье', 'Большие', 'Колпаны', 'Горбунки', 'Батово', 'Заневка', 'Иссад', 'Приморск', 'Фёдоровское', 'Мистолово', 'Новая', 'Ладога', 'Зимитицы', 'Барышево', 'Разметелево', 'Свердлова', 'Пеники', 'Рябово', 'Пудомяги', 'Корнево', 'Низино', 'Бегуницы', 'Поляны', 'Мга', 'Елизаветино', 'Кузнечное', 'Колтуши', 'Запорожское', 'Гостилицы', 'Малое', 'Карлино', 'Мичуринское', 'Морозова', 'Песочный', 'Сосново', 'Аро', 'Ильичёво', 'Тайцы', 'Малое', 'Верево', 'Извара', 'Вещево', 'Паша', 'Калитино', 'Ульяновка', 'Чудской', 'Бор', 'Дубровка', 'Мины', 'Войсковицы', 'Коркино', 'Ропша', 'Приладожский', 'Щеглово', 'Гаврилово', 'Лодейное', 'Поле', 'Рабитицы', 'Никольский', 'Кузьмолово', 'Малые', 'Колпаны', 'Петро-Славянка', 'Назия', 'Репино', 'Углово', 'Старая', 'Малукса', 'Рахья', 'Меньково', 'Старые', 'Бегуницы', 'Сапёрный', 'Семрино', 'Глажево', 'Кобринское', 'Гарболово', 'Юкки', 'Приветнинское', 'Мануйлово', 'Пчева', 'Цвылёво', 'Мельниково', 'Пудость', 'Усть-Луга', 'Светогорск', 'Любань', 'Селезнёво', 'Рябово', 'Каменногорск', 'Кривко', 'Глебычево', 'Парицы', 'Жилпоселок', 'Войскорово', 'Никольское', 'Стеклянный', 'Важины', 'Мыза-Ивановка', 'Русско-Высоцкое', 'Форносово', 'Старая', 'Ладога', 'Житково', 'Виллози', 'Лампово', 'Шпаньково', 'Лаврики', 'Сумино', 'Возрождение', 'Старосиверская', 'Кикерино', 'Старое', 'Хинколово', 'Пригородный', 'Торфяное', 'Будогощь', 'Суходолье', 'Красная', 'Долина', 'Хапо-Ое', 'Дружная', 'Горка', 'Лисий', 'Нос', 'Яльгелево', 'Рождествено', 'Старополье', 'Левашово', 'Сяськелево', 'Камышовка', 'Лесная', 'Поляна', 'Хязельки', 'Жилгородок', 'Ялгино', 'Новый', 'Учхоз', 'Гончарово', 'Почап', 'Сапёрное', 'Платформа', 'Каложицы', 'Фалилеево', 'Пельгора', 'Торошковичи', 'Белоостров', 'Алексеевка', 'Серебрянский', 'Лукаши', 'Щеглово', 'Тарасово', 'Кингисеппский', 'Вещево', 'Ушаки', 'Котлы', 'Сижно', 'Торосово', 'Форт', 'Красная', 'Горка', 'Новолисино', 'Громово', 'Глинка', 'Старая', 'Пустошь', 'Коммунары', 'Починок', 'Вознесенье', 'Разбегаево', 'Гладкое', 'Приветнинское', 'Тёсово-4', 'Бор', 'Коробицыно', 'Большая', 'Вруда', 'Курковицы', 'Кобралово', 'Суоранда', 'Кондратьево', 'Счастье', 'Любань', 'Реброво', 'Зимитицы', 'Тойворово', 'Семиозерье', 'Лесное', 'Совхозный', 'Ленинское', 'Суйда', 'Нижние', 'Осельки', 'Свирь', 'Перово', 'Высоцк', 'Гарболово', 'Шум', 'Котельский', 'Лужайка', 'Большая', 'Пустомержа', 'Красносельское', 'Вахнова', 'Кара', 'Пижма', 'Кивеннапа', 'Север', 'Ромашки', 'Каськово', 'Куровицы', 'Плоское', 'Кирпичное', 'Ям-Тесово', 'Раздолье', 'Терпилицы', 'Шугозеро', 'Ваганово', 'Пушное', 'Садко', 'Усть-Ижора', 'Выскатка', 'Свирьстрой', 'Громово', 'Кисельня', 'Трубников', 'Бор', 'Калитино', 'Высокоключевой', 'Приладожский', 'Пансионат', 'Зелёный', 'Бор', 'Ненимяки', 'Снегирёвка', 'Рапполово', 'Пустынка', 'Рабитицы', 'Большой', 'Сабск', 'Русско', 'Лупполово', 'Большое', 'Рейзино', 'Малая', 'Романовка', 'Дружноселье', 'Пчевжа', 'Володарское', 'Нижняя', 'Лесное', 'Тихковицы', 'Борисова', 'Грива', 'Дзержинского']\n"
     ]
    }
   ],
   "source": [
    "name_list=[]\n",
    "\n",
    "for i in split_list:\n",
    "    if 'А'<=i[0]<='Я':\n",
    "        name_list.append(i)\n",
    "print(name_list)"
   ]
  },
  {
   "cell_type": "markdown",
   "id": "beff60cd",
   "metadata": {},
   "source": [
    "В списке name_list есть строки не являющиеся названиями, удалим их"
   ]
  },
  {
   "cell_type": "code",
   "execution_count": 303,
   "id": "54118ace",
   "metadata": {},
   "outputs": [],
   "source": [
    "remove_list=['Новое','Село','Новый','Бор','Малое','Новая','Пансионат','Старая','Большая','Старые']\n",
    "for i in remove_list:\n",
    "    while i in name_list:\n",
    "        name_list.remove(i) "
   ]
  },
  {
   "cell_type": "markdown",
   "id": "b2591ce5",
   "metadata": {},
   "source": [
    "<div class=\"alert alert-success\"; style=\"border-left: 7px solid green\">\n",
    "<h3>✔ Комментарий ревьюера</h3>\n",
    "    \n",
    "Это на самом деле всё части названия, например Большая Ижора: https://ru.wikipedia.org/wiki/%D0%91%D0%BE%D0%BB%D1%8C%D1%88%D0%B0%D1%8F_%D0%98%D0%B6%D0%BE%D1%80%D0%B0\n",
    "\n",
    "Но в целом идея неплохая. Можно просто оставить из названий часть, которая начинается с большой буквы, чтобы убрать название типов:\n",
    "</div>    \n",
    "<div class = \"alert alert-info\" style=\"border-left: 7px solid blue\">\n",
    "<h3>Комментарий студента</h3>\n",
    "Код ниже я так понимаю использует регулярные выражения, вроде так их называли)Но у нас они будут дальше,пока не проходили,поэтому не понимаю его.\n",
    "</div>\n"
   ]
  },
  {
   "cell_type": "code",
   "execution_count": 304,
   "id": "8c78b37b",
   "metadata": {},
   "outputs": [
    {
     "data": {
      "text/plain": [
       "0    Длинное Название\n",
       "1     Санкт-Петербург\n",
       "Name: 0, dtype: object"
      ]
     },
     "execution_count": 304,
     "metadata": {},
     "output_type": "execute_result"
    }
   ],
   "source": [
    "# Код ревьюера\n",
    "\n",
    "pd.Series(['посёлок Длинное Название','Санкт-Петербург']).str.extract('([А-Я][\\w-]+(\\s?[А-Я][\\w-]+)*)')[0]"
   ]
  },
  {
   "cell_type": "markdown",
   "id": "4baadebf",
   "metadata": {},
   "source": [
    "Создадим таблицу с дубликатами"
   ]
  },
  {
   "cell_type": "code",
   "execution_count": 305,
   "id": "8e5a4988",
   "metadata": {
    "scrolled": true
   },
   "outputs": [
    {
     "name": "stdout",
     "output_type": "stream",
     "text": [
      "      наименование  Дубликат\n",
      "47          Мурино      True\n",
      "54         Кудрово      True\n",
      "89         Павлово      True\n",
      "106    Фёдоровское      True\n",
      "145          Ропша      True\n",
      "155        Колпаны      True\n",
      "161          Рахья      True\n",
      "163       Бегуницы      True\n",
      "180         Рябово      True\n",
      "187     Никольское      True\n",
      "193         Ладога      True\n",
      "240        Щеглово      True\n",
      "243         Вещево      True\n",
      "249        Красная      True\n",
      "250          Горка      True\n",
      "260  Приветнинское      True\n",
      "269         Любань      True\n",
      "271       Зимитицы      True\n",
      "283      Гарболово      True\n",
      "309        Громово      True\n",
      "312       Калитино      True\n",
      "314   Приладожский      True\n",
      "320       Рабитицы      True\n",
      "328      Романовка      True\n",
      "333         Лесное      True\n"
     ]
    }
   ],
   "source": [
    "ser_name_list =  pd.Series(name_list)\n",
    "duplicated_ser=ser_name_list.str.lower().duplicated()\n",
    "df = pd.DataFrame()\n",
    "df['наименование'] = ser_name_list\n",
    "df['Дубликат'] = duplicated_ser\n",
    "\n",
    "true_table = df.query('Дубликат == True')\n",
    "print(true_table)\n"
   ]
  },
  {
   "cell_type": "markdown",
   "id": "496e660d",
   "metadata": {},
   "source": [
    "Заменим найденные дубликаты в названиях:"
   ]
  },
  {
   "cell_type": "code",
   "execution_count": 306,
   "id": "59f60e4f",
   "metadata": {},
   "outputs": [],
   "source": [
    "data['locality_name'] = data['locality_name'].replace('деревня Кудрово', 'Кудрово', regex=True)\n",
    "data['locality_name'] = data['locality_name'].replace('село Павлово','поселок городского типа Павлово', regex=True)\n",
    "data['locality_name'] = data['locality_name'].replace('деревня Бегуницы','деревня Старые Бегуницы' , regex=True)\n",
    "data['locality_name'] = data['locality_name'].replace('садовое товарищество Рахья','поселок городского типа Рахья', regex=True)\n",
    "data['locality_name'] = data['locality_name'].replace('поселок Рябово','поселок городского типа Рябово', regex=True)\n",
    "data['locality_name'] = data['locality_name'].replace('деревня Щеглово','поселок Щеглово', regex=True)\n",
    "data['locality_name'] = data['locality_name'].replace('поселок станции Вещево','поселок при железнодорожной станции Вещево' , regex=True)\n",
    "data['locality_name'] = data['locality_name'].replace('деревня Фёдоровское', 'поселок городского типа Фёдоровское', regex=True)\n",
    "data['locality_name'] = data['locality_name'].replace('поселок Любань','Любань', regex=True)\n",
    "data['locality_name'] = data['locality_name'].replace('деревня Зимитицы','поселок Зимитицы', regex=True)\n",
    "data['locality_name'] = data['locality_name'].replace('поселок Гарболово','деревня Гарболово', regex=True)\n",
    "data['locality_name'] = data['locality_name'].replace('поселок Калитино','деревня Калитино', regex=True)\n",
    "data['locality_name'] = data['locality_name'].replace('садовое товарищество Приладожский','поселок городского типа Приладожский' , regex=True)\n",
    "data['locality_name'] = data['locality_name'].replace('поселок станции Громово','поселок Громово', regex=True)\n"
   ]
  },
  {
   "cell_type": "code",
   "execution_count": 307,
   "id": "7bad3b24",
   "metadata": {},
   "outputs": [
    {
     "name": "stdout",
     "output_type": "stream",
     "text": [
      "Количество уникальных значений 309\n"
     ]
    }
   ],
   "source": [
    "print('Количество уникальных значений', len(data['locality_name'].unique()))"
   ]
  },
  {
   "cell_type": "markdown",
   "id": "7b7ec672",
   "metadata": {},
   "source": [
    "Таким образом избавились от 55 неявных дубликатов."
   ]
  },
  {
   "cell_type": "markdown",
   "id": "aa7dee8e",
   "metadata": {},
   "source": [
    "<div class=\"alert alert-success\"; style=\"border-left: 7px solid green\">\n",
    "<h3>✔ Комментарий ревьюера</h3>\n",
    "    \n",
    "👍\n",
    "</div>    \n"
   ]
  },
  {
   "cell_type": "markdown",
   "id": "4784155b",
   "metadata": {},
   "source": [
    "### Обработка аномалий"
   ]
  },
  {
   "cell_type": "code",
   "execution_count": 308,
   "id": "9dbf7349",
   "metadata": {},
   "outputs": [
    {
     "data": {
      "text/plain": [
       "array([  2.7 ,   2.65,   3.03,   2.5 ,   2.67,   2.56,   3.05,   2.75,\n",
       "         2.6 ,   2.9 ,   2.8 ,   2.55,   3.  ,   3.2 ,   2.61,   3.25,\n",
       "         3.45,   2.77,   2.85,   2.64,   2.57,   4.15,   3.5 ,   3.3 ,\n",
       "         2.71,   4.  ,   2.47,   2.73,   2.84,   3.1 ,   2.34,   3.4 ,\n",
       "         3.06,   2.72,   2.54,   2.51,   2.78,   2.76,  25.  ,   2.58,\n",
       "         3.7 ,   2.52,   5.2 ,   2.87,   2.66,   2.59,   2.  ,   2.45,\n",
       "         3.6 ,   2.92,   3.11,   3.13,   3.8 ,   3.15,   3.55,   3.16,\n",
       "         3.62,   3.12,   2.53,   2.74,   2.96,   2.46,   5.3 ,   5.  ,\n",
       "         2.79,   2.95,   4.06,   2.94,   3.82,   3.54,   3.53,   2.83,\n",
       "         4.7 ,   2.4 ,   3.38,   3.01,   5.6 ,   3.65,   3.9 ,   3.18,\n",
       "         3.35,   2.3 ,   3.57,   2.48,   2.62,   2.82,   3.98,   2.63,\n",
       "         3.83,   3.52,   3.95,   3.75,   2.88,   3.67,   3.87,   3.66,\n",
       "         3.85,   3.86,   4.19,   3.24,   4.8 ,   4.5 ,   4.2 ,   3.36,\n",
       "        32.  ,   3.08,   3.68,   3.07,   3.37,   3.09,   8.  ,   3.26,\n",
       "         3.34,   2.81,   3.44,   2.97,   3.14,   4.37,   2.68,   3.22,\n",
       "         3.27,  27.  ,   4.1 ,   2.93,   3.46,  24.  ,   3.47,   3.33,\n",
       "         3.63,   3.32,  26.  ,   1.2 ,   8.3 ,   2.98,   2.86,   3.17,\n",
       "         4.4 ,   3.28,   3.04,   4.45,   5.5 ,   3.84,   3.23,   3.02,\n",
       "         3.21,   3.43,   3.78,   4.3 ,   3.39,   2.69,   3.31,   4.65,\n",
       "         3.56,   2.2 ,   3.51,   3.93,   3.42,   2.99,   3.49,  14.  ,\n",
       "         4.14,   2.91,   3.88,   1.75,   4.25,   3.29,  20.  ,   2.25,\n",
       "         3.76,   3.69,   6.  ,  22.6 ,   2.89,   3.58,   5.8 ,  27.5 ,\n",
       "         2.49,   4.9 ,   3.48,  10.3 ,   1.  , 100.  ,   3.59])"
      ]
     },
     "execution_count": 308,
     "metadata": {},
     "output_type": "execute_result"
    }
   ],
   "source": [
    "data['ceiling_height'].unique()\n"
   ]
  },
  {
   "cell_type": "markdown",
   "id": "48075c53",
   "metadata": {},
   "source": [
    "Вероятно высоты более 10 м являются ошибкой при заполнии объявлений,где вместо метров указали высоту в сантиметрах.Исправим это."
   ]
  },
  {
   "cell_type": "code",
   "execution_count": 309,
   "id": "57a5e12a",
   "metadata": {},
   "outputs": [
    {
     "data": {
      "text/html": [
       "<div>\n",
       "<style scoped>\n",
       "    .dataframe tbody tr th:only-of-type {\n",
       "        vertical-align: middle;\n",
       "    }\n",
       "\n",
       "    .dataframe tbody tr th {\n",
       "        vertical-align: top;\n",
       "    }\n",
       "\n",
       "    .dataframe thead th {\n",
       "        text-align: right;\n",
       "    }\n",
       "</style>\n",
       "<table border=\"1\" class=\"dataframe\">\n",
       "  <thead>\n",
       "    <tr style=\"text-align: right;\">\n",
       "      <th></th>\n",
       "      <th>total_images</th>\n",
       "      <th>last_price</th>\n",
       "      <th>total_area</th>\n",
       "      <th>first_day_exposition</th>\n",
       "      <th>rooms</th>\n",
       "      <th>ceiling_height</th>\n",
       "      <th>floors_total</th>\n",
       "      <th>living_area</th>\n",
       "      <th>floor</th>\n",
       "      <th>is_apartment</th>\n",
       "      <th>...</th>\n",
       "      <th>kitchen_area</th>\n",
       "      <th>balcony</th>\n",
       "      <th>locality_name</th>\n",
       "      <th>airports_nearest</th>\n",
       "      <th>cityCenters_nearest</th>\n",
       "      <th>parks_around3000</th>\n",
       "      <th>parks_nearest</th>\n",
       "      <th>ponds_around3000</th>\n",
       "      <th>ponds_nearest</th>\n",
       "      <th>days_exposition</th>\n",
       "    </tr>\n",
       "  </thead>\n",
       "  <tbody>\n",
       "  </tbody>\n",
       "</table>\n",
       "<p>0 rows × 22 columns</p>\n",
       "</div>"
      ],
      "text/plain": [
       "Empty DataFrame\n",
       "Columns: [total_images, last_price, total_area, first_day_exposition, rooms, ceiling_height, floors_total, living_area, floor, is_apartment, studio, open_plan, kitchen_area, balcony, locality_name, airports_nearest, cityCenters_nearest, parks_around3000, parks_nearest, ponds_around3000, ponds_nearest, days_exposition]\n",
       "Index: []\n",
       "\n",
       "[0 rows x 22 columns]"
      ]
     },
     "execution_count": 309,
     "metadata": {},
     "output_type": "execute_result"
    }
   ],
   "source": [
    "data.loc[data['ceiling_height'] >= 10, 'ceiling_height'] = data.loc[data['ceiling_height'] >= 10, 'ceiling_height'] / 10\n",
    "data.query('ceiling_height > 10 ')"
   ]
  },
  {
   "cell_type": "markdown",
   "id": "9fa7987c",
   "metadata": {},
   "source": [
    "<div class=\"alert alert-success\"; style=\"border-left: 7px solid green\">\n",
    "<h3>✔ Комментарий ревьюера</h3>\n",
    "    \n",
    "👍\n",
    "</div>    \n"
   ]
  },
  {
   "cell_type": "markdown",
   "id": "aa17005b",
   "metadata": {},
   "source": [
    "Удалим строки, где высота потолка менее 2 метров."
   ]
  },
  {
   "cell_type": "code",
   "execution_count": 310,
   "id": "2478c13a",
   "metadata": {},
   "outputs": [],
   "source": [
    "data = data.drop(data[data['ceiling_height'] < 2].index)"
   ]
  },
  {
   "cell_type": "markdown",
   "id": "2d6df45e",
   "metadata": {},
   "source": [
    "<div class=\"alert alert-success\"; style=\"border-left: 7px solid green\">\n",
    "<h3>✔ Комментарий ревьюера</h3>\n",
    "    \n",
    "Отмечу, что если в `ceiling_height` будут пропуски, то такая строка пропуски удалит. Поэтому лучше делать как `data = data.drop(data[data['ceiling_height'] < 2].index)`\n",
    "</div>    \n"
   ]
  },
  {
   "cell_type": "code",
   "execution_count": 311,
   "id": "0b19228d",
   "metadata": {},
   "outputs": [
    {
     "data": {
      "text/html": [
       "<div>\n",
       "<style scoped>\n",
       "    .dataframe tbody tr th:only-of-type {\n",
       "        vertical-align: middle;\n",
       "    }\n",
       "\n",
       "    .dataframe tbody tr th {\n",
       "        vertical-align: top;\n",
       "    }\n",
       "\n",
       "    .dataframe thead th {\n",
       "        text-align: right;\n",
       "    }\n",
       "</style>\n",
       "<table border=\"1\" class=\"dataframe\">\n",
       "  <thead>\n",
       "    <tr style=\"text-align: right;\">\n",
       "      <th></th>\n",
       "      <th>total_images</th>\n",
       "      <th>last_price</th>\n",
       "      <th>total_area</th>\n",
       "      <th>first_day_exposition</th>\n",
       "      <th>rooms</th>\n",
       "      <th>ceiling_height</th>\n",
       "      <th>floors_total</th>\n",
       "      <th>living_area</th>\n",
       "      <th>floor</th>\n",
       "      <th>is_apartment</th>\n",
       "      <th>...</th>\n",
       "      <th>kitchen_area</th>\n",
       "      <th>balcony</th>\n",
       "      <th>locality_name</th>\n",
       "      <th>airports_nearest</th>\n",
       "      <th>cityCenters_nearest</th>\n",
       "      <th>parks_around3000</th>\n",
       "      <th>parks_nearest</th>\n",
       "      <th>ponds_around3000</th>\n",
       "      <th>ponds_nearest</th>\n",
       "      <th>days_exposition</th>\n",
       "    </tr>\n",
       "  </thead>\n",
       "  <tbody>\n",
       "  </tbody>\n",
       "</table>\n",
       "<p>0 rows × 22 columns</p>\n",
       "</div>"
      ],
      "text/plain": [
       "Empty DataFrame\n",
       "Columns: [total_images, last_price, total_area, first_day_exposition, rooms, ceiling_height, floors_total, living_area, floor, is_apartment, studio, open_plan, kitchen_area, balcony, locality_name, airports_nearest, cityCenters_nearest, parks_around3000, parks_nearest, ponds_around3000, ponds_nearest, days_exposition]\n",
       "Index: []\n",
       "\n",
       "[0 rows x 22 columns]"
      ]
     },
     "execution_count": 311,
     "metadata": {},
     "output_type": "execute_result"
    }
   ],
   "source": [
    "data.query('ceiling_height < 2 ')"
   ]
  },
  {
   "cell_type": "code",
   "execution_count": 312,
   "id": "6abe17cc",
   "metadata": {},
   "outputs": [
    {
     "data": {
      "text/plain": [
       "array([108,  40,  56, 159, 100,  30,  37,  71,  33,  61,  39,  44,  54,\n",
       "        42,  36,  82,  31, 121,  80,  58,  32,  97,  76,  60,  70,  67,\n",
       "        73, 149,  45,  74, 161,  48,  50,  52, 136,  41,  46,  35,  78,\n",
       "       118,  57,  34,  55,  62,  79,  68,  43,  63,  72,  29,  47, 146,\n",
       "        90,  38,  77, 124, 101,  21,  84, 180,  87,  65,  51,  49,  85,\n",
       "       105,  86,  27,  53, 179,  81, 317,  75,  66, 154, 153,  83,  98,\n",
       "       123, 111,  59, 119, 102, 158, 140, 120, 134, 115,  28, 116,  25,\n",
       "       163,  69,  96, 103,  89, 151, 178, 106, 280, 216, 104, 225,  92,\n",
       "       230, 130,  91,  23,  64, 113, 365, 165, 110, 142, 135, 187, 133,\n",
       "       109, 183, 169, 131, 483, 200, 249,  24, 141,  17, 188,  26, 137,\n",
       "       310, 181, 229,  99,  94, 132, 363, 170, 139, 211, 147,  95, 138,\n",
       "       122, 107,  88, 323, 127,  93, 114, 201, 290,  22, 168, 150, 152,\n",
       "       399, 166, 190, 364, 174, 145, 128,  20, 237, 125, 274, 224, 184,\n",
       "       126, 215, 162, 228, 234, 117, 204, 304, 164, 173, 176, 160, 240,\n",
       "       255, 242, 338, 148, 177, 214, 197, 196, 143, 172, 631, 232, 155,\n",
       "       266, 210, 171, 441, 112, 220, 156, 186, 272, 281, 175, 517, 191,\n",
       "        18, 129, 253, 380, 590, 202, 185, 283,  19, 400, 500, 222, 236,\n",
       "       231, 470, 256, 235, 198, 488, 189, 144, 221, 245, 307, 251, 205,\n",
       "       315, 248, 312, 507, 300, 203, 223, 259, 398,  15, 268, 157, 195,\n",
       "       263,  16, 260, 313, 194, 494, 295, 182, 257, 192, 347, 320, 284,\n",
       "       239, 316, 218, 495, 217, 241, 193, 226, 288, 244, 309, 410, 250,\n",
       "       402, 374, 327, 401, 413, 293, 199, 356, 618, 167, 336, 285, 292,\n",
       "       213, 207,  13, 270, 243, 301, 371, 900,  14,  12, 238, 460, 267,\n",
       "       254, 342, 277, 431, 373, 206, 422, 287, 491, 275, 297])"
      ]
     },
     "execution_count": 312,
     "metadata": {},
     "output_type": "execute_result"
    }
   ],
   "source": [
    "data['total_area'].unique()"
   ]
  },
  {
   "cell_type": "markdown",
   "id": "fe41eae2",
   "metadata": {},
   "source": [
    "Источник asninfo.ru сообщает, что площадь самой большой квартиры Санкт-Петербурга составляет 903,5  квадратных метров.Посмотри строки где, площадь более 500 кв.м."
   ]
  },
  {
   "cell_type": "code",
   "execution_count": 313,
   "id": "2c78ef8b",
   "metadata": {
    "scrolled": true
   },
   "outputs": [
    {
     "data": {
      "text/html": [
       "<div>\n",
       "<style scoped>\n",
       "    .dataframe tbody tr th:only-of-type {\n",
       "        vertical-align: middle;\n",
       "    }\n",
       "\n",
       "    .dataframe tbody tr th {\n",
       "        vertical-align: top;\n",
       "    }\n",
       "\n",
       "    .dataframe thead th {\n",
       "        text-align: right;\n",
       "    }\n",
       "</style>\n",
       "<table border=\"1\" class=\"dataframe\">\n",
       "  <thead>\n",
       "    <tr style=\"text-align: right;\">\n",
       "      <th></th>\n",
       "      <th>total_images</th>\n",
       "      <th>last_price</th>\n",
       "      <th>total_area</th>\n",
       "      <th>first_day_exposition</th>\n",
       "      <th>rooms</th>\n",
       "      <th>ceiling_height</th>\n",
       "      <th>floors_total</th>\n",
       "      <th>living_area</th>\n",
       "      <th>floor</th>\n",
       "      <th>is_apartment</th>\n",
       "      <th>...</th>\n",
       "      <th>kitchen_area</th>\n",
       "      <th>balcony</th>\n",
       "      <th>locality_name</th>\n",
       "      <th>airports_nearest</th>\n",
       "      <th>cityCenters_nearest</th>\n",
       "      <th>parks_around3000</th>\n",
       "      <th>parks_nearest</th>\n",
       "      <th>ponds_around3000</th>\n",
       "      <th>ponds_nearest</th>\n",
       "      <th>days_exposition</th>\n",
       "    </tr>\n",
       "  </thead>\n",
       "  <tbody>\n",
       "    <tr>\n",
       "      <th>3117</th>\n",
       "      <td>19</td>\n",
       "      <td>140000000</td>\n",
       "      <td>631</td>\n",
       "      <td>2019-03-30</td>\n",
       "      <td>7</td>\n",
       "      <td>2.65</td>\n",
       "      <td>5</td>\n",
       "      <td>415</td>\n",
       "      <td>5</td>\n",
       "      <td>False</td>\n",
       "      <td>...</td>\n",
       "      <td>60.0</td>\n",
       "      <td>0</td>\n",
       "      <td>Санкт-Петербург</td>\n",
       "      <td>25707.0</td>\n",
       "      <td>4972.0</td>\n",
       "      <td>0.0</td>\n",
       "      <td>NaN</td>\n",
       "      <td>2.0</td>\n",
       "      <td>210.0</td>\n",
       "      <td>NaN</td>\n",
       "    </tr>\n",
       "    <tr>\n",
       "      <th>4237</th>\n",
       "      <td>1</td>\n",
       "      <td>50000000</td>\n",
       "      <td>517</td>\n",
       "      <td>2017-10-14</td>\n",
       "      <td>7</td>\n",
       "      <td>2.65</td>\n",
       "      <td>4</td>\n",
       "      <td>332</td>\n",
       "      <td>3</td>\n",
       "      <td>False</td>\n",
       "      <td>...</td>\n",
       "      <td>22.0</td>\n",
       "      <td>0</td>\n",
       "      <td>Санкт-Петербург</td>\n",
       "      <td>22835.0</td>\n",
       "      <td>1847.0</td>\n",
       "      <td>2.0</td>\n",
       "      <td>477.0</td>\n",
       "      <td>2.0</td>\n",
       "      <td>540.0</td>\n",
       "      <td>NaN</td>\n",
       "    </tr>\n",
       "    <tr>\n",
       "      <th>5358</th>\n",
       "      <td>20</td>\n",
       "      <td>65000000</td>\n",
       "      <td>590</td>\n",
       "      <td>2019-02-14</td>\n",
       "      <td>15</td>\n",
       "      <td>3.50</td>\n",
       "      <td>6</td>\n",
       "      <td>409</td>\n",
       "      <td>3</td>\n",
       "      <td>False</td>\n",
       "      <td>...</td>\n",
       "      <td>100.0</td>\n",
       "      <td>0</td>\n",
       "      <td>Санкт-Петербург</td>\n",
       "      <td>24447.0</td>\n",
       "      <td>4666.0</td>\n",
       "      <td>1.0</td>\n",
       "      <td>767.0</td>\n",
       "      <td>0.0</td>\n",
       "      <td>NaN</td>\n",
       "      <td>14.0</td>\n",
       "    </tr>\n",
       "    <tr>\n",
       "      <th>8018</th>\n",
       "      <td>20</td>\n",
       "      <td>84000000</td>\n",
       "      <td>507</td>\n",
       "      <td>2015-12-17</td>\n",
       "      <td>5</td>\n",
       "      <td>4.45</td>\n",
       "      <td>7</td>\n",
       "      <td>301</td>\n",
       "      <td>7</td>\n",
       "      <td>True</td>\n",
       "      <td>...</td>\n",
       "      <td>45.5</td>\n",
       "      <td>1</td>\n",
       "      <td>Санкт-Петербург</td>\n",
       "      <td>NaN</td>\n",
       "      <td>5735.0</td>\n",
       "      <td>2.0</td>\n",
       "      <td>110.0</td>\n",
       "      <td>0.0</td>\n",
       "      <td>NaN</td>\n",
       "      <td>1078.0</td>\n",
       "    </tr>\n",
       "    <tr>\n",
       "      <th>12859</th>\n",
       "      <td>20</td>\n",
       "      <td>140000000</td>\n",
       "      <td>631</td>\n",
       "      <td>2019-04-09</td>\n",
       "      <td>7</td>\n",
       "      <td>3.90</td>\n",
       "      <td>4</td>\n",
       "      <td>322</td>\n",
       "      <td>4</td>\n",
       "      <td>False</td>\n",
       "      <td>...</td>\n",
       "      <td>19.5</td>\n",
       "      <td>1</td>\n",
       "      <td>Санкт-Петербург</td>\n",
       "      <td>25707.0</td>\n",
       "      <td>4972.0</td>\n",
       "      <td>0.0</td>\n",
       "      <td>NaN</td>\n",
       "      <td>2.0</td>\n",
       "      <td>210.0</td>\n",
       "      <td>NaN</td>\n",
       "    </tr>\n",
       "    <tr>\n",
       "      <th>15651</th>\n",
       "      <td>20</td>\n",
       "      <td>300000000</td>\n",
       "      <td>618</td>\n",
       "      <td>2017-12-18</td>\n",
       "      <td>7</td>\n",
       "      <td>3.40</td>\n",
       "      <td>7</td>\n",
       "      <td>258</td>\n",
       "      <td>5</td>\n",
       "      <td>False</td>\n",
       "      <td>...</td>\n",
       "      <td>70.0</td>\n",
       "      <td>0</td>\n",
       "      <td>Санкт-Петербург</td>\n",
       "      <td>32440.0</td>\n",
       "      <td>5297.0</td>\n",
       "      <td>0.0</td>\n",
       "      <td>NaN</td>\n",
       "      <td>2.0</td>\n",
       "      <td>198.0</td>\n",
       "      <td>111.0</td>\n",
       "    </tr>\n",
       "    <tr>\n",
       "      <th>19540</th>\n",
       "      <td>8</td>\n",
       "      <td>420000000</td>\n",
       "      <td>900</td>\n",
       "      <td>2017-12-06</td>\n",
       "      <td>12</td>\n",
       "      <td>2.80</td>\n",
       "      <td>25</td>\n",
       "      <td>409</td>\n",
       "      <td>25</td>\n",
       "      <td>False</td>\n",
       "      <td>...</td>\n",
       "      <td>112.0</td>\n",
       "      <td>0</td>\n",
       "      <td>Санкт-Петербург</td>\n",
       "      <td>30706.0</td>\n",
       "      <td>7877.0</td>\n",
       "      <td>0.0</td>\n",
       "      <td>NaN</td>\n",
       "      <td>2.0</td>\n",
       "      <td>318.0</td>\n",
       "      <td>106.0</td>\n",
       "    </tr>\n",
       "  </tbody>\n",
       "</table>\n",
       "<p>7 rows × 22 columns</p>\n",
       "</div>"
      ],
      "text/plain": [
       "       total_images  last_price  total_area first_day_exposition  rooms  \\\n",
       "3117             19   140000000         631           2019-03-30      7   \n",
       "4237              1    50000000         517           2017-10-14      7   \n",
       "5358             20    65000000         590           2019-02-14     15   \n",
       "8018             20    84000000         507           2015-12-17      5   \n",
       "12859            20   140000000         631           2019-04-09      7   \n",
       "15651            20   300000000         618           2017-12-18      7   \n",
       "19540             8   420000000         900           2017-12-06     12   \n",
       "\n",
       "       ceiling_height  floors_total  living_area  floor  is_apartment  ...  \\\n",
       "3117             2.65             5          415      5         False  ...   \n",
       "4237             2.65             4          332      3         False  ...   \n",
       "5358             3.50             6          409      3         False  ...   \n",
       "8018             4.45             7          301      7          True  ...   \n",
       "12859            3.90             4          322      4         False  ...   \n",
       "15651            3.40             7          258      5         False  ...   \n",
       "19540            2.80            25          409     25         False  ...   \n",
       "\n",
       "       kitchen_area  balcony    locality_name  airports_nearest  \\\n",
       "3117           60.0        0  Санкт-Петербург           25707.0   \n",
       "4237           22.0        0  Санкт-Петербург           22835.0   \n",
       "5358          100.0        0  Санкт-Петербург           24447.0   \n",
       "8018           45.5        1  Санкт-Петербург               NaN   \n",
       "12859          19.5        1  Санкт-Петербург           25707.0   \n",
       "15651          70.0        0  Санкт-Петербург           32440.0   \n",
       "19540         112.0        0  Санкт-Петербург           30706.0   \n",
       "\n",
       "      cityCenters_nearest  parks_around3000  parks_nearest  ponds_around3000  \\\n",
       "3117               4972.0               0.0            NaN               2.0   \n",
       "4237               1847.0               2.0          477.0               2.0   \n",
       "5358               4666.0               1.0          767.0               0.0   \n",
       "8018               5735.0               2.0          110.0               0.0   \n",
       "12859              4972.0               0.0            NaN               2.0   \n",
       "15651              5297.0               0.0            NaN               2.0   \n",
       "19540              7877.0               0.0            NaN               2.0   \n",
       "\n",
       "       ponds_nearest  days_exposition  \n",
       "3117           210.0              NaN  \n",
       "4237           540.0              NaN  \n",
       "5358             NaN             14.0  \n",
       "8018             NaN           1078.0  \n",
       "12859          210.0              NaN  \n",
       "15651          198.0            111.0  \n",
       "19540          318.0            106.0  \n",
       "\n",
       "[7 rows x 22 columns]"
      ]
     },
     "execution_count": 313,
     "metadata": {},
     "output_type": "execute_result"
    }
   ],
   "source": [
    "data.query('total_area > 500 ')"
   ]
  },
  {
   "cell_type": "markdown",
   "id": "a58cd7a3",
   "metadata": {},
   "source": [
    "Квартир всего 7, удалю их, на результаты исследования это сильно не повлияет, а вот помехи такие выбросы могут создать."
   ]
  },
  {
   "cell_type": "markdown",
   "id": "f798d4a5",
   "metadata": {},
   "source": [
    "<div class=\"alert alert-success\"; style=\"border-left: 7px solid green\">\n",
    "<h3>✔ Комментарий ревьюера</h3>\n",
    "    \n",
    "В целом на ровном месте резать тоже не стоит. Такие значения и правда могут влиять на анализ, например, на корреляцию, но в таком случае можно сравнить результаты с выбивающимися значениями и без них</div>    \n"
   ]
  },
  {
   "cell_type": "code",
   "execution_count": 314,
   "id": "4654103e",
   "metadata": {},
   "outputs": [],
   "source": [
    "data = data.loc[data['total_area'] <= 500]"
   ]
  },
  {
   "cell_type": "markdown",
   "id": "e263d319",
   "metadata": {},
   "source": [
    "Минимальная общая площадь жилого помещения для проживающих даже в коммунальных квартирах составляет 15 кв.м., соответсвенно общая площадь квартиры выше этого значения. Удалю строки с общей площадью менее 15 кв.м."
   ]
  },
  {
   "cell_type": "code",
   "execution_count": 315,
   "id": "d95d722b",
   "metadata": {},
   "outputs": [],
   "source": [
    "data = data.loc[data['total_area'] > 15]"
   ]
  },
  {
   "cell_type": "code",
   "execution_count": 316,
   "id": "21aeacee",
   "metadata": {},
   "outputs": [
    {
     "data": {
      "text/plain": [
       "23544"
      ]
     },
     "execution_count": 316,
     "metadata": {},
     "output_type": "execute_result"
    }
   ],
   "source": [
    "data.shape[0]"
   ]
  },
  {
   "cell_type": "code",
   "execution_count": 317,
   "id": "a4398406",
   "metadata": {
    "scrolled": true
   },
   "outputs": [
    {
     "data": {
      "text/plain": [
       "array([ 3,  1,  2,  4,  5,  6,  0,  7, 11,  8, 14, 10,  9, 19, 16],\n",
       "      dtype=int64)"
      ]
     },
     "execution_count": 317,
     "metadata": {},
     "output_type": "execute_result"
    }
   ],
   "source": [
    "data['rooms'].unique()"
   ]
  },
  {
   "cell_type": "markdown",
   "id": "8f7393f1",
   "metadata": {},
   "source": [
    "Количество комнат 0, удаляю."
   ]
  },
  {
   "cell_type": "code",
   "execution_count": 318,
   "id": "6d91b0c4",
   "metadata": {},
   "outputs": [],
   "source": [
    "data = data.query('rooms != 0')"
   ]
  },
  {
   "cell_type": "code",
   "execution_count": 319,
   "id": "56b6780a",
   "metadata": {},
   "outputs": [
    {
     "data": {
      "text/plain": [
       "23351"
      ]
     },
     "execution_count": 319,
     "metadata": {},
     "output_type": "execute_result"
    }
   ],
   "source": [
    "data.shape[0]"
   ]
  },
  {
   "cell_type": "code",
   "execution_count": 320,
   "id": "10ac19b1",
   "metadata": {},
   "outputs": [
    {
     "data": {
      "text/plain": [
       "array([16, 11,  5, 14, 12, 26, 24, 27,  9,  6, 17, 25,  3, 23, 19, 18,  4,\n",
       "       22,  8,  2, 10,  7, 13, 15, 20, 28, 36, 21, 35, 34, 60,  1, 29, 33,\n",
       "       52])"
      ]
     },
     "execution_count": 320,
     "metadata": {},
     "output_type": "execute_result"
    }
   ],
   "source": [
    "data['floors_total'].unique()"
   ]
  },
  {
   "cell_type": "code",
   "execution_count": 321,
   "id": "8cfed6e3",
   "metadata": {},
   "outputs": [
    {
     "data": {
      "text/plain": [
       "array([ 51,  18,  34,  99,  32,  14,  10,  41,  15,  43,  20,  31,  30,\n",
       "        27,  17,  55,  16,  19,  76,  48,  46,  39,  49,  52,  38, 104,\n",
       "        26,  29,  59,  80,  28,  42,  25,  94,  33,  22,  68,  44,  35,\n",
       "        21,  45,  50,  36,  40,  77,  67,  12,  61,  79,  73,   8,  60,\n",
       "        86,  97, 183,  37,  23,  47,  57,  89,  72,  62,  56,  53,  88,\n",
       "        63,  78,  65, 119,  66,  13,  74,  85, 126,  54,  70,  75, 159,\n",
       "        24, 134, 130,  82, 240, 114,  95, 112,  83, 138,  64, 312, 125,\n",
       "        90,   9, 180,  69, 107,  11,  84, 250, 160,  87, 222,  81,  93,\n",
       "       140,  96, 190, 255,  58, 131, 188, 110,  71, 162, 106,  92, 144,\n",
       "       101, 163, 121, 165, 150, 194,  98, 100, 132, 128, 153, 230, 103,\n",
       "       115, 108, 184, 124,   3, 155, 122, 102, 117, 285, 109, 139, 111,\n",
       "       105, 145, 193, 133, 141, 142, 198, 123, 136, 118, 177, 127, 263,\n",
       "       335, 171, 227, 248, 167, 147,  91, 216, 195, 116, 113, 179, 170,\n",
       "       187, 157, 174, 182, 166, 120, 220, 151, 154, 152, 149, 175, 143,\n",
       "       129, 148, 200, 239, 347, 199, 218,   2, 300, 264, 204, 323,   6,\n",
       "       225, 161, 189, 176, 260, 279, 168, 164, 211, 137,   5, 270, 274,\n",
       "       181])"
      ]
     },
     "execution_count": 321,
     "metadata": {},
     "output_type": "execute_result"
    }
   ],
   "source": [
    "data['living_area'].unique()"
   ]
  },
  {
   "cell_type": "code",
   "execution_count": 322,
   "id": "afd58c1e",
   "metadata": {},
   "outputs": [
    {
     "data": {
      "text/html": [
       "<div>\n",
       "<style scoped>\n",
       "    .dataframe tbody tr th:only-of-type {\n",
       "        vertical-align: middle;\n",
       "    }\n",
       "\n",
       "    .dataframe tbody tr th {\n",
       "        vertical-align: top;\n",
       "    }\n",
       "\n",
       "    .dataframe thead th {\n",
       "        text-align: right;\n",
       "    }\n",
       "</style>\n",
       "<table border=\"1\" class=\"dataframe\">\n",
       "  <thead>\n",
       "    <tr style=\"text-align: right;\">\n",
       "      <th></th>\n",
       "      <th>total_images</th>\n",
       "      <th>last_price</th>\n",
       "      <th>total_area</th>\n",
       "      <th>first_day_exposition</th>\n",
       "      <th>rooms</th>\n",
       "      <th>ceiling_height</th>\n",
       "      <th>floors_total</th>\n",
       "      <th>living_area</th>\n",
       "      <th>floor</th>\n",
       "      <th>is_apartment</th>\n",
       "      <th>...</th>\n",
       "      <th>kitchen_area</th>\n",
       "      <th>balcony</th>\n",
       "      <th>locality_name</th>\n",
       "      <th>airports_nearest</th>\n",
       "      <th>cityCenters_nearest</th>\n",
       "      <th>parks_around3000</th>\n",
       "      <th>parks_nearest</th>\n",
       "      <th>ponds_around3000</th>\n",
       "      <th>ponds_nearest</th>\n",
       "      <th>days_exposition</th>\n",
       "    </tr>\n",
       "  </thead>\n",
       "  <tbody>\n",
       "    <tr>\n",
       "      <th>3242</th>\n",
       "      <td>7</td>\n",
       "      <td>4440000</td>\n",
       "      <td>41</td>\n",
       "      <td>2017-07-02</td>\n",
       "      <td>1</td>\n",
       "      <td>2.65</td>\n",
       "      <td>17</td>\n",
       "      <td>3</td>\n",
       "      <td>17</td>\n",
       "      <td>False</td>\n",
       "      <td>...</td>\n",
       "      <td>11.0</td>\n",
       "      <td>0</td>\n",
       "      <td>Санкт-Петербург</td>\n",
       "      <td>19272.0</td>\n",
       "      <td>13073.0</td>\n",
       "      <td>0.0</td>\n",
       "      <td>NaN</td>\n",
       "      <td>0.0</td>\n",
       "      <td>NaN</td>\n",
       "      <td>216.0</td>\n",
       "    </tr>\n",
       "    <tr>\n",
       "      <th>13915</th>\n",
       "      <td>20</td>\n",
       "      <td>6350000</td>\n",
       "      <td>52</td>\n",
       "      <td>2018-02-06</td>\n",
       "      <td>2</td>\n",
       "      <td>3.00</td>\n",
       "      <td>6</td>\n",
       "      <td>2</td>\n",
       "      <td>2</td>\n",
       "      <td>False</td>\n",
       "      <td>...</td>\n",
       "      <td>9.0</td>\n",
       "      <td>0</td>\n",
       "      <td>Санкт-Петербург</td>\n",
       "      <td>32453.0</td>\n",
       "      <td>6521.0</td>\n",
       "      <td>0.0</td>\n",
       "      <td>NaN</td>\n",
       "      <td>1.0</td>\n",
       "      <td>1012.0</td>\n",
       "      <td>91.0</td>\n",
       "    </tr>\n",
       "    <tr>\n",
       "      <th>23574</th>\n",
       "      <td>14</td>\n",
       "      <td>64990000</td>\n",
       "      <td>139</td>\n",
       "      <td>2015-11-24</td>\n",
       "      <td>3</td>\n",
       "      <td>3.00</td>\n",
       "      <td>8</td>\n",
       "      <td>3</td>\n",
       "      <td>8</td>\n",
       "      <td>False</td>\n",
       "      <td>...</td>\n",
       "      <td>16.0</td>\n",
       "      <td>1</td>\n",
       "      <td>Санкт-Петербург</td>\n",
       "      <td>33255.0</td>\n",
       "      <td>5975.0</td>\n",
       "      <td>1.0</td>\n",
       "      <td>630.0</td>\n",
       "      <td>3.0</td>\n",
       "      <td>100.0</td>\n",
       "      <td>280.0</td>\n",
       "    </tr>\n",
       "  </tbody>\n",
       "</table>\n",
       "<p>3 rows × 22 columns</p>\n",
       "</div>"
      ],
      "text/plain": [
       "       total_images  last_price  total_area first_day_exposition  rooms  \\\n",
       "3242              7     4440000          41           2017-07-02      1   \n",
       "13915            20     6350000          52           2018-02-06      2   \n",
       "23574            14    64990000         139           2015-11-24      3   \n",
       "\n",
       "       ceiling_height  floors_total  living_area  floor  is_apartment  ...  \\\n",
       "3242             2.65            17            3     17         False  ...   \n",
       "13915            3.00             6            2      2         False  ...   \n",
       "23574            3.00             8            3      8         False  ...   \n",
       "\n",
       "       kitchen_area  balcony    locality_name  airports_nearest  \\\n",
       "3242           11.0        0  Санкт-Петербург           19272.0   \n",
       "13915           9.0        0  Санкт-Петербург           32453.0   \n",
       "23574          16.0        1  Санкт-Петербург           33255.0   \n",
       "\n",
       "      cityCenters_nearest  parks_around3000  parks_nearest  ponds_around3000  \\\n",
       "3242              13073.0               0.0            NaN               0.0   \n",
       "13915              6521.0               0.0            NaN               1.0   \n",
       "23574              5975.0               1.0          630.0               3.0   \n",
       "\n",
       "       ponds_nearest  days_exposition  \n",
       "3242             NaN            216.0  \n",
       "13915         1012.0             91.0  \n",
       "23574          100.0            280.0  \n",
       "\n",
       "[3 rows x 22 columns]"
      ]
     },
     "execution_count": 322,
     "metadata": {},
     "output_type": "execute_result"
    }
   ],
   "source": [
    "data.query('living_area < 5 ')"
   ]
  },
  {
   "cell_type": "markdown",
   "id": "c7efebb7",
   "metadata": {},
   "source": [
    "Удалю строки с жилой площадью менее 10 кв.м, предполагаю,что данные при внесении информации в объявление были заполнены неверно."
   ]
  },
  {
   "cell_type": "code",
   "execution_count": 323,
   "id": "02139f0a",
   "metadata": {},
   "outputs": [],
   "source": [
    "data = data.loc[data['living_area'] > 5]"
   ]
  },
  {
   "cell_type": "code",
   "execution_count": 324,
   "id": "3754387a",
   "metadata": {},
   "outputs": [
    {
     "data": {
      "text/plain": [
       "23347"
      ]
     },
     "execution_count": 324,
     "metadata": {},
     "output_type": "execute_result"
    }
   ],
   "source": [
    "data.shape[0]"
   ]
  },
  {
   "cell_type": "code",
   "execution_count": 325,
   "id": "83e39e47",
   "metadata": {},
   "outputs": [
    {
     "data": {
      "text/plain": [
       "array([ 8,  1,  4,  9, 13,  5,  6, 22, 26,  7,  3,  2, 11, 15, 18, 10, 19,\n",
       "       16, 20, 27, 25, 17, 14, 12, 21, 28, 24, 23, 30, 29, 32, 33, 31],\n",
       "      dtype=int64)"
      ]
     },
     "execution_count": 325,
     "metadata": {},
     "output_type": "execute_result"
    }
   ],
   "source": [
    "data['floor'].unique()"
   ]
  },
  {
   "cell_type": "markdown",
   "id": "b6f2e076",
   "metadata": {},
   "source": [
    "В столбце floor нет аномальных значений"
   ]
  },
  {
   "cell_type": "code",
   "execution_count": 326,
   "id": "da66c584",
   "metadata": {},
   "outputs": [
    {
     "data": {
      "text/plain": [
       "count    23347.000000\n",
       "mean        10.519611\n",
       "std          5.724432\n",
       "min          1.300000\n",
       "25%          7.100000\n",
       "50%          9.200000\n",
       "75%         11.900000\n",
       "max        123.478328\n",
       "Name: kitchen_area, dtype: float64"
      ]
     },
     "execution_count": 326,
     "metadata": {},
     "output_type": "execute_result"
    }
   ],
   "source": [
    "data['kitchen_area'].describe()"
   ]
  },
  {
   "cell_type": "code",
   "execution_count": 327,
   "id": "f6733a2f",
   "metadata": {
    "scrolled": false
   },
   "outputs": [
    {
     "data": {
      "text/html": [
       "<div>\n",
       "<style scoped>\n",
       "    .dataframe tbody tr th:only-of-type {\n",
       "        vertical-align: middle;\n",
       "    }\n",
       "\n",
       "    .dataframe tbody tr th {\n",
       "        vertical-align: top;\n",
       "    }\n",
       "\n",
       "    .dataframe thead th {\n",
       "        text-align: right;\n",
       "    }\n",
       "</style>\n",
       "<table border=\"1\" class=\"dataframe\">\n",
       "  <thead>\n",
       "    <tr style=\"text-align: right;\">\n",
       "      <th></th>\n",
       "      <th>total_images</th>\n",
       "      <th>last_price</th>\n",
       "      <th>total_area</th>\n",
       "      <th>first_day_exposition</th>\n",
       "      <th>rooms</th>\n",
       "      <th>ceiling_height</th>\n",
       "      <th>floors_total</th>\n",
       "      <th>living_area</th>\n",
       "      <th>floor</th>\n",
       "      <th>is_apartment</th>\n",
       "      <th>...</th>\n",
       "      <th>kitchen_area</th>\n",
       "      <th>balcony</th>\n",
       "      <th>locality_name</th>\n",
       "      <th>airports_nearest</th>\n",
       "      <th>cityCenters_nearest</th>\n",
       "      <th>parks_around3000</th>\n",
       "      <th>parks_nearest</th>\n",
       "      <th>ponds_around3000</th>\n",
       "      <th>ponds_nearest</th>\n",
       "      <th>days_exposition</th>\n",
       "    </tr>\n",
       "  </thead>\n",
       "  <tbody>\n",
       "    <tr>\n",
       "      <th>2489</th>\n",
       "      <td>9</td>\n",
       "      <td>12500000</td>\n",
       "      <td>255</td>\n",
       "      <td>2017-04-21</td>\n",
       "      <td>3</td>\n",
       "      <td>2.65</td>\n",
       "      <td>2</td>\n",
       "      <td>153</td>\n",
       "      <td>2</td>\n",
       "      <td>False</td>\n",
       "      <td>...</td>\n",
       "      <td>100.700000</td>\n",
       "      <td>0</td>\n",
       "      <td>Санкт-Петербург</td>\n",
       "      <td>29544.0</td>\n",
       "      <td>6916.0</td>\n",
       "      <td>0.0</td>\n",
       "      <td>NaN</td>\n",
       "      <td>3.0</td>\n",
       "      <td>198.0</td>\n",
       "      <td>102.0</td>\n",
       "    </tr>\n",
       "    <tr>\n",
       "      <th>9826</th>\n",
       "      <td>1</td>\n",
       "      <td>43185328</td>\n",
       "      <td>494</td>\n",
       "      <td>2017-05-12</td>\n",
       "      <td>1</td>\n",
       "      <td>2.85</td>\n",
       "      <td>12</td>\n",
       "      <td>240</td>\n",
       "      <td>3</td>\n",
       "      <td>False</td>\n",
       "      <td>...</td>\n",
       "      <td>123.478328</td>\n",
       "      <td>0</td>\n",
       "      <td>Санкт-Петербург</td>\n",
       "      <td>28529.0</td>\n",
       "      <td>6832.0</td>\n",
       "      <td>1.0</td>\n",
       "      <td>592.0</td>\n",
       "      <td>0.0</td>\n",
       "      <td>NaN</td>\n",
       "      <td>5.0</td>\n",
       "    </tr>\n",
       "    <tr>\n",
       "      <th>20215</th>\n",
       "      <td>2</td>\n",
       "      <td>85000000</td>\n",
       "      <td>249</td>\n",
       "      <td>2018-02-01</td>\n",
       "      <td>3</td>\n",
       "      <td>2.65</td>\n",
       "      <td>10</td>\n",
       "      <td>72</td>\n",
       "      <td>9</td>\n",
       "      <td>False</td>\n",
       "      <td>...</td>\n",
       "      <td>107.000000</td>\n",
       "      <td>4</td>\n",
       "      <td>Санкт-Петербург</td>\n",
       "      <td>31532.0</td>\n",
       "      <td>4624.0</td>\n",
       "      <td>1.0</td>\n",
       "      <td>2218.0</td>\n",
       "      <td>2.0</td>\n",
       "      <td>99.0</td>\n",
       "      <td>26.0</td>\n",
       "    </tr>\n",
       "  </tbody>\n",
       "</table>\n",
       "<p>3 rows × 22 columns</p>\n",
       "</div>"
      ],
      "text/plain": [
       "       total_images  last_price  total_area first_day_exposition  rooms  \\\n",
       "2489              9    12500000         255           2017-04-21      3   \n",
       "9826              1    43185328         494           2017-05-12      1   \n",
       "20215             2    85000000         249           2018-02-01      3   \n",
       "\n",
       "       ceiling_height  floors_total  living_area  floor  is_apartment  ...  \\\n",
       "2489             2.65             2          153      2         False  ...   \n",
       "9826             2.85            12          240      3         False  ...   \n",
       "20215            2.65            10           72      9         False  ...   \n",
       "\n",
       "       kitchen_area  balcony    locality_name  airports_nearest  \\\n",
       "2489     100.700000        0  Санкт-Петербург           29544.0   \n",
       "9826     123.478328        0  Санкт-Петербург           28529.0   \n",
       "20215    107.000000        4  Санкт-Петербург           31532.0   \n",
       "\n",
       "      cityCenters_nearest  parks_around3000  parks_nearest  ponds_around3000  \\\n",
       "2489               6916.0               0.0            NaN               3.0   \n",
       "9826               6832.0               1.0          592.0               0.0   \n",
       "20215              4624.0               1.0         2218.0               2.0   \n",
       "\n",
       "       ponds_nearest  days_exposition  \n",
       "2489           198.0            102.0  \n",
       "9826             NaN              5.0  \n",
       "20215           99.0             26.0  \n",
       "\n",
       "[3 rows x 22 columns]"
      ]
     },
     "execution_count": 327,
     "metadata": {},
     "output_type": "execute_result"
    }
   ],
   "source": [
    "data.query('kitchen_area > 100 ')"
   ]
  },
  {
   "cell_type": "markdown",
   "id": "4cf1bbc8",
   "metadata": {},
   "source": [
    "В kitchen_area нет аномалий, площади кухонь более 100 кв.м сопоставимы с общей жилой площадью этих объектов."
   ]
  },
  {
   "cell_type": "code",
   "execution_count": 328,
   "id": "fe6869cc",
   "metadata": {},
   "outputs": [
    {
     "data": {
      "text/html": [
       "<div>\n",
       "<style scoped>\n",
       "    .dataframe tbody tr th:only-of-type {\n",
       "        vertical-align: middle;\n",
       "    }\n",
       "\n",
       "    .dataframe tbody tr th {\n",
       "        vertical-align: top;\n",
       "    }\n",
       "\n",
       "    .dataframe thead th {\n",
       "        text-align: right;\n",
       "    }\n",
       "</style>\n",
       "<table border=\"1\" class=\"dataframe\">\n",
       "  <thead>\n",
       "    <tr style=\"text-align: right;\">\n",
       "      <th></th>\n",
       "      <th>total_images</th>\n",
       "      <th>last_price</th>\n",
       "      <th>total_area</th>\n",
       "      <th>first_day_exposition</th>\n",
       "      <th>rooms</th>\n",
       "      <th>ceiling_height</th>\n",
       "      <th>floors_total</th>\n",
       "      <th>living_area</th>\n",
       "      <th>floor</th>\n",
       "      <th>is_apartment</th>\n",
       "      <th>...</th>\n",
       "      <th>kitchen_area</th>\n",
       "      <th>balcony</th>\n",
       "      <th>locality_name</th>\n",
       "      <th>airports_nearest</th>\n",
       "      <th>cityCenters_nearest</th>\n",
       "      <th>parks_around3000</th>\n",
       "      <th>parks_nearest</th>\n",
       "      <th>ponds_around3000</th>\n",
       "      <th>ponds_nearest</th>\n",
       "      <th>days_exposition</th>\n",
       "    </tr>\n",
       "  </thead>\n",
       "  <tbody>\n",
       "    <tr>\n",
       "      <th>11949</th>\n",
       "      <td>7</td>\n",
       "      <td>4500000</td>\n",
       "      <td>44</td>\n",
       "      <td>2017-11-24</td>\n",
       "      <td>2</td>\n",
       "      <td>2.60</td>\n",
       "      <td>9</td>\n",
       "      <td>30</td>\n",
       "      <td>7</td>\n",
       "      <td>False</td>\n",
       "      <td>...</td>\n",
       "      <td>7.000000</td>\n",
       "      <td>0</td>\n",
       "      <td>Санкт-Петербург</td>\n",
       "      <td>11806.0</td>\n",
       "      <td>12292.0</td>\n",
       "      <td>1.0</td>\n",
       "      <td>3.0</td>\n",
       "      <td>1.0</td>\n",
       "      <td>508.0</td>\n",
       "      <td>82.0</td>\n",
       "    </tr>\n",
       "    <tr>\n",
       "      <th>14624</th>\n",
       "      <td>8</td>\n",
       "      <td>3770000</td>\n",
       "      <td>45</td>\n",
       "      <td>2019-03-20</td>\n",
       "      <td>2</td>\n",
       "      <td>2.65</td>\n",
       "      <td>9</td>\n",
       "      <td>28</td>\n",
       "      <td>2</td>\n",
       "      <td>False</td>\n",
       "      <td>...</td>\n",
       "      <td>6.900000</td>\n",
       "      <td>0</td>\n",
       "      <td>Санкт-Петербург</td>\n",
       "      <td>43932.0</td>\n",
       "      <td>16436.0</td>\n",
       "      <td>1.0</td>\n",
       "      <td>1.0</td>\n",
       "      <td>0.0</td>\n",
       "      <td>NaN</td>\n",
       "      <td>42.0</td>\n",
       "    </tr>\n",
       "    <tr>\n",
       "      <th>22941</th>\n",
       "      <td>8</td>\n",
       "      <td>10965000</td>\n",
       "      <td>69</td>\n",
       "      <td>2019-01-10</td>\n",
       "      <td>1</td>\n",
       "      <td>3.00</td>\n",
       "      <td>4</td>\n",
       "      <td>48</td>\n",
       "      <td>4</td>\n",
       "      <td>True</td>\n",
       "      <td>...</td>\n",
       "      <td>17.318454</td>\n",
       "      <td>2</td>\n",
       "      <td>Зеленогорск</td>\n",
       "      <td>73391.0</td>\n",
       "      <td>54490.0</td>\n",
       "      <td>3.0</td>\n",
       "      <td>4.0</td>\n",
       "      <td>1.0</td>\n",
       "      <td>217.0</td>\n",
       "      <td>110.0</td>\n",
       "    </tr>\n",
       "  </tbody>\n",
       "</table>\n",
       "<p>3 rows × 22 columns</p>\n",
       "</div>"
      ],
      "text/plain": [
       "       total_images  last_price  total_area first_day_exposition  rooms  \\\n",
       "11949             7     4500000          44           2017-11-24      2   \n",
       "14624             8     3770000          45           2019-03-20      2   \n",
       "22941             8    10965000          69           2019-01-10      1   \n",
       "\n",
       "       ceiling_height  floors_total  living_area  floor  is_apartment  ...  \\\n",
       "11949            2.60             9           30      7         False  ...   \n",
       "14624            2.65             9           28      2         False  ...   \n",
       "22941            3.00             4           48      4          True  ...   \n",
       "\n",
       "       kitchen_area  balcony    locality_name  airports_nearest  \\\n",
       "11949      7.000000        0  Санкт-Петербург           11806.0   \n",
       "14624      6.900000        0  Санкт-Петербург           43932.0   \n",
       "22941     17.318454        2      Зеленогорск           73391.0   \n",
       "\n",
       "      cityCenters_nearest  parks_around3000  parks_nearest  ponds_around3000  \\\n",
       "11949             12292.0               1.0            3.0               1.0   \n",
       "14624             16436.0               1.0            1.0               0.0   \n",
       "22941             54490.0               3.0            4.0               1.0   \n",
       "\n",
       "       ponds_nearest  days_exposition  \n",
       "11949          508.0             82.0  \n",
       "14624            NaN             42.0  \n",
       "22941          217.0            110.0  \n",
       "\n",
       "[3 rows x 22 columns]"
      ]
     },
     "execution_count": 328,
     "metadata": {},
     "output_type": "execute_result"
    }
   ],
   "source": [
    "data.query('parks_nearest < 5 ')"
   ]
  },
  {
   "cell_type": "markdown",
   "id": "dd86e80e",
   "metadata": {},
   "source": [
    "Интересно эти квартиры расположены прям в парке?Удаляю."
   ]
  },
  {
   "cell_type": "code",
   "execution_count": 329,
   "id": "1d4c1e3e",
   "metadata": {},
   "outputs": [
    {
     "data": {
      "text/plain": [
       "23347"
      ]
     },
     "execution_count": 329,
     "metadata": {},
     "output_type": "execute_result"
    }
   ],
   "source": [
    "data.shape[0]"
   ]
  },
  {
   "cell_type": "code",
   "execution_count": 330,
   "id": "4fd6f8b5",
   "metadata": {},
   "outputs": [],
   "source": [
    "data = data.drop(index=[11949, 14624, 22941])"
   ]
  },
  {
   "cell_type": "code",
   "execution_count": 331,
   "id": "bfec0703",
   "metadata": {},
   "outputs": [
    {
     "data": {
      "text/plain": [
       "23344"
      ]
     },
     "execution_count": 331,
     "metadata": {},
     "output_type": "execute_result"
    }
   ],
   "source": [
    "data.shape[0]"
   ]
  },
  {
   "cell_type": "code",
   "execution_count": 332,
   "id": "284039dc",
   "metadata": {},
   "outputs": [
    {
     "data": {
      "text/plain": [
       "array([ 1.,  0.,  2., nan,  3.])"
      ]
     },
     "execution_count": 332,
     "metadata": {},
     "output_type": "execute_result"
    }
   ],
   "source": [
    "data['parks_around3000'].unique()"
   ]
  },
  {
   "cell_type": "code",
   "execution_count": 333,
   "id": "a856eb9a",
   "metadata": {},
   "outputs": [
    {
     "data": {
      "text/plain": [
       "array([ 2.,  0.,  3.,  1., nan])"
      ]
     },
     "execution_count": 333,
     "metadata": {},
     "output_type": "execute_result"
    }
   ],
   "source": [
    "data['ponds_around3000'].unique()"
   ]
  },
  {
   "cell_type": "code",
   "execution_count": 334,
   "id": "a9934956",
   "metadata": {},
   "outputs": [
    {
     "data": {
      "text/html": [
       "<div>\n",
       "<style scoped>\n",
       "    .dataframe tbody tr th:only-of-type {\n",
       "        vertical-align: middle;\n",
       "    }\n",
       "\n",
       "    .dataframe tbody tr th {\n",
       "        vertical-align: top;\n",
       "    }\n",
       "\n",
       "    .dataframe thead th {\n",
       "        text-align: right;\n",
       "    }\n",
       "</style>\n",
       "<table border=\"1\" class=\"dataframe\">\n",
       "  <thead>\n",
       "    <tr style=\"text-align: right;\">\n",
       "      <th></th>\n",
       "      <th>total_images</th>\n",
       "      <th>last_price</th>\n",
       "      <th>total_area</th>\n",
       "      <th>first_day_exposition</th>\n",
       "      <th>rooms</th>\n",
       "      <th>ceiling_height</th>\n",
       "      <th>floors_total</th>\n",
       "      <th>living_area</th>\n",
       "      <th>floor</th>\n",
       "      <th>is_apartment</th>\n",
       "      <th>...</th>\n",
       "      <th>kitchen_area</th>\n",
       "      <th>balcony</th>\n",
       "      <th>locality_name</th>\n",
       "      <th>airports_nearest</th>\n",
       "      <th>cityCenters_nearest</th>\n",
       "      <th>parks_around3000</th>\n",
       "      <th>parks_nearest</th>\n",
       "      <th>ponds_around3000</th>\n",
       "      <th>ponds_nearest</th>\n",
       "      <th>days_exposition</th>\n",
       "    </tr>\n",
       "  </thead>\n",
       "  <tbody>\n",
       "  </tbody>\n",
       "</table>\n",
       "<p>0 rows × 22 columns</p>\n",
       "</div>"
      ],
      "text/plain": [
       "Empty DataFrame\n",
       "Columns: [total_images, last_price, total_area, first_day_exposition, rooms, ceiling_height, floors_total, living_area, floor, is_apartment, studio, open_plan, kitchen_area, balcony, locality_name, airports_nearest, cityCenters_nearest, parks_around3000, parks_nearest, ponds_around3000, ponds_nearest, days_exposition]\n",
       "Index: []\n",
       "\n",
       "[0 rows x 22 columns]"
      ]
     },
     "execution_count": 334,
     "metadata": {},
     "output_type": "execute_result"
    }
   ],
   "source": [
    "data.query('ponds_nearest < 5 ')"
   ]
  },
  {
   "cell_type": "code",
   "execution_count": 335,
   "id": "6d1f5d58",
   "metadata": {
    "scrolled": true
   },
   "outputs": [
    {
     "data": {
      "text/plain": [
       "count    20190.000000\n",
       "mean       181.400842\n",
       "std        220.091742\n",
       "min          1.000000\n",
       "25%         45.000000\n",
       "50%         96.000000\n",
       "75%        232.000000\n",
       "max       1580.000000\n",
       "Name: days_exposition, dtype: float64"
      ]
     },
     "execution_count": 335,
     "metadata": {},
     "output_type": "execute_result"
    }
   ],
   "source": [
    "data['days_exposition'].describe()"
   ]
  },
  {
   "cell_type": "markdown",
   "id": "bc27d7a8",
   "metadata": {},
   "source": [
    "Видно,что рынок недвижимости очень разнообразен. Наблюдается большой разброс значений в площадях, количестве комнат и этажности зданий. А так же сильный разброс в днях экспозиции."
   ]
  },
  {
   "cell_type": "markdown",
   "id": "358d2584",
   "metadata": {},
   "source": [
    "## 3. Добавляю новые данные"
   ]
  },
  {
   "cell_type": "markdown",
   "id": "5897f239",
   "metadata": {},
   "source": [
    "Добавлю стоимость одного квадратного метра"
   ]
  },
  {
   "cell_type": "code",
   "execution_count": 336,
   "id": "8d1142e9",
   "metadata": {},
   "outputs": [
    {
     "data": {
      "text/html": [
       "<div>\n",
       "<style scoped>\n",
       "    .dataframe tbody tr th:only-of-type {\n",
       "        vertical-align: middle;\n",
       "    }\n",
       "\n",
       "    .dataframe tbody tr th {\n",
       "        vertical-align: top;\n",
       "    }\n",
       "\n",
       "    .dataframe thead th {\n",
       "        text-align: right;\n",
       "    }\n",
       "</style>\n",
       "<table border=\"1\" class=\"dataframe\">\n",
       "  <thead>\n",
       "    <tr style=\"text-align: right;\">\n",
       "      <th></th>\n",
       "      <th>total_images</th>\n",
       "      <th>last_price</th>\n",
       "      <th>total_area</th>\n",
       "      <th>first_day_exposition</th>\n",
       "      <th>rooms</th>\n",
       "      <th>ceiling_height</th>\n",
       "      <th>floors_total</th>\n",
       "      <th>living_area</th>\n",
       "      <th>floor</th>\n",
       "      <th>is_apartment</th>\n",
       "      <th>...</th>\n",
       "      <th>balcony</th>\n",
       "      <th>locality_name</th>\n",
       "      <th>airports_nearest</th>\n",
       "      <th>cityCenters_nearest</th>\n",
       "      <th>parks_around3000</th>\n",
       "      <th>parks_nearest</th>\n",
       "      <th>ponds_around3000</th>\n",
       "      <th>ponds_nearest</th>\n",
       "      <th>days_exposition</th>\n",
       "      <th>price_per_square_meter</th>\n",
       "    </tr>\n",
       "  </thead>\n",
       "  <tbody>\n",
       "    <tr>\n",
       "      <th>0</th>\n",
       "      <td>20</td>\n",
       "      <td>13000000</td>\n",
       "      <td>108</td>\n",
       "      <td>2019-03-07</td>\n",
       "      <td>3</td>\n",
       "      <td>2.70</td>\n",
       "      <td>16</td>\n",
       "      <td>51</td>\n",
       "      <td>8</td>\n",
       "      <td>False</td>\n",
       "      <td>...</td>\n",
       "      <td>0</td>\n",
       "      <td>Санкт-Петербург</td>\n",
       "      <td>18863.0</td>\n",
       "      <td>16028.0</td>\n",
       "      <td>1.0</td>\n",
       "      <td>482.0</td>\n",
       "      <td>2.0</td>\n",
       "      <td>755.0</td>\n",
       "      <td>NaN</td>\n",
       "      <td>120370</td>\n",
       "    </tr>\n",
       "    <tr>\n",
       "      <th>1</th>\n",
       "      <td>7</td>\n",
       "      <td>3350000</td>\n",
       "      <td>40</td>\n",
       "      <td>2018-12-04</td>\n",
       "      <td>1</td>\n",
       "      <td>2.65</td>\n",
       "      <td>11</td>\n",
       "      <td>18</td>\n",
       "      <td>1</td>\n",
       "      <td>False</td>\n",
       "      <td>...</td>\n",
       "      <td>2</td>\n",
       "      <td>поселок Шушары</td>\n",
       "      <td>12817.0</td>\n",
       "      <td>18603.0</td>\n",
       "      <td>0.0</td>\n",
       "      <td>NaN</td>\n",
       "      <td>0.0</td>\n",
       "      <td>NaN</td>\n",
       "      <td>81.0</td>\n",
       "      <td>83750</td>\n",
       "    </tr>\n",
       "    <tr>\n",
       "      <th>2</th>\n",
       "      <td>10</td>\n",
       "      <td>5196000</td>\n",
       "      <td>56</td>\n",
       "      <td>2015-08-20</td>\n",
       "      <td>2</td>\n",
       "      <td>2.65</td>\n",
       "      <td>5</td>\n",
       "      <td>34</td>\n",
       "      <td>4</td>\n",
       "      <td>False</td>\n",
       "      <td>...</td>\n",
       "      <td>0</td>\n",
       "      <td>Санкт-Петербург</td>\n",
       "      <td>21741.0</td>\n",
       "      <td>13933.0</td>\n",
       "      <td>1.0</td>\n",
       "      <td>90.0</td>\n",
       "      <td>2.0</td>\n",
       "      <td>574.0</td>\n",
       "      <td>558.0</td>\n",
       "      <td>92785</td>\n",
       "    </tr>\n",
       "    <tr>\n",
       "      <th>3</th>\n",
       "      <td>0</td>\n",
       "      <td>64900000</td>\n",
       "      <td>159</td>\n",
       "      <td>2015-07-24</td>\n",
       "      <td>3</td>\n",
       "      <td>2.65</td>\n",
       "      <td>14</td>\n",
       "      <td>99</td>\n",
       "      <td>9</td>\n",
       "      <td>False</td>\n",
       "      <td>...</td>\n",
       "      <td>0</td>\n",
       "      <td>Санкт-Петербург</td>\n",
       "      <td>28098.0</td>\n",
       "      <td>6800.0</td>\n",
       "      <td>2.0</td>\n",
       "      <td>84.0</td>\n",
       "      <td>3.0</td>\n",
       "      <td>234.0</td>\n",
       "      <td>424.0</td>\n",
       "      <td>408176</td>\n",
       "    </tr>\n",
       "    <tr>\n",
       "      <th>4</th>\n",
       "      <td>2</td>\n",
       "      <td>10000000</td>\n",
       "      <td>100</td>\n",
       "      <td>2018-06-19</td>\n",
       "      <td>2</td>\n",
       "      <td>3.03</td>\n",
       "      <td>14</td>\n",
       "      <td>32</td>\n",
       "      <td>13</td>\n",
       "      <td>False</td>\n",
       "      <td>...</td>\n",
       "      <td>0</td>\n",
       "      <td>Санкт-Петербург</td>\n",
       "      <td>31856.0</td>\n",
       "      <td>8098.0</td>\n",
       "      <td>2.0</td>\n",
       "      <td>112.0</td>\n",
       "      <td>1.0</td>\n",
       "      <td>48.0</td>\n",
       "      <td>121.0</td>\n",
       "      <td>100000</td>\n",
       "    </tr>\n",
       "  </tbody>\n",
       "</table>\n",
       "<p>5 rows × 23 columns</p>\n",
       "</div>"
      ],
      "text/plain": [
       "   total_images  last_price  total_area first_day_exposition  rooms  \\\n",
       "0            20    13000000         108           2019-03-07      3   \n",
       "1             7     3350000          40           2018-12-04      1   \n",
       "2            10     5196000          56           2015-08-20      2   \n",
       "3             0    64900000         159           2015-07-24      3   \n",
       "4             2    10000000         100           2018-06-19      2   \n",
       "\n",
       "   ceiling_height  floors_total  living_area  floor  is_apartment  ...  \\\n",
       "0            2.70            16           51      8         False  ...   \n",
       "1            2.65            11           18      1         False  ...   \n",
       "2            2.65             5           34      4         False  ...   \n",
       "3            2.65            14           99      9         False  ...   \n",
       "4            3.03            14           32     13         False  ...   \n",
       "\n",
       "   balcony    locality_name  airports_nearest  cityCenters_nearest  \\\n",
       "0        0  Санкт-Петербург           18863.0              16028.0   \n",
       "1        2   поселок Шушары           12817.0              18603.0   \n",
       "2        0  Санкт-Петербург           21741.0              13933.0   \n",
       "3        0  Санкт-Петербург           28098.0               6800.0   \n",
       "4        0  Санкт-Петербург           31856.0               8098.0   \n",
       "\n",
       "  parks_around3000  parks_nearest  ponds_around3000  ponds_nearest  \\\n",
       "0              1.0          482.0               2.0          755.0   \n",
       "1              0.0            NaN               0.0            NaN   \n",
       "2              1.0           90.0               2.0          574.0   \n",
       "3              2.0           84.0               3.0          234.0   \n",
       "4              2.0          112.0               1.0           48.0   \n",
       "\n",
       "   days_exposition  price_per_square_meter  \n",
       "0              NaN                  120370  \n",
       "1             81.0                   83750  \n",
       "2            558.0                   92785  \n",
       "3            424.0                  408176  \n",
       "4            121.0                  100000  \n",
       "\n",
       "[5 rows x 23 columns]"
      ]
     },
     "execution_count": 336,
     "metadata": {},
     "output_type": "execute_result"
    }
   ],
   "source": [
    "data['price_per_square_meter'] = (data['last_price'] / data['total_area']).astype(int)\n",
    "data.head()"
   ]
  },
  {
   "cell_type": "markdown",
   "id": "d5630b23",
   "metadata": {},
   "source": [
    "Добавлю столбцы день недели публикации объявления (0 — понедельник, 1 — вторник и так далее);\\\n",
    "месяц публикации объявления;\\\n",
    "год публикации объявления;"
   ]
  },
  {
   "cell_type": "code",
   "execution_count": 337,
   "id": "698af110",
   "metadata": {},
   "outputs": [],
   "source": [
    "data['num_day_week'] = data['first_day_exposition'].dt.weekday\n",
    "data['month'] = data['first_day_exposition'].dt.month\n",
    "data['year'] = data['first_day_exposition'].dt.year"
   ]
  },
  {
   "cell_type": "markdown",
   "id": "2724daf8",
   "metadata": {},
   "source": [
    "<div class=\"alert alert-success\"; style=\"border-left: 7px solid green\">\n",
    "<h3>✔ Комментарий ревьюера</h3>\n",
    "    \n",
    "Через такой `pass` обрабатывать исключения не стоит, так ты их просто игнорируешь. Какое исключение хочется поймать? Подробнее про обработку исключений можно тут почитать: https://ru.hexlet.io/courses/advanced_python/lessons/python_exceptions/theory_unit\n",
    "</div>    \n",
    "<div class = \"alert alert-info\" style=\"border-left: 7px solid blue\">\n",
    "<h3>Комментарий студента</h3>\n",
    "Вообще удалила эту функцию, так как она и в графике отражалась не очень.\n",
    "</div>"
   ]
  },
  {
   "cell_type": "markdown",
   "id": "1c1f1b5c",
   "metadata": {},
   "source": [
    "Добавлю столбец с категориями этажей."
   ]
  },
  {
   "cell_type": "code",
   "execution_count": 338,
   "id": "feb891bb",
   "metadata": {},
   "outputs": [],
   "source": [
    "def type_floor(data): \n",
    "    fl_total = data['floors_total']  \n",
    "    fl = data['floor']\n",
    "    if fl == 1:\n",
    "        return 'первый'\n",
    "    elif fl == fl_total:\n",
    "        return 'последний'\n",
    "    elif 1 < fl < fl_total:\n",
    "         return 'другой'\n",
    "    "
   ]
  },
  {
   "cell_type": "code",
   "execution_count": 339,
   "id": "ab9a2dce",
   "metadata": {
    "scrolled": true
   },
   "outputs": [
    {
     "data": {
      "text/html": [
       "<div>\n",
       "<style scoped>\n",
       "    .dataframe tbody tr th:only-of-type {\n",
       "        vertical-align: middle;\n",
       "    }\n",
       "\n",
       "    .dataframe tbody tr th {\n",
       "        vertical-align: top;\n",
       "    }\n",
       "\n",
       "    .dataframe thead th {\n",
       "        text-align: right;\n",
       "    }\n",
       "</style>\n",
       "<table border=\"1\" class=\"dataframe\">\n",
       "  <thead>\n",
       "    <tr style=\"text-align: right;\">\n",
       "      <th></th>\n",
       "      <th>total_images</th>\n",
       "      <th>last_price</th>\n",
       "      <th>total_area</th>\n",
       "      <th>first_day_exposition</th>\n",
       "      <th>rooms</th>\n",
       "      <th>ceiling_height</th>\n",
       "      <th>floors_total</th>\n",
       "      <th>living_area</th>\n",
       "      <th>floor</th>\n",
       "      <th>is_apartment</th>\n",
       "      <th>...</th>\n",
       "      <th>parks_around3000</th>\n",
       "      <th>parks_nearest</th>\n",
       "      <th>ponds_around3000</th>\n",
       "      <th>ponds_nearest</th>\n",
       "      <th>days_exposition</th>\n",
       "      <th>price_per_square_meter</th>\n",
       "      <th>num_day_week</th>\n",
       "      <th>month</th>\n",
       "      <th>year</th>\n",
       "      <th>type_floor</th>\n",
       "    </tr>\n",
       "  </thead>\n",
       "  <tbody>\n",
       "    <tr>\n",
       "      <th>0</th>\n",
       "      <td>20</td>\n",
       "      <td>13000000</td>\n",
       "      <td>108</td>\n",
       "      <td>2019-03-07</td>\n",
       "      <td>3</td>\n",
       "      <td>2.70</td>\n",
       "      <td>16</td>\n",
       "      <td>51</td>\n",
       "      <td>8</td>\n",
       "      <td>False</td>\n",
       "      <td>...</td>\n",
       "      <td>1.0</td>\n",
       "      <td>482.0</td>\n",
       "      <td>2.0</td>\n",
       "      <td>755.0</td>\n",
       "      <td>NaN</td>\n",
       "      <td>120370</td>\n",
       "      <td>3</td>\n",
       "      <td>3</td>\n",
       "      <td>2019</td>\n",
       "      <td>другой</td>\n",
       "    </tr>\n",
       "    <tr>\n",
       "      <th>1</th>\n",
       "      <td>7</td>\n",
       "      <td>3350000</td>\n",
       "      <td>40</td>\n",
       "      <td>2018-12-04</td>\n",
       "      <td>1</td>\n",
       "      <td>2.65</td>\n",
       "      <td>11</td>\n",
       "      <td>18</td>\n",
       "      <td>1</td>\n",
       "      <td>False</td>\n",
       "      <td>...</td>\n",
       "      <td>0.0</td>\n",
       "      <td>NaN</td>\n",
       "      <td>0.0</td>\n",
       "      <td>NaN</td>\n",
       "      <td>81.0</td>\n",
       "      <td>83750</td>\n",
       "      <td>1</td>\n",
       "      <td>12</td>\n",
       "      <td>2018</td>\n",
       "      <td>первый</td>\n",
       "    </tr>\n",
       "    <tr>\n",
       "      <th>2</th>\n",
       "      <td>10</td>\n",
       "      <td>5196000</td>\n",
       "      <td>56</td>\n",
       "      <td>2015-08-20</td>\n",
       "      <td>2</td>\n",
       "      <td>2.65</td>\n",
       "      <td>5</td>\n",
       "      <td>34</td>\n",
       "      <td>4</td>\n",
       "      <td>False</td>\n",
       "      <td>...</td>\n",
       "      <td>1.0</td>\n",
       "      <td>90.0</td>\n",
       "      <td>2.0</td>\n",
       "      <td>574.0</td>\n",
       "      <td>558.0</td>\n",
       "      <td>92785</td>\n",
       "      <td>3</td>\n",
       "      <td>8</td>\n",
       "      <td>2015</td>\n",
       "      <td>другой</td>\n",
       "    </tr>\n",
       "    <tr>\n",
       "      <th>3</th>\n",
       "      <td>0</td>\n",
       "      <td>64900000</td>\n",
       "      <td>159</td>\n",
       "      <td>2015-07-24</td>\n",
       "      <td>3</td>\n",
       "      <td>2.65</td>\n",
       "      <td>14</td>\n",
       "      <td>99</td>\n",
       "      <td>9</td>\n",
       "      <td>False</td>\n",
       "      <td>...</td>\n",
       "      <td>2.0</td>\n",
       "      <td>84.0</td>\n",
       "      <td>3.0</td>\n",
       "      <td>234.0</td>\n",
       "      <td>424.0</td>\n",
       "      <td>408176</td>\n",
       "      <td>4</td>\n",
       "      <td>7</td>\n",
       "      <td>2015</td>\n",
       "      <td>другой</td>\n",
       "    </tr>\n",
       "    <tr>\n",
       "      <th>4</th>\n",
       "      <td>2</td>\n",
       "      <td>10000000</td>\n",
       "      <td>100</td>\n",
       "      <td>2018-06-19</td>\n",
       "      <td>2</td>\n",
       "      <td>3.03</td>\n",
       "      <td>14</td>\n",
       "      <td>32</td>\n",
       "      <td>13</td>\n",
       "      <td>False</td>\n",
       "      <td>...</td>\n",
       "      <td>2.0</td>\n",
       "      <td>112.0</td>\n",
       "      <td>1.0</td>\n",
       "      <td>48.0</td>\n",
       "      <td>121.0</td>\n",
       "      <td>100000</td>\n",
       "      <td>1</td>\n",
       "      <td>6</td>\n",
       "      <td>2018</td>\n",
       "      <td>другой</td>\n",
       "    </tr>\n",
       "  </tbody>\n",
       "</table>\n",
       "<p>5 rows × 27 columns</p>\n",
       "</div>"
      ],
      "text/plain": [
       "   total_images  last_price  total_area first_day_exposition  rooms  \\\n",
       "0            20    13000000         108           2019-03-07      3   \n",
       "1             7     3350000          40           2018-12-04      1   \n",
       "2            10     5196000          56           2015-08-20      2   \n",
       "3             0    64900000         159           2015-07-24      3   \n",
       "4             2    10000000         100           2018-06-19      2   \n",
       "\n",
       "   ceiling_height  floors_total  living_area  floor  is_apartment  ...  \\\n",
       "0            2.70            16           51      8         False  ...   \n",
       "1            2.65            11           18      1         False  ...   \n",
       "2            2.65             5           34      4         False  ...   \n",
       "3            2.65            14           99      9         False  ...   \n",
       "4            3.03            14           32     13         False  ...   \n",
       "\n",
       "   parks_around3000  parks_nearest  ponds_around3000  ponds_nearest  \\\n",
       "0               1.0          482.0               2.0          755.0   \n",
       "1               0.0            NaN               0.0            NaN   \n",
       "2               1.0           90.0               2.0          574.0   \n",
       "3               2.0           84.0               3.0          234.0   \n",
       "4               2.0          112.0               1.0           48.0   \n",
       "\n",
       "  days_exposition  price_per_square_meter  num_day_week  month  year  \\\n",
       "0             NaN                  120370             3      3  2019   \n",
       "1            81.0                   83750             1     12  2018   \n",
       "2           558.0                   92785             3      8  2015   \n",
       "3           424.0                  408176             4      7  2015   \n",
       "4           121.0                  100000             1      6  2018   \n",
       "\n",
       "   type_floor  \n",
       "0      другой  \n",
       "1      первый  \n",
       "2      другой  \n",
       "3      другой  \n",
       "4      другой  \n",
       "\n",
       "[5 rows x 27 columns]"
      ]
     },
     "execution_count": 339,
     "metadata": {},
     "output_type": "execute_result"
    }
   ],
   "source": [
    "data['type_floor'] = data.apply(type_floor, axis=1)\n",
    "data.head()"
   ]
  },
  {
   "cell_type": "code",
   "execution_count": 340,
   "id": "7db4585b",
   "metadata": {},
   "outputs": [
    {
     "data": {
      "text/plain": [
       "array(['другой', 'первый', 'последний'], dtype=object)"
      ]
     },
     "execution_count": 340,
     "metadata": {},
     "output_type": "execute_result"
    }
   ],
   "source": [
    "data['type_floor'].unique()"
   ]
  },
  {
   "cell_type": "markdown",
   "id": "152431f6",
   "metadata": {},
   "source": [
    "Добавлю столбец, где расстояние до центра города указанно в километрах."
   ]
  },
  {
   "cell_type": "code",
   "execution_count": 341,
   "id": "5c760ad5",
   "metadata": {},
   "outputs": [
    {
     "data": {
      "text/html": [
       "<div>\n",
       "<style scoped>\n",
       "    .dataframe tbody tr th:only-of-type {\n",
       "        vertical-align: middle;\n",
       "    }\n",
       "\n",
       "    .dataframe tbody tr th {\n",
       "        vertical-align: top;\n",
       "    }\n",
       "\n",
       "    .dataframe thead th {\n",
       "        text-align: right;\n",
       "    }\n",
       "</style>\n",
       "<table border=\"1\" class=\"dataframe\">\n",
       "  <thead>\n",
       "    <tr style=\"text-align: right;\">\n",
       "      <th></th>\n",
       "      <th>total_images</th>\n",
       "      <th>last_price</th>\n",
       "      <th>total_area</th>\n",
       "      <th>first_day_exposition</th>\n",
       "      <th>rooms</th>\n",
       "      <th>ceiling_height</th>\n",
       "      <th>floors_total</th>\n",
       "      <th>living_area</th>\n",
       "      <th>floor</th>\n",
       "      <th>is_apartment</th>\n",
       "      <th>...</th>\n",
       "      <th>parks_nearest</th>\n",
       "      <th>ponds_around3000</th>\n",
       "      <th>ponds_nearest</th>\n",
       "      <th>days_exposition</th>\n",
       "      <th>price_per_square_meter</th>\n",
       "      <th>num_day_week</th>\n",
       "      <th>month</th>\n",
       "      <th>year</th>\n",
       "      <th>type_floor</th>\n",
       "      <th>cityCenters_nearest_km</th>\n",
       "    </tr>\n",
       "  </thead>\n",
       "  <tbody>\n",
       "    <tr>\n",
       "      <th>0</th>\n",
       "      <td>20</td>\n",
       "      <td>13000000</td>\n",
       "      <td>108</td>\n",
       "      <td>2019-03-07</td>\n",
       "      <td>3</td>\n",
       "      <td>2.70</td>\n",
       "      <td>16</td>\n",
       "      <td>51</td>\n",
       "      <td>8</td>\n",
       "      <td>False</td>\n",
       "      <td>...</td>\n",
       "      <td>482.0</td>\n",
       "      <td>2.0</td>\n",
       "      <td>755.0</td>\n",
       "      <td>NaN</td>\n",
       "      <td>120370</td>\n",
       "      <td>3</td>\n",
       "      <td>3</td>\n",
       "      <td>2019</td>\n",
       "      <td>другой</td>\n",
       "      <td>16.0</td>\n",
       "    </tr>\n",
       "    <tr>\n",
       "      <th>1</th>\n",
       "      <td>7</td>\n",
       "      <td>3350000</td>\n",
       "      <td>40</td>\n",
       "      <td>2018-12-04</td>\n",
       "      <td>1</td>\n",
       "      <td>2.65</td>\n",
       "      <td>11</td>\n",
       "      <td>18</td>\n",
       "      <td>1</td>\n",
       "      <td>False</td>\n",
       "      <td>...</td>\n",
       "      <td>NaN</td>\n",
       "      <td>0.0</td>\n",
       "      <td>NaN</td>\n",
       "      <td>81.0</td>\n",
       "      <td>83750</td>\n",
       "      <td>1</td>\n",
       "      <td>12</td>\n",
       "      <td>2018</td>\n",
       "      <td>первый</td>\n",
       "      <td>19.0</td>\n",
       "    </tr>\n",
       "    <tr>\n",
       "      <th>2</th>\n",
       "      <td>10</td>\n",
       "      <td>5196000</td>\n",
       "      <td>56</td>\n",
       "      <td>2015-08-20</td>\n",
       "      <td>2</td>\n",
       "      <td>2.65</td>\n",
       "      <td>5</td>\n",
       "      <td>34</td>\n",
       "      <td>4</td>\n",
       "      <td>False</td>\n",
       "      <td>...</td>\n",
       "      <td>90.0</td>\n",
       "      <td>2.0</td>\n",
       "      <td>574.0</td>\n",
       "      <td>558.0</td>\n",
       "      <td>92785</td>\n",
       "      <td>3</td>\n",
       "      <td>8</td>\n",
       "      <td>2015</td>\n",
       "      <td>другой</td>\n",
       "      <td>14.0</td>\n",
       "    </tr>\n",
       "    <tr>\n",
       "      <th>3</th>\n",
       "      <td>0</td>\n",
       "      <td>64900000</td>\n",
       "      <td>159</td>\n",
       "      <td>2015-07-24</td>\n",
       "      <td>3</td>\n",
       "      <td>2.65</td>\n",
       "      <td>14</td>\n",
       "      <td>99</td>\n",
       "      <td>9</td>\n",
       "      <td>False</td>\n",
       "      <td>...</td>\n",
       "      <td>84.0</td>\n",
       "      <td>3.0</td>\n",
       "      <td>234.0</td>\n",
       "      <td>424.0</td>\n",
       "      <td>408176</td>\n",
       "      <td>4</td>\n",
       "      <td>7</td>\n",
       "      <td>2015</td>\n",
       "      <td>другой</td>\n",
       "      <td>7.0</td>\n",
       "    </tr>\n",
       "    <tr>\n",
       "      <th>4</th>\n",
       "      <td>2</td>\n",
       "      <td>10000000</td>\n",
       "      <td>100</td>\n",
       "      <td>2018-06-19</td>\n",
       "      <td>2</td>\n",
       "      <td>3.03</td>\n",
       "      <td>14</td>\n",
       "      <td>32</td>\n",
       "      <td>13</td>\n",
       "      <td>False</td>\n",
       "      <td>...</td>\n",
       "      <td>112.0</td>\n",
       "      <td>1.0</td>\n",
       "      <td>48.0</td>\n",
       "      <td>121.0</td>\n",
       "      <td>100000</td>\n",
       "      <td>1</td>\n",
       "      <td>6</td>\n",
       "      <td>2018</td>\n",
       "      <td>другой</td>\n",
       "      <td>8.0</td>\n",
       "    </tr>\n",
       "  </tbody>\n",
       "</table>\n",
       "<p>5 rows × 28 columns</p>\n",
       "</div>"
      ],
      "text/plain": [
       "   total_images  last_price  total_area first_day_exposition  rooms  \\\n",
       "0            20    13000000         108           2019-03-07      3   \n",
       "1             7     3350000          40           2018-12-04      1   \n",
       "2            10     5196000          56           2015-08-20      2   \n",
       "3             0    64900000         159           2015-07-24      3   \n",
       "4             2    10000000         100           2018-06-19      2   \n",
       "\n",
       "   ceiling_height  floors_total  living_area  floor  is_apartment  ...  \\\n",
       "0            2.70            16           51      8         False  ...   \n",
       "1            2.65            11           18      1         False  ...   \n",
       "2            2.65             5           34      4         False  ...   \n",
       "3            2.65            14           99      9         False  ...   \n",
       "4            3.03            14           32     13         False  ...   \n",
       "\n",
       "   parks_nearest  ponds_around3000  ponds_nearest  days_exposition  \\\n",
       "0          482.0               2.0          755.0              NaN   \n",
       "1            NaN               0.0            NaN             81.0   \n",
       "2           90.0               2.0          574.0            558.0   \n",
       "3           84.0               3.0          234.0            424.0   \n",
       "4          112.0               1.0           48.0            121.0   \n",
       "\n",
       "  price_per_square_meter  num_day_week  month  year  type_floor  \\\n",
       "0                 120370             3      3  2019      другой   \n",
       "1                  83750             1     12  2018      первый   \n",
       "2                  92785             3      8  2015      другой   \n",
       "3                 408176             4      7  2015      другой   \n",
       "4                 100000             1      6  2018      другой   \n",
       "\n",
       "   cityCenters_nearest_km  \n",
       "0                    16.0  \n",
       "1                    19.0  \n",
       "2                    14.0  \n",
       "3                     7.0  \n",
       "4                     8.0  \n",
       "\n",
       "[5 rows x 28 columns]"
      ]
     },
     "execution_count": 341,
     "metadata": {},
     "output_type": "execute_result"
    }
   ],
   "source": [
    "data['cityCenters_nearest_km'] = (data['cityCenters_nearest'] / 1000).round()\n",
    "data.head()"
   ]
  },
  {
   "cell_type": "markdown",
   "id": "4d3d9b39",
   "metadata": {},
   "source": [
    "<div class=\"alert alert-success\"; style=\"border-left: 7px solid green\">\n",
    "<h3>✔ Комментарий ревьюера</h3>\n",
    "    \n",
    "👍\n",
    "</div>    \n"
   ]
  },
  {
   "cell_type": "markdown",
   "id": "57b0758b",
   "metadata": {},
   "source": [
    "## 4. Исследовательский анализ данных"
   ]
  },
  {
   "cell_type": "code",
   "execution_count": 342,
   "id": "54b97753",
   "metadata": {},
   "outputs": [
    {
     "data": {
      "image/png": "[encoded data removed]",
      "text/plain": [
       "<Figure size 576x576 with 1 Axes>"
      ]
     },
     "metadata": {
      "needs_background": "light"
     },
     "output_type": "display_data"
    }
   ],
   "source": [
    "data['total_area'].hist(bins= 50,figsize=(8, 8))\n",
    "plt.show()"
   ]
  },
  {
   "cell_type": "markdown",
   "id": "eaae2e08",
   "metadata": {},
   "source": [
    "Получили гистограмму с длинным хвостом, на которой заметно,что большую долю рынка занимают квартиры площадью до 100 кв.м. Пик приходится на квартиры площадью 50-60 кв.м."
   ]
  },
  {
   "cell_type": "code",
   "execution_count": 343,
   "id": "53f18ebd",
   "metadata": {
    "scrolled": true
   },
   "outputs": [
    {
     "data": {
      "text/plain": [
       "count    23344.000000\n",
       "mean        60.199066\n",
       "std         34.184642\n",
       "min         17.000000\n",
       "25%         40.000000\n",
       "50%         52.000000\n",
       "75%         70.000000\n",
       "max        500.000000\n",
       "Name: total_area, dtype: float64"
      ]
     },
     "execution_count": 343,
     "metadata": {},
     "output_type": "execute_result"
    }
   ],
   "source": [
    "data['total_area'].describe()"
   ]
  },
  {
   "cell_type": "markdown",
   "id": "c4989c95",
   "metadata": {},
   "source": [
    " Посмотрим на медианное значение total_area практически совпадает с пиком на графике."
   ]
  },
  {
   "cell_type": "code",
   "execution_count": 344,
   "id": "6ad18914",
   "metadata": {
    "scrolled": true
   },
   "outputs": [
    {
     "data": {
      "image/png": "[encoded data removed]",
      "text/plain": [
       "<Figure size 576x432 with 1 Axes>"
      ]
     },
     "metadata": {
      "needs_background": "light"
     },
     "output_type": "display_data"
    },
    {
     "data": {
      "text/plain": [
       "count    23344.000000\n",
       "mean        34.442469\n",
       "std         22.097127\n",
       "min          6.000000\n",
       "25%         18.000000\n",
       "50%         30.000000\n",
       "75%         42.000000\n",
       "max        347.000000\n",
       "Name: living_area, dtype: float64"
      ]
     },
     "execution_count": 344,
     "metadata": {},
     "output_type": "execute_result"
    }
   ],
   "source": [
    "data['living_area'].hist(bins= 30,figsize=(8, 6))\n",
    "plt.show()\n",
    "data['living_area'].describe()"
   ]
  },
  {
   "cell_type": "markdown",
   "id": "937c18de",
   "metadata": {},
   "source": [
    "Основная доля рынка приходится на квартиры с жилплощадью до 75 кв.м, чаще всего квартиры имееют жилую площадь в 30 кв.м."
   ]
  },
  {
   "cell_type": "code",
   "execution_count": 345,
   "id": "9c4e8ee0",
   "metadata": {},
   "outputs": [
    {
     "data": {
      "image/png": "[encoded data removed]",
      "text/plain": [
       "<Figure size 576x432 with 1 Axes>"
      ]
     },
     "metadata": {
      "needs_background": "light"
     },
     "output_type": "display_data"
    },
    {
     "data": {
      "text/plain": [
       "count    23344.000000\n",
       "mean        10.519625\n",
       "std          5.724531\n",
       "min          1.300000\n",
       "25%          7.100000\n",
       "50%          9.200000\n",
       "75%         11.900000\n",
       "max        123.478328\n",
       "Name: kitchen_area, dtype: float64"
      ]
     },
     "execution_count": 345,
     "metadata": {},
     "output_type": "execute_result"
    }
   ],
   "source": [
    "data['kitchen_area'].hist(bins=50,figsize=(8, 6))\n",
    "plt.show()\n",
    "data['kitchen_area'].describe()"
   ]
  },
  {
   "cell_type": "markdown",
   "id": "7d5edb1b",
   "metadata": {},
   "source": [
    "Большая часть квартир имеет кухни площадью до 20 кв.м. Чаще всего встречаются квартиры c кухней в 9 кв.м."
   ]
  },
  {
   "cell_type": "code",
   "execution_count": 346,
   "id": "2ff23374",
   "metadata": {},
   "outputs": [
    {
     "data": {
      "image/png": "[encoded data removed]",
      "text/plain": [
       "<Figure size 576x576 with 1 Axes>"
      ]
     },
     "metadata": {
      "needs_background": "light"
     },
     "output_type": "display_data"
    },
    {
     "data": {
      "text/plain": [
       "count    2.334400e+04\n",
       "mean     6.516846e+06\n",
       "std      1.032941e+07\n",
       "min      1.219000e+04\n",
       "25%      3.450000e+06\n",
       "50%      4.650000e+06\n",
       "75%      6.800000e+06\n",
       "max      7.630000e+08\n",
       "Name: last_price, dtype: float64"
      ]
     },
     "execution_count": 346,
     "metadata": {},
     "output_type": "execute_result"
    }
   ],
   "source": [
    "(data['last_price']/1000000).hist(bins=50, range=(0, 50),figsize=(8, 8))\n",
    "plt.show()\n",
    "data['last_price'].describe()\n"
   ]
  },
  {
   "cell_type": "markdown",
   "id": "785726d7",
   "metadata": {},
   "source": [
    "<div class=\"alert alert-success\"; style=\"border-left: 7px solid green\">\n",
    "<h3>✔ Комментарий ревьюера</h3>\n",
    "    \n",
    "Чтобы не делить, может быть удобно отформатировать числа как в `describe`, так и на графике (но не всегда это удобнее)\n",
    "</div>    \n"
   ]
  },
  {
   "cell_type": "code",
   "execution_count": 186,
   "id": "ed2dbef2",
   "metadata": {},
   "outputs": [
    {
     "data": {
      "image/png": "[encoded data removed]",
      "text/plain": [
       "<Figure size 1008x576 with 1 Axes>"
      ]
     },
     "metadata": {
      "needs_background": "light"
     },
     "output_type": "display_data"
    },
    {
     "data": {
      "text/html": [
       "<style  type=\"text/css\" >\n",
       "</style><table id=\"T_3fb64_\" ><thead>    <tr>        <th class=\"blank level0\" ></th>        <th class=\"col_heading level0 col0\" >last_price</th>    </tr></thead><tbody>\n",
       "                <tr>\n",
       "                        <th id=\"T_3fb64_level0_row0\" class=\"row_heading level0 row0\" >count</th>\n",
       "                        <td id=\"T_3fb64_row0_col0\" class=\"data row0 col0\" >20,182</td>\n",
       "            </tr>\n",
       "            <tr>\n",
       "                        <th id=\"T_3fb64_level0_row1\" class=\"row_heading level0 row1\" >mean</th>\n",
       "                        <td id=\"T_3fb64_row1_col0\" class=\"data row1 col0\" >6,248,803</td>\n",
       "            </tr>\n",
       "            <tr>\n",
       "                        <th id=\"T_3fb64_level0_row2\" class=\"row_heading level0 row2\" >std</th>\n",
       "                        <td id=\"T_3fb64_row2_col0\" class=\"data row2 col0\" >10,299,002</td>\n",
       "            </tr>\n",
       "            <tr>\n",
       "                        <th id=\"T_3fb64_level0_row3\" class=\"row_heading level0 row3\" >min</th>\n",
       "                        <td id=\"T_3fb64_row3_col0\" class=\"data row3 col0\" >12,190</td>\n",
       "            </tr>\n",
       "            <tr>\n",
       "                        <th id=\"T_3fb64_level0_row4\" class=\"row_heading level0 row4\" >25%</th>\n",
       "                        <td id=\"T_3fb64_row4_col0\" class=\"data row4 col0\" >3,400,000</td>\n",
       "            </tr>\n",
       "            <tr>\n",
       "                        <th id=\"T_3fb64_level0_row5\" class=\"row_heading level0 row5\" >50%</th>\n",
       "                        <td id=\"T_3fb64_row5_col0\" class=\"data row5 col0\" >4,550,000</td>\n",
       "            </tr>\n",
       "            <tr>\n",
       "                        <th id=\"T_3fb64_level0_row6\" class=\"row_heading level0 row6\" >75%</th>\n",
       "                        <td id=\"T_3fb64_row6_col0\" class=\"data row6 col0\" >6,500,000</td>\n",
       "            </tr>\n",
       "            <tr>\n",
       "                        <th id=\"T_3fb64_level0_row7\" class=\"row_heading level0 row7\" >max</th>\n",
       "                        <td id=\"T_3fb64_row7_col0\" class=\"data row7 col0\" >763,000,000</td>\n",
       "            </tr>\n",
       "    </tbody></table>"
      ],
      "text/plain": [
       "<pandas.io.formats.style.Styler at 0x7f3dd0a151c0>"
      ]
     },
     "execution_count": 186,
     "metadata": {},
     "output_type": "execute_result"
    }
   ],
   "source": [
    "# Код ревьюера\n",
    "\n",
    "import matplotlib.ticker as ticker\n",
    "\n",
    "ax = (data['last_price']).hist(bins=50, range=(0,20 * 10**6) ,figsize=(14, 8))\n",
    "\n",
    "ax.xaxis.set_major_formatter(ticker.FuncFormatter(lambda x, pos : '{:,}'.format(x)))\n",
    "ax.xaxis.set_major_locator(ticker.MultipleLocator(3 * 10**6))\n",
    "plt.show()\n",
    "\n",
    "data['last_price'].describe().to_frame().style.format('{:,.0f}')"
   ]
  },
  {
   "cell_type": "code",
   "execution_count": 347,
   "id": "286045c5",
   "metadata": {
    "scrolled": true
   },
   "outputs": [
    {
     "data": {
      "image/png": "[encoded data removed]",
      "text/plain": [
       "<Figure size 576x576 with 1 Axes>"
      ]
     },
     "metadata": {
      "needs_background": "light"
     },
     "output_type": "display_data"
    }
   ],
   "source": [
    "(data['last_price']/1000000).hist(bins=10, range=(0, 10),figsize=(8, 8))\n",
    "plt.show()"
   ]
  },
  {
   "cell_type": "markdown",
   "id": "c5bbfce1",
   "metadata": {},
   "source": [
    "<div class=\"alert alert-success\"; style=\"border-left: 7px solid green\">\n",
    "<h3>✔ Комментарий ревьюера</h3>\n",
    "    \n",
    "Или можно через такое же форматирование к подписям выше добавить `' млн.'`</div>    \n"
   ]
  },
  {
   "cell_type": "markdown",
   "id": "a48ef74d",
   "metadata": {},
   "source": [
    "И опять наблюдаю длинный хвост в распределении,пик стоимости квартир приходится на 3-5 млн.руб. Квартиры стоимостью более 15 млн.руб редкое явление."
   ]
  },
  {
   "cell_type": "code",
   "execution_count": 349,
   "id": "69d79025",
   "metadata": {},
   "outputs": [
    {
     "data": {
      "image/png": "[encoded data removed]",
      "text/plain": [
       "<Figure size 576x432 with 1 Axes>"
      ]
     },
     "metadata": {
      "needs_background": "light"
     },
     "output_type": "display_data"
    },
    {
     "data": {
      "text/plain": [
       "count    23344.000000\n",
       "mean         2.086361\n",
       "std          1.059145\n",
       "min          1.000000\n",
       "25%          1.000000\n",
       "50%          2.000000\n",
       "75%          3.000000\n",
       "max         19.000000\n",
       "Name: rooms, dtype: float64"
      ]
     },
     "execution_count": 349,
     "metadata": {},
     "output_type": "execute_result"
    }
   ],
   "source": [
    "data['rooms'].value_counts().plot(kind='bar',figsize=(8, 6))\n",
    "plt.show()\n",
    "data['rooms'].describe()"
   ]
  },
  {
   "cell_type": "markdown",
   "id": "30c68829",
   "metadata": {},
   "source": [
    "<div class=\"alert alert-success\"; style=\"border-left: 7px solid green\">\n",
    "<h3>✔ Комментарий ревьюера</h3>\n",
    "    \n",
    "Т.к. столбец дискретный, то чтобы столбцы были над значениями можно строить барчарт по `value_counts()`</div>    \n"
   ]
  },
  {
   "cell_type": "markdown",
   "id": "c82fe0fa",
   "metadata": {},
   "source": [
    "Пик приходится на  однокомнатные квартиры. Основу рынка составляют 1-,2- и 3-х комнатные квартиры."
   ]
  },
  {
   "cell_type": "code",
   "execution_count": 350,
   "id": "d5840639",
   "metadata": {},
   "outputs": [
    {
     "data": {
      "image/png": "[encoded data removed]",
      "text/plain": [
       "<Figure size 576x576 with 1 Axes>"
      ]
     },
     "metadata": {
      "needs_background": "light"
     },
     "output_type": "display_data"
    },
    {
     "data": {
      "text/plain": [
       "count    23344.000000\n",
       "mean         2.697747\n",
       "std          0.236397\n",
       "min          2.000000\n",
       "25%          2.600000\n",
       "50%          2.650000\n",
       "75%          2.700000\n",
       "max         10.000000\n",
       "Name: ceiling_height, dtype: float64"
      ]
     },
     "execution_count": 350,
     "metadata": {},
     "output_type": "execute_result"
    }
   ],
   "source": [
    "data['ceiling_height'].hist(bins=30,range=(2,6),figsize=(8, 8))\n",
    "plt.show()\n",
    "data['ceiling_height'].describe()"
   ]
  },
  {
   "cell_type": "markdown",
   "id": "10960ceb",
   "metadata": {},
   "source": [
    "В основном продаются квартиры с высотой пололков 2,65 метра."
   ]
  },
  {
   "cell_type": "code",
   "execution_count": 351,
   "id": "1912c4c4",
   "metadata": {},
   "outputs": [
    {
     "data": {
      "image/png": "[encoded data removed]",
      "text/plain": [
       "<Figure size 576x576 with 1 Axes>"
      ]
     },
     "metadata": {
      "needs_background": "light"
     },
     "output_type": "display_data"
    },
    {
     "data": {
      "text/plain": [
       "count    23344.000000\n",
       "mean         5.856923\n",
       "std          4.850920\n",
       "min          1.000000\n",
       "25%          2.000000\n",
       "50%          4.000000\n",
       "75%          8.000000\n",
       "max         33.000000\n",
       "Name: floor, dtype: float64"
      ]
     },
     "execution_count": 351,
     "metadata": {},
     "output_type": "execute_result"
    }
   ],
   "source": [
    "data['floor'].hist(bins=66,figsize=(8, 8))\n",
    "plt.show()\n",
    "data['floor'].describe()"
   ]
  },
  {
   "cell_type": "markdown",
   "id": "57663639",
   "metadata": {},
   "source": [
    "Квартиры на 2 этаже продаются чаще остальных.В основном хорошо продаются квартиры расположены с 1 по 5 этажи."
   ]
  },
  {
   "cell_type": "code",
   "execution_count": 352,
   "id": "75e62ee5",
   "metadata": {},
   "outputs": [
    {
     "data": {
      "image/png": "[encoded data removed]",
      "text/plain": [
       "<Figure size 576x576 with 1 Axes>"
      ]
     },
     "metadata": {
      "needs_background": "light"
     },
     "output_type": "display_data"
    },
    {
     "data": {
      "text/plain": [
       "count      23344\n",
       "unique         3\n",
       "top       другой\n",
       "freq       17148\n",
       "Name: type_floor, dtype: object"
      ]
     },
     "execution_count": 352,
     "metadata": {},
     "output_type": "execute_result"
    }
   ],
   "source": [
    "data['type_floor'].hist(bins=5,figsize=(8, 8))\n",
    "plt.show()\n",
    "data['type_floor'].describe()"
   ]
  },
  {
   "cell_type": "markdown",
   "id": "8d11249b",
   "metadata": {},
   "source": [
    "В основном проданные квартиры расположены между первым и последним этажем."
   ]
  },
  {
   "cell_type": "code",
   "execution_count": 353,
   "id": "379a2e51",
   "metadata": {},
   "outputs": [
    {
     "data": {
      "image/png": "[encoded data removed]",
      "text/plain": [
       "<Figure size 576x576 with 1 Axes>"
      ]
     },
     "metadata": {
      "needs_background": "light"
     },
     "output_type": "display_data"
    },
    {
     "data": {
      "text/plain": [
       "count    23344.000000\n",
       "mean        10.625857\n",
       "std          6.566445\n",
       "min          1.000000\n",
       "25%          5.000000\n",
       "50%          9.000000\n",
       "75%         16.000000\n",
       "max         60.000000\n",
       "Name: floors_total, dtype: float64"
      ]
     },
     "execution_count": 353,
     "metadata": {},
     "output_type": "execute_result"
    }
   ],
   "source": [
    "data['floors_total'].hist(bins=30,range=(0,40),figsize=(8, 8))\n",
    "plt.show()\n",
    "data['floors_total'].describe()"
   ]
  },
  {
   "cell_type": "markdown",
   "id": "64275f4f",
   "metadata": {},
   "source": [
    "Высотность зданий имеет большой разброс, преобладают 5-и этажные здания."
   ]
  },
  {
   "cell_type": "code",
   "execution_count": 354,
   "id": "1f6eb439",
   "metadata": {},
   "outputs": [
    {
     "data": {
      "image/png": "[encoded data removed]",
      "text/plain": [
       "<Figure size 576x576 with 1 Axes>"
      ]
     },
     "metadata": {
      "needs_background": "light"
     },
     "output_type": "display_data"
    },
    {
     "data": {
      "text/plain": [
       "count    17922.000000\n",
       "mean     14202.487111\n",
       "std       8628.079574\n",
       "min        181.000000\n",
       "25%       9238.000000\n",
       "50%      13094.000000\n",
       "75%      16285.000000\n",
       "max      65968.000000\n",
       "Name: cityCenters_nearest, dtype: float64"
      ]
     },
     "execution_count": 354,
     "metadata": {},
     "output_type": "execute_result"
    }
   ],
   "source": [
    "data['cityCenters_nearest'].hist(bins=30,figsize=(8, 8))\n",
    "plt.show()\n",
    "data['cityCenters_nearest'].describe()"
   ]
  },
  {
   "cell_type": "markdown",
   "id": "5e5a9531",
   "metadata": {},
   "source": [
    "Основная доля проданных квартир распологается в пределах 20 км от центра города. Пик продаж - квартиры в 13 км от центра города."
   ]
  },
  {
   "cell_type": "code",
   "execution_count": 355,
   "id": "573c2724",
   "metadata": {},
   "outputs": [
    {
     "data": {
      "image/png": "[encoded data removed]",
      "text/plain": [
       "<Figure size 576x576 with 1 Axes>"
      ]
     },
     "metadata": {
      "needs_background": "light"
     },
     "output_type": "display_data"
    },
    {
     "data": {
      "text/plain": [
       "count    17900.000000\n",
       "mean     28826.089721\n",
       "std      12628.181167\n",
       "min          0.000000\n",
       "25%      18581.000000\n",
       "50%      26772.000000\n",
       "75%      37298.000000\n",
       "max      84869.000000\n",
       "Name: airports_nearest, dtype: float64"
      ]
     },
     "execution_count": 355,
     "metadata": {},
     "output_type": "execute_result"
    }
   ],
   "source": [
    "data['airports_nearest'].hist(bins=50,figsize=(8, 8))\n",
    "plt.show()\n",
    "data['airports_nearest'].describe()"
   ]
  },
  {
   "cell_type": "markdown",
   "id": "67c41eae",
   "metadata": {},
   "source": [
    "Больше всего продаются квартиры 25-27 км от аэропорта."
   ]
  },
  {
   "cell_type": "code",
   "execution_count": 356,
   "id": "ddeb7fff",
   "metadata": {},
   "outputs": [
    {
     "data": {
      "image/png": "[encoded data removed]",
      "text/plain": [
       "<Figure size 576x576 with 1 Axes>"
      ]
     },
     "metadata": {
      "needs_background": "light"
     },
     "output_type": "display_data"
    },
    {
     "data": {
      "text/plain": [
       "count    7988.000000\n",
       "mean      490.379695\n",
       "std       341.742116\n",
       "min         7.000000\n",
       "25%       288.000000\n",
       "50%       454.000000\n",
       "75%       612.000000\n",
       "max      3190.000000\n",
       "Name: parks_nearest, dtype: float64"
      ]
     },
     "execution_count": 356,
     "metadata": {},
     "output_type": "execute_result"
    }
   ],
   "source": [
    "data['parks_nearest'].hist(bins=100,figsize=(8, 8))\n",
    "plt.show()\n",
    "data['parks_nearest'].describe()"
   ]
  },
  {
   "cell_type": "markdown",
   "id": "39401e12",
   "metadata": {},
   "source": [
    "Популярна недвижимость с наличием парков в 450 метрах."
   ]
  },
  {
   "cell_type": "code",
   "execution_count": 358,
   "id": "d6141813",
   "metadata": {},
   "outputs": [
    {
     "data": {
      "image/png": "[encoded data removed]",
      "text/plain": [
       "<Figure size 720x576 with 1 Axes>"
      ]
     },
     "metadata": {
      "needs_background": "light"
     },
     "output_type": "display_data"
    },
    {
     "data": {
      "text/plain": [
       "count    23344.000000\n",
       "mean         2.566098\n",
       "std          1.789171\n",
       "min          0.000000\n",
       "25%          1.000000\n",
       "50%          3.000000\n",
       "75%          4.000000\n",
       "max          6.000000\n",
       "Name: num_day_week, dtype: float64"
      ]
     },
     "execution_count": 358,
     "metadata": {},
     "output_type": "execute_result"
    }
   ],
   "source": [
    "data['num_day_week'].hist(bins=14, figsize=(10, 8))\n",
    "plt.show()\n",
    "data['num_day_week'].describe()"
   ]
  },
  {
   "cell_type": "markdown",
   "id": "bdf89118",
   "metadata": {},
   "source": [
    "<div class=\"alert alert-success\"; style=\"border-left: 7px solid green\">\n",
    "<h3>✔ Комментарий ревьюера</h3>\n",
    "    \n",
    "Не очень удобно, что дни недели отсортированы не по их порядку в неделе</div>    \n"
   ]
  },
  {
   "cell_type": "markdown",
   "id": "78b93af6",
   "metadata": {},
   "source": [
    "Чаще всего объявления публикуются в четверг, намного реже по выходным."
   ]
  },
  {
   "cell_type": "code",
   "execution_count": 359,
   "id": "8d52f744",
   "metadata": {},
   "outputs": [
    {
     "data": {
      "image/png": "[encoded data removed]",
      "text/plain": [
       "<Figure size 720x576 with 1 Axes>"
      ]
     },
     "metadata": {
      "needs_background": "light"
     },
     "output_type": "display_data"
    },
    {
     "data": {
      "text/plain": [
       "count    23344.000000\n",
       "mean         6.394962\n",
       "std          3.491769\n",
       "min          1.000000\n",
       "25%          3.000000\n",
       "50%          6.000000\n",
       "75%         10.000000\n",
       "max         12.000000\n",
       "Name: month, dtype: float64"
      ]
     },
     "execution_count": 359,
     "metadata": {},
     "output_type": "execute_result"
    }
   ],
   "source": [
    "data['month'].hist(bins=24, figsize=(10, 8))\n",
    "plt.show()\n",
    "data['month'].describe()"
   ]
  },
  {
   "cell_type": "markdown",
   "id": "f20cf342",
   "metadata": {},
   "source": [
    "Чаще всего объявления публикуют в феврале, к маю количество публикаций снижается и практически совпадает с январским числом,к лету количество немного подрастает, в летние периоды наблюдается стабильность и далее к ноябрю число публикаций растет. "
   ]
  },
  {
   "cell_type": "code",
   "execution_count": 360,
   "id": "68073a85",
   "metadata": {},
   "outputs": [
    {
     "data": {
      "image/png": "[encoded data removed]",
      "text/plain": [
       "<Figure size 720x720 with 1 Axes>"
      ]
     },
     "metadata": {
      "needs_background": "light"
     },
     "output_type": "display_data"
    },
    {
     "data": {
      "text/plain": [
       "count    20190.000000\n",
       "mean       181.400842\n",
       "std        220.091742\n",
       "min          1.000000\n",
       "25%         45.000000\n",
       "50%         96.000000\n",
       "75%        232.000000\n",
       "max       1580.000000\n",
       "Name: days_exposition, dtype: float64"
      ]
     },
     "execution_count": 360,
     "metadata": {},
     "output_type": "execute_result"
    }
   ],
   "source": [
    "data['days_exposition'].hist(bins=100, figsize=(10, 10))\n",
    "plt.show()\n",
    "data['days_exposition'].describe()"
   ]
  },
  {
   "cell_type": "code",
   "execution_count": 361,
   "id": "55df8868",
   "metadata": {},
   "outputs": [
    {
     "name": "stdout",
     "output_type": "stream",
     "text": [
      "Среднее = 181.4008420009906\n",
      "Медиана = 96.0\n"
     ]
    }
   ],
   "source": [
    "print('Среднее =', data['days_exposition'].mean())\n",
    "print('Медиана =', data['days_exposition'].median())"
   ]
  },
  {
   "cell_type": "code",
   "execution_count": 362,
   "id": "7160bfee",
   "metadata": {},
   "outputs": [
    {
     "data": {
      "image/png": "[encoded data removed]",
      "text/plain": [
       "<Figure size 432x288 with 1 Axes>"
      ]
     },
     "metadata": {
      "needs_background": "light"
     },
     "output_type": "display_data"
    }
   ],
   "source": [
    "data.boxplot('days_exposition')\n",
    "plt.show()"
   ]
  },
  {
   "cell_type": "code",
   "execution_count": 363,
   "id": "23b1f3da",
   "metadata": {},
   "outputs": [
    {
     "data": {
      "image/png": "[encoded data removed]",
      "text/plain": [
       "<Figure size 720x720 with 1 Axes>"
      ]
     },
     "metadata": {
      "needs_background": "light"
     },
     "output_type": "display_data"
    }
   ],
   "source": [
    "data['days_exposition'].hist(bins=100, range=(0,100),figsize=(10, 10))\n",
    "plt.show()"
   ]
  },
  {
   "cell_type": "markdown",
   "id": "367d1dbb",
   "metadata": {},
   "source": [
    "Большая часть объявлений снимается с публикации в течении 200 дней ( около 6 месяцев), значит продажи дольше этого периодна можно считать долгими. К быстрым продажам отношу продажи менее ,чем за 45 дней.\\\n",
    "Наблюдаются пики в 44-45, 60 и 90 дней, могут быть связаны с автоматическим снятием объявлений с публикации.Из графиков видно,что дни более 500 являются выбросами.Создадим отдельную таблицу, для дальнейшего исследования."
   ]
  },
  {
   "cell_type": "markdown",
   "id": "c9f7d999",
   "metadata": {},
   "source": [
    "<div class=\"alert alert-success\"; style=\"border-left: 7px solid green\">\n",
    "<h3>✔ Комментарий ревьюера</h3>\n",
    "    \n",
    "Похоже, но опять же, это экспоненциальное распределение. Распределение Пуассона описывает число событий на временном интервале, а экспоненциальное -- время\n",
    "\n",
    "> Интересно с чем это может быть связано.\n",
    "    \n",
    "Автоматическое снятие, может быть: https://yandex.ru/support/realty/owner/home/add-ads-housing.html\n",
    "    \n",
    "В целом же всё верно\n",
    "</div>    \n"
   ]
  },
  {
   "cell_type": "code",
   "execution_count": 364,
   "id": "5dab5d82",
   "metadata": {},
   "outputs": [
    {
     "data": {
      "text/plain": [
       "18732"
      ]
     },
     "execution_count": 364,
     "metadata": {},
     "output_type": "execute_result"
    }
   ],
   "source": [
    "data_day_500 = data.query('days_exposition < 550')\n",
    "data_day_500.shape[0]"
   ]
  },
  {
   "cell_type": "markdown",
   "id": "425ee7ae",
   "metadata": {},
   "source": [
    "### Определение факторов, влияющих на общую (полную) стоимость объекта."
   ]
  },
  {
   "cell_type": "markdown",
   "id": "a5b53ae8",
   "metadata": {},
   "source": []
  },
  {
   "cell_type": "code",
   "execution_count": 372,
   "id": "5cbf5051",
   "metadata": {},
   "outputs": [],
   "source": [
    "def plot_pivot (df,col):\n",
    "    '''функция возвращает график по сводной таблице'''\n",
    "    return (df.pivot_table(index=col, values='last_price', aggfunc='median')).plot(figsize=(8,6),grid=True)\n",
    "    "
   ]
  },
  {
   "cell_type": "markdown",
   "id": "3718b164",
   "metadata": {},
   "source": [
    "<div class=\"alert alert-success\"; style=\"border-left: 7px solid green\">\n",
    "<h3>✔ Комментарий ревьюера</h3>\n",
    "    \n",
    "Стоит датафрейм через параметры функции пердавать</div>    \n"
   ]
  },
  {
   "cell_type": "code",
   "execution_count": 373,
   "id": "9c64cf69",
   "metadata": {},
   "outputs": [],
   "source": [
    "def corr_pivot(df,col):\n",
    "    '''расчет корреляции'''\n",
    "    return df['last_price'].corr(data_day_500[col])"
   ]
  },
  {
   "cell_type": "code",
   "execution_count": 374,
   "id": "0b818d07",
   "metadata": {},
   "outputs": [],
   "source": [
    "def plot_scat (df,col):\n",
    "    '''строим диаграмму рассеивания'''\n",
    "    return df.plot(kind = 'scatter', y = 'last_price', x = col,alpha=0.1, sharex=False)\n"
   ]
  },
  {
   "cell_type": "code",
   "execution_count": 376,
   "id": "ae7762fe",
   "metadata": {},
   "outputs": [
    {
     "data": {
      "text/plain": [
       "0.6043355511716044"
      ]
     },
     "execution_count": 376,
     "metadata": {},
     "output_type": "execute_result"
    },
    {
     "data": {
      "image/png": "[encoded data removed]",
      "text/plain": [
       "<Figure size 432x288 with 1 Axes>"
      ]
     },
     "metadata": {
      "needs_background": "light"
     },
     "output_type": "display_data"
    },
    {
     "data": {
      "image/png": "[encoded data removed]",
      "text/plain": [
       "<Figure size 576x432 with 1 Axes>"
      ]
     },
     "metadata": {
      "needs_background": "light"
     },
     "output_type": "display_data"
    }
   ],
   "source": [
    "plot_scat (data_day_500,'total_area')\n",
    "plot_pivot(data_day_500,'total_area')\n",
    "corr_pivot(data_day_500,'total_area')"
   ]
  },
  {
   "cell_type": "markdown",
   "id": "7187f23a",
   "metadata": {},
   "source": [
    "Корреляция положительная говорит о прямой,но не сильной зависимости стоимости от общей площади.Особенно сильно влияние для квартир до 100 кв.м,далее зависимость не наблюдается, происходят скачки то в одну, то в другу сторону, у объектов в 400 кв.м. самая высока цена."
   ]
  },
  {
   "cell_type": "code",
   "execution_count": 377,
   "id": "dd63e004",
   "metadata": {},
   "outputs": [
    {
     "data": {
      "text/plain": [
       "0.5482864944992973"
      ]
     },
     "execution_count": 377,
     "metadata": {},
     "output_type": "execute_result"
    },
    {
     "data": {
      "image/png": "[encoded data removed]",
      "text/plain": [
       "<Figure size 432x288 with 1 Axes>"
      ]
     },
     "metadata": {
      "needs_background": "light"
     },
     "output_type": "display_data"
    },
    {
     "data": {
      "image/png": "[encoded data removed]",
      "text/plain": [
       "<Figure size 576x432 with 1 Axes>"
      ]
     },
     "metadata": {
      "needs_background": "light"
     },
     "output_type": "display_data"
    }
   ],
   "source": [
    "plot_scat (data_day_500,'living_area')\n",
    "plot_pivot(data_day_500,'living_area')\n",
    "corr_pivot(data_day_500,'living_area')"
   ]
  },
  {
   "cell_type": "markdown",
   "id": "6c8a5497",
   "metadata": {},
   "source": [
    "Зависимость стоимости от жилой площади наблюдаетсяу объектов с жилплощадью до 75 кв.м, выше этой цифры зависимости нет."
   ]
  },
  {
   "cell_type": "code",
   "execution_count": 378,
   "id": "503924c3",
   "metadata": {},
   "outputs": [
    {
     "data": {
      "text/plain": [
       "0.428632873737138"
      ]
     },
     "execution_count": 378,
     "metadata": {},
     "output_type": "execute_result"
    },
    {
     "data": {
      "image/png": "[encoded data removed]",
      "text/plain": [
       "<Figure size 432x288 with 1 Axes>"
      ]
     },
     "metadata": {
      "needs_background": "light"
     },
     "output_type": "display_data"
    },
    {
     "data": {
      "image/png": "[encoded data removed]",
      "text/plain": [
       "<Figure size 576x432 with 1 Axes>"
      ]
     },
     "metadata": {
      "needs_background": "light"
     },
     "output_type": "display_data"
    }
   ],
   "source": [
    "plot_scat (data_day_500,'kitchen_area')\n",
    "(data_day_500.pivot_table(index=data_day_500['kitchen_area'] // 5 * 5, values='last_price', aggfunc='median')).plot(figsize=(8,6),grid=True)\n",
    "corr_pivot(data_day_500,'kitchen_area')"
   ]
  },
  {
   "cell_type": "markdown",
   "id": "923ebf50",
   "metadata": {},
   "source": [
    "<div class=\"alert alert-success\"; style=\"border-left: 7px solid green\">\n",
    "<h3>✔ Комментарий ревьюера</h3>\n",
    "    \n",
    "Для непрерывных величин такие графики немного страшноваты, можно делать так (т.е. я разбил площади на интервалы по 5 метров):</div>    \n"
   ]
  },
  {
   "cell_type": "code",
   "execution_count": 187,
   "id": "65189793",
   "metadata": {},
   "outputs": [
    {
     "data": {
      "text/plain": [
       "<AxesSubplot:xlabel='kitchen_area'>"
      ]
     },
     "execution_count": 187,
     "metadata": {},
     "output_type": "execute_result"
    },
    {
     "data": {
      "image/png": "[encoded data removed]",
      "text/plain": [
       "<Figure size 576x432 with 1 Axes>"
      ]
     },
     "metadata": {
      "needs_background": "light"
     },
     "output_type": "display_data"
    }
   ],
   "source": [
    "# Код ревьюера\n",
    "\n",
    "(data_day_500.pivot_table(index=data_day_500['kitchen_area'] // 5 * 5, values='last_price', aggfunc='median')).plot(figsize=(8,6),grid=True)"
   ]
  },
  {
   "cell_type": "markdown",
   "id": "089a5ac9",
   "metadata": {},
   "source": [
    "Площадь кухни влияет на стоимость недвижимости в пределах 40 кв.м, далее зависимость не наблюдается"
   ]
  },
  {
   "cell_type": "code",
   "execution_count": 379,
   "id": "1ff8268d",
   "metadata": {},
   "outputs": [
    {
     "data": {
      "text/plain": [
       "0.33754062944353724"
      ]
     },
     "execution_count": 379,
     "metadata": {},
     "output_type": "execute_result"
    },
    {
     "data": {
      "image/png": "[encoded data removed]",
      "text/plain": [
       "<Figure size 576x432 with 1 Axes>"
      ]
     },
     "metadata": {
      "needs_background": "light"
     },
     "output_type": "display_data"
    }
   ],
   "source": [
    "plot_pivot(data_day_500,'rooms')\n",
    "corr_pivot(data_day_500,'rooms')"
   ]
  },
  {
   "cell_type": "markdown",
   "id": "012d178a",
   "metadata": {},
   "source": [
    "Зависимость есть, судя по цифрам не сильная,но смотря на график,это скорее связано с просадкой стоимости в 8-и, 9-и комнатных объектах. Стоимоть квартир от 1 комнаты до 8 растет с ростом числа комнат, далее такой зависимости нет."
   ]
  },
  {
   "cell_type": "code",
   "execution_count": 380,
   "id": "d8d78205",
   "metadata": {},
   "outputs": [
    {
     "data": {
      "text/plain": [
       "<AxesSubplot:xlabel='type_floor'>"
      ]
     },
     "execution_count": 380,
     "metadata": {},
     "output_type": "execute_result"
    },
    {
     "data": {
      "image/png": "[encoded data removed]",
      "text/plain": [
       "<Figure size 576x432 with 1 Axes>"
      ]
     },
     "metadata": {
      "needs_background": "light"
     },
     "output_type": "display_data"
    }
   ],
   "source": [
    "plot_pivot(data_day_500,'type_floor')"
   ]
  },
  {
   "cell_type": "markdown",
   "id": "22a4c9f8",
   "metadata": {},
   "source": [
    "Ниже всего стоимость у квартир на 1 этаже."
   ]
  },
  {
   "cell_type": "code",
   "execution_count": 381,
   "id": "deb3ed21",
   "metadata": {},
   "outputs": [
    {
     "data": {
      "text/plain": [
       "0.008170872769476945"
      ]
     },
     "execution_count": 381,
     "metadata": {},
     "output_type": "execute_result"
    },
    {
     "data": {
      "image/png": "[encoded data removed]",
      "text/plain": [
       "<Figure size 576x432 with 1 Axes>"
      ]
     },
     "metadata": {
      "needs_background": "light"
     },
     "output_type": "display_data"
    }
   ],
   "source": [
    "plot_pivot(data_day_500,'num_day_week')\n",
    "corr_pivot(data_day_500,'num_day_week')"
   ]
  },
  {
   "cell_type": "code",
   "execution_count": 382,
   "id": "57136e6a",
   "metadata": {},
   "outputs": [
    {
     "data": {
      "text/plain": [
       "-0.0012504897386937171"
      ]
     },
     "execution_count": 382,
     "metadata": {},
     "output_type": "execute_result"
    },
    {
     "data": {
      "image/png": "[encoded data removed]",
      "text/plain": [
       "<Figure size 576x432 with 1 Axes>"
      ]
     },
     "metadata": {
      "needs_background": "light"
     },
     "output_type": "display_data"
    }
   ],
   "source": [
    "plot_pivot(data_day_500,'month')\n",
    "corr_pivot(data_day_500,'month')"
   ]
  },
  {
   "cell_type": "code",
   "execution_count": 383,
   "id": "31f347d5",
   "metadata": {},
   "outputs": [
    {
     "data": {
      "text/plain": [
       "-0.039264876616004044"
      ]
     },
     "execution_count": 383,
     "metadata": {},
     "output_type": "execute_result"
    },
    {
     "data": {
      "image/png": "[encoded data removed]",
      "text/plain": [
       "<Figure size 576x432 with 1 Axes>"
      ]
     },
     "metadata": {
      "needs_background": "light"
     },
     "output_type": "display_data"
    }
   ],
   "source": [
    "plot_pivot(data_day_500,'year')\n",
    "corr_pivot(data_day_500,'year')"
   ]
  },
  {
   "cell_type": "markdown",
   "id": "68a1bf4a",
   "metadata": {},
   "source": [
    "Прямой зависимости стоимости от дня публикации нет. Объявления опубликованные в понедельник имееют самую высокую цену. Самые дешевые квартиры опубликованы в воскресенье, что вероятнее всего связано с тем,что число публикаций в воскресенье гораздо меньше, чем в понедельник.\\\n",
    "Месяц не имеет влияния на стоимость недвижимости.Дороже всего квартиры в сентябре и ноябре.\\\n",
    "С 2015 по 2016 год стоимость квартир падала, с 2016 по 2017 росла, далее целый год была стабильна и с 2018 года снова происходит сильный рост."
   ]
  },
  {
   "cell_type": "markdown",
   "id": "40267945",
   "metadata": {},
   "source": [
    "<div class=\"alert alert-success\"; style=\"border-left: 7px solid green\">\n",
    "<h3>✔ Комментарий ревьюера</h3>\n",
    "\n",
    "👍\n",
    "</div>    \n"
   ]
  },
  {
   "cell_type": "markdown",
   "id": "3b644de8",
   "metadata": {},
   "source": [
    "### Анализ топ - 10  населенных пунктов по количеству объявлений"
   ]
  },
  {
   "cell_type": "code",
   "execution_count": 384,
   "id": "addced0f",
   "metadata": {},
   "outputs": [
    {
     "data": {
      "text/html": [
       "<div>\n",
       "<style scoped>\n",
       "    .dataframe tbody tr th:only-of-type {\n",
       "        vertical-align: middle;\n",
       "    }\n",
       "\n",
       "    .dataframe tbody tr th {\n",
       "        vertical-align: top;\n",
       "    }\n",
       "\n",
       "    .dataframe thead th {\n",
       "        text-align: right;\n",
       "    }\n",
       "</style>\n",
       "<table border=\"1\" class=\"dataframe\">\n",
       "  <thead>\n",
       "    <tr style=\"text-align: right;\">\n",
       "      <th></th>\n",
       "      <th>mean_price_sq_m</th>\n",
       "      <th>count</th>\n",
       "    </tr>\n",
       "    <tr>\n",
       "      <th>locality_name</th>\n",
       "      <th></th>\n",
       "      <th></th>\n",
       "    </tr>\n",
       "  </thead>\n",
       "  <tbody>\n",
       "    <tr>\n",
       "      <th>Санкт-Петербург</th>\n",
       "      <td>112171.000483</td>\n",
       "      <td>12435</td>\n",
       "    </tr>\n",
       "    <tr>\n",
       "      <th>поселок Мурино</th>\n",
       "      <td>85843.115152</td>\n",
       "      <td>495</td>\n",
       "    </tr>\n",
       "    <tr>\n",
       "      <th>Кудрово</th>\n",
       "      <td>94881.770408</td>\n",
       "      <td>392</td>\n",
       "    </tr>\n",
       "    <tr>\n",
       "      <th>поселок Шушары</th>\n",
       "      <td>77908.541451</td>\n",
       "      <td>386</td>\n",
       "    </tr>\n",
       "    <tr>\n",
       "      <th>Всеволожск</th>\n",
       "      <td>68907.259016</td>\n",
       "      <td>305</td>\n",
       "    </tr>\n",
       "    <tr>\n",
       "      <th>Колпино</th>\n",
       "      <td>75090.786441</td>\n",
       "      <td>295</td>\n",
       "    </tr>\n",
       "    <tr>\n",
       "      <th>поселок Парголово</th>\n",
       "      <td>89803.073427</td>\n",
       "      <td>286</td>\n",
       "    </tr>\n",
       "    <tr>\n",
       "      <th>Пушкин</th>\n",
       "      <td>102188.195730</td>\n",
       "      <td>281</td>\n",
       "    </tr>\n",
       "    <tr>\n",
       "      <th>Гатчина</th>\n",
       "      <td>68394.287449</td>\n",
       "      <td>247</td>\n",
       "    </tr>\n",
       "    <tr>\n",
       "      <th>Выборг</th>\n",
       "      <td>57103.850515</td>\n",
       "      <td>194</td>\n",
       "    </tr>\n",
       "  </tbody>\n",
       "</table>\n",
       "</div>"
      ],
      "text/plain": [
       "                   mean_price_sq_m  count\n",
       "locality_name                            \n",
       "Санкт-Петербург      112171.000483  12435\n",
       "поселок Мурино        85843.115152    495\n",
       "Кудрово               94881.770408    392\n",
       "поселок Шушары        77908.541451    386\n",
       "Всеволожск            68907.259016    305\n",
       "Колпино               75090.786441    295\n",
       "поселок Парголово     89803.073427    286\n",
       "Пушкин               102188.195730    281\n",
       "Гатчина               68394.287449    247\n",
       "Выборг                57103.850515    194"
      ]
     },
     "execution_count": 384,
     "metadata": {},
     "output_type": "execute_result"
    }
   ],
   "source": [
    "data_top_10 = data_day_500.pivot_table(index='locality_name', values='price_per_square_meter', aggfunc=['mean','count'])\n",
    "data_top_10.columns = ['mean_price_sq_m','count']\n",
    "data_top_10 = data_top_10.sort_values(by='count',ascending=False)\n",
    "data_top_10.head(10)"
   ]
  },
  {
   "cell_type": "markdown",
   "id": "bb79a283",
   "metadata": {},
   "source": [
    "Cамой высокая стоимость квадратного метра в Санкт-Петербурге, а низкая в Выборге."
   ]
  },
  {
   "cell_type": "markdown",
   "id": "d4839dc5",
   "metadata": {},
   "source": [
    "Больше всего объявлений о продаже недвижимости в Санкт-Петербурге, остальные 9 населенных пунктов сильно уступают ему в количестве объявлений."
   ]
  },
  {
   "cell_type": "markdown",
   "id": "4e75d4e3",
   "metadata": {},
   "source": [
    "<div class=\"alert alert-success\"; style=\"border-left: 7px solid green\">\n",
    "<h3>✔ Комментарий ревьюера</h3>\n",
    "\n",
    "Минимум и максимум имелся в виду среди топ-10. Чтобы были репрезентативные группы. Т.е. Санкт-Петербург и ВЫборг\n",
    "</div>    \n"
   ]
  },
  {
   "cell_type": "markdown",
   "id": "1c64fc03",
   "metadata": {},
   "source": [
    "### Анализ удаленности от центра города на общую стоимость недвижимости"
   ]
  },
  {
   "cell_type": "code",
   "execution_count": 395,
   "id": "d23cad34",
   "metadata": {},
   "outputs": [
    {
     "name": "stderr",
     "output_type": "stream",
     "text": [
      "C:\\Users\\79879\\AppData\\Local\\Temp\\ipykernel_12552\\3086376821.py:2: SettingWithCopyWarning: \n",
      "A value is trying to be set on a copy of a slice from a DataFrame.\n",
      "Try using .loc[row_indexer,col_indexer] = value instead\n",
      "\n",
      "See the caveats in the documentation: https://pandas.pydata.org/pandas-docs/stable/user_guide/indexing.html#returning-a-view-versus-a-copy\n",
      "  data_Petersburg['cityCenters_nearest_km'] = data_Petersburg['cityCenters_nearest_km'].astype(int)\n"
     ]
    }
   ],
   "source": [
    "data_Petersburg = data_day_500.query('locality_name == \"Санкт-Петербург\" and cityCenters_nearest_km.isna() == False')\n",
    "data_Petersburg['cityCenters_nearest_km'] = data_Petersburg['cityCenters_nearest_km'].astype(int)"
   ]
  },
  {
   "cell_type": "code",
   "execution_count": 397,
   "id": "5dae9582",
   "metadata": {},
   "outputs": [
    {
     "data": {
      "image/png": "[encoded data removed]",
      "text/plain": [
       "<Figure size 576x432 with 1 Axes>"
      ]
     },
     "metadata": {
      "needs_background": "light"
     },
     "output_type": "display_data"
    },
    {
     "data": {
      "image/png": "[encoded data removed]",
      "text/plain": [
       "<Figure size 576x432 with 1 Axes>"
      ]
     },
     "metadata": {
      "needs_background": "light"
     },
     "output_type": "display_data"
    }
   ],
   "source": [
    "\n",
    "data_Petersburg = data_Petersburg.pivot_table(index='cityCenters_nearest_km', values='last_price',aggfunc='mean')\n",
    "data_Petersburg.plot(figsize=(8,6),grid=True)\n",
    "data_Petersburg.plot(kind='bar',y= 'last_price', figsize=(8,6),grid=True)\n",
    "plt.show()"
   ]
  },
  {
   "cell_type": "markdown",
   "id": "238a7d0d",
   "metadata": {},
   "source": [
    "Квартиры в самом центре дороже остальных. Далее с удаленностью до 3 км цена падает, в радиусе 3-6 км от центра снова наблюдается рост, после до 11 км спад и далее вплоть до 22 км небольшие отклонения ,но в целом стабильность в стоимости.Однако на расстоянии в 27 км от центра снова наблюдается резкий скачок.Цены на недвижимость в 24-26 км от центра ниже всего."
   ]
  },
  {
   "cell_type": "markdown",
   "id": "fa45fdde",
   "metadata": {},
   "source": [
    "<div class=\"alert alert-success\"; style=\"border-left: 7px solid green\">\n",
    "<h3>✔ Комментарий ревьюера</h3>\n",
    "\n",
    "Всё верно 👍 Можно сделать расстояние целым типом, удалив пропуски для графика, чтобы в подписях не было лишних нулей\n",
    "</div>    \n"
   ]
  },
  {
   "cell_type": "markdown",
   "id": "89e02eee",
   "metadata": {},
   "source": [
    "## 5. Вывод"
   ]
  },
  {
   "cell_type": "markdown",
   "id": "ce62be88",
   "metadata": {},
   "source": [
    "Рынок недвижимости в в Санкт-Петербурге и соседних населённых пунктах очень разнообразен.\n",
    " - Так что касается **общей площади** можно подобрать квартиру от 17 до 500 кв.м, встречатся даже такие единичные объекты, у которых площадь достигает 900 кв.м. Чаще всего встречаются квартиры площадью **50-60 кв.м.**\n",
    " - Аналогичная ситуация и в **жилой площади, и площади кухни**,поскольку они являются составляющей общей площади.Соответсвенно чаще встречаются жилплощади в **30 кв.м с кухнями в 9-10 кв.м.**\n",
    " - Ценовой диапазон так же огромен, но в среднем **стоимость недвижимости** колеблется в пределах **3-5 млн.руб.** \n",
    " - Количество комнат преимущественно у квартир от 1 до 3,чаще всего встречаются **однокомнтаные.**\n",
    " - У большинства объектов недвижимости **высота потолка** достигает **2,65 м.**\n",
    " - В основном продаются квартиры между первым и последним этажем, чаще всего на **2 этаже**. Преимущественно квартиры располагаются **в 5-и этажных домах**.\n",
    " - В 13 км от центра города и в 26 км от аэропорта число объявлений достигает максимума.\n",
    " - Объявления чаще всего публикуют со вторника по четверг, больше всего приходится на четверг, а вот по выходным объявления публикут гораздо реже.Что касается времени года, то больше всего публикаций приходится на февраль и чуть меньше на ноябрь.\n",
    " - Продают недвижимость по разному,какие-то объявления закрывают и в течение 45 дней, а какие-то публикуются годами, но всреднем **в течение полугода квартиры продаются.**\n",
    "### Что же влияет на стоимость недвижимости?\n",
    " - Исходя из данных наблюдается довольно сильная **зависимость стоимости от общей площади, а соответсвенно и жилой площади** , но это касается объектов с общей площадью **до 100 кв.м, жилой до 75 кв.м.** У недвижимости превышающей эти значения, площадь мало нвлияет на стоимость.Площадь кухни никак не отражается на общей стоимости.\n",
    " - Самая низкая стоимость у квартир на **первом этаже**.\n",
    " - Время публикации на стоимость не влияет.Но наблюдаются пики стоимости в октябре и ноябре, а так же рост цен с 2018 года.\n",
    " \n",
    " \n",
    "Больше всего объявлений публикуют в Санкт-Петербурге, остальные населенные пункты сильно уступают в числе публикаций.\n",
    "Самый дорогой квадратный метр у недвижимости в поселке Лисий Нос.Дешевле всего приобретать недвижимость в деревне Старополье, где за квадратный метр просят 11238 руб.\n",
    "Квартиры в самом центре дороже остальных.\n"
   ]
  },
  {
   "cell_type": "markdown",
   "id": "72204d2f",
   "metadata": {},
   "source": [
    "<div class=\"alert alert-success\"; style=\"border-left: 7px solid green\">\n",
    "<h3>✔ Комментарий ревьюера</h3>\n",
    "\n",
    "Хорошая работа 👍 Здорово, что важное выделено жирным</div>    \n"
   ]
  },
  {
   "cell_type": "code",
   "execution_count": null,
   "id": "e053c07c",
   "metadata": {},
   "outputs": [],
   "source": []
  }
 ],
 "metadata": {
  "ExecuteTimeLog": [
   {
    "duration": 966,
    "start_time": "2022-09-15T15:29:05.815Z"
   },
   {
    "duration": 43,
    "start_time": "2022-09-15T15:29:06.783Z"
   },
   {
    "duration": 4,
    "start_time": "2022-09-15T15:29:06.828Z"
   },
   {
    "duration": 6,
    "start_time": "2022-09-15T15:29:06.834Z"
   },
   {
    "duration": 21,
    "start_time": "2022-09-15T15:29:06.841Z"
   },
   {
    "duration": 2425,
    "start_time": "2022-09-15T15:29:06.864Z"
   },
   {
    "duration": 10,
    "start_time": "2022-09-15T15:29:09.290Z"
   },
   {
    "duration": 6,
    "start_time": "2022-09-15T15:29:09.301Z"
   },
   {
    "duration": 12,
    "start_time": "2022-09-15T15:29:09.309Z"
   },
   {
    "duration": 91,
    "start_time": "2022-09-15T15:29:09.323Z"
   },
   {
    "duration": 0,
    "start_time": "2022-09-15T15:29:09.417Z"
   },
   {
    "duration": 0,
    "start_time": "2022-09-15T15:29:09.419Z"
   },
   {
    "duration": 0,
    "start_time": "2022-09-15T15:29:09.420Z"
   },
   {
    "duration": 0,
    "start_time": "2022-09-15T15:29:09.421Z"
   },
   {
    "duration": 0,
    "start_time": "2022-09-15T15:29:09.422Z"
   },
   {
    "duration": 0,
    "start_time": "2022-09-15T15:29:09.423Z"
   },
   {
    "duration": 0,
    "start_time": "2022-09-15T15:29:09.424Z"
   },
   {
    "duration": 0,
    "start_time": "2022-09-15T15:29:09.425Z"
   },
   {
    "duration": 0,
    "start_time": "2022-09-15T15:29:09.426Z"
   },
   {
    "duration": 0,
    "start_time": "2022-09-15T15:29:09.427Z"
   },
   {
    "duration": 0,
    "start_time": "2022-09-15T15:29:09.428Z"
   },
   {
    "duration": 0,
    "start_time": "2022-09-15T15:29:09.429Z"
   },
   {
    "duration": 0,
    "start_time": "2022-09-15T15:29:09.430Z"
   },
   {
    "duration": 0,
    "start_time": "2022-09-15T15:29:09.431Z"
   },
   {
    "duration": 0,
    "start_time": "2022-09-15T15:29:09.432Z"
   },
   {
    "duration": 0,
    "start_time": "2022-09-15T15:29:09.433Z"
   },
   {
    "duration": 0,
    "start_time": "2022-09-15T15:29:09.434Z"
   },
   {
    "duration": 0,
    "start_time": "2022-09-15T15:29:09.435Z"
   },
   {
    "duration": 0,
    "start_time": "2022-09-15T15:29:09.436Z"
   },
   {
    "duration": 0,
    "start_time": "2022-09-15T15:29:09.437Z"
   },
   {
    "duration": 0,
    "start_time": "2022-09-15T15:29:09.439Z"
   },
   {
    "duration": 0,
    "start_time": "2022-09-15T15:29:09.440Z"
   },
   {
    "duration": 0,
    "start_time": "2022-09-15T15:29:09.441Z"
   },
   {
    "duration": 0,
    "start_time": "2022-09-15T15:29:09.441Z"
   },
   {
    "duration": 0,
    "start_time": "2022-09-15T15:29:09.442Z"
   },
   {
    "duration": 0,
    "start_time": "2022-09-15T15:29:09.443Z"
   },
   {
    "duration": 0,
    "start_time": "2022-09-15T15:29:09.489Z"
   },
   {
    "duration": 0,
    "start_time": "2022-09-15T15:29:09.491Z"
   },
   {
    "duration": 0,
    "start_time": "2022-09-15T15:29:09.492Z"
   },
   {
    "duration": 0,
    "start_time": "2022-09-15T15:29:09.493Z"
   },
   {
    "duration": 0,
    "start_time": "2022-09-15T15:29:09.494Z"
   },
   {
    "duration": 0,
    "start_time": "2022-09-15T15:29:09.495Z"
   },
   {
    "duration": 0,
    "start_time": "2022-09-15T15:29:09.497Z"
   },
   {
    "duration": 0,
    "start_time": "2022-09-15T15:29:09.498Z"
   },
   {
    "duration": 0,
    "start_time": "2022-09-15T15:29:09.500Z"
   },
   {
    "duration": 0,
    "start_time": "2022-09-15T15:29:09.501Z"
   },
   {
    "duration": 0,
    "start_time": "2022-09-15T15:29:09.502Z"
   },
   {
    "duration": 0,
    "start_time": "2022-09-15T15:29:09.503Z"
   },
   {
    "duration": 0,
    "start_time": "2022-09-15T15:29:09.504Z"
   },
   {
    "duration": 0,
    "start_time": "2022-09-15T15:29:09.505Z"
   },
   {
    "duration": 0,
    "start_time": "2022-09-15T15:29:09.506Z"
   },
   {
    "duration": 0,
    "start_time": "2022-09-15T15:29:09.507Z"
   },
   {
    "duration": 0,
    "start_time": "2022-09-15T15:29:09.508Z"
   },
   {
    "duration": 0,
    "start_time": "2022-09-15T15:29:09.509Z"
   },
   {
    "duration": 0,
    "start_time": "2022-09-15T15:29:09.510Z"
   },
   {
    "duration": 0,
    "start_time": "2022-09-15T15:29:09.511Z"
   },
   {
    "duration": 0,
    "start_time": "2022-09-15T15:29:09.512Z"
   },
   {
    "duration": 0,
    "start_time": "2022-09-15T15:29:09.513Z"
   },
   {
    "duration": 0,
    "start_time": "2022-09-15T15:29:09.514Z"
   },
   {
    "duration": 0,
    "start_time": "2022-09-15T15:29:09.515Z"
   },
   {
    "duration": 0,
    "start_time": "2022-09-15T15:29:09.517Z"
   },
   {
    "duration": 0,
    "start_time": "2022-09-15T15:29:09.518Z"
   },
   {
    "duration": 0,
    "start_time": "2022-09-15T15:29:09.519Z"
   },
   {
    "duration": 0,
    "start_time": "2022-09-15T15:29:09.520Z"
   },
   {
    "duration": 0,
    "start_time": "2022-09-15T15:29:09.521Z"
   },
   {
    "duration": 0,
    "start_time": "2022-09-15T15:29:09.522Z"
   },
   {
    "duration": 0,
    "start_time": "2022-09-15T15:29:09.523Z"
   },
   {
    "duration": 0,
    "start_time": "2022-09-15T15:29:09.524Z"
   },
   {
    "duration": 0,
    "start_time": "2022-09-15T15:29:09.589Z"
   },
   {
    "duration": 0,
    "start_time": "2022-09-15T15:29:09.591Z"
   },
   {
    "duration": 0,
    "start_time": "2022-09-15T15:29:09.592Z"
   },
   {
    "duration": 0,
    "start_time": "2022-09-15T15:29:09.593Z"
   },
   {
    "duration": 0,
    "start_time": "2022-09-15T15:29:09.594Z"
   },
   {
    "duration": 0,
    "start_time": "2022-09-15T15:29:09.595Z"
   },
   {
    "duration": 0,
    "start_time": "2022-09-15T15:29:09.596Z"
   },
   {
    "duration": 0,
    "start_time": "2022-09-15T15:29:09.597Z"
   },
   {
    "duration": 0,
    "start_time": "2022-09-15T15:29:09.598Z"
   },
   {
    "duration": 0,
    "start_time": "2022-09-15T15:29:09.599Z"
   },
   {
    "duration": 0,
    "start_time": "2022-09-15T15:29:09.600Z"
   },
   {
    "duration": 0,
    "start_time": "2022-09-15T15:29:09.601Z"
   },
   {
    "duration": 0,
    "start_time": "2022-09-15T15:29:09.602Z"
   },
   {
    "duration": 0,
    "start_time": "2022-09-15T15:29:09.603Z"
   },
   {
    "duration": 0,
    "start_time": "2022-09-15T15:29:09.604Z"
   },
   {
    "duration": 0,
    "start_time": "2022-09-15T15:29:09.605Z"
   },
   {
    "duration": 0,
    "start_time": "2022-09-15T15:29:09.606Z"
   },
   {
    "duration": 0,
    "start_time": "2022-09-15T15:29:09.607Z"
   },
   {
    "duration": 0,
    "start_time": "2022-09-15T15:29:09.608Z"
   },
   {
    "duration": 0,
    "start_time": "2022-09-15T15:29:09.609Z"
   },
   {
    "duration": 0,
    "start_time": "2022-09-15T15:29:09.610Z"
   },
   {
    "duration": 0,
    "start_time": "2022-09-15T15:29:09.611Z"
   },
   {
    "duration": 0,
    "start_time": "2022-09-15T15:29:09.612Z"
   },
   {
    "duration": 0,
    "start_time": "2022-09-15T15:29:09.613Z"
   },
   {
    "duration": 0,
    "start_time": "2022-09-15T15:29:09.614Z"
   },
   {
    "duration": 0,
    "start_time": "2022-09-15T15:29:09.614Z"
   },
   {
    "duration": 0,
    "start_time": "2022-09-15T15:29:09.616Z"
   },
   {
    "duration": 0,
    "start_time": "2022-09-15T15:29:09.616Z"
   },
   {
    "duration": 0,
    "start_time": "2022-09-15T15:29:09.617Z"
   },
   {
    "duration": 0,
    "start_time": "2022-09-15T15:29:09.618Z"
   },
   {
    "duration": 0,
    "start_time": "2022-09-15T15:29:09.619Z"
   },
   {
    "duration": 0,
    "start_time": "2022-09-15T15:29:09.620Z"
   },
   {
    "duration": 0,
    "start_time": "2022-09-15T15:29:09.621Z"
   },
   {
    "duration": 0,
    "start_time": "2022-09-15T15:29:09.622Z"
   },
   {
    "duration": 0,
    "start_time": "2022-09-15T15:29:09.623Z"
   },
   {
    "duration": 0,
    "start_time": "2022-09-15T15:29:09.689Z"
   },
   {
    "duration": 100,
    "start_time": "2022-09-15T15:29:50.640Z"
   },
   {
    "duration": 71,
    "start_time": "2022-09-15T15:29:50.742Z"
   },
   {
    "duration": 5,
    "start_time": "2022-09-15T15:29:50.815Z"
   },
   {
    "duration": 9,
    "start_time": "2022-09-15T15:29:50.823Z"
   },
   {
    "duration": 23,
    "start_time": "2022-09-15T15:29:50.834Z"
   },
   {
    "duration": 2503,
    "start_time": "2022-09-15T15:29:50.858Z"
   },
   {
    "duration": 15,
    "start_time": "2022-09-15T15:29:53.362Z"
   },
   {
    "duration": 11,
    "start_time": "2022-09-15T15:29:53.379Z"
   },
   {
    "duration": 34,
    "start_time": "2022-09-15T15:29:53.391Z"
   },
   {
    "duration": 15,
    "start_time": "2022-09-15T15:29:53.427Z"
   },
   {
    "duration": 16,
    "start_time": "2022-09-15T15:29:53.443Z"
   },
   {
    "duration": 21,
    "start_time": "2022-09-15T15:29:53.461Z"
   },
   {
    "duration": 15,
    "start_time": "2022-09-15T15:29:53.484Z"
   },
   {
    "duration": 29,
    "start_time": "2022-09-15T15:29:53.501Z"
   },
   {
    "duration": 0,
    "start_time": "2022-09-15T15:29:53.644Z"
   },
   {
    "duration": 0,
    "start_time": "2022-09-15T15:29:53.646Z"
   },
   {
    "duration": 0,
    "start_time": "2022-09-15T15:29:53.647Z"
   },
   {
    "duration": 0,
    "start_time": "2022-09-15T15:29:53.648Z"
   },
   {
    "duration": 0,
    "start_time": "2022-09-15T15:29:53.649Z"
   },
   {
    "duration": 0,
    "start_time": "2022-09-15T15:29:53.650Z"
   },
   {
    "duration": 0,
    "start_time": "2022-09-15T15:29:53.651Z"
   },
   {
    "duration": 0,
    "start_time": "2022-09-15T15:29:53.652Z"
   },
   {
    "duration": 0,
    "start_time": "2022-09-15T15:29:53.653Z"
   },
   {
    "duration": 0,
    "start_time": "2022-09-15T15:29:53.654Z"
   },
   {
    "duration": 0,
    "start_time": "2022-09-15T15:29:53.655Z"
   },
   {
    "duration": 0,
    "start_time": "2022-09-15T15:29:53.657Z"
   },
   {
    "duration": 0,
    "start_time": "2022-09-15T15:29:53.658Z"
   },
   {
    "duration": 1,
    "start_time": "2022-09-15T15:29:53.659Z"
   },
   {
    "duration": 0,
    "start_time": "2022-09-15T15:29:53.661Z"
   },
   {
    "duration": 0,
    "start_time": "2022-09-15T15:29:53.661Z"
   },
   {
    "duration": 0,
    "start_time": "2022-09-15T15:29:53.662Z"
   },
   {
    "duration": 0,
    "start_time": "2022-09-15T15:29:53.664Z"
   },
   {
    "duration": 0,
    "start_time": "2022-09-15T15:29:53.665Z"
   },
   {
    "duration": 0,
    "start_time": "2022-09-15T15:29:53.666Z"
   },
   {
    "duration": 0,
    "start_time": "2022-09-15T15:29:53.689Z"
   },
   {
    "duration": 0,
    "start_time": "2022-09-15T15:29:53.691Z"
   },
   {
    "duration": 0,
    "start_time": "2022-09-15T15:29:53.692Z"
   },
   {
    "duration": 0,
    "start_time": "2022-09-15T15:29:53.693Z"
   },
   {
    "duration": 0,
    "start_time": "2022-09-15T15:29:53.694Z"
   },
   {
    "duration": 0,
    "start_time": "2022-09-15T15:29:53.695Z"
   },
   {
    "duration": 0,
    "start_time": "2022-09-15T15:29:53.696Z"
   },
   {
    "duration": 0,
    "start_time": "2022-09-15T15:29:53.696Z"
   },
   {
    "duration": 0,
    "start_time": "2022-09-15T15:29:53.697Z"
   },
   {
    "duration": 0,
    "start_time": "2022-09-15T15:29:53.698Z"
   },
   {
    "duration": 0,
    "start_time": "2022-09-15T15:29:53.700Z"
   },
   {
    "duration": 0,
    "start_time": "2022-09-15T15:29:53.700Z"
   },
   {
    "duration": 0,
    "start_time": "2022-09-15T15:29:53.701Z"
   },
   {
    "duration": 0,
    "start_time": "2022-09-15T15:29:53.702Z"
   },
   {
    "duration": 0,
    "start_time": "2022-09-15T15:29:53.703Z"
   },
   {
    "duration": 0,
    "start_time": "2022-09-15T15:29:53.704Z"
   },
   {
    "duration": 0,
    "start_time": "2022-09-15T15:29:53.705Z"
   },
   {
    "duration": 0,
    "start_time": "2022-09-15T15:29:53.706Z"
   },
   {
    "duration": 0,
    "start_time": "2022-09-15T15:29:53.707Z"
   },
   {
    "duration": 0,
    "start_time": "2022-09-15T15:29:53.708Z"
   },
   {
    "duration": 0,
    "start_time": "2022-09-15T15:29:53.709Z"
   },
   {
    "duration": 0,
    "start_time": "2022-09-15T15:29:53.710Z"
   },
   {
    "duration": 0,
    "start_time": "2022-09-15T15:29:53.711Z"
   },
   {
    "duration": 0,
    "start_time": "2022-09-15T15:29:53.711Z"
   },
   {
    "duration": 0,
    "start_time": "2022-09-15T15:29:53.712Z"
   },
   {
    "duration": 0,
    "start_time": "2022-09-15T15:29:53.713Z"
   },
   {
    "duration": 0,
    "start_time": "2022-09-15T15:29:53.714Z"
   },
   {
    "duration": 0,
    "start_time": "2022-09-15T15:29:53.715Z"
   },
   {
    "duration": 0,
    "start_time": "2022-09-15T15:29:53.716Z"
   },
   {
    "duration": 0,
    "start_time": "2022-09-15T15:29:53.717Z"
   },
   {
    "duration": 0,
    "start_time": "2022-09-15T15:29:53.718Z"
   },
   {
    "duration": 0,
    "start_time": "2022-09-15T15:29:53.719Z"
   },
   {
    "duration": 0,
    "start_time": "2022-09-15T15:29:53.720Z"
   },
   {
    "duration": 0,
    "start_time": "2022-09-15T15:29:53.721Z"
   },
   {
    "duration": 0,
    "start_time": "2022-09-15T15:29:53.722Z"
   },
   {
    "duration": 0,
    "start_time": "2022-09-15T15:29:53.723Z"
   },
   {
    "duration": 0,
    "start_time": "2022-09-15T15:29:53.725Z"
   },
   {
    "duration": 0,
    "start_time": "2022-09-15T15:29:53.789Z"
   },
   {
    "duration": 0,
    "start_time": "2022-09-15T15:29:53.790Z"
   },
   {
    "duration": 0,
    "start_time": "2022-09-15T15:29:53.792Z"
   },
   {
    "duration": 0,
    "start_time": "2022-09-15T15:29:53.793Z"
   },
   {
    "duration": 0,
    "start_time": "2022-09-15T15:29:53.794Z"
   },
   {
    "duration": 0,
    "start_time": "2022-09-15T15:29:53.795Z"
   },
   {
    "duration": 0,
    "start_time": "2022-09-15T15:29:53.796Z"
   },
   {
    "duration": 0,
    "start_time": "2022-09-15T15:29:53.797Z"
   },
   {
    "duration": 0,
    "start_time": "2022-09-15T15:29:53.798Z"
   },
   {
    "duration": 0,
    "start_time": "2022-09-15T15:29:53.799Z"
   },
   {
    "duration": 0,
    "start_time": "2022-09-15T15:29:53.799Z"
   },
   {
    "duration": 0,
    "start_time": "2022-09-15T15:29:53.800Z"
   },
   {
    "duration": 0,
    "start_time": "2022-09-15T15:29:53.801Z"
   },
   {
    "duration": 0,
    "start_time": "2022-09-15T15:29:53.803Z"
   },
   {
    "duration": 0,
    "start_time": "2022-09-15T15:29:53.804Z"
   },
   {
    "duration": 0,
    "start_time": "2022-09-15T15:29:53.805Z"
   },
   {
    "duration": 0,
    "start_time": "2022-09-15T15:29:53.806Z"
   },
   {
    "duration": 0,
    "start_time": "2022-09-15T15:29:53.807Z"
   },
   {
    "duration": 0,
    "start_time": "2022-09-15T15:29:53.808Z"
   },
   {
    "duration": 0,
    "start_time": "2022-09-15T15:29:53.809Z"
   },
   {
    "duration": 0,
    "start_time": "2022-09-15T15:29:53.810Z"
   },
   {
    "duration": 0,
    "start_time": "2022-09-15T15:29:53.811Z"
   },
   {
    "duration": 0,
    "start_time": "2022-09-15T15:29:53.812Z"
   },
   {
    "duration": 0,
    "start_time": "2022-09-15T15:29:53.813Z"
   },
   {
    "duration": 0,
    "start_time": "2022-09-15T15:29:53.814Z"
   },
   {
    "duration": 0,
    "start_time": "2022-09-15T15:29:53.815Z"
   },
   {
    "duration": 0,
    "start_time": "2022-09-15T15:29:53.815Z"
   },
   {
    "duration": 0,
    "start_time": "2022-09-15T15:29:53.817Z"
   },
   {
    "duration": 0,
    "start_time": "2022-09-15T15:29:53.817Z"
   },
   {
    "duration": 0,
    "start_time": "2022-09-15T15:29:53.819Z"
   },
   {
    "duration": 0,
    "start_time": "2022-09-15T15:29:53.819Z"
   },
   {
    "duration": 0,
    "start_time": "2022-09-15T15:29:53.820Z"
   },
   {
    "duration": 0,
    "start_time": "2022-09-15T15:29:53.821Z"
   },
   {
    "duration": 0,
    "start_time": "2022-09-15T15:29:53.822Z"
   },
   {
    "duration": 10,
    "start_time": "2022-09-15T15:30:16.641Z"
   },
   {
    "duration": 98,
    "start_time": "2022-09-15T15:30:19.928Z"
   },
   {
    "duration": 40,
    "start_time": "2022-09-15T15:30:20.028Z"
   },
   {
    "duration": 5,
    "start_time": "2022-09-15T15:30:20.088Z"
   },
   {
    "duration": 8,
    "start_time": "2022-09-15T15:30:20.095Z"
   },
   {
    "duration": 17,
    "start_time": "2022-09-15T15:30:20.105Z"
   },
   {
    "duration": 2446,
    "start_time": "2022-09-15T15:30:20.123Z"
   },
   {
    "duration": 25,
    "start_time": "2022-09-15T15:30:22.572Z"
   },
   {
    "duration": 4,
    "start_time": "2022-09-15T15:30:22.599Z"
   },
   {
    "duration": 9,
    "start_time": "2022-09-15T15:30:22.605Z"
   },
   {
    "duration": 10,
    "start_time": "2022-09-15T15:30:22.616Z"
   },
   {
    "duration": 8,
    "start_time": "2022-09-15T15:30:22.627Z"
   },
   {
    "duration": 7,
    "start_time": "2022-09-15T15:30:22.637Z"
   },
   {
    "duration": 8,
    "start_time": "2022-09-15T15:30:22.646Z"
   },
   {
    "duration": 8,
    "start_time": "2022-09-15T15:30:22.657Z"
   },
   {
    "duration": 28,
    "start_time": "2022-09-15T15:30:22.667Z"
   },
   {
    "duration": 0,
    "start_time": "2022-09-15T15:30:22.698Z"
   },
   {
    "duration": 0,
    "start_time": "2022-09-15T15:30:22.699Z"
   },
   {
    "duration": 0,
    "start_time": "2022-09-15T15:30:22.700Z"
   },
   {
    "duration": 0,
    "start_time": "2022-09-15T15:30:22.701Z"
   },
   {
    "duration": 0,
    "start_time": "2022-09-15T15:30:22.703Z"
   },
   {
    "duration": 0,
    "start_time": "2022-09-15T15:30:22.704Z"
   },
   {
    "duration": 0,
    "start_time": "2022-09-15T15:30:22.705Z"
   },
   {
    "duration": 0,
    "start_time": "2022-09-15T15:30:22.706Z"
   },
   {
    "duration": 0,
    "start_time": "2022-09-15T15:30:22.707Z"
   },
   {
    "duration": 0,
    "start_time": "2022-09-15T15:30:22.708Z"
   },
   {
    "duration": 0,
    "start_time": "2022-09-15T15:30:22.709Z"
   },
   {
    "duration": 0,
    "start_time": "2022-09-15T15:30:22.710Z"
   },
   {
    "duration": 0,
    "start_time": "2022-09-15T15:30:22.711Z"
   },
   {
    "duration": 0,
    "start_time": "2022-09-15T15:30:22.712Z"
   },
   {
    "duration": 0,
    "start_time": "2022-09-15T15:30:22.713Z"
   },
   {
    "duration": 0,
    "start_time": "2022-09-15T15:30:22.714Z"
   },
   {
    "duration": 0,
    "start_time": "2022-09-15T15:30:22.716Z"
   },
   {
    "duration": 0,
    "start_time": "2022-09-15T15:30:22.717Z"
   },
   {
    "duration": 0,
    "start_time": "2022-09-15T15:30:22.718Z"
   },
   {
    "duration": 0,
    "start_time": "2022-09-15T15:30:22.719Z"
   },
   {
    "duration": 0,
    "start_time": "2022-09-15T15:30:22.720Z"
   },
   {
    "duration": 0,
    "start_time": "2022-09-15T15:30:22.722Z"
   },
   {
    "duration": 0,
    "start_time": "2022-09-15T15:30:22.722Z"
   },
   {
    "duration": 0,
    "start_time": "2022-09-15T15:30:22.724Z"
   },
   {
    "duration": 0,
    "start_time": "2022-09-15T15:30:22.725Z"
   },
   {
    "duration": 0,
    "start_time": "2022-09-15T15:30:22.726Z"
   },
   {
    "duration": 0,
    "start_time": "2022-09-15T15:30:22.727Z"
   },
   {
    "duration": 0,
    "start_time": "2022-09-15T15:30:22.729Z"
   },
   {
    "duration": 0,
    "start_time": "2022-09-15T15:30:22.729Z"
   },
   {
    "duration": 0,
    "start_time": "2022-09-15T15:30:22.731Z"
   },
   {
    "duration": 0,
    "start_time": "2022-09-15T15:30:22.789Z"
   },
   {
    "duration": 0,
    "start_time": "2022-09-15T15:30:22.791Z"
   },
   {
    "duration": 0,
    "start_time": "2022-09-15T15:30:22.792Z"
   },
   {
    "duration": 0,
    "start_time": "2022-09-15T15:30:22.793Z"
   },
   {
    "duration": 0,
    "start_time": "2022-09-15T15:30:22.794Z"
   },
   {
    "duration": 0,
    "start_time": "2022-09-15T15:30:22.796Z"
   },
   {
    "duration": 0,
    "start_time": "2022-09-15T15:30:22.797Z"
   },
   {
    "duration": 0,
    "start_time": "2022-09-15T15:30:22.798Z"
   },
   {
    "duration": 0,
    "start_time": "2022-09-15T15:30:22.800Z"
   },
   {
    "duration": 0,
    "start_time": "2022-09-15T15:30:22.801Z"
   },
   {
    "duration": 0,
    "start_time": "2022-09-15T15:30:22.803Z"
   },
   {
    "duration": 0,
    "start_time": "2022-09-15T15:30:22.804Z"
   },
   {
    "duration": 0,
    "start_time": "2022-09-15T15:30:22.806Z"
   },
   {
    "duration": 0,
    "start_time": "2022-09-15T15:30:22.807Z"
   },
   {
    "duration": 0,
    "start_time": "2022-09-15T15:30:22.808Z"
   },
   {
    "duration": 0,
    "start_time": "2022-09-15T15:30:22.809Z"
   },
   {
    "duration": 0,
    "start_time": "2022-09-15T15:30:22.810Z"
   },
   {
    "duration": 0,
    "start_time": "2022-09-15T15:30:22.811Z"
   },
   {
    "duration": 0,
    "start_time": "2022-09-15T15:30:22.813Z"
   },
   {
    "duration": 0,
    "start_time": "2022-09-15T15:30:22.814Z"
   },
   {
    "duration": 0,
    "start_time": "2022-09-15T15:30:22.816Z"
   },
   {
    "duration": 0,
    "start_time": "2022-09-15T15:30:22.817Z"
   },
   {
    "duration": 0,
    "start_time": "2022-09-15T15:30:22.818Z"
   },
   {
    "duration": 0,
    "start_time": "2022-09-15T15:30:22.819Z"
   },
   {
    "duration": 0,
    "start_time": "2022-09-15T15:30:22.820Z"
   },
   {
    "duration": 0,
    "start_time": "2022-09-15T15:30:22.821Z"
   },
   {
    "duration": 0,
    "start_time": "2022-09-15T15:30:22.823Z"
   },
   {
    "duration": 0,
    "start_time": "2022-09-15T15:30:22.825Z"
   },
   {
    "duration": 0,
    "start_time": "2022-09-15T15:30:22.826Z"
   },
   {
    "duration": 0,
    "start_time": "2022-09-15T15:30:22.889Z"
   },
   {
    "duration": 0,
    "start_time": "2022-09-15T15:30:22.891Z"
   },
   {
    "duration": 0,
    "start_time": "2022-09-15T15:30:22.893Z"
   },
   {
    "duration": 0,
    "start_time": "2022-09-15T15:30:22.894Z"
   },
   {
    "duration": 0,
    "start_time": "2022-09-15T15:30:22.896Z"
   },
   {
    "duration": 0,
    "start_time": "2022-09-15T15:30:22.897Z"
   },
   {
    "duration": 0,
    "start_time": "2022-09-15T15:30:22.899Z"
   },
   {
    "duration": 0,
    "start_time": "2022-09-15T15:30:22.900Z"
   },
   {
    "duration": 0,
    "start_time": "2022-09-15T15:30:22.902Z"
   },
   {
    "duration": 0,
    "start_time": "2022-09-15T15:30:22.903Z"
   },
   {
    "duration": 0,
    "start_time": "2022-09-15T15:30:22.905Z"
   },
   {
    "duration": 0,
    "start_time": "2022-09-15T15:30:22.906Z"
   },
   {
    "duration": 0,
    "start_time": "2022-09-15T15:30:22.908Z"
   },
   {
    "duration": 0,
    "start_time": "2022-09-15T15:30:22.909Z"
   },
   {
    "duration": 0,
    "start_time": "2022-09-15T15:30:22.910Z"
   },
   {
    "duration": 0,
    "start_time": "2022-09-15T15:30:22.912Z"
   },
   {
    "duration": 0,
    "start_time": "2022-09-15T15:30:22.913Z"
   },
   {
    "duration": 0,
    "start_time": "2022-09-15T15:30:22.915Z"
   },
   {
    "duration": 0,
    "start_time": "2022-09-15T15:30:22.916Z"
   },
   {
    "duration": 0,
    "start_time": "2022-09-15T15:30:22.918Z"
   },
   {
    "duration": 0,
    "start_time": "2022-09-15T15:30:22.919Z"
   },
   {
    "duration": 0,
    "start_time": "2022-09-15T15:30:22.920Z"
   },
   {
    "duration": 0,
    "start_time": "2022-09-15T15:30:22.921Z"
   },
   {
    "duration": 0,
    "start_time": "2022-09-15T15:30:22.922Z"
   },
   {
    "duration": 0,
    "start_time": "2022-09-15T15:30:22.924Z"
   },
   {
    "duration": 0,
    "start_time": "2022-09-15T15:30:22.925Z"
   },
   {
    "duration": 0,
    "start_time": "2022-09-15T15:30:22.926Z"
   },
   {
    "duration": 1,
    "start_time": "2022-09-15T15:30:22.989Z"
   },
   {
    "duration": 0,
    "start_time": "2022-09-15T15:30:22.991Z"
   },
   {
    "duration": 0,
    "start_time": "2022-09-15T15:30:22.992Z"
   },
   {
    "duration": 0,
    "start_time": "2022-09-15T15:30:22.993Z"
   },
   {
    "duration": 8,
    "start_time": "2022-09-15T15:30:35.252Z"
   },
   {
    "duration": 91,
    "start_time": "2022-09-15T15:30:37.257Z"
   },
   {
    "duration": 66,
    "start_time": "2022-09-15T15:30:37.350Z"
   },
   {
    "duration": 4,
    "start_time": "2022-09-15T15:30:37.417Z"
   },
   {
    "duration": 8,
    "start_time": "2022-09-15T15:30:37.423Z"
   },
   {
    "duration": 21,
    "start_time": "2022-09-15T15:30:37.433Z"
   },
   {
    "duration": 2678,
    "start_time": "2022-09-15T15:30:37.456Z"
   },
   {
    "duration": 15,
    "start_time": "2022-09-15T15:30:40.137Z"
   },
   {
    "duration": 15,
    "start_time": "2022-09-15T15:30:40.154Z"
   },
   {
    "duration": 34,
    "start_time": "2022-09-15T15:30:40.171Z"
   },
   {
    "duration": 28,
    "start_time": "2022-09-15T15:30:40.207Z"
   },
   {
    "duration": 33,
    "start_time": "2022-09-15T15:30:40.237Z"
   },
   {
    "duration": 42,
    "start_time": "2022-09-15T15:30:40.272Z"
   },
   {
    "duration": 35,
    "start_time": "2022-09-15T15:30:40.316Z"
   },
   {
    "duration": 42,
    "start_time": "2022-09-15T15:30:40.353Z"
   },
   {
    "duration": 47,
    "start_time": "2022-09-15T15:30:40.398Z"
   },
   {
    "duration": 19,
    "start_time": "2022-09-15T15:30:40.448Z"
   },
   {
    "duration": 68,
    "start_time": "2022-09-15T15:30:40.469Z"
   },
   {
    "duration": 12,
    "start_time": "2022-09-15T15:30:40.540Z"
   },
   {
    "duration": 103,
    "start_time": "2022-09-15T15:30:40.554Z"
   },
   {
    "duration": 0,
    "start_time": "2022-09-15T15:30:40.663Z"
   },
   {
    "duration": 0,
    "start_time": "2022-09-15T15:30:40.665Z"
   },
   {
    "duration": 0,
    "start_time": "2022-09-15T15:30:40.666Z"
   },
   {
    "duration": 0,
    "start_time": "2022-09-15T15:30:40.667Z"
   },
   {
    "duration": 0,
    "start_time": "2022-09-15T15:30:40.669Z"
   },
   {
    "duration": 0,
    "start_time": "2022-09-15T15:30:40.670Z"
   },
   {
    "duration": 0,
    "start_time": "2022-09-15T15:30:40.672Z"
   },
   {
    "duration": 0,
    "start_time": "2022-09-15T15:30:40.673Z"
   },
   {
    "duration": 0,
    "start_time": "2022-09-15T15:30:40.675Z"
   },
   {
    "duration": 0,
    "start_time": "2022-09-15T15:30:40.676Z"
   },
   {
    "duration": 0,
    "start_time": "2022-09-15T15:30:40.677Z"
   },
   {
    "duration": 0,
    "start_time": "2022-09-15T15:30:40.679Z"
   },
   {
    "duration": 0,
    "start_time": "2022-09-15T15:30:40.681Z"
   },
   {
    "duration": 0,
    "start_time": "2022-09-15T15:30:40.682Z"
   },
   {
    "duration": 0,
    "start_time": "2022-09-15T15:30:40.683Z"
   },
   {
    "duration": 0,
    "start_time": "2022-09-15T15:30:40.684Z"
   },
   {
    "duration": 0,
    "start_time": "2022-09-15T15:30:40.685Z"
   },
   {
    "duration": 0,
    "start_time": "2022-09-15T15:30:40.686Z"
   },
   {
    "duration": 0,
    "start_time": "2022-09-15T15:30:40.687Z"
   },
   {
    "duration": 0,
    "start_time": "2022-09-15T15:30:40.688Z"
   },
   {
    "duration": 0,
    "start_time": "2022-09-15T15:30:40.689Z"
   },
   {
    "duration": 0,
    "start_time": "2022-09-15T15:30:40.690Z"
   },
   {
    "duration": 0,
    "start_time": "2022-09-15T15:30:40.692Z"
   },
   {
    "duration": 0,
    "start_time": "2022-09-15T15:30:40.692Z"
   },
   {
    "duration": 0,
    "start_time": "2022-09-15T15:30:40.693Z"
   },
   {
    "duration": 0,
    "start_time": "2022-09-15T15:30:40.694Z"
   },
   {
    "duration": 0,
    "start_time": "2022-09-15T15:30:40.695Z"
   },
   {
    "duration": 0,
    "start_time": "2022-09-15T15:30:40.696Z"
   },
   {
    "duration": 0,
    "start_time": "2022-09-15T15:30:40.698Z"
   },
   {
    "duration": 0,
    "start_time": "2022-09-15T15:30:40.698Z"
   },
   {
    "duration": 0,
    "start_time": "2022-09-15T15:30:40.699Z"
   },
   {
    "duration": 0,
    "start_time": "2022-09-15T15:30:40.700Z"
   },
   {
    "duration": 0,
    "start_time": "2022-09-15T15:30:40.701Z"
   },
   {
    "duration": 0,
    "start_time": "2022-09-15T15:30:40.703Z"
   },
   {
    "duration": 0,
    "start_time": "2022-09-15T15:30:40.704Z"
   },
   {
    "duration": 0,
    "start_time": "2022-09-15T15:30:40.705Z"
   },
   {
    "duration": 0,
    "start_time": "2022-09-15T15:30:40.706Z"
   },
   {
    "duration": 0,
    "start_time": "2022-09-15T15:30:40.707Z"
   },
   {
    "duration": 0,
    "start_time": "2022-09-15T15:30:40.708Z"
   },
   {
    "duration": 0,
    "start_time": "2022-09-15T15:30:40.709Z"
   },
   {
    "duration": 0,
    "start_time": "2022-09-15T15:30:40.710Z"
   },
   {
    "duration": 0,
    "start_time": "2022-09-15T15:30:40.711Z"
   },
   {
    "duration": 0,
    "start_time": "2022-09-15T15:30:40.714Z"
   },
   {
    "duration": 0,
    "start_time": "2022-09-15T15:30:40.716Z"
   },
   {
    "duration": 0,
    "start_time": "2022-09-15T15:30:40.717Z"
   },
   {
    "duration": 0,
    "start_time": "2022-09-15T15:30:40.718Z"
   },
   {
    "duration": 0,
    "start_time": "2022-09-15T15:30:40.719Z"
   },
   {
    "duration": 0,
    "start_time": "2022-09-15T15:30:40.721Z"
   },
   {
    "duration": 0,
    "start_time": "2022-09-15T15:30:40.722Z"
   },
   {
    "duration": 0,
    "start_time": "2022-09-15T15:30:40.723Z"
   },
   {
    "duration": 0,
    "start_time": "2022-09-15T15:30:40.724Z"
   },
   {
    "duration": 0,
    "start_time": "2022-09-15T15:30:40.725Z"
   },
   {
    "duration": 0,
    "start_time": "2022-09-15T15:30:40.726Z"
   },
   {
    "duration": 0,
    "start_time": "2022-09-15T15:30:40.728Z"
   },
   {
    "duration": 0,
    "start_time": "2022-09-15T15:30:40.789Z"
   },
   {
    "duration": 0,
    "start_time": "2022-09-15T15:30:40.790Z"
   },
   {
    "duration": 0,
    "start_time": "2022-09-15T15:30:40.792Z"
   },
   {
    "duration": 0,
    "start_time": "2022-09-15T15:30:40.793Z"
   },
   {
    "duration": 0,
    "start_time": "2022-09-15T15:30:40.794Z"
   },
   {
    "duration": 0,
    "start_time": "2022-09-15T15:30:40.796Z"
   },
   {
    "duration": 0,
    "start_time": "2022-09-15T15:30:40.797Z"
   },
   {
    "duration": 0,
    "start_time": "2022-09-15T15:30:40.798Z"
   },
   {
    "duration": 0,
    "start_time": "2022-09-15T15:30:40.799Z"
   },
   {
    "duration": 0,
    "start_time": "2022-09-15T15:30:40.801Z"
   },
   {
    "duration": 0,
    "start_time": "2022-09-15T15:30:40.806Z"
   },
   {
    "duration": 0,
    "start_time": "2022-09-15T15:30:40.808Z"
   },
   {
    "duration": 0,
    "start_time": "2022-09-15T15:30:40.810Z"
   },
   {
    "duration": 1,
    "start_time": "2022-09-15T15:30:40.811Z"
   },
   {
    "duration": 0,
    "start_time": "2022-09-15T15:30:40.813Z"
   },
   {
    "duration": 0,
    "start_time": "2022-09-15T15:30:40.814Z"
   },
   {
    "duration": 0,
    "start_time": "2022-09-15T15:30:40.815Z"
   },
   {
    "duration": 0,
    "start_time": "2022-09-15T15:30:40.816Z"
   },
   {
    "duration": 0,
    "start_time": "2022-09-15T15:30:40.817Z"
   },
   {
    "duration": 0,
    "start_time": "2022-09-15T15:30:40.819Z"
   },
   {
    "duration": 0,
    "start_time": "2022-09-15T15:30:40.820Z"
   },
   {
    "duration": 0,
    "start_time": "2022-09-15T15:30:40.822Z"
   },
   {
    "duration": 0,
    "start_time": "2022-09-15T15:30:40.824Z"
   },
   {
    "duration": 0,
    "start_time": "2022-09-15T15:30:40.825Z"
   },
   {
    "duration": 0,
    "start_time": "2022-09-15T15:30:40.827Z"
   },
   {
    "duration": 0,
    "start_time": "2022-09-15T15:30:40.889Z"
   },
   {
    "duration": 0,
    "start_time": "2022-09-15T15:30:40.890Z"
   },
   {
    "duration": 0,
    "start_time": "2022-09-15T15:30:40.891Z"
   },
   {
    "duration": 0,
    "start_time": "2022-09-15T15:30:40.892Z"
   },
   {
    "duration": 0,
    "start_time": "2022-09-15T15:30:40.894Z"
   },
   {
    "duration": 0,
    "start_time": "2022-09-15T15:30:40.895Z"
   },
   {
    "duration": 0,
    "start_time": "2022-09-15T15:30:40.896Z"
   },
   {
    "duration": 64,
    "start_time": "2022-09-15T15:30:51.393Z"
   },
   {
    "duration": 61,
    "start_time": "2022-09-15T15:31:30.443Z"
   },
   {
    "duration": 105,
    "start_time": "2022-09-15T15:31:51.825Z"
   },
   {
    "duration": 77,
    "start_time": "2022-09-15T15:31:51.932Z"
   },
   {
    "duration": 7,
    "start_time": "2022-09-15T15:31:52.012Z"
   },
   {
    "duration": 6,
    "start_time": "2022-09-15T15:31:52.022Z"
   },
   {
    "duration": 25,
    "start_time": "2022-09-15T15:31:52.030Z"
   },
   {
    "duration": 3283,
    "start_time": "2022-09-15T15:31:52.056Z"
   },
   {
    "duration": 11,
    "start_time": "2022-09-15T15:31:55.341Z"
   },
   {
    "duration": 5,
    "start_time": "2022-09-15T15:31:55.354Z"
   },
   {
    "duration": 16,
    "start_time": "2022-09-15T15:31:55.361Z"
   },
   {
    "duration": 9,
    "start_time": "2022-09-15T15:31:55.388Z"
   },
   {
    "duration": 19,
    "start_time": "2022-09-15T15:31:55.398Z"
   },
   {
    "duration": 16,
    "start_time": "2022-09-15T15:31:55.419Z"
   },
   {
    "duration": 6,
    "start_time": "2022-09-15T15:31:55.437Z"
   },
   {
    "duration": 15,
    "start_time": "2022-09-15T15:31:55.444Z"
   },
   {
    "duration": 7,
    "start_time": "2022-09-15T15:31:55.461Z"
   },
   {
    "duration": 11,
    "start_time": "2022-09-15T15:31:55.470Z"
   },
   {
    "duration": 29,
    "start_time": "2022-09-15T15:31:55.488Z"
   },
   {
    "duration": 8,
    "start_time": "2022-09-15T15:31:55.519Z"
   },
   {
    "duration": 79,
    "start_time": "2022-09-15T15:31:55.529Z"
   },
   {
    "duration": 4,
    "start_time": "2022-09-15T15:31:55.610Z"
   },
   {
    "duration": 15,
    "start_time": "2022-09-15T15:31:55.616Z"
   },
   {
    "duration": 18,
    "start_time": "2022-09-15T15:31:55.633Z"
   },
   {
    "duration": 82,
    "start_time": "2022-09-15T15:31:55.653Z"
   },
   {
    "duration": 0,
    "start_time": "2022-09-15T15:31:55.740Z"
   },
   {
    "duration": 0,
    "start_time": "2022-09-15T15:31:55.741Z"
   },
   {
    "duration": 0,
    "start_time": "2022-09-15T15:31:55.742Z"
   },
   {
    "duration": 0,
    "start_time": "2022-09-15T15:31:55.744Z"
   },
   {
    "duration": 0,
    "start_time": "2022-09-15T15:31:55.745Z"
   },
   {
    "duration": 0,
    "start_time": "2022-09-15T15:31:55.746Z"
   },
   {
    "duration": 0,
    "start_time": "2022-09-15T15:31:55.747Z"
   },
   {
    "duration": 0,
    "start_time": "2022-09-15T15:31:55.748Z"
   },
   {
    "duration": 0,
    "start_time": "2022-09-15T15:31:55.750Z"
   },
   {
    "duration": 0,
    "start_time": "2022-09-15T15:31:55.752Z"
   },
   {
    "duration": 0,
    "start_time": "2022-09-15T15:31:55.753Z"
   },
   {
    "duration": 0,
    "start_time": "2022-09-15T15:31:55.754Z"
   },
   {
    "duration": 0,
    "start_time": "2022-09-15T15:31:55.755Z"
   },
   {
    "duration": 0,
    "start_time": "2022-09-15T15:31:55.756Z"
   },
   {
    "duration": 0,
    "start_time": "2022-09-15T15:31:55.759Z"
   },
   {
    "duration": 0,
    "start_time": "2022-09-15T15:31:55.760Z"
   },
   {
    "duration": 0,
    "start_time": "2022-09-15T15:31:55.761Z"
   },
   {
    "duration": 0,
    "start_time": "2022-09-15T15:31:55.762Z"
   },
   {
    "duration": 0,
    "start_time": "2022-09-15T15:31:55.765Z"
   },
   {
    "duration": 0,
    "start_time": "2022-09-15T15:31:55.767Z"
   },
   {
    "duration": 0,
    "start_time": "2022-09-15T15:31:55.768Z"
   },
   {
    "duration": 0,
    "start_time": "2022-09-15T15:31:55.769Z"
   },
   {
    "duration": 0,
    "start_time": "2022-09-15T15:31:55.771Z"
   },
   {
    "duration": 0,
    "start_time": "2022-09-15T15:31:55.772Z"
   },
   {
    "duration": 0,
    "start_time": "2022-09-15T15:31:55.773Z"
   },
   {
    "duration": 0,
    "start_time": "2022-09-15T15:31:55.775Z"
   },
   {
    "duration": 0,
    "start_time": "2022-09-15T15:31:55.790Z"
   },
   {
    "duration": 0,
    "start_time": "2022-09-15T15:31:55.791Z"
   },
   {
    "duration": 0,
    "start_time": "2022-09-15T15:31:55.792Z"
   },
   {
    "duration": 0,
    "start_time": "2022-09-15T15:31:55.793Z"
   },
   {
    "duration": 0,
    "start_time": "2022-09-15T15:31:55.795Z"
   },
   {
    "duration": 0,
    "start_time": "2022-09-15T15:31:55.795Z"
   },
   {
    "duration": 0,
    "start_time": "2022-09-15T15:31:55.797Z"
   },
   {
    "duration": 0,
    "start_time": "2022-09-15T15:31:55.798Z"
   },
   {
    "duration": 0,
    "start_time": "2022-09-15T15:31:55.799Z"
   },
   {
    "duration": 0,
    "start_time": "2022-09-15T15:31:55.800Z"
   },
   {
    "duration": 0,
    "start_time": "2022-09-15T15:31:55.801Z"
   },
   {
    "duration": 0,
    "start_time": "2022-09-15T15:31:55.803Z"
   },
   {
    "duration": 0,
    "start_time": "2022-09-15T15:31:55.804Z"
   },
   {
    "duration": 0,
    "start_time": "2022-09-15T15:31:55.805Z"
   },
   {
    "duration": 0,
    "start_time": "2022-09-15T15:31:55.806Z"
   },
   {
    "duration": 0,
    "start_time": "2022-09-15T15:31:55.807Z"
   },
   {
    "duration": 0,
    "start_time": "2022-09-15T15:31:55.809Z"
   },
   {
    "duration": 0,
    "start_time": "2022-09-15T15:31:55.810Z"
   },
   {
    "duration": 0,
    "start_time": "2022-09-15T15:31:55.811Z"
   },
   {
    "duration": 0,
    "start_time": "2022-09-15T15:31:55.813Z"
   },
   {
    "duration": 0,
    "start_time": "2022-09-15T15:31:55.815Z"
   },
   {
    "duration": 0,
    "start_time": "2022-09-15T15:31:55.816Z"
   },
   {
    "duration": 0,
    "start_time": "2022-09-15T15:31:55.818Z"
   },
   {
    "duration": 0,
    "start_time": "2022-09-15T15:31:55.819Z"
   },
   {
    "duration": 0,
    "start_time": "2022-09-15T15:31:55.821Z"
   },
   {
    "duration": 0,
    "start_time": "2022-09-15T15:31:55.822Z"
   },
   {
    "duration": 0,
    "start_time": "2022-09-15T15:31:55.824Z"
   },
   {
    "duration": 0,
    "start_time": "2022-09-15T15:31:55.827Z"
   },
   {
    "duration": 0,
    "start_time": "2022-09-15T15:31:55.828Z"
   },
   {
    "duration": 0,
    "start_time": "2022-09-15T15:31:55.829Z"
   },
   {
    "duration": 0,
    "start_time": "2022-09-15T15:31:55.830Z"
   },
   {
    "duration": 0,
    "start_time": "2022-09-15T15:31:55.830Z"
   },
   {
    "duration": 0,
    "start_time": "2022-09-15T15:31:55.831Z"
   },
   {
    "duration": 0,
    "start_time": "2022-09-15T15:31:55.889Z"
   },
   {
    "duration": 0,
    "start_time": "2022-09-15T15:31:55.890Z"
   },
   {
    "duration": 0,
    "start_time": "2022-09-15T15:31:55.892Z"
   },
   {
    "duration": 0,
    "start_time": "2022-09-15T15:31:55.893Z"
   },
   {
    "duration": 0,
    "start_time": "2022-09-15T15:31:55.894Z"
   },
   {
    "duration": 0,
    "start_time": "2022-09-15T15:31:55.895Z"
   },
   {
    "duration": 1,
    "start_time": "2022-09-15T15:31:55.896Z"
   },
   {
    "duration": 0,
    "start_time": "2022-09-15T15:31:55.897Z"
   },
   {
    "duration": 0,
    "start_time": "2022-09-15T15:31:55.898Z"
   },
   {
    "duration": 0,
    "start_time": "2022-09-15T15:31:55.899Z"
   },
   {
    "duration": 0,
    "start_time": "2022-09-15T15:31:55.900Z"
   },
   {
    "duration": 0,
    "start_time": "2022-09-15T15:31:55.901Z"
   },
   {
    "duration": 0,
    "start_time": "2022-09-15T15:31:55.902Z"
   },
   {
    "duration": 0,
    "start_time": "2022-09-15T15:31:55.903Z"
   },
   {
    "duration": 0,
    "start_time": "2022-09-15T15:31:55.904Z"
   },
   {
    "duration": 0,
    "start_time": "2022-09-15T15:31:55.905Z"
   },
   {
    "duration": 0,
    "start_time": "2022-09-15T15:31:55.906Z"
   },
   {
    "duration": 0,
    "start_time": "2022-09-15T15:31:55.907Z"
   },
   {
    "duration": 0,
    "start_time": "2022-09-15T15:31:55.909Z"
   },
   {
    "duration": 0,
    "start_time": "2022-09-15T15:31:55.909Z"
   },
   {
    "duration": 0,
    "start_time": "2022-09-15T15:31:55.910Z"
   },
   {
    "duration": 0,
    "start_time": "2022-09-15T15:31:55.912Z"
   },
   {
    "duration": 0,
    "start_time": "2022-09-15T15:31:55.913Z"
   },
   {
    "duration": 3,
    "start_time": "2022-09-15T15:33:32.161Z"
   },
   {
    "duration": 8012,
    "start_time": "2022-09-15T15:34:05.467Z"
   },
   {
    "duration": 7,
    "start_time": "2022-09-15T15:35:15.205Z"
   },
   {
    "duration": 12,
    "start_time": "2022-09-15T15:35:15.214Z"
   },
   {
    "duration": 6,
    "start_time": "2022-09-15T15:35:15.227Z"
   },
   {
    "duration": 62,
    "start_time": "2022-09-15T15:35:15.234Z"
   },
   {
    "duration": 4,
    "start_time": "2022-09-15T15:35:15.298Z"
   },
   {
    "duration": 16,
    "start_time": "2022-09-15T15:35:15.303Z"
   },
   {
    "duration": 5,
    "start_time": "2022-09-15T15:35:15.321Z"
   },
   {
    "duration": 15,
    "start_time": "2022-09-15T15:35:15.327Z"
   },
   {
    "duration": 262,
    "start_time": "2022-09-15T15:35:15.344Z"
   },
   {
    "duration": 5,
    "start_time": "2022-09-15T15:35:15.608Z"
   },
   {
    "duration": 16,
    "start_time": "2022-09-15T15:35:15.614Z"
   },
   {
    "duration": 25,
    "start_time": "2022-09-15T15:35:15.631Z"
   },
   {
    "duration": 7,
    "start_time": "2022-09-15T15:35:15.658Z"
   },
   {
    "duration": 19,
    "start_time": "2022-09-15T15:35:15.668Z"
   },
   {
    "duration": 5,
    "start_time": "2022-09-15T15:35:15.688Z"
   },
   {
    "duration": 27,
    "start_time": "2022-09-15T15:35:15.694Z"
   },
   {
    "duration": 6,
    "start_time": "2022-09-15T15:35:15.722Z"
   },
   {
    "duration": 5,
    "start_time": "2022-09-15T15:35:15.729Z"
   },
   {
    "duration": 5,
    "start_time": "2022-09-15T15:35:15.736Z"
   },
   {
    "duration": 7,
    "start_time": "2022-09-15T15:35:15.742Z"
   },
   {
    "duration": 9,
    "start_time": "2022-09-15T15:35:15.751Z"
   },
   {
    "duration": 3,
    "start_time": "2022-09-15T15:35:15.762Z"
   },
   {
    "duration": 7,
    "start_time": "2022-09-15T15:35:15.766Z"
   },
   {
    "duration": 5,
    "start_time": "2022-09-15T15:35:15.774Z"
   },
   {
    "duration": 28,
    "start_time": "2022-09-15T15:35:15.780Z"
   },
   {
    "duration": 5,
    "start_time": "2022-09-15T15:35:15.809Z"
   },
   {
    "duration": 4,
    "start_time": "2022-09-15T15:35:15.816Z"
   },
   {
    "duration": 5,
    "start_time": "2022-09-15T15:35:15.822Z"
   },
   {
    "duration": 11,
    "start_time": "2022-09-15T15:35:15.829Z"
   },
   {
    "duration": 28,
    "start_time": "2022-09-15T15:35:15.841Z"
   },
   {
    "duration": 35,
    "start_time": "2022-09-15T15:35:15.871Z"
   },
   {
    "duration": 4,
    "start_time": "2022-09-15T15:35:15.908Z"
   },
   {
    "duration": 7,
    "start_time": "2022-09-15T15:35:15.913Z"
   },
   {
    "duration": 4,
    "start_time": "2022-09-15T15:35:15.921Z"
   },
   {
    "duration": 7,
    "start_time": "2022-09-15T15:35:15.927Z"
   },
   {
    "duration": 11,
    "start_time": "2022-09-15T15:35:15.935Z"
   },
   {
    "duration": 46,
    "start_time": "2022-09-15T15:35:15.948Z"
   },
   {
    "duration": 8,
    "start_time": "2022-09-15T15:35:15.995Z"
   },
   {
    "duration": 29,
    "start_time": "2022-09-15T15:35:16.005Z"
   },
   {
    "duration": 11,
    "start_time": "2022-09-15T15:35:16.089Z"
   },
   {
    "duration": 4,
    "start_time": "2022-09-15T15:35:16.104Z"
   },
   {
    "duration": 80,
    "start_time": "2022-09-15T15:35:16.110Z"
   },
   {
    "duration": 3,
    "start_time": "2022-09-15T15:35:16.192Z"
   },
   {
    "duration": 437,
    "start_time": "2022-09-15T15:35:16.197Z"
   },
   {
    "duration": 56,
    "start_time": "2022-09-15T15:35:16.635Z"
   },
   {
    "duration": 22,
    "start_time": "2022-09-15T15:35:16.693Z"
   },
   {
    "duration": 399,
    "start_time": "2022-09-15T15:35:16.716Z"
   },
   {
    "duration": 9,
    "start_time": "2022-09-15T15:35:17.117Z"
   },
   {
    "duration": 680,
    "start_time": "2022-09-15T15:35:17.128Z"
   },
   {
    "duration": 392,
    "start_time": "2022-09-15T15:35:17.810Z"
   },
   {
    "duration": 503,
    "start_time": "2022-09-15T15:35:18.204Z"
   },
   {
    "duration": 398,
    "start_time": "2022-09-15T15:35:18.709Z"
   },
   {
    "duration": 319,
    "start_time": "2022-09-15T15:35:19.109Z"
   },
   {
    "duration": 388,
    "start_time": "2022-09-15T15:35:19.430Z"
   },
   {
    "duration": 251,
    "start_time": "2022-09-15T15:35:19.819Z"
   },
   {
    "duration": 133,
    "start_time": "2022-09-15T15:35:20.071Z"
   },
   {
    "duration": 184,
    "start_time": "2022-09-15T15:35:20.206Z"
   },
   {
    "duration": 167,
    "start_time": "2022-09-15T15:35:20.391Z"
   },
   {
    "duration": 260,
    "start_time": "2022-09-15T15:35:20.560Z"
   },
   {
    "duration": 275,
    "start_time": "2022-09-15T15:35:20.822Z"
   },
   {
    "duration": 167,
    "start_time": "2022-09-15T15:35:21.098Z"
   },
   {
    "duration": 165,
    "start_time": "2022-09-15T15:35:21.267Z"
   },
   {
    "duration": 274,
    "start_time": "2022-09-15T15:35:21.434Z"
   },
   {
    "duration": 5,
    "start_time": "2022-09-15T15:35:21.710Z"
   },
   {
    "duration": 148,
    "start_time": "2022-09-15T15:35:21.716Z"
   },
   {
    "duration": 291,
    "start_time": "2022-09-15T15:35:21.866Z"
   },
   {
    "duration": 12,
    "start_time": "2022-09-15T15:35:22.159Z"
   },
   {
    "duration": 3,
    "start_time": "2022-09-15T15:35:22.173Z"
   },
   {
    "duration": 5,
    "start_time": "2022-09-15T15:35:22.177Z"
   },
   {
    "duration": 6,
    "start_time": "2022-09-15T15:35:22.184Z"
   },
   {
    "duration": 400,
    "start_time": "2022-09-15T15:35:22.191Z"
   },
   {
    "duration": 601,
    "start_time": "2022-09-15T15:35:22.593Z"
   },
   {
    "duration": 386,
    "start_time": "2022-09-15T15:35:23.196Z"
   },
   {
    "duration": 153,
    "start_time": "2022-09-15T15:35:23.588Z"
   },
   {
    "duration": 155,
    "start_time": "2022-09-15T15:35:23.743Z"
   },
   {
    "duration": 152,
    "start_time": "2022-09-15T15:35:23.900Z"
   },
   {
    "duration": 162,
    "start_time": "2022-09-15T15:35:24.054Z"
   },
   {
    "duration": 162,
    "start_time": "2022-09-15T15:35:24.218Z"
   },
   {
    "duration": 29,
    "start_time": "2022-09-15T15:35:24.382Z"
   },
   {
    "duration": 8,
    "start_time": "2022-09-15T15:35:24.413Z"
   },
   {
    "duration": 11,
    "start_time": "2022-09-15T15:35:24.422Z"
   },
   {
    "duration": 459,
    "start_time": "2022-09-15T15:35:24.434Z"
   },
   {
    "duration": 8,
    "start_time": "2022-09-15T15:38:27.585Z"
   },
   {
    "duration": 8,
    "start_time": "2022-09-15T15:38:46.936Z"
   },
   {
    "duration": 8,
    "start_time": "2022-09-15T15:38:59.943Z"
   },
   {
    "duration": 119,
    "start_time": "2022-09-15T15:39:04.334Z"
   },
   {
    "duration": 6,
    "start_time": "2022-09-15T15:39:05.486Z"
   },
   {
    "duration": 180,
    "start_time": "2022-09-15T15:44:52.761Z"
   },
   {
    "duration": 208,
    "start_time": "2022-09-15T15:44:57.837Z"
   },
   {
    "duration": 295,
    "start_time": "2022-09-15T15:45:23.421Z"
   },
   {
    "duration": 231,
    "start_time": "2022-09-15T15:46:06.663Z"
   },
   {
    "duration": 289,
    "start_time": "2022-09-15T15:46:39.093Z"
   },
   {
    "duration": 230,
    "start_time": "2022-09-15T15:46:44.036Z"
   },
   {
    "duration": 208,
    "start_time": "2022-09-15T15:46:46.797Z"
   },
   {
    "duration": 221,
    "start_time": "2022-09-15T15:46:57.685Z"
   },
   {
    "duration": 237,
    "start_time": "2022-09-15T15:47:08.925Z"
   },
   {
    "duration": 314,
    "start_time": "2022-09-15T15:47:18.813Z"
   },
   {
    "duration": 289,
    "start_time": "2022-09-15T15:47:25.449Z"
   },
   {
    "duration": 261,
    "start_time": "2022-09-15T15:47:41.258Z"
   },
   {
    "duration": 153,
    "start_time": "2022-09-15T15:53:09.000Z"
   }
  ],
  "hide_input": false,
  "kernelspec": {
   "display_name": "Python 3 (ipykernel)",
   "language": "python",
   "name": "python3"
  },
  "language_info": {
   "codemirror_mode": {
    "name": "ipython",
    "version": 3
   },
   "file_extension": ".py",
   "mimetype": "text/x-python",
   "name": "python",
   "nbconvert_exporter": "python",
   "pygments_lexer": "ipython3",
   "version": "3.9.12"
  },
  "toc": {
   "base_numbering": 1,
   "nav_menu": {},
   "number_sections": true,
   "sideBar": true,
   "skip_h1_title": true,
   "title_cell": "Table of Contents",
   "title_sidebar": "Contents",
   "toc_cell": false,
   "toc_position": {},
   "toc_section_display": true,
   "toc_window_display": false
  }
 },
 "nbformat": 4,
 "nbformat_minor": 5
}
