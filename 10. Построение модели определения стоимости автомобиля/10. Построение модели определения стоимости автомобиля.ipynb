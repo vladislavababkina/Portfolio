{
 "cells": [
  {
   "cell_type": "markdown",
   "id": "f4c3cf38",
   "metadata": {},
   "source": [
    "Привет, Владислава!)\n",
    "<br> Меня зовут Дуолан 👋 Буду проверять твой проект. Давай вместе доведем его до идеала 😉\n",
    "<br> Дальнейшее общение будет происходить на «ты», если это не вызывает никаких проблем.\n",
    "<br> Желательно реагировать на каждый мой комментарий («исправил», «не понятно как исправить ошибку», ...)\n",
    "<br> Пожалуйста, не удаляй мои комментарии, они будут необходимы для повторного ревью.\n",
    "\n",
    "Комментарии будут в <font color='green'>зеленой</font>, <font color='blue'>синей</font> или <font color='red'>красной</font> рамках:\n",
    "\n",
    "<div class=\"alert alert-block alert-success\">\n",
    "<b>✔️ Успех:</b> Если все сделано отлично\n",
    "</div>\n",
    "\n",
    "<div class=\"alert alert-block alert-warning\">\n",
    "<b>⚠️ Совет:</b> Если можно немного улучшить\n",
    "</div>\n",
    "\n",
    "<div class=\"alert alert-block alert-danger\">\n",
    "<b>❌ Замечание:</b> Если требуются исправления\n",
    "</div>\n",
    "\n",
    "Работа не может быть принята с красными комментариями.\n",
    "\n",
    "-------------------\n",
    "\n",
    "Будет очень хорошо, если ты будешь помечать свои действия следующим образом:\n",
    "\n",
    "<div class=\"alert alert-block alert-info\">\n",
    "<b>Комментарий студента:</b> ...\n",
    "</div>\n",
    "\n",
    "<div class=\"alert alert-block alert-info\">\n",
    "<b>Изменения:</b> Были внесены следующие изменения ...\n",
    "</div>"
   ]
  },
  {
   "cell_type": "markdown",
   "id": "50397fb0",
   "metadata": {},
   "source": [
    "# Определение стоимости автомобилей"
   ]
  },
  {
   "cell_type": "markdown",
   "id": "94e1158e",
   "metadata": {},
   "source": [
    "Сервис по продаже автомобилей с пробегом «Не бит, не крашен» разрабатывает приложение для привлечения новых клиентов. В нём можно быстро узнать рыночную стоимость своего автомобиля. В вашем распоряжении исторические данные: технические характеристики, комплектации и цены автомобилей. Вам нужно построить модель для определения стоимости. \n",
    "\n",
    "Заказчику важны:\n",
    "\n",
    "- качество предсказания;\n",
    "- скорость предсказания;\n",
    "- время обучения."
   ]
  },
  {
   "cell_type": "markdown",
   "id": "6a25aeb0",
   "metadata": {},
   "source": [
    "## Подготовка данных"
   ]
  },
  {
   "cell_type": "code",
   "execution_count": 1,
   "id": "29899c5c",
   "metadata": {},
   "outputs": [],
   "source": [
    "import pandas as pd\n",
    "import numpy as np\n",
    "import catboost as cb\n",
    "import lightgbm as lgb\n",
    "import seaborn as sns\n",
    "import matplotlib.pyplot as plt\n",
    "from sklearn.model_selection import train_test_split, cross_val_score, GridSearchCV\n",
    "from lightgbm import LGBMRegressor\n",
    "from sklearn.ensemble import RandomForestRegressor\n",
    "from sklearn.linear_model import LinearRegression\n",
    "\n",
    "\n",
    "from phik.report import correlation_report, plot_correlation_matrix\n",
    "from skimpy import skim, clean_columns\n",
    "from sklearn.metrics import mean_squared_error\n",
    "from sklearn.preprocessing import OneHotEncoder, StandardScaler, OrdinalEncoder\n",
    "import time\n",
    "\n",
    "import warnings\n",
    "warnings.filterwarnings('ignore')"
   ]
  },
  {
   "cell_type": "markdown",
   "id": "c5c61f34",
   "metadata": {},
   "source": [
    "<div class=\"alert alert-block alert-success\">\n",
    "<b>✔️ Успех:</b>\n",
    "\n",
    "Импорт выглядит отлично 👍\n",
    "</div>"
   ]
  },
  {
   "cell_type": "code",
   "execution_count": 2,
   "id": "e615dc89",
   "metadata": {},
   "outputs": [],
   "source": [
    "try:\n",
    "    data = pd.read_csv('/datasets/autos.csv')\n",
    "except:\n",
    "    data = pd.read_csv('https://code.s3.yandex.net/datasets/autos.csv') "
   ]
  },
  {
   "cell_type": "code",
   "execution_count": 3,
   "id": "e0f4c0e8",
   "metadata": {},
   "outputs": [
    {
     "data": {
      "text/html": [
       "<div>\n",
       "<style scoped>\n",
       "    .dataframe tbody tr th:only-of-type {\n",
       "        vertical-align: middle;\n",
       "    }\n",
       "\n",
       "    .dataframe tbody tr th {\n",
       "        vertical-align: top;\n",
       "    }\n",
       "\n",
       "    .dataframe thead th {\n",
       "        text-align: right;\n",
       "    }\n",
       "</style>\n",
       "<table border=\"1\" class=\"dataframe\">\n",
       "  <thead>\n",
       "    <tr style=\"text-align: right;\">\n",
       "      <th></th>\n",
       "      <th>DateCrawled</th>\n",
       "      <th>Price</th>\n",
       "      <th>VehicleType</th>\n",
       "      <th>RegistrationYear</th>\n",
       "      <th>Gearbox</th>\n",
       "      <th>Power</th>\n",
       "      <th>Model</th>\n",
       "      <th>Kilometer</th>\n",
       "      <th>RegistrationMonth</th>\n",
       "      <th>FuelType</th>\n",
       "      <th>Brand</th>\n",
       "      <th>Repaired</th>\n",
       "      <th>DateCreated</th>\n",
       "      <th>NumberOfPictures</th>\n",
       "      <th>PostalCode</th>\n",
       "      <th>LastSeen</th>\n",
       "    </tr>\n",
       "  </thead>\n",
       "  <tbody>\n",
       "    <tr>\n",
       "      <th>0</th>\n",
       "      <td>2016-03-24 11:52:17</td>\n",
       "      <td>480</td>\n",
       "      <td>NaN</td>\n",
       "      <td>1993</td>\n",
       "      <td>manual</td>\n",
       "      <td>0</td>\n",
       "      <td>golf</td>\n",
       "      <td>150000</td>\n",
       "      <td>0</td>\n",
       "      <td>petrol</td>\n",
       "      <td>volkswagen</td>\n",
       "      <td>NaN</td>\n",
       "      <td>2016-03-24 00:00:00</td>\n",
       "      <td>0</td>\n",
       "      <td>70435</td>\n",
       "      <td>2016-04-07 03:16:57</td>\n",
       "    </tr>\n",
       "    <tr>\n",
       "      <th>1</th>\n",
       "      <td>2016-03-24 10:58:45</td>\n",
       "      <td>18300</td>\n",
       "      <td>coupe</td>\n",
       "      <td>2011</td>\n",
       "      <td>manual</td>\n",
       "      <td>190</td>\n",
       "      <td>NaN</td>\n",
       "      <td>125000</td>\n",
       "      <td>5</td>\n",
       "      <td>gasoline</td>\n",
       "      <td>audi</td>\n",
       "      <td>yes</td>\n",
       "      <td>2016-03-24 00:00:00</td>\n",
       "      <td>0</td>\n",
       "      <td>66954</td>\n",
       "      <td>2016-04-07 01:46:50</td>\n",
       "    </tr>\n",
       "    <tr>\n",
       "      <th>2</th>\n",
       "      <td>2016-03-14 12:52:21</td>\n",
       "      <td>9800</td>\n",
       "      <td>suv</td>\n",
       "      <td>2004</td>\n",
       "      <td>auto</td>\n",
       "      <td>163</td>\n",
       "      <td>grand</td>\n",
       "      <td>125000</td>\n",
       "      <td>8</td>\n",
       "      <td>gasoline</td>\n",
       "      <td>jeep</td>\n",
       "      <td>NaN</td>\n",
       "      <td>2016-03-14 00:00:00</td>\n",
       "      <td>0</td>\n",
       "      <td>90480</td>\n",
       "      <td>2016-04-05 12:47:46</td>\n",
       "    </tr>\n",
       "    <tr>\n",
       "      <th>3</th>\n",
       "      <td>2016-03-17 16:54:04</td>\n",
       "      <td>1500</td>\n",
       "      <td>small</td>\n",
       "      <td>2001</td>\n",
       "      <td>manual</td>\n",
       "      <td>75</td>\n",
       "      <td>golf</td>\n",
       "      <td>150000</td>\n",
       "      <td>6</td>\n",
       "      <td>petrol</td>\n",
       "      <td>volkswagen</td>\n",
       "      <td>no</td>\n",
       "      <td>2016-03-17 00:00:00</td>\n",
       "      <td>0</td>\n",
       "      <td>91074</td>\n",
       "      <td>2016-03-17 17:40:17</td>\n",
       "    </tr>\n",
       "    <tr>\n",
       "      <th>4</th>\n",
       "      <td>2016-03-31 17:25:20</td>\n",
       "      <td>3600</td>\n",
       "      <td>small</td>\n",
       "      <td>2008</td>\n",
       "      <td>manual</td>\n",
       "      <td>69</td>\n",
       "      <td>fabia</td>\n",
       "      <td>90000</td>\n",
       "      <td>7</td>\n",
       "      <td>gasoline</td>\n",
       "      <td>skoda</td>\n",
       "      <td>no</td>\n",
       "      <td>2016-03-31 00:00:00</td>\n",
       "      <td>0</td>\n",
       "      <td>60437</td>\n",
       "      <td>2016-04-06 10:17:21</td>\n",
       "    </tr>\n",
       "    <tr>\n",
       "      <th>5</th>\n",
       "      <td>2016-04-04 17:36:23</td>\n",
       "      <td>650</td>\n",
       "      <td>sedan</td>\n",
       "      <td>1995</td>\n",
       "      <td>manual</td>\n",
       "      <td>102</td>\n",
       "      <td>3er</td>\n",
       "      <td>150000</td>\n",
       "      <td>10</td>\n",
       "      <td>petrol</td>\n",
       "      <td>bmw</td>\n",
       "      <td>yes</td>\n",
       "      <td>2016-04-04 00:00:00</td>\n",
       "      <td>0</td>\n",
       "      <td>33775</td>\n",
       "      <td>2016-04-06 19:17:07</td>\n",
       "    </tr>\n",
       "    <tr>\n",
       "      <th>6</th>\n",
       "      <td>2016-04-01 20:48:51</td>\n",
       "      <td>2200</td>\n",
       "      <td>convertible</td>\n",
       "      <td>2004</td>\n",
       "      <td>manual</td>\n",
       "      <td>109</td>\n",
       "      <td>2_reihe</td>\n",
       "      <td>150000</td>\n",
       "      <td>8</td>\n",
       "      <td>petrol</td>\n",
       "      <td>peugeot</td>\n",
       "      <td>no</td>\n",
       "      <td>2016-04-01 00:00:00</td>\n",
       "      <td>0</td>\n",
       "      <td>67112</td>\n",
       "      <td>2016-04-05 18:18:39</td>\n",
       "    </tr>\n",
       "    <tr>\n",
       "      <th>7</th>\n",
       "      <td>2016-03-21 18:54:38</td>\n",
       "      <td>0</td>\n",
       "      <td>sedan</td>\n",
       "      <td>1980</td>\n",
       "      <td>manual</td>\n",
       "      <td>50</td>\n",
       "      <td>other</td>\n",
       "      <td>40000</td>\n",
       "      <td>7</td>\n",
       "      <td>petrol</td>\n",
       "      <td>volkswagen</td>\n",
       "      <td>no</td>\n",
       "      <td>2016-03-21 00:00:00</td>\n",
       "      <td>0</td>\n",
       "      <td>19348</td>\n",
       "      <td>2016-03-25 16:47:58</td>\n",
       "    </tr>\n",
       "    <tr>\n",
       "      <th>8</th>\n",
       "      <td>2016-04-04 23:42:13</td>\n",
       "      <td>14500</td>\n",
       "      <td>bus</td>\n",
       "      <td>2014</td>\n",
       "      <td>manual</td>\n",
       "      <td>125</td>\n",
       "      <td>c_max</td>\n",
       "      <td>30000</td>\n",
       "      <td>8</td>\n",
       "      <td>petrol</td>\n",
       "      <td>ford</td>\n",
       "      <td>NaN</td>\n",
       "      <td>2016-04-04 00:00:00</td>\n",
       "      <td>0</td>\n",
       "      <td>94505</td>\n",
       "      <td>2016-04-04 23:42:13</td>\n",
       "    </tr>\n",
       "    <tr>\n",
       "      <th>9</th>\n",
       "      <td>2016-03-17 10:53:50</td>\n",
       "      <td>999</td>\n",
       "      <td>small</td>\n",
       "      <td>1998</td>\n",
       "      <td>manual</td>\n",
       "      <td>101</td>\n",
       "      <td>golf</td>\n",
       "      <td>150000</td>\n",
       "      <td>0</td>\n",
       "      <td>NaN</td>\n",
       "      <td>volkswagen</td>\n",
       "      <td>NaN</td>\n",
       "      <td>2016-03-17 00:00:00</td>\n",
       "      <td>0</td>\n",
       "      <td>27472</td>\n",
       "      <td>2016-03-31 17:17:06</td>\n",
       "    </tr>\n",
       "  </tbody>\n",
       "</table>\n",
       "</div>"
      ],
      "text/plain": [
       "           DateCrawled  Price  VehicleType  RegistrationYear Gearbox  Power  \\\n",
       "0  2016-03-24 11:52:17    480          NaN              1993  manual      0   \n",
       "1  2016-03-24 10:58:45  18300        coupe              2011  manual    190   \n",
       "2  2016-03-14 12:52:21   9800          suv              2004    auto    163   \n",
       "3  2016-03-17 16:54:04   1500        small              2001  manual     75   \n",
       "4  2016-03-31 17:25:20   3600        small              2008  manual     69   \n",
       "5  2016-04-04 17:36:23    650        sedan              1995  manual    102   \n",
       "6  2016-04-01 20:48:51   2200  convertible              2004  manual    109   \n",
       "7  2016-03-21 18:54:38      0        sedan              1980  manual     50   \n",
       "8  2016-04-04 23:42:13  14500          bus              2014  manual    125   \n",
       "9  2016-03-17 10:53:50    999        small              1998  manual    101   \n",
       "\n",
       "     Model  Kilometer  RegistrationMonth  FuelType       Brand Repaired  \\\n",
       "0     golf     150000                  0    petrol  volkswagen      NaN   \n",
       "1      NaN     125000                  5  gasoline        audi      yes   \n",
       "2    grand     125000                  8  gasoline        jeep      NaN   \n",
       "3     golf     150000                  6    petrol  volkswagen       no   \n",
       "4    fabia      90000                  7  gasoline       skoda       no   \n",
       "5      3er     150000                 10    petrol         bmw      yes   \n",
       "6  2_reihe     150000                  8    petrol     peugeot       no   \n",
       "7    other      40000                  7    petrol  volkswagen       no   \n",
       "8    c_max      30000                  8    petrol        ford      NaN   \n",
       "9     golf     150000                  0       NaN  volkswagen      NaN   \n",
       "\n",
       "           DateCreated  NumberOfPictures  PostalCode             LastSeen  \n",
       "0  2016-03-24 00:00:00                 0       70435  2016-04-07 03:16:57  \n",
       "1  2016-03-24 00:00:00                 0       66954  2016-04-07 01:46:50  \n",
       "2  2016-03-14 00:00:00                 0       90480  2016-04-05 12:47:46  \n",
       "3  2016-03-17 00:00:00                 0       91074  2016-03-17 17:40:17  \n",
       "4  2016-03-31 00:00:00                 0       60437  2016-04-06 10:17:21  \n",
       "5  2016-04-04 00:00:00                 0       33775  2016-04-06 19:17:07  \n",
       "6  2016-04-01 00:00:00                 0       67112  2016-04-05 18:18:39  \n",
       "7  2016-03-21 00:00:00                 0       19348  2016-03-25 16:47:58  \n",
       "8  2016-04-04 00:00:00                 0       94505  2016-04-04 23:42:13  \n",
       "9  2016-03-17 00:00:00                 0       27472  2016-03-31 17:17:06  "
      ]
     },
     "execution_count": 3,
     "metadata": {},
     "output_type": "execute_result"
    }
   ],
   "source": [
    "data.head(10)"
   ]
  },
  {
   "cell_type": "code",
   "execution_count": 4,
   "id": "45829358",
   "metadata": {},
   "outputs": [
    {
     "name": "stdout",
     "output_type": "stream",
     "text": [
      "<class 'pandas.core.frame.DataFrame'>\n",
      "RangeIndex: 354369 entries, 0 to 354368\n",
      "Data columns (total 16 columns):\n",
      " #   Column             Non-Null Count   Dtype \n",
      "---  ------             --------------   ----- \n",
      " 0   DateCrawled        354369 non-null  object\n",
      " 1   Price              354369 non-null  int64 \n",
      " 2   VehicleType        316879 non-null  object\n",
      " 3   RegistrationYear   354369 non-null  int64 \n",
      " 4   Gearbox            334536 non-null  object\n",
      " 5   Power              354369 non-null  int64 \n",
      " 6   Model              334664 non-null  object\n",
      " 7   Kilometer          354369 non-null  int64 \n",
      " 8   RegistrationMonth  354369 non-null  int64 \n",
      " 9   FuelType           321474 non-null  object\n",
      " 10  Brand              354369 non-null  object\n",
      " 11  Repaired           283215 non-null  object\n",
      " 12  DateCreated        354369 non-null  object\n",
      " 13  NumberOfPictures   354369 non-null  int64 \n",
      " 14  PostalCode         354369 non-null  int64 \n",
      " 15  LastSeen           354369 non-null  object\n",
      "dtypes: int64(7), object(9)\n",
      "memory usage: 43.3+ MB\n"
     ]
    }
   ],
   "source": [
    "data.info()"
   ]
  },
  {
   "cell_type": "code",
   "execution_count": 5,
   "id": "4a8ab7a1",
   "metadata": {},
   "outputs": [
    {
     "data": {
      "text/html": [
       "<div>\n",
       "<style scoped>\n",
       "    .dataframe tbody tr th:only-of-type {\n",
       "        vertical-align: middle;\n",
       "    }\n",
       "\n",
       "    .dataframe tbody tr th {\n",
       "        vertical-align: top;\n",
       "    }\n",
       "\n",
       "    .dataframe thead th {\n",
       "        text-align: right;\n",
       "    }\n",
       "</style>\n",
       "<table border=\"1\" class=\"dataframe\">\n",
       "  <thead>\n",
       "    <tr style=\"text-align: right;\">\n",
       "      <th></th>\n",
       "      <th>Price</th>\n",
       "      <th>RegistrationYear</th>\n",
       "      <th>Power</th>\n",
       "      <th>Kilometer</th>\n",
       "      <th>RegistrationMonth</th>\n",
       "      <th>NumberOfPictures</th>\n",
       "      <th>PostalCode</th>\n",
       "    </tr>\n",
       "  </thead>\n",
       "  <tbody>\n",
       "    <tr>\n",
       "      <th>count</th>\n",
       "      <td>354369.000000</td>\n",
       "      <td>354369.000000</td>\n",
       "      <td>354369.000000</td>\n",
       "      <td>354369.000000</td>\n",
       "      <td>354369.000000</td>\n",
       "      <td>354369.0</td>\n",
       "      <td>354369.000000</td>\n",
       "    </tr>\n",
       "    <tr>\n",
       "      <th>mean</th>\n",
       "      <td>4416.656776</td>\n",
       "      <td>2004.234448</td>\n",
       "      <td>110.094337</td>\n",
       "      <td>128211.172535</td>\n",
       "      <td>5.714645</td>\n",
       "      <td>0.0</td>\n",
       "      <td>50508.689087</td>\n",
       "    </tr>\n",
       "    <tr>\n",
       "      <th>std</th>\n",
       "      <td>4514.158514</td>\n",
       "      <td>90.227958</td>\n",
       "      <td>189.850405</td>\n",
       "      <td>37905.341530</td>\n",
       "      <td>3.726421</td>\n",
       "      <td>0.0</td>\n",
       "      <td>25783.096248</td>\n",
       "    </tr>\n",
       "    <tr>\n",
       "      <th>min</th>\n",
       "      <td>0.000000</td>\n",
       "      <td>1000.000000</td>\n",
       "      <td>0.000000</td>\n",
       "      <td>5000.000000</td>\n",
       "      <td>0.000000</td>\n",
       "      <td>0.0</td>\n",
       "      <td>1067.000000</td>\n",
       "    </tr>\n",
       "    <tr>\n",
       "      <th>25%</th>\n",
       "      <td>1050.000000</td>\n",
       "      <td>1999.000000</td>\n",
       "      <td>69.000000</td>\n",
       "      <td>125000.000000</td>\n",
       "      <td>3.000000</td>\n",
       "      <td>0.0</td>\n",
       "      <td>30165.000000</td>\n",
       "    </tr>\n",
       "    <tr>\n",
       "      <th>50%</th>\n",
       "      <td>2700.000000</td>\n",
       "      <td>2003.000000</td>\n",
       "      <td>105.000000</td>\n",
       "      <td>150000.000000</td>\n",
       "      <td>6.000000</td>\n",
       "      <td>0.0</td>\n",
       "      <td>49413.000000</td>\n",
       "    </tr>\n",
       "    <tr>\n",
       "      <th>75%</th>\n",
       "      <td>6400.000000</td>\n",
       "      <td>2008.000000</td>\n",
       "      <td>143.000000</td>\n",
       "      <td>150000.000000</td>\n",
       "      <td>9.000000</td>\n",
       "      <td>0.0</td>\n",
       "      <td>71083.000000</td>\n",
       "    </tr>\n",
       "    <tr>\n",
       "      <th>max</th>\n",
       "      <td>20000.000000</td>\n",
       "      <td>9999.000000</td>\n",
       "      <td>20000.000000</td>\n",
       "      <td>150000.000000</td>\n",
       "      <td>12.000000</td>\n",
       "      <td>0.0</td>\n",
       "      <td>99998.000000</td>\n",
       "    </tr>\n",
       "  </tbody>\n",
       "</table>\n",
       "</div>"
      ],
      "text/plain": [
       "               Price  RegistrationYear          Power      Kilometer  \\\n",
       "count  354369.000000     354369.000000  354369.000000  354369.000000   \n",
       "mean     4416.656776       2004.234448     110.094337  128211.172535   \n",
       "std      4514.158514         90.227958     189.850405   37905.341530   \n",
       "min         0.000000       1000.000000       0.000000    5000.000000   \n",
       "25%      1050.000000       1999.000000      69.000000  125000.000000   \n",
       "50%      2700.000000       2003.000000     105.000000  150000.000000   \n",
       "75%      6400.000000       2008.000000     143.000000  150000.000000   \n",
       "max     20000.000000       9999.000000   20000.000000  150000.000000   \n",
       "\n",
       "       RegistrationMonth  NumberOfPictures     PostalCode  \n",
       "count      354369.000000          354369.0  354369.000000  \n",
       "mean            5.714645               0.0   50508.689087  \n",
       "std             3.726421               0.0   25783.096248  \n",
       "min             0.000000               0.0    1067.000000  \n",
       "25%             3.000000               0.0   30165.000000  \n",
       "50%             6.000000               0.0   49413.000000  \n",
       "75%             9.000000               0.0   71083.000000  \n",
       "max            12.000000               0.0   99998.000000  "
      ]
     },
     "execution_count": 5,
     "metadata": {},
     "output_type": "execute_result"
    }
   ],
   "source": [
    "data.describe()"
   ]
  },
  {
   "cell_type": "markdown",
   "id": "146f040c",
   "metadata": {},
   "source": [
    "Нули в цене, мощности, месяце регистрации необходимо обработать. Так же год регистрации 1000.Столбец с числом фото неинформативный,содержит только нули.Нужно удалить."
   ]
  },
  {
   "cell_type": "markdown",
   "id": "d06205eb",
   "metadata": {},
   "source": [
    "<div class=\"alert alert-block alert-success\">\n",
    "<b>✔️ Успех:</b>\n",
    "\n",
    "Ты хорошо владеешь методами первичного анализа данных 👍\n",
    "</div>"
   ]
  },
  {
   "cell_type": "code",
   "execution_count": 6,
   "id": "9b76184e",
   "metadata": {
    "scrolled": true
   },
   "outputs": [
    {
     "data": {
      "text/html": [
       "<pre style=\"white-space:pre;overflow-x:auto;line-height:normal;font-family:Menlo,'DejaVu Sans Mono',consolas,'Courier New',monospace\"><span style=\"color: #008080; text-decoration-color: #008080; font-weight: bold\">16</span> column names have been cleaned\n",
       "</pre>\n"
      ],
      "text/plain": [
       "\u001b[1;36m16\u001b[0m column names have been cleaned\n"
      ]
     },
     "metadata": {},
     "output_type": "display_data"
    },
    {
     "data": {
      "text/plain": [
       "Index(['date_crawled', 'price', 'vehicle_type', 'registration_year', 'gearbox',\n",
       "       'power', 'model', 'kilometer', 'registration_month', 'fuel_type',\n",
       "       'brand', 'repaired', 'date_created', 'number_of_pictures',\n",
       "       'postal_code', 'last_seen'],\n",
       "      dtype='object')"
      ]
     },
     "execution_count": 6,
     "metadata": {},
     "output_type": "execute_result"
    }
   ],
   "source": [
    "# Приводим наименование признаков к стандартному виду\n",
    "data = clean_columns(data)\n",
    "data.columns"
   ]
  },
  {
   "cell_type": "markdown",
   "id": "311a6b9d",
   "metadata": {},
   "source": [
    "<div class=\"alert alert-block alert-success\">\n",
    "<b>✔️ Успех:</b> \n",
    "\n",
    "Работать с такими названиями гораздо удобнее)\n",
    "</div>"
   ]
  },
  {
   "cell_type": "code",
   "execution_count": 7,
   "id": "f89535c6",
   "metadata": {
    "scrolled": true
   },
   "outputs": [
    {
     "data": {
      "text/plain": [
       "(354369, 16)"
      ]
     },
     "execution_count": 7,
     "metadata": {},
     "output_type": "execute_result"
    }
   ],
   "source": [
    "data.shape"
   ]
  },
  {
   "cell_type": "code",
   "execution_count": 8,
   "id": "803bdcb5",
   "metadata": {},
   "outputs": [
    {
     "data": {
      "text/plain": [
       "date_crawled              0\n",
       "price                     0\n",
       "vehicle_type          37490\n",
       "registration_year         0\n",
       "gearbox               19833\n",
       "power                     0\n",
       "model                 19705\n",
       "kilometer                 0\n",
       "registration_month        0\n",
       "fuel_type             32895\n",
       "brand                     0\n",
       "repaired              71154\n",
       "date_created              0\n",
       "number_of_pictures        0\n",
       "postal_code               0\n",
       "last_seen                 0\n",
       "dtype: int64"
      ]
     },
     "execution_count": 8,
     "metadata": {},
     "output_type": "execute_result"
    }
   ],
   "source": [
    "data.isna().sum()"
   ]
  },
  {
   "cell_type": "code",
   "execution_count": 9,
   "id": "5f94c516",
   "metadata": {},
   "outputs": [
    {
     "data": {
      "text/plain": [
       "4"
      ]
     },
     "execution_count": 9,
     "metadata": {},
     "output_type": "execute_result"
    }
   ],
   "source": [
    "data.duplicated().sum()"
   ]
  },
  {
   "cell_type": "code",
   "execution_count": 10,
   "id": "22f88b8f",
   "metadata": {},
   "outputs": [],
   "source": [
    "#Удаляем явные дубликаты\n",
    "data = data.drop_duplicates().reset_index(drop=True)"
   ]
  },
  {
   "cell_type": "markdown",
   "id": "0ff83284",
   "metadata": {},
   "source": [
    "<div class=\"alert alert-block alert-success\">\n",
    "<b>✔️ Успех:</b>\n",
    "\n",
    "От явных дубликатов избавились 👍\n",
    "</div>"
   ]
  },
  {
   "cell_type": "markdown",
   "id": "33762420",
   "metadata": {},
   "source": [
    "Поменяем формат даты скачивания, даты создания анкеты и даты последней активности."
   ]
  },
  {
   "cell_type": "code",
   "execution_count": 11,
   "id": "78030788",
   "metadata": {},
   "outputs": [],
   "source": [
    "data['date_crawled'] = pd.to_datetime(data['date_crawled'],format='%Y-%m-%d')\n",
    "data['date_created'] = pd.to_datetime(data['date_created'],format='%Y-%m-%d')\n",
    "data['last_seen'] = pd.to_datetime(data['last_seen'],format='%Y-%m-%d')"
   ]
  },
  {
   "cell_type": "markdown",
   "id": "d52718ce",
   "metadata": {},
   "source": [
    "### Признак price"
   ]
  },
  {
   "cell_type": "code",
   "execution_count": 12,
   "id": "6c66443a",
   "metadata": {},
   "outputs": [
    {
     "data": {
      "image/png": "[encoded data removed]",
      "text/plain": [
       "<Figure size 500x500 with 1 Axes>"
      ]
     },
     "metadata": {},
     "output_type": "display_data"
    }
   ],
   "source": [
    "fig, ax = plt.subplots(figsize=(5, 5))\n",
    "sns.boxplot(x='price',data = data)\n",
    "plt.title('Диаграмма размаха данных price')\n",
    "plt.xlabel('price')\n",
    "plt.show()\n"
   ]
  },
  {
   "cell_type": "code",
   "execution_count": 13,
   "id": "5d0776fa",
   "metadata": {},
   "outputs": [
    {
     "data": {
      "image/png": "[encoded data removed]",
      "text/plain": [
       "<Figure size 800x800 with 1 Axes>"
      ]
     },
     "metadata": {},
     "output_type": "display_data"
    }
   ],
   "source": [
    "data['price'].hist(bins= 200,figsize=(8, 8))\n",
    "plt.title('Гистограмма стоимости автомобилей')\n",
    "plt.ylabel('количество')\n",
    "plt.xlabel('стоимость')\n",
    "plt.show()"
   ]
  },
  {
   "cell_type": "code",
   "execution_count": 14,
   "id": "27b27043",
   "metadata": {},
   "outputs": [
    {
     "data": {
      "text/plain": [
       "(10772, 16)"
      ]
     },
     "execution_count": 14,
     "metadata": {},
     "output_type": "execute_result"
    }
   ],
   "source": [
    "data.query('price == 0').shape"
   ]
  },
  {
   "cell_type": "code",
   "execution_count": 15,
   "id": "408eb4b0",
   "metadata": {},
   "outputs": [
    {
     "data": {
      "text/plain": [
       "14600.0"
      ]
     },
     "execution_count": 15,
     "metadata": {},
     "output_type": "execute_result"
    }
   ],
   "source": [
    "q = np.quantile(data['price'], 0.95)\n",
    "q"
   ]
  },
  {
   "cell_type": "code",
   "execution_count": 16,
   "id": "c5d67351",
   "metadata": {},
   "outputs": [
    {
     "data": {
      "text/plain": [
       "(17652, 16)"
      ]
     },
     "execution_count": 16,
     "metadata": {},
     "output_type": "execute_result"
    }
   ],
   "source": [
    "data.query('price > @q').shape"
   ]
  },
  {
   "cell_type": "markdown",
   "id": "bb95f4bb",
   "metadata": {},
   "source": [
    "На данном этапе пока уберу только цену со значением 0, так как предсказывать нулевую стоимость бессмысленно.\n",
    "\n",
    "Так же отмечу что имеются скачки в распределении стоимости,они приходятся на целые значения, предполагаю,что люди просто округляют стоимость в объявлении до удобной суммы.\n",
    "\n",
    "Выбросы за пределы 14600 евро составляют довольно большую часть данных, пока оставлю."
   ]
  },
  {
   "cell_type": "code",
   "execution_count": 17,
   "id": "70baa955",
   "metadata": {},
   "outputs": [],
   "source": [
    "data = data.query('price != 0')"
   ]
  },
  {
   "cell_type": "markdown",
   "id": "8dc134f6",
   "metadata": {},
   "source": [
    "<div class=\"alert alert-block alert-success\">\n",
    "<b>✔️ Успех:</b>\n",
    "\n",
    "В данных остались машины только с адекватной ценой 👍\n",
    "</div>"
   ]
  },
  {
   "cell_type": "markdown",
   "id": "f8498383",
   "metadata": {},
   "source": [
    "### Признак registration_year"
   ]
  },
  {
   "cell_type": "code",
   "execution_count": 18,
   "id": "8729e225",
   "metadata": {},
   "outputs": [
    {
     "data": {
      "image/png": "[encoded data removed]",
      "text/plain": [
       "<Figure size 500x500 with 1 Axes>"
      ]
     },
     "metadata": {},
     "output_type": "display_data"
    }
   ],
   "source": [
    "fig, ax = plt.subplots(figsize=(5, 5))\n",
    "sns.boxplot(x='registration_year',data = data)\n",
    "plt.title('Диаграмма размаха данных registration_year')\n",
    "plt.xlabel('registration_year')\n",
    "plt.show()"
   ]
  },
  {
   "cell_type": "markdown",
   "id": "66790604",
   "metadata": {},
   "source": [
    "Отбросим год регистарации позже даты публикации объявления и ниже 0,01 квантиля."
   ]
  },
  {
   "cell_type": "code",
   "execution_count": 19,
   "id": "ee2f27a4",
   "metadata": {},
   "outputs": [],
   "source": [
    "data['year_created'] = data['date_created'].dt.year # создадим признак только с годом создания публикации"
   ]
  },
  {
   "cell_type": "code",
   "execution_count": 20,
   "id": "68b6959a",
   "metadata": {},
   "outputs": [
    {
     "data": {
      "text/plain": [
       "array([2016, 2015, 2014], dtype=int64)"
      ]
     },
     "execution_count": 20,
     "metadata": {},
     "output_type": "execute_result"
    }
   ],
   "source": [
    "data['year_created'].unique()"
   ]
  },
  {
   "cell_type": "code",
   "execution_count": 21,
   "id": "c0f04826",
   "metadata": {},
   "outputs": [
    {
     "data": {
      "text/plain": [
       "1980.0"
      ]
     },
     "execution_count": 21,
     "metadata": {},
     "output_type": "execute_result"
    }
   ],
   "source": [
    "q_reg_ye = np.quantile(data['registration_year'], 0.01)\n",
    "q_reg_ye"
   ]
  },
  {
   "cell_type": "code",
   "execution_count": 22,
   "id": "77408914",
   "metadata": {},
   "outputs": [],
   "source": [
    "data = data.query('registration_year <= year_created')\n",
    "data = data.query('registration_year >= @q_reg_ye ')"
   ]
  },
  {
   "cell_type": "code",
   "execution_count": 23,
   "id": "5f20b6de",
   "metadata": {},
   "outputs": [
    {
     "data": {
      "image/png": "[encoded data removed]",
      "text/plain": [
       "<Figure size 800x800 with 1 Axes>"
      ]
     },
     "metadata": {},
     "output_type": "display_data"
    }
   ],
   "source": [
    "data['registration_year'].hist(bins= 10,figsize=(8, 8))\n",
    "plt.title('Год регистрации авто')\n",
    "plt.ylabel('количество')\n",
    "plt.xlabel('год')\n",
    "plt.show()"
   ]
  },
  {
   "cell_type": "markdown",
   "id": "fbd19613",
   "metadata": {},
   "source": [
    "<div class=\"alert alert-block alert-success\">\n",
    "<b>✔️ Успех:</b>\n",
    "\n",
    "Молодец, что для верхней границы используешь дату скачивания анкеты 👍\n",
    "</div>"
   ]
  },
  {
   "cell_type": "markdown",
   "id": "2d5fc499",
   "metadata": {},
   "source": [
    "### Признак power"
   ]
  },
  {
   "cell_type": "code",
   "execution_count": 24,
   "id": "205102ad",
   "metadata": {
    "scrolled": true
   },
   "outputs": [
    {
     "data": {
      "text/plain": [
       "(31968, 17)"
      ]
     },
     "execution_count": 24,
     "metadata": {},
     "output_type": "execute_result"
    }
   ],
   "source": [
    "data.query('power==0').shape"
   ]
  },
  {
   "cell_type": "code",
   "execution_count": 25,
   "id": "e4039aa1",
   "metadata": {},
   "outputs": [
    {
     "data": {
      "text/html": [
       "<div>\n",
       "<style scoped>\n",
       "    .dataframe tbody tr th:only-of-type {\n",
       "        vertical-align: middle;\n",
       "    }\n",
       "\n",
       "    .dataframe tbody tr th {\n",
       "        vertical-align: top;\n",
       "    }\n",
       "\n",
       "    .dataframe thead th {\n",
       "        text-align: right;\n",
       "    }\n",
       "</style>\n",
       "<table border=\"1\" class=\"dataframe\">\n",
       "  <thead>\n",
       "    <tr style=\"text-align: right;\">\n",
       "      <th></th>\n",
       "      <th>power</th>\n",
       "    </tr>\n",
       "    <tr>\n",
       "      <th>brand</th>\n",
       "      <th></th>\n",
       "    </tr>\n",
       "  </thead>\n",
       "  <tbody>\n",
       "    <tr>\n",
       "      <th>alfa_romeo</th>\n",
       "      <td>164</td>\n",
       "    </tr>\n",
       "    <tr>\n",
       "      <th>audi</th>\n",
       "      <td>1975</td>\n",
       "    </tr>\n",
       "    <tr>\n",
       "      <th>bmw</th>\n",
       "      <td>2417</td>\n",
       "    </tr>\n",
       "    <tr>\n",
       "      <th>chevrolet</th>\n",
       "      <td>167</td>\n",
       "    </tr>\n",
       "    <tr>\n",
       "      <th>chrysler</th>\n",
       "      <td>153</td>\n",
       "    </tr>\n",
       "    <tr>\n",
       "      <th>citroen</th>\n",
       "      <td>517</td>\n",
       "    </tr>\n",
       "    <tr>\n",
       "      <th>dacia</th>\n",
       "      <td>64</td>\n",
       "    </tr>\n",
       "    <tr>\n",
       "      <th>daewoo</th>\n",
       "      <td>93</td>\n",
       "    </tr>\n",
       "    <tr>\n",
       "      <th>daihatsu</th>\n",
       "      <td>133</td>\n",
       "    </tr>\n",
       "    <tr>\n",
       "      <th>fiat</th>\n",
       "      <td>1136</td>\n",
       "    </tr>\n",
       "    <tr>\n",
       "      <th>ford</th>\n",
       "      <td>2669</td>\n",
       "    </tr>\n",
       "    <tr>\n",
       "      <th>honda</th>\n",
       "      <td>223</td>\n",
       "    </tr>\n",
       "    <tr>\n",
       "      <th>hyundai</th>\n",
       "      <td>287</td>\n",
       "    </tr>\n",
       "    <tr>\n",
       "      <th>jaguar</th>\n",
       "      <td>46</td>\n",
       "    </tr>\n",
       "    <tr>\n",
       "      <th>jeep</th>\n",
       "      <td>49</td>\n",
       "    </tr>\n",
       "    <tr>\n",
       "      <th>kia</th>\n",
       "      <td>216</td>\n",
       "    </tr>\n",
       "    <tr>\n",
       "      <th>lada</th>\n",
       "      <td>47</td>\n",
       "    </tr>\n",
       "    <tr>\n",
       "      <th>lancia</th>\n",
       "      <td>49</td>\n",
       "    </tr>\n",
       "    <tr>\n",
       "      <th>land_rover</th>\n",
       "      <td>56</td>\n",
       "    </tr>\n",
       "    <tr>\n",
       "      <th>mazda</th>\n",
       "      <td>525</td>\n",
       "    </tr>\n",
       "    <tr>\n",
       "      <th>mercedes_benz</th>\n",
       "      <td>2872</td>\n",
       "    </tr>\n",
       "    <tr>\n",
       "      <th>mini</th>\n",
       "      <td>90</td>\n",
       "    </tr>\n",
       "    <tr>\n",
       "      <th>mitsubishi</th>\n",
       "      <td>314</td>\n",
       "    </tr>\n",
       "    <tr>\n",
       "      <th>nissan</th>\n",
       "      <td>567</td>\n",
       "    </tr>\n",
       "    <tr>\n",
       "      <th>opel</th>\n",
       "      <td>4020</td>\n",
       "    </tr>\n",
       "    <tr>\n",
       "      <th>peugeot</th>\n",
       "      <td>988</td>\n",
       "    </tr>\n",
       "    <tr>\n",
       "      <th>porsche</th>\n",
       "      <td>75</td>\n",
       "    </tr>\n",
       "    <tr>\n",
       "      <th>renault</th>\n",
       "      <td>2452</td>\n",
       "    </tr>\n",
       "    <tr>\n",
       "      <th>rover</th>\n",
       "      <td>67</td>\n",
       "    </tr>\n",
       "    <tr>\n",
       "      <th>saab</th>\n",
       "      <td>29</td>\n",
       "    </tr>\n",
       "    <tr>\n",
       "      <th>seat</th>\n",
       "      <td>492</td>\n",
       "    </tr>\n",
       "    <tr>\n",
       "      <th>skoda</th>\n",
       "      <td>343</td>\n",
       "    </tr>\n",
       "    <tr>\n",
       "      <th>smart</th>\n",
       "      <td>475</td>\n",
       "    </tr>\n",
       "    <tr>\n",
       "      <th>sonstige_autos</th>\n",
       "      <td>664</td>\n",
       "    </tr>\n",
       "    <tr>\n",
       "      <th>subaru</th>\n",
       "      <td>68</td>\n",
       "    </tr>\n",
       "    <tr>\n",
       "      <th>suzuki</th>\n",
       "      <td>235</td>\n",
       "    </tr>\n",
       "    <tr>\n",
       "      <th>toyota</th>\n",
       "      <td>374</td>\n",
       "    </tr>\n",
       "    <tr>\n",
       "      <th>trabant</th>\n",
       "      <td>146</td>\n",
       "    </tr>\n",
       "    <tr>\n",
       "      <th>volkswagen</th>\n",
       "      <td>6489</td>\n",
       "    </tr>\n",
       "    <tr>\n",
       "      <th>volvo</th>\n",
       "      <td>222</td>\n",
       "    </tr>\n",
       "  </tbody>\n",
       "</table>\n",
       "</div>"
      ],
      "text/plain": [
       "                power\n",
       "brand                \n",
       "alfa_romeo        164\n",
       "audi             1975\n",
       "bmw              2417\n",
       "chevrolet         167\n",
       "chrysler          153\n",
       "citroen           517\n",
       "dacia              64\n",
       "daewoo             93\n",
       "daihatsu          133\n",
       "fiat             1136\n",
       "ford             2669\n",
       "honda             223\n",
       "hyundai           287\n",
       "jaguar             46\n",
       "jeep               49\n",
       "kia               216\n",
       "lada               47\n",
       "lancia             49\n",
       "land_rover         56\n",
       "mazda             525\n",
       "mercedes_benz    2872\n",
       "mini               90\n",
       "mitsubishi        314\n",
       "nissan            567\n",
       "opel             4020\n",
       "peugeot           988\n",
       "porsche            75\n",
       "renault          2452\n",
       "rover              67\n",
       "saab               29\n",
       "seat              492\n",
       "skoda             343\n",
       "smart             475\n",
       "sonstige_autos    664\n",
       "subaru             68\n",
       "suzuki            235\n",
       "toyota            374\n",
       "trabant           146\n",
       "volkswagen       6489\n",
       "volvo             222"
      ]
     },
     "execution_count": 25,
     "metadata": {},
     "output_type": "execute_result"
    }
   ],
   "source": [
    "data.query('power==0').pivot_table(values='power',\n",
    "    index='brand',\n",
    "    aggfunc='count')"
   ]
  },
  {
   "cell_type": "markdown",
   "id": "b7965b27",
   "metadata": {},
   "source": [
    "Предполагала зависимость мощности от бренда, что мультиколениарность показала,но результаты предсказаний стали хуже,поэтому просто убрала нулевые значения."
   ]
  },
  {
   "cell_type": "code",
   "execution_count": 26,
   "id": "fc608e17",
   "metadata": {},
   "outputs": [],
   "source": [
    "# #Заменим нулевые значения мощности на среднее по бренду\n",
    "# for i in data['brand'].unique():\n",
    "#     data.loc[(data['brand']==i) & (data['power']==0),'power'] = \\\n",
    "#     data.loc[data['brand']==i ,'power'].mean()"
   ]
  },
  {
   "cell_type": "markdown",
   "id": "5ea84ab9",
   "metadata": {},
   "source": [
    "Hennessey Venom F5 является самой мощной машиной с количеством лошадиных сил 1600, которую вряд ли будут продавать на подобных сервисах.Поэтому верхний предел мощности уберем по 0,99 квантилю.\n",
    "\n",
    "Peel P50 самый маломощьный автомобиль 4,2 л.с."
   ]
  },
  {
   "cell_type": "code",
   "execution_count": 27,
   "id": "d375fe1c",
   "metadata": {},
   "outputs": [
    {
     "data": {
      "text/plain": [
       "300.0"
      ]
     },
     "execution_count": 27,
     "metadata": {},
     "output_type": "execute_result"
    }
   ],
   "source": [
    "q_power = np.quantile(data['power'], 0.99)\n",
    "q_power"
   ]
  },
  {
   "cell_type": "code",
   "execution_count": 28,
   "id": "bc7d59ef",
   "metadata": {
    "scrolled": true
   },
   "outputs": [
    {
     "data": {
      "text/plain": [
       "(3231, 17)"
      ]
     },
     "execution_count": 28,
     "metadata": {},
     "output_type": "execute_result"
    }
   ],
   "source": [
    "data.query('power > @q_power ').shape"
   ]
  },
  {
   "cell_type": "code",
   "execution_count": 29,
   "id": "3ebe3a04",
   "metadata": {
    "scrolled": true
   },
   "outputs": [],
   "source": [
    "data = data.loc[ (data['power'] >= 4) & (data['power'] < q_power)]"
   ]
  },
  {
   "cell_type": "code",
   "execution_count": 30,
   "id": "990b5aa0",
   "metadata": {},
   "outputs": [
    {
     "data": {
      "image/png": "[encoded data removed]",
      "text/plain": [
       "<Figure size 500x500 with 1 Axes>"
      ]
     },
     "metadata": {},
     "output_type": "display_data"
    }
   ],
   "source": [
    "fig, ax = plt.subplots(figsize=(5, 5))\n",
    "sns.boxplot(x='power',data = data)\n",
    "plt.title('Диаграмма размаха данных power')\n",
    "plt.xlabel('power')\n",
    "plt.show()"
   ]
  },
  {
   "cell_type": "code",
   "execution_count": 31,
   "id": "0115cd2d",
   "metadata": {},
   "outputs": [
    {
     "data": {
      "image/png": "[encoded data removed]",
      "text/plain": [
       "<Figure size 800x800 with 1 Axes>"
      ]
     },
     "metadata": {},
     "output_type": "display_data"
    }
   ],
   "source": [
    "data['power'].hist(bins= 10,figsize=(8, 8))\n",
    "plt.title('Мощность двигателя в л.с.')\n",
    "plt.ylabel('количество')\n",
    "plt.xlabel('мощность')\n",
    "plt.show()"
   ]
  },
  {
   "cell_type": "markdown",
   "id": "bfadc652",
   "metadata": {},
   "source": [
    "<div class=\"alert alert-block alert-success\">\n",
    "<b>✔️ Успех:</b>\n",
    "\n",
    "Мощность ограничили 👍\n",
    "</div>"
   ]
  },
  {
   "cell_type": "markdown",
   "id": "a5b01604",
   "metadata": {},
   "source": [
    "### Признаки kilometer, registration_month, number_of_pictures"
   ]
  },
  {
   "cell_type": "code",
   "execution_count": 32,
   "id": "2cc72308",
   "metadata": {},
   "outputs": [
    {
     "data": {
      "image/png": "[encoded data removed]",
      "text/plain": [
       "<Figure size 800x800 with 1 Axes>"
      ]
     },
     "metadata": {},
     "output_type": "display_data"
    }
   ],
   "source": [
    "data['kilometer'].hist(bins= 9,figsize=(8, 8))\n",
    "plt.title('Мощность двигателя в л.с.')\n",
    "plt.ylabel('количество')\n",
    "plt.xlabel('мощность')\n",
    "plt.show()"
   ]
  },
  {
   "cell_type": "code",
   "execution_count": 33,
   "id": "f3f0599b",
   "metadata": {},
   "outputs": [
    {
     "data": {
      "text/plain": [
       "150000    193667\n",
       "125000     31316\n",
       "100000     12452\n",
       "90000      10106\n",
       "80000       8829\n",
       "70000       7636\n",
       "60000       6703\n",
       "50000       5537\n",
       "40000       4416\n",
       "30000       3828\n",
       "20000       3185\n",
       "5000        2672\n",
       "10000        876\n",
       "Name: kilometer, dtype: int64"
      ]
     },
     "execution_count": 33,
     "metadata": {},
     "output_type": "execute_result"
    }
   ],
   "source": [
    "data['kilometer'].value_counts()"
   ]
  },
  {
   "cell_type": "markdown",
   "id": "1bcc2f27",
   "metadata": {},
   "source": [
    "Очень большое количество объявлений с пробегом в 150000 км, могу предположить,что у сервиса есть какое-то ограничение при публикации объявлений, нужно уточнять."
   ]
  },
  {
   "cell_type": "code",
   "execution_count": 34,
   "id": "08e40ed1",
   "metadata": {},
   "outputs": [
    {
     "data": {
      "text/plain": [
       "array([ 5,  8,  6,  7, 10,  0, 12, 11,  2,  3,  1,  4,  9], dtype=int64)"
      ]
     },
     "execution_count": 34,
     "metadata": {},
     "output_type": "execute_result"
    }
   ],
   "source": [
    "data['registration_month'].unique()"
   ]
  },
  {
   "cell_type": "code",
   "execution_count": 35,
   "id": "95f2ec2c",
   "metadata": {},
   "outputs": [
    {
     "data": {
      "text/plain": [
       "(17651, 17)"
      ]
     },
     "execution_count": 35,
     "metadata": {},
     "output_type": "execute_result"
    }
   ],
   "source": [
    "data.query('registration_month == 0').shape"
   ]
  },
  {
   "cell_type": "markdown",
   "id": "1cc184e4",
   "metadata": {},
   "source": [
    "Большое количество объявлением с месяцем равным 0, предположу что пользователи просто не знали точного месяца.Удалять данные пока не буду. Возможно данный признак не важен и можно будет его убрать не затронув данные."
   ]
  },
  {
   "cell_type": "code",
   "execution_count": 36,
   "id": "1cd87f5e",
   "metadata": {},
   "outputs": [
    {
     "data": {
      "text/plain": [
       "array([0], dtype=int64)"
      ]
     },
     "execution_count": 36,
     "metadata": {},
     "output_type": "execute_result"
    }
   ],
   "source": [
    "data['number_of_pictures'].unique()"
   ]
  },
  {
   "cell_type": "markdown",
   "id": "bd098732",
   "metadata": {},
   "source": [
    "Признак неинформативный,удаляю."
   ]
  },
  {
   "cell_type": "code",
   "execution_count": 37,
   "id": "0eeca0df",
   "metadata": {},
   "outputs": [],
   "source": [
    "data = data.drop(['number_of_pictures'],axis=1)"
   ]
  },
  {
   "cell_type": "markdown",
   "id": "9c4892ff",
   "metadata": {},
   "source": [
    "<div class=\"alert alert-block alert-success\">\n",
    "<b>✔️ Успех:</b> 👍\n",
    "</div>"
   ]
  },
  {
   "cell_type": "markdown",
   "id": "30823319",
   "metadata": {},
   "source": [
    "### Признаки vehicle_type,  gearbox, fuel_type, model, brand, repaired"
   ]
  },
  {
   "cell_type": "code",
   "execution_count": 38,
   "id": "b040954a",
   "metadata": {
    "scrolled": true
   },
   "outputs": [
    {
     "data": {
      "text/plain": [
       "array(['coupe', 'suv', 'small', 'sedan', 'convertible', 'bus', 'wagon',\n",
       "       nan, 'other'], dtype=object)"
      ]
     },
     "execution_count": 38,
     "metadata": {},
     "output_type": "execute_result"
    }
   ],
   "source": [
    "data['vehicle_type'].unique()"
   ]
  },
  {
   "cell_type": "code",
   "execution_count": 39,
   "id": "00c0d70e",
   "metadata": {},
   "outputs": [
    {
     "data": {
      "text/plain": [
       "array(['manual', 'auto', nan], dtype=object)"
      ]
     },
     "execution_count": 39,
     "metadata": {},
     "output_type": "execute_result"
    }
   ],
   "source": [
    "data['gearbox'].unique()"
   ]
  },
  {
   "cell_type": "code",
   "execution_count": 40,
   "id": "80792ed7",
   "metadata": {},
   "outputs": [
    {
     "data": {
      "text/plain": [
       "petrol      183228\n",
       "gasoline     87471\n",
       "lpg           4387\n",
       "cng            481\n",
       "hybrid         201\n",
       "other           73\n",
       "electric        71\n",
       "Name: fuel_type, dtype: int64"
      ]
     },
     "execution_count": 40,
     "metadata": {},
     "output_type": "execute_result"
    }
   ],
   "source": [
    "data['fuel_type'].value_counts()"
   ]
  },
  {
   "cell_type": "markdown",
   "id": "3f57fbab",
   "metadata": {},
   "source": [
    "Поскольку petrol и gasoline это бензин,и большинство пользователей указывают petrol, заменю на него. А так же пропуски категорией other.\n",
    "\n",
    "В данных vehicle_type и gearbox нет никаких особенностей, кроме пропусков. \\\n",
    "Пропуски в vehicle_type заменю на уже существующую категорию other.\\\n",
    "Пропуски в gearbox удалю."
   ]
  },
  {
   "cell_type": "code",
   "execution_count": 41,
   "id": "e78e61a4",
   "metadata": {},
   "outputs": [],
   "source": [
    "data['fuel_type'] = data['fuel_type'].replace('gasoline','petrol')\n",
    "data['fuel_type'] = data['fuel_type'].fillna('other')"
   ]
  },
  {
   "cell_type": "code",
   "execution_count": 42,
   "id": "c595f4ae",
   "metadata": {},
   "outputs": [],
   "source": [
    "data['vehicle_type'] = data['vehicle_type'].fillna('other')"
   ]
  },
  {
   "cell_type": "code",
   "execution_count": 43,
   "id": "fa6c76db",
   "metadata": {},
   "outputs": [],
   "source": [
    "data = data.dropna(subset=['gearbox'])"
   ]
  },
  {
   "cell_type": "code",
   "execution_count": 44,
   "id": "140fe68b",
   "metadata": {},
   "outputs": [
    {
     "data": {
      "text/plain": [
       "array([nan, 'grand', 'golf', 'fabia', '3er', '2_reihe', 'c_max',\n",
       "       '3_reihe', 'passat', 'navara', 'twingo', 'a_klasse', 'scirocco',\n",
       "       '5er', 'arosa', 'other', 'civic', 'transporter', 'punto',\n",
       "       'e_klasse', 'clio', 'kadett', 'one', 'fortwo', '1er', 'b_klasse',\n",
       "       'a8', 'jetta', 'fiesta', 'c_klasse', 'micra', 'vito', 'sprinter',\n",
       "       'astra', '156', 'escort', 'forester', 'xc_reihe', 'scenic', 'a1',\n",
       "       'focus', 'a4', 'tt', 'a6', 'jazz', 'omega', 'polo', 'slk', '7er',\n",
       "       'combo', 'corsa', '80', '147', 'z_reihe', 'sorento', 'ibiza',\n",
       "       'eos', 'touran', 'getz', 'insignia', 'ka', 'almera', 'megane',\n",
       "       'a3', 'lupo', 'r19', 'caddy', 'mondeo', 'cordoba', 'colt',\n",
       "       'impreza', 'vectra', 'berlingo', 'tiguan', 'mustang', '6_reihe',\n",
       "       'c4', 'panda', 'up', 'i_reihe', 'ceed', 'kangoo', '5_reihe',\n",
       "       'yeti', 'octavia', 'zafira', 'mii', 'rx_reihe', '6er', 'modus',\n",
       "       'fox', 'matiz', 'beetle', 'rio', 'touareg', 'logan', 'spider',\n",
       "       'cuore', 's_max', 'a2', 'galaxy', 'c3', 'viano', '1_reihe',\n",
       "       'sharan', 'avensis', 'roomster', 'sl', 'santa', 'leon', 'cooper',\n",
       "       '4_reihe', 'a5', 'sportage', 'laguna', 'ptcruiser', 'clk',\n",
       "       'primera', 'espace', 'exeo', '159', 'transit', 'juke', 'x_reihe',\n",
       "       'v40', 'carisma', 'accord', 'corolla', 'lanos', 'phaeton', 'verso',\n",
       "       'swift', 'rav', 'qashqai', 'picanto', 'boxster', 'stilo',\n",
       "       'alhambra', 'mx_reihe', 'roadster', 'ypsilon', 'galant', 'justy',\n",
       "       '90', 'sirion', 'signum', 'crossfire', 's_klasse', 'agila',\n",
       "       'duster', 'v50', 'meriva', 'c_reihe', 'v_klasse', 'm_klasse',\n",
       "       'yaris', 'c5', 'aygo', 'seicento', 'cc', 'carnival', 'bora',\n",
       "       'forfour', 'cl', 'tigra', '300c', '500', '100', 'cr_reihe',\n",
       "       'spark', 'kuga', 'x_type', 'ducato', 's_type', 'x_trail', 'toledo',\n",
       "       'altea', 'voyager', 'calibra', 'v70', 'bravo', 'c1', 'citigo',\n",
       "       'jimny', 'wrangler', 'lybra', 'lancer', 'captiva', 'fusion',\n",
       "       'discovery', 'freelander', 'sandero', 'q7', 'note', 'antara',\n",
       "       '900', 'cherokee', 'kaefer', 'clubman', 'defender', 'cx_reihe',\n",
       "       'legacy', 'pajero', 'auris', 'c2', 'niva', 'cayenne', 's60',\n",
       "       'nubira', 'vivaro', 'tucson', 'g_klasse', 'lodgy', 'range_rover',\n",
       "       '601', '850', 'superb', 'q3', 'serie_2', 'glk', 'charade', 'croma',\n",
       "       'outlander', 'doblo', 'musa', '9000', 'kalos', 'v60', '200', '145',\n",
       "       'b_max', 'range_rover_sport', 'aveo', 'move', '911', 'm_reihe',\n",
       "       'rangerover', 'q5', 'range_rover_evoque', 'materia', 'delta',\n",
       "       'terios', 'gl', 'kalina', 'elefantino', 'i3', 'samara', 'amarok',\n",
       "       'kappa'], dtype=object)"
      ]
     },
     "execution_count": 44,
     "metadata": {},
     "output_type": "execute_result"
    }
   ],
   "source": [
    "data['model'].unique()"
   ]
  },
  {
   "cell_type": "code",
   "execution_count": 45,
   "id": "8e6d026e",
   "metadata": {
    "scrolled": true
   },
   "outputs": [
    {
     "data": {
      "text/plain": [
       "array(['audi', 'jeep', 'volkswagen', 'skoda', 'bmw', 'peugeot', 'ford',\n",
       "       'mazda', 'nissan', 'renault', 'mercedes_benz', 'seat', 'honda',\n",
       "       'fiat', 'opel', 'mini', 'smart', 'hyundai', 'sonstige_autos',\n",
       "       'alfa_romeo', 'subaru', 'volvo', 'mitsubishi', 'kia', 'suzuki',\n",
       "       'lancia', 'citroen', 'toyota', 'chevrolet', 'dacia', 'daihatsu',\n",
       "       'chrysler', 'jaguar', 'daewoo', 'rover', 'porsche', 'saab',\n",
       "       'land_rover', 'trabant', 'lada'], dtype=object)"
      ]
     },
     "execution_count": 45,
     "metadata": {},
     "output_type": "execute_result"
    }
   ],
   "source": [
    "data['brand'].unique()"
   ]
  },
  {
   "cell_type": "code",
   "execution_count": 46,
   "id": "ba5ac02f",
   "metadata": {
    "scrolled": true
   },
   "outputs": [
    {
     "data": {
      "text/plain": [
       "array(['yes', nan, 'no'], dtype=object)"
      ]
     },
     "execution_count": 46,
     "metadata": {},
     "output_type": "execute_result"
    }
   ],
   "source": [
    "data['repaired'].unique()"
   ]
  },
  {
   "cell_type": "markdown",
   "id": "2a1a7499",
   "metadata": {},
   "source": [
    "В наименовании модели, бренда и ремонта нет повторений или неявных дубликатов."
   ]
  },
  {
   "cell_type": "markdown",
   "id": "430c6cbf",
   "metadata": {},
   "source": [
    "Пропуски в model заменю на other.\n",
    "\n",
    "Пропуски в repaired, предполагаю, связаны с тем,что продавцы не имели информации о ремонте машин, замаркерую их unknown"
   ]
  },
  {
   "cell_type": "code",
   "execution_count": 47,
   "id": "53bcd8e8",
   "metadata": {},
   "outputs": [],
   "source": [
    "data['model'] = data['model'].fillna('other')\n",
    "data['repaired'] = data['repaired'].fillna('unknown')"
   ]
  },
  {
   "cell_type": "code",
   "execution_count": 48,
   "id": "85bf3f6d",
   "metadata": {
    "scrolled": true
   },
   "outputs": [
    {
     "data": {
      "text/plain": [
       "date_crawled          0\n",
       "price                 0\n",
       "vehicle_type          0\n",
       "registration_year     0\n",
       "gearbox               0\n",
       "power                 0\n",
       "model                 0\n",
       "kilometer             0\n",
       "registration_month    0\n",
       "fuel_type             0\n",
       "brand                 0\n",
       "repaired              0\n",
       "date_created          0\n",
       "postal_code           0\n",
       "last_seen             0\n",
       "year_created          0\n",
       "dtype: int64"
      ]
     },
     "execution_count": 48,
     "metadata": {},
     "output_type": "execute_result"
    }
   ],
   "source": [
    "data.isna().sum()"
   ]
  },
  {
   "cell_type": "markdown",
   "id": "72f6084b",
   "metadata": {},
   "source": [
    "<div class=\"alert alert-block alert-success\">\n",
    "<b>✔️ Успех:</b>\n",
    "\n",
    "Пропуски успешно заполнены 👍 Модели теперь не будут капризничать)\n",
    "</div>"
   ]
  },
  {
   "cell_type": "markdown",
   "id": "8ed02f4c",
   "metadata": {},
   "source": [
    "Для модели считаю, важнее возраст продаваемого авто, поэтому создам новый признак 'age', в котором будет отображатся возраст с момента регистрации до подачи заявления о продаже."
   ]
  },
  {
   "cell_type": "code",
   "execution_count": 49,
   "id": "28187f2c",
   "metadata": {},
   "outputs": [],
   "source": [
    "data['age'] = data['year_created'] - data['registration_year']"
   ]
  },
  {
   "cell_type": "code",
   "execution_count": 50,
   "id": "b8beca7e",
   "metadata": {},
   "outputs": [
    {
     "data": {
      "text/html": [
       "<div>\n",
       "<style scoped>\n",
       "    .dataframe tbody tr th:only-of-type {\n",
       "        vertical-align: middle;\n",
       "    }\n",
       "\n",
       "    .dataframe tbody tr th {\n",
       "        vertical-align: top;\n",
       "    }\n",
       "\n",
       "    .dataframe thead th {\n",
       "        text-align: right;\n",
       "    }\n",
       "</style>\n",
       "<table border=\"1\" class=\"dataframe\">\n",
       "  <thead>\n",
       "    <tr style=\"text-align: right;\">\n",
       "      <th></th>\n",
       "      <th>date_crawled</th>\n",
       "      <th>price</th>\n",
       "      <th>vehicle_type</th>\n",
       "      <th>registration_year</th>\n",
       "      <th>gearbox</th>\n",
       "      <th>power</th>\n",
       "      <th>model</th>\n",
       "      <th>kilometer</th>\n",
       "      <th>registration_month</th>\n",
       "      <th>fuel_type</th>\n",
       "      <th>brand</th>\n",
       "      <th>repaired</th>\n",
       "      <th>date_created</th>\n",
       "      <th>postal_code</th>\n",
       "      <th>last_seen</th>\n",
       "      <th>year_created</th>\n",
       "      <th>age</th>\n",
       "    </tr>\n",
       "  </thead>\n",
       "  <tbody>\n",
       "    <tr>\n",
       "      <th>1</th>\n",
       "      <td>2016-03-24 10:58:45</td>\n",
       "      <td>18300</td>\n",
       "      <td>coupe</td>\n",
       "      <td>2011</td>\n",
       "      <td>manual</td>\n",
       "      <td>190</td>\n",
       "      <td>other</td>\n",
       "      <td>125000</td>\n",
       "      <td>5</td>\n",
       "      <td>petrol</td>\n",
       "      <td>audi</td>\n",
       "      <td>yes</td>\n",
       "      <td>2016-03-24</td>\n",
       "      <td>66954</td>\n",
       "      <td>2016-04-07 01:46:50</td>\n",
       "      <td>2016</td>\n",
       "      <td>5</td>\n",
       "    </tr>\n",
       "    <tr>\n",
       "      <th>2</th>\n",
       "      <td>2016-03-14 12:52:21</td>\n",
       "      <td>9800</td>\n",
       "      <td>suv</td>\n",
       "      <td>2004</td>\n",
       "      <td>auto</td>\n",
       "      <td>163</td>\n",
       "      <td>grand</td>\n",
       "      <td>125000</td>\n",
       "      <td>8</td>\n",
       "      <td>petrol</td>\n",
       "      <td>jeep</td>\n",
       "      <td>unknown</td>\n",
       "      <td>2016-03-14</td>\n",
       "      <td>90480</td>\n",
       "      <td>2016-04-05 12:47:46</td>\n",
       "      <td>2016</td>\n",
       "      <td>12</td>\n",
       "    </tr>\n",
       "    <tr>\n",
       "      <th>3</th>\n",
       "      <td>2016-03-17 16:54:04</td>\n",
       "      <td>1500</td>\n",
       "      <td>small</td>\n",
       "      <td>2001</td>\n",
       "      <td>manual</td>\n",
       "      <td>75</td>\n",
       "      <td>golf</td>\n",
       "      <td>150000</td>\n",
       "      <td>6</td>\n",
       "      <td>petrol</td>\n",
       "      <td>volkswagen</td>\n",
       "      <td>no</td>\n",
       "      <td>2016-03-17</td>\n",
       "      <td>91074</td>\n",
       "      <td>2016-03-17 17:40:17</td>\n",
       "      <td>2016</td>\n",
       "      <td>15</td>\n",
       "    </tr>\n",
       "    <tr>\n",
       "      <th>4</th>\n",
       "      <td>2016-03-31 17:25:20</td>\n",
       "      <td>3600</td>\n",
       "      <td>small</td>\n",
       "      <td>2008</td>\n",
       "      <td>manual</td>\n",
       "      <td>69</td>\n",
       "      <td>fabia</td>\n",
       "      <td>90000</td>\n",
       "      <td>7</td>\n",
       "      <td>petrol</td>\n",
       "      <td>skoda</td>\n",
       "      <td>no</td>\n",
       "      <td>2016-03-31</td>\n",
       "      <td>60437</td>\n",
       "      <td>2016-04-06 10:17:21</td>\n",
       "      <td>2016</td>\n",
       "      <td>8</td>\n",
       "    </tr>\n",
       "    <tr>\n",
       "      <th>5</th>\n",
       "      <td>2016-04-04 17:36:23</td>\n",
       "      <td>650</td>\n",
       "      <td>sedan</td>\n",
       "      <td>1995</td>\n",
       "      <td>manual</td>\n",
       "      <td>102</td>\n",
       "      <td>3er</td>\n",
       "      <td>150000</td>\n",
       "      <td>10</td>\n",
       "      <td>petrol</td>\n",
       "      <td>bmw</td>\n",
       "      <td>yes</td>\n",
       "      <td>2016-04-04</td>\n",
       "      <td>33775</td>\n",
       "      <td>2016-04-06 19:17:07</td>\n",
       "      <td>2016</td>\n",
       "      <td>21</td>\n",
       "    </tr>\n",
       "  </tbody>\n",
       "</table>\n",
       "</div>"
      ],
      "text/plain": [
       "         date_crawled  price vehicle_type  registration_year gearbox  power  \\\n",
       "1 2016-03-24 10:58:45  18300        coupe               2011  manual    190   \n",
       "2 2016-03-14 12:52:21   9800          suv               2004    auto    163   \n",
       "3 2016-03-17 16:54:04   1500        small               2001  manual     75   \n",
       "4 2016-03-31 17:25:20   3600        small               2008  manual     69   \n",
       "5 2016-04-04 17:36:23    650        sedan               1995  manual    102   \n",
       "\n",
       "   model  kilometer  registration_month fuel_type       brand repaired  \\\n",
       "1  other     125000                   5    petrol        audi      yes   \n",
       "2  grand     125000                   8    petrol        jeep  unknown   \n",
       "3   golf     150000                   6    petrol  volkswagen       no   \n",
       "4  fabia      90000                   7    petrol       skoda       no   \n",
       "5    3er     150000                  10    petrol         bmw      yes   \n",
       "\n",
       "  date_created  postal_code           last_seen  year_created  age  \n",
       "1   2016-03-24        66954 2016-04-07 01:46:50          2016    5  \n",
       "2   2016-03-14        90480 2016-04-05 12:47:46          2016   12  \n",
       "3   2016-03-17        91074 2016-03-17 17:40:17          2016   15  \n",
       "4   2016-03-31        60437 2016-04-06 10:17:21          2016    8  \n",
       "5   2016-04-04        33775 2016-04-06 19:17:07          2016   21  "
      ]
     },
     "execution_count": 50,
     "metadata": {},
     "output_type": "execute_result"
    }
   ],
   "source": [
    "data.head()"
   ]
  },
  {
   "cell_type": "markdown",
   "id": "b7977fe0",
   "metadata": {},
   "source": [
    "Удалю следующие признаки, поскольку считаю их более не информативными:date_crawled, registration_year, date_created, last_seen, year_created"
   ]
  },
  {
   "cell_type": "code",
   "execution_count": 51,
   "id": "f258d454",
   "metadata": {},
   "outputs": [],
   "source": [
    "data = data.drop(['date_crawled','registration_year','date_created','last_seen','year_created'], axis=1)"
   ]
  },
  {
   "cell_type": "markdown",
   "id": "acc11333",
   "metadata": {},
   "source": [
    "<div class=\"alert alert-block alert-success\">\n",
    "<b>✔️ Успех:</b>\n",
    "\n",
    "Удалить неинформативные признаки - хорошее решение 👍\n",
    "</div>"
   ]
  },
  {
   "cell_type": "markdown",
   "id": "a49bc6a3",
   "metadata": {},
   "source": [
    "Проверим признаки на мультиколениарность."
   ]
  },
  {
   "cell_type": "code",
   "execution_count": 52,
   "id": "c3a76469",
   "metadata": {
    "scrolled": false
   },
   "outputs": [
    {
     "data": {
      "image/png": "[encoded data removed]",
      "text/plain": [
       "<Figure size 600x400 with 2 Axes>"
      ]
     },
     "metadata": {},
     "output_type": "display_data"
    }
   ],
   "source": [
    "\n",
    "interval_cols = data.select_dtypes('number').columns.tolist()\n",
    "phik_overview = data.phik_matrix(interval_cols=interval_cols)\n",
    "plot_correlation_matrix(phik_overview.values, \n",
    "                        x_labels=phik_overview.columns, \n",
    "                        y_labels=phik_overview.index, \n",
    "                        vmin=0, vmax=1, color_map=\"Greens\", \n",
    "                        title=r\"correlation $\\phi_K$\", \n",
    "                        fontsize_factor=1, \n",
    "                        figsize=(6, 4))\n",
    "plt.tight_layout()"
   ]
  },
  {
   "cell_type": "markdown",
   "id": "6106f898",
   "metadata": {},
   "source": [
    "Признак model сильно коррелирует с brand, power и vehicle_type\n",
    "Месяц регистрации,почтовый индекс и тип топлива имеют слабую связь с целевым признаком"
   ]
  },
  {
   "cell_type": "code",
   "execution_count": 53,
   "id": "1e433357",
   "metadata": {},
   "outputs": [],
   "source": [
    "data = data.drop(['registration_month','model'], axis=1)"
   ]
  },
  {
   "cell_type": "code",
   "execution_count": 54,
   "id": "d5f1761f",
   "metadata": {},
   "outputs": [
    {
     "data": {
      "text/plain": [
       "(285968, 10)"
      ]
     },
     "execution_count": 54,
     "metadata": {},
     "output_type": "execute_result"
    }
   ],
   "source": [
    "data.shape"
   ]
  },
  {
   "cell_type": "markdown",
   "id": "58c2fb97",
   "metadata": {},
   "source": [
    "<div class=\"alert alert-block alert-success\">\n",
    "<b>✔️ Успех:</b>\n",
    "\n",
    "Данные успешно обработаны 👍\n",
    "</div>"
   ]
  },
  {
   "cell_type": "markdown",
   "id": "95433963",
   "metadata": {},
   "source": [
    "## Обучение моделей"
   ]
  },
  {
   "cell_type": "markdown",
   "id": "8dfc0124",
   "metadata": {},
   "source": [
    "При первом обучении модели определили важность признаков, вернулись на данный этап для удаления маловажных признаков:fuel_type, gearbox, postal_code. RMSE после удаления ухудшилась,поэтому данные вернула."
   ]
  },
  {
   "cell_type": "code",
   "execution_count": 55,
   "id": "590e06b3",
   "metadata": {},
   "outputs": [],
   "source": [
    "#data = data.drop(['fuel_type','gearbox','postal_code'], axis=1)"
   ]
  },
  {
   "cell_type": "markdown",
   "id": "d35387fd",
   "metadata": {},
   "source": [
    "Разобьем данные на тренировочную и тестовую выборки,на признаки и таргет."
   ]
  },
  {
   "cell_type": "code",
   "execution_count": 56,
   "id": "221a09e0",
   "metadata": {},
   "outputs": [],
   "source": [
    "features_train, features_test, target_train, target_test = train_test_split(\n",
    "    data.drop('price', axis=1), data.price, test_size=0.25, random_state=12345)"
   ]
  },
  {
   "cell_type": "code",
   "execution_count": 57,
   "id": "18fa1238",
   "metadata": {},
   "outputs": [
    {
     "name": "stdout",
     "output_type": "stream",
     "text": [
      "обучающая: 0.75\n",
      "тестовая: 0.25\n"
     ]
    }
   ],
   "source": [
    "print('обучающая:',features_train.shape[0]/data.shape[0])\n",
    "print('тестовая:',features_test.shape[0]/data.shape[0])"
   ]
  },
  {
   "cell_type": "code",
   "execution_count": 58,
   "id": "47b9d931",
   "metadata": {
    "scrolled": false
   },
   "outputs": [
    {
     "data": {
      "text/html": [
       "<div>\n",
       "<style scoped>\n",
       "    .dataframe tbody tr th:only-of-type {\n",
       "        vertical-align: middle;\n",
       "    }\n",
       "\n",
       "    .dataframe tbody tr th {\n",
       "        vertical-align: top;\n",
       "    }\n",
       "\n",
       "    .dataframe thead th {\n",
       "        text-align: right;\n",
       "    }\n",
       "</style>\n",
       "<table border=\"1\" class=\"dataframe\">\n",
       "  <thead>\n",
       "    <tr style=\"text-align: right;\">\n",
       "      <th></th>\n",
       "      <th>vehicle_type</th>\n",
       "      <th>gearbox</th>\n",
       "      <th>power</th>\n",
       "      <th>kilometer</th>\n",
       "      <th>fuel_type</th>\n",
       "      <th>brand</th>\n",
       "      <th>repaired</th>\n",
       "      <th>postal_code</th>\n",
       "      <th>age</th>\n",
       "    </tr>\n",
       "  </thead>\n",
       "  <tbody>\n",
       "    <tr>\n",
       "      <th>324366</th>\n",
       "      <td>small</td>\n",
       "      <td>auto</td>\n",
       "      <td>65</td>\n",
       "      <td>90000</td>\n",
       "      <td>petrol</td>\n",
       "      <td>opel</td>\n",
       "      <td>no</td>\n",
       "      <td>3099</td>\n",
       "      <td>17</td>\n",
       "    </tr>\n",
       "    <tr>\n",
       "      <th>164740</th>\n",
       "      <td>bus</td>\n",
       "      <td>auto</td>\n",
       "      <td>170</td>\n",
       "      <td>90000</td>\n",
       "      <td>petrol</td>\n",
       "      <td>volkswagen</td>\n",
       "      <td>no</td>\n",
       "      <td>41334</td>\n",
       "      <td>8</td>\n",
       "    </tr>\n",
       "    <tr>\n",
       "      <th>244143</th>\n",
       "      <td>other</td>\n",
       "      <td>manual</td>\n",
       "      <td>15</td>\n",
       "      <td>5000</td>\n",
       "      <td>other</td>\n",
       "      <td>bmw</td>\n",
       "      <td>unknown</td>\n",
       "      <td>27367</td>\n",
       "      <td>21</td>\n",
       "    </tr>\n",
       "    <tr>\n",
       "      <th>233898</th>\n",
       "      <td>sedan</td>\n",
       "      <td>manual</td>\n",
       "      <td>140</td>\n",
       "      <td>150000</td>\n",
       "      <td>petrol</td>\n",
       "      <td>audi</td>\n",
       "      <td>no</td>\n",
       "      <td>45279</td>\n",
       "      <td>10</td>\n",
       "    </tr>\n",
       "    <tr>\n",
       "      <th>136414</th>\n",
       "      <td>small</td>\n",
       "      <td>manual</td>\n",
       "      <td>80</td>\n",
       "      <td>125000</td>\n",
       "      <td>petrol</td>\n",
       "      <td>opel</td>\n",
       "      <td>no</td>\n",
       "      <td>57234</td>\n",
       "      <td>8</td>\n",
       "    </tr>\n",
       "  </tbody>\n",
       "</table>\n",
       "</div>"
      ],
      "text/plain": [
       "       vehicle_type gearbox  power  kilometer fuel_type       brand repaired  \\\n",
       "324366        small    auto     65      90000    petrol        opel       no   \n",
       "164740          bus    auto    170      90000    petrol  volkswagen       no   \n",
       "244143        other  manual     15       5000     other         bmw  unknown   \n",
       "233898        sedan  manual    140     150000    petrol        audi       no   \n",
       "136414        small  manual     80     125000    petrol        opel       no   \n",
       "\n",
       "        postal_code  age  \n",
       "324366         3099   17  \n",
       "164740        41334    8  \n",
       "244143        27367   21  \n",
       "233898        45279   10  \n",
       "136414        57234    8  "
      ]
     },
     "execution_count": 58,
     "metadata": {},
     "output_type": "execute_result"
    }
   ],
   "source": [
    "features_train.head()"
   ]
  },
  {
   "cell_type": "code",
   "execution_count": 59,
   "id": "99b2fe4c",
   "metadata": {},
   "outputs": [],
   "source": [
    "cat_columns = ['vehicle_type','gearbox','fuel_type','brand','repaired']\n",
    "num_columns = ['power','kilometer','postal_code','age']"
   ]
  },
  {
   "cell_type": "markdown",
   "id": "d353fac0",
   "metadata": {},
   "source": [
    "Масштабируем числовые признаки"
   ]
  },
  {
   "cell_type": "code",
   "execution_count": 60,
   "id": "c911bbcc",
   "metadata": {},
   "outputs": [],
   "source": [
    "scaler = StandardScaler()\n",
    "scaler.fit(features_train[num_columns])\n",
    "features_train[num_columns] = scaler.transform(features_train[num_columns])\n",
    "features_test[num_columns] = scaler.transform(features_test[num_columns])"
   ]
  },
  {
   "cell_type": "markdown",
   "id": "e01b9da0",
   "metadata": {},
   "source": [
    "Создадим копии тренировочного и тестового датасета, так как в дальнейшем будем использовать линейную регрессию,которая показываем лучший результат при прямом кодировании(One Hot Encoder)."
   ]
  },
  {
   "cell_type": "code",
   "execution_count": 61,
   "id": "4b2b2415",
   "metadata": {},
   "outputs": [],
   "source": [
    "features_train_ohe = features_train.copy()\n",
    "features_test_ohe = features_test.copy()"
   ]
  },
  {
   "cell_type": "code",
   "execution_count": 62,
   "id": "55fdd23b",
   "metadata": {},
   "outputs": [],
   "source": [
    "# Таблица для сбора полученных результатов\n",
    "models_scors = pd.DataFrame(columns = ['model', 'rmse_train','rmse_test','lirning_time', 'predicting_time'])"
   ]
  },
  {
   "cell_type": "markdown",
   "id": "4a6bbed0",
   "metadata": {},
   "source": [
    "<div class=\"alert alert-block alert-success\">\n",
    "<b>✔️ Успех:</b> \n",
    "\n",
    "Данные поделены верно, пропорции выбраны адекватные 👍\n",
    "</div>"
   ]
  },
  {
   "cell_type": "markdown",
   "id": "1ee39ac4",
   "metadata": {},
   "source": [
    "### Cat Boost"
   ]
  },
  {
   "cell_type": "markdown",
   "id": "3231f070",
   "metadata": {},
   "source": [
    "Подберем гиперпараметры"
   ]
  },
  {
   "cell_type": "code",
   "execution_count": 63,
   "id": "38afa660",
   "metadata": {},
   "outputs": [],
   "source": [
    "cat_model = cb.CatBoostRegressor(loss_function='RMSE',verbose=False,cat_features=cat_columns)"
   ]
  },
  {
   "cell_type": "code",
   "execution_count": 64,
   "id": "14514b0e",
   "metadata": {},
   "outputs": [],
   "source": [
    "\n",
    "grid = {'iterations': [100,150,200],\n",
    "        'learning_rate': [0.03,0.1],\n",
    "        'depth': [ 6, 8, 10]\n",
    "        }"
   ]
  },
  {
   "cell_type": "code",
   "execution_count": 65,
   "id": "6b890f2f",
   "metadata": {
    "scrolled": true
   },
   "outputs": [
    {
     "name": "stdout",
     "output_type": "stream",
     "text": [
      "\n",
      "bestTest = 2001.907522\n",
      "bestIteration = 99\n",
      "\n",
      "0:\tloss: 2001.9075219\tbest: 2001.9075219 (0)\ttotal: 12.9s\tremaining: 3m 38s\n",
      "\n",
      "bestTest = 1728.249949\n",
      "bestIteration = 99\n",
      "\n",
      "1:\tloss: 1728.2499494\tbest: 1728.2499494 (1)\ttotal: 24.6s\tremaining: 3m 16s\n",
      "\n",
      "bestTest = 1845.441736\n",
      "bestIteration = 149\n",
      "\n",
      "2:\tloss: 1845.4417357\tbest: 1728.2499494 (1)\ttotal: 41.4s\tremaining: 3m 26s\n",
      "\n",
      "bestTest = 1691.756599\n",
      "bestIteration = 149\n",
      "\n",
      "3:\tloss: 1691.7565990\tbest: 1691.7565990 (3)\ttotal: 57.4s\tremaining: 3m 20s\n",
      "\n",
      "bestTest = 1776.778666\n",
      "bestIteration = 199\n",
      "\n",
      "4:\tloss: 1776.7786664\tbest: 1691.7565990 (3)\ttotal: 1m 35s\tremaining: 4m 7s\n",
      "\n",
      "bestTest = 1657.951081\n",
      "bestIteration = 199\n",
      "\n",
      "5:\tloss: 1657.9510807\tbest: 1657.9510807 (5)\ttotal: 2m 14s\tremaining: 4m 28s\n",
      "\n",
      "bestTest = 1942.216338\n",
      "bestIteration = 99\n",
      "\n",
      "6:\tloss: 1942.2163380\tbest: 1657.9510807 (5)\ttotal: 2m 27s\tremaining: 3m 52s\n",
      "\n",
      "bestTest = 1676.293946\n",
      "bestIteration = 99\n",
      "\n",
      "7:\tloss: 1676.2939458\tbest: 1657.9510807 (5)\ttotal: 2m 41s\tremaining: 3m 21s\n",
      "\n",
      "bestTest = 1783.218521\n",
      "bestIteration = 149\n",
      "\n",
      "8:\tloss: 1783.2185213\tbest: 1657.9510807 (5)\ttotal: 3m 1s\tremaining: 3m 1s\n",
      "\n",
      "bestTest = 1640.861747\n",
      "bestIteration = 149\n",
      "\n",
      "9:\tloss: 1640.8617468\tbest: 1640.8617468 (9)\ttotal: 3m 22s\tremaining: 2m 41s\n",
      "\n",
      "bestTest = 1721.538259\n",
      "bestIteration = 199\n",
      "\n",
      "10:\tloss: 1721.5382591\tbest: 1640.8617468 (9)\ttotal: 4m 12s\tremaining: 2m 40s\n",
      "\n",
      "bestTest = 1608.550479\n",
      "bestIteration = 199\n",
      "\n",
      "11:\tloss: 1608.5504792\tbest: 1608.5504792 (11)\ttotal: 5m 4s\tremaining: 2m 32s\n",
      "\n",
      "bestTest = 1907.738782\n",
      "bestIteration = 99\n",
      "\n",
      "12:\tloss: 1907.7387819\tbest: 1608.5504792 (11)\ttotal: 5m 22s\tremaining: 2m 3s\n",
      "\n",
      "bestTest = 1642.350284\n",
      "bestIteration = 99\n",
      "\n",
      "13:\tloss: 1642.3502838\tbest: 1608.5504792 (11)\ttotal: 5m 40s\tremaining: 1m 37s\n",
      "\n",
      "bestTest = 1740.790154\n",
      "bestIteration = 149\n",
      "\n",
      "14:\tloss: 1740.7901543\tbest: 1608.5504792 (11)\ttotal: 6m 7s\tremaining: 1m 13s\n",
      "\n",
      "bestTest = 1610.054758\n",
      "bestIteration = 149\n",
      "\n",
      "15:\tloss: 1610.0547577\tbest: 1608.5504792 (11)\ttotal: 6m 34s\tremaining: 49.3s\n",
      "\n",
      "bestTest = 1674.690545\n",
      "bestIteration = 199\n",
      "\n",
      "16:\tloss: 1674.6905451\tbest: 1608.5504792 (11)\ttotal: 7m 45s\tremaining: 27.4s\n",
      "\n",
      "bestTest = 1579.837667\n",
      "bestIteration = 199\n",
      "\n",
      "17:\tloss: 1579.8376669\tbest: 1579.8376669 (17)\ttotal: 9m 2s\tremaining: 0us\n",
      "Estimating final quality...\n",
      "Training on fold [0/3]\n",
      "\n",
      "bestTest = 1600.423114\n",
      "bestIteration = 199\n",
      "\n",
      "Training on fold [1/3]\n",
      "\n",
      "bestTest = 1587.818633\n",
      "bestIteration = 199\n",
      "\n",
      "Training on fold [2/3]\n",
      "\n",
      "bestTest = 1595.981025\n",
      "bestIteration = 199\n",
      "\n",
      "CPU times: total: 36min\n",
      "Wall time: 13min 52s\n"
     ]
    }
   ],
   "source": [
    "%%time\n",
    "cat_grid_result = cat_model.grid_search(grid,\n",
    "                                       X=features_train,\n",
    "                                       y=target_train\n",
    "                                       )"
   ]
  },
  {
   "cell_type": "code",
   "execution_count": 66,
   "id": "e2a4f950",
   "metadata": {},
   "outputs": [
    {
     "name": "stdout",
     "output_type": "stream",
     "text": [
      "RMSE на тренировочном наборе: 1514.2263720913081\n"
     ]
    }
   ],
   "source": [
    "cat_score_train = cat_model.best_score_['learn']['RMSE']\n",
    "print('RMSE на тренировочном наборе:',cat_score_train)"
   ]
  },
  {
   "cell_type": "code",
   "execution_count": 67,
   "id": "5ce2830b",
   "metadata": {},
   "outputs": [
    {
     "name": "stdout",
     "output_type": "stream",
     "text": [
      "Параметры модели с наилучшим результатом: {'depth': 10, 'iterations': 200, 'learning_rate': 0.1}\n"
     ]
    }
   ],
   "source": [
    "print('Параметры модели с наилучшим результатом:',cat_grid_result['params'])\n"
   ]
  },
  {
   "cell_type": "code",
   "execution_count": 68,
   "id": "2a083e55",
   "metadata": {},
   "outputs": [
    {
     "data": {
      "text/plain": [
       "Text(0.5, 1.0, 'Важность признаков')"
      ]
     },
     "execution_count": 68,
     "metadata": {},
     "output_type": "execute_result"
    },
    {
     "data": {
      "image/png": "[encoded data removed]",
      "text/plain": [
       "<Figure size 1200x600 with 1 Axes>"
      ]
     },
     "metadata": {},
     "output_type": "display_data"
    }
   ],
   "source": [
    "\n",
    "feature_importance = cat_model.feature_importances_\n",
    "sorted_idx = np.argsort(feature_importance)\n",
    "fig = plt.figure(figsize=(12, 6))\n",
    "plt.barh(range(len(sorted_idx)), feature_importance[sorted_idx], align='center')\n",
    "plt.yticks(range(len(sorted_idx)), np.array(features_train.columns)[sorted_idx])\n",
    "plt.title('Важность признаков')\n"
   ]
  },
  {
   "cell_type": "markdown",
   "id": "1796c16e",
   "metadata": {},
   "source": [
    "Вернемся к моменту разбиения данных и удалим маловажные признаки: fuel_type, gearbox, postal_code\\\n",
    "На первом этапе(до удаления) RMSE на тренировочном наборе составляла 1514.226\\\n",
    "На втором этапе (после удаления) RMSE составила 1537.186, поэтому вернула данные."
   ]
  },
  {
   "cell_type": "markdown",
   "id": "bc2ca527",
   "metadata": {},
   "source": [
    "Расчитаем время обучения и предсказания, и RMSE на тестовом наборе данных."
   ]
  },
  {
   "cell_type": "code",
   "execution_count": 69,
   "id": "dd5c8fcb",
   "metadata": {},
   "outputs": [
    {
     "name": "stdout",
     "output_type": "stream",
     "text": [
      "Время обучения :84.91687846183777\n",
      "Время предсказания:0.22801589965820312\n",
      "RMSE на тестовом наборе данных:1581.451221016357\n"
     ]
    }
   ],
   "source": [
    "best_cat_model = cb.CatBoostRegressor(iterations=200, learning_rate=0.1, depth=10, loss_function='RMSE',verbose=False,cat_features=cat_columns)\n",
    "start = time.time()\n",
    "best_cat_model.fit(features_train, target_train)\n",
    "end = time.time()\n",
    "lirning_time_cat= end - start\n",
    "\n",
    "start_time = time.time()\n",
    "prediction = best_cat_model.predict(features_test)\n",
    "predicting_time_cat = time.time() - start_time\n",
    "\n",
    "scor = mean_squared_error(target_test, prediction,squared=False)\n",
    "\n",
    "print(f'Время обучения :{lirning_time_cat}')\n",
    "print(f'Время предсказания:{predicting_time_cat}')\n",
    "print(f'RMSE на тестовом наборе данных:{scor}')"
   ]
  },
  {
   "cell_type": "code",
   "execution_count": 70,
   "id": "b94fd0ed",
   "metadata": {},
   "outputs": [],
   "source": [
    "models_scors = (models_scors.append({'model': 'CatBoostRegressor', 'rmse_train': cat_score_train,\n",
    "                                     'rmse_test': scor,'lirning_time': lirning_time_cat ,\n",
    "                                     'predicting_time': predicting_time_cat},ignore_index=True ))"
   ]
  },
  {
   "cell_type": "markdown",
   "id": "a1850957",
   "metadata": {},
   "source": [
    "<div class=\"alert alert-block alert-success\">\n",
    "<b>✔️ Успех:</b> \n",
    "\n",
    "Модель обучена корректно 👍\n",
    "</div>"
   ]
  },
  {
   "cell_type": "markdown",
   "id": "38ae19b1",
   "metadata": {},
   "source": [
    "### LGBMRegressor"
   ]
  },
  {
   "cell_type": "markdown",
   "id": "feb0c722",
   "metadata": {},
   "source": [
    "Закодируем признаки порядковым кодированием"
   ]
  },
  {
   "cell_type": "code",
   "execution_count": 71,
   "id": "69ba045a",
   "metadata": {},
   "outputs": [],
   "source": [
    "oe = OrdinalEncoder()\n",
    "oe.fit_transform(features_train[cat_columns])\n",
    "features_train[cat_columns] = oe.transform(features_train[cat_columns])\n",
    "features_test[cat_columns] = oe.transform(features_test[cat_columns])"
   ]
  },
  {
   "cell_type": "code",
   "execution_count": 72,
   "id": "94f197f9",
   "metadata": {},
   "outputs": [
    {
     "data": {
      "text/html": [
       "<div>\n",
       "<style scoped>\n",
       "    .dataframe tbody tr th:only-of-type {\n",
       "        vertical-align: middle;\n",
       "    }\n",
       "\n",
       "    .dataframe tbody tr th {\n",
       "        vertical-align: top;\n",
       "    }\n",
       "\n",
       "    .dataframe thead th {\n",
       "        text-align: right;\n",
       "    }\n",
       "</style>\n",
       "<table border=\"1\" class=\"dataframe\">\n",
       "  <thead>\n",
       "    <tr style=\"text-align: right;\">\n",
       "      <th></th>\n",
       "      <th>vehicle_type</th>\n",
       "      <th>gearbox</th>\n",
       "      <th>power</th>\n",
       "      <th>kilometer</th>\n",
       "      <th>fuel_type</th>\n",
       "      <th>brand</th>\n",
       "      <th>repaired</th>\n",
       "      <th>postal_code</th>\n",
       "      <th>age</th>\n",
       "    </tr>\n",
       "  </thead>\n",
       "  <tbody>\n",
       "    <tr>\n",
       "      <th>324366</th>\n",
       "      <td>5.0</td>\n",
       "      <td>0.0</td>\n",
       "      <td>-1.109765</td>\n",
       "      <td>-1.054662</td>\n",
       "      <td>5.0</td>\n",
       "      <td>24.0</td>\n",
       "      <td>0.0</td>\n",
       "      <td>-1.870559</td>\n",
       "      <td>0.688596</td>\n",
       "    </tr>\n",
       "    <tr>\n",
       "      <th>164740</th>\n",
       "      <td>0.0</td>\n",
       "      <td>0.0</td>\n",
       "      <td>1.057613</td>\n",
       "      <td>-1.054662</td>\n",
       "      <td>5.0</td>\n",
       "      <td>38.0</td>\n",
       "      <td>0.0</td>\n",
       "      <td>-0.386186</td>\n",
       "      <td>-0.836128</td>\n",
       "    </tr>\n",
       "    <tr>\n",
       "      <th>244143</th>\n",
       "      <td>3.0</td>\n",
       "      <td>1.0</td>\n",
       "      <td>-2.141850</td>\n",
       "      <td>-3.382135</td>\n",
       "      <td>4.0</td>\n",
       "      <td>2.0</td>\n",
       "      <td>1.0</td>\n",
       "      <td>-0.928418</td>\n",
       "      <td>1.366251</td>\n",
       "    </tr>\n",
       "    <tr>\n",
       "      <th>233898</th>\n",
       "      <td>4.0</td>\n",
       "      <td>1.0</td>\n",
       "      <td>0.438362</td>\n",
       "      <td>0.588260</td>\n",
       "      <td>5.0</td>\n",
       "      <td>1.0</td>\n",
       "      <td>0.0</td>\n",
       "      <td>-0.233032</td>\n",
       "      <td>-0.497300</td>\n",
       "    </tr>\n",
       "    <tr>\n",
       "      <th>136414</th>\n",
       "      <td>5.0</td>\n",
       "      <td>1.0</td>\n",
       "      <td>-0.800140</td>\n",
       "      <td>-0.096291</td>\n",
       "      <td>5.0</td>\n",
       "      <td>24.0</td>\n",
       "      <td>0.0</td>\n",
       "      <td>0.231090</td>\n",
       "      <td>-0.836128</td>\n",
       "    </tr>\n",
       "  </tbody>\n",
       "</table>\n",
       "</div>"
      ],
      "text/plain": [
       "        vehicle_type  gearbox     power  kilometer  fuel_type  brand  \\\n",
       "324366           5.0      0.0 -1.109765  -1.054662        5.0   24.0   \n",
       "164740           0.0      0.0  1.057613  -1.054662        5.0   38.0   \n",
       "244143           3.0      1.0 -2.141850  -3.382135        4.0    2.0   \n",
       "233898           4.0      1.0  0.438362   0.588260        5.0    1.0   \n",
       "136414           5.0      1.0 -0.800140  -0.096291        5.0   24.0   \n",
       "\n",
       "        repaired  postal_code       age  \n",
       "324366       0.0    -1.870559  0.688596  \n",
       "164740       0.0    -0.386186 -0.836128  \n",
       "244143       1.0    -0.928418  1.366251  \n",
       "233898       0.0    -0.233032 -0.497300  \n",
       "136414       0.0     0.231090 -0.836128  "
      ]
     },
     "execution_count": 72,
     "metadata": {},
     "output_type": "execute_result"
    }
   ],
   "source": [
    "features_train.head()"
   ]
  },
  {
   "cell_type": "markdown",
   "id": "4188e95d",
   "metadata": {},
   "source": [
    "Подбираем параметры для LGBM"
   ]
  },
  {
   "cell_type": "code",
   "execution_count": 73,
   "id": "a62d81f1",
   "metadata": {},
   "outputs": [
    {
     "name": "stdout",
     "output_type": "stream",
     "text": [
      "Лучшая RMSE: -1634.567\n",
      "Лучшие параметры:\n",
      "\tlearning_rate: 0.1\n",
      "\tmax_depth: 15\n",
      "\tnum_leaves: 40\n",
      "CPU times: total: 4min 30s\n",
      "Wall time: 1min 27s\n"
     ]
    }
   ],
   "source": [
    "%%time\n",
    "parameters = {'max_depth': range(10,30,5),\n",
    "              'learning_rate': [0.03,0.1],\n",
    "              'num_leaves':range(10,50,10)\n",
    "              \n",
    "}\n",
    "gbm = LGBMRegressor(random_state=12345)\n",
    "\n",
    "gsearch = GridSearchCV(gbm, param_grid=parameters, scoring='neg_root_mean_squared_error', cv=3)\n",
    "gsearch.fit(features_train, target_train)\n",
    "\n",
    "print(\"Лучшая RMSE: %0.3f\" % gsearch.best_score_)\n",
    "print(\"Лучшие параметры:\")\n",
    "best_parameters = gsearch.best_estimator_.get_params()\n",
    "for param_name in sorted(parameters.keys()):\n",
    "    print(\"\\t%s: %r\" % (param_name, best_parameters[param_name]))"
   ]
  },
  {
   "cell_type": "markdown",
   "id": "1f390aa6",
   "metadata": {},
   "source": [
    "Расчитываем время обучения и предсказания, а так же RMSE на тестовом наборе данных."
   ]
  },
  {
   "cell_type": "code",
   "execution_count": 87,
   "id": "f4c5621e",
   "metadata": {},
   "outputs": [
    {
     "name": "stdout",
     "output_type": "stream",
     "text": [
      "Время обучения :1.1721601486206055\n",
      "Время предсказания:0.16801238059997559\n",
      "RMSE на тестовом наборе данных:1632.915766259143\n",
      "CPU times: total: 4.12 s\n",
      "Wall time: 1.34 s\n"
     ]
    }
   ],
   "source": [
    "%%time\n",
    "best_gbm_model = LGBMRegressor( learning_rate=0.1,max_depth=15, num_leaves = 40,random_state=12345)\n",
    "start = time.time()\n",
    "best_gbm_model.fit(features_train, target_train)\n",
    "end = time.time()\n",
    "lirning_time_gbm= end - start\n",
    "\n",
    "start_time = time.time()\n",
    "prediction = best_gbm_model.predict(features_test)\n",
    "predicting_time_gbm = time.time() - start_time\n",
    "\n",
    "scor_gbm = mean_squared_error(target_test, prediction,squared=False)\n",
    "\n",
    "print(f'Время обучения :{lirning_time_gbm}')\n",
    "print(f'Время предсказания:{predicting_time_gbm}')\n",
    "print(f'RMSE на тестовом наборе данных:{scor_gbm}')"
   ]
  },
  {
   "cell_type": "code",
   "execution_count": 75,
   "id": "e5d90c0f",
   "metadata": {},
   "outputs": [],
   "source": [
    "models_scors = (models_scors.append({'model': 'LGBMRegressor', 'rmse_train': abs(gsearch.best_score_),\n",
    "                                     'rmse_test': scor_gbm,'lirning_time': lirning_time_gbm ,\n",
    "                                     'predicting_time': predicting_time_gbm},ignore_index=True))"
   ]
  },
  {
   "cell_type": "markdown",
   "id": "56ab2d8a",
   "metadata": {},
   "source": [
    "<div class=\"alert alert-block alert-success\">\n",
    "<b>✔️ Успех:</b> \n",
    "\n",
    "Модель обучена корректно 👍\n",
    "</div>"
   ]
  },
  {
   "cell_type": "markdown",
   "id": "8d755ee2",
   "metadata": {},
   "source": [
    "### LinearRegression"
   ]
  },
  {
   "cell_type": "markdown",
   "id": "c130eafd",
   "metadata": {},
   "source": [
    "Закодируем категориальные признаки OHE поскольку,далее буду применять и линейную регрессию.Будем использовать ранее созданные копии тренировочного и тестового набора **features_train_ohe и features_test_ohe**"
   ]
  },
  {
   "cell_type": "code",
   "execution_count": 76,
   "id": "041bd900",
   "metadata": {},
   "outputs": [],
   "source": [
    "ohe = OneHotEncoder(sparse=False, drop='first')\n",
    "train_ohe = ohe.fit_transform(features_train_ohe[cat_columns])\n",
    "train_ohe = pd.DataFrame(train_ohe, columns=ohe.get_feature_names(cat_columns), index=features_train_ohe.index)\n",
    "features_train_ohe[ohe.get_feature_names()] = train_ohe\n",
    "features_train_ohe.drop(columns=cat_columns, inplace=True)\n",
    "\n",
    "test_ohe = ohe.transform(features_test_ohe[cat_columns])\n",
    "test_ohe = pd.DataFrame(test_ohe, columns=ohe.get_feature_names(cat_columns), index=features_test_ohe.index)\n",
    "features_test_ohe[ohe.get_feature_names()] = test_ohe\n",
    "features_test_ohe.drop(columns=cat_columns, inplace=True)\n"
   ]
  },
  {
   "cell_type": "markdown",
   "id": "8a56ca4a",
   "metadata": {},
   "source": [
    "<div class=\"alert alert-block alert-success\">\n",
    "<b>✔️ Успех:</b> \n",
    "\n",
    "Для линейных моделей прямое кодирование отлично подойдет 👍\n",
    "</div>"
   ]
  },
  {
   "cell_type": "code",
   "execution_count": 77,
   "id": "084d0164",
   "metadata": {},
   "outputs": [
    {
     "name": "stdout",
     "output_type": "stream",
     "text": [
      "RMSE на тренировочном наборе : -2571.0094113679443\n",
      "CPU times: total: 8.64 s\n",
      "Wall time: 4.72 s\n"
     ]
    }
   ],
   "source": [
    "%%time\n",
    "model_lin = LinearRegression()\n",
    "scores_lin = cross_val_score(model_lin, features_train_ohe, target_train, scoring='neg_root_mean_squared_error', cv=5) \n",
    "final_score_linear = pd.Series(scores_lin).mean()\n",
    "print('RMSE на тренировочном наборе :', final_score_linear)"
   ]
  },
  {
   "cell_type": "code",
   "execution_count": 78,
   "id": "954cf2d2",
   "metadata": {},
   "outputs": [
    {
     "name": "stdout",
     "output_type": "stream",
     "text": [
      "Время обучения :1.1885108947753906\n",
      "Время предсказания:0.0420069694519043\n",
      "RMSE на тестовом наборе данных:2577.6847885279926\n",
      "CPU times: total: 2.05 s\n",
      "Wall time: 1.23 s\n"
     ]
    }
   ],
   "source": [
    "%%time\n",
    "model_lin = LinearRegression()\n",
    "start = time.time()\n",
    "model_lin.fit(features_train_ohe, target_train)\n",
    "end = time.time()\n",
    "lirning_time_lin= end - start\n",
    "\n",
    "start_time = time.time()\n",
    "prediction = model_lin.predict(features_test_ohe)\n",
    "predicting_time_lin = time.time() - start_time\n",
    "\n",
    "scor_lin = mean_squared_error(target_test, prediction,squared=False)\n",
    "\n",
    "print(f'Время обучения :{lirning_time_lin}')\n",
    "print(f'Время предсказания:{predicting_time_lin}')\n",
    "print(f'RMSE на тестовом наборе данных:{scor_lin}')"
   ]
  },
  {
   "cell_type": "code",
   "execution_count": 79,
   "id": "870da019",
   "metadata": {},
   "outputs": [],
   "source": [
    "models_scors = (models_scors.append({'model': 'LinearRegression', 'rmse_train': abs(final_score_linear),\n",
    "                                     'rmse_test': scor_lin,'lirning_time': lirning_time_lin ,\n",
    "                                     'predicting_time': predicting_time_lin},ignore_index=True))"
   ]
  },
  {
   "cell_type": "markdown",
   "id": "89044a1d",
   "metadata": {},
   "source": [
    "<div class=\"alert alert-block alert-danger\">\n",
    "<b>❌ Замечание:</b>\n",
    "\n",
    "Для линейных моделей стоит масштабировать численные признаки. Можешь выполнить это сразу после разбиения данных? Scaler обучаешь на тренировочной выборке, затем по очереди применяешь стандартизацию ко всем выборкам.\n",
    "</div>"
   ]
  },
  {
   "cell_type": "markdown",
   "id": "57594c74",
   "metadata": {},
   "source": [
    "<div class=\"alert alert-block alert-info\">\n",
    "<b>Комментарий студента:</b> Добавила масштабирование после разбиения на выборки.\n",
    "</div>"
   ]
  },
  {
   "cell_type": "markdown",
   "id": "3931e774",
   "metadata": {},
   "source": [
    "<div class=\"alert alert-block alert-success\">\n",
    "<b>V2 ✔️ Успешно исправлено</b>\n",
    "</div>"
   ]
  },
  {
   "cell_type": "markdown",
   "id": "874962cf",
   "metadata": {},
   "source": [
    "### RandomForestRegressor"
   ]
  },
  {
   "cell_type": "markdown",
   "id": "aa557786",
   "metadata": {},
   "source": [
    "Подбираем гиперпараметры"
   ]
  },
  {
   "cell_type": "code",
   "execution_count": 80,
   "id": "4768b382",
   "metadata": {},
   "outputs": [
    {
     "name": "stdout",
     "output_type": "stream",
     "text": [
      "Лучшая RMSE: -1629.553\n",
      "Лучшие параметры:\n",
      "\tmax_depth: 15\n",
      "\tn_estimators: 50\n",
      "CPU times: total: 4min 35s\n",
      "Wall time: 4min 40s\n"
     ]
    }
   ],
   "source": [
    "%%time\n",
    "parameters = {'max_depth': [5,10,15],\n",
    "              'n_estimators':[5,30,50]}\n",
    "rf = RandomForestRegressor(random_state=12345)\n",
    "\n",
    "gsearch_rf = GridSearchCV(rf, param_grid=parameters, scoring='neg_root_mean_squared_error', cv=3)\n",
    "gsearch_rf.fit(features_train, target_train)\n",
    "\n",
    "print(\"Лучшая RMSE: %0.3f\" % gsearch_rf.best_score_)\n",
    "print(\"Лучшие параметры:\")\n",
    "best_parameters = gsearch_rf.best_estimator_.get_params()\n",
    "for param_name in sorted(parameters.keys()):\n",
    "    print(\"\\t%s: %r\" % (param_name, best_parameters[param_name]))"
   ]
  },
  {
   "cell_type": "code",
   "execution_count": 82,
   "id": "82c7c766",
   "metadata": {},
   "outputs": [
    {
     "name": "stdout",
     "output_type": "stream",
     "text": [
      "Время обучения :33.22890520095825\n",
      "Время предсказания:0.7270603179931641\n",
      "RMSE на тестовом наборе данных:1607.9536673676002\n",
      "CPU times: total: 33.6 s\n",
      "Wall time: 34 s\n"
     ]
    }
   ],
   "source": [
    "%%time\n",
    "best_rf = RandomForestRegressor(max_depth=15,n_estimators=50 , random_state=12345)\n",
    "start = time.time()\n",
    "best_rf.fit(features_train, target_train)\n",
    "end = time.time()\n",
    "lirning_time_rf= end - start\n",
    "\n",
    "start_time = time.time()\n",
    "prediction = best_rf.predict(features_test)\n",
    "predicting_time_rf = time.time() - start_time\n",
    "\n",
    "scor_rf = mean_squared_error(target_test, prediction,squared=False)\n",
    "\n",
    "print(f'Время обучения :{lirning_time_rf}')\n",
    "print(f'Время предсказания:{predicting_time_rf}')\n",
    "print(f'RMSE на тестовом наборе данных:{scor_rf}')\n",
    "\n"
   ]
  },
  {
   "cell_type": "code",
   "execution_count": 83,
   "id": "7fadf466",
   "metadata": {},
   "outputs": [],
   "source": [
    "models_scors = (models_scors.append({'model': 'RandomForestRegressor', 'rmse_train': abs(gsearch_rf.best_score_),\n",
    "                                     'rmse_test': scor_rf,'lirning_time': lirning_time_rf ,\n",
    "                                     'predicting_time': predicting_time_rf},ignore_index=True))"
   ]
  },
  {
   "cell_type": "markdown",
   "id": "72be79f5",
   "metadata": {},
   "source": [
    "<div class=\"alert alert-block alert-danger\">\n",
    "<b>❌ Замечание:</b>\n",
    "\n",
    "Для моделей, основанных на деревьях решений, лучше использовать порядковое кодирование (OrdinalEncoder). Это должно ускорить их работу. Так как при большом количестве признаков, модель будет долго искать оптимальный сплит.\n",
    "\n",
    "В этой кодировке важно преобразовать только категориальные признаки. Если этого не сделать, то целевая переменная тоже закодируется и метрики будут неадекватными.\n",
    "</div>"
   ]
  },
  {
   "cell_type": "markdown",
   "id": "65e4ac16",
   "metadata": {},
   "source": [
    "<div class=\"alert alert-block alert-info\">\n",
    "<b>Комментарий студента:</b> Закодирова порядковым кодированием в пункте 2.2 и СПАСИБО за рекомендации, это значительно повысило скорость обработки, предсказания и обучения. И отдельное спасибо за дополнительную информацию)))\n",
    "</div>"
   ]
  },
  {
   "cell_type": "markdown",
   "id": "6ea04e2d",
   "metadata": {},
   "source": [
    "<div class=\"alert alert-block alert-success\">\n",
    "<b>V2 ✔️ Успешно исправлено</b>\n",
    "</div>"
   ]
  },
  {
   "cell_type": "markdown",
   "id": "50cbe188",
   "metadata": {},
   "source": [
    "## Анализ моделей"
   ]
  },
  {
   "cell_type": "markdown",
   "id": "d80030f7",
   "metadata": {},
   "source": [
    "Посмотрим на полученные результаты по всем моделям."
   ]
  },
  {
   "cell_type": "code",
   "execution_count": 84,
   "id": "8dfbc1a1",
   "metadata": {
    "scrolled": true
   },
   "outputs": [
    {
     "data": {
      "text/html": [
       "<div>\n",
       "<style scoped>\n",
       "    .dataframe tbody tr th:only-of-type {\n",
       "        vertical-align: middle;\n",
       "    }\n",
       "\n",
       "    .dataframe tbody tr th {\n",
       "        vertical-align: top;\n",
       "    }\n",
       "\n",
       "    .dataframe thead th {\n",
       "        text-align: right;\n",
       "    }\n",
       "</style>\n",
       "<table border=\"1\" class=\"dataframe\">\n",
       "  <thead>\n",
       "    <tr style=\"text-align: right;\">\n",
       "      <th></th>\n",
       "      <th>model</th>\n",
       "      <th>rmse_train</th>\n",
       "      <th>rmse_test</th>\n",
       "      <th>lirning_time</th>\n",
       "      <th>predicting_time</th>\n",
       "    </tr>\n",
       "  </thead>\n",
       "  <tbody>\n",
       "    <tr>\n",
       "      <th>0</th>\n",
       "      <td>CatBoostRegressor</td>\n",
       "      <td>1514.226372</td>\n",
       "      <td>1581.451221</td>\n",
       "      <td>84.916878</td>\n",
       "      <td>0.228016</td>\n",
       "    </tr>\n",
       "    <tr>\n",
       "      <th>3</th>\n",
       "      <td>RandomForestRegressor</td>\n",
       "      <td>1629.553327</td>\n",
       "      <td>1607.953667</td>\n",
       "      <td>33.228905</td>\n",
       "      <td>0.727060</td>\n",
       "    </tr>\n",
       "    <tr>\n",
       "      <th>1</th>\n",
       "      <td>LGBMRegressor</td>\n",
       "      <td>1634.566993</td>\n",
       "      <td>1632.156136</td>\n",
       "      <td>1.144691</td>\n",
       "      <td>0.190013</td>\n",
       "    </tr>\n",
       "    <tr>\n",
       "      <th>2</th>\n",
       "      <td>LinearRegression</td>\n",
       "      <td>2571.009411</td>\n",
       "      <td>2577.684789</td>\n",
       "      <td>1.188511</td>\n",
       "      <td>0.042007</td>\n",
       "    </tr>\n",
       "  </tbody>\n",
       "</table>\n",
       "</div>"
      ],
      "text/plain": [
       "                   model   rmse_train    rmse_test  lirning_time  \\\n",
       "0      CatBoostRegressor  1514.226372  1581.451221     84.916878   \n",
       "3  RandomForestRegressor  1629.553327  1607.953667     33.228905   \n",
       "1          LGBMRegressor  1634.566993  1632.156136      1.144691   \n",
       "2       LinearRegression  2571.009411  2577.684789      1.188511   \n",
       "\n",
       "   predicting_time  \n",
       "0         0.228016  \n",
       "3         0.727060  \n",
       "1         0.190013  \n",
       "2         0.042007  "
      ]
     },
     "execution_count": 84,
     "metadata": {},
     "output_type": "execute_result"
    }
   ],
   "source": [
    "models_scors.sort_values(by = 'rmse_test')"
   ]
  },
  {
   "cell_type": "code",
   "execution_count": 85,
   "id": "3a1d63a6",
   "metadata": {},
   "outputs": [
    {
     "data": {
      "image/png": "[encoded data removed]",
      "text/plain": [
       "<Figure size 640x480 with 1 Axes>"
      ]
     },
     "metadata": {},
     "output_type": "display_data"
    }
   ],
   "source": [
    "models_scors.sort_values(by = 'rmse_test').plot(x='model',y=['rmse_train','rmse_test'],kind='bar')\n",
    "plt.xlabel(\"Model\")\n",
    "plt.ylabel(\"rmse\")\n",
    "plt.title('Метрика RMSE')\n",
    "plt.legend(loc = 'best')\n",
    "plt.show()"
   ]
  },
  {
   "cell_type": "code",
   "execution_count": 86,
   "id": "206a657f",
   "metadata": {},
   "outputs": [
    {
     "data": {
      "image/png": "[encoded data removed]",
      "text/plain": [
       "<Figure size 640x480 with 1 Axes>"
      ]
     },
     "metadata": {},
     "output_type": "display_data"
    }
   ],
   "source": [
    "models_scors.sort_values(by = 'predicting_time').plot(x='model',y=['predicting_time','lirning_time'],kind='bar')\n",
    "plt.xlabel(\"Model\")\n",
    "plt.ylabel(\"time\")\n",
    "plt.title('Время обучения и предсказания')\n",
    "plt.legend(loc = 'best')\n",
    "plt.show()"
   ]
  },
  {
   "cell_type": "markdown",
   "id": "bcc22469",
   "metadata": {},
   "source": [
    "CatBoostRegressor и RandomForestRegressor лучше по показателю RMSE относительно LGBMRegressor, но она сильно выигрывает во времени обучения.Время предсказания у всех моделей невелико, однако и тут LGBMRegressor выигрывает у лидеров по показателям RMSE.\\\n",
    "LinearRegression показала хуже всех результаты RMSE, хотя по времени обучения быстрее всех."
   ]
  },
  {
   "cell_type": "markdown",
   "id": "9530bf2b",
   "metadata": {},
   "source": [
    "<div class=\"alert alert-block alert-success\">\n",
    "<b>✔️ Успех:</b>\n",
    "\n",
    "Молодец, что для сравнения моделей заносишь их в общий датафрейм 👍\n",
    "</div>"
   ]
  },
  {
   "cell_type": "markdown",
   "id": "b75a889b",
   "metadata": {},
   "source": [
    "# Вывод"
   ]
  },
  {
   "cell_type": "markdown",
   "id": "03dc04a9",
   "metadata": {},
   "source": [
    "1. Данные имели очень много пропусков и нулевых значений,после предобработки,частью данных пришлось пожертвовать:\n",
    "-  избавились от нулей в целевом признаке;\n",
    "-  убрали аномальные значения в годах регистрации и мощности авто;\n",
    "-  убрали неинформативные признаки и добавили возаст автомобиля(в результате этот признак имеет наибольшую важность в предсказании стоимости);\n",
    "\n",
    "2. Проверка на мультиколениарность показала сильную связь признака model с другими признаками, его удалили.\n",
    "\n",
    "3. Для тестирования выбрали 4 модели : CatBoostRegressor, RandomForestRegressor, LGBMRegressor, LinearRegression.\\\n",
    "Для оценки качества моделей применяли метрику RMSE.\\\n",
    "Методом GridSearch подобрали несколько параметров для этих моделей, после чего замерили скорости обучения и предсказания, а также метрику RMSE.\n",
    "\n",
    "4. В результате по RMSE выигрывают CatBoostRegressor и RandomForestRegressor, но сильно уступает по времени обучения LGBMRegressor.\\\n",
    "Следовательно **лучшей моделью для заказчика предлагаю LGBMRegressor(learning_rate=0.1,max_depth=15, num_leaves = 40,random_state=12345)**\n",
    "\n",
    "\n",
    "Считаю, что более тщательный подбор гиперпараметров, позволит добиться лучшей метрики.\\\n",
    "Так же необходимо обсудить данные с заказчиком и возможность получения дополнительной информации, особенно по признаку power, где потеряно много данных из-за нулей."
   ]
  },
  {
   "cell_type": "markdown",
   "id": "0e97acc1",
   "metadata": {},
   "source": [
    "<div class=\"alert alert-block alert-success\">\n",
    "<b>✔️ Успех:</b>\n",
    "\n",
    "Вывод соответствует анализу 👍 Значит рекомендуем заказчику LGBM\n",
    "</div>"
   ]
  },
  {
   "cell_type": "markdown",
   "id": "7087d8be",
   "metadata": {},
   "source": [
    "# <font color='orange'>Общее впечатление</font>\n",
    "* Этот проект выполнен очень хорошо\n",
    "* Видно, что приложено много усилий\n",
    "* Молодец, что структурируешь ноутбук, приятно проверять такие работы\n",
    "* У тебя чистый и лаконичный код\n",
    "* Мне было интересно читать твои промежуточные выводы\n",
    "* Твой уровень подачи материала находится на высоком уровне\n",
    "* Исправь, пожалуйста, мои замечания. Затем отправляй на повторную проверку\n",
    "* Жду новую версию проекта 👋"
   ]
  },
  {
   "cell_type": "markdown",
   "id": "dd532d00",
   "metadata": {},
   "source": [
    "# <font color='orange'>2. Общее впечатление</font>\n",
    "* Спасибо за быстрое внесение правок\n",
    "* Теперь проект выглядит лучше )\n",
    "* Критических замечаний нет\n",
    "* Молодец, отличная работа!\n",
    "* Надеюсь, ревью было полезным\n",
    "* Удачи в дальнейшем обучении 👋"
   ]
  },
  {
   "cell_type": "markdown",
   "id": "0e790d8d",
   "metadata": {},
   "source": [
    "# <font color='orange'>Рекомендации 🔥</font>\n",
    "* Доступное объяснение про работу градиентного бустинга https://www.youtube.com/watch?v=ZNJ3lKyI-EY&t=995s\n",
    "* После просмотра видео можешь почитать статью про ансамбли и бустинги https://habr.com/ru/company/ods/blog/645887/\n",
    "* Подбор гиперпараметров для CatBoost https://habr.com/ru/company/otus/blog/527554/\n",
    "* Подбор гиперпараметров для LightGBM https://programmersought.com/article/40776531516/\n",
    "* Разумные способы кодирования категориальных данных для машинного обучения https://machinelearningmastery.ru/smarter-ways-to-encode-categorical-data-for-machine-learning-part-1-of-3-6dca2f71b159/\n",
    "* Статья про \"непонятную\" метрику ROC-AUC https://dyakonov.org/2017/07/28/auc-roc-площадь-под-кривой-ошибок/\n",
    "* Хочешь подтянуть математику для DS?) https://academy.stepik.org/math-for-data-science\n",
    "* Результы обучения моделей можно визуализировать 😎 https://www.datatechnotes.com/2019/08/elasticnet-regression-example-in-python.html\n",
    "* В нашем деле нужно быть всегда в курсе всех новинок, новостей и тд, вот тут публикуют новости в области DS: https://www.infoq.com/data-analysis/news/\n",
    "* Всем аналитикам данных рекомендую книгу Даниела Канемана \"Думай медленно, решай быстро\""
   ]
  }
 ],
 "metadata": {
  "hide_input": false,
  "kernelspec": {
   "display_name": "Python 3 (ipykernel)",
   "language": "python",
   "name": "python3"
  },
  "language_info": {
   "codemirror_mode": {
    "name": "ipython",
    "version": 3
   },
   "file_extension": ".py",
   "mimetype": "text/x-python",
   "name": "python",
   "nbconvert_exporter": "python",
   "pygments_lexer": "ipython3",
   "version": "3.9.5"
  },
  "toc": {
   "base_numbering": 1,
   "nav_menu": {},
   "number_sections": true,
   "sideBar": true,
   "skip_h1_title": true,
   "title_cell": "Table of Contents",
   "title_sidebar": "Contents",
   "toc_cell": false,
   "toc_position": {},
   "toc_section_display": true,
   "toc_window_display": false
  }
 },
 "nbformat": 4,
 "nbformat_minor": 5
}
