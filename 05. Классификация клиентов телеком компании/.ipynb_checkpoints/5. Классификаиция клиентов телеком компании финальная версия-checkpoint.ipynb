{
 "cells": [
  {
   "cell_type": "markdown",
   "id": "af8474ec",
   "metadata": {},
   "source": [
    "<div class=\"alert alert-info\">\n",
    "<font size=\"5\"><b>Комментарий ревьюера</b></font>\n",
    "\n",
    "Привет Владислава! Меня зовут Марат, и я буду твоим ревьюером. Спешу сообщить что все ключевые этапы в работе выполнены,  с задачей тебе удалось справиться. По поводу обращения - в IT сфере принято общаться на «ты» :) Но, если привычней на «вы», дай знать. Как ревьюера моя задача помочь тебе в развитии, дав хорошие советы. Я внимательно посмотрю твой код, ознакомлюсь с твоими выводами и оставлю комментарии. Где то могу предложить небольшие исправление в коде, но ненавязчиво. Где потребуются уточнения, я оставлю много наводящих вопросов. Они помогут тебя с поиском верного решения.\n",
    "\n",
    "Все мои комментарии размечены по цветам, для лучшего восприятия. \n",
    "    \n",
    "<div class=\"alert alert-success\">Зеленым цветом и словом «Успех» отмечены особо удачные и элегантные решения, которыми ты можешь гордиться. </div>\n",
    "        \n",
    "<div class=\"alert alert-warning\">Желтым и значком словом «Совет», помечены решения у которых есть альтернативные решения, более оптимальные. Ты можешь найти их сразу и доработать проект, или отложить это на потом, для будущих проектах. Проект будет принят и без их доработки. </div>\n",
    "        \n",
    "<div class=\"alert alert-danger\"> Красным цветом и значком словом «Ошибка» помечу твои решения, на которые стоит обратить внимание прежде всего. После их доработки проект будет принят. </div>\n",
    "        \n",
    "Залог успеха - работа сообща, взаимное уважение и работа в диалоге. Поэтому, помечай свои ответные комментарии на мои реплики заметным цветом или курсивом, так мне будет легче их отслеживать. Пожалуйста, не изменяй и не удаляй мои комментарии. Все это поможет выполнить повторную проверку быстрей.\n",
    "\n",
    "</div>"
   ]
  },
  {
   "cell_type": "markdown",
   "id": "6954d61c",
   "metadata": {},
   "source": [
    "# Рекомендация тарифов"
   ]
  },
  {
   "cell_type": "markdown",
   "id": "5e02c672",
   "metadata": {},
   "source": [
    "Необходимо построить систему, способную проанализировать поведение клиентов и предложить пользователям новый тариф: «Смарт» или «Ультра».\\\n",
    "Цуль: построить модель для задачи классификации, которая выберет подходящий тариф."
   ]
  },
  {
   "cell_type": "markdown",
   "id": "fd6698b8",
   "metadata": {},
   "source": [
    "Каждый объект в наборе данных — это информация о поведении одного пользователя за месяц. Известно:\n",
    "-  **сalls** — количество звонков,\n",
    "-  **minutes** — суммарная длительность звонков в минутах,\n",
    "-  **messages** — количество sms-сообщений,\n",
    "-  **mb_used** — израсходованный интернет-трафик в Мб,\n",
    "-  **is_ultra** — каким тарифом пользовался в течение месяца («Ультра» — 1, «Смарт» — 0)."
   ]
  },
  {
   "cell_type": "markdown",
   "id": "b0b5da8b",
   "metadata": {},
   "source": [
    "<div class=\"alert alert-success\">\n",
    "<font size=\"5\"><b>Комментарий ревьюера</b></font>\n",
    "\n",
    "Успех:\n",
    "\n",
    "\n",
    "Вступление в работу очень важно, так человек, который смотрит твой проект (и на работе в том числе) будет сразу введен в курс дела.\n",
    "\n",
    "\n",
    "\n",
    "\n",
    "\n",
    "</div>"
   ]
  },
  {
   "cell_type": "code",
   "execution_count": 1,
   "id": "80bbe1bd",
   "metadata": {},
   "outputs": [],
   "source": [
    "import pandas as pd\n",
    "import numpy as np\n",
    "\n",
    "import seaborn as sns\n",
    "import matplotlib.pyplot as plt\n",
    "\n",
    "from sklearn.model_selection import train_test_split\n",
    "from sklearn.tree import DecisionTreeClassifier,plot_tree\n",
    "from sklearn.ensemble import RandomForestClassifier\n",
    "from sklearn.linear_model import LogisticRegression\n",
    "from sklearn.metrics import confusion_matrix,ConfusionMatrixDisplay,accuracy_score\n",
    "from sklearn.dummy import DummyClassifier\n"
   ]
  },
  {
   "cell_type": "markdown",
   "id": "fa5d4185",
   "metadata": {},
   "source": [
    "\n",
    "<div class=\"alert alert-success\">\n",
    "<font size=\"5\"><b>Комментарий ревьюера</b></font>\n",
    "\n",
    "Успех:\n",
    "\n",
    "Собираем все импорты в верхней части, чтобы легче было ориентироваться и добавлять новые по необходимости. \n",
    "\n",
    "\n",
    "<div class=\"alert alert-warning\">\n",
    "\n",
    "Совет:     \n",
    "    \n",
    "\n",
    "- кстати есть рекомендации PEP-8 при написании кода, в том числе и для импортов. Если интересно можешь почитать [тут](https://pythonworld.ru/osnovy/pep-8-rukovodstvo-po-napisaniyu-koda-na-python.html), это на будущее \n"
   ]
  },
  {
   "cell_type": "markdown",
   "id": "bf27ef07",
   "metadata": {},
   "source": [
    "<div class = \"alert alert-info\" style=\"border-left: 7px solid blue\">\n",
    "<h3>Комментарий студента</h3>\n",
    "Почитала, что поняла, применила)\n",
    "</div>"
   ]
  },
  {
   "cell_type": "markdown",
   "id": "cefb6a47",
   "metadata": {},
   "source": [
    "<div class=\"alert alert-success\">\n",
    "<font size=\"5\"><b>Комментарий ревьюераV2</b></font>\n",
    "\n",
    "\n",
    "\n",
    "Успех 👍:\n",
    "\n",
    "\n",
    "\n",
    "Что там ничего такого особого нет ) Разве что когда начнёшь устанавливать сторонние библиотеки (pip install), эти библиотеки ставишь в самый низ\n",
    "\n",
    "\n",
    "\n",
    "</div>\n"
   ]
  },
  {
   "cell_type": "code",
   "execution_count": 2,
   "id": "49f51905",
   "metadata": {},
   "outputs": [],
   "source": [
    "try:\n",
    "    data = pd.read_csv('/datasets/users_behavior.csv')\n",
    "except:\n",
    "    data = pd.read_csv('https://code.s3.yandex.net/datasets/users_behavior.csv')"
   ]
  },
  {
   "cell_type": "markdown",
   "id": "3978fd78",
   "metadata": {},
   "source": [
    "<div class=\"alert alert-success\">\n",
    "<font size=\"5\"><b>Комментарий ревьюера</b></font>\n",
    "\n",
    "Молодец что используешь конструкцию try - except (if - else), этим ты проявляешь уважение к тем кто будет работать с твоим кодом.\n",
    "\n",
    "</div>"
   ]
  },
  {
   "cell_type": "markdown",
   "id": "3511988e",
   "metadata": {},
   "source": [
    "## 1. Общий обзор датасета"
   ]
  },
  {
   "cell_type": "code",
   "execution_count": 3,
   "id": "9c3eaa25",
   "metadata": {},
   "outputs": [
    {
     "data": {
      "text/html": [
       "<div>\n",
       "<style scoped>\n",
       "    .dataframe tbody tr th:only-of-type {\n",
       "        vertical-align: middle;\n",
       "    }\n",
       "\n",
       "    .dataframe tbody tr th {\n",
       "        vertical-align: top;\n",
       "    }\n",
       "\n",
       "    .dataframe thead th {\n",
       "        text-align: right;\n",
       "    }\n",
       "</style>\n",
       "<table border=\"1\" class=\"dataframe\">\n",
       "  <thead>\n",
       "    <tr style=\"text-align: right;\">\n",
       "      <th></th>\n",
       "      <th>calls</th>\n",
       "      <th>minutes</th>\n",
       "      <th>messages</th>\n",
       "      <th>mb_used</th>\n",
       "      <th>is_ultra</th>\n",
       "    </tr>\n",
       "  </thead>\n",
       "  <tbody>\n",
       "    <tr>\n",
       "      <th>0</th>\n",
       "      <td>40.0</td>\n",
       "      <td>311.90</td>\n",
       "      <td>83.0</td>\n",
       "      <td>19915.42</td>\n",
       "      <td>0</td>\n",
       "    </tr>\n",
       "    <tr>\n",
       "      <th>1</th>\n",
       "      <td>85.0</td>\n",
       "      <td>516.75</td>\n",
       "      <td>56.0</td>\n",
       "      <td>22696.96</td>\n",
       "      <td>0</td>\n",
       "    </tr>\n",
       "    <tr>\n",
       "      <th>2</th>\n",
       "      <td>77.0</td>\n",
       "      <td>467.66</td>\n",
       "      <td>86.0</td>\n",
       "      <td>21060.45</td>\n",
       "      <td>0</td>\n",
       "    </tr>\n",
       "    <tr>\n",
       "      <th>3</th>\n",
       "      <td>106.0</td>\n",
       "      <td>745.53</td>\n",
       "      <td>81.0</td>\n",
       "      <td>8437.39</td>\n",
       "      <td>1</td>\n",
       "    </tr>\n",
       "    <tr>\n",
       "      <th>4</th>\n",
       "      <td>66.0</td>\n",
       "      <td>418.74</td>\n",
       "      <td>1.0</td>\n",
       "      <td>14502.75</td>\n",
       "      <td>0</td>\n",
       "    </tr>\n",
       "  </tbody>\n",
       "</table>\n",
       "</div>"
      ],
      "text/plain": [
       "   calls  minutes  messages   mb_used  is_ultra\n",
       "0   40.0   311.90      83.0  19915.42         0\n",
       "1   85.0   516.75      56.0  22696.96         0\n",
       "2   77.0   467.66      86.0  21060.45         0\n",
       "3  106.0   745.53      81.0   8437.39         1\n",
       "4   66.0   418.74       1.0  14502.75         0"
      ]
     },
     "execution_count": 3,
     "metadata": {},
     "output_type": "execute_result"
    }
   ],
   "source": [
    "data.head()"
   ]
  },
  {
   "cell_type": "code",
   "execution_count": 4,
   "id": "cddf0ee1",
   "metadata": {},
   "outputs": [
    {
     "name": "stdout",
     "output_type": "stream",
     "text": [
      "<class 'pandas.core.frame.DataFrame'>\n",
      "RangeIndex: 3214 entries, 0 to 3213\n",
      "Data columns (total 5 columns):\n",
      " #   Column    Non-Null Count  Dtype  \n",
      "---  ------    --------------  -----  \n",
      " 0   calls     3214 non-null   float64\n",
      " 1   minutes   3214 non-null   float64\n",
      " 2   messages  3214 non-null   float64\n",
      " 3   mb_used   3214 non-null   float64\n",
      " 4   is_ultra  3214 non-null   int64  \n",
      "dtypes: float64(4), int64(1)\n",
      "memory usage: 125.7 KB\n"
     ]
    }
   ],
   "source": [
    "data.info()"
   ]
  },
  {
   "cell_type": "code",
   "execution_count": 5,
   "id": "f6ab6065",
   "metadata": {},
   "outputs": [
    {
     "data": {
      "text/plain": [
       "0"
      ]
     },
     "execution_count": 5,
     "metadata": {},
     "output_type": "execute_result"
    }
   ],
   "source": [
    "data.duplicated().sum()"
   ]
  },
  {
   "cell_type": "markdown",
   "id": "a6dc58df",
   "metadata": {},
   "source": [
    "Пропусков и дубликатов нет, название столбцов правильное, типы данных соответствуют содержанию."
   ]
  },
  {
   "cell_type": "markdown",
   "id": "650baf29",
   "metadata": {},
   "source": [
    "<div class=\"alert alert-success\">\n",
    "<font size=\"5\"><b>Комментарий ревьюера</b></font>\n",
    "\n",
    "Успех:\n",
    "\n",
    "👍 Данные изучены.\n",
    "\n",
    "И проверить целевой признак на сбалансированность хороший ход, это по сути решение бонусное задание сразу.  Тема дисбаланса как раз тема следующего проекта, тут можно [почитать](https://dyakonov.org/2021/05/27/imbalance/) заранее зачем мы обращаем внимание на это. А [тут](https://habr.com/ru/post/349078/) так ли он страшен  ))\n",
    "\n",
    "\n",
    "</div>\n"
   ]
  },
  {
   "cell_type": "markdown",
   "id": "d301bdf0",
   "metadata": {},
   "source": [
    "## 2. Разделим данные на обучающую, валидационную и тестовую выборки."
   ]
  },
  {
   "cell_type": "markdown",
   "id": "3e7463c4",
   "metadata": {},
   "source": [
    "Поскольку тестовую выборку необходимо создать из имеющихся данных, то делим датасет следующим образом:\\\n",
    "60% - обучающая выборка data_train;\\\n",
    "20% - тестовая выборка data_test;\\\n",
    "20% - валидационная выборка data_valid."
   ]
  },
  {
   "cell_type": "code",
   "execution_count": 6,
   "id": "1be91176",
   "metadata": {},
   "outputs": [
    {
     "data": {
      "text/plain": [
       "calls       985\n",
       "minutes     985\n",
       "messages    985\n",
       "mb_used     985\n",
       "is_ultra    985\n",
       "dtype: int64"
      ]
     },
     "execution_count": 6,
     "metadata": {},
     "output_type": "execute_result"
    }
   ],
   "source": [
    "data.query('is_ultra == 1').count()"
   ]
  },
  {
   "cell_type": "code",
   "execution_count": 7,
   "id": "19d94747",
   "metadata": {},
   "outputs": [
    {
     "data": {
      "text/plain": [
       "calls       2229\n",
       "minutes     2229\n",
       "messages    2229\n",
       "mb_used     2229\n",
       "is_ultra    2229\n",
       "dtype: int64"
      ]
     },
     "execution_count": 7,
     "metadata": {},
     "output_type": "execute_result"
    }
   ],
   "source": [
    "data.query('is_ultra == 0').count()"
   ]
  },
  {
   "cell_type": "markdown",
   "id": "e246e7ce",
   "metadata": {},
   "source": [
    "Указываем параметр **stratify** ,чтобы в выборках в целевом признаке сохранилась пропорция между классами, такая же как и в исходных данных."
   ]
  },
  {
   "cell_type": "markdown",
   "id": "a10b7c8a",
   "metadata": {},
   "source": [
    "\n",
    "<div class=\"alert alert-warning\">\n",
    "<font size=\"5\"><b>Комментарий ревьюера</b></font>\n",
    "\n",
    "Совет: \n",
    "\n",
    "Сертифицировать без сомнения нужно. Но не надо путать стратификацию и дисбаланс. Со stratify мы убираем риски получения очень сильно отличающихся датасетов по пропорциям единичек и нулей. Глянь долю нулей в таргетах для train и test со стратификацией, они будут одинаковыми - 69%, это и есть результат стратификации. Но 69% нулей при бинарном таргете это дисбаланс. Куда то исчез дисбаланс? Нет. А как работать с дисбалансом как раз следующий прокт. \n",
    "\n",
    "А теперь представь что модель учится на train, где доля нулей (ну так получилось, сплит без stratify это полный рандом) оказалась  80%, а в test 51% (условно), это может стать проблемой для некоторых моделей с точки зрения качества прогноза \n",
    "    \n",
    "    \n",
    "</div>\n"
   ]
  },
  {
   "cell_type": "markdown",
   "id": "7fe147d3",
   "metadata": {},
   "source": [
    "<div class = \"alert alert-info\" style=\"border-left: 7px solid blue\">\n",
    "<h3>Комментарий студента</h3>\n",
    "Скорректировала комментарий.\n",
    "</div>"
   ]
  },
  {
   "cell_type": "markdown",
   "id": "635a277a",
   "metadata": {},
   "source": [
    "<div class=\"alert alert-success\">\n",
    "<font size=\"5\"><b>Комментарий ревьюераV2</b></font>\n",
    "\n",
    "\n",
    "\n",
    "Успех 👍:\n",
    "\n",
    "\n",
    "Верно\n",
    "\n",
    "\n",
    "\n",
    "\n",
    "</div>\n"
   ]
  },
  {
   "cell_type": "code",
   "execution_count": 8,
   "id": "fe74c704",
   "metadata": {},
   "outputs": [],
   "source": [
    "features = data.drop(['is_ultra'], axis=1)\n",
    "target = data['is_ultra']"
   ]
  },
  {
   "cell_type": "code",
   "execution_count": 9,
   "id": "fbee1554",
   "metadata": {},
   "outputs": [
    {
     "name": "stdout",
     "output_type": "stream",
     "text": [
      "Количество строк в target_train по классам: [1337  591]\n",
      "Количество строк в target_temp по классам: [892 394]\n"
     ]
    }
   ],
   "source": [
    "features_train, features_temp, target_train, target_temp = train_test_split(features, target, \n",
    "                                                    test_size=0.4, \n",
    "                                                    random_state=12345,\n",
    "                                                    stratify=target)\n",
    "print(f\"Количество строк в target_train по классам: {np.bincount(target_train)}\")\n",
    "print(f\"Количество строк в target_temp по классам: {np.bincount(target_temp)}\")"
   ]
  },
  {
   "cell_type": "code",
   "execution_count": 10,
   "id": "bfc589eb",
   "metadata": {},
   "outputs": [
    {
     "name": "stdout",
     "output_type": "stream",
     "text": [
      "Количество строк в target_valid по классам: [446 197]\n",
      "Количество строк в target_test по классам: [446 197]\n"
     ]
    }
   ],
   "source": [
    "features_valid, features_test, target_valid, target_test =  train_test_split(features_temp, target_temp, \n",
    "                                                    test_size=0.5, \n",
    "                                                    random_state=12345,\n",
    "                                                    stratify=target_temp)\n",
    "print(f\"Количество строк в target_valid по классам: {np.bincount(target_valid)}\")\n",
    "print(f\"Количество строк в target_test по классам: {np.bincount(target_test)}\")"
   ]
  },
  {
   "cell_type": "code",
   "execution_count": 11,
   "id": "a7a5a6cb",
   "metadata": {
    "scrolled": true
   },
   "outputs": [
    {
     "name": "stdout",
     "output_type": "stream",
     "text": [
      "Доля обучающей выборки от общих данных 0.6\n",
      "Доля тестовой выборки от общих данных 0.2\n",
      "Доля валидационной выборки от общих данных 0.2\n"
     ]
    }
   ],
   "source": [
    "print('Доля обучающей выборки от общих данных', np.round((features_train.shape[0] / data.shape[0]),decimals = 2))\n",
    "print('Доля тестовой выборки от общих данных', np.round((features_test.shape[0] / data.shape[0]),decimals = 2))\n",
    "print('Доля валидационной выборки от общих данных',np.round((features_valid.shape[0] / data.shape[0]),decimals = 2))"
   ]
  },
  {
   "cell_type": "markdown",
   "id": "43bc8fd9",
   "metadata": {},
   "source": [
    "<div class=\"alert alert-success\">\n",
    "<font size=\"5\"><b>Комментарий ревьюера</b></font>\n",
    "\n",
    "Успех:\n",
    "\n",
    "Все правильно!\n",
    "\n",
    "Здорово что проконтролировано разбиение (можно с помощью .shape,  можно .len), плюс за stratify\n",
    "</div>\n",
    "\n",
    "\n",
    "\n"
   ]
  },
  {
   "cell_type": "markdown",
   "id": "b398a219",
   "metadata": {},
   "source": [
    "## 3 Исследуем качество моделей."
   ]
  },
  {
   "cell_type": "markdown",
   "id": "8c79aaf2",
   "metadata": {},
   "source": [
    "Данная задача относится к классификации, поэтому будем рассматривать следующие алгоритмы классификации:\n",
    "-  Дерево решений\n",
    "-  Случайный лес\n",
    "-  Логистическая регрессия"
   ]
  },
  {
   "cell_type": "markdown",
   "id": "60b90881",
   "metadata": {},
   "source": [
    "### Дерево решений"
   ]
  },
  {
   "cell_type": "markdown",
   "id": "1fb3bf8c",
   "metadata": {},
   "source": [
    "Подберем гиперпараметр max_depth при котором модель, обученная на алгоритме дерева решений, будет показывать наилучший результат."
   ]
  },
  {
   "cell_type": "code",
   "execution_count": 12,
   "id": "c43693fd",
   "metadata": {},
   "outputs": [
    {
     "name": "stdout",
     "output_type": "stream",
     "text": [
      "Лучшая глубина дерева: 8\n",
      "Лучшая метрика: 0.80248833592535\n",
      "Лучшая модель: DecisionTreeClassifier(max_depth=8, random_state=12345)\n"
     ]
    }
   ],
   "source": [
    "val_scores = []\n",
    "train_scores = []\n",
    "\n",
    "best_max_depth = 1\n",
    "best_score_tree = 0\n",
    "best_model_tree = None\n",
    "\n",
    "for n in range(1, 20):\n",
    "    model = DecisionTreeClassifier(max_depth=n, random_state=12345)\n",
    "    model.fit(features_train,target_train) #Обучаем на тренировочной выборке\n",
    "    val_preds = model.predict(features_valid)#предсказания на валидационной\n",
    "    train_preds = model.predict(features_train) #предсказания на тренировочной\n",
    "\n",
    "    train_scores.append(accuracy_score(target_train, train_preds))# считаем качество модели на тренировочной выборке\n",
    "    val_scores.append(accuracy_score(target_valid, val_preds))# считаем качество модели на валидационной выборке\n",
    "    \n",
    "    if accuracy_score(target_valid, val_preds) > best_score_tree:\n",
    "        best_score_tree = accuracy_score(target_valid, val_preds)\n",
    "        best_max_depth = n\n",
    "        best_model_tree = model\n",
    "        \n",
    "print(f'Лучшая глубина дерева: {best_max_depth}')\n",
    "print(f'Лучшая метрика: {best_score_tree}')\n",
    "print(f'Лучшая модель: {best_model_tree}')"
   ]
  },
  {
   "cell_type": "code",
   "execution_count": 13,
   "id": "c2e7e98a",
   "metadata": {
    "scrolled": true
   },
   "outputs": [
    {
     "data": {
      "image/png": "[encoded data removed]",
      "text/plain": [
       "<Figure size 432x288 with 1 Axes>"
      ]
     },
     "metadata": {
      "needs_background": "light"
     },
     "output_type": "display_data"
    }
   ],
   "source": [
    "sns.lineplot(x=list(range(1, 20)), y=train_scores, color='g')\n",
    "sns.lineplot(x=list(range(1, 20)), y=val_scores, color='r')\n",
    "plt.xticks(list(range(1, 20)))\n",
    "plt.ylabel('accuracy')\n",
    "plt.xlabel('max_depth')\n",
    "plt.show()"
   ]
  },
  {
   "cell_type": "markdown",
   "id": "a62e9ac9",
   "metadata": {},
   "source": [
    "На графике видно, что при глубине дерева больше 8, на валидационной выборке accuracy начинает снижаться."
   ]
  },
  {
   "cell_type": "code",
   "execution_count": 14,
   "id": "2a4aaeb2",
   "metadata": {},
   "outputs": [
    {
     "data": {
      "image/png": "[encoded data removed]",
      "text/plain": [
       "<Figure size 1440x1440 with 1 Axes>"
      ]
     },
     "metadata": {
      "needs_background": "light"
     },
     "output_type": "display_data"
    }
   ],
   "source": [
    "fn = ['calls','minutes','messages','mb_used']\n",
    "fig, axes = plt.subplots(nrows=1, ncols=1, figsize=(20, 20))\n",
    "plot_tree(best_model_tree,max_depth = 3, feature_names=fn, filled=True,fontsize=10)\n",
    "plt.show()"
   ]
  },
  {
   "cell_type": "markdown",
   "id": "1ae3fb42",
   "metadata": {},
   "source": [
    "<div class=\"alert alert-success\">\n",
    "<font size=\"5\"><b>Комментарий ревьюераV2</b></font>\n",
    "\n",
    "Успех:\n",
    "\n",
    "tree_plot - теперь заказчику можно обьяснить как примерно модель принимает решение, один из плюсов DT.\n",
    "\n",
    "    \n",
    "График по метрикам отлично показывает переобучение  \n",
    "\n",
    "    \n",
    "    \n",
    "Всё оформлено очень аккуратно    "
   ]
  },
  {
   "cell_type": "markdown",
   "id": "fc584d6d",
   "metadata": {},
   "source": [
    "Видно,что самым весомым принаком модель посчитала mb_used <= 24925.54, далее снижала критерий gini по признакам calls<= 102.5 и снова по mb_used<=29078.215."
   ]
  },
  {
   "cell_type": "markdown",
   "id": "0000e757",
   "metadata": {},
   "source": [
    "<div class=\"alert alert-success\">\n",
    "<font size=\"5\"><b>Комментарий ревьюера</b></font>\n",
    "\n",
    "Успех:\n",
    " \n",
    "Работа выполнена в соответствии с критериями: \n",
    "\n",
    "\n",
    "\n",
    " - модель обучена на обучающем наборе\n",
    " - получена оценка качества на валидационном наборе\n",
    " - перебор гиперпараметров осуществляется в цикле\n",
    "\n",
    "\n",
    "Отличный график, визуализировала процесс переобучения\n",
    "\n",
    "\n",
    "\n",
    "<div class=\"alert alert-warning\">\n",
    "\n",
    "\n",
    "Совет: \n",
    "\n",
    "\n",
    "\n",
    "\n",
    "\n",
    "- tree_plot можно построить, с max_depth равной 3 или 4 (глубже уже будет громоздко) - глянуть как DT сплиты делает, будет понимание как модель принимает решения: какие признаки  использует, на каких значениях делает разбиение вправо - влево \n",
    "\n",
    "</div>\n",
    "\n"
   ]
  },
  {
   "cell_type": "markdown",
   "id": "3661b74c",
   "metadata": {},
   "source": [
    "<div class = \"alert alert-info\" style=\"border-left: 7px solid blue\">\n",
    "<h3>Комментарий студента</h3>\n",
    "Построила дерево, сразу вопрос,можно ли как-то сделать,чтоб у стрелок были подписи true и false?\n",
    "</div>"
   ]
  },
  {
   "cell_type": "markdown",
   "id": "57f6b368",
   "metadata": {},
   "source": [
    "<div class=\"alert alert-warning\">\n",
    "<font size=\"5\"><b>Комментарий ревьюераV2</b></font>\n",
    "\n",
    "\n",
    "\n",
    "Совет 🤔:\n",
    "\n",
    "\n",
    "Наверное можно но я таких способов честно говоря не знаю (Это скорее всего надо лезть в классы).  Всё что идёт налево всегда true всё что направо false, так что вроде как бы и не нужны надписи\n",
    "</div>\n"
   ]
  },
  {
   "cell_type": "markdown",
   "id": "72954d26",
   "metadata": {},
   "source": [
    "Посмотрим на матрицу ошибок."
   ]
  },
  {
   "cell_type": "code",
   "execution_count": 15,
   "id": "f5440f85",
   "metadata": {
    "scrolled": true
   },
   "outputs": [
    {
     "data": {
      "image/png": "[encoded data removed]",
      "text/plain": [
       "<Figure size 432x288 with 2 Axes>"
      ]
     },
     "metadata": {
      "needs_background": "light"
     },
     "output_type": "display_data"
    }
   ],
   "source": [
    "predictions_tree = best_model_tree.predict(features_valid)\n",
    "matrix = confusion_matrix(target_valid,predictions_tree,labels=best_model_tree.classes_ )\n",
    "disp = ConfusionMatrixDisplay(confusion_matrix=matrix,\n",
    "                              display_labels=best_model_tree.classes_)\n",
    "disp.plot()\n",
    "plt.show()\n"
   ]
  },
  {
   "cell_type": "markdown",
   "id": "4fbcc38f",
   "metadata": {},
   "source": [
    "516 раз модель предсказала правильно, из них 100 раз предсказала 1 ,когда она действительно 1, и 416 раз 0,когда в реальности он 0."
   ]
  },
  {
   "cell_type": "markdown",
   "id": "2cc2caf4",
   "metadata": {},
   "source": [
    "<div class=\"alert alert-danger\">\n",
    "<font size=\"5\"><b>Комментарий ревьюера</b></font>\n",
    "\n",
    "Ошибка:\n",
    "\n",
    "Вылетает ошибка     \n",
    "    \n",
    "    NameError: name 'predictions' is not defined\n",
    "\n",
    "\n",
    "    \n",
    "Стоит перед отправкой проекта перезапустить ядро и выполнить все ячейки – так можно проверить, что код работает:\n",
    "    \n",
    "<img src='https://jing.yandex-team.ru/files/aslvova/Screenshot%202022-05-31%20at%2011.08.40.png' alt='restart_kernel_and_run_all' width='400'>\n",
    "\n",
    "\n",
    "    \n",
    "- поднимаем импорты наверх    \n",
    "</div>"
   ]
  },
  {
   "cell_type": "markdown",
   "id": "374ea272",
   "metadata": {},
   "source": [
    "<div class = \"alert alert-info\" style=\"border-left: 7px solid blue\">\n",
    "<h3>Комментарий студента</h3>\n",
    "Прошу прощения за такую нелепость.Все поправила.\n",
    "</div>"
   ]
  },
  {
   "cell_type": "markdown",
   "id": "3fe1e444",
   "metadata": {},
   "source": [
    "<div class=\"alert alert-success\">\n",
    "<font size=\"5\"><b>Комментарий ревьюераV2</b></font>\n",
    "\n",
    "\n",
    "\n",
    "Успех 👍:\n",
    "\n",
    "\n",
    "\n",
    "👍\n",
    "\n",
    "\n",
    "\n",
    "\n",
    "</div>\n"
   ]
  },
  {
   "cell_type": "markdown",
   "id": "a0ea6d15",
   "metadata": {},
   "source": [
    "### Случайный лес"
   ]
  },
  {
   "cell_type": "markdown",
   "id": "20add86f",
   "metadata": {},
   "source": [
    "В алгоритме случайного леса, так же важным гиперпараметром является n_estimators, количество деревьев.\\\n",
    "Подберем глубину деревьев и их количество, чтобы качество предсказаний было наилучшим."
   ]
  },
  {
   "cell_type": "code",
   "execution_count": 16,
   "id": "715e0819",
   "metadata": {},
   "outputs": [
    {
     "name": "stdout",
     "output_type": "stream",
     "text": [
      "Accuracy наилучшей модели на валидационной выборке: 0.8211508553654744 Количество деревьев: 40 Максимальная глубина: 9\n",
      "Лучшая модель: RandomForestClassifier(max_depth=9, n_estimators=40, random_state=12345)\n"
     ]
    }
   ],
   "source": [
    "best_model_forest = None\n",
    "best_result_forest = 0\n",
    "best_est_forest = 0\n",
    "best_depth_forest = 0\n",
    "for est in range(10,50,10):\n",
    "    for depth in range (1, 10):\n",
    "        model_forest = RandomForestClassifier(random_state=12345, n_estimators=est, max_depth=depth) # обучаем модель с заданным количеством и глубиной деревьев\n",
    "        model_forest.fit(features_train, target_train) \n",
    "        result = model_forest.score(features_valid,target_valid ) \n",
    "        if result > best_result_forest:\n",
    "            best_model_forest = model_forest\n",
    "            best_result_forest = result\n",
    "            best_est_forest = est\n",
    "            best_depth_forest = depth\n",
    "print(\"Accuracy наилучшей модели на валидационной выборке:\", best_result_forest,\"Количество деревьев:\", best_est_forest, \"Максимальная глубина:\", best_depth_forest)\n",
    "print(f'Лучшая модель: {best_model_forest}')"
   ]
  },
  {
   "cell_type": "code",
   "execution_count": 17,
   "id": "fb8cf984",
   "metadata": {},
   "outputs": [
    {
     "data": {
      "image/png": "[encoded data removed]",
      "text/plain": [
       "<Figure size 432x288 with 2 Axes>"
      ]
     },
     "metadata": {
      "needs_background": "light"
     },
     "output_type": "display_data"
    }
   ],
   "source": [
    "predictions_forest = model_forest.predict(features_valid)\n",
    "matrix = confusion_matrix(target_valid,predictions_forest,labels=model_forest.classes_ )\n",
    "disp = ConfusionMatrixDisplay(confusion_matrix=matrix,\n",
    "                              display_labels=model_forest.classes_)\n",
    "disp.plot()\n",
    "plt.show()\n"
   ]
  },
  {
   "cell_type": "markdown",
   "id": "6dc5657c",
   "metadata": {},
   "source": [
    "Здесь видим, что модель предстказала правильно 528 раз на валидационной выборке, что уже лучше, чем в алгоритме дерева решений."
   ]
  },
  {
   "cell_type": "markdown",
   "id": "f695b9e8",
   "metadata": {},
   "source": [
    "\n",
    "<div class=\"alert alert-success\">\n",
    "<font size=\"5\"><b>Комментарий ревьюера</b></font>\n",
    "\n",
    "Успех:\n",
    "    \n",
    "По большему числу гиперпараметров перебор -   тем лучше метрика. Здорово   \n",
    "\n",
    "\n",
    "\n",
    "\n",
    "<div class=\"alert alert-warning\">\n",
    "\n",
    "\n",
    "Совет: \n",
    "\n",
    "- Здорово что использован перебор не по одному гиперпараметру. Поэтому посоветую поизучать sklearn-ий GreedSearchCV. В случаи использования GridSearch, не нужно будет заранее делать валидационную выборку, лучшую метрику автоматом сохранят в best_score_, а лучшую модель (переобученная уже на полном наборе данных) будет хранить в best_estimator_. Это тема будущих теоретических занятий, но если есть время можешь сразу попробовать.\n",
    "\n",
    "\n",
    "\n",
    "- Когда что то долго крутиться, можно использовать  %%time - ставишь на самый вверх ячейки с кодом, время выполнения которого хочешь замерить, может не знаешь.  Быстрее не станет, но все будут видеть стоит ли ждать не отходя от ПК или можно сходить чаек поставить ))  А еще есть tqdm, показывает на каком этапе у нас работа в цикле происходит\n",
    "\n",
    "\n",
    "\n",
    "</div>\n"
   ]
  },
  {
   "cell_type": "markdown",
   "id": "6fb20f68",
   "metadata": {},
   "source": [
    "<div class = \"alert alert-info\" style=\"border-left: 7px solid blue\">\n",
    "<h3>Комментарий студента</h3>\n",
    "Спасибо за совет, перед первой отправкой я пробовала GridSearch на дереве решений и у меня в цикле и в GridSearch получилась разная глубина дерева, задала вопрос преподавателю почему так, он сказал пока рано туда лезть и не использовать GridSearch.С %% time так как раз и эксперементировала.\n",
    "</div>"
   ]
  },
  {
   "cell_type": "markdown",
   "id": "bad4ca07",
   "metadata": {},
   "source": [
    "<div class=\"alert alert-warning\">\n",
    "<font size=\"5\"><b>Комментарий ревьюераV2</b></font>\n",
    "\n",
    "Совет: \n",
    "\n",
    "    \n",
    "Ну я не преподователь, поэтому не буду говорить что рано )    \n",
    "    \n",
    "    \n",
    "GridSearch стоило обучить на наборе train+validation (ты на полном датасете обучал или только на train?!), или просто не нужно было отрезать валидационную выборку, он сам это сделает внутри себя (причем несколько раз и на каждой новой паре отдельно обучится, а затем усреднит результаты). Вот поэтому результаты разные могли быть разные, ведь в цикле модель обучалась на  features_train, и в GridSearch подана  features_train, которую он самостоятельно разбил еще раз на тренировочную и валидационную. Вот и получилось что GridSearch искал лучшие гиперпараметры на меньшем датасете, а это верный путь к ухудшению качества модели.\n",
    "    \n",
    "    \n",
    "Во вторых     GridSearch использует кроссвалидацию, вот еще одна причина почему почти всегда будет разница.\n",
    "\n",
    "\n",
    "\n",
    "\n",
    "</div>\n"
   ]
  },
  {
   "cell_type": "markdown",
   "id": "e8ad6a12",
   "metadata": {},
   "source": [
    "### Логистическая регрессия"
   ]
  },
  {
   "cell_type": "code",
   "execution_count": 18,
   "id": "640e78af",
   "metadata": {},
   "outputs": [
    {
     "name": "stdout",
     "output_type": "stream",
     "text": [
      "Accuracy наилучшей модели на валидационной выборке: 0.7387247278382582\n"
     ]
    }
   ],
   "source": [
    "model_logistic = LogisticRegression(random_state=12345, solver='lbfgs', max_iter=1000)\n",
    "model_logistic.fit(features_train, target_train) \n",
    "best_result_logistic = model_logistic.score(features_valid,target_valid) \n",
    "print(\"Accuracy наилучшей модели на валидационной выборке:\", best_result_logistic)"
   ]
  },
  {
   "cell_type": "markdown",
   "id": "19d8ca4c",
   "metadata": {},
   "source": [
    "<div class=\"alert alert-danger\">\n",
    "<font size=\"5\"><b>Комментарий ревьюера</b></font>\n",
    "\n",
    "Ошибка:\n",
    "\n",
    "Вылетает ошибка     \n",
    "    \n",
    "    NameError: name 'best_result' is not defined\n",
    "\n",
    "\n",
    "\n",
    "\n",
    "</div>"
   ]
  },
  {
   "cell_type": "markdown",
   "id": "fcf35390",
   "metadata": {},
   "source": [
    "<div class = \"alert alert-info\" style=\"border-left: 7px solid blue\">\n",
    "<h3>Комментарий студента</h3>\n",
    "И снова извини.Поправила.\n",
    "</div>"
   ]
  },
  {
   "cell_type": "markdown",
   "id": "73b6271f",
   "metadata": {},
   "source": [
    "<div class=\"alert alert-success\">\n",
    "<font size=\"5\"><b>Комментарий ревьюераV2</b></font>\n",
    "\n",
    "\n",
    "\n",
    "Успех 👍:\n",
    "\n",
    "\n",
    "\n",
    "👍\n",
    "\n",
    "\n",
    "\n",
    "\n",
    "</div>\n"
   ]
  },
  {
   "cell_type": "markdown",
   "id": "e9dd96aa",
   "metadata": {},
   "source": [
    "### Выбор наилучшей модели и ее тестирование"
   ]
  },
  {
   "cell_type": "markdown",
   "id": "64a79b5d",
   "metadata": {},
   "source": [
    "Сведем полученные результаты на валидационной выборке разных алгоритмов, для определения наилучшего."
   ]
  },
  {
   "cell_type": "code",
   "execution_count": 19,
   "id": "3b039b93",
   "metadata": {
    "scrolled": true
   },
   "outputs": [
    {
     "data": {
      "text/html": [
       "<div>\n",
       "<style scoped>\n",
       "    .dataframe tbody tr th:only-of-type {\n",
       "        vertical-align: middle;\n",
       "    }\n",
       "\n",
       "    .dataframe tbody tr th {\n",
       "        vertical-align: top;\n",
       "    }\n",
       "\n",
       "    .dataframe thead th {\n",
       "        text-align: right;\n",
       "    }\n",
       "</style>\n",
       "<table border=\"1\" class=\"dataframe\">\n",
       "  <thead>\n",
       "    <tr style=\"text-align: right;\">\n",
       "      <th></th>\n",
       "      <th>model</th>\n",
       "      <th>accuracy</th>\n",
       "    </tr>\n",
       "  </thead>\n",
       "  <tbody>\n",
       "    <tr>\n",
       "      <th>0</th>\n",
       "      <td>DecisionTree</td>\n",
       "      <td>0.802488</td>\n",
       "    </tr>\n",
       "    <tr>\n",
       "      <th>1</th>\n",
       "      <td>RandomForest</td>\n",
       "      <td>0.821151</td>\n",
       "    </tr>\n",
       "    <tr>\n",
       "      <th>2</th>\n",
       "      <td>LogisticRegression</td>\n",
       "      <td>0.738725</td>\n",
       "    </tr>\n",
       "  </tbody>\n",
       "</table>\n",
       "</div>"
      ],
      "text/plain": [
       "                model  accuracy\n",
       "0        DecisionTree  0.802488\n",
       "1        RandomForest  0.821151\n",
       "2  LogisticRegression  0.738725"
      ]
     },
     "execution_count": 19,
     "metadata": {},
     "output_type": "execute_result"
    }
   ],
   "source": [
    "result = pd.DataFrame()\n",
    "result['model'] = ['DecisionTree','RandomForest','LogisticRegression']\n",
    "result['accuracy'] =[best_score_tree,best_result_forest,best_result_logistic]\n",
    "result"
   ]
  },
  {
   "cell_type": "markdown",
   "id": "01b8460a",
   "metadata": {},
   "source": [
    "\n",
    "<div class=\"alert alert-warning\">\n",
    "<font size=\"5\"><b>Комментарий ревьюера</b></font>\n",
    "\n",
    "Совет:\n",
    "\n",
    "Наглядно и здорово что оформила в табличку, то почему не автоматическое заполнение, зачем мы программируем как не для того чтобы уменьшить ручной труд, плюс достигнем универсальности кода - новые данные, новые результаты, а у нас все равно все срабатывает    \n",
    "    \n",
    "    \n",
    "</div>\n",
    "\n"
   ]
  },
  {
   "cell_type": "markdown",
   "id": "0f667192",
   "metadata": {},
   "source": [
    "<div class = \"alert alert-info\" style=\"border-left: 7px solid blue\">\n",
    "<h3>Комментарий студента</h3>\n",
    "Изменила, если ты имел в виду не это, то подскажи как именно можно это автоматизировать.\n",
    "</div>"
   ]
  },
  {
   "cell_type": "markdown",
   "id": "146ab3fc",
   "metadata": {},
   "source": [
    "<div class=\"alert alert-success\">\n",
    "<font size=\"5\"><b>Комментарий ревьюераV2</b></font>\n",
    "\n",
    "\n",
    "\n",
    "Успех 👍:\n",
    "\n",
    "\n",
    "\n",
    "👍\n",
    "\n",
    "\n",
    "\n",
    "\n",
    "</div>\n"
   ]
  },
  {
   "cell_type": "markdown",
   "id": "7ca047e5",
   "metadata": {},
   "source": [
    "Как видим на валидационной выборке лучше всего себя показала модель случайного леса с количеством деревьев 40 и максимальной глубиной деревьев 9. Проверим эту модель на тестовой выборке."
   ]
  },
  {
   "cell_type": "markdown",
   "id": "ed60bccf",
   "metadata": {},
   "source": [
    "\n",
    "<div class=\"alert alert-success\">\n",
    "<font size=\"5\"><b>Комментарий ревьюера</b></font>\n",
    "\n",
    "Успех:\n",
    "\n",
    "\n",
    "Все верно, RF лучший. \n",
    "\n",
    "\n",
    "<div class=\"alert alert-warning\">\n",
    "\n",
    "\n",
    "Совет: \n",
    "\n",
    "Если есть желание можешь ответить на вопросики ))    \n",
    "\n",
    "\n",
    "\n",
    "\n",
    "\n",
    "- Насколько знаю вы еще под капот моделям не заглядывали, но может знаешь почему обычно RF показывает более высокие результаты из выбранных?\n",
    "\n",
    "\n",
    "- Мы решаем задачу классификации (а еще есть задача регрессии), а в названии модели с помощью которой мы решаем задачу \"классификации\" есть слово \"регрессия\".  Нет ли тут парадокса? )\n",
    "    \n",
    "\n",
    "- Почему логистическая регрессия показывать на много более худшие результаты?  \n",
    "\n",
    "\n",
    "</div>\n",
    "\n",
    "\n",
    "\n"
   ]
  },
  {
   "cell_type": "markdown",
   "id": "b3f3c539",
   "metadata": {},
   "source": [
    "<div class = \"alert alert-info\" style=\"border-left: 7px solid blue\">\n",
    "<h3>Комментарий студента</h3>\n",
    "\n",
    "-  На сколько я поняла случайный лес делит тренировочную выборку на подвыборки в количестве равном количеству деревьев, и на них обучается.Получается каждому дереву меньше данных и он лучше их обрабатывает.Ну и одна голова хорошо, а 40 великолепно)))\n",
    "    \n",
    "-  Изучив вопрос,пришла к тому ,что тут используется регрессия в прямом совоем виде, но вероятность получения значения 1 или 0, трансформируется с помощью логарифма.\n",
    "    \n",
    "-  могу только предположить,что между данными нет линейной зависимости.    \n",
    "</div>"
   ]
  },
  {
   "cell_type": "markdown",
   "id": "48b88711",
   "metadata": {},
   "source": [
    "<div class=\"alert alert-success\">\n",
    "<font size=\"5\"><b>Комментарий ревьюераV2</b></font>\n",
    "\n",
    "\n",
    "Успех:\n",
    "\n",
    "\n",
    "Дополню чуть\n",
    "\n",
    "1. Да, в RF обучается несколько деревьев, а решение принимается путем голосования. Каждое дерево в RF учится на своем датасете (используется техника бутстрап), таким образом достигается \"независимость\" этих самых деревьев, в итоге ошибка разброса снижается. То что каждое дерево на меньшем дата сети лучше обучается - это нет. Голова- да )\n",
    "\n",
    "    \n",
    "2. Да, только не толко логарифм. \"Регрессия\", потому что внутри нее скалярное произведение (как и в линейной регрессии), дающее на выходе вещественное число (от + бесконечности до - бесконечности), на это число вешают сигмойду, логарифм и получают значение от 0 до 1 (вероятность класса).   \n",
    "    \n",
    "    \n",
    "3. Скажем так - не только линейная. Да, логистическая регрессия плоха (и хороша с другой стороны) тем что это линейный классификатор: обьекты на классы разделяем гиперплоскостью (прямой если на плоскости), а в данном датасете видимо более сложные, нелинейные связи между признаками и таргетом.   А RF с DT с этим справляются. На других данных  LR могла оказаться лучше, например потому что RF не может экстраполировать. \n",
    "\n",
    "\n",
    "</div>"
   ]
  },
  {
   "cell_type": "code",
   "execution_count": 20,
   "id": "93eb5998",
   "metadata": {
    "scrolled": true
   },
   "outputs": [
    {
     "data": {
      "text/plain": [
       "0.8087091757387247"
      ]
     },
     "execution_count": 20,
     "metadata": {},
     "output_type": "execute_result"
    }
   ],
   "source": [
    "best_model_forest.score(features_test,target_test)"
   ]
  },
  {
   "cell_type": "markdown",
   "id": "74e183c4",
   "metadata": {},
   "source": [
    "\n",
    "<div class=\"alert alert-success\">\n",
    "<font size=\"5\"><b>Комментарий ревьюера</b></font>\n",
    "\n",
    "Успех:\n",
    "\n",
    "\n",
    "Все верно, логика моделирования не нарушена, тут тестируем только лучшую модель (или парочку, если метрики были близки) отобранную на валидации. \n",
    "\n",
    "\n",
    "<div class=\"alert alert-warning\">\n",
    "\n",
    "Вопросики и совет:\n",
    "\n",
    "\n",
    "- model_forest совпала с best_model_forest, но лучше использовать best_model_forest\n",
    "    \n",
    "    \n",
    "\n",
    "- Как попробовать улучшить результат, не мучаясь с кодом?! Смотри - мы сформировали train выборку на которой обучаем модель, а валидационную используем для поиска лучших значений гиперпараметров. Оке, нашли их. Так почему бы теперь модель с выбранными гиперпараметрами не обучить на тренировочной + валидационной выборке (только не нужно делать новые сплиты, используй pd.concat(), к примеру)?! Чем больше данных, тем лучше модель может обучиться. И эту дообученную модель проверим на тесте. Гаранитий что станет лучше нет, но ML это постоянные эксперименты.  \n",
    "    \n",
    "    \n",
    "<div>"
   ]
  },
  {
   "cell_type": "markdown",
   "id": "5110a896",
   "metadata": {},
   "source": [
    "<div class = \"alert alert-info\" style=\"border-left: 7px solid blue\">\n",
    "<h3>Комментарий студента</h3>\n",
    "Ниже опробовала и внесла это в проект.Спасибо.\n",
    "</div>"
   ]
  },
  {
   "cell_type": "markdown",
   "id": "c643657a",
   "metadata": {},
   "source": [
    "### Улучшение модели и проверка на адекватность"
   ]
  },
  {
   "cell_type": "markdown",
   "id": "7e9b8255",
   "metadata": {},
   "source": [
    "Попробуем улучшить модель, обучив ее на большем количестве данных, для этого объеденим тренировочную и валидационную выборки.По скольку валидационная больше ненужна, выбор наилучшей модели выполнен."
   ]
  },
  {
   "cell_type": "code",
   "execution_count": 21,
   "id": "781bb802",
   "metadata": {
    "scrolled": true
   },
   "outputs": [
    {
     "name": "stdout",
     "output_type": "stream",
     "text": [
      "Accuracy на объединенных выборках составляет: 0.8242612752721618\n"
     ]
    }
   ],
   "source": [
    "frames_features = [features_valid, features_train]\n",
    "frames_target = [target_valid, target_train]\n",
    "features_val_train = pd.concat(frames_features)\n",
    "target_val_train = pd.concat(frames_target)\n",
    "\n",
    "model_val_train = RandomForestClassifier(max_depth=9, n_estimators=40, random_state=12345,class_weight='balanced')\n",
    "model_val_train.fit(features_val_train,target_val_train)\n",
    "\n",
    "print('Accuracy на объединенных выборках составляет:', model_val_train.score(features_test,target_test))"
   ]
  },
  {
   "cell_type": "markdown",
   "id": "c74680e9",
   "metadata": {},
   "source": [
    "<div class=\"alert alert-success\">\n",
    "<font size=\"5\"><b>Комментарий ревьюераV2</b></font>\n",
    "\n",
    "\n",
    "\n",
    "Успех 👍:\n",
    "\n",
    "\n",
    "\n",
    "Прямо скажем не всегда это срабатывает, но в данном случае метрика выросла очень сильно. Ура )\n",
    "\n",
    "\n",
    "\n",
    "</div>\n"
   ]
  },
  {
   "cell_type": "code",
   "execution_count": 22,
   "id": "5fc169f3",
   "metadata": {},
   "outputs": [
    {
     "data": {
      "image/png": "[encoded data removed]",
      "text/plain": [
       "<Figure size 432x288 with 2 Axes>"
      ]
     },
     "metadata": {
      "needs_background": "light"
     },
     "output_type": "display_data"
    }
   ],
   "source": [
    "predictions_val_train = model_val_train.predict(features_test)\n",
    "matrix = confusion_matrix(target_test,predictions_val_train,labels=model_val_train.classes_ )\n",
    "disp = ConfusionMatrixDisplay(confusion_matrix=matrix,\n",
    "                              display_labels=model_val_train.classes_)\n",
    "disp.plot()\n",
    "plt.show()"
   ]
  },
  {
   "cell_type": "markdown",
   "id": "f3e660d5",
   "metadata": {},
   "source": [
    "Результат улучшился.При обучении только на тренировочной выборке accuracy был 0.8087091757387247, а на объединенной с валидационной стал 0.8242612752721618. Итого 530 правильных предсказаний из 643 возможных."
   ]
  },
  {
   "cell_type": "markdown",
   "id": "6398628a",
   "metadata": {},
   "source": [
    "\n",
    "\n",
    "<div class=\"alert alert-success\">\n",
    "<font size=\"5\"><b>Комментарий ревьюераV2</b></font>\n",
    "\n",
    "Успех:\n",
    "\n",
    "Плюс за дополнительно метрику (Владислава извини, я нечаянно стёр твой код выше я его восстановил но не уверен что так каким он был)\n",
    "\n",
    "\n",
    "<div class=\"alert alert-warning\">\n",
    "<font size=\"5\"><b>Комментарий ревьюера</b></font>\n",
    "\n",
    "Совет: \n",
    "\n",
    "\n",
    "    \n",
    "- [вот](https://scikit-learn.org/stable/modules/generated/sklearn.metrics.ConfusionMatrixDisplay.html) как покрасивей можно было  confusion_matrix вывести\n",
    "    \n",
    "\n",
    "    \n",
    "    \n",
    "</div>"
   ]
  },
  {
   "cell_type": "markdown",
   "id": "9c1cc1e4",
   "metadata": {},
   "source": [
    "\n",
    "\n",
    "\n",
    "<div class=\"alert alert-warning\">\n",
    "<font size=\"5\"><b>Комментарий ревьюера</b></font>\n",
    "\n",
    "Совет:\n",
    "\n",
    "Владислава, бонусное на то и бонусное, но можешь попробовать его решить с моей подсказкой.    \n",
    "\n",
    "Колючевое это помнить  что у нас дисбаланс в таргете (нулей гораздно больше чем единиц) и четко понимать как считается accuracy.\n",
    "В чем смысл проверки модели на адекватность  при дисбалансе? Вот смотри - обучили мы какую то модель, которая на test показывает 90% accuraсy. Шикарная модель скажем мы. А если в датасете у нас в метках таргета единичек 99,9% (допустим тренируем на данных где 1 это \"кирпич упал на голову человеку когда он вышел из дома\"), а нулей 0,1% (\"не упал\")?! Все также утверждаем что наша модель шикарная?! Нет, потому что всегда можно предсказывать что не упадает (единички) и accuracy будет равна 99,9%\n",
    "\n",
    "Вот и тут мы сравниваем нашу обученную модель с примитивным прогнозом самого частого таргета. Какой у нас самый частый класс? Нули. Так посмотри accuracy_score target_test и ряда из одних нулей. Сколько будет?. \n",
    "\n",
    "\n",
    "    \n",
    "    \n",
    "\n",
    "При проверке на адекватность модели, рекомендую ознакомиться с [Dummy Models](https://scikit-learn.org/stable/modules/generated/sklearn.dummy.DummyClassifier.html), это удобная обертка для константных моделей и сделает тоже самое что я описал на словах\n",
    "\n",
    "</div>"
   ]
  },
  {
   "cell_type": "markdown",
   "id": "bfcb459c",
   "metadata": {},
   "source": [
    "В данных наблюдается дисбаланс классов,сравним показатель нашей наилучшей модели с показателем модели,которая предсказывает самый часто встречающийся класс, в нашем случае - ноль."
   ]
  },
  {
   "cell_type": "code",
   "execution_count": 23,
   "id": "beccefe7",
   "metadata": {},
   "outputs": [
    {
     "data": {
      "text/plain": [
       "0.6936236391912908"
      ]
     },
     "execution_count": 23,
     "metadata": {},
     "output_type": "execute_result"
    }
   ],
   "source": [
    "dummy_clf = DummyClassifier(strategy=\"most_frequent\")\n",
    "dummy_clf.fit(features_val_train,target_val_train)\n",
    "dummy_clf.score(features_test,target_test)"
   ]
  },
  {
   "cell_type": "markdown",
   "id": "bc687681",
   "metadata": {},
   "source": [
    "<div class=\"alert alert-success\">\n",
    "<font size=\"5\"><b>Комментарий ревьюераV2</b></font>\n",
    "\n",
    "\n",
    "\n",
    "Успех 👍:\n",
    "\n",
    "\n",
    "\n",
    "👍\n",
    "\n",
    "\n",
    "\n",
    "\n",
    "</div>\n"
   ]
  },
  {
   "cell_type": "code",
   "execution_count": 24,
   "id": "6825aa6b",
   "metadata": {},
   "outputs": [
    {
     "data": {
      "image/png": "[encoded data removed]",
      "text/plain": [
       "<Figure size 432x288 with 2 Axes>"
      ]
     },
     "metadata": {
      "needs_background": "light"
     },
     "output_type": "display_data"
    }
   ],
   "source": [
    "predictions_dummy_clf = dummy_clf.predict(features_test)\n",
    "matrix = confusion_matrix(target_test,predictions_dummy_clf,labels=dummy_clf.classes_ )\n",
    "disp = ConfusionMatrixDisplay(confusion_matrix=matrix,\n",
    "                              display_labels=dummy_clf.classes_)\n",
    "disp.plot()\n",
    "plt.show()"
   ]
  },
  {
   "cell_type": "markdown",
   "id": "9e3e0f3f",
   "metadata": {},
   "source": [
    "Как видим на выбранной лучшей модели результат лучше,0.824 в сравнении с 0.694. Так же добавила в расчет наилучшей модели гиперпараметр class_weight='balanced', который позволяет минимизировать влияние дисбаланса(без него score был 0.83, с ней стал 0.82).\\\n",
    "В деревьях решений (и их обобщениях – случайном лесе и градиентном бустинге), дисбаланс классов влияет на меры неоднородности (impurity) листьев, но это влияние примерно пропорционально для всех кандидатов в очередную разбивку (split), и потому обычно не особо влияет на выбор разбивок."
   ]
  },
  {
   "cell_type": "markdown",
   "id": "5d94ecb3",
   "metadata": {},
   "source": [
    "### Вывод"
   ]
  },
  {
   "cell_type": "markdown",
   "id": "50b57c0f",
   "metadata": {},
   "source": [
    "Имея данные о :\n",
    "-  сalls — количество звонков,\n",
    "-  minutes — суммарная длительность звонков в минутах,\n",
    "-  messages — количество sms-сообщений,\n",
    "-  mb_used — израсходованный интернет-трафик в Мб,\n",
    "-  is_ultra — каким тарифом пользовался в течение месяца («Ультра» — 1, «Смарт» — 0)\n",
    "\n",
    "Необходимо было проанализировать поведение клиентов и предложить пользователям новый тариф: «Смарт» или «Ультра».\\\n",
    "Для этого разбили данные на три выборки(тренировочну, валидационную и тестовую).\\\n",
    "Поскольку перед нами стояла задача классификации проверяли три модели : дерево решений, случайный лес и логистическая регрессия.\\\n",
    "Обучив каждую из них на треноровочном наборе и  сравнив результаты на валидационной выборке определили наилучшую модель: **RandomForestClassifier(max_depth=9, n_estimators=40, random_state=12345,class_weight='balanced')**.\\\n",
    "Протестировав на тестовой, получили приемлемый результат: 0.8087091757387247.\\\n",
    "Далее обучили выбранную модель на объединенных тренировочном и валидационном наборах, улучшили результат до **0.8242612752721618.**\\\n",
    "Так же модель прошла проверку на адекватность, при сравнении с моделью, предсказывающей самый популярный класс, с score = 0.6936236391912908 "
   ]
  },
  {
   "cell_type": "markdown",
   "id": "6a9bbc42",
   "metadata": {},
   "source": [
    "<div class=\"alert alert-success\">\n",
    "<font size=\"5\"><b>Комментарий ревьюераV2</b></font>\n",
    "\n",
    "Успех 👍:\n",
    "\n",
    "Отлично\n",
    "    \n",
    "\n",
    "\n",
    "<div class=\"alert alert-warning\">\n",
    "\n",
    "    \n",
    "Совет 🤔:\n",
    "\n",
    "\n",
    "    \n",
    "Стоило еще структурировать по смысловым блокам, выделив цветом или нумерацией блоки: работа с данными, модели,  итп    \n",
    "    \n",
    "\n",
    "</div>"
   ]
  },
  {
   "cell_type": "markdown",
   "id": "0461dc20",
   "metadata": {},
   "source": [
    "\n",
    "<div class=\"alert alert-info\">\n",
    "<font size=\"5\"><b>Комментарий ревьюера</b></font>\n",
    "\n",
    "\n",
    "\n",
    "\n",
    "Владислава, у тебя старательно выполненная работа, все четко, осмысленно. Вижу у тебя получается в ML,  дальше будет интересней )  \n",
    "\n",
    "\n",
    "\n",
    "Я оставил небольшие советы и вопросики (если есть время и желание можешь воспользоваться/ответить): \n",
    "\n",
    "\n",
    "\n",
    "\n",
    "  \n",
    "- посоветовал посмотреть в сторону GridSearchCV\n",
    "- как можно улучшить результаты \n",
    "\n",
    "\n",
    "\n",
    "\n",
    "Замечания на будущее:\n",
    "    \n",
    "\n",
    "\n",
    "- Было бы замечательно, в выводе немножко о данных, работе с ними (пусть даже никакой работы и не было), моделировании и полученных результатах. Это важно потому что когда проект захочет посмотреть будущий работодатель (или начальник), у него может не быть времени на подробный разбор кода. Вероятнее всего он бегло просмотрит код, а из общего вывода захочет получить представление о всей работе.\n",
    "\n",
    " \n",
    "    \n",
    "Обязательное к исправлению:\n",
    "\n",
    "\n",
    "\n",
    "- неисполнение кода\n",
    "\n",
    "    \n",
    "Жду исправлений, для принятия проекта. Если какие то вопросы, то сразу спрашивай ) \n",
    "\n",
    "</div>"
   ]
  },
  {
   "cell_type": "markdown",
   "id": "3d7194b2",
   "metadata": {},
   "source": [
    "\n",
    "<div class=\"alert alert-info\">\n",
    "<font size=\"5\"><b>Комментарий ревьюераV2</b></font>\n",
    "\n",
    "Спасибо за работу!    \n",
    "\n",
    "    \n",
    "Красное исправлено, многие желтые советы использованы, на  вопросы есть ответы  (это все было по желанию), значит стремишься развиваться, а желание и интерес это главное. Надеюсь мои советы и вопросики были полезны и в копилочку знаний упало что то новое, а проект стал лучше, и симпатичней.\n",
    "\n",
    "\n",
    "Отличная работа Владислава. Желаю успехов в дальнейшей учебе!\n",
    "\n",
    "\n",
    "\n",
    "\n",
    "</div>"
   ]
  },
  {
   "cell_type": "code",
   "execution_count": null,
   "id": "f2b142a0",
   "metadata": {},
   "outputs": [],
   "source": []
  }
 ],
 "metadata": {
  "ExecuteTimeLog": [
   {
    "duration": 61,
    "start_time": "2022-10-24T19:21:00.768Z"
   },
   {
    "duration": 1472,
    "start_time": "2022-10-24T19:21:08.684Z"
   },
   {
    "duration": 33,
    "start_time": "2022-10-24T19:21:10.158Z"
   },
   {
    "duration": 17,
    "start_time": "2022-10-24T19:21:10.193Z"
   },
   {
    "duration": 10,
    "start_time": "2022-10-24T19:21:10.212Z"
   },
   {
    "duration": 9,
    "start_time": "2022-10-24T19:21:10.224Z"
   },
   {
    "duration": 13,
    "start_time": "2022-10-24T19:21:10.235Z"
   },
   {
    "duration": 10,
    "start_time": "2022-10-24T19:21:10.250Z"
   },
   {
    "duration": 4,
    "start_time": "2022-10-24T19:21:10.262Z"
   },
   {
    "duration": 18,
    "start_time": "2022-10-24T19:21:10.268Z"
   },
   {
    "duration": 7,
    "start_time": "2022-10-24T19:21:10.289Z"
   },
   {
    "duration": 29,
    "start_time": "2022-10-24T19:21:10.297Z"
   },
   {
    "duration": 211,
    "start_time": "2022-10-24T19:21:10.328Z"
   },
   {
    "duration": 232,
    "start_time": "2022-10-24T19:21:10.541Z"
   },
   {
    "duration": 141,
    "start_time": "2022-10-24T19:21:10.774Z"
   },
   {
    "duration": 0,
    "start_time": "2022-10-24T19:21:10.917Z"
   },
   {
    "duration": 0,
    "start_time": "2022-10-24T19:21:10.918Z"
   },
   {
    "duration": 0,
    "start_time": "2022-10-24T19:21:10.924Z"
   },
   {
    "duration": 0,
    "start_time": "2022-10-24T19:21:10.925Z"
   },
   {
    "duration": 0,
    "start_time": "2022-10-24T19:21:10.926Z"
   },
   {
    "duration": 0,
    "start_time": "2022-10-24T19:21:10.927Z"
   },
   {
    "duration": 12,
    "start_time": "2022-10-24T19:21:28.497Z"
   },
   {
    "duration": 1539,
    "start_time": "2022-10-24T19:21:39.246Z"
   },
   {
    "duration": 39,
    "start_time": "2022-10-24T19:21:40.787Z"
   },
   {
    "duration": 13,
    "start_time": "2022-10-24T19:21:40.828Z"
   },
   {
    "duration": 10,
    "start_time": "2022-10-24T19:21:40.844Z"
   },
   {
    "duration": 8,
    "start_time": "2022-10-24T19:21:40.856Z"
   },
   {
    "duration": 9,
    "start_time": "2022-10-24T19:21:40.866Z"
   },
   {
    "duration": 8,
    "start_time": "2022-10-24T19:21:40.877Z"
   },
   {
    "duration": 38,
    "start_time": "2022-10-24T19:21:40.886Z"
   },
   {
    "duration": 8,
    "start_time": "2022-10-24T19:21:40.926Z"
   },
   {
    "duration": 7,
    "start_time": "2022-10-24T19:21:40.936Z"
   },
   {
    "duration": 5,
    "start_time": "2022-10-24T19:21:40.944Z"
   },
   {
    "duration": 205,
    "start_time": "2022-10-24T19:21:40.951Z"
   },
   {
    "duration": 208,
    "start_time": "2022-10-24T19:21:41.157Z"
   },
   {
    "duration": 137,
    "start_time": "2022-10-24T19:21:41.367Z"
   },
   {
    "duration": 0,
    "start_time": "2022-10-24T19:21:41.506Z"
   },
   {
    "duration": 0,
    "start_time": "2022-10-24T19:21:41.508Z"
   },
   {
    "duration": 0,
    "start_time": "2022-10-24T19:21:41.509Z"
   },
   {
    "duration": 0,
    "start_time": "2022-10-24T19:21:41.524Z"
   },
   {
    "duration": 0,
    "start_time": "2022-10-24T19:21:41.525Z"
   },
   {
    "duration": 0,
    "start_time": "2022-10-24T19:21:41.526Z"
   },
   {
    "duration": 11,
    "start_time": "2022-10-24T19:22:00.526Z"
   },
   {
    "duration": 12,
    "start_time": "2022-10-24T19:22:14.447Z"
   },
   {
    "duration": 2343,
    "start_time": "2022-10-24T19:23:03.102Z"
   },
   {
    "duration": 15,
    "start_time": "2022-10-24T19:23:14.871Z"
   },
   {
    "duration": 46,
    "start_time": "2022-10-24T19:23:18.350Z"
   },
   {
    "duration": 10,
    "start_time": "2022-10-24T19:23:55.971Z"
   },
   {
    "duration": 15,
    "start_time": "2022-10-24T19:24:00.094Z"
   },
   {
    "duration": 17,
    "start_time": "2022-10-24T19:24:02.180Z"
   },
   {
    "duration": 16,
    "start_time": "2022-10-24T19:24:59.979Z"
   },
   {
    "duration": 5,
    "start_time": "2022-10-24T19:26:05.130Z"
   },
   {
    "duration": 2570,
    "start_time": "2022-10-24T19:26:42.545Z"
   },
   {
    "duration": 28736,
    "start_time": "2022-10-24T19:27:54.523Z"
   },
   {
    "duration": 5,
    "start_time": "2022-10-24T19:28:43.653Z"
   },
   {
    "duration": 1988,
    "start_time": "2022-10-27T07:11:29.774Z"
   },
   {
    "duration": 32,
    "start_time": "2022-10-27T07:11:31.764Z"
   },
   {
    "duration": 17,
    "start_time": "2022-10-27T07:11:31.797Z"
   },
   {
    "duration": 11,
    "start_time": "2022-10-27T07:11:31.816Z"
   },
   {
    "duration": 10,
    "start_time": "2022-10-27T07:11:31.828Z"
   },
   {
    "duration": 11,
    "start_time": "2022-10-27T07:11:31.839Z"
   },
   {
    "duration": 41,
    "start_time": "2022-10-27T07:11:31.852Z"
   },
   {
    "duration": 9,
    "start_time": "2022-10-27T07:11:31.895Z"
   },
   {
    "duration": 14,
    "start_time": "2022-10-27T07:11:31.905Z"
   },
   {
    "duration": 10,
    "start_time": "2022-10-27T07:11:31.922Z"
   },
   {
    "duration": 7,
    "start_time": "2022-10-27T07:11:31.934Z"
   },
   {
    "duration": 213,
    "start_time": "2022-10-27T07:11:31.943Z"
   },
   {
    "duration": 227,
    "start_time": "2022-10-27T07:11:32.158Z"
   },
   {
    "duration": 1061,
    "start_time": "2022-10-27T07:11:32.390Z"
   },
   {
    "duration": 180,
    "start_time": "2022-10-27T07:11:33.453Z"
   },
   {
    "duration": 2395,
    "start_time": "2022-10-27T07:11:33.636Z"
   },
   {
    "duration": 202,
    "start_time": "2022-10-27T07:11:36.033Z"
   },
   {
    "duration": 37,
    "start_time": "2022-10-27T07:11:36.237Z"
   },
   {
    "duration": 33,
    "start_time": "2022-10-27T07:11:36.276Z"
   },
   {
    "duration": 14,
    "start_time": "2022-10-27T07:11:36.311Z"
   },
   {
    "duration": 267,
    "start_time": "2022-10-27T07:11:36.327Z"
   },
   {
    "duration": 215,
    "start_time": "2022-10-27T07:11:36.596Z"
   },
   {
    "duration": 7,
    "start_time": "2022-10-27T07:11:36.813Z"
   },
   {
    "duration": 191,
    "start_time": "2022-10-27T07:11:36.822Z"
   }
  ],
  "hide_input": false,
  "kernelspec": {
   "display_name": "Python 3 (ipykernel)",
   "language": "python",
   "name": "python3"
  },
  "language_info": {
   "codemirror_mode": {
    "name": "ipython",
    "version": 3
   },
   "file_extension": ".py",
   "mimetype": "text/x-python",
   "name": "python",
   "nbconvert_exporter": "python",
   "pygments_lexer": "ipython3",
   "version": "3.9.12"
  },
  "toc": {
   "base_numbering": 1,
   "nav_menu": {},
   "number_sections": true,
   "sideBar": true,
   "skip_h1_title": true,
   "title_cell": "Table of Contents",
   "title_sidebar": "Contents",
   "toc_cell": false,
   "toc_position": {},
   "toc_section_display": true,
   "toc_window_display": false
  }
 },
 "nbformat": 4,
 "nbformat_minor": 5
}
