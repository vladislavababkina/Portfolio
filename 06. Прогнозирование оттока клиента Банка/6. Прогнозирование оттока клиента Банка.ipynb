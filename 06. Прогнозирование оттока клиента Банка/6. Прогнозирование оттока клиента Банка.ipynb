{
 "cells": [
  {
   "cell_type": "markdown",
   "id": "be2bd029",
   "metadata": {
    "toc": true
   },
   "source": [
    "<h1>Содержание<span class=\"tocSkip\"></span></h1>\n",
    "<div class=\"toc\"><ul class=\"toc-item\"><li><span><a href=\"#Подготовка-данных\" data-toc-modified-id=\"Подготовка-данных-1\"><span class=\"toc-item-num\">1&nbsp;&nbsp;</span>Подготовка данных</a></span></li><li><span><a href=\"#Исследование-задачи\" data-toc-modified-id=\"Исследование-задачи-2\"><span class=\"toc-item-num\">2&nbsp;&nbsp;</span>Исследование задачи</a></span></li><li><span><a href=\"#Борьба-с-дисбалансом\" data-toc-modified-id=\"Борьба-с-дисбалансом-3\"><span class=\"toc-item-num\">3&nbsp;&nbsp;</span>Борьба с дисбалансом</a></span><ul class=\"toc-item\"><li><span><a href=\"#Метод-взвешивания\" data-toc-modified-id=\"Метод-взвешивания-3.1\"><span class=\"toc-item-num\">3.1&nbsp;&nbsp;</span>Метод взвешивания</a></span></li><li><span><a href=\"#SMOTE\" data-toc-modified-id=\"SMOTE-3.2\"><span class=\"toc-item-num\">3.2&nbsp;&nbsp;</span>SMOTE</a></span></li><li><span><a href=\"#ADASYN\" data-toc-modified-id=\"ADASYN-3.3\"><span class=\"toc-item-num\">3.3&nbsp;&nbsp;</span>ADASYN</a></span></li><li><span><a href=\"#Выбор-метода\" data-toc-modified-id=\"Выбор-метода-3.4\"><span class=\"toc-item-num\">3.4&nbsp;&nbsp;</span>Выбор метода</a></span></li></ul></li><li><span><a href=\"#Тестирование-модели\" data-toc-modified-id=\"Тестирование-модели-4\"><span class=\"toc-item-num\">4&nbsp;&nbsp;</span>Тестирование модели</a></span></li><li><span><a href=\"#Вывод\" data-toc-modified-id=\"Вывод-5\"><span class=\"toc-item-num\">5&nbsp;&nbsp;</span>Вывод</a></span></li></ul></div>"
   ]
  },
  {
   "cell_type": "markdown",
   "id": "97eb067b",
   "metadata": {},
   "source": [
    "# Прогнозирование оттока клиентов"
   ]
  },
  {
   "cell_type": "markdown",
   "id": "48f2028b",
   "metadata": {},
   "source": [
    "Имеем исторические данные о поведении клиентов и расторжении договоров с банком.\\\n",
    "Необходимо спрогнозировать, уйдёт клиент из банка в ближайшее время или нет.\n",
    "\n",
    "**Описание данных:**\n",
    "-  RowNumber — индекс строки в данных\n",
    "-  CustomerId — уникальный идентификатор клиента\n",
    "-  Surname — фамилия\n",
    "-  CreditScore — кредитный рейтинг\n",
    "-  Geography — страна проживания\n",
    "-  Gender — пол\n",
    "-  Age — возраст\n",
    "-  Tenure — сколько лет человек является клиентом банка\n",
    "-  Balance — баланс на счёте\n",
    "-  NumOfProducts — количество продуктов банка, используемых клиентом\n",
    "-  HasCrCard — наличие кредитной карты\n",
    "-  IsActiveMember — активность клиента\n",
    "-  EstimatedSalary — предполагаемая зарплата\n",
    "-  Exited — факт ухода клиента"
   ]
  },
  {
   "cell_type": "code",
   "execution_count": 1,
   "id": "4fcda78e",
   "metadata": {},
   "outputs": [],
   "source": [
    "import pandas as pd\n",
    "import numpy as np\n",
    "import random\n",
    "import seaborn as sns\n",
    "import matplotlib.pyplot as plt\n",
    "\n",
    "from sklearn.model_selection import train_test_split\n",
    "from sklearn.tree import DecisionTreeClassifier\n",
    "from sklearn.ensemble import RandomForestClassifier\n",
    "from sklearn.linear_model import LogisticRegression\n",
    "from sklearn.metrics import confusion_matrix,ConfusionMatrixDisplay\n",
    "from sklearn.metrics import f1_score,accuracy_score,roc_auc_score,precision_score,recall_score\n",
    "from sklearn.metrics import roc_curve,precision_recall_curve\n",
    "from sklearn.dummy import DummyClassifier\n",
    "from sklearn.preprocessing import StandardScaler\n",
    "from skimpy import skim, clean_columns\n",
    "\n",
    "from sklearn.model_selection import GridSearchCV\n",
    "from sklearn.feature_selection import mutual_info_classif\n",
    "from imblearn.over_sampling import SMOTE, ADASYN\n",
    "from collections import Counter\n",
    "from sklearn.impute import KNNImputer\n",
    "from sklearn.preprocessing import OneHotEncoder\n",
    "\n",
    "import warnings\n",
    "warnings.filterwarnings('ignore')"
   ]
  },
  {
   "cell_type": "markdown",
   "id": "696916dd",
   "metadata": {},
   "source": [
    "## Подготовка данных"
   ]
  },
  {
   "cell_type": "code",
   "execution_count": 2,
   "id": "3e5b93b5",
   "metadata": {},
   "outputs": [],
   "source": [
    "data = pd.read_csv('/datasets/Churn.csv')"
   ]
  },
  {
   "cell_type": "code",
   "execution_count": 3,
   "id": "d7a8a65c",
   "metadata": {},
   "outputs": [
    {
     "data": {
      "text/html": [
       "<div>\n",
       "<style scoped>\n",
       "    .dataframe tbody tr th:only-of-type {\n",
       "        vertical-align: middle;\n",
       "    }\n",
       "\n",
       "    .dataframe tbody tr th {\n",
       "        vertical-align: top;\n",
       "    }\n",
       "\n",
       "    .dataframe thead th {\n",
       "        text-align: right;\n",
       "    }\n",
       "</style>\n",
       "<table border=\"1\" class=\"dataframe\">\n",
       "  <thead>\n",
       "    <tr style=\"text-align: right;\">\n",
       "      <th></th>\n",
       "      <th>RowNumber</th>\n",
       "      <th>CustomerId</th>\n",
       "      <th>Surname</th>\n",
       "      <th>CreditScore</th>\n",
       "      <th>Geography</th>\n",
       "      <th>Gender</th>\n",
       "      <th>Age</th>\n",
       "      <th>Tenure</th>\n",
       "      <th>Balance</th>\n",
       "      <th>NumOfProducts</th>\n",
       "      <th>HasCrCard</th>\n",
       "      <th>IsActiveMember</th>\n",
       "      <th>EstimatedSalary</th>\n",
       "      <th>Exited</th>\n",
       "    </tr>\n",
       "  </thead>\n",
       "  <tbody>\n",
       "    <tr>\n",
       "      <th>0</th>\n",
       "      <td>1</td>\n",
       "      <td>15634602</td>\n",
       "      <td>Hargrave</td>\n",
       "      <td>619</td>\n",
       "      <td>France</td>\n",
       "      <td>Female</td>\n",
       "      <td>42</td>\n",
       "      <td>2.0</td>\n",
       "      <td>0.00</td>\n",
       "      <td>1</td>\n",
       "      <td>1</td>\n",
       "      <td>1</td>\n",
       "      <td>101348.88</td>\n",
       "      <td>1</td>\n",
       "    </tr>\n",
       "    <tr>\n",
       "      <th>1</th>\n",
       "      <td>2</td>\n",
       "      <td>15647311</td>\n",
       "      <td>Hill</td>\n",
       "      <td>608</td>\n",
       "      <td>Spain</td>\n",
       "      <td>Female</td>\n",
       "      <td>41</td>\n",
       "      <td>1.0</td>\n",
       "      <td>83807.86</td>\n",
       "      <td>1</td>\n",
       "      <td>0</td>\n",
       "      <td>1</td>\n",
       "      <td>112542.58</td>\n",
       "      <td>0</td>\n",
       "    </tr>\n",
       "    <tr>\n",
       "      <th>2</th>\n",
       "      <td>3</td>\n",
       "      <td>15619304</td>\n",
       "      <td>Onio</td>\n",
       "      <td>502</td>\n",
       "      <td>France</td>\n",
       "      <td>Female</td>\n",
       "      <td>42</td>\n",
       "      <td>8.0</td>\n",
       "      <td>159660.80</td>\n",
       "      <td>3</td>\n",
       "      <td>1</td>\n",
       "      <td>0</td>\n",
       "      <td>113931.57</td>\n",
       "      <td>1</td>\n",
       "    </tr>\n",
       "    <tr>\n",
       "      <th>3</th>\n",
       "      <td>4</td>\n",
       "      <td>15701354</td>\n",
       "      <td>Boni</td>\n",
       "      <td>699</td>\n",
       "      <td>France</td>\n",
       "      <td>Female</td>\n",
       "      <td>39</td>\n",
       "      <td>1.0</td>\n",
       "      <td>0.00</td>\n",
       "      <td>2</td>\n",
       "      <td>0</td>\n",
       "      <td>0</td>\n",
       "      <td>93826.63</td>\n",
       "      <td>0</td>\n",
       "    </tr>\n",
       "    <tr>\n",
       "      <th>4</th>\n",
       "      <td>5</td>\n",
       "      <td>15737888</td>\n",
       "      <td>Mitchell</td>\n",
       "      <td>850</td>\n",
       "      <td>Spain</td>\n",
       "      <td>Female</td>\n",
       "      <td>43</td>\n",
       "      <td>2.0</td>\n",
       "      <td>125510.82</td>\n",
       "      <td>1</td>\n",
       "      <td>1</td>\n",
       "      <td>1</td>\n",
       "      <td>79084.10</td>\n",
       "      <td>0</td>\n",
       "    </tr>\n",
       "  </tbody>\n",
       "</table>\n",
       "</div>"
      ],
      "text/plain": [
       "   RowNumber  CustomerId   Surname  CreditScore Geography  Gender  Age  \\\n",
       "0          1    15634602  Hargrave          619    France  Female   42   \n",
       "1          2    15647311      Hill          608     Spain  Female   41   \n",
       "2          3    15619304      Onio          502    France  Female   42   \n",
       "3          4    15701354      Boni          699    France  Female   39   \n",
       "4          5    15737888  Mitchell          850     Spain  Female   43   \n",
       "\n",
       "   Tenure    Balance  NumOfProducts  HasCrCard  IsActiveMember  \\\n",
       "0     2.0       0.00              1          1               1   \n",
       "1     1.0   83807.86              1          0               1   \n",
       "2     8.0  159660.80              3          1               0   \n",
       "3     1.0       0.00              2          0               0   \n",
       "4     2.0  125510.82              1          1               1   \n",
       "\n",
       "   EstimatedSalary  Exited  \n",
       "0        101348.88       1  \n",
       "1        112542.58       0  \n",
       "2        113931.57       1  \n",
       "3         93826.63       0  \n",
       "4         79084.10       0  "
      ]
     },
     "execution_count": 3,
     "metadata": {},
     "output_type": "execute_result"
    }
   ],
   "source": [
    "data.head()"
   ]
  },
  {
   "cell_type": "code",
   "execution_count": 4,
   "id": "3d3328b6",
   "metadata": {},
   "outputs": [
    {
     "name": "stdout",
     "output_type": "stream",
     "text": [
      "<class 'pandas.core.frame.DataFrame'>\n",
      "RangeIndex: 10000 entries, 0 to 9999\n",
      "Data columns (total 14 columns):\n",
      " #   Column           Non-Null Count  Dtype  \n",
      "---  ------           --------------  -----  \n",
      " 0   RowNumber        10000 non-null  int64  \n",
      " 1   CustomerId       10000 non-null  int64  \n",
      " 2   Surname          10000 non-null  object \n",
      " 3   CreditScore      10000 non-null  int64  \n",
      " 4   Geography        10000 non-null  object \n",
      " 5   Gender           10000 non-null  object \n",
      " 6   Age              10000 non-null  int64  \n",
      " 7   Tenure           9091 non-null   float64\n",
      " 8   Balance          10000 non-null  float64\n",
      " 9   NumOfProducts    10000 non-null  int64  \n",
      " 10  HasCrCard        10000 non-null  int64  \n",
      " 11  IsActiveMember   10000 non-null  int64  \n",
      " 12  EstimatedSalary  10000 non-null  float64\n",
      " 13  Exited           10000 non-null  int64  \n",
      "dtypes: float64(3), int64(8), object(3)\n",
      "memory usage: 1.1+ MB\n"
     ]
    }
   ],
   "source": [
    "data.info()"
   ]
  },
  {
   "cell_type": "code",
   "execution_count": 5,
   "id": "cd4b63d8",
   "metadata": {},
   "outputs": [
    {
     "data": {
      "text/plain": [
       "0"
      ]
     },
     "execution_count": 5,
     "metadata": {},
     "output_type": "execute_result"
    }
   ],
   "source": [
    "data.duplicated().sum()"
   ]
  },
  {
   "cell_type": "code",
   "execution_count": 6,
   "id": "cbb1fb9c",
   "metadata": {},
   "outputs": [
    {
     "data": {
      "text/plain": [
       "RowNumber            0\n",
       "CustomerId           0\n",
       "Surname              0\n",
       "CreditScore          0\n",
       "Geography            0\n",
       "Gender               0\n",
       "Age                  0\n",
       "Tenure             909\n",
       "Balance              0\n",
       "NumOfProducts        0\n",
       "HasCrCard            0\n",
       "IsActiveMember       0\n",
       "EstimatedSalary      0\n",
       "Exited               0\n",
       "dtype: int64"
      ]
     },
     "execution_count": 6,
     "metadata": {},
     "output_type": "execute_result"
    }
   ],
   "source": [
    "data.isna().sum()"
   ]
  },
  {
   "cell_type": "code",
   "execution_count": 7,
   "id": "adfed891",
   "metadata": {},
   "outputs": [
    {
     "data": {
      "text/html": [
       "<div>\n",
       "<style scoped>\n",
       "    .dataframe tbody tr th:only-of-type {\n",
       "        vertical-align: middle;\n",
       "    }\n",
       "\n",
       "    .dataframe tbody tr th {\n",
       "        vertical-align: top;\n",
       "    }\n",
       "\n",
       "    .dataframe thead th {\n",
       "        text-align: right;\n",
       "    }\n",
       "</style>\n",
       "<table border=\"1\" class=\"dataframe\">\n",
       "  <thead>\n",
       "    <tr style=\"text-align: right;\">\n",
       "      <th></th>\n",
       "      <th>RowNumber</th>\n",
       "      <th>CustomerId</th>\n",
       "      <th>CreditScore</th>\n",
       "      <th>Age</th>\n",
       "      <th>Tenure</th>\n",
       "      <th>Balance</th>\n",
       "      <th>NumOfProducts</th>\n",
       "      <th>HasCrCard</th>\n",
       "      <th>IsActiveMember</th>\n",
       "      <th>EstimatedSalary</th>\n",
       "      <th>Exited</th>\n",
       "    </tr>\n",
       "  </thead>\n",
       "  <tbody>\n",
       "    <tr>\n",
       "      <th>count</th>\n",
       "      <td>10000.00000</td>\n",
       "      <td>1.000000e+04</td>\n",
       "      <td>10000.000000</td>\n",
       "      <td>10000.000000</td>\n",
       "      <td>9091.000000</td>\n",
       "      <td>10000.000000</td>\n",
       "      <td>10000.000000</td>\n",
       "      <td>10000.00000</td>\n",
       "      <td>10000.000000</td>\n",
       "      <td>10000.000000</td>\n",
       "      <td>10000.000000</td>\n",
       "    </tr>\n",
       "    <tr>\n",
       "      <th>mean</th>\n",
       "      <td>5000.50000</td>\n",
       "      <td>1.569094e+07</td>\n",
       "      <td>650.528800</td>\n",
       "      <td>38.921800</td>\n",
       "      <td>4.997690</td>\n",
       "      <td>76485.889288</td>\n",
       "      <td>1.530200</td>\n",
       "      <td>0.70550</td>\n",
       "      <td>0.515100</td>\n",
       "      <td>100090.239881</td>\n",
       "      <td>0.203700</td>\n",
       "    </tr>\n",
       "    <tr>\n",
       "      <th>std</th>\n",
       "      <td>2886.89568</td>\n",
       "      <td>7.193619e+04</td>\n",
       "      <td>96.653299</td>\n",
       "      <td>10.487806</td>\n",
       "      <td>2.894723</td>\n",
       "      <td>62397.405202</td>\n",
       "      <td>0.581654</td>\n",
       "      <td>0.45584</td>\n",
       "      <td>0.499797</td>\n",
       "      <td>57510.492818</td>\n",
       "      <td>0.402769</td>\n",
       "    </tr>\n",
       "    <tr>\n",
       "      <th>min</th>\n",
       "      <td>1.00000</td>\n",
       "      <td>1.556570e+07</td>\n",
       "      <td>350.000000</td>\n",
       "      <td>18.000000</td>\n",
       "      <td>0.000000</td>\n",
       "      <td>0.000000</td>\n",
       "      <td>1.000000</td>\n",
       "      <td>0.00000</td>\n",
       "      <td>0.000000</td>\n",
       "      <td>11.580000</td>\n",
       "      <td>0.000000</td>\n",
       "    </tr>\n",
       "    <tr>\n",
       "      <th>25%</th>\n",
       "      <td>2500.75000</td>\n",
       "      <td>1.562853e+07</td>\n",
       "      <td>584.000000</td>\n",
       "      <td>32.000000</td>\n",
       "      <td>2.000000</td>\n",
       "      <td>0.000000</td>\n",
       "      <td>1.000000</td>\n",
       "      <td>0.00000</td>\n",
       "      <td>0.000000</td>\n",
       "      <td>51002.110000</td>\n",
       "      <td>0.000000</td>\n",
       "    </tr>\n",
       "    <tr>\n",
       "      <th>50%</th>\n",
       "      <td>5000.50000</td>\n",
       "      <td>1.569074e+07</td>\n",
       "      <td>652.000000</td>\n",
       "      <td>37.000000</td>\n",
       "      <td>5.000000</td>\n",
       "      <td>97198.540000</td>\n",
       "      <td>1.000000</td>\n",
       "      <td>1.00000</td>\n",
       "      <td>1.000000</td>\n",
       "      <td>100193.915000</td>\n",
       "      <td>0.000000</td>\n",
       "    </tr>\n",
       "    <tr>\n",
       "      <th>75%</th>\n",
       "      <td>7500.25000</td>\n",
       "      <td>1.575323e+07</td>\n",
       "      <td>718.000000</td>\n",
       "      <td>44.000000</td>\n",
       "      <td>7.000000</td>\n",
       "      <td>127644.240000</td>\n",
       "      <td>2.000000</td>\n",
       "      <td>1.00000</td>\n",
       "      <td>1.000000</td>\n",
       "      <td>149388.247500</td>\n",
       "      <td>0.000000</td>\n",
       "    </tr>\n",
       "    <tr>\n",
       "      <th>max</th>\n",
       "      <td>10000.00000</td>\n",
       "      <td>1.581569e+07</td>\n",
       "      <td>850.000000</td>\n",
       "      <td>92.000000</td>\n",
       "      <td>10.000000</td>\n",
       "      <td>250898.090000</td>\n",
       "      <td>4.000000</td>\n",
       "      <td>1.00000</td>\n",
       "      <td>1.000000</td>\n",
       "      <td>199992.480000</td>\n",
       "      <td>1.000000</td>\n",
       "    </tr>\n",
       "  </tbody>\n",
       "</table>\n",
       "</div>"
      ],
      "text/plain": [
       "         RowNumber    CustomerId   CreditScore           Age       Tenure  \\\n",
       "count  10000.00000  1.000000e+04  10000.000000  10000.000000  9091.000000   \n",
       "mean    5000.50000  1.569094e+07    650.528800     38.921800     4.997690   \n",
       "std     2886.89568  7.193619e+04     96.653299     10.487806     2.894723   \n",
       "min        1.00000  1.556570e+07    350.000000     18.000000     0.000000   \n",
       "25%     2500.75000  1.562853e+07    584.000000     32.000000     2.000000   \n",
       "50%     5000.50000  1.569074e+07    652.000000     37.000000     5.000000   \n",
       "75%     7500.25000  1.575323e+07    718.000000     44.000000     7.000000   \n",
       "max    10000.00000  1.581569e+07    850.000000     92.000000    10.000000   \n",
       "\n",
       "             Balance  NumOfProducts    HasCrCard  IsActiveMember  \\\n",
       "count   10000.000000   10000.000000  10000.00000    10000.000000   \n",
       "mean    76485.889288       1.530200      0.70550        0.515100   \n",
       "std     62397.405202       0.581654      0.45584        0.499797   \n",
       "min         0.000000       1.000000      0.00000        0.000000   \n",
       "25%         0.000000       1.000000      0.00000        0.000000   \n",
       "50%     97198.540000       1.000000      1.00000        1.000000   \n",
       "75%    127644.240000       2.000000      1.00000        1.000000   \n",
       "max    250898.090000       4.000000      1.00000        1.000000   \n",
       "\n",
       "       EstimatedSalary        Exited  \n",
       "count     10000.000000  10000.000000  \n",
       "mean     100090.239881      0.203700  \n",
       "std       57510.492818      0.402769  \n",
       "min          11.580000      0.000000  \n",
       "25%       51002.110000      0.000000  \n",
       "50%      100193.915000      0.000000  \n",
       "75%      149388.247500      0.000000  \n",
       "max      199992.480000      1.000000  "
      ]
     },
     "execution_count": 7,
     "metadata": {},
     "output_type": "execute_result"
    }
   ],
   "source": [
    "data.describe()"
   ]
  },
  {
   "cell_type": "code",
   "execution_count": 8,
   "id": "381572f8",
   "metadata": {
    "scrolled": true
   },
   "outputs": [
    {
     "data": {
      "text/html": [
       "<div>\n",
       "<style scoped>\n",
       "    .dataframe tbody tr th:only-of-type {\n",
       "        vertical-align: middle;\n",
       "    }\n",
       "\n",
       "    .dataframe tbody tr th {\n",
       "        vertical-align: top;\n",
       "    }\n",
       "\n",
       "    .dataframe thead th {\n",
       "        text-align: right;\n",
       "    }\n",
       "</style>\n",
       "<table border=\"1\" class=\"dataframe\">\n",
       "  <thead>\n",
       "    <tr style=\"text-align: right;\">\n",
       "      <th></th>\n",
       "      <th>RowNumber</th>\n",
       "      <th>CustomerId</th>\n",
       "      <th>CreditScore</th>\n",
       "      <th>Age</th>\n",
       "      <th>Tenure</th>\n",
       "      <th>Balance</th>\n",
       "      <th>NumOfProducts</th>\n",
       "      <th>HasCrCard</th>\n",
       "      <th>IsActiveMember</th>\n",
       "      <th>EstimatedSalary</th>\n",
       "      <th>Exited</th>\n",
       "    </tr>\n",
       "  </thead>\n",
       "  <tbody>\n",
       "    <tr>\n",
       "      <th>RowNumber</th>\n",
       "      <td>1.000000</td>\n",
       "      <td>0.004202</td>\n",
       "      <td>0.005840</td>\n",
       "      <td>0.000783</td>\n",
       "      <td>-0.007322</td>\n",
       "      <td>-0.009067</td>\n",
       "      <td>0.007246</td>\n",
       "      <td>0.000599</td>\n",
       "      <td>0.012044</td>\n",
       "      <td>-0.005988</td>\n",
       "      <td>-0.016571</td>\n",
       "    </tr>\n",
       "    <tr>\n",
       "      <th>CustomerId</th>\n",
       "      <td>0.004202</td>\n",
       "      <td>1.000000</td>\n",
       "      <td>0.005308</td>\n",
       "      <td>0.009497</td>\n",
       "      <td>-0.021418</td>\n",
       "      <td>-0.012419</td>\n",
       "      <td>0.016972</td>\n",
       "      <td>-0.014025</td>\n",
       "      <td>0.001665</td>\n",
       "      <td>0.015271</td>\n",
       "      <td>-0.006248</td>\n",
       "    </tr>\n",
       "    <tr>\n",
       "      <th>CreditScore</th>\n",
       "      <td>0.005840</td>\n",
       "      <td>0.005308</td>\n",
       "      <td>1.000000</td>\n",
       "      <td>-0.003965</td>\n",
       "      <td>-0.000062</td>\n",
       "      <td>0.006268</td>\n",
       "      <td>0.012238</td>\n",
       "      <td>-0.005458</td>\n",
       "      <td>0.025651</td>\n",
       "      <td>-0.001384</td>\n",
       "      <td>-0.027094</td>\n",
       "    </tr>\n",
       "    <tr>\n",
       "      <th>Age</th>\n",
       "      <td>0.000783</td>\n",
       "      <td>0.009497</td>\n",
       "      <td>-0.003965</td>\n",
       "      <td>1.000000</td>\n",
       "      <td>-0.013134</td>\n",
       "      <td>0.028308</td>\n",
       "      <td>-0.030680</td>\n",
       "      <td>-0.011721</td>\n",
       "      <td>0.085472</td>\n",
       "      <td>-0.007201</td>\n",
       "      <td>0.285323</td>\n",
       "    </tr>\n",
       "    <tr>\n",
       "      <th>Tenure</th>\n",
       "      <td>-0.007322</td>\n",
       "      <td>-0.021418</td>\n",
       "      <td>-0.000062</td>\n",
       "      <td>-0.013134</td>\n",
       "      <td>1.000000</td>\n",
       "      <td>-0.007911</td>\n",
       "      <td>0.011979</td>\n",
       "      <td>0.027232</td>\n",
       "      <td>-0.032178</td>\n",
       "      <td>0.010520</td>\n",
       "      <td>-0.016761</td>\n",
       "    </tr>\n",
       "    <tr>\n",
       "      <th>Balance</th>\n",
       "      <td>-0.009067</td>\n",
       "      <td>-0.012419</td>\n",
       "      <td>0.006268</td>\n",
       "      <td>0.028308</td>\n",
       "      <td>-0.007911</td>\n",
       "      <td>1.000000</td>\n",
       "      <td>-0.304180</td>\n",
       "      <td>-0.014858</td>\n",
       "      <td>-0.010084</td>\n",
       "      <td>0.012797</td>\n",
       "      <td>0.118533</td>\n",
       "    </tr>\n",
       "    <tr>\n",
       "      <th>NumOfProducts</th>\n",
       "      <td>0.007246</td>\n",
       "      <td>0.016972</td>\n",
       "      <td>0.012238</td>\n",
       "      <td>-0.030680</td>\n",
       "      <td>0.011979</td>\n",
       "      <td>-0.304180</td>\n",
       "      <td>1.000000</td>\n",
       "      <td>0.003183</td>\n",
       "      <td>0.009612</td>\n",
       "      <td>0.014204</td>\n",
       "      <td>-0.047820</td>\n",
       "    </tr>\n",
       "    <tr>\n",
       "      <th>HasCrCard</th>\n",
       "      <td>0.000599</td>\n",
       "      <td>-0.014025</td>\n",
       "      <td>-0.005458</td>\n",
       "      <td>-0.011721</td>\n",
       "      <td>0.027232</td>\n",
       "      <td>-0.014858</td>\n",
       "      <td>0.003183</td>\n",
       "      <td>1.000000</td>\n",
       "      <td>-0.011866</td>\n",
       "      <td>-0.009933</td>\n",
       "      <td>-0.007138</td>\n",
       "    </tr>\n",
       "    <tr>\n",
       "      <th>IsActiveMember</th>\n",
       "      <td>0.012044</td>\n",
       "      <td>0.001665</td>\n",
       "      <td>0.025651</td>\n",
       "      <td>0.085472</td>\n",
       "      <td>-0.032178</td>\n",
       "      <td>-0.010084</td>\n",
       "      <td>0.009612</td>\n",
       "      <td>-0.011866</td>\n",
       "      <td>1.000000</td>\n",
       "      <td>-0.011421</td>\n",
       "      <td>-0.156128</td>\n",
       "    </tr>\n",
       "    <tr>\n",
       "      <th>EstimatedSalary</th>\n",
       "      <td>-0.005988</td>\n",
       "      <td>0.015271</td>\n",
       "      <td>-0.001384</td>\n",
       "      <td>-0.007201</td>\n",
       "      <td>0.010520</td>\n",
       "      <td>0.012797</td>\n",
       "      <td>0.014204</td>\n",
       "      <td>-0.009933</td>\n",
       "      <td>-0.011421</td>\n",
       "      <td>1.000000</td>\n",
       "      <td>0.012097</td>\n",
       "    </tr>\n",
       "    <tr>\n",
       "      <th>Exited</th>\n",
       "      <td>-0.016571</td>\n",
       "      <td>-0.006248</td>\n",
       "      <td>-0.027094</td>\n",
       "      <td>0.285323</td>\n",
       "      <td>-0.016761</td>\n",
       "      <td>0.118533</td>\n",
       "      <td>-0.047820</td>\n",
       "      <td>-0.007138</td>\n",
       "      <td>-0.156128</td>\n",
       "      <td>0.012097</td>\n",
       "      <td>1.000000</td>\n",
       "    </tr>\n",
       "  </tbody>\n",
       "</table>\n",
       "</div>"
      ],
      "text/plain": [
       "                 RowNumber  CustomerId  CreditScore       Age    Tenure  \\\n",
       "RowNumber         1.000000    0.004202     0.005840  0.000783 -0.007322   \n",
       "CustomerId        0.004202    1.000000     0.005308  0.009497 -0.021418   \n",
       "CreditScore       0.005840    0.005308     1.000000 -0.003965 -0.000062   \n",
       "Age               0.000783    0.009497    -0.003965  1.000000 -0.013134   \n",
       "Tenure           -0.007322   -0.021418    -0.000062 -0.013134  1.000000   \n",
       "Balance          -0.009067   -0.012419     0.006268  0.028308 -0.007911   \n",
       "NumOfProducts     0.007246    0.016972     0.012238 -0.030680  0.011979   \n",
       "HasCrCard         0.000599   -0.014025    -0.005458 -0.011721  0.027232   \n",
       "IsActiveMember    0.012044    0.001665     0.025651  0.085472 -0.032178   \n",
       "EstimatedSalary  -0.005988    0.015271    -0.001384 -0.007201  0.010520   \n",
       "Exited           -0.016571   -0.006248    -0.027094  0.285323 -0.016761   \n",
       "\n",
       "                  Balance  NumOfProducts  HasCrCard  IsActiveMember  \\\n",
       "RowNumber       -0.009067       0.007246   0.000599        0.012044   \n",
       "CustomerId      -0.012419       0.016972  -0.014025        0.001665   \n",
       "CreditScore      0.006268       0.012238  -0.005458        0.025651   \n",
       "Age              0.028308      -0.030680  -0.011721        0.085472   \n",
       "Tenure          -0.007911       0.011979   0.027232       -0.032178   \n",
       "Balance          1.000000      -0.304180  -0.014858       -0.010084   \n",
       "NumOfProducts   -0.304180       1.000000   0.003183        0.009612   \n",
       "HasCrCard       -0.014858       0.003183   1.000000       -0.011866   \n",
       "IsActiveMember  -0.010084       0.009612  -0.011866        1.000000   \n",
       "EstimatedSalary  0.012797       0.014204  -0.009933       -0.011421   \n",
       "Exited           0.118533      -0.047820  -0.007138       -0.156128   \n",
       "\n",
       "                 EstimatedSalary    Exited  \n",
       "RowNumber              -0.005988 -0.016571  \n",
       "CustomerId              0.015271 -0.006248  \n",
       "CreditScore            -0.001384 -0.027094  \n",
       "Age                    -0.007201  0.285323  \n",
       "Tenure                  0.010520 -0.016761  \n",
       "Balance                 0.012797  0.118533  \n",
       "NumOfProducts           0.014204 -0.047820  \n",
       "HasCrCard              -0.009933 -0.007138  \n",
       "IsActiveMember         -0.011421 -0.156128  \n",
       "EstimatedSalary         1.000000  0.012097  \n",
       "Exited                  0.012097  1.000000  "
      ]
     },
     "execution_count": 8,
     "metadata": {},
     "output_type": "execute_result"
    }
   ],
   "source": [
    "data.corr()"
   ]
  },
  {
   "cell_type": "markdown",
   "id": "54b2fccd",
   "metadata": {},
   "source": [
    "В данных имеются пропуски в столбце **Tenure** — сколько лет человек является клиентом банка.Кореляции этого признака с каким -то другим не наблюдается, в данных нет никакой взаимосвязи, для удаления слишком большое количество относительно имеющихся данных.После разбиения выборок заменю методом ближайших соседей.\\\n",
    "Так же необходимо привести к стандарту наименование столбцов.\\\n",
    "Явных дубликатов нет.\\\n",
    "Формат данных соотвествует содержанию."
   ]
  },
  {
   "cell_type": "code",
   "execution_count": 9,
   "id": "2019813a",
   "metadata": {
    "scrolled": true
   },
   "outputs": [
    {
     "data": {
      "text/html": [
       "<pre style=\"white-space:pre;overflow-x:auto;line-height:normal;font-family:Menlo,'DejaVu Sans Mono',consolas,'Courier New',monospace\"><span style=\"color: #008080; text-decoration-color: #008080; font-weight: bold\">14</span> column names have been cleaned\n",
       "</pre>\n"
      ],
      "text/plain": [
       "\u001b[1;36m14\u001b[0m column names have been cleaned\n"
      ]
     },
     "metadata": {},
     "output_type": "display_data"
    }
   ],
   "source": [
    "data = clean_columns(data)"
   ]
  },
  {
   "cell_type": "code",
   "execution_count": 10,
   "id": "3b8d47d4",
   "metadata": {
    "scrolled": true
   },
   "outputs": [
    {
     "data": {
      "text/plain": [
       "Index(['row_number', 'customer_id', 'surname', 'credit_score', 'geography',\n",
       "       'gender', 'age', 'tenure', 'balance', 'num_of_products', 'has_cr_card',\n",
       "       'is_active_member', 'estimated_salary', 'exited'],\n",
       "      dtype='object')"
      ]
     },
     "execution_count": 10,
     "metadata": {},
     "output_type": "execute_result"
    }
   ],
   "source": [
    "data.columns"
   ]
  },
  {
   "cell_type": "markdown",
   "id": "72d5121f",
   "metadata": {},
   "source": [
    "Удалим столбцы **surname,row_number и customer_id**,так как они являются уникальными значениями и не имеют никакой связи с уходом клиента, соответсвенно не помогут в обучении модели."
   ]
  },
  {
   "cell_type": "code",
   "execution_count": 11,
   "id": "dff980ce",
   "metadata": {},
   "outputs": [],
   "source": [
    "data = data.drop(['surname','row_number','customer_id'], axis=1)"
   ]
  },
  {
   "cell_type": "markdown",
   "id": "b952af9c",
   "metadata": {},
   "source": [
    "Разделим данные на обучающую, валидационную и тестовую выборки.\\\n",
    "Поскольку тестовую выборку необходимо создать из имеющихся данных, то делим датасет следующим образом:\\\n",
    "60% - обучающая выборка ;\\\n",
    "20% - тестовая выборка ;\\\n",
    "20% - валидационная выборка."
   ]
  },
  {
   "cell_type": "code",
   "execution_count": 12,
   "id": "44a22214",
   "metadata": {},
   "outputs": [],
   "source": [
    "features = data.drop(['exited'], axis=1)\n",
    "target = data['exited']"
   ]
  },
  {
   "cell_type": "code",
   "execution_count": 13,
   "id": "7a92cf07",
   "metadata": {},
   "outputs": [],
   "source": [
    "features_train, features_temp, target_train, target_temp = train_test_split(features, target, \n",
    "                                                    test_size=0.4, \n",
    "                                                    random_state=12345,\n",
    "                                                    stratify=target)"
   ]
  },
  {
   "cell_type": "code",
   "execution_count": 14,
   "id": "d4fe615e",
   "metadata": {},
   "outputs": [],
   "source": [
    "features_valid, features_test, target_valid, target_test =  train_test_split(features_temp, target_temp, \n",
    "                                                    test_size=0.5, \n",
    "                                                    random_state=12345,\n",
    "                                                    stratify=target_temp)"
   ]
  },
  {
   "cell_type": "code",
   "execution_count": 15,
   "id": "bc68f062",
   "metadata": {},
   "outputs": [
    {
     "name": "stdout",
     "output_type": "stream",
     "text": [
      "(6000, 10)\n",
      "(2000, 10)\n",
      "(2000, 10)\n"
     ]
    }
   ],
   "source": [
    "print(features_train.shape)\n",
    "print(features_valid.shape)\n",
    "print(features_test.shape)"
   ]
  },
  {
   "cell_type": "markdown",
   "id": "8a26f4b2",
   "metadata": {},
   "source": [
    "Заменим пропуски в столбце tenure методом ближайших соседей."
   ]
  },
  {
   "cell_type": "code",
   "execution_count": 16,
   "id": "8435284e",
   "metadata": {},
   "outputs": [],
   "source": [
    "col=['tenure']\n",
    "imputer = KNNImputer(n_neighbors=4, weights=\"uniform\")\n",
    "imputer.fit(features_train[col])\n",
    "features_train[col] = imputer.transform(features_train[col])\n",
    "features_valid[col]= imputer.transform(features_valid[col])\n",
    "features_test[col] = imputer.transform(features_test[col])"
   ]
  },
  {
   "cell_type": "code",
   "execution_count": 17,
   "id": "463ae802",
   "metadata": {},
   "outputs": [
    {
     "data": {
      "text/plain": [
       "credit_score        0\n",
       "geography           0\n",
       "gender              0\n",
       "age                 0\n",
       "tenure              0\n",
       "balance             0\n",
       "num_of_products     0\n",
       "has_cr_card         0\n",
       "is_active_member    0\n",
       "estimated_salary    0\n",
       "dtype: int64"
      ]
     },
     "execution_count": 17,
     "metadata": {},
     "output_type": "execute_result"
    }
   ],
   "source": [
    "features_train.isna().sum()"
   ]
  },
  {
   "cell_type": "markdown",
   "id": "de127b00",
   "metadata": {},
   "source": [
    "Преобразуем категориальные признаки в числовые на тренировочной и валидационной выборках.На тестовой преобразуем перед ее использованием."
   ]
  },
  {
   "cell_type": "code",
   "execution_count": 18,
   "id": "a9419068",
   "metadata": {
    "scrolled": true
   },
   "outputs": [],
   "source": [
    "cat_columns = ['geography','gender']\n",
    "ohe = OneHotEncoder(sparse=False, drop='first')\n",
    "train_ohe = ohe.fit_transform(features_train[cat_columns])\n",
    "train_ohe = pd.DataFrame(train_ohe, columns=ohe.get_feature_names(cat_columns), index=features_train.index)\n",
    "features_train[ohe.get_feature_names()] = train_ohe\n",
    "features_train.drop(columns=cat_columns, inplace=True)"
   ]
  },
  {
   "cell_type": "code",
   "execution_count": 19,
   "id": "4c7d4d2a",
   "metadata": {},
   "outputs": [
    {
     "data": {
      "text/html": [
       "<div>\n",
       "<style scoped>\n",
       "    .dataframe tbody tr th:only-of-type {\n",
       "        vertical-align: middle;\n",
       "    }\n",
       "\n",
       "    .dataframe tbody tr th {\n",
       "        vertical-align: top;\n",
       "    }\n",
       "\n",
       "    .dataframe thead th {\n",
       "        text-align: right;\n",
       "    }\n",
       "</style>\n",
       "<table border=\"1\" class=\"dataframe\">\n",
       "  <thead>\n",
       "    <tr style=\"text-align: right;\">\n",
       "      <th></th>\n",
       "      <th>credit_score</th>\n",
       "      <th>age</th>\n",
       "      <th>tenure</th>\n",
       "      <th>balance</th>\n",
       "      <th>num_of_products</th>\n",
       "      <th>has_cr_card</th>\n",
       "      <th>is_active_member</th>\n",
       "      <th>estimated_salary</th>\n",
       "      <th>x0_Germany</th>\n",
       "      <th>x0_Spain</th>\n",
       "      <th>x1_Male</th>\n",
       "    </tr>\n",
       "  </thead>\n",
       "  <tbody>\n",
       "    <tr>\n",
       "      <th>2837</th>\n",
       "      <td>549</td>\n",
       "      <td>49</td>\n",
       "      <td>6.000000</td>\n",
       "      <td>124829.16</td>\n",
       "      <td>1</td>\n",
       "      <td>0</td>\n",
       "      <td>1</td>\n",
       "      <td>93551.36</td>\n",
       "      <td>1.0</td>\n",
       "      <td>0.0</td>\n",
       "      <td>0.0</td>\n",
       "    </tr>\n",
       "    <tr>\n",
       "      <th>9925</th>\n",
       "      <td>694</td>\n",
       "      <td>38</td>\n",
       "      <td>5.008447</td>\n",
       "      <td>195926.39</td>\n",
       "      <td>1</td>\n",
       "      <td>1</td>\n",
       "      <td>1</td>\n",
       "      <td>85522.84</td>\n",
       "      <td>0.0</td>\n",
       "      <td>0.0</td>\n",
       "      <td>0.0</td>\n",
       "    </tr>\n",
       "    <tr>\n",
       "      <th>8746</th>\n",
       "      <td>660</td>\n",
       "      <td>34</td>\n",
       "      <td>8.000000</td>\n",
       "      <td>106486.66</td>\n",
       "      <td>2</td>\n",
       "      <td>0</td>\n",
       "      <td>1</td>\n",
       "      <td>182262.66</td>\n",
       "      <td>0.0</td>\n",
       "      <td>0.0</td>\n",
       "      <td>1.0</td>\n",
       "    </tr>\n",
       "    <tr>\n",
       "      <th>660</th>\n",
       "      <td>632</td>\n",
       "      <td>41</td>\n",
       "      <td>5.008447</td>\n",
       "      <td>81877.38</td>\n",
       "      <td>1</td>\n",
       "      <td>1</td>\n",
       "      <td>1</td>\n",
       "      <td>33642.21</td>\n",
       "      <td>1.0</td>\n",
       "      <td>0.0</td>\n",
       "      <td>0.0</td>\n",
       "    </tr>\n",
       "    <tr>\n",
       "      <th>3610</th>\n",
       "      <td>580</td>\n",
       "      <td>56</td>\n",
       "      <td>1.000000</td>\n",
       "      <td>131368.30</td>\n",
       "      <td>1</td>\n",
       "      <td>1</td>\n",
       "      <td>0</td>\n",
       "      <td>106918.67</td>\n",
       "      <td>0.0</td>\n",
       "      <td>0.0</td>\n",
       "      <td>0.0</td>\n",
       "    </tr>\n",
       "  </tbody>\n",
       "</table>\n",
       "</div>"
      ],
      "text/plain": [
       "      credit_score  age    tenure    balance  num_of_products  has_cr_card  \\\n",
       "2837           549   49  6.000000  124829.16                1            0   \n",
       "9925           694   38  5.008447  195926.39                1            1   \n",
       "8746           660   34  8.000000  106486.66                2            0   \n",
       "660            632   41  5.008447   81877.38                1            1   \n",
       "3610           580   56  1.000000  131368.30                1            1   \n",
       "\n",
       "      is_active_member  estimated_salary  x0_Germany  x0_Spain  x1_Male  \n",
       "2837                 1          93551.36         1.0       0.0      0.0  \n",
       "9925                 1          85522.84         0.0       0.0      0.0  \n",
       "8746                 1         182262.66         0.0       0.0      1.0  \n",
       "660                  1          33642.21         1.0       0.0      0.0  \n",
       "3610                 0         106918.67         0.0       0.0      0.0  "
      ]
     },
     "execution_count": 19,
     "metadata": {},
     "output_type": "execute_result"
    }
   ],
   "source": [
    "features_train.head()"
   ]
  },
  {
   "cell_type": "code",
   "execution_count": 20,
   "id": "8f22929c",
   "metadata": {},
   "outputs": [],
   "source": [
    "\n",
    "valid_ohe = ohe.transform(features_valid[cat_columns])\n",
    "valid_ohe = pd.DataFrame(valid_ohe, columns=ohe.get_feature_names(cat_columns), index=features_valid.index)\n",
    "features_valid[ohe.get_feature_names()] = valid_ohe\n",
    "features_valid.drop(columns=cat_columns, inplace=True)\n"
   ]
  },
  {
   "cell_type": "code",
   "execution_count": 21,
   "id": "80ce0cf6",
   "metadata": {},
   "outputs": [
    {
     "data": {
      "text/html": [
       "<div>\n",
       "<style scoped>\n",
       "    .dataframe tbody tr th:only-of-type {\n",
       "        vertical-align: middle;\n",
       "    }\n",
       "\n",
       "    .dataframe tbody tr th {\n",
       "        vertical-align: top;\n",
       "    }\n",
       "\n",
       "    .dataframe thead th {\n",
       "        text-align: right;\n",
       "    }\n",
       "</style>\n",
       "<table border=\"1\" class=\"dataframe\">\n",
       "  <thead>\n",
       "    <tr style=\"text-align: right;\">\n",
       "      <th></th>\n",
       "      <th>credit_score</th>\n",
       "      <th>age</th>\n",
       "      <th>tenure</th>\n",
       "      <th>balance</th>\n",
       "      <th>num_of_products</th>\n",
       "      <th>has_cr_card</th>\n",
       "      <th>is_active_member</th>\n",
       "      <th>estimated_salary</th>\n",
       "      <th>x0_Germany</th>\n",
       "      <th>x0_Spain</th>\n",
       "      <th>x1_Male</th>\n",
       "    </tr>\n",
       "  </thead>\n",
       "  <tbody>\n",
       "    <tr>\n",
       "      <th>6612</th>\n",
       "      <td>502</td>\n",
       "      <td>64</td>\n",
       "      <td>3.0</td>\n",
       "      <td>139663.37</td>\n",
       "      <td>1</td>\n",
       "      <td>0</td>\n",
       "      <td>1</td>\n",
       "      <td>100995.11</td>\n",
       "      <td>0.0</td>\n",
       "      <td>0.0</td>\n",
       "      <td>0.0</td>\n",
       "    </tr>\n",
       "    <tr>\n",
       "      <th>519</th>\n",
       "      <td>707</td>\n",
       "      <td>58</td>\n",
       "      <td>6.0</td>\n",
       "      <td>89685.92</td>\n",
       "      <td>1</td>\n",
       "      <td>0</td>\n",
       "      <td>1</td>\n",
       "      <td>126471.13</td>\n",
       "      <td>0.0</td>\n",
       "      <td>0.0</td>\n",
       "      <td>1.0</td>\n",
       "    </tr>\n",
       "    <tr>\n",
       "      <th>1609</th>\n",
       "      <td>619</td>\n",
       "      <td>35</td>\n",
       "      <td>8.0</td>\n",
       "      <td>132292.63</td>\n",
       "      <td>1</td>\n",
       "      <td>1</td>\n",
       "      <td>0</td>\n",
       "      <td>65682.93</td>\n",
       "      <td>0.0</td>\n",
       "      <td>0.0</td>\n",
       "      <td>0.0</td>\n",
       "    </tr>\n",
       "    <tr>\n",
       "      <th>3475</th>\n",
       "      <td>769</td>\n",
       "      <td>31</td>\n",
       "      <td>4.0</td>\n",
       "      <td>61297.05</td>\n",
       "      <td>2</td>\n",
       "      <td>1</td>\n",
       "      <td>1</td>\n",
       "      <td>7118.02</td>\n",
       "      <td>0.0</td>\n",
       "      <td>0.0</td>\n",
       "      <td>1.0</td>\n",
       "    </tr>\n",
       "    <tr>\n",
       "      <th>2707</th>\n",
       "      <td>637</td>\n",
       "      <td>38</td>\n",
       "      <td>3.0</td>\n",
       "      <td>104339.56</td>\n",
       "      <td>1</td>\n",
       "      <td>0</td>\n",
       "      <td>0</td>\n",
       "      <td>119882.86</td>\n",
       "      <td>0.0</td>\n",
       "      <td>0.0</td>\n",
       "      <td>0.0</td>\n",
       "    </tr>\n",
       "  </tbody>\n",
       "</table>\n",
       "</div>"
      ],
      "text/plain": [
       "      credit_score  age  tenure    balance  num_of_products  has_cr_card  \\\n",
       "6612           502   64     3.0  139663.37                1            0   \n",
       "519            707   58     6.0   89685.92                1            0   \n",
       "1609           619   35     8.0  132292.63                1            1   \n",
       "3475           769   31     4.0   61297.05                2            1   \n",
       "2707           637   38     3.0  104339.56                1            0   \n",
       "\n",
       "      is_active_member  estimated_salary  x0_Germany  x0_Spain  x1_Male  \n",
       "6612                 1         100995.11         0.0       0.0      0.0  \n",
       "519                  1         126471.13         0.0       0.0      1.0  \n",
       "1609                 0          65682.93         0.0       0.0      0.0  \n",
       "3475                 1           7118.02         0.0       0.0      1.0  \n",
       "2707                 0         119882.86         0.0       0.0      0.0  "
      ]
     },
     "execution_count": 21,
     "metadata": {},
     "output_type": "execute_result"
    }
   ],
   "source": [
    "features_valid.head()"
   ]
  },
  {
   "cell_type": "markdown",
   "id": "b6fdd0ee",
   "metadata": {},
   "source": [
    "Масштабируем столбцы credit_score, age, balance, estimated_salary методом стандартизации данных."
   ]
  },
  {
   "cell_type": "code",
   "execution_count": 22,
   "id": "4f8b857f",
   "metadata": {},
   "outputs": [],
   "source": [
    "pd.options.mode.chained_assignment = None\n",
    "numeric =['credit_score','age','balance','estimated_salary']\n",
    "scaler = StandardScaler()\n",
    "scaler.fit(features_train[numeric]) \n",
    "features_train[numeric] = scaler.transform(features_train[numeric])\n",
    "features_valid[numeric] = scaler.transform(features_valid[numeric])\n",
    "features_test[numeric] = scaler.transform(features_test[numeric])\n"
   ]
  },
  {
   "cell_type": "markdown",
   "id": "24e4e819",
   "metadata": {},
   "source": [
    "Посмотрим на признаки и их влияние на целевой с помощью Mutual information — статистическая функция двух случайных величин, описывающая количество информации, содержащееся в одной случайной величине относительно другой."
   ]
  },
  {
   "cell_type": "code",
   "execution_count": 23,
   "id": "bfa27c5e",
   "metadata": {},
   "outputs": [
    {
     "data": {
      "image/png": "[encoded data removed]",
      "text/plain": [
       "<Figure size 1500x800 with 1 Axes>"
      ]
     },
     "metadata": {},
     "output_type": "display_data"
    }
   ],
   "source": [
    "X = features_train\n",
    "y = target_train\n",
    "mi = mutual_info_classif(X,y, random_state=42)\n",
    "plt.figure(figsize = (15,8))\n",
    "ax = sns.barplot(x=X.columns.tolist(), y=mi)\n",
    "ax.set_xticklabels(ax.get_xticklabels(),rotation = 30)\n",
    "plt.show()"
   ]
  },
  {
   "cell_type": "markdown",
   "id": "01cc6d9a",
   "metadata": {},
   "source": [
    "Судя по графику признаки credit_score,tenure, has_cr_card не оказывают сильного влияния на целевой признак и их можно удалить."
   ]
  },
  {
   "cell_type": "code",
   "execution_count": 24,
   "id": "c4ce880e",
   "metadata": {},
   "outputs": [],
   "source": [
    "features_train = features_train.drop(['credit_score','tenure','has_cr_card'], axis=1)\n",
    "features_valid = features_valid.drop(['credit_score','tenure','has_cr_card'], axis=1)\n",
    "features_test = features_test.drop(['credit_score','tenure','has_cr_card'], axis=1)"
   ]
  },
  {
   "cell_type": "markdown",
   "id": "c2ce3e4e",
   "metadata": {},
   "source": [
    "## Исследование задачи"
   ]
  },
  {
   "cell_type": "markdown",
   "id": "dd811cdd",
   "metadata": {},
   "source": [
    "Посмотрим на баланс классов в целевом признаке."
   ]
  },
  {
   "cell_type": "code",
   "execution_count": 25,
   "id": "5ea00dc7",
   "metadata": {},
   "outputs": [
    {
     "name": "stdout",
     "output_type": "stream",
     "text": [
      "0    0.7963\n",
      "1    0.2037\n",
      "Name: exited, dtype: float64\n"
     ]
    },
    {
     "data": {
      "text/plain": [
       "Text(0.5, 1.0, 'Баланс классов в целевом признаке')"
      ]
     },
     "execution_count": 25,
     "metadata": {},
     "output_type": "execute_result"
    },
    {
     "data": {
      "image/png": "[encoded data removed]",
      "text/plain": [
       "<Figure size 640x480 with 1 Axes>"
      ]
     },
     "metadata": {},
     "output_type": "display_data"
    }
   ],
   "source": [
    "class_frequency = target.value_counts(normalize=True)\n",
    "print(class_frequency)\n",
    "class_frequency.plot(kind='bar')\n",
    "plt.xlabel(\"Класс\")\n",
    "plt.ylabel(\"Относительная частота\")\n",
    "plt.title(\"Баланс классов в целевом признаке\")"
   ]
  },
  {
   "cell_type": "markdown",
   "id": "e0600daa",
   "metadata": {},
   "source": [
    "Наблюдаем сильный дисбаланс классов в отношении 1 к 4."
   ]
  },
  {
   "cell_type": "markdown",
   "id": "f799de76",
   "metadata": {},
   "source": [
    "Поскольку перед нами стоит задача классификации используем методы:\n",
    "-  Дерово решений\n",
    "-  Случайный лес\n",
    "-  Логистическая регрессия\n",
    "\n",
    "Подберем гиперпараметры для моделей DT и RF"
   ]
  },
  {
   "cell_type": "code",
   "execution_count": 26,
   "id": "8fdc8590",
   "metadata": {},
   "outputs": [
    {
     "name": "stdout",
     "output_type": "stream",
     "text": [
      "max_depth_DT = 7, max_f1 = 0.5977011494252873\n"
     ]
    }
   ],
   "source": [
    "best_result = 0\n",
    "best_depth = 0\n",
    "for depth in range(1, 16, 1):\n",
    "    model = DecisionTreeClassifier(max_depth=depth, random_state=12345)\n",
    "    model.fit(features_train, target_train)\n",
    "    predicted_valid = model.predict(features_valid)\n",
    "    result_valid = f1_score(target_valid, predicted_valid)\n",
    "    if result_valid > best_result:\n",
    "        best_depth = depth\n",
    "        best_result = result_valid\n",
    "print(f'max_depth_DT = {best_depth}, max_f1 = {best_result}')"
   ]
  },
  {
   "cell_type": "code",
   "execution_count": 27,
   "id": "6ab44476",
   "metadata": {},
   "outputs": [
    {
     "name": "stdout",
     "output_type": "stream",
     "text": [
      "max_depth_RF = 11, max_f1 = 0.6104651162790697\n"
     ]
    }
   ],
   "source": [
    "best_result = 0\n",
    "best_depth = 0\n",
    "for depth in range(1, 16, 1):\n",
    "    model = RandomForestClassifier(n_estimators=10, max_depth=depth, random_state=12345)\n",
    "    model.fit(features_train, target_train)\n",
    "    predicted_valid = model.predict(features_valid)\n",
    "    result_valid = f1_score(target_valid, predicted_valid)\n",
    "    if result_valid > best_result:\n",
    "        best_depth = depth\n",
    "        best_result = result_valid\n",
    "print(f'max_depth_RF = {best_depth}, max_f1 = {best_result}')        "
   ]
  },
  {
   "cell_type": "code",
   "execution_count": 28,
   "id": "9b63a251",
   "metadata": {},
   "outputs": [
    {
     "name": "stdout",
     "output_type": "stream",
     "text": [
      "max_est_RF = 10, max_f1 = 0.6104651162790697\n"
     ]
    }
   ],
   "source": [
    "best_result = 0\n",
    "best_est = 0\n",
    "for est in range(10, 150, 10):\n",
    "    model = RandomForestClassifier(n_estimators=est, max_depth=11, random_state=12345)\n",
    "    model.fit(features_train, target_train)\n",
    "    predicted_valid = model.predict(features_valid)\n",
    "    result_valid = f1_score(target_valid, predicted_valid)\n",
    "    if result_valid > best_result:\n",
    "        best_est = est\n",
    "        best_result = result_valid\n",
    "print(f'max_est_RF = {best_est}, max_f1 = {best_result}')  "
   ]
  },
  {
   "cell_type": "markdown",
   "id": "7c9032fd",
   "metadata": {},
   "source": [
    "\n",
    "Посмотрим на значение трех метрик accuracy, F1 и ROC AUC у моделей в одном случае без учета баланса классов в другом случае учтем балас классов взвешиванием class_weight."
   ]
  },
  {
   "cell_type": "code",
   "execution_count": 29,
   "id": "bf0a363b",
   "metadata": {},
   "outputs": [],
   "source": [
    "model = DecisionTreeClassifier(max_depth=7,random_state=12345)\n",
    "model.fit(features_train,target_train)\n",
    "\n",
    "predicted_valid_tree = model.predict(features_valid)\n",
    "\n",
    "accuracy_tree_unb = accuracy_score(target_valid, predicted_valid_tree)\n",
    "f1_tree_unb = f1_score(target_valid, predicted_valid_tree)\n",
    "\n",
    "probabilities_valid_tree = model.predict_proba(features_valid)\n",
    "probabilities_one_valid_tree = probabilities_valid_tree[:, 1]\n",
    "auc_roc_tree_unb = roc_auc_score(target_valid, probabilities_one_valid_tree)\n",
    "\n"
   ]
  },
  {
   "cell_type": "code",
   "execution_count": 30,
   "id": "de5c7c8e",
   "metadata": {},
   "outputs": [],
   "source": [
    "model = RandomForestClassifier(n_estimators=10, max_depth=11, random_state=12345)\n",
    "model.fit(features_train,target_train)\n",
    "\n",
    "predicted_valid_forest = model.predict(features_valid)\n",
    "\n",
    "accuracy_forest_unb = accuracy_score(target_valid, predicted_valid_forest)\n",
    "\n",
    "f1_forest_unb = f1_score(target_valid, predicted_valid_forest)\n",
    "\n",
    "probabilities_valid_forest = model.predict_proba(features_valid)\n",
    "probabilities_one_valid_forest = probabilities_valid_forest[:, 1]\n",
    "auc_roc_forest_unb = roc_auc_score(target_valid, probabilities_one_valid_forest)\n",
    "\n"
   ]
  },
  {
   "cell_type": "code",
   "execution_count": 31,
   "id": "4c9f377a",
   "metadata": {},
   "outputs": [],
   "source": [
    "model = LogisticRegression(random_state=12345)\n",
    "model.fit(features_train,target_train)\n",
    "\n",
    "predicted_valid_logistic = model.predict(features_valid)\n",
    "\n",
    "accuracy_logistic_unb = accuracy_score(target_valid, predicted_valid_logistic)\n",
    "f1_logistic_unb = f1_score(target_valid, predicted_valid_logistic)\n",
    "\n",
    "probabilities_valid_logistic = model.predict_proba(features_valid)\n",
    "probabilities_one_valid_logistic = probabilities_valid_logistic[:, 1]\n",
    "auc_roc_logistic_unb = roc_auc_score(target_valid, probabilities_one_valid_logistic)\n",
    "\n"
   ]
  },
  {
   "cell_type": "code",
   "execution_count": 32,
   "id": "8bcb5df2",
   "metadata": {},
   "outputs": [],
   "source": [
    "model = DecisionTreeClassifier(max_depth=7, random_state=12345,class_weight='balanced')\n",
    "model.fit(features_train,target_train)\n",
    "\n",
    "predicted_valid_tree = model.predict(features_valid)\n",
    "\n",
    "accuracy_tree = accuracy_score(target_valid, predicted_valid_tree)\n",
    "f1_tree = f1_score(target_valid, predicted_valid_tree)\n",
    "\n",
    "probabilities_valid_tree = model.predict_proba(features_valid)\n",
    "probabilities_one_valid_tree = probabilities_valid_tree[:, 1]\n",
    "auc_roc_tree = roc_auc_score(target_valid, probabilities_one_valid_tree)\n",
    "\n"
   ]
  },
  {
   "cell_type": "code",
   "execution_count": 33,
   "id": "c5bd5f61",
   "metadata": {},
   "outputs": [],
   "source": [
    "model = RandomForestClassifier(n_estimators=10, max_depth=11, random_state=12345,class_weight='balanced')\n",
    "model.fit(features_train,target_train)\n",
    "\n",
    "predicted_valid_forest = model.predict(features_valid)\n",
    "\n",
    "accuracy_forest = accuracy_score(target_valid, predicted_valid_forest)\n",
    "f1_forest = f1_score(target_valid, predicted_valid_forest)\n",
    "\n",
    "probabilities_valid_forest = model.predict_proba(features_valid)\n",
    "probabilities_one_valid_forest = probabilities_valid_forest[:, 1]\n",
    "auc_roc_forest = roc_auc_score(target_valid, probabilities_one_valid_forest)\n",
    "\n"
   ]
  },
  {
   "cell_type": "code",
   "execution_count": 34,
   "id": "6472a18b",
   "metadata": {},
   "outputs": [],
   "source": [
    "model = LogisticRegression(random_state=12345,class_weight='balanced')\n",
    "model.fit(features_train,target_train)\n",
    "\n",
    "predicted_valid_logistic = model.predict(features_valid)\n",
    "\n",
    "accuracy_logistic = accuracy_score(target_valid, predicted_valid_logistic)\n",
    "f1_logistic = f1_score(target_valid, predicted_valid_logistic)\n",
    "\n",
    "probabilities_valid_logistic = model.predict_proba(features_valid)\n",
    "probabilities_one_valid_logistic = probabilities_valid_logistic[:, 1]\n",
    "auc_roc_logistic = roc_auc_score(target_valid, probabilities_one_valid_logistic)\n",
    "\n"
   ]
  },
  {
   "cell_type": "code",
   "execution_count": 35,
   "id": "42d9ce45",
   "metadata": {
    "scrolled": false
   },
   "outputs": [
    {
     "data": {
      "text/html": [
       "<div>\n",
       "<style scoped>\n",
       "    .dataframe tbody tr th:only-of-type {\n",
       "        vertical-align: middle;\n",
       "    }\n",
       "\n",
       "    .dataframe tbody tr th {\n",
       "        vertical-align: top;\n",
       "    }\n",
       "\n",
       "    .dataframe thead th {\n",
       "        text-align: right;\n",
       "    }\n",
       "</style>\n",
       "<table border=\"1\" class=\"dataframe\">\n",
       "  <thead>\n",
       "    <tr style=\"text-align: right;\">\n",
       "      <th></th>\n",
       "      <th>model</th>\n",
       "      <th>accuracy_unbalanced</th>\n",
       "      <th>accuracy_balanced</th>\n",
       "      <th>f1_unbalanced</th>\n",
       "      <th>f1_balanced</th>\n",
       "      <th>auc_roc_unbalanced</th>\n",
       "      <th>auc_roc_balanced</th>\n",
       "    </tr>\n",
       "  </thead>\n",
       "  <tbody>\n",
       "    <tr>\n",
       "      <th>0</th>\n",
       "      <td>DecisionTree</td>\n",
       "      <td>0.860</td>\n",
       "      <td>0.7695</td>\n",
       "      <td>0.597701</td>\n",
       "      <td>0.586547</td>\n",
       "      <td>0.841383</td>\n",
       "      <td>0.829996</td>\n",
       "    </tr>\n",
       "    <tr>\n",
       "      <th>1</th>\n",
       "      <td>RandomForest</td>\n",
       "      <td>0.866</td>\n",
       "      <td>0.8420</td>\n",
       "      <td>0.610465</td>\n",
       "      <td>0.623810</td>\n",
       "      <td>0.861460</td>\n",
       "      <td>0.859664</td>\n",
       "    </tr>\n",
       "    <tr>\n",
       "      <th>2</th>\n",
       "      <td>LogisticRegression</td>\n",
       "      <td>0.813</td>\n",
       "      <td>0.7300</td>\n",
       "      <td>0.315018</td>\n",
       "      <td>0.527145</td>\n",
       "      <td>0.786080</td>\n",
       "      <td>0.792475</td>\n",
       "    </tr>\n",
       "  </tbody>\n",
       "</table>\n",
       "</div>"
      ],
      "text/plain": [
       "                model  accuracy_unbalanced  accuracy_balanced  f1_unbalanced  \\\n",
       "0        DecisionTree                0.860             0.7695       0.597701   \n",
       "1        RandomForest                0.866             0.8420       0.610465   \n",
       "2  LogisticRegression                0.813             0.7300       0.315018   \n",
       "\n",
       "   f1_balanced  auc_roc_unbalanced  auc_roc_balanced  \n",
       "0     0.586547            0.841383          0.829996  \n",
       "1     0.623810            0.861460          0.859664  \n",
       "2     0.527145            0.786080          0.792475  "
      ]
     },
     "execution_count": 35,
     "metadata": {},
     "output_type": "execute_result"
    }
   ],
   "source": [
    "result = pd.DataFrame()\n",
    "result['model'] = ['DecisionTree','RandomForest','LogisticRegression']\n",
    "result['accuracy_unbalanced'] =[accuracy_tree_unb,accuracy_forest_unb,accuracy_logistic_unb]\n",
    "result['accuracy_balanced'] =[accuracy_tree,accuracy_forest,accuracy_logistic]\n",
    "result['f1_unbalanced'] =[f1_tree_unb,f1_forest_unb,f1_logistic_unb]\n",
    "result['f1_balanced'] =[f1_tree,f1_forest,f1_logistic]\n",
    "result['auc_roc_unbalanced'] =[auc_roc_tree_unb,auc_roc_forest_unb,auc_roc_logistic_unb]\n",
    "result['auc_roc_balanced'] =[auc_roc_tree,auc_roc_forest,auc_roc_logistic]\n",
    "result"
   ]
  },
  {
   "cell_type": "code",
   "execution_count": 36,
   "id": "bfcb58dc",
   "metadata": {},
   "outputs": [
    {
     "data": {
      "text/plain": [
       "Text(0.5, 1.0, 'Изменение метрики F1')"
      ]
     },
     "execution_count": 36,
     "metadata": {},
     "output_type": "execute_result"
    },
    {
     "data": {
      "image/png": "[encoded data removed]",
      "text/plain": [
       "<Figure size 640x480 with 1 Axes>"
      ]
     },
     "metadata": {},
     "output_type": "display_data"
    }
   ],
   "source": [
    "result.plot(x='model',y=['f1_unbalanced','f1_balanced'],kind='bar')\n",
    "plt.xlabel(\"Model\")\n",
    "plt.ylabel(\"F1\")\n",
    "plt.title('Изменение метрики F1')"
   ]
  },
  {
   "cell_type": "code",
   "execution_count": 37,
   "id": "5a46d5bb",
   "metadata": {},
   "outputs": [
    {
     "data": {
      "text/plain": [
       "Text(0.5, 1.0, 'Изменение метрики ROC AUC')"
      ]
     },
     "execution_count": 37,
     "metadata": {},
     "output_type": "execute_result"
    },
    {
     "data": {
      "image/png": "[encoded data removed]",
      "text/plain": [
       "<Figure size 640x480 with 1 Axes>"
      ]
     },
     "metadata": {},
     "output_type": "display_data"
    }
   ],
   "source": [
    "result.plot(x='model',y=['auc_roc_unbalanced','auc_roc_balanced'],kind='bar')\n",
    "plt.xlabel(\"Model\")\n",
    "plt.ylabel(\"ROC AUC\")\n",
    "plt.title('Изменение метрики ROC AUC')"
   ]
  },
  {
   "cell_type": "markdown",
   "id": "43b10cb4",
   "metadata": {},
   "source": [
    "Как видим по всем трем метрикам независимо от балансировки лидирует RF, именно для этой модели в дальнейшем будем подбирать оптимальные гиперпараметры и способы борьбы с дисбалансом.\\\n",
    "Так же важно отметить, что метрика roc auc не чувствительна к дисбалансу.\\\n",
    "У моделей на основе деревьев дисбаланс не сильно отражается на метриках, в отличии от модели регресии.\n"
   ]
  },
  {
   "cell_type": "markdown",
   "id": "e41a461e",
   "metadata": {},
   "source": [
    "## Борьба с дисбалансом"
   ]
  },
  {
   "cell_type": "markdown",
   "id": "5252bb0d",
   "metadata": {},
   "source": [
    "Рассмотрим три метода борьбы с дисбалансом у модели RF:\n",
    "-  Метод взвешивания class_weight\n",
    "-  SMOTE\n",
    "-  ADASYN"
   ]
  },
  {
   "cell_type": "markdown",
   "id": "9139ca66",
   "metadata": {},
   "source": [
    "Для каждого метода будем изначально подбирать оптимальные гиперпараметры и проверять метрики F1 и AUC ROC на валидационной выборке."
   ]
  },
  {
   "cell_type": "markdown",
   "id": "27674e60",
   "metadata": {},
   "source": [
    "### Метод взвешивания"
   ]
  },
  {
   "cell_type": "code",
   "execution_count": 38,
   "id": "226ad1ec",
   "metadata": {},
   "outputs": [
    {
     "name": "stdout",
     "output_type": "stream",
     "text": [
      "max_depth = 7, max_f1 = 0.6370699223085461\n"
     ]
    }
   ],
   "source": [
    "best_result = 0\n",
    "best_depth = 0\n",
    "for depth in range(1, 16, 1):\n",
    "    model = RandomForestClassifier(n_estimators=10, max_depth=depth, random_state=12345,class_weight='balanced')\n",
    "    model.fit(features_train, target_train)\n",
    "    predicted_valid = model.predict(features_valid)\n",
    "    result_valid = f1_score(target_valid, predicted_valid)\n",
    "    if result_valid > best_result:\n",
    "        best_depth = depth\n",
    "        best_result = result_valid\n",
    "print(f'max_depth = {best_depth}, max_f1 = {best_result}')        "
   ]
  },
  {
   "cell_type": "code",
   "execution_count": 39,
   "id": "0d74ac0c",
   "metadata": {},
   "outputs": [
    {
     "name": "stdout",
     "output_type": "stream",
     "text": [
      "max_est_RF = 130, max_f1 = 0.6516613076098606\n"
     ]
    }
   ],
   "source": [
    "best_result = 0\n",
    "best_est = 0\n",
    "for est in range(10, 150, 10):\n",
    "    model = RandomForestClassifier(n_estimators=est, max_depth=7, random_state=12345,class_weight='balanced')\n",
    "    model.fit(features_train, target_train)\n",
    "    predicted_valid = model.predict(features_valid)\n",
    "    result_valid = f1_score(target_valid, predicted_valid)\n",
    "    if result_valid > best_result:\n",
    "        best_est = est\n",
    "        best_result = result_valid\n",
    "print(f'max_est_RF = {best_est}, max_f1 = {best_result}')  "
   ]
  },
  {
   "cell_type": "code",
   "execution_count": 40,
   "id": "86286d70",
   "metadata": {},
   "outputs": [
    {
     "name": "stdout",
     "output_type": "stream",
     "text": [
      "На валидационной выборке F1 = 0.6516613076098606,AUC ROC = 0.8747860010838506\n",
      "CPU times: total: 953 ms\n",
      "Wall time: 953 ms\n"
     ]
    }
   ],
   "source": [
    "%%time\n",
    "model_weight = RandomForestClassifier(n_estimators=130, max_depth=7, random_state=12345,class_weight='balanced' )\n",
    "model_weight.fit(features_train, target_train)\n",
    "\n",
    "predicted_valid = model_weight.predict(features_valid)\n",
    "f1_weight = f1_score(target_valid, predicted_valid)\n",
    "probabilities_valid = model_weight.predict_proba(features_valid)\n",
    "probabilities_one_weight = probabilities_valid[:, 1]\n",
    "auc_roc_weight = roc_auc_score(target_valid, probabilities_one_weight)\n",
    "\n",
    "\n",
    "print(f'На валидационной выборке F1 = {f1_weight},AUC ROC = {auc_roc_weight}')"
   ]
  },
  {
   "cell_type": "markdown",
   "id": "2ea39115",
   "metadata": {},
   "source": [
    "### SMOTE"
   ]
  },
  {
   "cell_type": "code",
   "execution_count": 41,
   "id": "611dcc0c",
   "metadata": {},
   "outputs": [
    {
     "name": "stdout",
     "output_type": "stream",
     "text": [
      "Original dataset: [(0, 4778), (1, 1222)]\n",
      "Sampled dataset: [(0, 4778), (1, 4778)]\n"
     ]
    }
   ],
   "source": [
    "\n",
    "features_train_resampled, target_train_resampled = SMOTE(random_state=12345).fit_resample(features_train, target_train)\n",
    "print(\"Original dataset:\", sorted(Counter(target_train).items()))\n",
    "print(\"Sampled dataset:\", sorted(Counter(target_train_resampled).items()))"
   ]
  },
  {
   "cell_type": "code",
   "execution_count": 42,
   "id": "3f02b704",
   "metadata": {},
   "outputs": [
    {
     "name": "stdout",
     "output_type": "stream",
     "text": [
      "max_depth_RF = 8, max_f1 = 0.634\n"
     ]
    }
   ],
   "source": [
    "best_result = 0\n",
    "best_depth = 0\n",
    "for depth in range(1, 16, 1):\n",
    "    model = RandomForestClassifier(n_estimators=10, max_depth=depth, random_state=12345)\n",
    "    model.fit(features_train_resampled, target_train_resampled)\n",
    "    predicted_valid = model.predict(features_valid)\n",
    "    result_valid = f1_score(target_valid, predicted_valid)\n",
    "    if result_valid > best_result:\n",
    "        best_depth = depth\n",
    "        best_result = result_valid\n",
    "print(f'max_depth_RF = {best_depth}, max_f1 = {best_result}')    "
   ]
  },
  {
   "cell_type": "code",
   "execution_count": 43,
   "id": "73346ce4",
   "metadata": {},
   "outputs": [
    {
     "name": "stdout",
     "output_type": "stream",
     "text": [
      "max_est_RF = 140, max_f1 = 0.6485355648535566\n"
     ]
    }
   ],
   "source": [
    "best_result = 0\n",
    "best_est = 0\n",
    "for est in range(10, 150, 10):\n",
    "    model = RandomForestClassifier(n_estimators=est, max_depth=8, random_state=12345)\n",
    "    model.fit(features_train_resampled, target_train_resampled)\n",
    "    predicted_valid = model.predict(features_valid)\n",
    "    result_valid = f1_score(target_valid, predicted_valid)\n",
    "    if result_valid > best_result:\n",
    "        best_est = est\n",
    "        best_result = result_valid\n",
    "print(f'max_est_RF = {best_est}, max_f1 = {best_result}')  "
   ]
  },
  {
   "cell_type": "code",
   "execution_count": 44,
   "id": "084503c0",
   "metadata": {},
   "outputs": [
    {
     "name": "stdout",
     "output_type": "stream",
     "text": [
      "На валидационной выборке F1 = 0.6485355648535566,AUC ROC = 0.8693575105921765\n",
      "CPU times: total: 1.56 s\n",
      "Wall time: 1.55 s\n"
     ]
    }
   ],
   "source": [
    "%%time\n",
    "model_smote = RandomForestClassifier(n_estimators=140, max_depth=8, random_state=12345)\n",
    "model_smote.fit(features_train_resampled, target_train_resampled)\n",
    "\n",
    "predicted_valid = model_smote.predict(features_valid)\n",
    "f1_smote = f1_score(target_valid, predicted_valid)\n",
    "probabilities_valid = model_smote.predict_proba(features_valid)\n",
    "probabilities_one_smote= probabilities_valid[:, 1]\n",
    "auc_roc_smote = roc_auc_score(target_valid, probabilities_one_smote)\n",
    "\n",
    "\n",
    "print(f'На валидационной выборке F1 = {f1_smote},AUC ROC = {auc_roc_smote}')"
   ]
  },
  {
   "cell_type": "markdown",
   "id": "258c1f8d",
   "metadata": {},
   "source": [
    "### ADASYN"
   ]
  },
  {
   "cell_type": "code",
   "execution_count": 45,
   "id": "b17988e0",
   "metadata": {},
   "outputs": [
    {
     "name": "stdout",
     "output_type": "stream",
     "text": [
      "Original dataset: [(0, 4778), (1, 1222)]\n",
      "Sampled dataset: [(0, 4778), (1, 4568)]\n"
     ]
    }
   ],
   "source": [
    "features_train_adasyn, target_train_adasyn = ADASYN(random_state=12345).fit_resample(features_train, target_train)\n",
    "print(\"Original dataset:\", sorted(Counter(target_train).items()))\n",
    "print(\"Sampled dataset:\", sorted(Counter(target_train_adasyn).items()))"
   ]
  },
  {
   "cell_type": "code",
   "execution_count": 46,
   "id": "f66d99b7",
   "metadata": {},
   "outputs": [
    {
     "name": "stdout",
     "output_type": "stream",
     "text": [
      "max_depth_RF = 8, max_f1 = 0.6109022556390977\n"
     ]
    }
   ],
   "source": [
    "best_result = 0\n",
    "best_depth = 0\n",
    "for depth in range(1, 16, 1):\n",
    "    model = RandomForestClassifier(n_estimators=10, max_depth=depth, random_state=12345)\n",
    "    model.fit(features_train_adasyn, target_train_adasyn )\n",
    "    predicted_valid = model.predict(features_valid)\n",
    "    result_valid = f1_score(target_valid, predicted_valid)\n",
    "    if result_valid > best_result:\n",
    "        best_depth = depth\n",
    "        best_result = result_valid\n",
    "print(f'max_depth_RF = {best_depth}, max_f1 = {best_result}')    "
   ]
  },
  {
   "cell_type": "code",
   "execution_count": 47,
   "id": "1fc2c17c",
   "metadata": {},
   "outputs": [
    {
     "name": "stdout",
     "output_type": "stream",
     "text": [
      "max_est_RF = 20, max_f1 = 0.6215443279313632\n"
     ]
    }
   ],
   "source": [
    "best_result = 0\n",
    "best_est = 0\n",
    "for est in range(10, 150, 10):\n",
    "    model = RandomForestClassifier(n_estimators=est, max_depth=8, random_state=12345)\n",
    "    model.fit(features_train_adasyn, target_train_adasyn )\n",
    "    predicted_valid = model.predict(features_valid)\n",
    "    result_valid = f1_score(target_valid, predicted_valid)\n",
    "    if result_valid > best_result:\n",
    "        best_est = est\n",
    "        best_result = result_valid\n",
    "print(f'max_est_RF = {best_est}, max_f1 = {best_result}')  "
   ]
  },
  {
   "cell_type": "code",
   "execution_count": 48,
   "id": "3c538da1",
   "metadata": {},
   "outputs": [
    {
     "name": "stdout",
     "output_type": "stream",
     "text": [
      "На валидационной выборке F1 = 0.6050895381715363,AUC ROC = 0.8649759212730318\n",
      "CPU times: total: 250 ms\n",
      "Wall time: 227 ms\n"
     ]
    }
   ],
   "source": [
    "%%time\n",
    "model_adasyn = RandomForestClassifier(n_estimators=20, max_depth=8, random_state=12345,class_weight='balanced' )\n",
    "model_adasyn.fit(features_train_adasyn, target_train_adasyn)\n",
    "\n",
    "predicted_valid = model_adasyn.predict(features_valid)\n",
    "f1_adasyn = f1_score(target_valid, predicted_valid)\n",
    "probabilities_valid = model_adasyn.predict_proba(features_valid)\n",
    "probabilities_one_adasyn = probabilities_valid[:, 1]\n",
    "auc_roc_adasyn = roc_auc_score(target_valid, probabilities_one_adasyn)\n",
    "\n",
    "\n",
    "print(f'На валидационной выборке F1 = {f1_adasyn},AUC ROC = {auc_roc_adasyn}')"
   ]
  },
  {
   "cell_type": "markdown",
   "id": "d38e19d1",
   "metadata": {},
   "source": [
    "### Выбор метода"
   ]
  },
  {
   "cell_type": "code",
   "execution_count": 49,
   "id": "e3abe3b7",
   "metadata": {},
   "outputs": [
    {
     "data": {
      "text/html": [
       "<div>\n",
       "<style scoped>\n",
       "    .dataframe tbody tr th:only-of-type {\n",
       "        vertical-align: middle;\n",
       "    }\n",
       "\n",
       "    .dataframe tbody tr th {\n",
       "        vertical-align: top;\n",
       "    }\n",
       "\n",
       "    .dataframe thead th {\n",
       "        text-align: right;\n",
       "    }\n",
       "</style>\n",
       "<table border=\"1\" class=\"dataframe\">\n",
       "  <thead>\n",
       "    <tr style=\"text-align: right;\">\n",
       "      <th></th>\n",
       "      <th>methods</th>\n",
       "      <th>f1</th>\n",
       "      <th>auc_roc</th>\n",
       "    </tr>\n",
       "  </thead>\n",
       "  <tbody>\n",
       "    <tr>\n",
       "      <th>0</th>\n",
       "      <td>class_weight</td>\n",
       "      <td>0.651661</td>\n",
       "      <td>0.874786</td>\n",
       "    </tr>\n",
       "    <tr>\n",
       "      <th>1</th>\n",
       "      <td>SMOTE</td>\n",
       "      <td>0.648536</td>\n",
       "      <td>0.869358</td>\n",
       "    </tr>\n",
       "    <tr>\n",
       "      <th>2</th>\n",
       "      <td>ADASYN</td>\n",
       "      <td>0.605090</td>\n",
       "      <td>0.864976</td>\n",
       "    </tr>\n",
       "  </tbody>\n",
       "</table>\n",
       "</div>"
      ],
      "text/plain": [
       "        methods        f1   auc_roc\n",
       "0  class_weight  0.651661  0.874786\n",
       "1         SMOTE  0.648536  0.869358\n",
       "2        ADASYN  0.605090  0.864976"
      ]
     },
     "execution_count": 49,
     "metadata": {},
     "output_type": "execute_result"
    }
   ],
   "source": [
    "balancing_methods = pd.DataFrame()\n",
    "balancing_methods['methods'] = ['class_weight','SMOTE','ADASYN']\n",
    "balancing_methods['f1'] =[f1_weight,f1_smote,f1_adasyn]\n",
    "balancing_methods['auc_roc'] =[auc_roc_weight,auc_roc_smote,auc_roc_adasyn]\n",
    "balancing_methods.sort_values(by='f1',ascending=False)"
   ]
  },
  {
   "cell_type": "code",
   "execution_count": 50,
   "id": "9a91ddef",
   "metadata": {},
   "outputs": [
    {
     "data": {
      "text/plain": [
       "<AxesSubplot:xlabel='methods'>"
      ]
     },
     "execution_count": 50,
     "metadata": {},
     "output_type": "execute_result"
    },
    {
     "data": {
      "image/png": "[encoded data removed]",
      "text/plain": [
       "<Figure size 640x480 with 1 Axes>"
      ]
     },
     "metadata": {},
     "output_type": "display_data"
    }
   ],
   "source": [
    "balancing_methods.plot(x='methods',y=['f1','auc_roc'])"
   ]
  },
  {
   "cell_type": "markdown",
   "id": "1acc72c2",
   "metadata": {},
   "source": [
    "Здесь четко видно превосходство метода class weight.А так же что метрика roc auc менее чувствительна к дисбалансу и способам борьбы с ним."
   ]
  },
  {
   "cell_type": "code",
   "execution_count": 51,
   "id": "5592fc5d",
   "metadata": {},
   "outputs": [
    {
     "data": {
      "image/png": "[encoded data removed]",
      "text/plain": [
       "<Figure size 640x480 with 1 Axes>"
      ]
     },
     "metadata": {},
     "output_type": "display_data"
    }
   ],
   "source": [
    "fpr1, tpr1, thresholds1 = roc_curve(target_valid, probabilities_one_weight)\n",
    "fpr2, tpr2, thresholds2 = roc_curve(target_valid, probabilities_one_smote)\n",
    "fpr3, tpr3, thresholds3 = roc_curve(target_valid, probabilities_one_adasyn)\n",
    "plt.figure()\n",
    "\n",
    "plt.plot(fpr1, tpr1,label='class_weight')\n",
    "plt.plot(fpr2, tpr2,label='SMOTE')\n",
    "plt.plot(fpr3, tpr3,label='ADASYN')\n",
    "# ROC-кривая случайной модели \n",
    "plt.plot([0, 1], [0, 1], linestyle='--')\n",
    "\n",
    "plt.ylim([0, 1])\n",
    "plt.xlim([0, 1])\n",
    "\n",
    "plt.xlabel('False Positive Rate')\n",
    "plt.ylabel('True Positive Ratlabel')\n",
    "\n",
    "plt.title('ROC-кривая')\n",
    "plt.legend(loc=0)\n",
    "plt.show()"
   ]
  },
  {
   "cell_type": "code",
   "execution_count": 52,
   "id": "5af5e0bc",
   "metadata": {},
   "outputs": [
    {
     "data": {
      "image/png": "[encoded data removed]",
      "text/plain": [
       "<Figure size 600x600 with 1 Axes>"
      ]
     },
     "metadata": {},
     "output_type": "display_data"
    }
   ],
   "source": [
    "precision1, recall1, thresholds1 = precision_recall_curve(target_valid, probabilities_one_weight)\n",
    "precision2, recall2, thresholds2 = precision_recall_curve(target_valid, probabilities_one_smote)\n",
    "precision3, recall3, thresholds3 = precision_recall_curve(target_valid, probabilities_one_adasyn)\n",
    "\n",
    "plt.figure(figsize=(6, 6))\n",
    "plt.step(recall1, precision1, where='post',label='class_weight')\n",
    "plt.step(recall2, precision2, where='post',label='SMOTE')\n",
    "plt.step(recall3, precision3, where='post',label='ADASYN')\n",
    "plt.xlabel('Recall')\n",
    "plt.ylabel('Precision')\n",
    "plt.ylim([0.0, 1.05])\n",
    "plt.xlim([0.0, 1.0])\n",
    "plt.title('Кривая Precision-Recall')\n",
    "plt.legend(loc=0)\n",
    "plt.show() "
   ]
  },
  {
   "cell_type": "markdown",
   "id": "a1844c7d",
   "metadata": {},
   "source": [
    "Как видим на графиках и значениям из таблицы по показателям лидирует метод взвешивания классов.\\\n",
    "Так же можно отметить адекватность моделей в сравнении со случайной моделью."
   ]
  },
  {
   "cell_type": "markdown",
   "id": "7eec01be",
   "metadata": {},
   "source": [
    "## Тестирование модели"
   ]
  },
  {
   "cell_type": "markdown",
   "id": "78d16fc4",
   "metadata": {},
   "source": [
    "Протестируем модель RandomForestClassifier(n_estimators=130, max_depth=7, random_state=12345,class_weight='balanced' )"
   ]
  },
  {
   "cell_type": "markdown",
   "id": "e59b4257",
   "metadata": {},
   "source": [
    "Поскольку валидационная выборка более не требуется, объеденим ее с тренировочной и обучим модель с выбранным методом борьбы с дисбалансом на большем объеме данных"
   ]
  },
  {
   "cell_type": "code",
   "execution_count": 53,
   "id": "80b5bb69",
   "metadata": {},
   "outputs": [],
   "source": [
    "frames_features = [features_valid, features_train]\n",
    "frames_target = [target_valid, target_train]\n",
    "features_val_train = pd.concat(frames_features)\n",
    "target_val_train = pd.concat(frames_target)"
   ]
  },
  {
   "cell_type": "code",
   "execution_count": 54,
   "id": "907260ae",
   "metadata": {},
   "outputs": [
    {
     "name": "stdout",
     "output_type": "stream",
     "text": [
      "На объединенной выборке F1 = 0.6571805006587615,AUC ROC = 0.8967325268946653\n",
      "CPU times: total: 1.28 s\n",
      "Wall time: 1.31 s\n"
     ]
    }
   ],
   "source": [
    "%%time\n",
    "model = RandomForestClassifier(n_estimators=130, max_depth=7, random_state=12345,class_weight='balanced' )\n",
    "model.fit(features_val_train, target_val_train)\n",
    "\n",
    "predicted_val_train = model.predict(features_val_train)\n",
    "result_val_train = f1_score(target_val_train, predicted_val_train)\n",
    "probabilities_val_train = model.predict_proba(features_val_train)\n",
    "probabilities_one_val_train = probabilities_val_train[:, 1]\n",
    "auc_roc_val_train = roc_auc_score(target_val_train, probabilities_one_val_train)\n",
    "print(f'На объединенной выборке F1 = {result_val_train},AUC ROC = {auc_roc_val_train}')"
   ]
  },
  {
   "cell_type": "markdown",
   "id": "ebd369ad",
   "metadata": {},
   "source": [
    "Протестируем модель на тестовой выборке, но перед этим преобразуем категориальные признаки."
   ]
  },
  {
   "cell_type": "code",
   "execution_count": 55,
   "id": "ed6c801c",
   "metadata": {},
   "outputs": [],
   "source": [
    "test_ohe = ohe.transform(features_test[cat_columns])\n",
    "test_ohe = pd.DataFrame(test_ohe, columns=ohe.get_feature_names(cat_columns), index=features_test.index)\n",
    "features_test[ohe.get_feature_names()] = test_ohe\n",
    "features_test.drop(columns=cat_columns, inplace=True)"
   ]
  },
  {
   "cell_type": "code",
   "execution_count": 56,
   "id": "36570d70",
   "metadata": {},
   "outputs": [
    {
     "data": {
      "text/html": [
       "<div>\n",
       "<style scoped>\n",
       "    .dataframe tbody tr th:only-of-type {\n",
       "        vertical-align: middle;\n",
       "    }\n",
       "\n",
       "    .dataframe tbody tr th {\n",
       "        vertical-align: top;\n",
       "    }\n",
       "\n",
       "    .dataframe thead th {\n",
       "        text-align: right;\n",
       "    }\n",
       "</style>\n",
       "<table border=\"1\" class=\"dataframe\">\n",
       "  <thead>\n",
       "    <tr style=\"text-align: right;\">\n",
       "      <th></th>\n",
       "      <th>age</th>\n",
       "      <th>balance</th>\n",
       "      <th>num_of_products</th>\n",
       "      <th>is_active_member</th>\n",
       "      <th>estimated_salary</th>\n",
       "      <th>x0_Germany</th>\n",
       "      <th>x0_Spain</th>\n",
       "      <th>x1_Male</th>\n",
       "    </tr>\n",
       "  </thead>\n",
       "  <tbody>\n",
       "    <tr>\n",
       "      <th>657</th>\n",
       "      <td>1.429928</td>\n",
       "      <td>0.873883</td>\n",
       "      <td>2</td>\n",
       "      <td>1</td>\n",
       "      <td>1.725255</td>\n",
       "      <td>1.0</td>\n",
       "      <td>0.0</td>\n",
       "      <td>0.0</td>\n",
       "    </tr>\n",
       "    <tr>\n",
       "      <th>2083</th>\n",
       "      <td>-1.429769</td>\n",
       "      <td>-1.219673</td>\n",
       "      <td>1</td>\n",
       "      <td>1</td>\n",
       "      <td>1.203665</td>\n",
       "      <td>0.0</td>\n",
       "      <td>0.0</td>\n",
       "      <td>1.0</td>\n",
       "    </tr>\n",
       "    <tr>\n",
       "      <th>3234</th>\n",
       "      <td>0.762665</td>\n",
       "      <td>-1.219673</td>\n",
       "      <td>1</td>\n",
       "      <td>0</td>\n",
       "      <td>-1.374743</td>\n",
       "      <td>0.0</td>\n",
       "      <td>0.0</td>\n",
       "      <td>1.0</td>\n",
       "    </tr>\n",
       "    <tr>\n",
       "      <th>1551</th>\n",
       "      <td>1.239281</td>\n",
       "      <td>-1.219673</td>\n",
       "      <td>2</td>\n",
       "      <td>1</td>\n",
       "      <td>0.382306</td>\n",
       "      <td>0.0</td>\n",
       "      <td>1.0</td>\n",
       "      <td>0.0</td>\n",
       "    </tr>\n",
       "    <tr>\n",
       "      <th>2344</th>\n",
       "      <td>0.953312</td>\n",
       "      <td>0.267087</td>\n",
       "      <td>1</td>\n",
       "      <td>0</td>\n",
       "      <td>-1.613578</td>\n",
       "      <td>1.0</td>\n",
       "      <td>0.0</td>\n",
       "      <td>0.0</td>\n",
       "    </tr>\n",
       "  </tbody>\n",
       "</table>\n",
       "</div>"
      ],
      "text/plain": [
       "           age   balance  num_of_products  is_active_member  estimated_salary  \\\n",
       "657   1.429928  0.873883                2                 1          1.725255   \n",
       "2083 -1.429769 -1.219673                1                 1          1.203665   \n",
       "3234  0.762665 -1.219673                1                 0         -1.374743   \n",
       "1551  1.239281 -1.219673                2                 1          0.382306   \n",
       "2344  0.953312  0.267087                1                 0         -1.613578   \n",
       "\n",
       "      x0_Germany  x0_Spain  x1_Male  \n",
       "657          1.0       0.0      0.0  \n",
       "2083         0.0       0.0      1.0  \n",
       "3234         0.0       0.0      1.0  \n",
       "1551         0.0       1.0      0.0  \n",
       "2344         1.0       0.0      0.0  "
      ]
     },
     "execution_count": 56,
     "metadata": {},
     "output_type": "execute_result"
    }
   ],
   "source": [
    "features_test.head()"
   ]
  },
  {
   "cell_type": "code",
   "execution_count": 57,
   "id": "b45f37d0",
   "metadata": {},
   "outputs": [
    {
     "name": "stdout",
     "output_type": "stream",
     "text": [
      "На тестовой выборке F1 = 0.6056782334384858,AUC ROC = 0.8566224159444498\n"
     ]
    }
   ],
   "source": [
    "predicted_test = model.predict(features_test)\n",
    "result_test = f1_score(target_test, predicted_test)\n",
    "probabilities_test = model.predict_proba(features_test)\n",
    "probabilities_one_test = probabilities_test[:, 1]\n",
    "auc_roc_test = roc_auc_score(target_test, probabilities_one_test)\n",
    "print(f'На тестовой выборке F1 = {result_test},AUC ROC = {auc_roc_test}')"
   ]
  },
  {
   "cell_type": "markdown",
   "id": "bb40734b",
   "metadata": {},
   "source": [
    "Посмотрим на матрицу ошибок на тестовой выборке и на кривые PR и ROC."
   ]
  },
  {
   "cell_type": "code",
   "execution_count": 58,
   "id": "5615f65d",
   "metadata": {},
   "outputs": [
    {
     "data": {
      "image/png": "[encoded data removed]",
      "text/plain": [
       "<Figure size 640x480 with 2 Axes>"
      ]
     },
     "metadata": {},
     "output_type": "display_data"
    }
   ],
   "source": [
    "matrix = confusion_matrix(target_test,predicted_test,labels=model.classes_ )\n",
    "disp = ConfusionMatrixDisplay(confusion_matrix=matrix,\n",
    "                              display_labels=model.classes_)\n",
    "disp.plot()\n",
    "plt.show()"
   ]
  },
  {
   "cell_type": "markdown",
   "id": "42001ffb",
   "metadata": {},
   "source": [
    "288 раз модель предсказала уход клиента,когда он действительно ушел и 119 клиентов было упущено.\\\n",
    "256 раз работа по удержанию клиентов будет выполнена напрасно, так как они и не уходили. 1337 раз модель оказалась права в том,что клиент не собирается уходить."
   ]
  },
  {
   "cell_type": "code",
   "execution_count": 59,
   "id": "ca5643bb",
   "metadata": {},
   "outputs": [
    {
     "data": {
      "image/png": "[encoded data removed]",
      "text/plain": [
       "<Figure size 640x480 with 1 Axes>"
      ]
     },
     "metadata": {},
     "output_type": "display_data"
    }
   ],
   "source": [
    "fpr, tpr, thresholds = roc_curve(target_test, probabilities_one_test)\n",
    "\n",
    "plt.figure()\n",
    "plt.plot(fpr, tpr,label='test')\n",
    "# ROC-кривая случайной модели \n",
    "plt.plot([0, 1], [0, 1], linestyle='--')\n",
    "\n",
    "plt.ylim([0, 1])\n",
    "plt.xlim([0, 1])\n",
    "\n",
    "plt.xlabel('False Positive Rate')\n",
    "plt.ylabel('True Positive Ratlabel')\n",
    "\n",
    "plt.title('ROC-кривая')\n",
    "plt.legend(loc=0)\n",
    "plt.show()"
   ]
  },
  {
   "cell_type": "markdown",
   "id": "79e6412b",
   "metadata": {},
   "source": [
    "Здесь мы видим,что модель проходит проверку на адекватность и кривая расположена довольно высоко."
   ]
  },
  {
   "cell_type": "code",
   "execution_count": 60,
   "id": "17d8b4ca",
   "metadata": {},
   "outputs": [
    {
     "data": {
      "image/png": "[encoded data removed]",
      "text/plain": [
       "<Figure size 600x600 with 1 Axes>"
      ]
     },
     "metadata": {},
     "output_type": "display_data"
    }
   ],
   "source": [
    "precision, recall, thresholds = precision_recall_curve(target_test, probabilities_one_test)\n",
    "plt.figure(figsize=(6, 6))\n",
    "plt.step(recall1, precision1, where='post',label='test')\n",
    "plt.xlabel('Recall')\n",
    "plt.ylabel('Precision')\n",
    "plt.ylim([0.0, 1.05])\n",
    "plt.xlim([0.0, 1.0])\n",
    "plt.title('Кривая Precision-Recall')\n",
    "plt.legend(loc=0)\n",
    "plt.show() "
   ]
  },
  {
   "cell_type": "markdown",
   "id": "50979ae2",
   "metadata": {},
   "source": [
    "Кривая PR так же высоко расположена, что говорит о довольно высоком качестве модели."
   ]
  },
  {
   "cell_type": "markdown",
   "id": "4fb9734c",
   "metadata": {},
   "source": [
    "## Вывод"
   ]
  },
  {
   "cell_type": "markdown",
   "id": "fe28aa11",
   "metadata": {},
   "source": [
    "Имея данные об уходе клиентов необходимо было построить модель прогнозирующую уход , для работы на удержание клиента.\\\n",
    "Для этого :\n",
    "- Подготовили данные(обработали категориальные признаки,провели работу с пропусками, опредедили важность прихнаков), в результате чего обнаружили дисбаланс классов в целевом признаке 1 к 4;\n",
    "-  После подготовки данных было обучено три модели DT, RF и LogisticRegression без учета дисбаланса и с учетом методом взвешивания классов.В результате,чего определили, как дисбаланс влияет на каждую модель и выбрали лидирующую по показателям модель RF;\n",
    "-  На выбранной модели провели работу с дисбалансом тремя методами: взвешиванием классов, SMOTE и ADASYN, где для каждого метода подбирали лучшие гиперпараметры и поределяли метрику F1 и ROC AUC.\n",
    "-  Лидером по итогу стала модель RandomForestClassifier(n_estimators=130, max_depth=7, random_state=12345,class_weight='balanced' )\n",
    "-  Объеденила обучающую и валидационную выборку,обучила модель и провела тестирование на тестовой.\n",
    "\n",
    "**ИТОГ**  F1 на тестовой выборке составила 0.606, ROC AUC = 0.857\n"
   ]
  }
 ],
 "metadata": {
  "ExecuteTimeLog": [
   {
    "duration": 3216,
    "start_time": "2022-11-12T15:03:54.101Z"
   },
   {
    "duration": 0,
    "start_time": "2022-11-12T15:03:57.320Z"
   },
   {
    "duration": 0,
    "start_time": "2022-11-12T15:03:57.321Z"
   },
   {
    "duration": 0,
    "start_time": "2022-11-12T15:03:57.323Z"
   },
   {
    "duration": 0,
    "start_time": "2022-11-12T15:03:57.324Z"
   },
   {
    "duration": 0,
    "start_time": "2022-11-12T15:03:57.325Z"
   },
   {
    "duration": 0,
    "start_time": "2022-11-12T15:03:57.327Z"
   },
   {
    "duration": 0,
    "start_time": "2022-11-12T15:03:57.327Z"
   },
   {
    "duration": 0,
    "start_time": "2022-11-12T15:03:57.329Z"
   },
   {
    "duration": 0,
    "start_time": "2022-11-12T15:03:57.330Z"
   },
   {
    "duration": 0,
    "start_time": "2022-11-12T15:03:57.331Z"
   },
   {
    "duration": 0,
    "start_time": "2022-11-12T15:03:57.332Z"
   },
   {
    "duration": 0,
    "start_time": "2022-11-12T15:03:57.333Z"
   },
   {
    "duration": 0,
    "start_time": "2022-11-12T15:03:57.335Z"
   },
   {
    "duration": 0,
    "start_time": "2022-11-12T15:03:57.336Z"
   },
   {
    "duration": 0,
    "start_time": "2022-11-12T15:03:57.337Z"
   },
   {
    "duration": 0,
    "start_time": "2022-11-12T15:03:57.338Z"
   },
   {
    "duration": 0,
    "start_time": "2022-11-12T15:03:57.339Z"
   },
   {
    "duration": 0,
    "start_time": "2022-11-12T15:03:57.340Z"
   },
   {
    "duration": 0,
    "start_time": "2022-11-12T15:03:57.380Z"
   },
   {
    "duration": 0,
    "start_time": "2022-11-12T15:03:57.383Z"
   },
   {
    "duration": 0,
    "start_time": "2022-11-12T15:03:57.384Z"
   },
   {
    "duration": 0,
    "start_time": "2022-11-12T15:03:57.385Z"
   },
   {
    "duration": 0,
    "start_time": "2022-11-12T15:03:57.386Z"
   },
   {
    "duration": 0,
    "start_time": "2022-11-12T15:03:57.388Z"
   },
   {
    "duration": 0,
    "start_time": "2022-11-12T15:03:57.389Z"
   },
   {
    "duration": 0,
    "start_time": "2022-11-12T15:03:57.391Z"
   },
   {
    "duration": 0,
    "start_time": "2022-11-12T15:03:57.393Z"
   },
   {
    "duration": 0,
    "start_time": "2022-11-12T15:03:57.394Z"
   },
   {
    "duration": 0,
    "start_time": "2022-11-12T15:03:57.395Z"
   },
   {
    "duration": 0,
    "start_time": "2022-11-12T15:03:57.397Z"
   },
   {
    "duration": 0,
    "start_time": "2022-11-12T15:03:57.398Z"
   },
   {
    "duration": 0,
    "start_time": "2022-11-12T15:03:57.399Z"
   },
   {
    "duration": 0,
    "start_time": "2022-11-12T15:03:57.400Z"
   },
   {
    "duration": 0,
    "start_time": "2022-11-12T15:03:57.401Z"
   },
   {
    "duration": 13702,
    "start_time": "2022-11-12T15:04:29.173Z"
   },
   {
    "duration": 1553,
    "start_time": "2022-11-12T15:04:50.503Z"
   },
   {
    "duration": 6226,
    "start_time": "2022-11-12T15:05:05.549Z"
   },
   {
    "duration": 57,
    "start_time": "2022-11-12T15:05:14.720Z"
   },
   {
    "duration": 1534,
    "start_time": "2022-11-12T15:05:25.917Z"
   },
   {
    "duration": 180,
    "start_time": "2022-11-12T15:05:32.320Z"
   },
   {
    "duration": 17,
    "start_time": "2022-11-12T15:05:33.117Z"
   },
   {
    "duration": 20,
    "start_time": "2022-11-12T15:05:33.285Z"
   },
   {
    "duration": 13,
    "start_time": "2022-11-12T15:05:33.447Z"
   },
   {
    "duration": 13,
    "start_time": "2022-11-12T15:05:33.611Z"
   },
   {
    "duration": 35,
    "start_time": "2022-11-12T15:05:33.789Z"
   },
   {
    "duration": 17,
    "start_time": "2022-11-12T15:05:33.947Z"
   },
   {
    "duration": 11,
    "start_time": "2022-11-12T15:05:34.279Z"
   },
   {
    "duration": 4,
    "start_time": "2022-11-12T15:05:34.436Z"
   },
   {
    "duration": 4,
    "start_time": "2022-11-12T15:05:36.126Z"
   },
   {
    "duration": 5,
    "start_time": "2022-11-12T15:05:37.531Z"
   },
   {
    "duration": 8,
    "start_time": "2022-11-12T15:05:37.702Z"
   },
   {
    "duration": 7,
    "start_time": "2022-11-12T15:05:37.883Z"
   },
   {
    "duration": 4,
    "start_time": "2022-11-12T15:05:38.046Z"
   },
   {
    "duration": 886,
    "start_time": "2022-11-12T15:05:38.394Z"
   },
   {
    "duration": 9,
    "start_time": "2022-11-12T15:05:39.282Z"
   },
   {
    "duration": 25,
    "start_time": "2022-11-12T15:05:39.292Z"
   },
   {
    "duration": 23,
    "start_time": "2022-11-12T15:05:39.319Z"
   },
   {
    "duration": 12,
    "start_time": "2022-11-12T15:05:39.370Z"
   },
   {
    "duration": 12,
    "start_time": "2022-11-12T15:05:39.715Z"
   },
   {
    "duration": 17,
    "start_time": "2022-11-12T15:05:40.078Z"
   },
   {
    "duration": 461,
    "start_time": "2022-11-12T15:05:40.599Z"
   },
   {
    "duration": 7,
    "start_time": "2022-11-12T15:05:41.304Z"
   },
   {
    "duration": 126,
    "start_time": "2022-11-12T15:05:42.227Z"
   },
   {
    "duration": 230,
    "start_time": "2022-11-12T15:05:42.775Z"
   },
   {
    "duration": 662,
    "start_time": "2022-11-12T15:05:43.007Z"
   },
   {
    "duration": 4898,
    "start_time": "2022-11-12T15:05:43.671Z"
   },
   {
    "duration": 27,
    "start_time": "2022-11-12T15:05:48.571Z"
   },
   {
    "duration": 80,
    "start_time": "2022-11-12T15:05:48.600Z"
   },
   {
    "duration": 207,
    "start_time": "2022-11-12T15:05:48.682Z"
   },
   {
    "duration": 121,
    "start_time": "2022-11-12T15:05:48.981Z"
   },
   {
    "duration": 82,
    "start_time": "2022-11-12T15:05:49.104Z"
   },
   {
    "duration": 195,
    "start_time": "2022-11-12T15:05:49.188Z"
   },
   {
    "duration": 117,
    "start_time": "2022-11-12T15:05:49.386Z"
   },
   {
    "duration": 5,
    "start_time": "2022-11-12T15:08:13.721Z"
   },
   {
    "duration": 4,
    "start_time": "2022-11-12T15:08:15.503Z"
   },
   {
    "duration": 4,
    "start_time": "2022-11-12T15:08:17.260Z"
   },
   {
    "duration": 5,
    "start_time": "2022-11-12T15:08:23.592Z"
   },
   {
    "duration": 85623,
    "start_time": "2022-11-12T15:08:41.032Z"
   },
   {
    "duration": 674744,
    "start_time": "2022-11-12T15:10:54.318Z"
   },
   {
    "duration": 259,
    "start_time": "2022-11-12T15:22:09.065Z"
   },
   {
    "duration": 1864,
    "start_time": "2022-11-12T15:22:59.273Z"
   },
   {
    "duration": 1614,
    "start_time": "2022-11-12T15:23:24.695Z"
   },
   {
    "duration": 4,
    "start_time": "2022-11-12T15:23:47.282Z"
   },
   {
    "duration": 5,
    "start_time": "2022-11-12T15:23:47.687Z"
   },
   {
    "duration": 3,
    "start_time": "2022-11-12T15:23:56.718Z"
   },
   {
    "duration": 687231,
    "start_time": "2022-11-12T15:24:01.715Z"
   },
   {
    "duration": 293,
    "start_time": "2022-11-12T15:36:24.245Z"
   },
   {
    "duration": 252,
    "start_time": "2022-11-12T15:36:33.701Z"
   }
  ],
  "hide_input": false,
  "kernelspec": {
   "display_name": "Python 3 (ipykernel)",
   "language": "python",
   "name": "python3"
  },
  "language_info": {
   "codemirror_mode": {
    "name": "ipython",
    "version": 3
   },
   "file_extension": ".py",
   "mimetype": "text/x-python",
   "name": "python",
   "nbconvert_exporter": "python",
   "pygments_lexer": "ipython3",
   "version": "3.9.13"
  },
  "toc": {
   "base_numbering": 1,
   "nav_menu": {},
   "number_sections": true,
   "sideBar": true,
   "skip_h1_title": true,
   "title_cell": "Содержание",
   "title_sidebar": "Contents",
   "toc_cell": true,
   "toc_position": {
    "height": "calc(100% - 180px)",
    "left": "10px",
    "top": "150px",
    "width": "294.225px"
   },
   "toc_section_display": true,
   "toc_window_display": false
  }
 },
 "nbformat": 4,
 "nbformat_minor": 5
}
