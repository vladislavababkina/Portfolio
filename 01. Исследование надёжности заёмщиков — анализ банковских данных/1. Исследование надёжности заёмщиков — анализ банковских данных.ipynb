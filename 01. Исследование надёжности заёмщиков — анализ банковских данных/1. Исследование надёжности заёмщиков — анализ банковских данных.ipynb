{
 "cells": [
  {
   "cell_type": "markdown",
   "id": "df9c61de",
   "metadata": {
    "toc": true
   },
   "source": [
    "<h1>Содержание<span class=\"tocSkip\"></span></h1>\n",
    "<div class=\"toc\"><ul class=\"toc-item\"><li><span><a href=\"#Ознакомление-с-данными\" data-toc-modified-id=\"Ознакомление-с-данными-1\"><span class=\"toc-item-num\">1&nbsp;&nbsp;</span>Ознакомление с данными</a></span></li><li><span><a href=\"#Предобработка-данных\" data-toc-modified-id=\"Предобработка-данных-2\"><span class=\"toc-item-num\">2&nbsp;&nbsp;</span>Предобработка данных</a></span><ul class=\"toc-item\"><li><span><a href=\"#Удаление-пропусков\" data-toc-modified-id=\"Удаление-пропусков-2.1\"><span class=\"toc-item-num\">2.1&nbsp;&nbsp;</span>Удаление пропусков</a></span></li><li><span><a href=\"#Обработка-аномальных-значений\" data-toc-modified-id=\"Обработка-аномальных-значений-2.2\"><span class=\"toc-item-num\">2.2&nbsp;&nbsp;</span>Обработка аномальных значений</a></span></li><li><span><a href=\"#Изменение-типов-данных\" data-toc-modified-id=\"Изменение-типов-данных-2.3\"><span class=\"toc-item-num\">2.3&nbsp;&nbsp;</span>Изменение типов данных</a></span></li><li><span><a href=\"#Обработка-дубликатов\" data-toc-modified-id=\"Обработка-дубликатов-2.4\"><span class=\"toc-item-num\">2.4&nbsp;&nbsp;</span>Обработка дубликатов</a></span></li><li><span><a href=\"#Категоризация-данных\" data-toc-modified-id=\"Категоризация-данных-2.5\"><span class=\"toc-item-num\">2.5&nbsp;&nbsp;</span>Категоризация данных</a></span></li></ul></li><li><span><a href=\"#Исследование-данных\" data-toc-modified-id=\"Исследование-данных-3\"><span class=\"toc-item-num\">3&nbsp;&nbsp;</span>Исследование данных</a></span></li><li><span><a href=\"#Вывод\" data-toc-modified-id=\"Вывод-4\"><span class=\"toc-item-num\">4&nbsp;&nbsp;</span>Вывод</a></span></li></ul></div>"
   ]
  },
  {
   "cell_type": "markdown",
   "id": "8d541790",
   "metadata": {},
   "source": [
    "# Исследование надежности заемщиков\n"
   ]
  },
  {
   "cell_type": "markdown",
   "id": "8fc9ef7d",
   "metadata": {},
   "source": [
    "Заказчик — кредитный отдел банка. Нужно разобраться, влияет ли семейное положение и количество детей клиента на факт погашения кредита в срок. Входные данные от банка — статистика о платёжеспособности клиентов.\n",
    "\n",
    "Результаты исследования будут учтены при построении модели кредитного скоринга — специальной системы, которая оценивает способность потенциального заёмщика вернуть кредит банку."
   ]
  },
  {
   "cell_type": "markdown",
   "id": "7f44d075",
   "metadata": {},
   "source": [
    "## Ознакомление с данными"
   ]
  },
  {
   "cell_type": "code",
   "execution_count": 1,
   "id": "74338ef8",
   "metadata": {},
   "outputs": [],
   "source": [
    "import pandas as pd\n",
    "import warnings\n",
    "warnings.filterwarnings('ignore')"
   ]
  },
  {
   "cell_type": "code",
   "execution_count": 2,
   "id": "7012e6ae",
   "metadata": {},
   "outputs": [],
   "source": [
    "data = pd.read_csv('/datasets/data.csv')"
   ]
  },
  {
   "cell_type": "code",
   "execution_count": 3,
   "id": "11b2bd68",
   "metadata": {},
   "outputs": [
    {
     "data": {
      "text/html": [
       "<div>\n",
       "<style scoped>\n",
       "    .dataframe tbody tr th:only-of-type {\n",
       "        vertical-align: middle;\n",
       "    }\n",
       "\n",
       "    .dataframe tbody tr th {\n",
       "        vertical-align: top;\n",
       "    }\n",
       "\n",
       "    .dataframe thead th {\n",
       "        text-align: right;\n",
       "    }\n",
       "</style>\n",
       "<table border=\"1\" class=\"dataframe\">\n",
       "  <thead>\n",
       "    <tr style=\"text-align: right;\">\n",
       "      <th></th>\n",
       "      <th>children</th>\n",
       "      <th>days_employed</th>\n",
       "      <th>dob_years</th>\n",
       "      <th>education</th>\n",
       "      <th>education_id</th>\n",
       "      <th>family_status</th>\n",
       "      <th>family_status_id</th>\n",
       "      <th>gender</th>\n",
       "      <th>income_type</th>\n",
       "      <th>debt</th>\n",
       "      <th>total_income</th>\n",
       "      <th>purpose</th>\n",
       "    </tr>\n",
       "  </thead>\n",
       "  <tbody>\n",
       "    <tr>\n",
       "      <th>0</th>\n",
       "      <td>1</td>\n",
       "      <td>-8437.673028</td>\n",
       "      <td>42</td>\n",
       "      <td>высшее</td>\n",
       "      <td>0</td>\n",
       "      <td>женат / замужем</td>\n",
       "      <td>0</td>\n",
       "      <td>F</td>\n",
       "      <td>сотрудник</td>\n",
       "      <td>0</td>\n",
       "      <td>253875.639453</td>\n",
       "      <td>покупка жилья</td>\n",
       "    </tr>\n",
       "    <tr>\n",
       "      <th>1</th>\n",
       "      <td>1</td>\n",
       "      <td>-4024.803754</td>\n",
       "      <td>36</td>\n",
       "      <td>среднее</td>\n",
       "      <td>1</td>\n",
       "      <td>женат / замужем</td>\n",
       "      <td>0</td>\n",
       "      <td>F</td>\n",
       "      <td>сотрудник</td>\n",
       "      <td>0</td>\n",
       "      <td>112080.014102</td>\n",
       "      <td>приобретение автомобиля</td>\n",
       "    </tr>\n",
       "    <tr>\n",
       "      <th>2</th>\n",
       "      <td>0</td>\n",
       "      <td>-5623.422610</td>\n",
       "      <td>33</td>\n",
       "      <td>Среднее</td>\n",
       "      <td>1</td>\n",
       "      <td>женат / замужем</td>\n",
       "      <td>0</td>\n",
       "      <td>M</td>\n",
       "      <td>сотрудник</td>\n",
       "      <td>0</td>\n",
       "      <td>145885.952297</td>\n",
       "      <td>покупка жилья</td>\n",
       "    </tr>\n",
       "    <tr>\n",
       "      <th>3</th>\n",
       "      <td>3</td>\n",
       "      <td>-4124.747207</td>\n",
       "      <td>32</td>\n",
       "      <td>среднее</td>\n",
       "      <td>1</td>\n",
       "      <td>женат / замужем</td>\n",
       "      <td>0</td>\n",
       "      <td>M</td>\n",
       "      <td>сотрудник</td>\n",
       "      <td>0</td>\n",
       "      <td>267628.550329</td>\n",
       "      <td>дополнительное образование</td>\n",
       "    </tr>\n",
       "    <tr>\n",
       "      <th>4</th>\n",
       "      <td>0</td>\n",
       "      <td>340266.072047</td>\n",
       "      <td>53</td>\n",
       "      <td>среднее</td>\n",
       "      <td>1</td>\n",
       "      <td>гражданский брак</td>\n",
       "      <td>1</td>\n",
       "      <td>F</td>\n",
       "      <td>пенсионер</td>\n",
       "      <td>0</td>\n",
       "      <td>158616.077870</td>\n",
       "      <td>сыграть свадьбу</td>\n",
       "    </tr>\n",
       "    <tr>\n",
       "      <th>5</th>\n",
       "      <td>0</td>\n",
       "      <td>-926.185831</td>\n",
       "      <td>27</td>\n",
       "      <td>высшее</td>\n",
       "      <td>0</td>\n",
       "      <td>гражданский брак</td>\n",
       "      <td>1</td>\n",
       "      <td>M</td>\n",
       "      <td>компаньон</td>\n",
       "      <td>0</td>\n",
       "      <td>255763.565419</td>\n",
       "      <td>покупка жилья</td>\n",
       "    </tr>\n",
       "    <tr>\n",
       "      <th>6</th>\n",
       "      <td>0</td>\n",
       "      <td>-2879.202052</td>\n",
       "      <td>43</td>\n",
       "      <td>высшее</td>\n",
       "      <td>0</td>\n",
       "      <td>женат / замужем</td>\n",
       "      <td>0</td>\n",
       "      <td>F</td>\n",
       "      <td>компаньон</td>\n",
       "      <td>0</td>\n",
       "      <td>240525.971920</td>\n",
       "      <td>операции с жильем</td>\n",
       "    </tr>\n",
       "    <tr>\n",
       "      <th>7</th>\n",
       "      <td>0</td>\n",
       "      <td>-152.779569</td>\n",
       "      <td>50</td>\n",
       "      <td>СРЕДНЕЕ</td>\n",
       "      <td>1</td>\n",
       "      <td>женат / замужем</td>\n",
       "      <td>0</td>\n",
       "      <td>M</td>\n",
       "      <td>сотрудник</td>\n",
       "      <td>0</td>\n",
       "      <td>135823.934197</td>\n",
       "      <td>образование</td>\n",
       "    </tr>\n",
       "    <tr>\n",
       "      <th>8</th>\n",
       "      <td>2</td>\n",
       "      <td>-6929.865299</td>\n",
       "      <td>35</td>\n",
       "      <td>ВЫСШЕЕ</td>\n",
       "      <td>0</td>\n",
       "      <td>гражданский брак</td>\n",
       "      <td>1</td>\n",
       "      <td>F</td>\n",
       "      <td>сотрудник</td>\n",
       "      <td>0</td>\n",
       "      <td>95856.832424</td>\n",
       "      <td>на проведение свадьбы</td>\n",
       "    </tr>\n",
       "    <tr>\n",
       "      <th>9</th>\n",
       "      <td>0</td>\n",
       "      <td>-2188.756445</td>\n",
       "      <td>41</td>\n",
       "      <td>среднее</td>\n",
       "      <td>1</td>\n",
       "      <td>женат / замужем</td>\n",
       "      <td>0</td>\n",
       "      <td>M</td>\n",
       "      <td>сотрудник</td>\n",
       "      <td>0</td>\n",
       "      <td>144425.938277</td>\n",
       "      <td>покупка жилья для семьи</td>\n",
       "    </tr>\n",
       "  </tbody>\n",
       "</table>\n",
       "</div>"
      ],
      "text/plain": [
       "   children  days_employed  dob_years education  education_id  \\\n",
       "0         1   -8437.673028         42    высшее             0   \n",
       "1         1   -4024.803754         36   среднее             1   \n",
       "2         0   -5623.422610         33   Среднее             1   \n",
       "3         3   -4124.747207         32   среднее             1   \n",
       "4         0  340266.072047         53   среднее             1   \n",
       "5         0    -926.185831         27    высшее             0   \n",
       "6         0   -2879.202052         43    высшее             0   \n",
       "7         0    -152.779569         50   СРЕДНЕЕ             1   \n",
       "8         2   -6929.865299         35    ВЫСШЕЕ             0   \n",
       "9         0   -2188.756445         41   среднее             1   \n",
       "\n",
       "      family_status  family_status_id gender income_type  debt   total_income  \\\n",
       "0   женат / замужем                 0      F   сотрудник     0  253875.639453   \n",
       "1   женат / замужем                 0      F   сотрудник     0  112080.014102   \n",
       "2   женат / замужем                 0      M   сотрудник     0  145885.952297   \n",
       "3   женат / замужем                 0      M   сотрудник     0  267628.550329   \n",
       "4  гражданский брак                 1      F   пенсионер     0  158616.077870   \n",
       "5  гражданский брак                 1      M   компаньон     0  255763.565419   \n",
       "6   женат / замужем                 0      F   компаньон     0  240525.971920   \n",
       "7   женат / замужем                 0      M   сотрудник     0  135823.934197   \n",
       "8  гражданский брак                 1      F   сотрудник     0   95856.832424   \n",
       "9   женат / замужем                 0      M   сотрудник     0  144425.938277   \n",
       "\n",
       "                      purpose  \n",
       "0               покупка жилья  \n",
       "1     приобретение автомобиля  \n",
       "2               покупка жилья  \n",
       "3  дополнительное образование  \n",
       "4             сыграть свадьбу  \n",
       "5               покупка жилья  \n",
       "6           операции с жильем  \n",
       "7                 образование  \n",
       "8       на проведение свадьбы  \n",
       "9     покупка жилья для семьи  "
      ]
     },
     "execution_count": 3,
     "metadata": {},
     "output_type": "execute_result"
    }
   ],
   "source": [
    "data.head(10)"
   ]
  },
  {
   "cell_type": "code",
   "execution_count": 4,
   "id": "281ded79",
   "metadata": {},
   "outputs": [
    {
     "name": "stdout",
     "output_type": "stream",
     "text": [
      "<class 'pandas.core.frame.DataFrame'>\n",
      "RangeIndex: 21525 entries, 0 to 21524\n",
      "Data columns (total 12 columns):\n",
      " #   Column            Non-Null Count  Dtype  \n",
      "---  ------            --------------  -----  \n",
      " 0   children          21525 non-null  int64  \n",
      " 1   days_employed     19351 non-null  float64\n",
      " 2   dob_years         21525 non-null  int64  \n",
      " 3   education         21525 non-null  object \n",
      " 4   education_id      21525 non-null  int64  \n",
      " 5   family_status     21525 non-null  object \n",
      " 6   family_status_id  21525 non-null  int64  \n",
      " 7   gender            21525 non-null  object \n",
      " 8   income_type       21525 non-null  object \n",
      " 9   debt              21525 non-null  int64  \n",
      " 10  total_income      19351 non-null  float64\n",
      " 11  purpose           21525 non-null  object \n",
      "dtypes: float64(2), int64(5), object(5)\n",
      "memory usage: 2.0+ MB\n"
     ]
    }
   ],
   "source": [
    "data.info()"
   ]
  },
  {
   "cell_type": "markdown",
   "id": "0bef2e7d",
   "metadata": {},
   "source": [
    "## Предобработка данных"
   ]
  },
  {
   "cell_type": "markdown",
   "id": "649848ce",
   "metadata": {},
   "source": [
    "### Удаление пропусков"
   ]
  },
  {
   "cell_type": "code",
   "execution_count": 5,
   "id": "bd69fdaf",
   "metadata": {},
   "outputs": [
    {
     "data": {
      "text/plain": [
       "children               0\n",
       "days_employed       2174\n",
       "dob_years              0\n",
       "education              0\n",
       "education_id           0\n",
       "family_status          0\n",
       "family_status_id       0\n",
       "gender                 0\n",
       "income_type            0\n",
       "debt                   0\n",
       "total_income        2174\n",
       "purpose                0\n",
       "dtype: int64"
      ]
     },
     "execution_count": 5,
     "metadata": {},
     "output_type": "execute_result"
    }
   ],
   "source": [
    "data.isna().sum()"
   ]
  },
  {
   "cell_type": "markdown",
   "id": "e8f5698e",
   "metadata": {},
   "source": [
    "В столбцах days_employed и total_income есть пропущенные значения.\\\n",
    "total_income — хранит данные о доходах. На сумму дохода сильнее всего влияет тип занятости, поэтому заполню пропуски в этом столбце медианным значением по каждому типу из столбца income_type."
   ]
  },
  {
   "cell_type": "code",
   "execution_count": 6,
   "id": "7e2904d1",
   "metadata": {},
   "outputs": [],
   "source": [
    "for t in data['income_type'].unique():\n",
    "    data.loc[(data['income_type'] == t) & (data['total_income'].isna()), 'total_income'] = \\\n",
    "    data.loc[(data['income_type'] == t), 'total_income'].median()"
   ]
  },
  {
   "cell_type": "markdown",
   "id": "b6d5b32a",
   "metadata": {},
   "source": [
    "### Обработка аномальных значений"
   ]
  },
  {
   "cell_type": "code",
   "execution_count": 7,
   "id": "624e9c1d",
   "metadata": {},
   "outputs": [
    {
     "data": {
      "text/plain": [
       "array([-8437.67302776, -4024.80375385, -5623.42261023, ...,\n",
       "       -2113.3468877 , -3112.4817052 , -1984.50758853])"
      ]
     },
     "execution_count": 7,
     "metadata": {},
     "output_type": "execute_result"
    }
   ],
   "source": [
    "data['days_employed'].unique()"
   ]
  },
  {
   "cell_type": "markdown",
   "id": "d2666353",
   "metadata": {},
   "source": [
    "Отрицательное количество дней трудового стажа является аномальным, вероятно возникла ошибка при выгрузке данных."
   ]
  },
  {
   "cell_type": "code",
   "execution_count": 8,
   "id": "9901fbd1",
   "metadata": {},
   "outputs": [],
   "source": [
    "data['days_employed'] = data['days_employed'].abs()"
   ]
  },
  {
   "cell_type": "code",
   "execution_count": 9,
   "id": "d5ea6c9a",
   "metadata": {
    "deletable": false,
    "id": "85a5faf6",
    "outputId": "801ef80e-522b-4668-f34e-565af7432bcf",
    "scrolled": true
   },
   "outputs": [
    {
     "data": {
      "text/plain": [
       "income_type\n",
       "безработный        366413.652744\n",
       "в декрете            3296.759962\n",
       "госслужащий          2689.368353\n",
       "компаньон            1547.382223\n",
       "пенсионер          365213.306266\n",
       "предприниматель       520.848083\n",
       "сотрудник            1574.202821\n",
       "студент               578.751554\n",
       "Name: days_employed, dtype: float64"
      ]
     },
     "execution_count": 9,
     "metadata": {},
     "output_type": "execute_result"
    }
   ],
   "source": [
    "data.groupby('income_type')['days_employed'].agg('median')"
   ]
  },
  {
   "cell_type": "markdown",
   "id": "140e463b",
   "metadata": {
    "deletable": false,
    "editable": false,
    "id": "38d1a030"
   },
   "source": [
    "У двух типов (безработные и пенсионеры) получатся аномально большие значения. Исправить такие значения сложно, поэтому оставьте их как есть. Тем более этот столбец не понадобится вам для исследования."
   ]
  },
  {
   "cell_type": "code",
   "execution_count": 10,
   "id": "2376426c",
   "metadata": {},
   "outputs": [
    {
     "data": {
      "text/plain": [
       "array([ 1,  0,  3,  2, -1,  4, 20,  5], dtype=int64)"
      ]
     },
     "execution_count": 10,
     "metadata": {},
     "output_type": "execute_result"
    }
   ],
   "source": [
    "data['children'].unique()"
   ]
  },
  {
   "cell_type": "markdown",
   "id": "b2229037",
   "metadata": {},
   "source": [
    "В столбце children есть два аномальных значения"
   ]
  },
  {
   "cell_type": "code",
   "execution_count": 11,
   "id": "44b406e5",
   "metadata": {},
   "outputs": [],
   "source": [
    "data = data[(data['children'] != -1) & (data['children'] != 20)]"
   ]
  },
  {
   "cell_type": "code",
   "execution_count": 12,
   "id": "f550e587",
   "metadata": {},
   "outputs": [
    {
     "data": {
      "text/plain": [
       "array([1, 0, 3, 2, 4, 5], dtype=int64)"
      ]
     },
     "execution_count": 12,
     "metadata": {},
     "output_type": "execute_result"
    }
   ],
   "source": [
    "data['children'].unique()"
   ]
  },
  {
   "cell_type": "markdown",
   "id": "ff271789",
   "metadata": {},
   "source": [
    "Пропуски в столбце `days_employed` заполню медианными значениями по каждого типа занятости `income_type`"
   ]
  },
  {
   "cell_type": "code",
   "execution_count": 13,
   "id": "d5826bff",
   "metadata": {},
   "outputs": [],
   "source": [
    "for t in data['income_type'].unique():\n",
    "    data.loc[(data['income_type'] == t) & (data['days_employed'].isna()), 'days_employed'] = \\\n",
    "    data.loc[(data['income_type'] == t), 'days_employed'].median()"
   ]
  },
  {
   "cell_type": "code",
   "execution_count": 14,
   "id": "dcad8258",
   "metadata": {},
   "outputs": [
    {
     "data": {
      "text/plain": [
       "children            0\n",
       "days_employed       0\n",
       "dob_years           0\n",
       "education           0\n",
       "education_id        0\n",
       "family_status       0\n",
       "family_status_id    0\n",
       "gender              0\n",
       "income_type         0\n",
       "debt                0\n",
       "total_income        0\n",
       "purpose             0\n",
       "dtype: int64"
      ]
     },
     "execution_count": 14,
     "metadata": {},
     "output_type": "execute_result"
    }
   ],
   "source": [
    "data.isna().sum()"
   ]
  },
  {
   "cell_type": "markdown",
   "id": "2091d3dd",
   "metadata": {},
   "source": [
    "### Изменение типов данных"
   ]
  },
  {
   "cell_type": "code",
   "execution_count": 15,
   "id": "0d005c4e",
   "metadata": {
    "scrolled": true
   },
   "outputs": [],
   "source": [
    "data['total_income'] = data['total_income'].astype(int)"
   ]
  },
  {
   "cell_type": "markdown",
   "id": "4ddc3582",
   "metadata": {},
   "source": [
    "### Обработка дубликатов"
   ]
  },
  {
   "cell_type": "code",
   "execution_count": 16,
   "id": "8163a3d2",
   "metadata": {},
   "outputs": [
    {
     "data": {
      "text/plain": [
       "array(['высшее', 'среднее', 'Среднее', 'СРЕДНЕЕ', 'ВЫСШЕЕ',\n",
       "       'неоконченное высшее', 'начальное', 'Высшее',\n",
       "       'НЕОКОНЧЕННОЕ ВЫСШЕЕ', 'Неоконченное высшее', 'НАЧАЛЬНОЕ',\n",
       "       'Начальное', 'Ученая степень', 'УЧЕНАЯ СТЕПЕНЬ', 'ученая степень'],\n",
       "      dtype=object)"
      ]
     },
     "execution_count": 16,
     "metadata": {},
     "output_type": "execute_result"
    }
   ],
   "source": [
    "data['education'].unique()"
   ]
  },
  {
   "cell_type": "code",
   "execution_count": 17,
   "id": "a04f2cc1",
   "metadata": {},
   "outputs": [],
   "source": [
    "data['education'] = data['education'].str.lower() #приведем все к нижнему регистру"
   ]
  },
  {
   "cell_type": "code",
   "execution_count": 18,
   "id": "c9fed411",
   "metadata": {},
   "outputs": [
    {
     "data": {
      "text/plain": [
       "71"
      ]
     },
     "execution_count": 18,
     "metadata": {},
     "output_type": "execute_result"
    }
   ],
   "source": [
    "data.duplicated().sum()"
   ]
  },
  {
   "cell_type": "code",
   "execution_count": 19,
   "id": "05916109",
   "metadata": {},
   "outputs": [],
   "source": [
    "data = data.drop_duplicates()"
   ]
  },
  {
   "cell_type": "markdown",
   "id": "72f89098",
   "metadata": {},
   "source": [
    "### Категоризация данных"
   ]
  },
  {
   "cell_type": "markdown",
   "id": "008650ab",
   "metadata": {},
   "source": [
    "Создадим в датафрейме `data` столбец `total_income_category` с категориями:**\n",
    "\n",
    "- 0–30000 — `'E'`;\n",
    "- 30001–50000 — `'D'`;\n",
    "- 50001–200000 — `'C'`;\n",
    "- 200001–1000000 — `'B'`;\n",
    "- 1000001 и выше — `'A'`.\n"
   ]
  },
  {
   "cell_type": "code",
   "execution_count": 20,
   "id": "36bdb146",
   "metadata": {},
   "outputs": [],
   "source": [
    "def categorize_income(income):\n",
    "    try:\n",
    "        if 0 <= income <= 30000:\n",
    "            return 'E'\n",
    "        elif 30001 <= income <= 50000:\n",
    "            return 'D'\n",
    "        elif 50001 <= income <= 200000:\n",
    "            return 'C'\n",
    "        elif 200001 <= income <= 1000000:\n",
    "            return 'B'\n",
    "        elif income >= 1000001:\n",
    "            return 'A'\n",
    "    except:\n",
    "        pass"
   ]
  },
  {
   "cell_type": "code",
   "execution_count": 21,
   "id": "03e5a161",
   "metadata": {},
   "outputs": [],
   "source": [
    "data['total_income_category'] = data['total_income'].apply(categorize_income)"
   ]
  },
  {
   "cell_type": "code",
   "execution_count": 22,
   "id": "e9bc0cdb",
   "metadata": {},
   "outputs": [
    {
     "data": {
      "text/plain": [
       "array(['покупка жилья', 'приобретение автомобиля',\n",
       "       'дополнительное образование', 'сыграть свадьбу',\n",
       "       'операции с жильем', 'образование', 'на проведение свадьбы',\n",
       "       'покупка жилья для семьи', 'покупка недвижимости',\n",
       "       'покупка коммерческой недвижимости', 'покупка жилой недвижимости',\n",
       "       'строительство собственной недвижимости', 'недвижимость',\n",
       "       'строительство недвижимости', 'на покупку подержанного автомобиля',\n",
       "       'на покупку своего автомобиля',\n",
       "       'операции с коммерческой недвижимостью',\n",
       "       'строительство жилой недвижимости', 'жилье',\n",
       "       'операции со своей недвижимостью', 'автомобили',\n",
       "       'заняться образованием', 'сделка с подержанным автомобилем',\n",
       "       'получение образования', 'автомобиль', 'свадьба',\n",
       "       'получение дополнительного образования', 'покупка своего жилья',\n",
       "       'операции с недвижимостью', 'получение высшего образования',\n",
       "       'свой автомобиль', 'сделка с автомобилем',\n",
       "       'профильное образование', 'высшее образование',\n",
       "       'покупка жилья для сдачи', 'на покупку автомобиля', 'ремонт жилью',\n",
       "       'заняться высшим образованием'], dtype=object)"
      ]
     },
     "execution_count": 22,
     "metadata": {},
     "output_type": "execute_result"
    }
   ],
   "source": [
    "data['purpose'].unique()"
   ]
  },
  {
   "cell_type": "markdown",
   "id": "d23c71a0",
   "metadata": {},
   "source": [
    "На основании данных из столбца `purpose` сформируем новый столбец `purpose_category`, в который войдут следующие категории:\n",
    "\n",
    "- `'операции с автомобилем'`,\n",
    "- `'операции с недвижимостью'`,\n",
    "- `'проведение свадьбы'`,\n",
    "- `'получение образования'`."
   ]
  },
  {
   "cell_type": "code",
   "execution_count": 23,
   "id": "c91b4ce4",
   "metadata": {},
   "outputs": [],
   "source": [
    "def categorize_purpose(row):\n",
    "    try:\n",
    "        if 'автом' in row:\n",
    "            return 'операции с автомобилем'\n",
    "        elif 'жил' in row or 'недвиж' in row:\n",
    "            return 'операции с недвижимостью'\n",
    "        elif 'свад' in row:\n",
    "            return 'проведение свадьбы'\n",
    "        elif 'образов' in row:\n",
    "            return 'получение образования'\n",
    "    except:\n",
    "        return 'нет категории'"
   ]
  },
  {
   "cell_type": "code",
   "execution_count": 24,
   "id": "e436312b",
   "metadata": {},
   "outputs": [],
   "source": [
    "data['purpose_category'] = data['purpose'].apply(categorize_purpose)"
   ]
  },
  {
   "cell_type": "markdown",
   "id": "9d4c0138",
   "metadata": {},
   "source": [
    "## Исследование данных"
   ]
  },
  {
   "cell_type": "code",
   "execution_count": 25,
   "id": "d27c645d",
   "metadata": {},
   "outputs": [
    {
     "data": {
      "text/html": [
       "<div>\n",
       "<style scoped>\n",
       "    .dataframe tbody tr th:only-of-type {\n",
       "        vertical-align: middle;\n",
       "    }\n",
       "\n",
       "    .dataframe tbody tr th {\n",
       "        vertical-align: top;\n",
       "    }\n",
       "\n",
       "    .dataframe thead th {\n",
       "        text-align: right;\n",
       "    }\n",
       "</style>\n",
       "<table border=\"1\" class=\"dataframe\">\n",
       "  <thead>\n",
       "    <tr style=\"text-align: right;\">\n",
       "      <th></th>\n",
       "      <th>Кол-во клиентов</th>\n",
       "      <th>Кол-во должников</th>\n",
       "      <th>Доля невозврата</th>\n",
       "    </tr>\n",
       "    <tr>\n",
       "      <th>children</th>\n",
       "      <th></th>\n",
       "      <th></th>\n",
       "      <th></th>\n",
       "    </tr>\n",
       "  </thead>\n",
       "  <tbody>\n",
       "    <tr>\n",
       "      <th>5</th>\n",
       "      <td>0</td>\n",
       "      <td>9</td>\n",
       "      <td>0.000000</td>\n",
       "    </tr>\n",
       "    <tr>\n",
       "      <th>0</th>\n",
       "      <td>1063</td>\n",
       "      <td>14091</td>\n",
       "      <td>0.075438</td>\n",
       "    </tr>\n",
       "    <tr>\n",
       "      <th>3</th>\n",
       "      <td>27</td>\n",
       "      <td>330</td>\n",
       "      <td>0.081818</td>\n",
       "    </tr>\n",
       "    <tr>\n",
       "      <th>1</th>\n",
       "      <td>444</td>\n",
       "      <td>4808</td>\n",
       "      <td>0.092346</td>\n",
       "    </tr>\n",
       "    <tr>\n",
       "      <th>2</th>\n",
       "      <td>194</td>\n",
       "      <td>2052</td>\n",
       "      <td>0.094542</td>\n",
       "    </tr>\n",
       "    <tr>\n",
       "      <th>4</th>\n",
       "      <td>4</td>\n",
       "      <td>41</td>\n",
       "      <td>0.097561</td>\n",
       "    </tr>\n",
       "  </tbody>\n",
       "</table>\n",
       "</div>"
      ],
      "text/plain": [
       "          Кол-во клиентов  Кол-во должников  Доля невозврата\n",
       "children                                                    \n",
       "5                       0                 9         0.000000\n",
       "0                    1063             14091         0.075438\n",
       "3                      27               330         0.081818\n",
       "1                     444              4808         0.092346\n",
       "2                     194              2052         0.094542\n",
       "4                       4                41         0.097561"
      ]
     },
     "metadata": {},
     "output_type": "display_data"
    }
   ],
   "source": [
    "def data_pivot (column):\n",
    "    pivot = data.pivot_table(index=column,values='debt',aggfunc=['sum' ,'count','mean'])\n",
    "    pivot.columns = ['Кол-во клиентов', 'Кол-во должников', 'Доля невозврата']\n",
    "\n",
    "    return pivot.sort_values('Доля невозврата')\n",
    "  \n",
    "data_pivot_children = data_pivot('children')\n",
    "\n",
    "\n",
    "\n",
    "\n",
    "display(data_pivot_children)"
   ]
  },
  {
   "cell_type": "markdown",
   "id": "ee3e1b7c",
   "metadata": {},
   "source": [
    "**Вывод:**   по данным видно,что наличие детей отрицательно сказывается на возврат кредита в срок. Самыми надежными заемщиками являются те, кто не имеет детей.Среди них доля должников составляет 7.54%. Самый большой процент не возврата кредита в срок у заемщиков с 4 детьми,составляет 9,76%.Общее количество заемщиков с 5 детьми слишком мало,чтобы влиять на результат."
   ]
  },
  {
   "cell_type": "code",
   "execution_count": 26,
   "id": "28e2f12b",
   "metadata": {},
   "outputs": [
    {
     "data": {
      "text/html": [
       "<div>\n",
       "<style scoped>\n",
       "    .dataframe tbody tr th:only-of-type {\n",
       "        vertical-align: middle;\n",
       "    }\n",
       "\n",
       "    .dataframe tbody tr th {\n",
       "        vertical-align: top;\n",
       "    }\n",
       "\n",
       "    .dataframe thead th {\n",
       "        text-align: right;\n",
       "    }\n",
       "</style>\n",
       "<table border=\"1\" class=\"dataframe\">\n",
       "  <thead>\n",
       "    <tr style=\"text-align: right;\">\n",
       "      <th></th>\n",
       "      <th>Кол-во клиентов</th>\n",
       "      <th>Кол-во должников</th>\n",
       "      <th>Доля невозврата</th>\n",
       "    </tr>\n",
       "    <tr>\n",
       "      <th>family_status</th>\n",
       "      <th></th>\n",
       "      <th></th>\n",
       "      <th></th>\n",
       "    </tr>\n",
       "  </thead>\n",
       "  <tbody>\n",
       "    <tr>\n",
       "      <th>вдовец / вдова</th>\n",
       "      <td>63</td>\n",
       "      <td>951</td>\n",
       "      <td>0.066246</td>\n",
       "    </tr>\n",
       "    <tr>\n",
       "      <th>в разводе</th>\n",
       "      <td>84</td>\n",
       "      <td>1189</td>\n",
       "      <td>0.070648</td>\n",
       "    </tr>\n",
       "    <tr>\n",
       "      <th>женат / замужем</th>\n",
       "      <td>927</td>\n",
       "      <td>12261</td>\n",
       "      <td>0.075606</td>\n",
       "    </tr>\n",
       "    <tr>\n",
       "      <th>гражданский брак</th>\n",
       "      <td>385</td>\n",
       "      <td>4134</td>\n",
       "      <td>0.093130</td>\n",
       "    </tr>\n",
       "    <tr>\n",
       "      <th>Не женат / не замужем</th>\n",
       "      <td>273</td>\n",
       "      <td>2796</td>\n",
       "      <td>0.097639</td>\n",
       "    </tr>\n",
       "  </tbody>\n",
       "</table>\n",
       "</div>"
      ],
      "text/plain": [
       "                       Кол-во клиентов  Кол-во должников  Доля невозврата\n",
       "family_status                                                            \n",
       "вдовец / вдова                      63               951         0.066246\n",
       "в разводе                           84              1189         0.070648\n",
       "женат / замужем                    927             12261         0.075606\n",
       "гражданский брак                   385              4134         0.093130\n",
       "Не женат / не замужем              273              2796         0.097639"
      ]
     },
     "metadata": {},
     "output_type": "display_data"
    }
   ],
   "source": [
    "data_family_status = data_pivot('family_status')\n",
    "display(data_family_status)"
   ]
  },
  {
   "cell_type": "markdown",
   "id": "c914b1e3",
   "metadata": {},
   "source": [
    "**Вывод:** самыми добросовестными заемщиками являются **вдовцы/вдовы** , среди них процент задолженностей составляет 6,62%. А заемщики,чей статус **не женат / не замужем** , чаще остальных не возвращают кредит в срок.Однако самая крупная категория заемщиков  **женат / замужем** и доля должнико среди них 7,56%."
   ]
  },
  {
   "cell_type": "code",
   "execution_count": 27,
   "id": "c5d06d39",
   "metadata": {},
   "outputs": [
    {
     "data": {
      "text/html": [
       "<div>\n",
       "<style scoped>\n",
       "    .dataframe tbody tr th:only-of-type {\n",
       "        vertical-align: middle;\n",
       "    }\n",
       "\n",
       "    .dataframe tbody tr th {\n",
       "        vertical-align: top;\n",
       "    }\n",
       "\n",
       "    .dataframe thead th {\n",
       "        text-align: right;\n",
       "    }\n",
       "</style>\n",
       "<table border=\"1\" class=\"dataframe\">\n",
       "  <thead>\n",
       "    <tr style=\"text-align: right;\">\n",
       "      <th></th>\n",
       "      <th>Кол-во клиентов</th>\n",
       "      <th>Кол-во должников</th>\n",
       "      <th>Доля невозврата</th>\n",
       "    </tr>\n",
       "    <tr>\n",
       "      <th>total_income_category</th>\n",
       "      <th></th>\n",
       "      <th></th>\n",
       "      <th></th>\n",
       "    </tr>\n",
       "  </thead>\n",
       "  <tbody>\n",
       "    <tr>\n",
       "      <th>D</th>\n",
       "      <td>21</td>\n",
       "      <td>349</td>\n",
       "      <td>0.060172</td>\n",
       "    </tr>\n",
       "    <tr>\n",
       "      <th>B</th>\n",
       "      <td>354</td>\n",
       "      <td>5014</td>\n",
       "      <td>0.070602</td>\n",
       "    </tr>\n",
       "    <tr>\n",
       "      <th>A</th>\n",
       "      <td>2</td>\n",
       "      <td>25</td>\n",
       "      <td>0.080000</td>\n",
       "    </tr>\n",
       "    <tr>\n",
       "      <th>C</th>\n",
       "      <td>1353</td>\n",
       "      <td>15921</td>\n",
       "      <td>0.084982</td>\n",
       "    </tr>\n",
       "    <tr>\n",
       "      <th>E</th>\n",
       "      <td>2</td>\n",
       "      <td>22</td>\n",
       "      <td>0.090909</td>\n",
       "    </tr>\n",
       "  </tbody>\n",
       "</table>\n",
       "</div>"
      ],
      "text/plain": [
       "                       Кол-во клиентов  Кол-во должников  Доля невозврата\n",
       "total_income_category                                                    \n",
       "D                                   21               349         0.060172\n",
       "B                                  354              5014         0.070602\n",
       "A                                    2                25         0.080000\n",
       "C                                 1353             15921         0.084982\n",
       "E                                    2                22         0.090909"
      ]
     },
     "metadata": {},
     "output_type": "display_data"
    }
   ],
   "source": [
    "data_total_income_category = data_pivot('total_income_category')\n",
    "display(data_total_income_category)"
   ]
  },
  {
   "cell_type": "markdown",
   "id": "a7500e23",
   "metadata": {},
   "source": [
    "**Вывод:** итого самый низкий процент должников в категории **с доходом 30001–50000**, но их общее количество недостаточно для влияния на результат.Самой крупной категорией являются заемщики с доходом **50001–200000**  , однако среди них и высокий процент должников 8,5%. **Надежными** в данном случае являются заемщики с доходом **200001–1000000** среди них должников 7,06%."
   ]
  },
  {
   "cell_type": "code",
   "execution_count": 28,
   "id": "a04a4f6e",
   "metadata": {},
   "outputs": [
    {
     "data": {
      "text/html": [
       "<div>\n",
       "<style scoped>\n",
       "    .dataframe tbody tr th:only-of-type {\n",
       "        vertical-align: middle;\n",
       "    }\n",
       "\n",
       "    .dataframe tbody tr th {\n",
       "        vertical-align: top;\n",
       "    }\n",
       "\n",
       "    .dataframe thead th {\n",
       "        text-align: right;\n",
       "    }\n",
       "</style>\n",
       "<table border=\"1\" class=\"dataframe\">\n",
       "  <thead>\n",
       "    <tr style=\"text-align: right;\">\n",
       "      <th></th>\n",
       "      <th>Кол-во клиентов</th>\n",
       "      <th>Кол-во должников</th>\n",
       "      <th>Доля невозврата</th>\n",
       "    </tr>\n",
       "    <tr>\n",
       "      <th>purpose_category</th>\n",
       "      <th></th>\n",
       "      <th></th>\n",
       "      <th></th>\n",
       "    </tr>\n",
       "  </thead>\n",
       "  <tbody>\n",
       "    <tr>\n",
       "      <th>операции с недвижимостью</th>\n",
       "      <td>780</td>\n",
       "      <td>10751</td>\n",
       "      <td>0.072551</td>\n",
       "    </tr>\n",
       "    <tr>\n",
       "      <th>проведение свадьбы</th>\n",
       "      <td>183</td>\n",
       "      <td>2313</td>\n",
       "      <td>0.079118</td>\n",
       "    </tr>\n",
       "    <tr>\n",
       "      <th>получение образования</th>\n",
       "      <td>369</td>\n",
       "      <td>3988</td>\n",
       "      <td>0.092528</td>\n",
       "    </tr>\n",
       "    <tr>\n",
       "      <th>операции с автомобилем</th>\n",
       "      <td>400</td>\n",
       "      <td>4279</td>\n",
       "      <td>0.093480</td>\n",
       "    </tr>\n",
       "  </tbody>\n",
       "</table>\n",
       "</div>"
      ],
      "text/plain": [
       "                          Кол-во клиентов  Кол-во должников  Доля невозврата\n",
       "purpose_category                                                            \n",
       "операции с недвижимостью              780             10751         0.072551\n",
       "проведение свадьбы                    183              2313         0.079118\n",
       "получение образования                 369              3988         0.092528\n",
       "операции с автомобилем                400              4279         0.093480"
      ]
     },
     "metadata": {},
     "output_type": "display_data"
    }
   ],
   "source": [
    "data_purpose_category = data_pivot('purpose_category')\n",
    "display(data_purpose_category)"
   ]
  },
  {
   "cell_type": "markdown",
   "id": "12dd58fa",
   "metadata": {},
   "source": [
    "**Вывод:** заемщики,чьей целью являются операции с недвижимостью, чаще остальных гасят кредит в срок, в отличии от заемщиков,берущих кредит на автомобиль."
   ]
  },
  {
   "cell_type": "markdown",
   "id": "0fbeb06c",
   "metadata": {},
   "source": [
    "## Вывод"
   ]
  },
  {
   "cell_type": "markdown",
   "id": "4a4a87a7",
   "metadata": {},
   "source": [
    "Согласно проведенному исследованию все рассмотренные факторы влияют на возврат кредита в срок.\\\n",
    "В данном случае **надежным заемщиком будет** вдовец/вдова, без детей, с доходом от 30000 до 50000,цель займа у которого операции с недвижимостью.\\\n",
    "**Рискованным клиентом будет**, заемщик в статусе не женат / не замужем или состоящий в гражданском браке, с наличием детей, доходом ниже 30000,целью, которого являются операции с автомобилем.\\\n",
    "Однако, если учитывать общее количество заемщиков в каждой категории, то **заемщик** в статусе женат / замужем,без детей, с доходом 200001–1000000,чья цель кредитования - недвижимость, будет встречаться гораздо **чаще и исправно гасить долг.**"
   ]
  }
 ],
 "metadata": {
  "hide_input": false,
  "kernelspec": {
   "display_name": "Python 3 (ipykernel)",
   "language": "python",
   "name": "python3"
  },
  "language_info": {
   "codemirror_mode": {
    "name": "ipython",
    "version": 3
   },
   "file_extension": ".py",
   "mimetype": "text/x-python",
   "name": "python",
   "nbconvert_exporter": "python",
   "pygments_lexer": "ipython3",
   "version": "3.9.13"
  },
  "toc": {
   "base_numbering": 1,
   "nav_menu": {},
   "number_sections": true,
   "sideBar": true,
   "skip_h1_title": true,
   "title_cell": "Содержание",
   "title_sidebar": "Contents",
   "toc_cell": true,
   "toc_position": {},
   "toc_section_display": true,
   "toc_window_display": false
  }
 },
 "nbformat": 4,
 "nbformat_minor": 5
}
